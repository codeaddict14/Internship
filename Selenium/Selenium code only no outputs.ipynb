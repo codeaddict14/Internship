{
 "cells": [
  {
   "cell_type": "markdown",
   "id": "ffb8bb02",
   "metadata": {},
   "source": [
    "## Q:2 Scraping data for “Data Scientist” in “Bangalore” from Naukri.com \n",
    "You have to scrape the job-title, job-location, company_name, full job-description."
   ]
  },
  {
   "cell_type": "code",
   "execution_count": null,
   "id": "8bd21a3e",
   "metadata": {},
   "outputs": [],
   "source": [
    "#Importing the required liberaries\n",
    "import selenium\n",
    "import pandas as pd\n",
    "from selenium import webdriver\n",
    "from selenium.common.exceptions import NoSuchElementException,StaleElementReferenceException\n",
    "import time"
   ]
  },
  {
   "cell_type": "code",
   "execution_count": null,
   "id": "7c0c94d1",
   "metadata": {},
   "outputs": [],
   "source": [
    "#connecting with the driver\n",
    "driver=webdriver.Chrome(r\"C:\\Users\\MICROSOFT\\Downloads\\chromedriver_win32\\chromedriver.exe\")"
   ]
  },
  {
   "cell_type": "code",
   "execution_count": null,
   "id": "ffae6b38",
   "metadata": {},
   "outputs": [],
   "source": [
    "#loading the web driver\n",
    "driver.get(\"https://www.naukri.com/\")"
   ]
  },
  {
   "cell_type": "code",
   "execution_count": null,
   "id": "2d49d6c4",
   "metadata": {},
   "outputs": [],
   "source": [
    "# searching job and inserting a keyword \"data scientist in it\"\n",
    "search_job=driver.find_element_by_id(\"qsb-keyword-sugg\")\n",
    "search_job.send_keys(\"Data Scientist\")\n",
    "# inserting location \"bangalore\" at the location\n",
    "search_loc=driver.find_element_by_id(\"qsb-location-sugg\")\n",
    "search_loc.send_keys(\"Bangalore\")\n",
    "#searching the job with the inserted location and inserted designation\n",
    "search_btn=driver.find_element_by_xpath(\"//div[@class='search-btn']/button\")\n",
    "search_btn.click()"
   ]
  },
  {
   "cell_type": "code",
   "execution_count": null,
   "id": "160dffdc",
   "metadata": {},
   "outputs": [],
   "source": [
    "# grabing the title of the job \n",
    "title=[]#empty list\n",
    "titles=driver.find_elements_by_xpath(\"//a[@class='title fw500 ellipsis']\")    \n",
    "for i in titles:\n",
    "    title.append(i.text)\n",
    "title"
   ]
  },
  {
   "cell_type": "code",
   "execution_count": null,
   "id": "6736f2c2",
   "metadata": {},
   "outputs": [],
   "source": [
    "#grabing the company of the job\n",
    "company=[]   #empty list to append the text\n",
    "comp=driver.find_elements_by_xpath(\"//a[@class='subTitle ellipsis fleft']\")\n",
    "for i in comp:\n",
    "    company.append(i.text)\n",
    "company"
   ]
  },
  {
   "cell_type": "code",
   "execution_count": null,
   "id": "895adbdd",
   "metadata": {},
   "outputs": [],
   "source": [
    "#grabing the location of the job\n",
    "loc=[]  #empty list to append the text\n",
    "loca=driver.find_elements_by_xpath(\"//li[@class='fleft grey-text br2 placeHolderLi location']/span[1]\")\n",
    "\n",
    "for i in loca:\n",
    "    loc.append(i.text)\n",
    "\n",
    "loc"
   ]
  },
  {
   "cell_type": "code",
   "execution_count": null,
   "id": "8b17f3d9",
   "metadata": {},
   "outputs": [],
   "source": [
    "#grabing the url of the given job titles so as to fetch job description\n",
    "url=driver.find_elements_by_xpath(\"//a[@class='title fw500 ellipsis']\")\n",
    "\n",
    "urls=[]   #empty list\n",
    "for i in url:\n",
    "    urls.append(i.get_attribute(\"href\"))"
   ]
  },
  {
   "cell_type": "code",
   "execution_count": null,
   "id": "34f6e8e9",
   "metadata": {},
   "outputs": [],
   "source": [
    "urls"
   ]
  },
  {
   "cell_type": "code",
   "execution_count": null,
   "id": "cbc5b2aa",
   "metadata": {},
   "outputs": [],
   "source": [
    "desp=[]  #empty list"
   ]
  },
  {
   "cell_type": "code",
   "execution_count": null,
   "id": "8b510ede",
   "metadata": {},
   "outputs": [],
   "source": [
    "#grabing the short description from each of the url\n",
    "for i in urls:\n",
    "    driver.get(i)\n",
    "    try:\n",
    "        des=driver.find_element_by_xpath(\"//section[@class='job-desc']/div\")\n",
    "        desp.append(des.text)\n",
    "    except:\n",
    "        desp.append('-')"
   ]
  },
  {
   "cell_type": "code",
   "execution_count": null,
   "id": "e248fba7",
   "metadata": {},
   "outputs": [],
   "source": [
    "desp"
   ]
  },
  {
   "cell_type": "code",
   "execution_count": null,
   "id": "9b8a2f42",
   "metadata": {},
   "outputs": [],
   "source": [
    "len(desp)"
   ]
  },
  {
   "cell_type": "code",
   "execution_count": null,
   "id": "15d2aba8",
   "metadata": {},
   "outputs": [],
   "source": [
    "print(len(title),len(company),len(loc),len(desp)) #length of each variable is equal"
   ]
  },
  {
   "cell_type": "code",
   "execution_count": null,
   "id": "8ffc04a2",
   "metadata": {},
   "outputs": [],
   "source": [
    "job=pd.DataFrame({})#creatinga dataframe and appending each of the extarcted element in the dataframe\n",
    "job[\"Title\"]=title\n",
    "job[\"Company Name\"]=company\n",
    "job[\"location\"]=loc\n",
    "job[\"Descreption\"]=desp\n",
    "job"
   ]
  },
  {
   "cell_type": "markdown",
   "id": "387b5933",
   "metadata": {},
   "source": [
    "## Q:4 Scraping data for Data scientist  in Noida from Glassdoor\n",
    "company_name, No. of days ago when job was posted, Rating of the company."
   ]
  },
  {
   "cell_type": "code",
   "execution_count": null,
   "id": "bffeb9be",
   "metadata": {},
   "outputs": [],
   "source": [
    "#connecting with the driver\n",
    "driver=webdriver.Chrome(r\"C:\\Users\\MICROSOFT\\Downloads\\chromedriver_win32\\chromedriver.exe\")"
   ]
  },
  {
   "cell_type": "code",
   "execution_count": null,
   "id": "3a8d862e",
   "metadata": {},
   "outputs": [],
   "source": [
    "#loading the driver\n",
    "driver.get(\"https://www.glassdoor.co.in/member/home/index.htm\")"
   ]
  },
  {
   "cell_type": "code",
   "execution_count": null,
   "id": "7c79dd79",
   "metadata": {},
   "outputs": [],
   "source": [
    "# searching job and inserting a keyword \"data scientist in it\"\n",
    "search_job=driver.find_element_by_xpath(\"//input[@class='css-1etjok6']\")\n",
    "search_job.send_keys(\"Data Scientist\")\n"
   ]
  },
  {
   "cell_type": "code",
   "execution_count": null,
   "id": "26891458",
   "metadata": {},
   "outputs": [],
   "source": [
    "from selenium.webdriver.common.keys import Keys\n",
    "# inserting location \"Noida\" at the location\n",
    "search_loc=driver.find_element_by_xpath(\"//input[@id='sc.location']\")\n",
    "search_loc.send_keys(Keys.CONTROL + \"a\") #to delete the default value in the location space\n",
    "search_loc.send_keys(\"Noida\")#putting up the location Noida in the location space\n"
   ]
  },
  {
   "cell_type": "code",
   "execution_count": null,
   "id": "49d57a2e",
   "metadata": {},
   "outputs": [],
   "source": [
    "#searching the job with the inserted location and inserted designation\n",
    "search_btn=driver.find_element_by_xpath(\"//span[@class='css-8zxfjs']\")\n",
    "search_btn.click()\n"
   ]
  },
  {
   "cell_type": "code",
   "execution_count": null,
   "id": "e794e3b5",
   "metadata": {},
   "outputs": [],
   "source": [
    "name=[] #empty list for name of the company\n",
    "na=driver.find_elements_by_xpath(\"//a[@class=' job-search-key-l2wjgv e1n63ojh0 jobLink']/span\") #name of the company\n",
    "for i in na:\n",
    "    name.append(i.text) #appending the data in the empty list\n",
    "name"
   ]
  },
  {
   "cell_type": "code",
   "execution_count": null,
   "id": "becd2ecd",
   "metadata": {},
   "outputs": [],
   "source": [
    "days=[] #empty list\n",
    "da=driver.find_elements_by_xpath(\"//div[@class='d-flex align-items-end pl-std css-17n8uzw']\") #how many days ago it was posted\n",
    "for i in da:\n",
    "    days.append(i.text)  #appending it in a empty list\n",
    "days"
   ]
  },
  {
   "cell_type": "code",
   "execution_count": null,
   "id": "f6b6e627",
   "metadata": {},
   "outputs": [],
   "source": [
    "rating=[] #empty list to fetch the rating\n",
    "ra=driver.find_elements_by_xpath(\"//div[@class='d-flex flex-column job-search-key-1pzmdmc e1rrn5ka1']\")\n",
    "ra #tags for ratings\n"
   ]
  },
  {
   "cell_type": "code",
   "execution_count": null,
   "id": "ae9b322c",
   "metadata": {},
   "outputs": [],
   "source": [
    "for i in ra:\n",
    "    if i.text is None:           #some of the ratings are not given so appending empty spaces to it.\n",
    "        rating.append(\"--\")\n",
    "    else:\n",
    "        rating.append(i.text)\n",
    "rating"
   ]
  },
  {
   "cell_type": "code",
   "execution_count": null,
   "id": "116b0363",
   "metadata": {},
   "outputs": [],
   "source": [
    "job1=pd.DataFrame({})  #creating a dataframe to append the above extracted data\n",
    "job1[\"Company Name\"]=name\n",
    "job1[\"Days it was posted\"]=days\n",
    "job1[\"Rating\"]=rating\n",
    "job1                       #representation of the data"
   ]
  },
  {
   "cell_type": "markdown",
   "id": "2a9581d5",
   "metadata": {},
   "source": [
    "## Q:5 Scraping the salary data for Data Scientist in Noida from Glassdoor\n",
    "Company name, Number of salaries, Average salary, Min salary, Max Salary."
   ]
  },
  {
   "cell_type": "code",
   "execution_count": null,
   "id": "5e4d2823",
   "metadata": {},
   "outputs": [],
   "source": [
    "#connecting with the driver\n",
    "driver=webdriver.Chrome(r\"C:\\Users\\MICROSOFT\\Downloads\\chromedriver_win32\\chromedriver.exe\")"
   ]
  },
  {
   "cell_type": "code",
   "execution_count": null,
   "id": "3b2b9e00",
   "metadata": {},
   "outputs": [],
   "source": [
    "#loading the glassdoor in the driver\n",
    "driver.get(\"https://www.glassdoor.co.in/Salaries/index.htm\")"
   ]
  },
  {
   "cell_type": "code",
   "execution_count": null,
   "id": "464127ef",
   "metadata": {},
   "outputs": [],
   "source": [
    "#entering the data scientist keyword\n",
    "search_title=driver.find_element_by_id(\"KeywordSearch\")\n",
    "search_title.send_keys(\"Data Scientist\")"
   ]
  },
  {
   "cell_type": "code",
   "execution_count": null,
   "id": "be6b2241",
   "metadata": {},
   "outputs": [],
   "source": [
    "#deleting the default value for the location and entering Noida location\n",
    "search_loc1=driver.find_element_by_id(\"LocationSearch\")\n",
    "search_loc1.send_keys(Keys.CONTROL + \"a\")\n",
    "search_loc1.send_keys(\"Noida\")\n"
   ]
  },
  {
   "cell_type": "code",
   "execution_count": null,
   "id": "b3599bab",
   "metadata": {},
   "outputs": [],
   "source": [
    "#clicking on search keyword\n",
    "btn=driver.find_element_by_id(\"HeroSearchButton\")\n",
    "btn.click()"
   ]
  },
  {
   "cell_type": "code",
   "execution_count": null,
   "id": "fec116d0",
   "metadata": {},
   "outputs": [],
   "source": [
    "tit=driver.find_elements_by_xpath(\"//a[@class='css-f3vw95 e1aj7ssy3']\") #extracting the name of the company\n",
    "title=[] #creating empty list to append the names of the company\n",
    "for i in tit:\n",
    "    title.append(i.text)\n",
    "title"
   ]
  },
  {
   "cell_type": "code",
   "execution_count": null,
   "id": "78068ef7",
   "metadata": {},
   "outputs": [],
   "source": [
    "salary=[]   #empty list for the no. of salary\n",
    "no=driver.find_elements_by_xpath(\"//div[@class='col-12 col-lg-auto']/span\")\n",
    "for i in no:\n",
    "    salary.append(i.text)  #appending the salaries number in the list\n",
    "salary"
   ]
  },
  {
   "cell_type": "code",
   "execution_count": null,
   "id": "5cf56838",
   "metadata": {},
   "outputs": [],
   "source": [
    "avg=driver.find_elements_by_xpath(\"//div[@class='col-12 col-lg-4 px-lg-0 d-flex align-items-baseline']/h3\")#finding elements\n",
    "average=[] #empty list for the average salary\n",
    "for i in avg:\n",
    "    average.append(i.text) #appending the average salaries into the list\n",
    "average"
   ]
  },
  {
   "cell_type": "code",
   "execution_count": null,
   "id": "dd03e3bb",
   "metadata": {},
   "outputs": [],
   "source": [
    "miu=driver.find_elements_by_xpath(\"//div[@class='d-flex mt-xxsm css-79elbk epuxyqn0']/p[1]\")\n",
    "miu  #tags for finding the minimum salary"
   ]
  },
  {
   "cell_type": "code",
   "execution_count": null,
   "id": "3437eb1f",
   "metadata": {},
   "outputs": [],
   "source": [
    "minuy=[] #empty list for appending the minimum salary\n",
    "for i in miu:\n",
    "    minuy.append(i.text.replace(\"\\n\",\" \"))\n",
    "minuy"
   ]
  },
  {
   "cell_type": "code",
   "execution_count": null,
   "id": "b6d46895",
   "metadata": {},
   "outputs": [],
   "source": [
    "hig=driver.find_elements_by_xpath(\"//div[@class='d-flex mt-xxsm css-79elbk epuxyqn0']/p[2]\")\n",
    "hig #tags for searching the highest salary"
   ]
  },
  {
   "cell_type": "code",
   "execution_count": null,
   "id": "e26bfe23",
   "metadata": {},
   "outputs": [],
   "source": [
    "high=[] #empty list for appending the highest salary\n",
    "for i in hig:\n",
    "    high.append(i.text)\n",
    "high"
   ]
  },
  {
   "cell_type": "code",
   "execution_count": null,
   "id": "dc793bc1",
   "metadata": {},
   "outputs": [],
   "source": [
    "print(len(title),len(salary),len(avg),len(minuy),len(high))"
   ]
  },
  {
   "cell_type": "code",
   "execution_count": null,
   "id": "03a6ae83",
   "metadata": {},
   "outputs": [],
   "source": [
    "job2=pd.DataFrame({})  #creating an empty dataframe to append the above extracted data\n",
    "job2[\"Title\"]=title\n",
    "job2[\"No. of salaries\"]=salary\n",
    "job2[\"Avg salary\"]=average\n",
    "job2[\"Min salary\"]=minuy\n",
    "job2[\"Max salary\"]=high\n",
    "job2"
   ]
  },
  {
   "cell_type": "markdown",
   "id": "56f7573b",
   "metadata": {},
   "source": [
    "##  Q:6 Scrape data of first 100 sunglasses Flipkart.com.\n",
    " Brand, Product Description, Price, Discount %"
   ]
  },
  {
   "cell_type": "code",
   "execution_count": null,
   "id": "853e4833",
   "metadata": {},
   "outputs": [],
   "source": [
    "#connecting with the driver\n",
    "driver=webdriver.Chrome(r\"C:\\Users\\MICROSOFT\\Downloads\\chromedriver_win32\\chromedriver.exe\")"
   ]
  },
  {
   "cell_type": "code",
   "execution_count": null,
   "id": "b5f2467f",
   "metadata": {},
   "outputs": [],
   "source": [
    "#loading the site\n",
    "driver.get(\"https://www.flipkart.com/\")"
   ]
  },
  {
   "cell_type": "code",
   "execution_count": null,
   "id": "ed5bd7f8",
   "metadata": {},
   "outputs": [],
   "source": [
    "#entering the sunglasses keyword in search feild\n",
    "text=driver.find_element_by_xpath(\"//input[@class='_3704LK']\")\n",
    "text.send_keys(\"sunglasses\")"
   ]
  },
  {
   "cell_type": "code",
   "execution_count": null,
   "id": "e349d1f4",
   "metadata": {},
   "outputs": [],
   "source": [
    "#clicking on search button\n",
    "bo=driver.find_element_by_xpath(\"//button[@class='L0Z3Pu']\")\n",
    "bo.click()"
   ]
  },
  {
   "cell_type": "code",
   "execution_count": null,
   "id": "ff38435b",
   "metadata": {},
   "outputs": [],
   "source": [
    "namesun=[] #empty list\n",
    "def func():   #creating a function to extact name of sunglasses from each page\n",
    "    ni=driver.find_elements_by_xpath(\"//div[@class='_2WkVRV']\")\n",
    "    for i in ni:\n",
    "        namesun.append(i.text)\n",
    "    return(namesun)\n",
    "    "
   ]
  },
  {
   "cell_type": "code",
   "execution_count": null,
   "id": "98293759",
   "metadata": {},
   "outputs": [],
   "source": [
    "func()#calling the function"
   ]
  },
  {
   "cell_type": "code",
   "execution_count": null,
   "id": "f7d7ea47",
   "metadata": {},
   "outputs": [],
   "source": [
    "len(namesun)"
   ]
  },
  {
   "cell_type": "code",
   "execution_count": null,
   "id": "4df48202",
   "metadata": {},
   "outputs": [],
   "source": [
    "shortdesp=[] #empty list\n",
    "def func1(): #function created to append the short description of the product\n",
    "    s=driver.find_elements_by_xpath(\"//a[@class='IRpwTa']\")\n",
    "    for i in s:\n",
    "        if i.text is None:\n",
    "            shortdesp.append(\"--\")\n",
    "        else:\n",
    "            shortdesp.append(i.text)\n",
    "    return(shortdesp)\n",
    "\n"
   ]
  },
  {
   "cell_type": "code",
   "execution_count": null,
   "id": "57614c6d",
   "metadata": {},
   "outputs": [],
   "source": [
    "func1()#calling the function"
   ]
  },
  {
   "cell_type": "code",
   "execution_count": null,
   "id": "d5e732d1",
   "metadata": {},
   "outputs": [],
   "source": [
    "len(shortdesp)"
   ]
  },
  {
   "cell_type": "code",
   "execution_count": null,
   "id": "b8a035d7",
   "metadata": {},
   "outputs": [],
   "source": [
    "price1=[] #empty list\n",
    "def func2(): #creating a function to get the price of each item listed on the site\n",
    "    p=driver.find_elements_by_xpath(\"//div[@class='_30jeq3']\")\n",
    "    for i in p:\n",
    "        price1.append(i.text)\n",
    "    return(price1)\n",
    "        \n"
   ]
  },
  {
   "cell_type": "code",
   "execution_count": null,
   "id": "4963dc0e",
   "metadata": {},
   "outputs": [],
   "source": [
    "func2()"
   ]
  },
  {
   "cell_type": "code",
   "execution_count": null,
   "id": "ffba8683",
   "metadata": {},
   "outputs": [],
   "source": [
    "urls=[] #empty list extarcting the urls of each item listed on the site to extract the discount on each item\n",
    "def func3():\n",
    "    url=driver.find_elements_by_xpath(\"//a[@class='_2UzuFa']\")\n",
    "    for i in url:\n",
    "        urls.append(i.get_attribute(\"href\"))\n",
    "    return(urls)"
   ]
  },
  {
   "cell_type": "code",
   "execution_count": null,
   "id": "b8a02326",
   "metadata": {},
   "outputs": [],
   "source": [
    "func3()"
   ]
  },
  {
   "cell_type": "code",
   "execution_count": null,
   "id": "c03efe9b",
   "metadata": {},
   "outputs": [],
   "source": [
    "discount=[] #empty list to store the discount\n",
    "def func4():\n",
    "    for i in urls: #iterating through each url so as to extract the discount for each item.\n",
    "        driver.get(i)\n",
    "        try:\n",
    "            d=driver.find_element_by_xpath(\"//div[@class='_3Ay6Sb _31Dcoz pZkvcx']/span\")\n",
    "            discount.append(d.text)\n",
    "        except:\n",
    "            discount.append(\"no discount\")\n",
    "    return(discount)\n"
   ]
  },
  {
   "cell_type": "code",
   "execution_count": null,
   "id": "19f1113e",
   "metadata": {},
   "outputs": [],
   "source": [
    "#clicking on the next button\n",
    "nxt=driver.find_element_by_xpath(\"//a[@class='_1LKTO3']\")\n",
    "nxt.click()"
   ]
  },
  {
   "cell_type": "code",
   "execution_count": null,
   "id": "396eb709",
   "metadata": {},
   "outputs": [],
   "source": [
    "func()#calling of function of name of sungalsses to append 2nd page sunglasses in it"
   ]
  },
  {
   "cell_type": "code",
   "execution_count": null,
   "id": "aa5db14d",
   "metadata": {},
   "outputs": [],
   "source": [
    "func1()#calling the short description to append 2nd page data"
   ]
  },
  {
   "cell_type": "code",
   "execution_count": null,
   "id": "ce29d016",
   "metadata": {},
   "outputs": [],
   "source": [
    "len(shortdesp)"
   ]
  },
  {
   "cell_type": "code",
   "execution_count": null,
   "id": "cdc91da1",
   "metadata": {},
   "outputs": [],
   "source": [
    "func2()#calling the price function to append 2nd page data"
   ]
  },
  {
   "cell_type": "code",
   "execution_count": null,
   "id": "1e2ecb55",
   "metadata": {},
   "outputs": [],
   "source": [
    "func3()   #calling urls function to append urls"
   ]
  },
  {
   "cell_type": "code",
   "execution_count": null,
   "id": "7e9398ac",
   "metadata": {},
   "outputs": [],
   "source": [
    "len(urls)"
   ]
  },
  {
   "cell_type": "code",
   "execution_count": null,
   "id": "feb60c9f",
   "metadata": {},
   "outputs": [],
   "source": [
    "#clicking on the next page\n",
    "we=driver.find_element_by_xpath(\"//nav[@class='yFHi8N']/a[4]\")\n",
    "we.click()"
   ]
  },
  {
   "cell_type": "code",
   "execution_count": null,
   "id": "6aab9dc5",
   "metadata": {},
   "outputs": [],
   "source": [
    "func()# calling functions to append data"
   ]
  },
  {
   "cell_type": "code",
   "execution_count": null,
   "id": "1d53a099",
   "metadata": {},
   "outputs": [],
   "source": [
    "func1() #short descrption function"
   ]
  },
  {
   "cell_type": "code",
   "execution_count": null,
   "id": "98be4a30",
   "metadata": {},
   "outputs": [],
   "source": [
    "func2() #price function"
   ]
  },
  {
   "cell_type": "code",
   "execution_count": null,
   "id": "3a889ff8",
   "metadata": {},
   "outputs": [],
   "source": [
    "func3()  #url function"
   ]
  },
  {
   "cell_type": "code",
   "execution_count": null,
   "id": "0e521129",
   "metadata": {},
   "outputs": [],
   "source": [
    "len(urls)"
   ]
  },
  {
   "cell_type": "code",
   "execution_count": null,
   "id": "327105d5",
   "metadata": {},
   "outputs": [],
   "source": [
    "func4()  #discount function"
   ]
  },
  {
   "cell_type": "code",
   "execution_count": null,
   "id": "a33e9e34",
   "metadata": {},
   "outputs": [],
   "source": [
    "len(discount)"
   ]
  },
  {
   "cell_type": "code",
   "execution_count": null,
   "id": "cb418877",
   "metadata": {},
   "outputs": [],
   "source": [
    "job3=pd.DataFrame({}) #creating datafarme and appending it in a format.\n",
    "job3[\"Title\"]=namesun[0:100]\n",
    "job3[\"Short Description\"]=shortdesp[0:100]\n",
    "job3[\"Price\"]=price1[0:100]\n",
    "job3[\"Discount\"]=discount[0:100]\n",
    "job3"
   ]
  },
  {
   "cell_type": "code",
   "execution_count": null,
   "id": "44d4e1ad",
   "metadata": {},
   "outputs": [],
   "source": [
    "job3.to_csv(\"sunglasses.csv\")  #converting the file into csv format"
   ]
  },
  {
   "cell_type": "markdown",
   "id": "a50f3492",
   "metadata": {},
   "source": [
    "## Q:7 Scrape 100 reviews data from flipkart.com for iphone11 phone.\n",
    "scrape the rating,short description,long description"
   ]
  },
  {
   "cell_type": "code",
   "execution_count": null,
   "id": "4fe9ea9d",
   "metadata": {},
   "outputs": [],
   "source": [
    "#connecting the web driver\n",
    "driver=webdriver.Chrome(r\"C:\\Users\\MICROSOFT\\Downloads\\chromedriver_win32\\chromedriver.exe\")"
   ]
  },
  {
   "cell_type": "code",
   "execution_count": null,
   "id": "20072afb",
   "metadata": {},
   "outputs": [],
   "source": [
    "#loading the web page\n",
    "driver.get(\" https://www.flipkart.com/apple-iphone-11-black-64-gb-includes\u0002earpods-power\u0002adapter/p/itm0f37c2240b217?pid=MOBFKCTSVZAXUHGR&lid=LSTMOBFKC\")"
   ]
  },
  {
   "cell_type": "code",
   "execution_count": null,
   "id": "29d00573",
   "metadata": {},
   "outputs": [],
   "source": [
    "#clicking on the \"all review button\"\n",
    "re=driver.find_element_by_xpath(\"//div[@class='_3UAT2v _16PBlm']/span\")\n",
    "re.click()"
   ]
  },
  {
   "cell_type": "code",
   "execution_count": null,
   "id": "898bcce6",
   "metadata": {},
   "outputs": [],
   "source": [
    "#extracting rating given by digg.customers and appending it in list and creatinga function\n",
    "rating2=[]\n",
    "def rati():\n",
    "    ra=driver.find_elements_by_xpath(\"//div[@class='_3LWZlK _1BLPMq' or @class='_3LWZlK _1rdVr6 _1BLPMq']\")\n",
    "    for i in ra:\n",
    "        rating2.append(i.text)\n",
    "    return(rating2)"
   ]
  },
  {
   "cell_type": "code",
   "execution_count": null,
   "id": "0bc02c91",
   "metadata": {},
   "outputs": [],
   "source": [
    "rati() #calling the function for rating"
   ]
  },
  {
   "cell_type": "code",
   "execution_count": null,
   "id": "2050f33e",
   "metadata": {},
   "outputs": [],
   "source": [
    "reco=[]   #extracting short desprition in a list and appending it in a list and created a function\n",
    "def shou():\n",
    "    ru=driver.find_elements_by_xpath(\"//p[@class='_2-N8zT']\")\n",
    "    for i in ru:\n",
    "        reco.append(i.text)\n",
    "    return(reco)"
   ]
  },
  {
   "cell_type": "code",
   "execution_count": null,
   "id": "3a4506f6",
   "metadata": {},
   "outputs": [],
   "source": [
    "shou() #calling the function for short discription"
   ]
  },
  {
   "cell_type": "code",
   "execution_count": null,
   "id": "e17dbd84",
   "metadata": {},
   "outputs": [],
   "source": [
    "longf=[]   #extracting a long description in a list and creating a function\n",
    "def lon():\n",
    "    lo=driver.find_elements_by_xpath(\"//div[@class='t-ZTKy']\")\n",
    "    for i in lo:\n",
    "        longf.append(i.text)\n",
    "    return(longf)"
   ]
  },
  {
   "cell_type": "code",
   "execution_count": null,
   "id": "e57dd8a0",
   "metadata": {},
   "outputs": [],
   "source": [
    "lon()"
   ]
  },
  {
   "cell_type": "code",
   "execution_count": null,
   "id": "81c871cf",
   "metadata": {},
   "outputs": [],
   "source": [
    "nex=driver.find_element_by_xpath(\"//nav[@class='yFHi8N']/a[11]\") #clicking on next button reaching onto the second page\n",
    "nex.click() #as the tags for the next button on the second page changes"
   ]
  },
  {
   "cell_type": "code",
   "execution_count": null,
   "id": "f84a4f2e",
   "metadata": {},
   "outputs": [],
   "source": [
    "rati()#callings each function again to append 2nd page data"
   ]
  },
  {
   "cell_type": "code",
   "execution_count": null,
   "id": "de6e7ac8",
   "metadata": {},
   "outputs": [],
   "source": [
    "shou()"
   ]
  },
  {
   "cell_type": "code",
   "execution_count": null,
   "id": "f46352c4",
   "metadata": {},
   "outputs": [],
   "source": [
    "lon()"
   ]
  },
  {
   "cell_type": "code",
   "execution_count": null,
   "id": "bf19078f",
   "metadata": {},
   "outputs": [],
   "source": [
    "i=2            #here creating a loop to extract data from the furthur pages and appending them in the list\n",
    "while(i<18):\n",
    "    try:\n",
    "        driver.find_element_by_xpath(\"//nav[@class='yFHi8N']/a[12]\").click() #tags for the next button differs on 2nd page\n",
    "    except:\n",
    "        rati()\n",
    "        shou()\n",
    "        lon()\n",
    "    i=i+1"
   ]
  },
  {
   "cell_type": "code",
   "execution_count": null,
   "id": "99e59fae",
   "metadata": {},
   "outputs": [],
   "source": [
    "len(rating2) # appending data in the list"
   ]
  },
  {
   "cell_type": "code",
   "execution_count": null,
   "id": "127fb32d",
   "metadata": {},
   "outputs": [],
   "source": [
    "len(reco)  #appending data in the list"
   ]
  },
  {
   "cell_type": "code",
   "execution_count": null,
   "id": "a46db00d",
   "metadata": {},
   "outputs": [],
   "source": [
    "len(longf) #appending data in the list"
   ]
  },
  {
   "cell_type": "code",
   "execution_count": null,
   "id": "2434f56f",
   "metadata": {},
   "outputs": [],
   "source": [
    "jobr=pd.DataFrame({})    #creating a data frame and storing the data in each row aand colum.\n",
    "jobr[\"Rating\"]=rating2\n",
    "jobr[\"Short Review\"]=reco\n",
    "jobr[\"Long Review\"]=longf\n",
    "jobr\n",
    "     "
   ]
  },
  {
   "cell_type": "markdown",
   "id": "b2da3f10",
   "metadata": {},
   "source": [
    "## Q8: Scrape data for first 100 sneakers you Flipkart.com \n",
    "Brand, Product Description, Price, discount %"
   ]
  },
  {
   "cell_type": "code",
   "execution_count": null,
   "id": "a07b03a8",
   "metadata": {},
   "outputs": [],
   "source": [
    "#connecting with the driver\n",
    "driver=webdriver.Chrome(r\"C:\\Users\\MICROSOFT\\Downloads\\chromedriver_win32\\chromedriver.exe\")"
   ]
  },
  {
   "cell_type": "code",
   "execution_count": null,
   "id": "cf60b0b6",
   "metadata": {},
   "outputs": [],
   "source": [
    "#loading the web page\n",
    "driver.get(\"https://www.flipkart.com/\")"
   ]
  },
  {
   "cell_type": "code",
   "execution_count": null,
   "id": "6ede3c3c",
   "metadata": {},
   "outputs": [],
   "source": [
    "#entering the sneakers keyword in search box\n",
    "text=driver.find_element_by_xpath(\"//input[@class='_3704LK']\")\n",
    "text.send_keys(\"sneakers\")"
   ]
  },
  {
   "cell_type": "code",
   "execution_count": null,
   "id": "3a8cfd8b",
   "metadata": {},
   "outputs": [],
   "source": [
    "#clicking on search button\n",
    "bo=driver.find_element_by_xpath(\"//button[@class='L0Z3Pu']\")\n",
    "bo.click()"
   ]
  },
  {
   "cell_type": "code",
   "execution_count": null,
   "id": "ed12ab5f",
   "metadata": {},
   "outputs": [],
   "source": [
    "snename=[] #empty list\n",
    "def snekr1():\n",
    "    sne=driver.find_elements_by_xpath(\"//div[@class='_2WkVRV']\")\n",
    "    for i in sne:\n",
    "        snename.append(i.text)#extracting data from site the name of sneakers and making a function\n",
    "    return(snename)\n",
    "    "
   ]
  },
  {
   "cell_type": "code",
   "execution_count": null,
   "id": "853e49aa",
   "metadata": {},
   "outputs": [],
   "source": [
    "snekr1() #calling the function to extract page 1 data"
   ]
  },
  {
   "cell_type": "code",
   "execution_count": null,
   "id": "3e1f96ae",
   "metadata": {},
   "outputs": [],
   "source": [
    "snesho=[] #empty list to append short description of the product\n",
    "def snekr2():\n",
    "    sneo=driver.find_elements_by_xpath(\"//a[@class='IRpwTa' or @class='IRpwTa _2-ICcC']\")\n",
    "    for i in sneo:\n",
    "        snesho.append(i.text)\n",
    "    return(snesho) "
   ]
  },
  {
   "cell_type": "code",
   "execution_count": null,
   "id": "8a241171",
   "metadata": {},
   "outputs": [],
   "source": [
    "snekr2()"
   ]
  },
  {
   "cell_type": "code",
   "execution_count": null,
   "id": "8161a51e",
   "metadata": {},
   "outputs": [],
   "source": [
    "snepr=[]  #price list to append the price of each sneaker\n",
    "def snekr3():\n",
    "    snr=driver.find_elements_by_xpath(\"//div[@class='_30jeq3']\")\n",
    "    for i in snr:\n",
    "        snepr.append(i.text)\n",
    "    return(snepr)"
   ]
  },
  {
   "cell_type": "code",
   "execution_count": null,
   "id": "55e45249",
   "metadata": {},
   "outputs": [],
   "source": [
    "snekr3()"
   ]
  },
  {
   "cell_type": "code",
   "execution_count": null,
   "id": "ec45c13b",
   "metadata": {},
   "outputs": [],
   "source": [
    "urls1=[]   #obtaining the url of each product to grab the discount and appending them in a list\n",
    "def snekr4():\n",
    "    url=driver.find_elements_by_xpath(\"//a[@class='_2UzuFa']\")\n",
    "    for i in url:\n",
    "        urls1.append(i.get_attribute(\"href\"))\n",
    "    return(urls1)"
   ]
  },
  {
   "cell_type": "code",
   "execution_count": null,
   "id": "5fbde304",
   "metadata": {},
   "outputs": [],
   "source": [
    "snekr4()"
   ]
  },
  {
   "cell_type": "code",
   "execution_count": null,
   "id": "60100a0a",
   "metadata": {},
   "outputs": [],
   "source": [
    "discount1=[]   #extracting the discount from each url and appending them in the list.\n",
    "def snekr5():\n",
    "    for i in urls1:  #iterating through each url and extracting discount\n",
    "        driver.get(i)\n",
    "        try:\n",
    "            d=driver.find_element_by_xpath(\"//div[@class='_3Ay6Sb _31Dcoz pZkvcx']/span\")\n",
    "            discount1.append(d.text)\n",
    "        except:\n",
    "            discount1.append(\"no discount\")\n",
    "    return(discount1)\n"
   ]
  },
  {
   "cell_type": "code",
   "execution_count": null,
   "id": "f615535b",
   "metadata": {},
   "outputs": [],
   "source": [
    "#clicking on the next button\n",
    "nrt=driver.find_element_by_xpath(\"//a[@class='_1LKTO3']\")\n",
    "nrt.click()"
   ]
  },
  {
   "cell_type": "code",
   "execution_count": null,
   "id": "54909948",
   "metadata": {},
   "outputs": [],
   "source": [
    "snekr1()   #name of the sneakers"
   ]
  },
  {
   "cell_type": "code",
   "execution_count": null,
   "id": "9b62731d",
   "metadata": {},
   "outputs": [],
   "source": [
    "snekr2()  #short discrption"
   ]
  },
  {
   "cell_type": "code",
   "execution_count": null,
   "id": "3322130d",
   "metadata": {},
   "outputs": [],
   "source": [
    "snekr3()  #price of each sneakers"
   ]
  },
  {
   "cell_type": "code",
   "execution_count": null,
   "id": "fb6b7a2b",
   "metadata": {},
   "outputs": [],
   "source": [
    "snekr4()  #url of each sneakers"
   ]
  },
  {
   "cell_type": "code",
   "execution_count": null,
   "id": "eecf1314",
   "metadata": {},
   "outputs": [],
   "source": [
    "btr=driver.find_element_by_xpath(\"//nav[@class='yFHi8N']/a[4]\") #clicking the other button as the code for next button differ\n",
    "btr.click() #clicking on 3rd page url"
   ]
  },
  {
   "cell_type": "code",
   "execution_count": null,
   "id": "3be01a0d",
   "metadata": {},
   "outputs": [],
   "source": [
    "snekr1()#calling the functions"
   ]
  },
  {
   "cell_type": "code",
   "execution_count": null,
   "id": "87d05db4",
   "metadata": {},
   "outputs": [],
   "source": [
    "snekr2()   #short description of each sneakers"
   ]
  },
  {
   "cell_type": "code",
   "execution_count": null,
   "id": "6c9aa3bd",
   "metadata": {},
   "outputs": [],
   "source": [
    "snekr3()  #price of each discrption"
   ]
  },
  {
   "cell_type": "code",
   "execution_count": null,
   "id": "27650cff",
   "metadata": {},
   "outputs": [],
   "source": [
    "snekr4()  #url of each sneaker"
   ]
  },
  {
   "cell_type": "code",
   "execution_count": null,
   "id": "3a7500ee",
   "metadata": {},
   "outputs": [],
   "source": [
    "snekr5()   #discount of each sneaker"
   ]
  },
  {
   "cell_type": "code",
   "execution_count": null,
   "id": "62c95e26",
   "metadata": {},
   "outputs": [],
   "source": [
    "job7=pd.DataFrame({}) #creating the dataframe to append data in the frame.\n",
    "job7[\"Name\"]=snename[0:100]\n",
    "job7[\"Short Des\"]=snesho[0:100]\n",
    "job7[\"Price\"]=snepr[0:100]\n",
    "job7[\"Discount\"]=discount1[0:100]\n",
    "job7"
   ]
  },
  {
   "cell_type": "code",
   "execution_count": null,
   "id": "8cb05f9a",
   "metadata": {},
   "outputs": [],
   "source": [
    "job7.to_csv(\"sneakers.csv\")  #saving it into csv format"
   ]
  },
  {
   "cell_type": "markdown",
   "id": "5391a130",
   "metadata": {},
   "source": [
    "## Q:9  Scrape Myntra.com/shoes Set Price filter to “Rs. 6649 to Rs. 13099” , Color filter to “Black” \n",
    "extract name,price"
   ]
  },
  {
   "cell_type": "code",
   "execution_count": null,
   "id": "4aa6a931",
   "metadata": {},
   "outputs": [],
   "source": [
    "#connecting the driver\n",
    "driver=webdriver.Chrome(r\"C:\\Users\\MICROSOFT\\Downloads\\chromedriver_win32\\chromedriver.exe\")"
   ]
  },
  {
   "cell_type": "code",
   "execution_count": null,
   "id": "48d565a3",
   "metadata": {},
   "outputs": [],
   "source": [
    "#loading webpage\n",
    "driver.get(\"https://www.myntra.com/shoes\")"
   ]
  },
  {
   "cell_type": "code",
   "execution_count": null,
   "id": "134b9e8a",
   "metadata": {},
   "outputs": [],
   "source": [
    "#set the filter of price\n",
    "setd=driver.find_element_by_xpath(\"//label[text()='Rs. 6897 to Rs. 13595']\")\n",
    "setd.click()"
   ]
  },
  {
   "cell_type": "code",
   "execution_count": null,
   "id": "c7a440a8",
   "metadata": {},
   "outputs": [],
   "source": [
    "#set the color filter \n",
    "set1=driver.find_element_by_xpath(\"//label[text()='Black']\")\n",
    "set1.click()"
   ]
  },
  {
   "cell_type": "code",
   "execution_count": null,
   "id": "067a4492",
   "metadata": {},
   "outputs": [],
   "source": [
    "myntname=[] #empty list to append the name of the shoes\n",
    "def mynt():\n",
    "    g=driver.find_elements_by_xpath(\"//h3[@class='product-brand']\")\n",
    "    for i in g:\n",
    "        myntname.append(i.text)\n",
    "    return(myntname)"
   ]
  },
  {
   "cell_type": "code",
   "execution_count": null,
   "id": "8e7b017e",
   "metadata": {},
   "outputs": [],
   "source": [
    "myntsho=[]\n",
    "def mynt1(): #creating list and function to append the short description of the shoes\n",
    "    f=driver.find_elements_by_xpath(\"//div[@class='product-productMetaInfo']/h4[1]\")\n",
    "    for i in f:\n",
    "        myntsho.append(i.text)\n",
    "    return(myntsho)\n",
    "       "
   ]
  },
  {
   "cell_type": "code",
   "execution_count": null,
   "id": "30f306a1",
   "metadata": {},
   "outputs": [],
   "source": [
    "mynt1()"
   ]
  },
  {
   "cell_type": "code",
   "execution_count": null,
   "id": "7edfe189",
   "metadata": {},
   "outputs": [],
   "source": [
    "len(myntsho)"
   ]
  },
  {
   "cell_type": "code",
   "execution_count": null,
   "id": "6b3a78b6",
   "metadata": {},
   "outputs": [],
   "source": [
    "url3=[]  #creating an empty list to append all the urls of teh given articles on the web page so as to extract price.\n",
    "def mynt3():\n",
    "    urls=driver.find_elements_by_xpath(\"//li[@class='product-base']/a\")\n",
    "    for i in urls:\n",
    "        url3.append(i.get_attribute(\"href\"))\n",
    "    return(url3)"
   ]
  },
  {
   "cell_type": "code",
   "execution_count": null,
   "id": "c6a3afd8",
   "metadata": {},
   "outputs": [],
   "source": [
    "myntpr=[]\n",
    "def mynt4():\n",
    "    for i in url3:\n",
    "        driver.get(i) #from each url extracting the price of each product and saving it in the empty list cretaed for price.\n",
    "        try:\n",
    "            w=driver.find_element_by_xpath(\"//span[@class='pdp-price']/strong\")\n",
    "            myntpr.append(w.text)\n",
    "        except:\n",
    "            myntpr.append(\"--\")\n",
    "    return(myntpr)"
   ]
  },
  {
   "cell_type": "code",
   "execution_count": null,
   "id": "ffe26eb1",
   "metadata": {},
   "outputs": [],
   "source": [
    "mynt3()   #function created for the url"
   ]
  },
  {
   "cell_type": "code",
   "execution_count": null,
   "id": "967d3f40",
   "metadata": {},
   "outputs": [],
   "source": [
    "len(url3)"
   ]
  },
  {
   "cell_type": "code",
   "execution_count": null,
   "id": "b1c919bd",
   "metadata": {},
   "outputs": [],
   "source": [
    "mynt()  #function called to append the name of shoes"
   ]
  },
  {
   "cell_type": "code",
   "execution_count": null,
   "id": "30bb3768",
   "metadata": {},
   "outputs": [],
   "source": [
    "len(myntname)"
   ]
  },
  {
   "cell_type": "code",
   "execution_count": null,
   "id": "cd0fb17d",
   "metadata": {},
   "outputs": [],
   "source": [
    "i=0      #looping over the different pages to extract data from each page\n",
    "while(i<=2):\n",
    "    try:\n",
    "        nxtbt=driver.find_element_by_xpath(\"//li[@class='pagination-next']/a\")\n",
    "        nxtbt.click()\n",
    "    except:\n",
    "        mynt()\n",
    "        mynt1()\n",
    "        mynt3()\n",
    "    i=i+1"
   ]
  },
  {
   "cell_type": "code",
   "execution_count": null,
   "id": "4089da42",
   "metadata": {},
   "outputs": [],
   "source": [
    "mynt()#calling functions"
   ]
  },
  {
   "cell_type": "code",
   "execution_count": null,
   "id": "dc5a9d9f",
   "metadata": {},
   "outputs": [],
   "source": [
    "mynt3()  #url function"
   ]
  },
  {
   "cell_type": "code",
   "execution_count": null,
   "id": "f1c74f41",
   "metadata": {},
   "outputs": [],
   "source": [
    "len(url3)"
   ]
  },
  {
   "cell_type": "code",
   "execution_count": null,
   "id": "cef27334",
   "metadata": {},
   "outputs": [],
   "source": [
    "mynt1()  #short description function"
   ]
  },
  {
   "cell_type": "code",
   "execution_count": null,
   "id": "d5f121f9",
   "metadata": {},
   "outputs": [],
   "source": [
    "mynt4()  #price function"
   ]
  },
  {
   "cell_type": "code",
   "execution_count": null,
   "id": "6ca5777f",
   "metadata": {},
   "outputs": [],
   "source": [
    "len(myntpr)"
   ]
  },
  {
   "cell_type": "code",
   "execution_count": null,
   "id": "e2f30217",
   "metadata": {},
   "outputs": [],
   "source": [
    "job8=pd.DataFrame({}) #creating a dataframe and fitting the data in a dataframe among different columns\n",
    "job8['Name']=myntname\n",
    "job8['Product']=myntsho\n",
    "job8['Price']=myntpr\n",
    "job8"
   ]
  },
  {
   "cell_type": "code",
   "execution_count": null,
   "id": "cd0dfdbd",
   "metadata": {},
   "outputs": [],
   "source": [
    "job8.to_csv(\"shoesmynt.csv\") #saving the file in the csv format"
   ]
  },
  {
   "cell_type": "markdown",
   "id": "d917b002",
   "metadata": {},
   "source": [
    "## Q:10 From Amazon.in scrape “Laptop” set filter to “Intel Core i7” and “Intel Core i9” extract name, rating, price."
   ]
  },
  {
   "cell_type": "code",
   "execution_count": null,
   "id": "13bc52e7",
   "metadata": {},
   "outputs": [],
   "source": [
    "#connecting with the driver\n",
    "driver=webdriver.Chrome(r\"C:\\Users\\MICROSOFT\\Downloads\\chromedriver_win32\\chromedriver.exe\")"
   ]
  },
  {
   "cell_type": "code",
   "execution_count": null,
   "id": "700dcbe2",
   "metadata": {},
   "outputs": [],
   "source": [
    "#loading the web page\n",
    "driver.get(\"https://www.amazon.in\")"
   ]
  },
  {
   "cell_type": "code",
   "execution_count": null,
   "id": "39b045e9",
   "metadata": {},
   "outputs": [],
   "source": [
    "#entering laptops in the search box\n",
    "text=driver.find_element_by_id(\"twotabsearchtextbox\")\n",
    "text.send_keys(\"laptops\")"
   ]
  },
  {
   "cell_type": "code",
   "execution_count": null,
   "id": "7efe8895",
   "metadata": {},
   "outputs": [],
   "source": [
    "#clicking on the search box\n",
    "bo=driver.find_element_by_id(\"nav-search-submit-button\")\n",
    "bo.click()"
   ]
  },
  {
   "cell_type": "code",
   "execution_count": null,
   "id": "063bf9da",
   "metadata": {},
   "outputs": [],
   "source": [
    "#setting up the filters\n",
    "fi=driver.find_elements_by_xpath(\"//a[@class='a-link-normal s-navigation-item']/span\")\n",
    "for i in fi:\n",
    "    if i.text=='Intel Core i7':\n",
    "        i.click()\n",
    "        break"
   ]
  },
  {
   "cell_type": "code",
   "execution_count": null,
   "id": "fdf827ab",
   "metadata": {},
   "outputs": [],
   "source": [
    "#setting up the filters\n",
    "fi=driver.find_elements_by_xpath(\"//a[@class='a-link-normal s-navigation-item']/span\")\n",
    "for j in fi:\n",
    "    if j.text=='Intel Core i9':\n",
    "        j.click()\n",
    "        break"
   ]
  },
  {
   "cell_type": "code",
   "execution_count": null,
   "id": "534007d1",
   "metadata": {},
   "outputs": [],
   "source": [
    "name=[] #empty list\n",
    "nam=driver.find_elements_by_xpath(\"//span[@class='a-size-medium a-color-base a-text-normal']\")\n",
    "for i in nam:            #appending the name of laptops in the list\n",
    "    name.append(i.text)\n",
    "name    "
   ]
  },
  {
   "cell_type": "code",
   "execution_count": null,
   "id": "cde8191c",
   "metadata": {},
   "outputs": [],
   "source": [
    "url=driver.find_elements_by_xpath(\"//h2[@class='a-size-mini a-spacing-none a-color-base s-line-clamp-2']/a\")\n",
    "\n",
    "urls=[]   #empty list\n",
    "for i in url:\n",
    "    urls.append(i.get_attribute(\"href\"))#extracing the urls of each laptops so as to extract rating.\n",
    "urls"
   ]
  },
  {
   "cell_type": "code",
   "execution_count": null,
   "id": "608bda27",
   "metadata": {},
   "outputs": [],
   "source": [
    "ra=[] #empty list for the rating\n",
    "for i in urls:\n",
    "    driver.get(i)\n",
    "    try:\n",
    "        e=driver.find_elements_by_xpath(\"//span[@class='a-size-medium a-color-base']\")\n",
    "        for j in e:\n",
    "            ra.append(j.text)        #extracting the rating form each urls\n",
    "    except:\n",
    "        ra.append(\"---\")\n",
    "\n",
    "ra"
   ]
  },
  {
   "cell_type": "code",
   "execution_count": null,
   "id": "f694a983",
   "metadata": {},
   "outputs": [],
   "source": [
    "pr=[]         #empty list to store price\n",
    "for i in  urls:\n",
    "    driver.get(i)\n",
    "    try:\n",
    "        d=driver.find_elements_by_xpath(\"//span[@id='priceblock_dealprice' or @id='priceblock_ourprice']\")\n",
    "        for j in d:\n",
    "            pr.append(j.text)  #extracting each price from each url\n",
    "    except:\n",
    "        pr.append(\"=\")\n",
    "\n",
    "pr\n",
    "        "
   ]
  },
  {
   "cell_type": "code",
   "execution_count": null,
   "id": "a58aa6cf",
   "metadata": {},
   "outputs": [],
   "source": [
    "job9=pd.DataFrame({})  #creating dataframe and representing the data extracted from the above in a format\n",
    "job9[\"Name\"]=name[0:10]   \n",
    "job9[\"Rating\"]=ra[0:10]\n",
    "job9[\"Price\"]=pr[0:10]\n",
    "job9"
   ]
  },
  {
   "cell_type": "markdown",
   "id": "352023d5",
   "metadata": {},
   "source": [
    "## Q:3 Scrapping data for “Data Scientist” designation from Naukri.com\n",
    "job-title, job-location, company_name,experience_required and filter to be used is “Delhi/NCR” & “3-6” lakhs"
   ]
  },
  {
   "cell_type": "code",
   "execution_count": null,
   "id": "491e5a78",
   "metadata": {},
   "outputs": [],
   "source": [
    "driver=webdriver.Chrome(r\"C:\\Users\\MICROSOFT\\Downloads\\chromedriver_win32\\chromedriver.exe\")\n",
    "driver.get(\"https://www.naukri.com\")   #connecting with the driver and loading site"
   ]
  },
  {
   "cell_type": "code",
   "execution_count": null,
   "id": "9fc12951",
   "metadata": {},
   "outputs": [],
   "source": [
    "#entering the \"data scientist\" keyword into the search space\n",
    "search_job=driver.find_element_by_id(\"qsb-keyword-sugg\")\n",
    "search_job.send_keys(\"Data Scientist\")\n",
    "#clicking on the search button\n",
    "search_btn=driver.find_element_by_xpath(\"//div[@class='search-btn']/button\")\n",
    "search_btn.click()"
   ]
  },
  {
   "cell_type": "code",
   "execution_count": null,
   "id": "cb7c9468",
   "metadata": {},
   "outputs": [],
   "source": [
    "#setting up the first filter for location \"delhi/ncr\"\n",
    "btn=driver.find_element_by_xpath(\"//span[@title='Delhi / NCR']\")\n",
    "btn.click()"
   ]
  },
  {
   "cell_type": "code",
   "execution_count": null,
   "id": "fd5d9b88",
   "metadata": {},
   "outputs": [],
   "source": [
    "#setting up the second filter for salary \"3-6lakh\"\n",
    "btn1=driver.find_element_by_xpath(\"//span[@title='3-6 Lakhs']\")\n",
    "btn1.click()"
   ]
  },
  {
   "cell_type": "code",
   "execution_count": null,
   "id": "813d797f",
   "metadata": {},
   "outputs": [],
   "source": [
    "title=[] #empty list\n",
    "t=driver.find_elements_by_xpath(\"//a[@class='title fw500 ellipsis']\") #extracting the job-title info.\n",
    "for i in t:\n",
    "    title.append(i.text)\n",
    "title"
   ]
  },
  {
   "cell_type": "code",
   "execution_count": null,
   "id": "21112864",
   "metadata": {},
   "outputs": [],
   "source": [
    "company=[] #empty list\n",
    "c=driver.find_elements_by_xpath(\"//a[@class='subTitle ellipsis fleft']\")  #extracting the company name info\n",
    "for i in c:\n",
    "    company.append(i.text)\n",
    "company"
   ]
  },
  {
   "cell_type": "code",
   "execution_count": null,
   "id": "8e44ad4b",
   "metadata": {},
   "outputs": [],
   "source": [
    "location=[] #empty list\n",
    "l=driver.find_elements_by_xpath(\"//li[@class='fleft grey-text br2 placeHolderLi location']/span[1]\")\n",
    "for i in l:\n",
    "    location.append(i.text) #extracting the location info using tags and appending it to empty list\n",
    "location"
   ]
  },
  {
   "cell_type": "code",
   "execution_count": null,
   "id": "c7d010f6",
   "metadata": {},
   "outputs": [],
   "source": [
    "exp=[] #empty list\n",
    "w=driver.find_elements_by_xpath(\"//li[@class='fleft grey-text br2 placeHolderLi experience']/span\")\n",
    "for i in w:\n",
    "    exp.append(i.text)   #extracting the info and appending it to experience required\n",
    "exp"
   ]
  },
  {
   "cell_type": "code",
   "execution_count": null,
   "id": "9cb89218",
   "metadata": {},
   "outputs": [],
   "source": [
    "job6=pd.DataFrame({})     #creating a dataframe and putting up all the data in the dataframe\n",
    "job6[\"Title\"]=title[0:10]\n",
    "job6[\"Company\"]=company[0:10]\n",
    "job6[\"Location\"]=location[0:10]\n",
    "job6[\"Experience\"]=exp[0:10]\n",
    "job6"
   ]
  },
  {
   "cell_type": "markdown",
   "id": "4fd2659f",
   "metadata": {},
   "source": [
    "## Q:1 Scraping data for “Data Analyst”  in “Bangalore” from Naukri.com \n",
    "scraping the job-title, job-location, company_name, experience_required."
   ]
  },
  {
   "cell_type": "code",
   "execution_count": null,
   "id": "01929fed",
   "metadata": {},
   "outputs": [],
   "source": [
    "driver=webdriver.Chrome(r\"C:\\Users\\MICROSOFT\\Downloads\\chromedriver_win32\\chromedriver.exe\")\n",
    "driver.get(\"https://www.naukri.com\")  #connecting with the driver and loading the required site"
   ]
  },
  {
   "cell_type": "code",
   "execution_count": null,
   "id": "b7eb4882",
   "metadata": {},
   "outputs": [],
   "source": [
    "# searching job and inserting a keyword \"data scientist in it\"\n",
    "search_job=driver.find_element_by_id(\"qsb-keyword-sugg\")\n",
    "search_job.send_keys(\"Data Analyst\")\n",
    "# inserting location \"bangalore\" at the location\n",
    "search_loc=driver.find_element_by_id(\"qsb-location-sugg\")\n",
    "search_loc.send_keys(\"Bangalore\")\n",
    "#searching the job with the inserted location and inserted designation\n",
    "search_btn=driver.find_element_by_xpath(\"//div[@class='search-btn']/button\")\n",
    "search_btn.click()"
   ]
  },
  {
   "cell_type": "code",
   "execution_count": null,
   "id": "6b78fd5d",
   "metadata": {},
   "outputs": [],
   "source": [
    "title1=[] #empty list for the job-title \n",
    "t=driver.find_elements_by_xpath(\"//a[@class='title fw500 ellipsis']\")   #extracting data for the job title\n",
    "for i in t:\n",
    "    title1.append(i.text)\n",
    "title1"
   ]
  },
  {
   "cell_type": "code",
   "execution_count": null,
   "id": "3162f218",
   "metadata": {},
   "outputs": [],
   "source": [
    "location1=[] #empty list for the job-location\n",
    "l=driver.find_elements_by_xpath(\"//li[@class='fleft grey-text br2 placeHolderLi location']/span[1]\")\n",
    "for i in l:\n",
    "    location1.append(i.text)      #extracting location and appending it to a list  \n",
    "location1"
   ]
  },
  {
   "cell_type": "code",
   "execution_count": null,
   "id": "72871fd5",
   "metadata": {},
   "outputs": [],
   "source": [
    "company1=[]  #empty list for the company name variable\n",
    "c=driver.find_elements_by_xpath(\"//a[@class='subTitle ellipsis fleft']\")\n",
    "for i in c:\n",
    "    company1.append(i.text)   #extracting the company name using tags and appending it to empty list\n",
    "company1"
   ]
  },
  {
   "cell_type": "code",
   "execution_count": null,
   "id": "9bed32a9",
   "metadata": {},
   "outputs": [],
   "source": [
    "exp1=[]  #empty list for the experience required\n",
    "w=driver.find_elements_by_xpath(\"//li[@class='fleft grey-text br2 placeHolderLi experience']/span\") \n",
    "for i in w:\n",
    "    exp1.append(i.text)    #extracting the experience required using tags and appending it into the empty list\n",
    "exp1"
   ]
  },
  {
   "cell_type": "code",
   "execution_count": null,
   "id": "c388c449",
   "metadata": {},
   "outputs": [],
   "source": [
    "jobw=pd.DataFrame({})     #creating the empty dataframe and appending all the extracted elements in the dataframe.\n",
    "jobw[\"Title\"]=title1[0:10]\n",
    "jobw[\"Company\"]=company1[0:10]\n",
    "jobw[\"Location\"]=location1[0:10]\n",
    "jobw[\"Experience\"]=exp1[0:10]\n",
    "jobw"
   ]
  },
  {
   "cell_type": "code",
   "execution_count": null,
   "id": "23bf3453",
   "metadata": {},
   "outputs": [],
   "source": []
  }
 ],
 "metadata": {
  "kernelspec": {
   "display_name": "Python 3",
   "language": "python",
   "name": "python3"
  },
  "language_info": {
   "codemirror_mode": {
    "name": "ipython",
    "version": 3
   },
   "file_extension": ".py",
   "mimetype": "text/x-python",
   "name": "python",
   "nbconvert_exporter": "python",
   "pygments_lexer": "ipython3",
   "version": "3.8.8"
  }
 },
 "nbformat": 4,
 "nbformat_minor": 5
}
