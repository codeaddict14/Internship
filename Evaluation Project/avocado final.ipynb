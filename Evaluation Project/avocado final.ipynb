{
 "cells": [
  {
   "cell_type": "code",
   "execution_count": 74,
   "id": "d3dcc94d",
   "metadata": {},
   "outputs": [],
   "source": [
    "import pandas as pd\n",
    "import numpy as np\n",
    "import matplotlib.pyplot as plt\n",
    "import seaborn as sns\n",
    "import warnings\n",
    "warnings.filterwarnings(\"ignore\")\n",
    "from scipy.stats import zscore,boxcox\n",
    "from sklearn.model_selection import train_test_split\n",
    "from sklearn.linear_model import LinearRegression,Lasso,Ridge\n",
    "from sklearn.metrics import mean_squared_error, mean_absolute_error,r2_score\n",
    "from sklearn.svm import SVR\n",
    "from sklearn.tree import DecisionTreeRegressor\n",
    "from sklearn.neighbors import KNeighborsRegressor\n",
    "from sklearn.model_selection import cross_val_score\n",
    "from sklearn.model_selection import GridSearchCV"
   ]
  },
  {
   "cell_type": "markdown",
   "id": "71e5faae",
   "metadata": {},
   "source": [
    "# Importing The Dataset"
   ]
  },
  {
   "cell_type": "code",
   "execution_count": 75,
   "id": "dbb450e6",
   "metadata": {},
   "outputs": [
    {
     "data": {
      "text/html": [
       "<div>\n",
       "<style scoped>\n",
       "    .dataframe tbody tr th:only-of-type {\n",
       "        vertical-align: middle;\n",
       "    }\n",
       "\n",
       "    .dataframe tbody tr th {\n",
       "        vertical-align: top;\n",
       "    }\n",
       "\n",
       "    .dataframe thead th {\n",
       "        text-align: right;\n",
       "    }\n",
       "</style>\n",
       "<table border=\"1\" class=\"dataframe\">\n",
       "  <thead>\n",
       "    <tr style=\"text-align: right;\">\n",
       "      <th></th>\n",
       "      <th>Unnamed: 0</th>\n",
       "      <th>Date</th>\n",
       "      <th>AveragePrice</th>\n",
       "      <th>Total Volume</th>\n",
       "      <th>4046</th>\n",
       "      <th>4225</th>\n",
       "      <th>4770</th>\n",
       "      <th>Total Bags</th>\n",
       "      <th>Small Bags</th>\n",
       "      <th>Large Bags</th>\n",
       "      <th>XLarge Bags</th>\n",
       "      <th>type</th>\n",
       "      <th>year</th>\n",
       "      <th>region</th>\n",
       "    </tr>\n",
       "  </thead>\n",
       "  <tbody>\n",
       "    <tr>\n",
       "      <th>0</th>\n",
       "      <td>0</td>\n",
       "      <td>27-12-2015</td>\n",
       "      <td>1.33</td>\n",
       "      <td>64236.62</td>\n",
       "      <td>1036.74</td>\n",
       "      <td>54454.85</td>\n",
       "      <td>48.16</td>\n",
       "      <td>8696.87</td>\n",
       "      <td>8603.62</td>\n",
       "      <td>93.25</td>\n",
       "      <td>0.0</td>\n",
       "      <td>conventional</td>\n",
       "      <td>2015</td>\n",
       "      <td>Albany</td>\n",
       "    </tr>\n",
       "    <tr>\n",
       "      <th>1</th>\n",
       "      <td>1</td>\n",
       "      <td>20-12-2015</td>\n",
       "      <td>1.35</td>\n",
       "      <td>54876.98</td>\n",
       "      <td>674.28</td>\n",
       "      <td>44638.81</td>\n",
       "      <td>58.33</td>\n",
       "      <td>9505.56</td>\n",
       "      <td>9408.07</td>\n",
       "      <td>97.49</td>\n",
       "      <td>0.0</td>\n",
       "      <td>conventional</td>\n",
       "      <td>2015</td>\n",
       "      <td>Albany</td>\n",
       "    </tr>\n",
       "    <tr>\n",
       "      <th>2</th>\n",
       "      <td>2</td>\n",
       "      <td>13-12-2015</td>\n",
       "      <td>0.93</td>\n",
       "      <td>118220.22</td>\n",
       "      <td>794.70</td>\n",
       "      <td>109149.67</td>\n",
       "      <td>130.50</td>\n",
       "      <td>8145.35</td>\n",
       "      <td>8042.21</td>\n",
       "      <td>103.14</td>\n",
       "      <td>0.0</td>\n",
       "      <td>conventional</td>\n",
       "      <td>2015</td>\n",
       "      <td>Albany</td>\n",
       "    </tr>\n",
       "    <tr>\n",
       "      <th>3</th>\n",
       "      <td>3</td>\n",
       "      <td>06-12-2015</td>\n",
       "      <td>1.08</td>\n",
       "      <td>78992.15</td>\n",
       "      <td>1132.00</td>\n",
       "      <td>71976.41</td>\n",
       "      <td>72.58</td>\n",
       "      <td>5811.16</td>\n",
       "      <td>5677.40</td>\n",
       "      <td>133.76</td>\n",
       "      <td>0.0</td>\n",
       "      <td>conventional</td>\n",
       "      <td>2015</td>\n",
       "      <td>Albany</td>\n",
       "    </tr>\n",
       "    <tr>\n",
       "      <th>4</th>\n",
       "      <td>4</td>\n",
       "      <td>29-11-2015</td>\n",
       "      <td>1.28</td>\n",
       "      <td>51039.60</td>\n",
       "      <td>941.48</td>\n",
       "      <td>43838.39</td>\n",
       "      <td>75.78</td>\n",
       "      <td>6183.95</td>\n",
       "      <td>5986.26</td>\n",
       "      <td>197.69</td>\n",
       "      <td>0.0</td>\n",
       "      <td>conventional</td>\n",
       "      <td>2015</td>\n",
       "      <td>Albany</td>\n",
       "    </tr>\n",
       "    <tr>\n",
       "      <th>...</th>\n",
       "      <td>...</td>\n",
       "      <td>...</td>\n",
       "      <td>...</td>\n",
       "      <td>...</td>\n",
       "      <td>...</td>\n",
       "      <td>...</td>\n",
       "      <td>...</td>\n",
       "      <td>...</td>\n",
       "      <td>...</td>\n",
       "      <td>...</td>\n",
       "      <td>...</td>\n",
       "      <td>...</td>\n",
       "      <td>...</td>\n",
       "      <td>...</td>\n",
       "    </tr>\n",
       "    <tr>\n",
       "      <th>18244</th>\n",
       "      <td>7</td>\n",
       "      <td>04-02-2018</td>\n",
       "      <td>1.63</td>\n",
       "      <td>17074.83</td>\n",
       "      <td>2046.96</td>\n",
       "      <td>1529.20</td>\n",
       "      <td>0.00</td>\n",
       "      <td>13498.67</td>\n",
       "      <td>13066.82</td>\n",
       "      <td>431.85</td>\n",
       "      <td>0.0</td>\n",
       "      <td>organic</td>\n",
       "      <td>2018</td>\n",
       "      <td>WestTexNewMexico</td>\n",
       "    </tr>\n",
       "    <tr>\n",
       "      <th>18245</th>\n",
       "      <td>8</td>\n",
       "      <td>28-01-2018</td>\n",
       "      <td>1.71</td>\n",
       "      <td>13888.04</td>\n",
       "      <td>1191.70</td>\n",
       "      <td>3431.50</td>\n",
       "      <td>0.00</td>\n",
       "      <td>9264.84</td>\n",
       "      <td>8940.04</td>\n",
       "      <td>324.80</td>\n",
       "      <td>0.0</td>\n",
       "      <td>organic</td>\n",
       "      <td>2018</td>\n",
       "      <td>WestTexNewMexico</td>\n",
       "    </tr>\n",
       "    <tr>\n",
       "      <th>18246</th>\n",
       "      <td>9</td>\n",
       "      <td>21-01-2018</td>\n",
       "      <td>1.87</td>\n",
       "      <td>13766.76</td>\n",
       "      <td>1191.92</td>\n",
       "      <td>2452.79</td>\n",
       "      <td>727.94</td>\n",
       "      <td>9394.11</td>\n",
       "      <td>9351.80</td>\n",
       "      <td>42.31</td>\n",
       "      <td>0.0</td>\n",
       "      <td>organic</td>\n",
       "      <td>2018</td>\n",
       "      <td>WestTexNewMexico</td>\n",
       "    </tr>\n",
       "    <tr>\n",
       "      <th>18247</th>\n",
       "      <td>10</td>\n",
       "      <td>14-01-2018</td>\n",
       "      <td>1.93</td>\n",
       "      <td>16205.22</td>\n",
       "      <td>1527.63</td>\n",
       "      <td>2981.04</td>\n",
       "      <td>727.01</td>\n",
       "      <td>10969.54</td>\n",
       "      <td>10919.54</td>\n",
       "      <td>50.00</td>\n",
       "      <td>0.0</td>\n",
       "      <td>organic</td>\n",
       "      <td>2018</td>\n",
       "      <td>WestTexNewMexico</td>\n",
       "    </tr>\n",
       "    <tr>\n",
       "      <th>18248</th>\n",
       "      <td>11</td>\n",
       "      <td>07-01-2018</td>\n",
       "      <td>1.62</td>\n",
       "      <td>17489.58</td>\n",
       "      <td>2894.77</td>\n",
       "      <td>2356.13</td>\n",
       "      <td>224.53</td>\n",
       "      <td>12014.15</td>\n",
       "      <td>11988.14</td>\n",
       "      <td>26.01</td>\n",
       "      <td>0.0</td>\n",
       "      <td>organic</td>\n",
       "      <td>2018</td>\n",
       "      <td>WestTexNewMexico</td>\n",
       "    </tr>\n",
       "  </tbody>\n",
       "</table>\n",
       "<p>18249 rows × 14 columns</p>\n",
       "</div>"
      ],
      "text/plain": [
       "       Unnamed: 0        Date  AveragePrice  Total Volume     4046       4225  \\\n",
       "0               0  27-12-2015          1.33      64236.62  1036.74   54454.85   \n",
       "1               1  20-12-2015          1.35      54876.98   674.28   44638.81   \n",
       "2               2  13-12-2015          0.93     118220.22   794.70  109149.67   \n",
       "3               3  06-12-2015          1.08      78992.15  1132.00   71976.41   \n",
       "4               4  29-11-2015          1.28      51039.60   941.48   43838.39   \n",
       "...           ...         ...           ...           ...      ...        ...   \n",
       "18244           7  04-02-2018          1.63      17074.83  2046.96    1529.20   \n",
       "18245           8  28-01-2018          1.71      13888.04  1191.70    3431.50   \n",
       "18246           9  21-01-2018          1.87      13766.76  1191.92    2452.79   \n",
       "18247          10  14-01-2018          1.93      16205.22  1527.63    2981.04   \n",
       "18248          11  07-01-2018          1.62      17489.58  2894.77    2356.13   \n",
       "\n",
       "         4770  Total Bags  Small Bags  Large Bags  XLarge Bags          type  \\\n",
       "0       48.16     8696.87     8603.62       93.25          0.0  conventional   \n",
       "1       58.33     9505.56     9408.07       97.49          0.0  conventional   \n",
       "2      130.50     8145.35     8042.21      103.14          0.0  conventional   \n",
       "3       72.58     5811.16     5677.40      133.76          0.0  conventional   \n",
       "4       75.78     6183.95     5986.26      197.69          0.0  conventional   \n",
       "...       ...         ...         ...         ...          ...           ...   \n",
       "18244    0.00    13498.67    13066.82      431.85          0.0       organic   \n",
       "18245    0.00     9264.84     8940.04      324.80          0.0       organic   \n",
       "18246  727.94     9394.11     9351.80       42.31          0.0       organic   \n",
       "18247  727.01    10969.54    10919.54       50.00          0.0       organic   \n",
       "18248  224.53    12014.15    11988.14       26.01          0.0       organic   \n",
       "\n",
       "       year            region  \n",
       "0      2015            Albany  \n",
       "1      2015            Albany  \n",
       "2      2015            Albany  \n",
       "3      2015            Albany  \n",
       "4      2015            Albany  \n",
       "...     ...               ...  \n",
       "18244  2018  WestTexNewMexico  \n",
       "18245  2018  WestTexNewMexico  \n",
       "18246  2018  WestTexNewMexico  \n",
       "18247  2018  WestTexNewMexico  \n",
       "18248  2018  WestTexNewMexico  \n",
       "\n",
       "[18249 rows x 14 columns]"
      ]
     },
     "execution_count": 75,
     "metadata": {},
     "output_type": "execute_result"
    }
   ],
   "source": [
    "df=pd.read_csv(\"avocado.csv\")\n",
    "df"
   ]
  },
  {
   "cell_type": "markdown",
   "id": "d9ecbfb3",
   "metadata": {},
   "source": [
    "There are total 18249 rows in the above dataset and 14 columns.\n",
    "Some of the columns are numeric and some are of categorial type.\n",
    "This is a Regression problem if considering dependent variable as average Price and Classification problem is region is output variable.\n",
    "There are no missing rows in the columns.\n",
    "\n"
   ]
  },
  {
   "cell_type": "code",
   "execution_count": 76,
   "id": "f559c5af",
   "metadata": {},
   "outputs": [
    {
     "data": {
      "text/plain": [
       "Index(['Unnamed: 0', 'Date', 'AveragePrice', 'Total Volume', '4046', '4225',\n",
       "       '4770', 'Total Bags', 'Small Bags', 'Large Bags', 'XLarge Bags', 'type',\n",
       "       'year', 'region'],\n",
       "      dtype='object')"
      ]
     },
     "execution_count": 76,
     "metadata": {},
     "output_type": "execute_result"
    }
   ],
   "source": [
    "df.columns"
   ]
  },
  {
   "cell_type": "markdown",
   "id": "320ad25c",
   "metadata": {},
   "source": [
    "Name of each columns is displayed above."
   ]
  },
  {
   "cell_type": "code",
   "execution_count": 77,
   "id": "e520e7fd",
   "metadata": {},
   "outputs": [
    {
     "name": "stdout",
     "output_type": "stream",
     "text": [
      "<class 'pandas.core.frame.DataFrame'>\n",
      "RangeIndex: 18249 entries, 0 to 18248\n",
      "Data columns (total 14 columns):\n",
      " #   Column        Non-Null Count  Dtype  \n",
      "---  ------        --------------  -----  \n",
      " 0   Unnamed: 0    18249 non-null  int64  \n",
      " 1   Date          18249 non-null  object \n",
      " 2   AveragePrice  18249 non-null  float64\n",
      " 3   Total Volume  18249 non-null  float64\n",
      " 4   4046          18249 non-null  float64\n",
      " 5   4225          18249 non-null  float64\n",
      " 6   4770          18249 non-null  float64\n",
      " 7   Total Bags    18249 non-null  float64\n",
      " 8   Small Bags    18249 non-null  float64\n",
      " 9   Large Bags    18249 non-null  float64\n",
      " 10  XLarge Bags   18249 non-null  float64\n",
      " 11  type          18249 non-null  object \n",
      " 12  year          18249 non-null  int64  \n",
      " 13  region        18249 non-null  object \n",
      "dtypes: float64(9), int64(2), object(3)\n",
      "memory usage: 1.9+ MB\n"
     ]
    }
   ],
   "source": [
    "df.info()"
   ]
  },
  {
   "cell_type": "markdown",
   "id": "3083fb5a",
   "metadata": {},
   "source": [
    "This command displays the count of each column and the dtype of each column."
   ]
  },
  {
   "cell_type": "code",
   "execution_count": 78,
   "id": "d9bbbe6e",
   "metadata": {},
   "outputs": [
    {
     "data": {
      "text/plain": [
       "Unnamed: 0      0\n",
       "Date            0\n",
       "AveragePrice    0\n",
       "Total Volume    0\n",
       "4046            0\n",
       "4225            0\n",
       "4770            0\n",
       "Total Bags      0\n",
       "Small Bags      0\n",
       "Large Bags      0\n",
       "XLarge Bags     0\n",
       "type            0\n",
       "year            0\n",
       "region          0\n",
       "dtype: int64"
      ]
     },
     "execution_count": 78,
     "metadata": {},
     "output_type": "execute_result"
    }
   ],
   "source": [
    "df.isnull().sum()"
   ]
  },
  {
   "cell_type": "markdown",
   "id": "12dc8494",
   "metadata": {},
   "source": [
    "This shows that there are no null values in the each column."
   ]
  },
  {
   "cell_type": "code",
   "execution_count": 79,
   "id": "c1b4bbde",
   "metadata": {},
   "outputs": [
    {
     "data": {
      "text/plain": [
       "Unnamed: 0        int64\n",
       "Date             object\n",
       "AveragePrice    float64\n",
       "Total Volume    float64\n",
       "4046            float64\n",
       "4225            float64\n",
       "4770            float64\n",
       "Total Bags      float64\n",
       "Small Bags      float64\n",
       "Large Bags      float64\n",
       "XLarge Bags     float64\n",
       "type             object\n",
       "year              int64\n",
       "region           object\n",
       "dtype: object"
      ]
     },
     "execution_count": 79,
     "metadata": {},
     "output_type": "execute_result"
    }
   ],
   "source": [
    "df.dtypes"
   ]
  },
  {
   "cell_type": "markdown",
   "id": "cbf16c64",
   "metadata": {},
   "source": [
    "# Univariant, Bivariant, Multivariant Analysis"
   ]
  },
  {
   "cell_type": "code",
   "execution_count": 80,
   "id": "9fbd3d40",
   "metadata": {},
   "outputs": [
    {
     "data": {
      "text/plain": [
       "<AxesSubplot:xlabel='AveragePrice', ylabel='Density'>"
      ]
     },
     "execution_count": 80,
     "metadata": {},
     "output_type": "execute_result"
    },
    {
     "data": {
      "image/png": "[encoded data removed]",
      "text/plain": [
       "<Figure size 432x288 with 1 Axes>"
      ]
     },
     "metadata": {
      "needs_background": "light"
     },
     "output_type": "display_data"
    }
   ],
   "source": [
    "sns.distplot(df['AveragePrice'])"
   ]
  },
  {
   "cell_type": "markdown",
   "id": "0ed3e470",
   "metadata": {},
   "source": [
    "Considering the above plot shows the distribution of average price and we can see that there is slight skewness that is beacause of outliers present in the column."
   ]
  },
  {
   "cell_type": "code",
   "execution_count": 81,
   "id": "1dacc3c8",
   "metadata": {},
   "outputs": [
    {
     "data": {
      "text/plain": [
       "<AxesSubplot:xlabel='Total Volume', ylabel='Density'>"
      ]
     },
     "execution_count": 81,
     "metadata": {},
     "output_type": "execute_result"
    },
    {
     "data": {
      "image/png": "[encoded data removed]",
      "text/plain": [
       "<Figure size 432x288 with 1 Axes>"
      ]
     },
     "metadata": {
      "needs_background": "light"
     },
     "output_type": "display_data"
    }
   ],
   "source": [
    "sns.distplot(df['Total Volume'])"
   ]
  },
  {
   "cell_type": "markdown",
   "id": "7f41555b",
   "metadata": {},
   "source": [
    "Again the curve is highly skewed beacuse of the presence of outliers."
   ]
  },
  {
   "cell_type": "code",
   "execution_count": 82,
   "id": "e0c06601",
   "metadata": {},
   "outputs": [
    {
     "data": {
      "text/plain": [
       "<seaborn.axisgrid.FacetGrid at 0x218787640d0>"
      ]
     },
     "execution_count": 82,
     "metadata": {},
     "output_type": "execute_result"
    },
    {
     "data": {
      "image/png": "[encoded data removed]",
      "text/plain": [
       "<Figure size 360x360 with 1 Axes>"
      ]
     },
     "metadata": {
      "needs_background": "light"
     },
     "output_type": "display_data"
    }
   ],
   "source": [
    "sns.lmplot(x='Total Volume',y='4046',data=df)"
   ]
  },
  {
   "cell_type": "markdown",
   "id": "27af25e5",
   "metadata": {},
   "source": [
    "Ploting the total volume and PLU 4046 we can see that they are positively corelated to each other."
   ]
  },
  {
   "cell_type": "code",
   "execution_count": 83,
   "id": "88431682",
   "metadata": {},
   "outputs": [
    {
     "data": {
      "text/plain": [
       "<seaborn.axisgrid.FacetGrid at 0x2180f94a580>"
      ]
     },
     "execution_count": 83,
     "metadata": {},
     "output_type": "execute_result"
    },
    {
     "data": {
      "image/png": "[encoded data removed]",
      "text/plain": [
       "<Figure size 360x360 with 1 Axes>"
      ]
     },
     "metadata": {
      "needs_background": "light"
     },
     "output_type": "display_data"
    }
   ],
   "source": [
    "sns.lmplot(x='Total Volume',y='4225',data=df)"
   ]
  },
  {
   "cell_type": "markdown",
   "id": "1c193742",
   "metadata": {},
   "source": [
    "Ploting Total Volume against PLU 4225 they are positively corelated to each other."
   ]
  },
  {
   "cell_type": "code",
   "execution_count": 84,
   "id": "12a0e3eb",
   "metadata": {},
   "outputs": [
    {
     "data": {
      "text/plain": [
       "<seaborn.axisgrid.FacetGrid at 0x2180ea364f0>"
      ]
     },
     "execution_count": 84,
     "metadata": {},
     "output_type": "execute_result"
    },
    {
     "data": {
      "image/png": "[encoded data removed]",
      "text/plain": [
       "<Figure size 360x360 with 1 Axes>"
      ]
     },
     "metadata": {
      "needs_background": "light"
     },
     "output_type": "display_data"
    }
   ],
   "source": [
    "sns.lmplot(x='Total Volume',y='4770',data=df)"
   ]
  },
  {
   "cell_type": "markdown",
   "id": "1d29403f",
   "metadata": {},
   "source": [
    "Ploting Total Volume against PLU 4770 they are positively corelated to each other."
   ]
  },
  {
   "cell_type": "code",
   "execution_count": 85,
   "id": "b5ae0958",
   "metadata": {},
   "outputs": [
    {
     "data": {
      "text/plain": [
       "<AxesSubplot:xlabel='Total Volume', ylabel='Total Bags'>"
      ]
     },
     "execution_count": 85,
     "metadata": {},
     "output_type": "execute_result"
    },
    {
     "data": {
      "image/png": "[encoded data removed]",
      "text/plain": [
       "<Figure size 432x288 with 1 Axes>"
      ]
     },
     "metadata": {
      "needs_background": "light"
     },
     "output_type": "display_data"
    }
   ],
   "source": [
    "sns.scatterplot(x='Total Volume',y='Total Bags',hue='AveragePrice',data=df)"
   ]
  },
  {
   "cell_type": "markdown",
   "id": "573d8c21",
   "metadata": {},
   "source": [
    "Increasing bags Volume is also increasing and the average price lie between 0.5-1.5."
   ]
  },
  {
   "cell_type": "code",
   "execution_count": 86,
   "id": "63b49725",
   "metadata": {},
   "outputs": [
    {
     "data": {
      "text/plain": [
       "<AxesSubplot:xlabel='Total Volume', ylabel='Small Bags'>"
      ]
     },
     "execution_count": 86,
     "metadata": {},
     "output_type": "execute_result"
    },
    {
     "data": {
      "image/png": "[encoded data removed]",
      "text/plain": [
       "<Figure size 432x288 with 1 Axes>"
      ]
     },
     "metadata": {
      "needs_background": "light"
     },
     "output_type": "display_data"
    }
   ],
   "source": [
    "sns.scatterplot(x='Total Volume',y='Small Bags',hue='AveragePrice',data=df)"
   ]
  },
  {
   "cell_type": "markdown",
   "id": "2f92a68d",
   "metadata": {},
   "source": [
    "Increasing small bags Volume is also increasing and the average price lie between 0.5-1.5."
   ]
  },
  {
   "cell_type": "code",
   "execution_count": 87,
   "id": "efb5feb0",
   "metadata": {},
   "outputs": [
    {
     "data": {
      "text/plain": [
       "<AxesSubplot:xlabel='Total Volume', ylabel='XLarge Bags'>"
      ]
     },
     "execution_count": 87,
     "metadata": {},
     "output_type": "execute_result"
    },
    {
     "data": {
      "image/png": "[encoded data removed]",
      "text/plain": [
       "<Figure size 432x288 with 1 Axes>"
      ]
     },
     "metadata": {
      "needs_background": "light"
     },
     "output_type": "display_data"
    }
   ],
   "source": [
    "sns.scatterplot(x='Total Volume',y='XLarge Bags',hue='AveragePrice',data=df)"
   ]
  },
  {
   "cell_type": "markdown",
   "id": "ea2bfed8",
   "metadata": {},
   "source": [
    "Increasing XLarge bags Volume is also increasing and the average price lie between 0.5-1.5."
   ]
  },
  {
   "cell_type": "code",
   "execution_count": 88,
   "id": "6b718f5a",
   "metadata": {},
   "outputs": [
    {
     "data": {
      "text/plain": [
       "<AxesSubplot:xlabel='Total Volume', ylabel='Large Bags'>"
      ]
     },
     "execution_count": 88,
     "metadata": {},
     "output_type": "execute_result"
    },
    {
     "data": {
      "image/png": "[encoded data removed]",
      "text/plain": [
       "<Figure size 432x288 with 1 Axes>"
      ]
     },
     "metadata": {
      "needs_background": "light"
     },
     "output_type": "display_data"
    }
   ],
   "source": [
    "sns.scatterplot(x='Total Volume',y='Large Bags',hue='AveragePrice',data=df)"
   ]
  },
  {
   "cell_type": "markdown",
   "id": "e7d3f728",
   "metadata": {},
   "source": [
    "Increasing Large bags Volume is also increasing and the average price lie between 0.5-1.5."
   ]
  },
  {
   "cell_type": "code",
   "execution_count": 89,
   "id": "7ec305da",
   "metadata": {},
   "outputs": [
    {
     "data": {
      "text/plain": [
       "<AxesSubplot:xlabel='type', ylabel='count'>"
      ]
     },
     "execution_count": 89,
     "metadata": {},
     "output_type": "execute_result"
    },
    {
     "data": {
      "image/png": "[encoded data removed]",
      "text/plain": [
       "<Figure size 432x288 with 1 Axes>"
      ]
     },
     "metadata": {
      "needs_background": "light"
     },
     "output_type": "display_data"
    }
   ],
   "source": [
    "sns.countplot(x='type',data=df)"
   ]
  },
  {
   "cell_type": "markdown",
   "id": "0a5dde77",
   "metadata": {},
   "source": [
    "There are tew type os avocaodo......and the count of each is equal."
   ]
  },
  {
   "cell_type": "code",
   "execution_count": 90,
   "id": "22bf3407",
   "metadata": {},
   "outputs": [
    {
     "data": {
      "text/plain": [
       "Unnamed: 0         AxesSubplot(0.125,0.536818;0.110714x0.343182)\n",
       "AveragePrice    AxesSubplot(0.257857,0.536818;0.110714x0.343182)\n",
       "Total Volume    AxesSubplot(0.390714,0.536818;0.110714x0.343182)\n",
       "4046            AxesSubplot(0.523571,0.536818;0.110714x0.343182)\n",
       "4225            AxesSubplot(0.656429,0.536818;0.110714x0.343182)\n",
       "4770            AxesSubplot(0.789286,0.536818;0.110714x0.343182)\n",
       "Total Bags            AxesSubplot(0.125,0.125;0.110714x0.343182)\n",
       "Small Bags         AxesSubplot(0.257857,0.125;0.110714x0.343182)\n",
       "Large Bags         AxesSubplot(0.390714,0.125;0.110714x0.343182)\n",
       "XLarge Bags        AxesSubplot(0.523571,0.125;0.110714x0.343182)\n",
       "year               AxesSubplot(0.656429,0.125;0.110714x0.343182)\n",
       "dtype: object"
      ]
     },
     "execution_count": 90,
     "metadata": {},
     "output_type": "execute_result"
    },
    {
     "data": {
      "image/png": "[encoded data removed]",
      "text/plain": [
       "<Figure size 1440x1440 with 12 Axes>"
      ]
     },
     "metadata": {
      "needs_background": "light"
     },
     "output_type": "display_data"
    }
   ],
   "source": [
    "color=dict(boxes=\"Purple\",whiskers=\"Red\",medians=\"Pink\",caps=\"Black\")\n",
    "df.plot(kind=\"box\",subplots=True,layout=(2,6),figsize=(20,20),color=color)"
   ]
  },
  {
   "cell_type": "markdown",
   "id": "4d829a5f",
   "metadata": {},
   "source": [
    "In the above plot we can see the presence of outliers in the various columns and because of which the skewness is there in the data."
   ]
  },
  {
   "cell_type": "code",
   "execution_count": 91,
   "id": "935f47e0",
   "metadata": {},
   "outputs": [
    {
     "data": {
      "text/plain": [
       "<AxesSubplot:>"
      ]
     },
     "execution_count": 91,
     "metadata": {},
     "output_type": "execute_result"
    },
    {
     "data": {
      "image/png": "[encoded data removed]",
      "text/plain": [
       "<Figure size 720x720 with 2 Axes>"
      ]
     },
     "metadata": {
      "needs_background": "light"
     },
     "output_type": "display_data"
    }
   ],
   "source": [
    "plt.figure(figsize=(10,10))\n",
    "sns.heatmap(df.corr(), annot=True)"
   ]
  },
  {
   "cell_type": "markdown",
   "id": "11051050",
   "metadata": {},
   "source": [
    "In the above heatmap, we can see that the total volume and 4046 are highly corelated.\n",
    "Infact, columns like total volume, 4046,4225,4770, total bags, small bags, large bags are postively corelated.\n"
   ]
  },
  {
   "cell_type": "markdown",
   "id": "004fe644",
   "metadata": {},
   "source": [
    "# Data Cleaning/Preprocessing"
   ]
  },
  {
   "cell_type": "code",
   "execution_count": 92,
   "id": "b02a7728",
   "metadata": {},
   "outputs": [
    {
     "data": {
      "text/plain": [
       "Charlotte              338\n",
       "HarrisburgScranton     338\n",
       "West                   338\n",
       "Albany                 338\n",
       "MiamiFtLauderdale      338\n",
       "Boston                 338\n",
       "SanDiego               338\n",
       "SouthCentral           338\n",
       "Atlanta                338\n",
       "Columbus               338\n",
       "NewYork                338\n",
       "Midsouth               338\n",
       "Northeast              338\n",
       "Jacksonville           338\n",
       "StLouis                338\n",
       "California             338\n",
       "HartfordSpringfield    338\n",
       "Detroit                338\n",
       "Southeast              338\n",
       "Boise                  338\n",
       "RichmondNorfolk        338\n",
       "Syracuse               338\n",
       "Louisville             338\n",
       "NorthernNewEngland     338\n",
       "BuffaloRochester       338\n",
       "NewOrleansMobile       338\n",
       "Orlando                338\n",
       "PhoenixTucson          338\n",
       "Nashville              338\n",
       "Houston                338\n",
       "GrandRapids            338\n",
       "Philadelphia           338\n",
       "CincinnatiDayton       338\n",
       "SouthCarolina          338\n",
       "Plains                 338\n",
       "Seattle                338\n",
       "Tampa                  338\n",
       "Pittsburgh             338\n",
       "TotalUS                338\n",
       "Portland               338\n",
       "Sacramento             338\n",
       "SanFrancisco           338\n",
       "Roanoke                338\n",
       "Spokane                338\n",
       "Denver                 338\n",
       "GreatLakes             338\n",
       "RaleighGreensboro      338\n",
       "LosAngeles             338\n",
       "BaltimoreWashington    338\n",
       "Chicago                338\n",
       "LasVegas               338\n",
       "DallasFtWorth          338\n",
       "Indianapolis           338\n",
       "WestTexNewMexico       335\n",
       "Name: region, dtype: int64"
      ]
     },
     "execution_count": 92,
     "metadata": {},
     "output_type": "execute_result"
    }
   ],
   "source": [
    "df['region'].value_counts()"
   ]
  },
  {
   "cell_type": "markdown",
   "id": "a0b99a14",
   "metadata": {},
   "source": [
    "Value counts or each region are equal there is no need for SMOTE."
   ]
  },
  {
   "cell_type": "code",
   "execution_count": 93,
   "id": "e4b6859d",
   "metadata": {},
   "outputs": [],
   "source": [
    "df.drop(df.columns[0],axis=1,inplace=True) #Feature Engineering"
   ]
  },
  {
   "cell_type": "code",
   "execution_count": 94,
   "id": "3637b970",
   "metadata": {},
   "outputs": [],
   "source": [
    "df.drop(['Date','year'],axis=1,inplace=True) #Feature engineering"
   ]
  },
  {
   "cell_type": "markdown",
   "id": "ce18532e",
   "metadata": {},
   "source": [
    "As the index is already present we dont need to have another index and date and year are giving no contribution we can drop that. As all other columns are giving us important piece of information and losing furthur data may effect our results so not performing VIF Factor calculation."
   ]
  },
  {
   "cell_type": "code",
   "execution_count": 95,
   "id": "a01ce5ab",
   "metadata": {},
   "outputs": [
    {
     "data": {
      "text/html": [
       "<div>\n",
       "<style scoped>\n",
       "    .dataframe tbody tr th:only-of-type {\n",
       "        vertical-align: middle;\n",
       "    }\n",
       "\n",
       "    .dataframe tbody tr th {\n",
       "        vertical-align: top;\n",
       "    }\n",
       "\n",
       "    .dataframe thead th {\n",
       "        text-align: right;\n",
       "    }\n",
       "</style>\n",
       "<table border=\"1\" class=\"dataframe\">\n",
       "  <thead>\n",
       "    <tr style=\"text-align: right;\">\n",
       "      <th></th>\n",
       "      <th>AveragePrice</th>\n",
       "      <th>Total Volume</th>\n",
       "      <th>4046</th>\n",
       "      <th>4225</th>\n",
       "      <th>4770</th>\n",
       "      <th>Total Bags</th>\n",
       "      <th>Small Bags</th>\n",
       "      <th>Large Bags</th>\n",
       "      <th>XLarge Bags</th>\n",
       "      <th>type</th>\n",
       "      <th>region</th>\n",
       "    </tr>\n",
       "  </thead>\n",
       "  <tbody>\n",
       "    <tr>\n",
       "      <th>0</th>\n",
       "      <td>1.33</td>\n",
       "      <td>64236.62</td>\n",
       "      <td>1036.74</td>\n",
       "      <td>54454.85</td>\n",
       "      <td>48.16</td>\n",
       "      <td>8696.87</td>\n",
       "      <td>8603.62</td>\n",
       "      <td>93.25</td>\n",
       "      <td>0.0</td>\n",
       "      <td>conventional</td>\n",
       "      <td>Albany</td>\n",
       "    </tr>\n",
       "    <tr>\n",
       "      <th>1</th>\n",
       "      <td>1.35</td>\n",
       "      <td>54876.98</td>\n",
       "      <td>674.28</td>\n",
       "      <td>44638.81</td>\n",
       "      <td>58.33</td>\n",
       "      <td>9505.56</td>\n",
       "      <td>9408.07</td>\n",
       "      <td>97.49</td>\n",
       "      <td>0.0</td>\n",
       "      <td>conventional</td>\n",
       "      <td>Albany</td>\n",
       "    </tr>\n",
       "    <tr>\n",
       "      <th>2</th>\n",
       "      <td>0.93</td>\n",
       "      <td>118220.22</td>\n",
       "      <td>794.70</td>\n",
       "      <td>109149.67</td>\n",
       "      <td>130.50</td>\n",
       "      <td>8145.35</td>\n",
       "      <td>8042.21</td>\n",
       "      <td>103.14</td>\n",
       "      <td>0.0</td>\n",
       "      <td>conventional</td>\n",
       "      <td>Albany</td>\n",
       "    </tr>\n",
       "    <tr>\n",
       "      <th>3</th>\n",
       "      <td>1.08</td>\n",
       "      <td>78992.15</td>\n",
       "      <td>1132.00</td>\n",
       "      <td>71976.41</td>\n",
       "      <td>72.58</td>\n",
       "      <td>5811.16</td>\n",
       "      <td>5677.40</td>\n",
       "      <td>133.76</td>\n",
       "      <td>0.0</td>\n",
       "      <td>conventional</td>\n",
       "      <td>Albany</td>\n",
       "    </tr>\n",
       "    <tr>\n",
       "      <th>4</th>\n",
       "      <td>1.28</td>\n",
       "      <td>51039.60</td>\n",
       "      <td>941.48</td>\n",
       "      <td>43838.39</td>\n",
       "      <td>75.78</td>\n",
       "      <td>6183.95</td>\n",
       "      <td>5986.26</td>\n",
       "      <td>197.69</td>\n",
       "      <td>0.0</td>\n",
       "      <td>conventional</td>\n",
       "      <td>Albany</td>\n",
       "    </tr>\n",
       "  </tbody>\n",
       "</table>\n",
       "</div>"
      ],
      "text/plain": [
       "   AveragePrice  Total Volume     4046       4225    4770  Total Bags  \\\n",
       "0          1.33      64236.62  1036.74   54454.85   48.16     8696.87   \n",
       "1          1.35      54876.98   674.28   44638.81   58.33     9505.56   \n",
       "2          0.93     118220.22   794.70  109149.67  130.50     8145.35   \n",
       "3          1.08      78992.15  1132.00   71976.41   72.58     5811.16   \n",
       "4          1.28      51039.60   941.48   43838.39   75.78     6183.95   \n",
       "\n",
       "   Small Bags  Large Bags  XLarge Bags          type  region  \n",
       "0     8603.62       93.25          0.0  conventional  Albany  \n",
       "1     9408.07       97.49          0.0  conventional  Albany  \n",
       "2     8042.21      103.14          0.0  conventional  Albany  \n",
       "3     5677.40      133.76          0.0  conventional  Albany  \n",
       "4     5986.26      197.69          0.0  conventional  Albany  "
      ]
     },
     "execution_count": 95,
     "metadata": {},
     "output_type": "execute_result"
    }
   ],
   "source": [
    "df.head()"
   ]
  },
  {
   "cell_type": "markdown",
   "id": "f59be13a",
   "metadata": {},
   "source": [
    "# Label Encoding"
   ]
  },
  {
   "cell_type": "code",
   "execution_count": 96,
   "id": "6efab274",
   "metadata": {},
   "outputs": [],
   "source": [
    "from sklearn.preprocessing import LabelEncoder\n",
    "le=LabelEncoder()\n",
    "name=['type','region']\n",
    "for val in name:\n",
    "    df[val]=le.fit_transform(df[val].astype(str))\n"
   ]
  },
  {
   "cell_type": "code",
   "execution_count": 97,
   "id": "df9d5d0e",
   "metadata": {},
   "outputs": [
    {
     "data": {
      "text/html": [
       "<div>\n",
       "<style scoped>\n",
       "    .dataframe tbody tr th:only-of-type {\n",
       "        vertical-align: middle;\n",
       "    }\n",
       "\n",
       "    .dataframe tbody tr th {\n",
       "        vertical-align: top;\n",
       "    }\n",
       "\n",
       "    .dataframe thead th {\n",
       "        text-align: right;\n",
       "    }\n",
       "</style>\n",
       "<table border=\"1\" class=\"dataframe\">\n",
       "  <thead>\n",
       "    <tr style=\"text-align: right;\">\n",
       "      <th></th>\n",
       "      <th>AveragePrice</th>\n",
       "      <th>Total Volume</th>\n",
       "      <th>4046</th>\n",
       "      <th>4225</th>\n",
       "      <th>4770</th>\n",
       "      <th>Total Bags</th>\n",
       "      <th>Small Bags</th>\n",
       "      <th>Large Bags</th>\n",
       "      <th>XLarge Bags</th>\n",
       "      <th>type</th>\n",
       "      <th>region</th>\n",
       "    </tr>\n",
       "  </thead>\n",
       "  <tbody>\n",
       "    <tr>\n",
       "      <th>0</th>\n",
       "      <td>1.33</td>\n",
       "      <td>64236.62</td>\n",
       "      <td>1036.74</td>\n",
       "      <td>54454.85</td>\n",
       "      <td>48.16</td>\n",
       "      <td>8696.87</td>\n",
       "      <td>8603.62</td>\n",
       "      <td>93.25</td>\n",
       "      <td>0.0</td>\n",
       "      <td>0</td>\n",
       "      <td>0</td>\n",
       "    </tr>\n",
       "    <tr>\n",
       "      <th>1</th>\n",
       "      <td>1.35</td>\n",
       "      <td>54876.98</td>\n",
       "      <td>674.28</td>\n",
       "      <td>44638.81</td>\n",
       "      <td>58.33</td>\n",
       "      <td>9505.56</td>\n",
       "      <td>9408.07</td>\n",
       "      <td>97.49</td>\n",
       "      <td>0.0</td>\n",
       "      <td>0</td>\n",
       "      <td>0</td>\n",
       "    </tr>\n",
       "    <tr>\n",
       "      <th>2</th>\n",
       "      <td>0.93</td>\n",
       "      <td>118220.22</td>\n",
       "      <td>794.70</td>\n",
       "      <td>109149.67</td>\n",
       "      <td>130.50</td>\n",
       "      <td>8145.35</td>\n",
       "      <td>8042.21</td>\n",
       "      <td>103.14</td>\n",
       "      <td>0.0</td>\n",
       "      <td>0</td>\n",
       "      <td>0</td>\n",
       "    </tr>\n",
       "    <tr>\n",
       "      <th>3</th>\n",
       "      <td>1.08</td>\n",
       "      <td>78992.15</td>\n",
       "      <td>1132.00</td>\n",
       "      <td>71976.41</td>\n",
       "      <td>72.58</td>\n",
       "      <td>5811.16</td>\n",
       "      <td>5677.40</td>\n",
       "      <td>133.76</td>\n",
       "      <td>0.0</td>\n",
       "      <td>0</td>\n",
       "      <td>0</td>\n",
       "    </tr>\n",
       "    <tr>\n",
       "      <th>4</th>\n",
       "      <td>1.28</td>\n",
       "      <td>51039.60</td>\n",
       "      <td>941.48</td>\n",
       "      <td>43838.39</td>\n",
       "      <td>75.78</td>\n",
       "      <td>6183.95</td>\n",
       "      <td>5986.26</td>\n",
       "      <td>197.69</td>\n",
       "      <td>0.0</td>\n",
       "      <td>0</td>\n",
       "      <td>0</td>\n",
       "    </tr>\n",
       "  </tbody>\n",
       "</table>\n",
       "</div>"
      ],
      "text/plain": [
       "   AveragePrice  Total Volume     4046       4225    4770  Total Bags  \\\n",
       "0          1.33      64236.62  1036.74   54454.85   48.16     8696.87   \n",
       "1          1.35      54876.98   674.28   44638.81   58.33     9505.56   \n",
       "2          0.93     118220.22   794.70  109149.67  130.50     8145.35   \n",
       "3          1.08      78992.15  1132.00   71976.41   72.58     5811.16   \n",
       "4          1.28      51039.60   941.48   43838.39   75.78     6183.95   \n",
       "\n",
       "   Small Bags  Large Bags  XLarge Bags  type  region  \n",
       "0     8603.62       93.25          0.0     0       0  \n",
       "1     9408.07       97.49          0.0     0       0  \n",
       "2     8042.21      103.14          0.0     0       0  \n",
       "3     5677.40      133.76          0.0     0       0  \n",
       "4     5986.26      197.69          0.0     0       0  "
      ]
     },
     "execution_count": 97,
     "metadata": {},
     "output_type": "execute_result"
    }
   ],
   "source": [
    "df.head()"
   ]
  },
  {
   "cell_type": "markdown",
   "id": "0902186b",
   "metadata": {},
   "source": [
    "Converting the categorial data in numeric form."
   ]
  },
  {
   "cell_type": "markdown",
   "id": "41697b60",
   "metadata": {},
   "source": [
    "# Skewness and Outliers"
   ]
  },
  {
   "cell_type": "code",
   "execution_count": 98,
   "id": "461257f3",
   "metadata": {},
   "outputs": [
    {
     "data": {
      "text/plain": [
       "AveragePrice     0.580303\n",
       "Total Volume     9.007687\n",
       "4046             8.648220\n",
       "4225             8.942466\n",
       "4770            10.159396\n",
       "Total Bags       9.756072\n",
       "Small Bags       9.540660\n",
       "Large Bags       9.796455\n",
       "XLarge Bags     13.139751\n",
       "type             0.000329\n",
       "region           0.000030\n",
       "dtype: float64"
      ]
     },
     "execution_count": 98,
     "metadata": {},
     "output_type": "execute_result"
    }
   ],
   "source": [
    "df.skew()"
   ]
  },
  {
   "cell_type": "markdown",
   "id": "7d584e07",
   "metadata": {},
   "source": [
    "Data is highly skewed...to remove skewness we will first remove the outliers."
   ]
  },
  {
   "cell_type": "code",
   "execution_count": 99,
   "id": "21572613",
   "metadata": {},
   "outputs": [
    {
     "name": "stdout",
     "output_type": "stream",
     "text": [
      "(array([  346,   359,   780, ..., 17304, 17402, 17428], dtype=int64), array([2, 2, 8, ..., 0, 0, 0], dtype=int64))\n"
     ]
    },
    {
     "data": {
      "text/html": [
       "<div>\n",
       "<style scoped>\n",
       "    .dataframe tbody tr th:only-of-type {\n",
       "        vertical-align: middle;\n",
       "    }\n",
       "\n",
       "    .dataframe tbody tr th {\n",
       "        vertical-align: top;\n",
       "    }\n",
       "\n",
       "    .dataframe thead th {\n",
       "        text-align: right;\n",
       "    }\n",
       "</style>\n",
       "<table border=\"1\" class=\"dataframe\">\n",
       "  <thead>\n",
       "    <tr style=\"text-align: right;\">\n",
       "      <th></th>\n",
       "      <th>AveragePrice</th>\n",
       "      <th>Total Volume</th>\n",
       "      <th>4046</th>\n",
       "      <th>4225</th>\n",
       "      <th>4770</th>\n",
       "      <th>Total Bags</th>\n",
       "      <th>Small Bags</th>\n",
       "      <th>Large Bags</th>\n",
       "      <th>XLarge Bags</th>\n",
       "      <th>type</th>\n",
       "      <th>region</th>\n",
       "    </tr>\n",
       "  </thead>\n",
       "  <tbody>\n",
       "    <tr>\n",
       "      <th>0</th>\n",
       "      <td>1.33</td>\n",
       "      <td>64236.62</td>\n",
       "      <td>1036.74</td>\n",
       "      <td>54454.85</td>\n",
       "      <td>48.16</td>\n",
       "      <td>8696.87</td>\n",
       "      <td>8603.62</td>\n",
       "      <td>93.25</td>\n",
       "      <td>0.0</td>\n",
       "      <td>0</td>\n",
       "      <td>0</td>\n",
       "    </tr>\n",
       "    <tr>\n",
       "      <th>1</th>\n",
       "      <td>1.35</td>\n",
       "      <td>54876.98</td>\n",
       "      <td>674.28</td>\n",
       "      <td>44638.81</td>\n",
       "      <td>58.33</td>\n",
       "      <td>9505.56</td>\n",
       "      <td>9408.07</td>\n",
       "      <td>97.49</td>\n",
       "      <td>0.0</td>\n",
       "      <td>0</td>\n",
       "      <td>0</td>\n",
       "    </tr>\n",
       "    <tr>\n",
       "      <th>2</th>\n",
       "      <td>0.93</td>\n",
       "      <td>118220.22</td>\n",
       "      <td>794.70</td>\n",
       "      <td>109149.67</td>\n",
       "      <td>130.50</td>\n",
       "      <td>8145.35</td>\n",
       "      <td>8042.21</td>\n",
       "      <td>103.14</td>\n",
       "      <td>0.0</td>\n",
       "      <td>0</td>\n",
       "      <td>0</td>\n",
       "    </tr>\n",
       "    <tr>\n",
       "      <th>3</th>\n",
       "      <td>1.08</td>\n",
       "      <td>78992.15</td>\n",
       "      <td>1132.00</td>\n",
       "      <td>71976.41</td>\n",
       "      <td>72.58</td>\n",
       "      <td>5811.16</td>\n",
       "      <td>5677.40</td>\n",
       "      <td>133.76</td>\n",
       "      <td>0.0</td>\n",
       "      <td>0</td>\n",
       "      <td>0</td>\n",
       "    </tr>\n",
       "    <tr>\n",
       "      <th>4</th>\n",
       "      <td>1.28</td>\n",
       "      <td>51039.60</td>\n",
       "      <td>941.48</td>\n",
       "      <td>43838.39</td>\n",
       "      <td>75.78</td>\n",
       "      <td>6183.95</td>\n",
       "      <td>5986.26</td>\n",
       "      <td>197.69</td>\n",
       "      <td>0.0</td>\n",
       "      <td>0</td>\n",
       "      <td>0</td>\n",
       "    </tr>\n",
       "    <tr>\n",
       "      <th>...</th>\n",
       "      <td>...</td>\n",
       "      <td>...</td>\n",
       "      <td>...</td>\n",
       "      <td>...</td>\n",
       "      <td>...</td>\n",
       "      <td>...</td>\n",
       "      <td>...</td>\n",
       "      <td>...</td>\n",
       "      <td>...</td>\n",
       "      <td>...</td>\n",
       "      <td>...</td>\n",
       "    </tr>\n",
       "    <tr>\n",
       "      <th>18244</th>\n",
       "      <td>1.63</td>\n",
       "      <td>17074.83</td>\n",
       "      <td>2046.96</td>\n",
       "      <td>1529.20</td>\n",
       "      <td>0.00</td>\n",
       "      <td>13498.67</td>\n",
       "      <td>13066.82</td>\n",
       "      <td>431.85</td>\n",
       "      <td>0.0</td>\n",
       "      <td>1</td>\n",
       "      <td>53</td>\n",
       "    </tr>\n",
       "    <tr>\n",
       "      <th>18245</th>\n",
       "      <td>1.71</td>\n",
       "      <td>13888.04</td>\n",
       "      <td>1191.70</td>\n",
       "      <td>3431.50</td>\n",
       "      <td>0.00</td>\n",
       "      <td>9264.84</td>\n",
       "      <td>8940.04</td>\n",
       "      <td>324.80</td>\n",
       "      <td>0.0</td>\n",
       "      <td>1</td>\n",
       "      <td>53</td>\n",
       "    </tr>\n",
       "    <tr>\n",
       "      <th>18246</th>\n",
       "      <td>1.87</td>\n",
       "      <td>13766.76</td>\n",
       "      <td>1191.92</td>\n",
       "      <td>2452.79</td>\n",
       "      <td>727.94</td>\n",
       "      <td>9394.11</td>\n",
       "      <td>9351.80</td>\n",
       "      <td>42.31</td>\n",
       "      <td>0.0</td>\n",
       "      <td>1</td>\n",
       "      <td>53</td>\n",
       "    </tr>\n",
       "    <tr>\n",
       "      <th>18247</th>\n",
       "      <td>1.93</td>\n",
       "      <td>16205.22</td>\n",
       "      <td>1527.63</td>\n",
       "      <td>2981.04</td>\n",
       "      <td>727.01</td>\n",
       "      <td>10969.54</td>\n",
       "      <td>10919.54</td>\n",
       "      <td>50.00</td>\n",
       "      <td>0.0</td>\n",
       "      <td>1</td>\n",
       "      <td>53</td>\n",
       "    </tr>\n",
       "    <tr>\n",
       "      <th>18248</th>\n",
       "      <td>1.62</td>\n",
       "      <td>17489.58</td>\n",
       "      <td>2894.77</td>\n",
       "      <td>2356.13</td>\n",
       "      <td>224.53</td>\n",
       "      <td>12014.15</td>\n",
       "      <td>11988.14</td>\n",
       "      <td>26.01</td>\n",
       "      <td>0.0</td>\n",
       "      <td>1</td>\n",
       "      <td>53</td>\n",
       "    </tr>\n",
       "  </tbody>\n",
       "</table>\n",
       "<p>17651 rows × 11 columns</p>\n",
       "</div>"
      ],
      "text/plain": [
       "       AveragePrice  Total Volume     4046       4225    4770  Total Bags  \\\n",
       "0              1.33      64236.62  1036.74   54454.85   48.16     8696.87   \n",
       "1              1.35      54876.98   674.28   44638.81   58.33     9505.56   \n",
       "2              0.93     118220.22   794.70  109149.67  130.50     8145.35   \n",
       "3              1.08      78992.15  1132.00   71976.41   72.58     5811.16   \n",
       "4              1.28      51039.60   941.48   43838.39   75.78     6183.95   \n",
       "...             ...           ...      ...        ...     ...         ...   \n",
       "18244          1.63      17074.83  2046.96    1529.20    0.00    13498.67   \n",
       "18245          1.71      13888.04  1191.70    3431.50    0.00     9264.84   \n",
       "18246          1.87      13766.76  1191.92    2452.79  727.94     9394.11   \n",
       "18247          1.93      16205.22  1527.63    2981.04  727.01    10969.54   \n",
       "18248          1.62      17489.58  2894.77    2356.13  224.53    12014.15   \n",
       "\n",
       "       Small Bags  Large Bags  XLarge Bags  type  region  \n",
       "0         8603.62       93.25          0.0     0       0  \n",
       "1         9408.07       97.49          0.0     0       0  \n",
       "2         8042.21      103.14          0.0     0       0  \n",
       "3         5677.40      133.76          0.0     0       0  \n",
       "4         5986.26      197.69          0.0     0       0  \n",
       "...           ...         ...          ...   ...     ...  \n",
       "18244    13066.82      431.85          0.0     1      53  \n",
       "18245     8940.04      324.80          0.0     1      53  \n",
       "18246     9351.80       42.31          0.0     1      53  \n",
       "18247    10919.54       50.00          0.0     1      53  \n",
       "18248    11988.14       26.01          0.0     1      53  \n",
       "\n",
       "[17651 rows x 11 columns]"
      ]
     },
     "execution_count": 99,
     "metadata": {},
     "output_type": "execute_result"
    }
   ],
   "source": [
    "z=np.abs(zscore(df))    #removing outliers\n",
    "threshold=3\n",
    "print(np.where(z>3))\n",
    "df_new=df[(z<3).all(axis=1)]\n",
    "df_new"
   ]
  },
  {
   "cell_type": "markdown",
   "id": "c20228aa",
   "metadata": {},
   "source": [
    "Removing the outliers so that the data can be normal distributed."
   ]
  },
  {
   "cell_type": "code",
   "execution_count": 100,
   "id": "c6185393",
   "metadata": {},
   "outputs": [
    {
     "data": {
      "text/plain": [
       "AveragePrice    0.377432\n",
       "Total Volume    3.767138\n",
       "4046            4.909848\n",
       "4225            4.455745\n",
       "4770            5.117170\n",
       "Total Bags      4.066771\n",
       "Small Bags      4.222706\n",
       "Large Bags      5.053434\n",
       "XLarge Bags     6.135607\n",
       "type           -0.037741\n",
       "region          0.012798\n",
       "dtype: float64"
      ]
     },
     "execution_count": 100,
     "metadata": {},
     "output_type": "execute_result"
    }
   ],
   "source": [
    "df_new.skew()"
   ]
  },
  {
   "cell_type": "markdown",
   "id": "3ce105a1",
   "metadata": {},
   "source": [
    "Still the skewness is there we can remove this skewness using yeo-johnson transformation."
   ]
  },
  {
   "cell_type": "code",
   "execution_count": 101,
   "id": "f22512c0",
   "metadata": {},
   "outputs": [
    {
     "data": {
      "text/plain": [
       "<AxesSubplot:>"
      ]
     },
     "execution_count": 101,
     "metadata": {},
     "output_type": "execute_result"
    },
    {
     "data": {
      "image/png": "[encoded data removed]",
      "text/plain": [
       "<Figure size 720x720 with 2 Axes>"
      ]
     },
     "metadata": {
      "needs_background": "light"
     },
     "output_type": "display_data"
    }
   ],
   "source": [
    "plt.figure(figsize=(10,10))\n",
    "sns.heatmap(df_new.corr(),annot=True)"
   ]
  },
  {
   "cell_type": "markdown",
   "id": "ddf98ef2",
   "metadata": {},
   "source": [
    "Analysing above heatmap from region point of view where we can see that average price is giving its least contribution in determining the region.\n",
    "Total bags are giving the maximum contribution in analysing the same."
   ]
  },
  {
   "cell_type": "code",
   "execution_count": 102,
   "id": "8bc8e054",
   "metadata": {},
   "outputs": [
    {
     "data": {
      "text/html": [
       "<div>\n",
       "<style scoped>\n",
       "    .dataframe tbody tr th:only-of-type {\n",
       "        vertical-align: middle;\n",
       "    }\n",
       "\n",
       "    .dataframe tbody tr th {\n",
       "        vertical-align: top;\n",
       "    }\n",
       "\n",
       "    .dataframe thead th {\n",
       "        text-align: right;\n",
       "    }\n",
       "</style>\n",
       "<table border=\"1\" class=\"dataframe\">\n",
       "  <thead>\n",
       "    <tr style=\"text-align: right;\">\n",
       "      <th></th>\n",
       "      <th>AveragePrice</th>\n",
       "      <th>Total Volume</th>\n",
       "      <th>4046</th>\n",
       "      <th>4225</th>\n",
       "      <th>4770</th>\n",
       "      <th>Total Bags</th>\n",
       "      <th>Small Bags</th>\n",
       "      <th>Large Bags</th>\n",
       "      <th>XLarge Bags</th>\n",
       "      <th>type</th>\n",
       "      <th>region</th>\n",
       "    </tr>\n",
       "  </thead>\n",
       "  <tbody>\n",
       "    <tr>\n",
       "      <th>0</th>\n",
       "      <td>1.33</td>\n",
       "      <td>64236.62</td>\n",
       "      <td>1036.74</td>\n",
       "      <td>54454.85</td>\n",
       "      <td>48.16</td>\n",
       "      <td>8696.87</td>\n",
       "      <td>8603.62</td>\n",
       "      <td>93.25</td>\n",
       "      <td>0.0</td>\n",
       "      <td>0</td>\n",
       "      <td>0</td>\n",
       "    </tr>\n",
       "    <tr>\n",
       "      <th>1</th>\n",
       "      <td>1.35</td>\n",
       "      <td>54876.98</td>\n",
       "      <td>674.28</td>\n",
       "      <td>44638.81</td>\n",
       "      <td>58.33</td>\n",
       "      <td>9505.56</td>\n",
       "      <td>9408.07</td>\n",
       "      <td>97.49</td>\n",
       "      <td>0.0</td>\n",
       "      <td>0</td>\n",
       "      <td>0</td>\n",
       "    </tr>\n",
       "    <tr>\n",
       "      <th>2</th>\n",
       "      <td>0.93</td>\n",
       "      <td>118220.22</td>\n",
       "      <td>794.70</td>\n",
       "      <td>109149.67</td>\n",
       "      <td>130.50</td>\n",
       "      <td>8145.35</td>\n",
       "      <td>8042.21</td>\n",
       "      <td>103.14</td>\n",
       "      <td>0.0</td>\n",
       "      <td>0</td>\n",
       "      <td>0</td>\n",
       "    </tr>\n",
       "    <tr>\n",
       "      <th>3</th>\n",
       "      <td>1.08</td>\n",
       "      <td>78992.15</td>\n",
       "      <td>1132.00</td>\n",
       "      <td>71976.41</td>\n",
       "      <td>72.58</td>\n",
       "      <td>5811.16</td>\n",
       "      <td>5677.40</td>\n",
       "      <td>133.76</td>\n",
       "      <td>0.0</td>\n",
       "      <td>0</td>\n",
       "      <td>0</td>\n",
       "    </tr>\n",
       "    <tr>\n",
       "      <th>4</th>\n",
       "      <td>1.28</td>\n",
       "      <td>51039.60</td>\n",
       "      <td>941.48</td>\n",
       "      <td>43838.39</td>\n",
       "      <td>75.78</td>\n",
       "      <td>6183.95</td>\n",
       "      <td>5986.26</td>\n",
       "      <td>197.69</td>\n",
       "      <td>0.0</td>\n",
       "      <td>0</td>\n",
       "      <td>0</td>\n",
       "    </tr>\n",
       "    <tr>\n",
       "      <th>...</th>\n",
       "      <td>...</td>\n",
       "      <td>...</td>\n",
       "      <td>...</td>\n",
       "      <td>...</td>\n",
       "      <td>...</td>\n",
       "      <td>...</td>\n",
       "      <td>...</td>\n",
       "      <td>...</td>\n",
       "      <td>...</td>\n",
       "      <td>...</td>\n",
       "      <td>...</td>\n",
       "    </tr>\n",
       "    <tr>\n",
       "      <th>18244</th>\n",
       "      <td>1.63</td>\n",
       "      <td>17074.83</td>\n",
       "      <td>2046.96</td>\n",
       "      <td>1529.20</td>\n",
       "      <td>0.00</td>\n",
       "      <td>13498.67</td>\n",
       "      <td>13066.82</td>\n",
       "      <td>431.85</td>\n",
       "      <td>0.0</td>\n",
       "      <td>1</td>\n",
       "      <td>53</td>\n",
       "    </tr>\n",
       "    <tr>\n",
       "      <th>18245</th>\n",
       "      <td>1.71</td>\n",
       "      <td>13888.04</td>\n",
       "      <td>1191.70</td>\n",
       "      <td>3431.50</td>\n",
       "      <td>0.00</td>\n",
       "      <td>9264.84</td>\n",
       "      <td>8940.04</td>\n",
       "      <td>324.80</td>\n",
       "      <td>0.0</td>\n",
       "      <td>1</td>\n",
       "      <td>53</td>\n",
       "    </tr>\n",
       "    <tr>\n",
       "      <th>18246</th>\n",
       "      <td>1.87</td>\n",
       "      <td>13766.76</td>\n",
       "      <td>1191.92</td>\n",
       "      <td>2452.79</td>\n",
       "      <td>727.94</td>\n",
       "      <td>9394.11</td>\n",
       "      <td>9351.80</td>\n",
       "      <td>42.31</td>\n",
       "      <td>0.0</td>\n",
       "      <td>1</td>\n",
       "      <td>53</td>\n",
       "    </tr>\n",
       "    <tr>\n",
       "      <th>18247</th>\n",
       "      <td>1.93</td>\n",
       "      <td>16205.22</td>\n",
       "      <td>1527.63</td>\n",
       "      <td>2981.04</td>\n",
       "      <td>727.01</td>\n",
       "      <td>10969.54</td>\n",
       "      <td>10919.54</td>\n",
       "      <td>50.00</td>\n",
       "      <td>0.0</td>\n",
       "      <td>1</td>\n",
       "      <td>53</td>\n",
       "    </tr>\n",
       "    <tr>\n",
       "      <th>18248</th>\n",
       "      <td>1.62</td>\n",
       "      <td>17489.58</td>\n",
       "      <td>2894.77</td>\n",
       "      <td>2356.13</td>\n",
       "      <td>224.53</td>\n",
       "      <td>12014.15</td>\n",
       "      <td>11988.14</td>\n",
       "      <td>26.01</td>\n",
       "      <td>0.0</td>\n",
       "      <td>1</td>\n",
       "      <td>53</td>\n",
       "    </tr>\n",
       "  </tbody>\n",
       "</table>\n",
       "<p>17651 rows × 11 columns</p>\n",
       "</div>"
      ],
      "text/plain": [
       "       AveragePrice  Total Volume     4046       4225    4770  Total Bags  \\\n",
       "0              1.33      64236.62  1036.74   54454.85   48.16     8696.87   \n",
       "1              1.35      54876.98   674.28   44638.81   58.33     9505.56   \n",
       "2              0.93     118220.22   794.70  109149.67  130.50     8145.35   \n",
       "3              1.08      78992.15  1132.00   71976.41   72.58     5811.16   \n",
       "4              1.28      51039.60   941.48   43838.39   75.78     6183.95   \n",
       "...             ...           ...      ...        ...     ...         ...   \n",
       "18244          1.63      17074.83  2046.96    1529.20    0.00    13498.67   \n",
       "18245          1.71      13888.04  1191.70    3431.50    0.00     9264.84   \n",
       "18246          1.87      13766.76  1191.92    2452.79  727.94     9394.11   \n",
       "18247          1.93      16205.22  1527.63    2981.04  727.01    10969.54   \n",
       "18248          1.62      17489.58  2894.77    2356.13  224.53    12014.15   \n",
       "\n",
       "       Small Bags  Large Bags  XLarge Bags  type  region  \n",
       "0         8603.62       93.25          0.0     0       0  \n",
       "1         9408.07       97.49          0.0     0       0  \n",
       "2         8042.21      103.14          0.0     0       0  \n",
       "3         5677.40      133.76          0.0     0       0  \n",
       "4         5986.26      197.69          0.0     0       0  \n",
       "...           ...         ...          ...   ...     ...  \n",
       "18244    13066.82      431.85          0.0     1      53  \n",
       "18245     8940.04      324.80          0.0     1      53  \n",
       "18246     9351.80       42.31          0.0     1      53  \n",
       "18247    10919.54       50.00          0.0     1      53  \n",
       "18248    11988.14       26.01          0.0     1      53  \n",
       "\n",
       "[17651 rows x 11 columns]"
      ]
     },
     "execution_count": 102,
     "metadata": {},
     "output_type": "execute_result"
    }
   ],
   "source": [
    "df_copy=df_new.copy()\n",
    "df_copy"
   ]
  },
  {
   "cell_type": "markdown",
   "id": "c7905ccd",
   "metadata": {},
   "source": [
    "Craeting a copy of dataset as we will be perfroming the regression as well as classification."
   ]
  },
  {
   "cell_type": "markdown",
   "id": "efebb954",
   "metadata": {},
   "source": [
    "## Dividing Dataset into X(Independent) and Y(Dependent) where Predicting Average Price"
   ]
  },
  {
   "cell_type": "code",
   "execution_count": 104,
   "id": "d6e21220",
   "metadata": {},
   "outputs": [
    {
     "data": {
      "text/html": [
       "<div>\n",
       "<style scoped>\n",
       "    .dataframe tbody tr th:only-of-type {\n",
       "        vertical-align: middle;\n",
       "    }\n",
       "\n",
       "    .dataframe tbody tr th {\n",
       "        vertical-align: top;\n",
       "    }\n",
       "\n",
       "    .dataframe thead th {\n",
       "        text-align: right;\n",
       "    }\n",
       "</style>\n",
       "<table border=\"1\" class=\"dataframe\">\n",
       "  <thead>\n",
       "    <tr style=\"text-align: right;\">\n",
       "      <th></th>\n",
       "      <th>Total Volume</th>\n",
       "      <th>4046</th>\n",
       "      <th>4225</th>\n",
       "      <th>4770</th>\n",
       "      <th>Total Bags</th>\n",
       "      <th>Small Bags</th>\n",
       "      <th>Large Bags</th>\n",
       "      <th>XLarge Bags</th>\n",
       "      <th>type</th>\n",
       "      <th>region</th>\n",
       "    </tr>\n",
       "  </thead>\n",
       "  <tbody>\n",
       "    <tr>\n",
       "      <th>0</th>\n",
       "      <td>64236.62</td>\n",
       "      <td>1036.74</td>\n",
       "      <td>54454.85</td>\n",
       "      <td>48.16</td>\n",
       "      <td>8696.87</td>\n",
       "      <td>8603.62</td>\n",
       "      <td>93.25</td>\n",
       "      <td>0.0</td>\n",
       "      <td>0</td>\n",
       "      <td>0</td>\n",
       "    </tr>\n",
       "    <tr>\n",
       "      <th>1</th>\n",
       "      <td>54876.98</td>\n",
       "      <td>674.28</td>\n",
       "      <td>44638.81</td>\n",
       "      <td>58.33</td>\n",
       "      <td>9505.56</td>\n",
       "      <td>9408.07</td>\n",
       "      <td>97.49</td>\n",
       "      <td>0.0</td>\n",
       "      <td>0</td>\n",
       "      <td>0</td>\n",
       "    </tr>\n",
       "    <tr>\n",
       "      <th>2</th>\n",
       "      <td>118220.22</td>\n",
       "      <td>794.70</td>\n",
       "      <td>109149.67</td>\n",
       "      <td>130.50</td>\n",
       "      <td>8145.35</td>\n",
       "      <td>8042.21</td>\n",
       "      <td>103.14</td>\n",
       "      <td>0.0</td>\n",
       "      <td>0</td>\n",
       "      <td>0</td>\n",
       "    </tr>\n",
       "    <tr>\n",
       "      <th>3</th>\n",
       "      <td>78992.15</td>\n",
       "      <td>1132.00</td>\n",
       "      <td>71976.41</td>\n",
       "      <td>72.58</td>\n",
       "      <td>5811.16</td>\n",
       "      <td>5677.40</td>\n",
       "      <td>133.76</td>\n",
       "      <td>0.0</td>\n",
       "      <td>0</td>\n",
       "      <td>0</td>\n",
       "    </tr>\n",
       "    <tr>\n",
       "      <th>4</th>\n",
       "      <td>51039.60</td>\n",
       "      <td>941.48</td>\n",
       "      <td>43838.39</td>\n",
       "      <td>75.78</td>\n",
       "      <td>6183.95</td>\n",
       "      <td>5986.26</td>\n",
       "      <td>197.69</td>\n",
       "      <td>0.0</td>\n",
       "      <td>0</td>\n",
       "      <td>0</td>\n",
       "    </tr>\n",
       "    <tr>\n",
       "      <th>...</th>\n",
       "      <td>...</td>\n",
       "      <td>...</td>\n",
       "      <td>...</td>\n",
       "      <td>...</td>\n",
       "      <td>...</td>\n",
       "      <td>...</td>\n",
       "      <td>...</td>\n",
       "      <td>...</td>\n",
       "      <td>...</td>\n",
       "      <td>...</td>\n",
       "    </tr>\n",
       "    <tr>\n",
       "      <th>18244</th>\n",
       "      <td>17074.83</td>\n",
       "      <td>2046.96</td>\n",
       "      <td>1529.20</td>\n",
       "      <td>0.00</td>\n",
       "      <td>13498.67</td>\n",
       "      <td>13066.82</td>\n",
       "      <td>431.85</td>\n",
       "      <td>0.0</td>\n",
       "      <td>1</td>\n",
       "      <td>53</td>\n",
       "    </tr>\n",
       "    <tr>\n",
       "      <th>18245</th>\n",
       "      <td>13888.04</td>\n",
       "      <td>1191.70</td>\n",
       "      <td>3431.50</td>\n",
       "      <td>0.00</td>\n",
       "      <td>9264.84</td>\n",
       "      <td>8940.04</td>\n",
       "      <td>324.80</td>\n",
       "      <td>0.0</td>\n",
       "      <td>1</td>\n",
       "      <td>53</td>\n",
       "    </tr>\n",
       "    <tr>\n",
       "      <th>18246</th>\n",
       "      <td>13766.76</td>\n",
       "      <td>1191.92</td>\n",
       "      <td>2452.79</td>\n",
       "      <td>727.94</td>\n",
       "      <td>9394.11</td>\n",
       "      <td>9351.80</td>\n",
       "      <td>42.31</td>\n",
       "      <td>0.0</td>\n",
       "      <td>1</td>\n",
       "      <td>53</td>\n",
       "    </tr>\n",
       "    <tr>\n",
       "      <th>18247</th>\n",
       "      <td>16205.22</td>\n",
       "      <td>1527.63</td>\n",
       "      <td>2981.04</td>\n",
       "      <td>727.01</td>\n",
       "      <td>10969.54</td>\n",
       "      <td>10919.54</td>\n",
       "      <td>50.00</td>\n",
       "      <td>0.0</td>\n",
       "      <td>1</td>\n",
       "      <td>53</td>\n",
       "    </tr>\n",
       "    <tr>\n",
       "      <th>18248</th>\n",
       "      <td>17489.58</td>\n",
       "      <td>2894.77</td>\n",
       "      <td>2356.13</td>\n",
       "      <td>224.53</td>\n",
       "      <td>12014.15</td>\n",
       "      <td>11988.14</td>\n",
       "      <td>26.01</td>\n",
       "      <td>0.0</td>\n",
       "      <td>1</td>\n",
       "      <td>53</td>\n",
       "    </tr>\n",
       "  </tbody>\n",
       "</table>\n",
       "<p>17651 rows × 10 columns</p>\n",
       "</div>"
      ],
      "text/plain": [
       "       Total Volume     4046       4225    4770  Total Bags  Small Bags  \\\n",
       "0          64236.62  1036.74   54454.85   48.16     8696.87     8603.62   \n",
       "1          54876.98   674.28   44638.81   58.33     9505.56     9408.07   \n",
       "2         118220.22   794.70  109149.67  130.50     8145.35     8042.21   \n",
       "3          78992.15  1132.00   71976.41   72.58     5811.16     5677.40   \n",
       "4          51039.60   941.48   43838.39   75.78     6183.95     5986.26   \n",
       "...             ...      ...        ...     ...         ...         ...   \n",
       "18244      17074.83  2046.96    1529.20    0.00    13498.67    13066.82   \n",
       "18245      13888.04  1191.70    3431.50    0.00     9264.84     8940.04   \n",
       "18246      13766.76  1191.92    2452.79  727.94     9394.11     9351.80   \n",
       "18247      16205.22  1527.63    2981.04  727.01    10969.54    10919.54   \n",
       "18248      17489.58  2894.77    2356.13  224.53    12014.15    11988.14   \n",
       "\n",
       "       Large Bags  XLarge Bags  type  region  \n",
       "0           93.25          0.0     0       0  \n",
       "1           97.49          0.0     0       0  \n",
       "2          103.14          0.0     0       0  \n",
       "3          133.76          0.0     0       0  \n",
       "4          197.69          0.0     0       0  \n",
       "...           ...          ...   ...     ...  \n",
       "18244      431.85          0.0     1      53  \n",
       "18245      324.80          0.0     1      53  \n",
       "18246       42.31          0.0     1      53  \n",
       "18247       50.00          0.0     1      53  \n",
       "18248       26.01          0.0     1      53  \n",
       "\n",
       "[17651 rows x 10 columns]"
      ]
     },
     "execution_count": 104,
     "metadata": {},
     "output_type": "execute_result"
    }
   ],
   "source": [
    "x=df_new.iloc[:,1:]  #Independent variable\n",
    "x"
   ]
  },
  {
   "cell_type": "code",
   "execution_count": 105,
   "id": "6783654e",
   "metadata": {},
   "outputs": [
    {
     "data": {
      "text/plain": [
       "0        1.33\n",
       "1        1.35\n",
       "2        0.93\n",
       "3        1.08\n",
       "4        1.28\n",
       "         ... \n",
       "18244    1.63\n",
       "18245    1.71\n",
       "18246    1.87\n",
       "18247    1.93\n",
       "18248    1.62\n",
       "Name: AveragePrice, Length: 17651, dtype: float64"
      ]
     },
     "execution_count": 105,
     "metadata": {},
     "output_type": "execute_result"
    }
   ],
   "source": [
    "y=df_new.iloc[:,0]  #Dependent Variable.\n",
    "y"
   ]
  },
  {
   "cell_type": "markdown",
   "id": "ee30328b",
   "metadata": {},
   "source": [
    "# Removing Skewness and Performing Standard Scaling"
   ]
  },
  {
   "cell_type": "code",
   "execution_count": 106,
   "id": "1fb44d9b",
   "metadata": {},
   "outputs": [
    {
     "data": {
      "text/plain": [
       "array([[-0.07532391, -0.65742071,  0.35142978, ..., -0.67791909,\n",
       "        -1.01904715, -2.01058988],\n",
       "       [-0.14749743, -0.77717852,  0.26951276, ..., -0.67791909,\n",
       "        -1.01904715, -2.01058988],\n",
       "       [ 0.20555557, -0.7317763 ,  0.64933326, ..., -0.67791909,\n",
       "        -1.01904715, -2.01058988],\n",
       "       ...,\n",
       "       [-0.77527398, -0.61796649, -0.77889327, ..., -0.67791909,\n",
       "         0.98130886,  1.57828237],\n",
       "       [-0.70179733, -0.54701087, -0.71637127, ..., -0.67791909,\n",
       "         0.98130886,  1.57828237],\n",
       "       [-0.66738095, -0.35967077, -0.79165015, ..., -0.67791909,\n",
       "         0.98130886,  1.57828237]])"
      ]
     },
     "execution_count": 106,
     "metadata": {},
     "output_type": "execute_result"
    }
   ],
   "source": [
    "from sklearn.preprocessing import power_transform,StandardScaler\n",
    "x=power_transform(x,method='yeo-johnson')\n",
    "x   #Removing the skewness using yeo-johnson.\n"
   ]
  },
  {
   "cell_type": "code",
   "execution_count": 107,
   "id": "9a389a9a",
   "metadata": {},
   "outputs": [
    {
     "data": {
      "text/plain": [
       "array([[-0.07532391, -0.65742071,  0.35142978, ..., -0.67791909,\n",
       "        -1.01904715, -2.01058988],\n",
       "       [-0.14749743, -0.77717852,  0.26951276, ..., -0.67791909,\n",
       "        -1.01904715, -2.01058988],\n",
       "       [ 0.20555557, -0.7317763 ,  0.64933326, ..., -0.67791909,\n",
       "        -1.01904715, -2.01058988],\n",
       "       ...,\n",
       "       [-0.77527398, -0.61796649, -0.77889327, ..., -0.67791909,\n",
       "         0.98130886,  1.57828237],\n",
       "       [-0.70179733, -0.54701087, -0.71637127, ..., -0.67791909,\n",
       "         0.98130886,  1.57828237],\n",
       "       [-0.66738095, -0.35967077, -0.79165015, ..., -0.67791909,\n",
       "         0.98130886,  1.57828237]])"
      ]
     },
     "execution_count": 107,
     "metadata": {},
     "output_type": "execute_result"
    }
   ],
   "source": [
    "mn=StandardScaler()\n",
    "x=mn.fit_transform(x)\n",
    "x"
   ]
  },
  {
   "cell_type": "markdown",
   "id": "8aa1a7b3",
   "metadata": {},
   "source": [
    "As we could see that the data is on very diffenet scales....in each of the columns bringing them on the same scale so as to get the best results."
   ]
  },
  {
   "cell_type": "markdown",
   "id": "577eeeb2",
   "metadata": {},
   "source": [
    "# Performing Algorithms"
   ]
  },
  {
   "cell_type": "markdown",
   "id": "3dc9052d",
   "metadata": {},
   "source": [
    "Where the average price is the output variable."
   ]
  },
  {
   "cell_type": "code",
   "execution_count": 108,
   "id": "9c4c2e45",
   "metadata": {},
   "outputs": [
    {
     "name": "stdout",
     "output_type": "stream",
     "text": [
      "MSE is  0.08 at random state 85\n"
     ]
    }
   ],
   "source": [
    "minmse=0    #finding the best Random State\n",
    "maxrs=0\n",
    "for i in range(1,100):\n",
    "    x_train,x_test,y_train,y_test=train_test_split(x,y,test_size=.30,random_state=i)\n",
    "    lr=LinearRegression()\n",
    "    lr.fit(x_train,y_train)\n",
    "    pred=lr.predict(x_test)\n",
    "    err=mean_squared_error(y_test,pred)\n",
    "    if err>minmse:\n",
    "        minmse=err\n",
    "        maxrs=i\n",
    "print(\"MSE is \",round(minmse,2),\"at random state\",maxrs)"
   ]
  },
  {
   "cell_type": "code",
   "execution_count": 109,
   "id": "7c9deed6",
   "metadata": {},
   "outputs": [],
   "source": [
    "x_train1,x_test1,y_train1,y_test1=train_test_split(x,y,test_size=.30,random_state=85)"
   ]
  },
  {
   "cell_type": "markdown",
   "id": "41c9f6b5",
   "metadata": {},
   "source": [
    "# Linear Regression"
   ]
  },
  {
   "cell_type": "code",
   "execution_count": 110,
   "id": "116fd787",
   "metadata": {},
   "outputs": [
    {
     "name": "stdout",
     "output_type": "stream",
     "text": [
      "Cofficient is: [-0.34603388  0.00307072  0.24547563 -0.00506091 -0.17390338  0.23113462\n",
      " -0.02400155  0.02690402  0.18567893  0.01107002]\n",
      "Intercept is:  1.4027042088676234\n",
      "Score is:  49.65329988333497\n",
      "Mean Squared Error is:  0.08\n",
      "Mean Absolute Error is:  0.22\n",
      "R2 Score is:  0.5\n"
     ]
    }
   ],
   "source": [
    "lr=LinearRegression()\n",
    "lr.fit(x_train1,y_train1)\n",
    "print(\"Cofficient is:\",lr.coef_)\n",
    "print(\"Intercept is: \",lr.intercept_)\n",
    "sco=lr.score(x_train1,y_train1)\n",
    "sco1=sco*100\n",
    "print(\"Score is: \",sco1)\n",
    "pred=lr.predict(x_test1)\n",
    "mse=mean_squared_error(y_test1,pred)\n",
    "print(\"Mean Squared Error is: \",round(mse,2))\n",
    "abse=mean_absolute_error(y_test1,pred)\n",
    "print(\"Mean Absolute Error is: \",round(abse,2))\n",
    "scr=r2_score(y_test1,pred)\n",
    "print(\"R2 Score is: \",round(scr,2))\n"
   ]
  },
  {
   "cell_type": "markdown",
   "id": "e1193733",
   "metadata": {},
   "source": [
    "# Decision Tree Regressor"
   ]
  },
  {
   "cell_type": "code",
   "execution_count": 111,
   "id": "7b7cea1f",
   "metadata": {},
   "outputs": [
    {
     "name": "stdout",
     "output_type": "stream",
     "text": [
      "Mean Squared Error is: 0.06\n",
      "Mean Absolute Error is: 0.16\n",
      "R2 Score is: 0.63\n"
     ]
    }
   ],
   "source": [
    "dtr=DecisionTreeRegressor()\n",
    "dtr.fit(x_train1,y_train1)\n",
    "sw2=dtr.score(x_train1,y_train1)\n",
    "pred=dtr.predict(x_test1)\n",
    "print(\"Mean Squared Error is:\",round(mean_squared_error(y_test1,pred),2))\n",
    "print(\"Mean Absolute Error is:\",round(mean_absolute_error(y_test1,pred),2))\n",
    "print(\"R2 Score is:\",round(r2_score(y_test1,pred),2))\n"
   ]
  },
  {
   "cell_type": "markdown",
   "id": "063a98f3",
   "metadata": {},
   "source": [
    "# Support Vector Regressor"
   ]
  },
  {
   "cell_type": "code",
   "execution_count": 112,
   "id": "66978379",
   "metadata": {},
   "outputs": [
    {
     "name": "stdout",
     "output_type": "stream",
     "text": [
      "Coffecient is:  [[-3.62123530e-01 -1.45657605e-04  2.42690105e-01 -1.18445029e-02\n",
      "  -1.58617330e-01  2.42998149e-01 -1.86040735e-02  1.86849848e-02\n",
      "   1.83306532e-01  5.22022630e-03]]\n",
      "Intercept is:  [1.38325035]\n",
      "Score is:  0.4925585732779336\n",
      "Mean Squared Error is: 0.08\n",
      "Mean Absolute Error is: 0.22\n",
      "R2 Score is: 0.49\n"
     ]
    }
   ],
   "source": [
    "svr1=SVR(kernel=\"linear\")\n",
    "svr1.fit(x_train1,y_train1)\n",
    "sw2=svr1.score(x_train1,y_train1)\n",
    "print(\"Coffecient is: \",svr1.coef_)\n",
    "print(\"Intercept is: \",svr1.intercept_)\n",
    "print(\"Score is: \",sw2)\n",
    "pred=svr1.predict(x_test1)\n",
    "print(\"Mean Squared Error is:\",round(mean_squared_error(y_test1,pred),2))\n",
    "print(\"Mean Absolute Error is:\",round(mean_absolute_error(y_test1,pred),2))\n",
    "print(\"R2 Score is:\",round(r2_score(y_test1,pred),2))"
   ]
  },
  {
   "cell_type": "markdown",
   "id": "f07ca3aa",
   "metadata": {},
   "source": [
    "# K Neighbors Regressor"
   ]
  },
  {
   "cell_type": "code",
   "execution_count": 113,
   "id": "7f1d3599",
   "metadata": {},
   "outputs": [
    {
     "name": "stdout",
     "output_type": "stream",
     "text": [
      "Score is:  0.8741622484991017\n",
      "Mean Squared Error is: 0.03\n",
      "Mean Absolute Error is: 0.12\n",
      "R2 Score is: 0.8\n"
     ]
    }
   ],
   "source": [
    "knr1=KNeighborsRegressor()\n",
    "knr1.fit(x_train1,y_train1)\n",
    "sw2=knr1.score(x_train1,y_train1)\n",
    "#print(\"Coffecient is: \",knr1.coef_)\n",
    "#print(\"Intercept is: \",knr1.intercept_)\n",
    "print(\"Score is: \",sw2)\n",
    "pred=knr1.predict(x_test1)\n",
    "print(\"Mean Squared Error is:\",round(mean_squared_error(y_test1,pred),2))\n",
    "print(\"Mean Absolute Error is:\",round(mean_absolute_error(y_test1,pred),2))\n",
    "print(\"R2 Score is:\",round(r2_score(y_test1,pred),2))\n"
   ]
  },
  {
   "cell_type": "markdown",
   "id": "4a106d46",
   "metadata": {},
   "source": [
    "# Lasso Regressor"
   ]
  },
  {
   "cell_type": "code",
   "execution_count": 114,
   "id": "77387dff",
   "metadata": {},
   "outputs": [
    {
     "name": "stdout",
     "output_type": "stream",
     "text": [
      "Mean Squared Error is:  0.16 for the value of alpha: 1\n",
      "Mean Absolute Error is:  0.32 for the value of alpha: 1\n",
      "R2_Score is:  -0.0 for the value of alpha: 1\n",
      "Mean Squared Error is:  0.09 for the value of alpha: 0.01\n",
      "Mean Absolute Error is:  0.23 for the value of alpha: 0.01\n",
      "R2_Score is:  0.44 for the value of alpha: 0.01\n",
      "Mean Squared Error is:  0.08 for the value of alpha: 0.001\n",
      "Mean Absolute Error is:  0.22 for the value of alpha: 0.001\n",
      "R2_Score is:  0.5 for the value of alpha: 0.001\n",
      "Mean Squared Error is:  0.08 for the value of alpha: 0.0001\n",
      "Mean Absolute Error is:  0.22 for the value of alpha: 0.0001\n",
      "R2_Score is:  0.5 for the value of alpha: 0.0001\n"
     ]
    }
   ],
   "source": [
    "lst=[1,0.01,0.001,0.0001]   #finding the best value of alpha\n",
    "for i in lst:\n",
    "    ls=Lasso(alpha=i)\n",
    "    ls.fit(x_train1,y_train1)\n",
    "    ls.score(x_train1,y_train1)\n",
    "    pred=ls.predict(x_test1)\n",
    "    print(\"Mean Squared Error is: \",round(mean_squared_error(y_test1,pred),2),\"for the value of alpha:\",i)\n",
    "    print(\"Mean Absolute Error is: \",round(mean_absolute_error(y_test1,pred),2),\"for the value of alpha:\",i)\n",
    "    print(\"R2_Score is: \",round(r2_score(y_test1,pred),2),\"for the value of alpha:\",i)"
   ]
  },
  {
   "cell_type": "code",
   "execution_count": 115,
   "id": "7e8c4b39",
   "metadata": {},
   "outputs": [
    {
     "name": "stdout",
     "output_type": "stream",
     "text": [
      "Coffecient is:  [-0.31409157 -0.00151448  0.22513326 -0.         -0.15019311  0.19908451\n",
      " -0.03045644  0.02444951  0.1849742   0.00980514]\n",
      "Intercept is:  1.402698855106427\n",
      "Score is:  0.495804022809446\n",
      "Mean Squared Error is: 0.08\n",
      "Mean Absolute Error is: 0.22\n",
      "R2 Score is: 0.5\n"
     ]
    }
   ],
   "source": [
    "ls1=Lasso(alpha=0.001)   #choosing the best alpha\n",
    "ls1.fit(x_train1,y_train1)\n",
    "sw=ls1.score(x_train1,y_train1)\n",
    "print(\"Coffecient is: \",ls1.coef_)\n",
    "print(\"Intercept is: \",ls1.intercept_)\n",
    "print(\"Score is: \",sw)\n",
    "pred=ls1.predict(x_test1)\n",
    "print(\"Mean Squared Error is:\",round(mean_squared_error(y_test1,pred),2))\n",
    "print(\"Mean Absolute Error is:\",round(mean_absolute_error(y_test1,pred),2))\n",
    "print(\"R2 Score is:\",round(r2_score(y_test1,pred),2))"
   ]
  },
  {
   "cell_type": "markdown",
   "id": "210bb26a",
   "metadata": {},
   "source": [
    "# Ridge Regressor"
   ]
  },
  {
   "cell_type": "code",
   "execution_count": 116,
   "id": "9f07039a",
   "metadata": {},
   "outputs": [
    {
     "name": "stdout",
     "output_type": "stream",
     "text": [
      "Coffecient is:  [-0.34603237  0.00307035  0.24547496 -0.00506086 -0.17390334  0.23113406\n",
      " -0.02400166  0.02690403  0.18567896  0.01107003]\n",
      "Intercept is:  1.4027042082560257\n",
      "Score is:  0.4965329988328985\n",
      "Mean Squared Error is: 0.08\n",
      "Mean Absolute Error is: 0.22\n",
      "R2 Score is: 0.5\n"
     ]
    }
   ],
   "source": [
    "lt1=Ridge(alpha=0.001) #choosing the best alpha\n",
    "lt1.fit(x_train1,y_train1)\n",
    "sw1=lt1.score(x_train1,y_train1)\n",
    "print(\"Coffecient is: \",lt1.coef_)\n",
    "print(\"Intercept is: \",lt1.intercept_)\n",
    "print(\"Score is: \",sw1)\n",
    "pred=lt1.predict(x_test1)\n",
    "print(\"Mean Squared Error is:\",round(mean_squared_error(y_test1,pred),2))\n",
    "print(\"Mean Absolute Error is:\",round(mean_absolute_error(y_test1,pred),2))\n",
    "print(\"R2 Score is:\",round(r2_score(y_test1,pred),2))"
   ]
  },
  {
   "cell_type": "markdown",
   "id": "4af9d8fa",
   "metadata": {},
   "source": [
    "# Performing Cross Validation Score"
   ]
  },
  {
   "cell_type": "code",
   "execution_count": 117,
   "id": "ad3c0e1a",
   "metadata": {},
   "outputs": [
    {
     "name": "stdout",
     "output_type": "stream",
     "text": [
      "-0.13446867408617963\n"
     ]
    }
   ],
   "source": [
    "print(cross_val_score(dtr,x,y,cv=5,scoring='neg_mean_squared_error').mean())  #decision Tree Regressor"
   ]
  },
  {
   "cell_type": "code",
   "execution_count": 118,
   "id": "785f3c1d",
   "metadata": {},
   "outputs": [
    {
     "name": "stdout",
     "output_type": "stream",
     "text": [
      "-0.09509828754636995\n"
     ]
    }
   ],
   "source": [
    "print(cross_val_score(knr1,x,y,cv=5,scoring='neg_mean_squared_error').mean()) #KNeighbors Regressor"
   ]
  },
  {
   "cell_type": "code",
   "execution_count": 119,
   "id": "4c964672",
   "metadata": {},
   "outputs": [
    {
     "name": "stdout",
     "output_type": "stream",
     "text": [
      "-0.08785129767309599\n"
     ]
    }
   ],
   "source": [
    "print(cross_val_score(lt1,x,y,cv=5,scoring='neg_mean_squared_error').mean())  #Ridge Regressor"
   ]
  },
  {
   "cell_type": "code",
   "execution_count": 120,
   "id": "baa6553b",
   "metadata": {},
   "outputs": [
    {
     "name": "stdout",
     "output_type": "stream",
     "text": [
      "-0.08784713667982608\n"
     ]
    }
   ],
   "source": [
    "print(cross_val_score(ls1,x,y,cv=5,scoring='neg_mean_squared_error').mean())  #Lasso Regressor"
   ]
  },
  {
   "cell_type": "code",
   "execution_count": 121,
   "id": "a08b28b4",
   "metadata": {},
   "outputs": [
    {
     "name": "stdout",
     "output_type": "stream",
     "text": [
      "-0.08785130138424942\n"
     ]
    }
   ],
   "source": [
    "print(cross_val_score(lr,x,y,cv=5,scoring='neg_mean_squared_error').mean())   #Linear Regressor"
   ]
  },
  {
   "cell_type": "markdown",
   "id": "9cec0aa2",
   "metadata": {},
   "source": [
    "After comparing the cross validation scores and the actual MSE scores from above we can see that Lasso Regression is giving the best results and performing hyperparameter tunning for the same."
   ]
  },
  {
   "cell_type": "markdown",
   "id": "43f32d5d",
   "metadata": {},
   "source": [
    "# Hyper Parameter Tuning"
   ]
  },
  {
   "cell_type": "code",
   "execution_count": 122,
   "id": "4c51623f",
   "metadata": {},
   "outputs": [],
   "source": [
    "parameter={\"selection\":['cyclic','random'],\n",
    "          \"fit_intercept\":[True,False],\n",
    "          \"normalize\":[True,False],\n",
    "          \"max_iter\":np.arange(2,20),\n",
    "          \"copy_X\":[True,False]}"
   ]
  },
  {
   "cell_type": "code",
   "execution_count": 123,
   "id": "7a5a675f",
   "metadata": {},
   "outputs": [],
   "source": [
    "gcv=GridSearchCV(Lasso(),parameter,cv=5)"
   ]
  },
  {
   "cell_type": "code",
   "execution_count": 124,
   "id": "a26e00b3",
   "metadata": {},
   "outputs": [
    {
     "data": {
      "text/plain": [
       "GridSearchCV(cv=5, estimator=Lasso(),\n",
       "             param_grid={'copy_X': [True, False],\n",
       "                         'fit_intercept': [True, False],\n",
       "                         'max_iter': array([ 2,  3,  4,  5,  6,  7,  8,  9, 10, 11, 12, 13, 14, 15, 16, 17, 18,\n",
       "       19]),\n",
       "                         'normalize': [True, False],\n",
       "                         'selection': ['cyclic', 'random']})"
      ]
     },
     "execution_count": 124,
     "metadata": {},
     "output_type": "execute_result"
    }
   ],
   "source": [
    "gcv.fit(x_train1,y_train1)"
   ]
  },
  {
   "cell_type": "code",
   "execution_count": 125,
   "id": "8291c807",
   "metadata": {},
   "outputs": [
    {
     "data": {
      "text/plain": [
       "{'copy_X': True,\n",
       " 'fit_intercept': True,\n",
       " 'max_iter': 2,\n",
       " 'normalize': True,\n",
       " 'selection': 'cyclic'}"
      ]
     },
     "execution_count": 125,
     "metadata": {},
     "output_type": "execute_result"
    }
   ],
   "source": [
    "gcv.best_params_"
   ]
  },
  {
   "cell_type": "markdown",
   "id": "53cea61c",
   "metadata": {},
   "source": [
    "# Final Model"
   ]
  },
  {
   "cell_type": "code",
   "execution_count": 126,
   "id": "b575660c",
   "metadata": {},
   "outputs": [
    {
     "name": "stdout",
     "output_type": "stream",
     "text": [
      "Coffecient is:  [-0.31409157 -0.00151448  0.22513326 -0.         -0.15019311  0.19908451\n",
      " -0.03045644  0.02444951  0.1849742   0.00980514]\n",
      "Intercept is:  1.402698855106427\n",
      "Score is:  0.495804022809446\n",
      "Mean Squared Error is: 0.08\n",
      "Mean Absolute Error is: 0.22\n",
      "R2 Score is: 0.5\n"
     ]
    }
   ],
   "source": [
    "ls1=Lasso(alpha=0.001,copy_X=True,fit_intercept=True,selection='cyclic',normalize=False) \n",
    "ls1.fit(x_train1,y_train1)\n",
    "sw=ls1.score(x_train1,y_train1)\n",
    "print(\"Coffecient is: \",ls1.coef_)\n",
    "print(\"Intercept is: \",ls1.intercept_)\n",
    "print(\"Score is: \",sw)\n",
    "pred=ls1.predict(x_test1)\n",
    "print(\"Mean Squared Error is:\",round(mean_squared_error(y_test1,pred),2))\n",
    "print(\"Mean Absolute Error is:\",round(mean_absolute_error(y_test1,pred),2))\n",
    "print(\"R2 Score is:\",round(r2_score(y_test1,pred),2))"
   ]
  },
  {
   "cell_type": "markdown",
   "id": "f508f8d0",
   "metadata": {},
   "source": [
    "# Saving the Model"
   ]
  },
  {
   "cell_type": "code",
   "execution_count": 127,
   "id": "c6a23939",
   "metadata": {},
   "outputs": [
    {
     "data": {
      "text/plain": [
       "['avocadoreg.pkl']"
      ]
     },
     "execution_count": 127,
     "metadata": {},
     "output_type": "execute_result"
    }
   ],
   "source": [
    "import joblib\n",
    "joblib.dump(ls1,\"avocadoreg.pkl\")"
   ]
  },
  {
   "cell_type": "markdown",
   "id": "e040cfb0",
   "metadata": {},
   "source": [
    "## Dividing the Dataset into X(Independent) and Y(dependent) Where Region is Dependent variable"
   ]
  },
  {
   "cell_type": "code",
   "execution_count": 128,
   "id": "b7c5352e",
   "metadata": {},
   "outputs": [
    {
     "data": {
      "text/html": [
       "<div>\n",
       "<style scoped>\n",
       "    .dataframe tbody tr th:only-of-type {\n",
       "        vertical-align: middle;\n",
       "    }\n",
       "\n",
       "    .dataframe tbody tr th {\n",
       "        vertical-align: top;\n",
       "    }\n",
       "\n",
       "    .dataframe thead th {\n",
       "        text-align: right;\n",
       "    }\n",
       "</style>\n",
       "<table border=\"1\" class=\"dataframe\">\n",
       "  <thead>\n",
       "    <tr style=\"text-align: right;\">\n",
       "      <th></th>\n",
       "      <th>AveragePrice</th>\n",
       "      <th>Total Volume</th>\n",
       "      <th>4046</th>\n",
       "      <th>4225</th>\n",
       "      <th>4770</th>\n",
       "      <th>Total Bags</th>\n",
       "      <th>Small Bags</th>\n",
       "      <th>Large Bags</th>\n",
       "      <th>XLarge Bags</th>\n",
       "      <th>type</th>\n",
       "    </tr>\n",
       "  </thead>\n",
       "  <tbody>\n",
       "    <tr>\n",
       "      <th>0</th>\n",
       "      <td>1.33</td>\n",
       "      <td>64236.62</td>\n",
       "      <td>1036.74</td>\n",
       "      <td>54454.85</td>\n",
       "      <td>48.16</td>\n",
       "      <td>8696.87</td>\n",
       "      <td>8603.62</td>\n",
       "      <td>93.25</td>\n",
       "      <td>0.0</td>\n",
       "      <td>0</td>\n",
       "    </tr>\n",
       "    <tr>\n",
       "      <th>1</th>\n",
       "      <td>1.35</td>\n",
       "      <td>54876.98</td>\n",
       "      <td>674.28</td>\n",
       "      <td>44638.81</td>\n",
       "      <td>58.33</td>\n",
       "      <td>9505.56</td>\n",
       "      <td>9408.07</td>\n",
       "      <td>97.49</td>\n",
       "      <td>0.0</td>\n",
       "      <td>0</td>\n",
       "    </tr>\n",
       "    <tr>\n",
       "      <th>2</th>\n",
       "      <td>0.93</td>\n",
       "      <td>118220.22</td>\n",
       "      <td>794.70</td>\n",
       "      <td>109149.67</td>\n",
       "      <td>130.50</td>\n",
       "      <td>8145.35</td>\n",
       "      <td>8042.21</td>\n",
       "      <td>103.14</td>\n",
       "      <td>0.0</td>\n",
       "      <td>0</td>\n",
       "    </tr>\n",
       "    <tr>\n",
       "      <th>3</th>\n",
       "      <td>1.08</td>\n",
       "      <td>78992.15</td>\n",
       "      <td>1132.00</td>\n",
       "      <td>71976.41</td>\n",
       "      <td>72.58</td>\n",
       "      <td>5811.16</td>\n",
       "      <td>5677.40</td>\n",
       "      <td>133.76</td>\n",
       "      <td>0.0</td>\n",
       "      <td>0</td>\n",
       "    </tr>\n",
       "    <tr>\n",
       "      <th>4</th>\n",
       "      <td>1.28</td>\n",
       "      <td>51039.60</td>\n",
       "      <td>941.48</td>\n",
       "      <td>43838.39</td>\n",
       "      <td>75.78</td>\n",
       "      <td>6183.95</td>\n",
       "      <td>5986.26</td>\n",
       "      <td>197.69</td>\n",
       "      <td>0.0</td>\n",
       "      <td>0</td>\n",
       "    </tr>\n",
       "  </tbody>\n",
       "</table>\n",
       "</div>"
      ],
      "text/plain": [
       "   AveragePrice  Total Volume     4046       4225    4770  Total Bags  \\\n",
       "0          1.33      64236.62  1036.74   54454.85   48.16     8696.87   \n",
       "1          1.35      54876.98   674.28   44638.81   58.33     9505.56   \n",
       "2          0.93     118220.22   794.70  109149.67  130.50     8145.35   \n",
       "3          1.08      78992.15  1132.00   71976.41   72.58     5811.16   \n",
       "4          1.28      51039.60   941.48   43838.39   75.78     6183.95   \n",
       "\n",
       "   Small Bags  Large Bags  XLarge Bags  type  \n",
       "0     8603.62       93.25          0.0     0  \n",
       "1     9408.07       97.49          0.0     0  \n",
       "2     8042.21      103.14          0.0     0  \n",
       "3     5677.40      133.76          0.0     0  \n",
       "4     5986.26      197.69          0.0     0  "
      ]
     },
     "execution_count": 128,
     "metadata": {},
     "output_type": "execute_result"
    }
   ],
   "source": [
    "x_region=df_copy.iloc[:,0:-1]  #independent variable\n",
    "x_region.head()"
   ]
  },
  {
   "cell_type": "code",
   "execution_count": 129,
   "id": "24c46869",
   "metadata": {},
   "outputs": [
    {
     "data": {
      "text/html": [
       "<div>\n",
       "<style scoped>\n",
       "    .dataframe tbody tr th:only-of-type {\n",
       "        vertical-align: middle;\n",
       "    }\n",
       "\n",
       "    .dataframe tbody tr th {\n",
       "        vertical-align: top;\n",
       "    }\n",
       "\n",
       "    .dataframe thead th {\n",
       "        text-align: right;\n",
       "    }\n",
       "</style>\n",
       "<table border=\"1\" class=\"dataframe\">\n",
       "  <thead>\n",
       "    <tr style=\"text-align: right;\">\n",
       "      <th></th>\n",
       "      <th>AveragePrice</th>\n",
       "      <th>Total Volume</th>\n",
       "      <th>4046</th>\n",
       "      <th>4225</th>\n",
       "      <th>4770</th>\n",
       "      <th>Total Bags</th>\n",
       "      <th>Small Bags</th>\n",
       "      <th>Large Bags</th>\n",
       "      <th>XLarge Bags</th>\n",
       "      <th>type</th>\n",
       "      <th>region</th>\n",
       "    </tr>\n",
       "  </thead>\n",
       "  <tbody>\n",
       "    <tr>\n",
       "      <th>0</th>\n",
       "      <td>1.33</td>\n",
       "      <td>64236.62</td>\n",
       "      <td>1036.74</td>\n",
       "      <td>54454.85</td>\n",
       "      <td>48.16</td>\n",
       "      <td>8696.87</td>\n",
       "      <td>8603.62</td>\n",
       "      <td>93.25</td>\n",
       "      <td>0.0</td>\n",
       "      <td>0</td>\n",
       "      <td>0</td>\n",
       "    </tr>\n",
       "    <tr>\n",
       "      <th>1</th>\n",
       "      <td>1.35</td>\n",
       "      <td>54876.98</td>\n",
       "      <td>674.28</td>\n",
       "      <td>44638.81</td>\n",
       "      <td>58.33</td>\n",
       "      <td>9505.56</td>\n",
       "      <td>9408.07</td>\n",
       "      <td>97.49</td>\n",
       "      <td>0.0</td>\n",
       "      <td>0</td>\n",
       "      <td>0</td>\n",
       "    </tr>\n",
       "    <tr>\n",
       "      <th>2</th>\n",
       "      <td>0.93</td>\n",
       "      <td>118220.22</td>\n",
       "      <td>794.70</td>\n",
       "      <td>109149.67</td>\n",
       "      <td>130.50</td>\n",
       "      <td>8145.35</td>\n",
       "      <td>8042.21</td>\n",
       "      <td>103.14</td>\n",
       "      <td>0.0</td>\n",
       "      <td>0</td>\n",
       "      <td>0</td>\n",
       "    </tr>\n",
       "    <tr>\n",
       "      <th>3</th>\n",
       "      <td>1.08</td>\n",
       "      <td>78992.15</td>\n",
       "      <td>1132.00</td>\n",
       "      <td>71976.41</td>\n",
       "      <td>72.58</td>\n",
       "      <td>5811.16</td>\n",
       "      <td>5677.40</td>\n",
       "      <td>133.76</td>\n",
       "      <td>0.0</td>\n",
       "      <td>0</td>\n",
       "      <td>0</td>\n",
       "    </tr>\n",
       "    <tr>\n",
       "      <th>4</th>\n",
       "      <td>1.28</td>\n",
       "      <td>51039.60</td>\n",
       "      <td>941.48</td>\n",
       "      <td>43838.39</td>\n",
       "      <td>75.78</td>\n",
       "      <td>6183.95</td>\n",
       "      <td>5986.26</td>\n",
       "      <td>197.69</td>\n",
       "      <td>0.0</td>\n",
       "      <td>0</td>\n",
       "      <td>0</td>\n",
       "    </tr>\n",
       "    <tr>\n",
       "      <th>...</th>\n",
       "      <td>...</td>\n",
       "      <td>...</td>\n",
       "      <td>...</td>\n",
       "      <td>...</td>\n",
       "      <td>...</td>\n",
       "      <td>...</td>\n",
       "      <td>...</td>\n",
       "      <td>...</td>\n",
       "      <td>...</td>\n",
       "      <td>...</td>\n",
       "      <td>...</td>\n",
       "    </tr>\n",
       "    <tr>\n",
       "      <th>18244</th>\n",
       "      <td>1.63</td>\n",
       "      <td>17074.83</td>\n",
       "      <td>2046.96</td>\n",
       "      <td>1529.20</td>\n",
       "      <td>0.00</td>\n",
       "      <td>13498.67</td>\n",
       "      <td>13066.82</td>\n",
       "      <td>431.85</td>\n",
       "      <td>0.0</td>\n",
       "      <td>1</td>\n",
       "      <td>1</td>\n",
       "    </tr>\n",
       "    <tr>\n",
       "      <th>18245</th>\n",
       "      <td>1.71</td>\n",
       "      <td>13888.04</td>\n",
       "      <td>1191.70</td>\n",
       "      <td>3431.50</td>\n",
       "      <td>0.00</td>\n",
       "      <td>9264.84</td>\n",
       "      <td>8940.04</td>\n",
       "      <td>324.80</td>\n",
       "      <td>0.0</td>\n",
       "      <td>1</td>\n",
       "      <td>1</td>\n",
       "    </tr>\n",
       "    <tr>\n",
       "      <th>18246</th>\n",
       "      <td>1.87</td>\n",
       "      <td>13766.76</td>\n",
       "      <td>1191.92</td>\n",
       "      <td>2452.79</td>\n",
       "      <td>727.94</td>\n",
       "      <td>9394.11</td>\n",
       "      <td>9351.80</td>\n",
       "      <td>42.31</td>\n",
       "      <td>0.0</td>\n",
       "      <td>1</td>\n",
       "      <td>1</td>\n",
       "    </tr>\n",
       "    <tr>\n",
       "      <th>18247</th>\n",
       "      <td>1.93</td>\n",
       "      <td>16205.22</td>\n",
       "      <td>1527.63</td>\n",
       "      <td>2981.04</td>\n",
       "      <td>727.01</td>\n",
       "      <td>10969.54</td>\n",
       "      <td>10919.54</td>\n",
       "      <td>50.00</td>\n",
       "      <td>0.0</td>\n",
       "      <td>1</td>\n",
       "      <td>1</td>\n",
       "    </tr>\n",
       "    <tr>\n",
       "      <th>18248</th>\n",
       "      <td>1.62</td>\n",
       "      <td>17489.58</td>\n",
       "      <td>2894.77</td>\n",
       "      <td>2356.13</td>\n",
       "      <td>224.53</td>\n",
       "      <td>12014.15</td>\n",
       "      <td>11988.14</td>\n",
       "      <td>26.01</td>\n",
       "      <td>0.0</td>\n",
       "      <td>1</td>\n",
       "      <td>1</td>\n",
       "    </tr>\n",
       "  </tbody>\n",
       "</table>\n",
       "<p>17651 rows × 11 columns</p>\n",
       "</div>"
      ],
      "text/plain": [
       "       AveragePrice  Total Volume     4046       4225    4770  Total Bags  \\\n",
       "0              1.33      64236.62  1036.74   54454.85   48.16     8696.87   \n",
       "1              1.35      54876.98   674.28   44638.81   58.33     9505.56   \n",
       "2              0.93     118220.22   794.70  109149.67  130.50     8145.35   \n",
       "3              1.08      78992.15  1132.00   71976.41   72.58     5811.16   \n",
       "4              1.28      51039.60   941.48   43838.39   75.78     6183.95   \n",
       "...             ...           ...      ...        ...     ...         ...   \n",
       "18244          1.63      17074.83  2046.96    1529.20    0.00    13498.67   \n",
       "18245          1.71      13888.04  1191.70    3431.50    0.00     9264.84   \n",
       "18246          1.87      13766.76  1191.92    2452.79  727.94     9394.11   \n",
       "18247          1.93      16205.22  1527.63    2981.04  727.01    10969.54   \n",
       "18248          1.62      17489.58  2894.77    2356.13  224.53    12014.15   \n",
       "\n",
       "       Small Bags  Large Bags  XLarge Bags  type  region  \n",
       "0         8603.62       93.25          0.0     0       0  \n",
       "1         9408.07       97.49          0.0     0       0  \n",
       "2         8042.21      103.14          0.0     0       0  \n",
       "3         5677.40      133.76          0.0     0       0  \n",
       "4         5986.26      197.69          0.0     0       0  \n",
       "...           ...         ...          ...   ...     ...  \n",
       "18244    13066.82      431.85          0.0     1       1  \n",
       "18245     8940.04      324.80          0.0     1       1  \n",
       "18246     9351.80       42.31          0.0     1       1  \n",
       "18247    10919.54       50.00          0.0     1       1  \n",
       "18248    11988.14       26.01          0.0     1       1  \n",
       "\n",
       "[17651 rows x 11 columns]"
      ]
     },
     "execution_count": 129,
     "metadata": {},
     "output_type": "execute_result"
    }
   ],
   "source": [
    "df_copy[\"region\"]=df_copy[\"region\"].apply(lambda x:1 if  x>25 else 0)   #coverting region into 2 categories.\n",
    "df_copy"
   ]
  },
  {
   "cell_type": "code",
   "execution_count": 130,
   "id": "3dcfbcc5",
   "metadata": {},
   "outputs": [
    {
     "data": {
      "text/plain": [
       "0        0\n",
       "1        0\n",
       "2        0\n",
       "3        0\n",
       "4        0\n",
       "        ..\n",
       "18244    1\n",
       "18245    1\n",
       "18246    1\n",
       "18247    1\n",
       "18248    1\n",
       "Name: region, Length: 17651, dtype: int64"
      ]
     },
     "execution_count": 130,
     "metadata": {},
     "output_type": "execute_result"
    }
   ],
   "source": [
    "y_region=df_copy.iloc[:,-1]\n",
    "y_region  #y as region i.e dependent variable."
   ]
  },
  {
   "cell_type": "code",
   "execution_count": 131,
   "id": "bf547fa2",
   "metadata": {},
   "outputs": [
    {
     "data": {
      "text/plain": [
       "1    9023\n",
       "0    8628\n",
       "Name: region, dtype: int64"
      ]
     },
     "execution_count": 131,
     "metadata": {},
     "output_type": "execute_result"
    }
   ],
   "source": [
    "y_region.value_counts()"
   ]
  },
  {
   "cell_type": "code",
   "execution_count": 132,
   "id": "f9acb2fa",
   "metadata": {},
   "outputs": [
    {
     "data": {
      "text/plain": [
       "array([[-0.11782446, -0.07532391, -0.65742071, ..., -0.78115255,\n",
       "        -0.67791909, -1.01904715],\n",
       "       [-0.06432986, -0.14749743, -0.77717852, ..., -0.77119787,\n",
       "        -0.67791909, -1.01904715],\n",
       "       [-1.29886469,  0.20555557, -0.7317763 , ..., -0.75852256,\n",
       "        -0.67791909, -1.01904715],\n",
       "       ...,\n",
       "       [ 1.18432357, -0.77527398, -0.61796649, ..., -0.950743  ,\n",
       "        -0.67791909,  0.98130886],\n",
       "       [ 1.31329624, -0.70179733, -0.54701087, ..., -0.91606805,\n",
       "        -0.67791909,  0.98130886],\n",
       "       [ 0.61561867, -0.66738095, -0.35967077, ..., -1.04811619,\n",
       "        -0.67791909,  0.98130886]])"
      ]
     },
     "execution_count": 132,
     "metadata": {},
     "output_type": "execute_result"
    }
   ],
   "source": [
    "from sklearn.preprocessing import power_transform,StandardScaler\n",
    "x_region=power_transform(x_region,method='yeo-johnson')\n",
    "x_region  #removing skewness\n"
   ]
  },
  {
   "cell_type": "code",
   "execution_count": 133,
   "id": "2f9b8587",
   "metadata": {},
   "outputs": [
    {
     "data": {
      "text/plain": [
       "array([[-0.11782446, -0.07532391, -0.65742071, ..., -0.78115255,\n",
       "        -0.67791909, -1.01904715],\n",
       "       [-0.06432986, -0.14749743, -0.77717852, ..., -0.77119787,\n",
       "        -0.67791909, -1.01904715],\n",
       "       [-1.29886469,  0.20555557, -0.7317763 , ..., -0.75852256,\n",
       "        -0.67791909, -1.01904715],\n",
       "       ...,\n",
       "       [ 1.18432357, -0.77527398, -0.61796649, ..., -0.950743  ,\n",
       "        -0.67791909,  0.98130886],\n",
       "       [ 1.31329624, -0.70179733, -0.54701087, ..., -0.91606805,\n",
       "        -0.67791909,  0.98130886],\n",
       "       [ 0.61561867, -0.66738095, -0.35967077, ..., -1.04811619,\n",
       "        -0.67791909,  0.98130886]])"
      ]
     },
     "execution_count": 133,
     "metadata": {},
     "output_type": "execute_result"
    }
   ],
   "source": [
    "mn=StandardScaler()   #performing scaling.\n",
    "x_region=mn.fit_transform(x_region)\n",
    "x_region"
   ]
  },
  {
   "cell_type": "markdown",
   "id": "bb8033fe",
   "metadata": {},
   "source": [
    "# Performing Algorithms"
   ]
  },
  {
   "cell_type": "code",
   "execution_count": 134,
   "id": "f4c90bd7",
   "metadata": {},
   "outputs": [],
   "source": [
    "from sklearn.model_selection import train_test_split\n",
    "from sklearn.linear_model import LogisticRegression\n",
    "from sklearn.metrics import accuracy_score,classification_report,confusion_matrix\n",
    "from sklearn.tree import DecisionTreeClassifier\n",
    "from sklearn.svm import SVC\n",
    "from sklearn.ensemble import RandomForestClassifier,GradientBoostingClassifier\n",
    "from sklearn.metrics import roc_curve,roc_auc_score"
   ]
  },
  {
   "cell_type": "code",
   "execution_count": 135,
   "id": "2bd57457",
   "metadata": {},
   "outputs": [
    {
     "name": "stdout",
     "output_type": "stream",
     "text": [
      "best accuracy is 0.59 at random state 51\n"
     ]
    }
   ],
   "source": [
    "maxacc=0  #finding the best random state\n",
    "maxrs=0\n",
    "for i in range(1,100):\n",
    "    x_train2,x_test2,y_train2,y_test2=train_test_split(x_region,y_region,test_size=.30,random_state=i)\n",
    "    lm=LogisticRegression()\n",
    "    lm.fit(x_train2,y_train2)\n",
    "    pred=lm.predict(x_test2)\n",
    "    accu=accuracy_score(y_test2,pred)\n",
    "    if accu>maxacc:\n",
    "        maxacc=accu\n",
    "        maxrs=i\n",
    "print(\"best accuracy is\",round(maxacc,2),\"at random state\",maxrs)"
   ]
  },
  {
   "cell_type": "code",
   "execution_count": 136,
   "id": "f4caa7fe",
   "metadata": {},
   "outputs": [],
   "source": [
    "x_train3,x_test3,y_train3,y_test3=train_test_split(x_region,y_region,test_size=.30,random_state=51)"
   ]
  },
  {
   "cell_type": "markdown",
   "id": "ec86bd81",
   "metadata": {},
   "source": [
    "# Logistic Regression"
   ]
  },
  {
   "cell_type": "code",
   "execution_count": 137,
   "id": "86532bad",
   "metadata": {},
   "outputs": [
    {
     "name": "stdout",
     "output_type": "stream",
     "text": [
      "accuracy score 0.5927114803625377\n",
      "              precision    recall  f1-score   support\n",
      "\n",
      "           0       0.60      0.51      0.55      2591\n",
      "           1       0.59      0.67      0.63      2705\n",
      "\n",
      "    accuracy                           0.59      5296\n",
      "   macro avg       0.59      0.59      0.59      5296\n",
      "weighted avg       0.59      0.59      0.59      5296\n",
      "\n"
     ]
    }
   ],
   "source": [
    "lm.fit(x_train3,y_train3)\n",
    "pred=lm.predict(x_test3)\n",
    "ac=accuracy_score(y_test3,pred)\n",
    "print(\"accuracy score\",ac)\n",
    "clas=classification_report(y_test3,pred)\n",
    "print(clas)"
   ]
  },
  {
   "cell_type": "markdown",
   "id": "bd29bcdd",
   "metadata": {},
   "source": [
    "# Decision Tree Classifier"
   ]
  },
  {
   "cell_type": "code",
   "execution_count": 138,
   "id": "358d6737",
   "metadata": {},
   "outputs": [
    {
     "name": "stdout",
     "output_type": "stream",
     "text": [
      "accuracy score 86.6880664652568\n",
      "              precision    recall  f1-score   support\n",
      "\n",
      "           0       0.86      0.87      0.86      2591\n",
      "           1       0.87      0.86      0.87      2705\n",
      "\n",
      "    accuracy                           0.87      5296\n",
      "   macro avg       0.87      0.87      0.87      5296\n",
      "weighted avg       0.87      0.87      0.87      5296\n",
      "\n"
     ]
    }
   ],
   "source": [
    "dtc=DecisionTreeClassifier()\n",
    "dtc.fit(x_train3,y_train3)\n",
    "pred=dtc.predict(x_test3)\n",
    "az=accuracy_score(y_test3,pred)\n",
    "print(\"accuracy score\",az*100)\n",
    "cl=classification_report(y_test3,pred)\n",
    "print(cl)"
   ]
  },
  {
   "cell_type": "markdown",
   "id": "0a9468e7",
   "metadata": {},
   "source": [
    "# Support Vector Classifier"
   ]
  },
  {
   "cell_type": "code",
   "execution_count": 139,
   "id": "ccb2ef6e",
   "metadata": {},
   "outputs": [
    {
     "name": "stdout",
     "output_type": "stream",
     "text": [
      "rbf 0.7792673716012085\n",
      "rbf               precision    recall  f1-score   support\n",
      "\n",
      "           0       0.79      0.74      0.77      2591\n",
      "           1       0.77      0.81      0.79      2705\n",
      "\n",
      "    accuracy                           0.78      5296\n",
      "   macro avg       0.78      0.78      0.78      5296\n",
      "weighted avg       0.78      0.78      0.78      5296\n",
      "\n",
      "poly 0.7262084592145015\n",
      "poly               precision    recall  f1-score   support\n",
      "\n",
      "           0       0.75      0.67      0.70      2591\n",
      "           1       0.71      0.78      0.74      2705\n",
      "\n",
      "    accuracy                           0.73      5296\n",
      "   macro avg       0.73      0.72      0.72      5296\n",
      "weighted avg       0.73      0.73      0.73      5296\n",
      "\n",
      "linear 0.5915785498489426\n",
      "linear               precision    recall  f1-score   support\n",
      "\n",
      "           0       0.63      0.41      0.49      2591\n",
      "           1       0.57      0.77      0.66      2705\n",
      "\n",
      "    accuracy                           0.59      5296\n",
      "   macro avg       0.60      0.59      0.58      5296\n",
      "weighted avg       0.60      0.59      0.58      5296\n",
      "\n"
     ]
    }
   ],
   "source": [
    "ker=[\"rbf\",\"poly\",\"linear\"]\n",
    "for i in ker:\n",
    "    svc=SVC(kernel=i)\n",
    "    svc.fit(x_train3,y_train3)\n",
    "    pred=svc.predict(x_test3)\n",
    "    print(i,accuracy_score(y_test3,pred))\n",
    "    print(i,classification_report(y_test3,pred))"
   ]
  },
  {
   "cell_type": "code",
   "execution_count": 140,
   "id": "e8788b85",
   "metadata": {},
   "outputs": [
    {
     "name": "stdout",
     "output_type": "stream",
     "text": [
      "Accuracy score 0.7792673716012085\n",
      "              precision    recall  f1-score   support\n",
      "\n",
      "           0       0.79      0.74      0.77      2591\n",
      "           1       0.77      0.81      0.79      2705\n",
      "\n",
      "    accuracy                           0.78      5296\n",
      "   macro avg       0.78      0.78      0.78      5296\n",
      "weighted avg       0.78      0.78      0.78      5296\n",
      "\n"
     ]
    }
   ],
   "source": [
    "svc1=SVC(kernel=\"rbf\",probability=True)\n",
    "svc1.fit(x_train3,y_train3)\n",
    "pred=svc1.predict(x_test3)\n",
    "print(\"Accuracy score\",accuracy_score(y_test3,pred))\n",
    "print(classification_report(y_test3,pred))"
   ]
  },
  {
   "cell_type": "markdown",
   "id": "f1911d6b",
   "metadata": {},
   "source": [
    "# Random Forest Classifer"
   ]
  },
  {
   "cell_type": "code",
   "execution_count": 141,
   "id": "b083ddf8",
   "metadata": {},
   "outputs": [
    {
     "name": "stdout",
     "output_type": "stream",
     "text": [
      "0.9391993957703928\n",
      "              precision    recall  f1-score   support\n",
      "\n",
      "           0       0.94      0.94      0.94      2591\n",
      "           1       0.94      0.94      0.94      2705\n",
      "\n",
      "    accuracy                           0.94      5296\n",
      "   macro avg       0.94      0.94      0.94      5296\n",
      "weighted avg       0.94      0.94      0.94      5296\n",
      "\n"
     ]
    }
   ],
   "source": [
    "rf=RandomForestClassifier()\n",
    "rf.fit(x_train3,y_train3)\n",
    "pred=rf.predict(x_test3)\n",
    "print(accuracy_score(y_test3,pred))\n",
    "print(classification_report(y_test3,pred))"
   ]
  },
  {
   "cell_type": "markdown",
   "id": "8343abd5",
   "metadata": {},
   "source": [
    "# Gradient Boosting Classifier"
   ]
  },
  {
   "cell_type": "code",
   "execution_count": 142,
   "id": "932b390d",
   "metadata": {},
   "outputs": [
    {
     "name": "stdout",
     "output_type": "stream",
     "text": [
      "0.805702416918429\n",
      "              precision    recall  f1-score   support\n",
      "\n",
      "           0       0.84      0.75      0.79      2591\n",
      "           1       0.78      0.86      0.82      2705\n",
      "\n",
      "    accuracy                           0.81      5296\n",
      "   macro avg       0.81      0.80      0.80      5296\n",
      "weighted avg       0.81      0.81      0.80      5296\n",
      "\n"
     ]
    }
   ],
   "source": [
    "gb=GradientBoostingClassifier()\n",
    "gb.fit(x_train3,y_train3)\n",
    "pred=gb.predict(x_test3)\n",
    "print(accuracy_score(y_test3,pred))\n",
    "print(classification_report(y_test3,pred))\n"
   ]
  },
  {
   "cell_type": "markdown",
   "id": "9d1b565e",
   "metadata": {},
   "source": [
    "# Cross Validation Score"
   ]
  },
  {
   "cell_type": "code",
   "execution_count": 143,
   "id": "870ddf48",
   "metadata": {},
   "outputs": [
    {
     "name": "stdout",
     "output_type": "stream",
     "text": [
      "0.7972366289272664\n"
     ]
    }
   ],
   "source": [
    "print(cross_val_score(rf,x_region,y_region,cv=10).mean())  #Random Forest Classifier"
   ]
  },
  {
   "cell_type": "code",
   "execution_count": 144,
   "id": "5501bd02",
   "metadata": {},
   "outputs": [
    {
     "name": "stdout",
     "output_type": "stream",
     "text": [
      "0.7174657806253475\n"
     ]
    }
   ],
   "source": [
    "print(cross_val_score(dtc,x_region,y_region,cv=5).mean()) #Decision Tree Classifier"
   ]
  },
  {
   "cell_type": "code",
   "execution_count": 145,
   "id": "0e496116",
   "metadata": {},
   "outputs": [
    {
     "name": "stdout",
     "output_type": "stream",
     "text": [
      "0.6974115302504809\n"
     ]
    }
   ],
   "source": [
    "print(cross_val_score(svc1,x_region,y_region,cv=5).mean())  #Support Vector Classifier"
   ]
  },
  {
   "cell_type": "code",
   "execution_count": 146,
   "id": "983138ec",
   "metadata": {},
   "outputs": [
    {
     "name": "stdout",
     "output_type": "stream",
     "text": [
      "0.7286825751766928\n"
     ]
    }
   ],
   "source": [
    "print(cross_val_score(gb,x_region,y_region,cv=10).mean()) #Gradient Boosting Classifier"
   ]
  },
  {
   "cell_type": "markdown",
   "id": "599dcc9c",
   "metadata": {},
   "source": [
    "Comparing the above Cross validation scores and acuracy score of the models we can see that the SVC and GBC are giving the best results and chossing one of them as the best model. "
   ]
  },
  {
   "cell_type": "markdown",
   "id": "0ef56bb9",
   "metadata": {},
   "source": [
    "# ROC_AUC CURVE"
   ]
  },
  {
   "cell_type": "code",
   "execution_count": 147,
   "id": "1e697e95",
   "metadata": {},
   "outputs": [
    {
     "data": {
      "text/plain": [
       "array([0.69007917, 0.77267292, 0.75174137, ..., 0.71513703, 0.50626877,\n",
       "       0.08809899])"
      ]
     },
     "execution_count": 147,
     "metadata": {},
     "output_type": "execute_result"
    }
   ],
   "source": [
    "y_pred_prob=svc1.predict_proba(x_test3)[:,1]\n",
    "y_pred_prob"
   ]
  },
  {
   "cell_type": "code",
   "execution_count": 148,
   "id": "498633a2",
   "metadata": {},
   "outputs": [],
   "source": [
    "fpr,tpr,thresholds=roc_curve(y_test3,y_pred_prob)"
   ]
  },
  {
   "cell_type": "code",
   "execution_count": 149,
   "id": "eead9151",
   "metadata": {},
   "outputs": [
    {
     "data": {
      "image/png": "[encoded data removed]",
      "text/plain": [
       "<Figure size 432x288 with 1 Axes>"
      ]
     },
     "metadata": {
      "needs_background": "light"
     },
     "output_type": "display_data"
    }
   ],
   "source": [
    "plt.plot([0,1],[0,1],\"k--\")\n",
    "plt.plot(fpr,tpr,label=\"Support Vector Classifier\")\n",
    "plt.xlabel(\"False Positive Rate\")\n",
    "plt.ylabel(\"True Positive Rate\")\n",
    "plt.title(\"Support Vector Classifier\")\n",
    "plt.show()"
   ]
  },
  {
   "cell_type": "code",
   "execution_count": 150,
   "id": "d450cda8",
   "metadata": {},
   "outputs": [
    {
     "data": {
      "text/plain": [
       "0.7784859577194198"
      ]
     },
     "execution_count": 150,
     "metadata": {},
     "output_type": "execute_result"
    }
   ],
   "source": [
    "auc_score=roc_auc_score(y_test3,svc1.predict(x_test3))\n",
    "auc_score"
   ]
  },
  {
   "cell_type": "markdown",
   "id": "9933d5fd",
   "metadata": {},
   "source": [
    "Presenting the auc roc curve and the score is almost equal to the accuracy score."
   ]
  },
  {
   "cell_type": "markdown",
   "id": "8fadcad0",
   "metadata": {},
   "source": [
    "# HyperParameter Tuning"
   ]
  },
  {
   "cell_type": "code",
   "execution_count": 151,
   "id": "4f52f86e",
   "metadata": {},
   "outputs": [],
   "source": [
    "parameter={\"gamma\":['scale','auto'],\n",
    "          \"degree\":np.arange(2,20),\n",
    "          \"C\":np.arange(2,10),\n",
    "          \"max_iter\":np.arange(2,10)}"
   ]
  },
  {
   "cell_type": "code",
   "execution_count": 152,
   "id": "216be7e9",
   "metadata": {},
   "outputs": [],
   "source": [
    "gcv=GridSearchCV(SVC(),parameter,cv=5)"
   ]
  },
  {
   "cell_type": "code",
   "execution_count": 153,
   "id": "a11904ea",
   "metadata": {},
   "outputs": [
    {
     "data": {
      "text/plain": [
       "GridSearchCV(cv=5, estimator=SVC(),\n",
       "             param_grid={'C': array([2, 3, 4, 5, 6, 7, 8, 9]),\n",
       "                         'degree': array([ 2,  3,  4,  5,  6,  7,  8,  9, 10, 11, 12, 13, 14, 15, 16, 17, 18,\n",
       "       19]),\n",
       "                         'gamma': ['scale', 'auto'],\n",
       "                         'max_iter': array([2, 3, 4, 5, 6, 7, 8, 9])})"
      ]
     },
     "execution_count": 153,
     "metadata": {},
     "output_type": "execute_result"
    }
   ],
   "source": [
    "gcv.fit(x_train3,y_train3)"
   ]
  },
  {
   "cell_type": "code",
   "execution_count": 154,
   "id": "9ae57135",
   "metadata": {},
   "outputs": [
    {
     "data": {
      "text/plain": [
       "{'C': 3, 'degree': 2, 'gamma': 'scale', 'max_iter': 2}"
      ]
     },
     "execution_count": 154,
     "metadata": {},
     "output_type": "execute_result"
    }
   ],
   "source": [
    "gcv.best_params_"
   ]
  },
  {
   "cell_type": "markdown",
   "id": "fa7618bc",
   "metadata": {},
   "source": [
    "# Final Model"
   ]
  },
  {
   "cell_type": "code",
   "execution_count": 158,
   "id": "8321c607",
   "metadata": {},
   "outputs": [
    {
     "name": "stdout",
     "output_type": "stream",
     "text": [
      "Accuracy score 0.8023036253776435\n",
      "              precision    recall  f1-score   support\n",
      "\n",
      "           0       0.81      0.78      0.79      2591\n",
      "           1       0.80      0.82      0.81      2705\n",
      "\n",
      "    accuracy                           0.80      5296\n",
      "   macro avg       0.80      0.80      0.80      5296\n",
      "weighted avg       0.80      0.80      0.80      5296\n",
      "\n"
     ]
    }
   ],
   "source": [
    "svc1=SVC(kernel=\"rbf\",probability=True,C=3,degree=2)\n",
    "svc1.fit(x_train3,y_train3)\n",
    "pred=svc1.predict(x_test3)\n",
    "print(\"Accuracy score\",accuracy_score(y_test3,pred))\n",
    "print(classification_report(y_test3,pred))"
   ]
  },
  {
   "cell_type": "markdown",
   "id": "0bad7ec2",
   "metadata": {},
   "source": [
    "# Saving the model"
   ]
  },
  {
   "cell_type": "code",
   "execution_count": 159,
   "id": "4def944c",
   "metadata": {},
   "outputs": [
    {
     "data": {
      "text/plain": [
       "['avocadoclassi.pkl']"
      ]
     },
     "execution_count": 159,
     "metadata": {},
     "output_type": "execute_result"
    }
   ],
   "source": [
    "joblib.dump(svc1,'avocadoclassi.pkl')"
   ]
  },
  {
   "cell_type": "code",
   "execution_count": null,
   "id": "f80fc56a",
   "metadata": {},
   "outputs": [],
   "source": []
  }
 ],
 "metadata": {
  "kernelspec": {
   "display_name": "Python 3",
   "language": "python",
   "name": "python3"
  },
  "language_info": {
   "codemirror_mode": {
    "name": "ipython",
    "version": 3
   },
   "file_extension": ".py",
   "mimetype": "text/x-python",
   "name": "python",
   "nbconvert_exporter": "python",
   "pygments_lexer": "ipython3",
   "version": "3.8.8"
  }
 },
 "nbformat": 4,
 "nbformat_minor": 5
}
