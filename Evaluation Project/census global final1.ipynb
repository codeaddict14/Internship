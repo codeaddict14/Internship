{
 "cells": [
  {
   "cell_type": "code",
   "execution_count": 1,
   "id": "5e79c4e5",
   "metadata": {},
   "outputs": [],
   "source": [
    "#Importing the Important Libraries\n",
    "import pandas as pd\n",
    "import numpy as np\n",
    "import warnings\n",
    "warnings.filterwarnings(\"ignore\")\n",
    "import statsmodels.api as sm\n",
    "from scipy import stats\n",
    "from statsmodels.stats.outliers_influence import variance_inflation_factor\n",
    "import matplotlib.pyplot as plt\n",
    "import seaborn as sns"
   ]
  },
  {
   "cell_type": "markdown",
   "id": "5516eadc",
   "metadata": {},
   "source": [
    "# Importing the dataset"
   ]
  },
  {
   "cell_type": "code",
   "execution_count": 2,
   "id": "9761ccfc",
   "metadata": {},
   "outputs": [
    {
     "data": {
      "text/html": [
       "<div>\n",
       "<style scoped>\n",
       "    .dataframe tbody tr th:only-of-type {\n",
       "        vertical-align: middle;\n",
       "    }\n",
       "\n",
       "    .dataframe tbody tr th {\n",
       "        vertical-align: top;\n",
       "    }\n",
       "\n",
       "    .dataframe thead th {\n",
       "        text-align: right;\n",
       "    }\n",
       "</style>\n",
       "<table border=\"1\" class=\"dataframe\">\n",
       "  <thead>\n",
       "    <tr style=\"text-align: right;\">\n",
       "      <th></th>\n",
       "      <th>Age</th>\n",
       "      <th>Workclass</th>\n",
       "      <th>Fnlwgt</th>\n",
       "      <th>Education</th>\n",
       "      <th>Education_num</th>\n",
       "      <th>Marital_status</th>\n",
       "      <th>Occupation</th>\n",
       "      <th>Relationship</th>\n",
       "      <th>Race</th>\n",
       "      <th>Sex</th>\n",
       "      <th>Capital_gain</th>\n",
       "      <th>Capital_loss</th>\n",
       "      <th>Hours_per_week</th>\n",
       "      <th>Native_country</th>\n",
       "      <th>Income</th>\n",
       "    </tr>\n",
       "  </thead>\n",
       "  <tbody>\n",
       "    <tr>\n",
       "      <th>0</th>\n",
       "      <td>50</td>\n",
       "      <td>Self-emp-not-inc</td>\n",
       "      <td>83311</td>\n",
       "      <td>Bachelors</td>\n",
       "      <td>13</td>\n",
       "      <td>Married-civ-spouse</td>\n",
       "      <td>Exec-managerial</td>\n",
       "      <td>Husband</td>\n",
       "      <td>White</td>\n",
       "      <td>Male</td>\n",
       "      <td>0</td>\n",
       "      <td>0</td>\n",
       "      <td>13</td>\n",
       "      <td>United-States</td>\n",
       "      <td>&lt;=50K</td>\n",
       "    </tr>\n",
       "    <tr>\n",
       "      <th>1</th>\n",
       "      <td>38</td>\n",
       "      <td>Private</td>\n",
       "      <td>215646</td>\n",
       "      <td>HS-grad</td>\n",
       "      <td>9</td>\n",
       "      <td>Divorced</td>\n",
       "      <td>Handlers-cleaners</td>\n",
       "      <td>Not-in-family</td>\n",
       "      <td>White</td>\n",
       "      <td>Male</td>\n",
       "      <td>0</td>\n",
       "      <td>0</td>\n",
       "      <td>40</td>\n",
       "      <td>United-States</td>\n",
       "      <td>&lt;=50K</td>\n",
       "    </tr>\n",
       "    <tr>\n",
       "      <th>2</th>\n",
       "      <td>53</td>\n",
       "      <td>Private</td>\n",
       "      <td>234721</td>\n",
       "      <td>11th</td>\n",
       "      <td>7</td>\n",
       "      <td>Married-civ-spouse</td>\n",
       "      <td>Handlers-cleaners</td>\n",
       "      <td>Husband</td>\n",
       "      <td>Black</td>\n",
       "      <td>Male</td>\n",
       "      <td>0</td>\n",
       "      <td>0</td>\n",
       "      <td>40</td>\n",
       "      <td>United-States</td>\n",
       "      <td>&lt;=50K</td>\n",
       "    </tr>\n",
       "    <tr>\n",
       "      <th>3</th>\n",
       "      <td>28</td>\n",
       "      <td>Private</td>\n",
       "      <td>338409</td>\n",
       "      <td>Bachelors</td>\n",
       "      <td>13</td>\n",
       "      <td>Married-civ-spouse</td>\n",
       "      <td>Prof-specialty</td>\n",
       "      <td>Wife</td>\n",
       "      <td>Black</td>\n",
       "      <td>Female</td>\n",
       "      <td>0</td>\n",
       "      <td>0</td>\n",
       "      <td>40</td>\n",
       "      <td>Cuba</td>\n",
       "      <td>&lt;=50K</td>\n",
       "    </tr>\n",
       "    <tr>\n",
       "      <th>4</th>\n",
       "      <td>37</td>\n",
       "      <td>Private</td>\n",
       "      <td>284582</td>\n",
       "      <td>Masters</td>\n",
       "      <td>14</td>\n",
       "      <td>Married-civ-spouse</td>\n",
       "      <td>Exec-managerial</td>\n",
       "      <td>Wife</td>\n",
       "      <td>White</td>\n",
       "      <td>Female</td>\n",
       "      <td>0</td>\n",
       "      <td>0</td>\n",
       "      <td>40</td>\n",
       "      <td>United-States</td>\n",
       "      <td>&lt;=50K</td>\n",
       "    </tr>\n",
       "    <tr>\n",
       "      <th>...</th>\n",
       "      <td>...</td>\n",
       "      <td>...</td>\n",
       "      <td>...</td>\n",
       "      <td>...</td>\n",
       "      <td>...</td>\n",
       "      <td>...</td>\n",
       "      <td>...</td>\n",
       "      <td>...</td>\n",
       "      <td>...</td>\n",
       "      <td>...</td>\n",
       "      <td>...</td>\n",
       "      <td>...</td>\n",
       "      <td>...</td>\n",
       "      <td>...</td>\n",
       "      <td>...</td>\n",
       "    </tr>\n",
       "    <tr>\n",
       "      <th>32555</th>\n",
       "      <td>27</td>\n",
       "      <td>Private</td>\n",
       "      <td>257302</td>\n",
       "      <td>Assoc-acdm</td>\n",
       "      <td>12</td>\n",
       "      <td>Married-civ-spouse</td>\n",
       "      <td>Tech-support</td>\n",
       "      <td>Wife</td>\n",
       "      <td>White</td>\n",
       "      <td>Female</td>\n",
       "      <td>0</td>\n",
       "      <td>0</td>\n",
       "      <td>38</td>\n",
       "      <td>United-States</td>\n",
       "      <td>&lt;=50K</td>\n",
       "    </tr>\n",
       "    <tr>\n",
       "      <th>32556</th>\n",
       "      <td>40</td>\n",
       "      <td>Private</td>\n",
       "      <td>154374</td>\n",
       "      <td>HS-grad</td>\n",
       "      <td>9</td>\n",
       "      <td>Married-civ-spouse</td>\n",
       "      <td>Machine-op-inspct</td>\n",
       "      <td>Husband</td>\n",
       "      <td>White</td>\n",
       "      <td>Male</td>\n",
       "      <td>0</td>\n",
       "      <td>0</td>\n",
       "      <td>40</td>\n",
       "      <td>United-States</td>\n",
       "      <td>&gt;50K</td>\n",
       "    </tr>\n",
       "    <tr>\n",
       "      <th>32557</th>\n",
       "      <td>58</td>\n",
       "      <td>Private</td>\n",
       "      <td>151910</td>\n",
       "      <td>HS-grad</td>\n",
       "      <td>9</td>\n",
       "      <td>Widowed</td>\n",
       "      <td>Adm-clerical</td>\n",
       "      <td>Unmarried</td>\n",
       "      <td>White</td>\n",
       "      <td>Female</td>\n",
       "      <td>0</td>\n",
       "      <td>0</td>\n",
       "      <td>40</td>\n",
       "      <td>United-States</td>\n",
       "      <td>&lt;=50K</td>\n",
       "    </tr>\n",
       "    <tr>\n",
       "      <th>32558</th>\n",
       "      <td>22</td>\n",
       "      <td>Private</td>\n",
       "      <td>201490</td>\n",
       "      <td>HS-grad</td>\n",
       "      <td>9</td>\n",
       "      <td>Never-married</td>\n",
       "      <td>Adm-clerical</td>\n",
       "      <td>Own-child</td>\n",
       "      <td>White</td>\n",
       "      <td>Male</td>\n",
       "      <td>0</td>\n",
       "      <td>0</td>\n",
       "      <td>20</td>\n",
       "      <td>United-States</td>\n",
       "      <td>&lt;=50K</td>\n",
       "    </tr>\n",
       "    <tr>\n",
       "      <th>32559</th>\n",
       "      <td>52</td>\n",
       "      <td>Self-emp-inc</td>\n",
       "      <td>287927</td>\n",
       "      <td>HS-grad</td>\n",
       "      <td>9</td>\n",
       "      <td>Married-civ-spouse</td>\n",
       "      <td>Exec-managerial</td>\n",
       "      <td>Wife</td>\n",
       "      <td>White</td>\n",
       "      <td>Female</td>\n",
       "      <td>15024</td>\n",
       "      <td>0</td>\n",
       "      <td>40</td>\n",
       "      <td>United-States</td>\n",
       "      <td>&gt;50K</td>\n",
       "    </tr>\n",
       "  </tbody>\n",
       "</table>\n",
       "<p>32560 rows × 15 columns</p>\n",
       "</div>"
      ],
      "text/plain": [
       "       Age          Workclass  Fnlwgt    Education  Education_num  \\\n",
       "0       50   Self-emp-not-inc   83311    Bachelors             13   \n",
       "1       38            Private  215646      HS-grad              9   \n",
       "2       53            Private  234721         11th              7   \n",
       "3       28            Private  338409    Bachelors             13   \n",
       "4       37            Private  284582      Masters             14   \n",
       "...    ...                ...     ...          ...            ...   \n",
       "32555   27            Private  257302   Assoc-acdm             12   \n",
       "32556   40            Private  154374      HS-grad              9   \n",
       "32557   58            Private  151910      HS-grad              9   \n",
       "32558   22            Private  201490      HS-grad              9   \n",
       "32559   52       Self-emp-inc  287927      HS-grad              9   \n",
       "\n",
       "            Marital_status          Occupation    Relationship    Race  \\\n",
       "0       Married-civ-spouse     Exec-managerial         Husband   White   \n",
       "1                 Divorced   Handlers-cleaners   Not-in-family   White   \n",
       "2       Married-civ-spouse   Handlers-cleaners         Husband   Black   \n",
       "3       Married-civ-spouse      Prof-specialty            Wife   Black   \n",
       "4       Married-civ-spouse     Exec-managerial            Wife   White   \n",
       "...                    ...                 ...             ...     ...   \n",
       "32555   Married-civ-spouse        Tech-support            Wife   White   \n",
       "32556   Married-civ-spouse   Machine-op-inspct         Husband   White   \n",
       "32557              Widowed        Adm-clerical       Unmarried   White   \n",
       "32558        Never-married        Adm-clerical       Own-child   White   \n",
       "32559   Married-civ-spouse     Exec-managerial            Wife   White   \n",
       "\n",
       "           Sex  Capital_gain  Capital_loss  Hours_per_week  Native_country  \\\n",
       "0         Male             0             0              13   United-States   \n",
       "1         Male             0             0              40   United-States   \n",
       "2         Male             0             0              40   United-States   \n",
       "3       Female             0             0              40            Cuba   \n",
       "4       Female             0             0              40   United-States   \n",
       "...        ...           ...           ...             ...             ...   \n",
       "32555   Female             0             0              38   United-States   \n",
       "32556     Male             0             0              40   United-States   \n",
       "32557   Female             0             0              40   United-States   \n",
       "32558     Male             0             0              20   United-States   \n",
       "32559   Female         15024             0              40   United-States   \n",
       "\n",
       "       Income  \n",
       "0       <=50K  \n",
       "1       <=50K  \n",
       "2       <=50K  \n",
       "3       <=50K  \n",
       "4       <=50K  \n",
       "...       ...  \n",
       "32555   <=50K  \n",
       "32556    >50K  \n",
       "32557   <=50K  \n",
       "32558   <=50K  \n",
       "32559    >50K  \n",
       "\n",
       "[32560 rows x 15 columns]"
      ]
     },
     "execution_count": 2,
     "metadata": {},
     "output_type": "execute_result"
    }
   ],
   "source": [
    "df=pd.read_csv(\"census_income.csv\")\n",
    "df"
   ]
  },
  {
   "cell_type": "markdown",
   "id": "dedd088f",
   "metadata": {},
   "source": [
    "The above dataset is the census income dataset which has 32560 rows and 15 columns where we have to predict on the basis of some factors the income of person i.e whether he is earning more that 50k or less than 50k. This is clearly a classification problem. It has Income as dependent variable. All other factors like Age,Gender,Martial Status fnlwgt are the independent variables. "
   ]
  },
  {
   "cell_type": "code",
   "execution_count": 3,
   "id": "c9949d0a",
   "metadata": {},
   "outputs": [
    {
     "data": {
      "text/plain": [
       "(32560, 15)"
      ]
     },
     "execution_count": 3,
     "metadata": {},
     "output_type": "execute_result"
    }
   ],
   "source": [
    "df.shape"
   ]
  },
  {
   "cell_type": "markdown",
   "id": "b043bd25",
   "metadata": {},
   "source": [
    "There are total 32560 rows and 15 columns."
   ]
  },
  {
   "cell_type": "code",
   "execution_count": 4,
   "id": "1beff1ec",
   "metadata": {},
   "outputs": [
    {
     "data": {
      "text/plain": [
       "Index(['Age', 'Workclass', 'Fnlwgt', 'Education', 'Education_num',\n",
       "       'Marital_status', 'Occupation', 'Relationship', 'Race', 'Sex',\n",
       "       'Capital_gain', 'Capital_loss', 'Hours_per_week', 'Native_country',\n",
       "       'Income'],\n",
       "      dtype='object')"
      ]
     },
     "execution_count": 4,
     "metadata": {},
     "output_type": "execute_result"
    }
   ],
   "source": [
    "df.columns"
   ]
  },
  {
   "cell_type": "markdown",
   "id": "a02a7c37",
   "metadata": {},
   "source": [
    "This tells the name of columns."
   ]
  },
  {
   "cell_type": "code",
   "execution_count": 5,
   "id": "c48abae3",
   "metadata": {},
   "outputs": [
    {
     "data": {
      "text/plain": [
       "Age                int64\n",
       "Workclass         object\n",
       "Fnlwgt             int64\n",
       "Education         object\n",
       "Education_num      int64\n",
       "Marital_status    object\n",
       "Occupation        object\n",
       "Relationship      object\n",
       "Race              object\n",
       "Sex               object\n",
       "Capital_gain       int64\n",
       "Capital_loss       int64\n",
       "Hours_per_week     int64\n",
       "Native_country    object\n",
       "Income            object\n",
       "dtype: object"
      ]
     },
     "execution_count": 5,
     "metadata": {},
     "output_type": "execute_result"
    }
   ],
   "source": [
    "df.dtypes"
   ]
  },
  {
   "cell_type": "markdown",
   "id": "994e2ab9",
   "metadata": {},
   "source": [
    "This tells ud the data types of each rows."
   ]
  },
  {
   "cell_type": "code",
   "execution_count": 6,
   "id": "7e018362",
   "metadata": {},
   "outputs": [
    {
     "data": {
      "text/plain": [
       "Age               0\n",
       "Workclass         0\n",
       "Fnlwgt            0\n",
       "Education         0\n",
       "Education_num     0\n",
       "Marital_status    0\n",
       "Occupation        0\n",
       "Relationship      0\n",
       "Race              0\n",
       "Sex               0\n",
       "Capital_gain      0\n",
       "Capital_loss      0\n",
       "Hours_per_week    0\n",
       "Native_country    0\n",
       "Income            0\n",
       "dtype: int64"
      ]
     },
     "execution_count": 6,
     "metadata": {},
     "output_type": "execute_result"
    }
   ],
   "source": [
    "df.isnull().sum()"
   ]
  },
  {
   "cell_type": "markdown",
   "id": "68740960",
   "metadata": {},
   "source": [
    "This tells us that whether there are any null values in the columns."
   ]
  },
  {
   "cell_type": "code",
   "execution_count": 7,
   "id": "2348a7ce",
   "metadata": {},
   "outputs": [
    {
     "name": "stdout",
     "output_type": "stream",
     "text": [
      "<class 'pandas.core.frame.DataFrame'>\n",
      "RangeIndex: 32560 entries, 0 to 32559\n",
      "Data columns (total 15 columns):\n",
      " #   Column          Non-Null Count  Dtype \n",
      "---  ------          --------------  ----- \n",
      " 0   Age             32560 non-null  int64 \n",
      " 1   Workclass       32560 non-null  object\n",
      " 2   Fnlwgt          32560 non-null  int64 \n",
      " 3   Education       32560 non-null  object\n",
      " 4   Education_num   32560 non-null  int64 \n",
      " 5   Marital_status  32560 non-null  object\n",
      " 6   Occupation      32560 non-null  object\n",
      " 7   Relationship    32560 non-null  object\n",
      " 8   Race            32560 non-null  object\n",
      " 9   Sex             32560 non-null  object\n",
      " 10  Capital_gain    32560 non-null  int64 \n",
      " 11  Capital_loss    32560 non-null  int64 \n",
      " 12  Hours_per_week  32560 non-null  int64 \n",
      " 13  Native_country  32560 non-null  object\n",
      " 14  Income          32560 non-null  object\n",
      "dtypes: int64(6), object(9)\n",
      "memory usage: 3.7+ MB\n"
     ]
    }
   ],
   "source": [
    "df.info()"
   ]
  },
  {
   "cell_type": "markdown",
   "id": "93dec9d6",
   "metadata": {},
   "source": [
    "# Univariant, Bivariant, Multivariant Analysis."
   ]
  },
  {
   "cell_type": "code",
   "execution_count": 8,
   "id": "b6c5296e",
   "metadata": {},
   "outputs": [
    {
     "data": {
      "text/plain": [
       "<AxesSubplot:xlabel='Income', ylabel='count'>"
      ]
     },
     "execution_count": 8,
     "metadata": {},
     "output_type": "execute_result"
    },
    {
     "data": {
      "image/png": "[encoded data removed]",
      "text/plain": [
       "<Figure size 432x288 with 1 Axes>"
      ]
     },
     "metadata": {
      "needs_background": "light"
     },
     "output_type": "display_data"
    }
   ],
   "source": [
    "sns.countplot(df['Income'])"
   ]
  },
  {
   "cell_type": "markdown",
   "id": "e56ae505",
   "metadata": {},
   "source": [
    "We can see that there is huge difference between the two categories of Income featue which is our output feature so we need to balance it we will use balancing technique called SMOTE."
   ]
  },
  {
   "cell_type": "code",
   "execution_count": 9,
   "id": "4aeb1e35",
   "metadata": {},
   "outputs": [
    {
     "data": {
      "text/plain": [
       "<AxesSubplot:xlabel='Capital_gain', ylabel='Density'>"
      ]
     },
     "execution_count": 9,
     "metadata": {},
     "output_type": "execute_result"
    },
    {
     "data": {
      "image/png": "[encoded data removed]",
      "text/plain": [
       "<Figure size 432x288 with 1 Axes>"
      ]
     },
     "metadata": {
      "needs_background": "light"
     },
     "output_type": "display_data"
    }
   ],
   "source": [
    "sns.distplot(df['Capital_gain'])"
   ]
  },
  {
   "cell_type": "markdown",
   "id": "fc7a15d2",
   "metadata": {},
   "source": [
    "We can see that the skewness is present in our capital gain i.e right tailed."
   ]
  },
  {
   "cell_type": "code",
   "execution_count": 11,
   "id": "eb1b388a",
   "metadata": {},
   "outputs": [
    {
     "data": {
      "text/plain": [
       "<AxesSubplot:xlabel='Fnlwgt', ylabel='Density'>"
      ]
     },
     "execution_count": 11,
     "metadata": {},
     "output_type": "execute_result"
    },
    {
     "data": {
      "image/png": "[encoded data removed]",
      "text/plain": [
       "<Figure size 432x288 with 1 Axes>"
      ]
     },
     "metadata": {
      "needs_background": "light"
     },
     "output_type": "display_data"
    }
   ],
   "source": [
    "sns.distplot(df['Fnlwgt'])"
   ]
  },
  {
   "cell_type": "markdown",
   "id": "b7772b2b",
   "metadata": {},
   "source": [
    "The data is highly skewed as the column is right tailed."
   ]
  },
  {
   "cell_type": "code",
   "execution_count": 13,
   "id": "38dbac67",
   "metadata": {},
   "outputs": [
    {
     "data": {
      "text/plain": [
       "<seaborn.axisgrid.FacetGrid at 0x1f0711aaf70>"
      ]
     },
     "execution_count": 13,
     "metadata": {},
     "output_type": "execute_result"
    },
    {
     "data": {
      "image/png": "[encoded data removed]",
      "text/plain": [
       "<Figure size 859.25x360 with 2 Axes>"
      ]
     },
     "metadata": {
      "needs_background": "light"
     },
     "output_type": "display_data"
    }
   ],
   "source": [
    "sns.catplot(x=\"Sex\",hue=\"Race\",col=\"Income\",data=df,kind=\"count\")"
   ]
  },
  {
   "cell_type": "markdown",
   "id": "44080beb",
   "metadata": {},
   "source": [
    "from above plot we can say that males with white race are dominating in each category."
   ]
  },
  {
   "cell_type": "code",
   "execution_count": 15,
   "id": "aabcc826",
   "metadata": {},
   "outputs": [
    {
     "data": {
      "text/plain": [
       "<seaborn.axisgrid.FacetGrid at 0x1f071c7c070>"
      ]
     },
     "execution_count": 15,
     "metadata": {},
     "output_type": "execute_result"
    },
    {
     "data": {
      "image/png": "[encoded data removed]",
      "text/plain": [
       "<Figure size 850.875x360 with 2 Axes>"
      ]
     },
     "metadata": {
      "needs_background": "light"
     },
     "output_type": "display_data"
    }
   ],
   "source": [
    "sns.catplot(hue=\"Occupation\",x=\"Sex\",col=\"Income\",data=df,kind=\"count\")"
   ]
  },
  {
   "cell_type": "markdown",
   "id": "7f735a16",
   "metadata": {},
   "source": [
    "Most of the males are with profession craft-repair and are earning less that 50k where as most females working as adm-clerical earning less that 50k where as males with exec-managerial are earning more that 50k."
   ]
  },
  {
   "cell_type": "code",
   "execution_count": 23,
   "id": "460ffaab",
   "metadata": {},
   "outputs": [
    {
     "data": {
      "text/plain": [
       "<AxesSubplot:xlabel='Workclass', ylabel='count'>"
      ]
     },
     "execution_count": 23,
     "metadata": {},
     "output_type": "execute_result"
    },
    {
     "data": {
      "image/png": "[encoded data removed]",
      "text/plain": [
       "<Figure size 1008x360 with 1 Axes>"
      ]
     },
     "metadata": {
      "needs_background": "light"
     },
     "output_type": "display_data"
    }
   ],
   "source": [
    "plt.figure(figsize=(14,5))\n",
    "sns.countplot(x='Workclass',hue='Income',data=df)"
   ]
  },
  {
   "cell_type": "markdown",
   "id": "1ded3822",
   "metadata": {},
   "source": [
    "Most of the private workclass are earning below 50k."
   ]
  },
  {
   "cell_type": "code",
   "execution_count": 25,
   "id": "bb6a84b0",
   "metadata": {},
   "outputs": [
    {
     "data": {
      "text/plain": [
       "Age                  AxesSubplot(0.125,0.536818;0.110714x0.343182)\n",
       "Fnlwgt            AxesSubplot(0.257857,0.536818;0.110714x0.343182)\n",
       "Education_num     AxesSubplot(0.390714,0.536818;0.110714x0.343182)\n",
       "Capital_gain      AxesSubplot(0.523571,0.536818;0.110714x0.343182)\n",
       "Capital_loss      AxesSubplot(0.656429,0.536818;0.110714x0.343182)\n",
       "Hours_per_week    AxesSubplot(0.789286,0.536818;0.110714x0.343182)\n",
       "dtype: object"
      ]
     },
     "execution_count": 25,
     "metadata": {},
     "output_type": "execute_result"
    },
    {
     "data": {
      "image/png": "[encoded data removed]",
      "text/plain": [
       "<Figure size 1296x1296 with 12 Axes>"
      ]
     },
     "metadata": {
      "needs_background": "light"
     },
     "output_type": "display_data"
    }
   ],
   "source": [
    "color=dict(boxes=\"Purple\",whiskers=\"Red\",medians=\"Pink\",caps=\"Black\")\n",
    "df.plot(kind=\"box\",subplots=True,layout=(2,6),figsize=(18,18),color=color)"
   ]
  },
  {
   "cell_type": "markdown",
   "id": "849c07f9",
   "metadata": {},
   "source": [
    "From the above plot we can see the presence of outliers in the dataset which makes the data highly skewed."
   ]
  },
  {
   "cell_type": "markdown",
   "id": "93b7e757",
   "metadata": {},
   "source": [
    "# Data Preprocessing/Cleaning"
   ]
  },
  {
   "cell_type": "code",
   "execution_count": 27,
   "id": "3456b5cb",
   "metadata": {},
   "outputs": [
    {
     "data": {
      "text/plain": [
       " Private             22696\n",
       " Self-emp-not-inc     2541\n",
       " Local-gov            2093\n",
       " ?                    1836\n",
       " State-gov            1297\n",
       " Self-emp-inc         1116\n",
       " Federal-gov           960\n",
       " Without-pay            14\n",
       " Never-worked            7\n",
       "Name: Workclass, dtype: int64"
      ]
     },
     "execution_count": 27,
     "metadata": {},
     "output_type": "execute_result"
    }
   ],
   "source": [
    "df['Workclass'].value_counts()"
   ]
  },
  {
   "cell_type": "markdown",
   "id": "eabe0559",
   "metadata": {},
   "source": [
    "On Calculating the unique count of feature workclass we can see that some of the rows carries question mark. We can not drop the rows carrying question mark as the count for the rows is large we may end up losing imp. info we will replace it with the mode value of the column."
   ]
  },
  {
   "cell_type": "code",
   "execution_count": 28,
   "id": "4aba4cfe",
   "metadata": {},
   "outputs": [],
   "source": [
    "df[\"Workclass\"] = df[\"Workclass\"].str.replace('?', 'Private')"
   ]
  },
  {
   "cell_type": "code",
   "execution_count": 29,
   "id": "30ee340b",
   "metadata": {},
   "outputs": [
    {
     "data": {
      "text/plain": [
       " Private             24532\n",
       " Self-emp-not-inc     2541\n",
       " Local-gov            2093\n",
       " State-gov            1297\n",
       " Self-emp-inc         1116\n",
       " Federal-gov           960\n",
       " Without-pay            14\n",
       " Never-worked            7\n",
       "Name: Workclass, dtype: int64"
      ]
     },
     "execution_count": 29,
     "metadata": {},
     "output_type": "execute_result"
    }
   ],
   "source": [
    "df['Workclass'].value_counts() #no rows carry question mark."
   ]
  },
  {
   "cell_type": "code",
   "execution_count": 30,
   "id": "9bf17d33",
   "metadata": {},
   "outputs": [
    {
     "data": {
      "text/plain": [
       " Prof-specialty       4140\n",
       " Craft-repair         4099\n",
       " Exec-managerial      4066\n",
       " Adm-clerical         3769\n",
       " Sales                3650\n",
       " Other-service        3295\n",
       " Machine-op-inspct    2002\n",
       " ?                    1843\n",
       " Transport-moving     1597\n",
       " Handlers-cleaners    1370\n",
       " Farming-fishing       994\n",
       " Tech-support          928\n",
       " Protective-serv       649\n",
       " Priv-house-serv       149\n",
       " Armed-Forces            9\n",
       "Name: Occupation, dtype: int64"
      ]
     },
     "execution_count": 30,
     "metadata": {},
     "output_type": "execute_result"
    }
   ],
   "source": [
    "df['Occupation'].value_counts() #calculating the unique value count of each rows."
   ]
  },
  {
   "cell_type": "code",
   "execution_count": 31,
   "id": "1aa11b53",
   "metadata": {},
   "outputs": [],
   "source": [
    "df[\"Occupation\"] = df[\"Occupation\"].str.replace('?', 'Prof-specialty') #replacing ? with mode value"
   ]
  },
  {
   "cell_type": "code",
   "execution_count": 32,
   "id": "fb6432e3",
   "metadata": {},
   "outputs": [
    {
     "data": {
      "text/plain": [
       " Prof-specialty       5983\n",
       " Craft-repair         4099\n",
       " Exec-managerial      4066\n",
       " Adm-clerical         3769\n",
       " Sales                3650\n",
       " Other-service        3295\n",
       " Machine-op-inspct    2002\n",
       " Transport-moving     1597\n",
       " Handlers-cleaners    1370\n",
       " Farming-fishing       994\n",
       " Tech-support          928\n",
       " Protective-serv       649\n",
       " Priv-house-serv       149\n",
       " Armed-Forces            9\n",
       "Name: Occupation, dtype: int64"
      ]
     },
     "execution_count": 32,
     "metadata": {},
     "output_type": "execute_result"
    }
   ],
   "source": [
    "df['Occupation'].value_counts() #no row carry question mark."
   ]
  },
  {
   "cell_type": "code",
   "execution_count": 33,
   "id": "f9df5a1f",
   "metadata": {},
   "outputs": [
    {
     "data": {
      "text/plain": [
       " United-States                 29169\n",
       " Mexico                          643\n",
       " ?                               583\n",
       " Philippines                     198\n",
       " Germany                         137\n",
       " Canada                          121\n",
       " Puerto-Rico                     114\n",
       " El-Salvador                     106\n",
       " India                           100\n",
       " Cuba                             95\n",
       " England                          90\n",
       " Jamaica                          81\n",
       " South                            80\n",
       " China                            75\n",
       " Italy                            73\n",
       " Dominican-Republic               70\n",
       " Vietnam                          67\n",
       " Guatemala                        64\n",
       " Japan                            62\n",
       " Poland                           60\n",
       " Columbia                         59\n",
       " Taiwan                           51\n",
       " Haiti                            44\n",
       " Iran                             43\n",
       " Portugal                         37\n",
       " Nicaragua                        34\n",
       " Peru                             31\n",
       " Greece                           29\n",
       " France                           29\n",
       " Ecuador                          28\n",
       " Ireland                          24\n",
       " Hong                             20\n",
       " Cambodia                         19\n",
       " Trinadad&Tobago                  19\n",
       " Laos                             18\n",
       " Thailand                         18\n",
       " Yugoslavia                       16\n",
       " Outlying-US(Guam-USVI-etc)       14\n",
       " Honduras                         13\n",
       " Hungary                          13\n",
       " Scotland                         12\n",
       " Holand-Netherlands                1\n",
       "Name: Native_country, dtype: int64"
      ]
     },
     "execution_count": 33,
     "metadata": {},
     "output_type": "execute_result"
    }
   ],
   "source": [
    "df['Native_country'].value_counts()#calculating the unique value count of each rows."
   ]
  },
  {
   "cell_type": "code",
   "execution_count": 34,
   "id": "bec7b316",
   "metadata": {},
   "outputs": [],
   "source": [
    "df[\"Native_country\"] = df[\"Native_country\"].str.replace('?', 'United_States') #replacing ? with mode value"
   ]
  },
  {
   "cell_type": "code",
   "execution_count": 35,
   "id": "c837306b",
   "metadata": {},
   "outputs": [
    {
     "data": {
      "text/plain": [
       " United-States                 29169\n",
       " Mexico                          643\n",
       " United_States                   583\n",
       " Philippines                     198\n",
       " Germany                         137\n",
       " Canada                          121\n",
       " Puerto-Rico                     114\n",
       " El-Salvador                     106\n",
       " India                           100\n",
       " Cuba                             95\n",
       " England                          90\n",
       " Jamaica                          81\n",
       " South                            80\n",
       " China                            75\n",
       " Italy                            73\n",
       " Dominican-Republic               70\n",
       " Vietnam                          67\n",
       " Guatemala                        64\n",
       " Japan                            62\n",
       " Poland                           60\n",
       " Columbia                         59\n",
       " Taiwan                           51\n",
       " Haiti                            44\n",
       " Iran                             43\n",
       " Portugal                         37\n",
       " Nicaragua                        34\n",
       " Peru                             31\n",
       " France                           29\n",
       " Greece                           29\n",
       " Ecuador                          28\n",
       " Ireland                          24\n",
       " Hong                             20\n",
       " Cambodia                         19\n",
       " Trinadad&Tobago                  19\n",
       " Thailand                         18\n",
       " Laos                             18\n",
       " Yugoslavia                       16\n",
       " Outlying-US(Guam-USVI-etc)       14\n",
       " Hungary                          13\n",
       " Honduras                         13\n",
       " Scotland                         12\n",
       " Holand-Netherlands                1\n",
       "Name: Native_country, dtype: int64"
      ]
     },
     "execution_count": 35,
     "metadata": {},
     "output_type": "execute_result"
    }
   ],
   "source": [
    "df['Native_country'].value_counts() #no ? in the column now."
   ]
  },
  {
   "cell_type": "markdown",
   "id": "5a007765",
   "metadata": {},
   "source": [
    "# Feature Engineering"
   ]
  },
  {
   "cell_type": "code",
   "execution_count": 36,
   "id": "ff6f2c87",
   "metadata": {},
   "outputs": [
    {
     "data": {
      "text/plain": [
       " Married-civ-spouse       14976\n",
       " Never-married            10682\n",
       " Divorced                  4443\n",
       " Separated                 1025\n",
       " Widowed                    993\n",
       " Married-spouse-absent      418\n",
       " Married-AF-spouse           23\n",
       "Name: Marital_status, dtype: int64"
      ]
     },
     "execution_count": 36,
     "metadata": {},
     "output_type": "execute_result"
    }
   ],
   "source": [
    "df['Marital_status'].value_counts()"
   ]
  },
  {
   "cell_type": "markdown",
   "id": "4aa6799a",
   "metadata": {},
   "source": [
    "As we could see that in marital status column carries some of the irrelevant categories we can categories them into 3 main categories like married, unmarried, others."
   ]
  },
  {
   "cell_type": "code",
   "execution_count": 37,
   "id": "2c7f0aa2",
   "metadata": {},
   "outputs": [],
   "source": [
    "df['Marital_status']=df['Marital_status'].str.replace('Married-civ-spouse','Married')\n",
    "df['Marital_status']=df['Marital_status'].str.replace('Married-spouse-absent','Married')\n",
    "df['Marital_status']=df['Marital_status'].str.replace('Married-AF-spouse','Married')\n",
    "df['Marital_status']=df['Marital_status'].str.replace('Divorced','others')\n",
    "df['Marital_status']=df['Marital_status'].str.replace('Separated','others')\n",
    "df['Marital_status']=df['Marital_status'].str.replace('Widowed','others')"
   ]
  },
  {
   "cell_type": "code",
   "execution_count": 38,
   "id": "ede5c75f",
   "metadata": {},
   "outputs": [
    {
     "data": {
      "text/plain": [
       " Married          15417\n",
       " Never-married    10682\n",
       " others            6461\n",
       "Name: Marital_status, dtype: int64"
      ]
     },
     "execution_count": 38,
     "metadata": {},
     "output_type": "execute_result"
    }
   ],
   "source": [
    "df['Marital_status'].value_counts()  #unique count of marital status."
   ]
  },
  {
   "cell_type": "markdown",
   "id": "6f2b5ab4",
   "metadata": {},
   "source": [
    "# Label Encoding"
   ]
  },
  {
   "cell_type": "code",
   "execution_count": 39,
   "id": "fd604b7e",
   "metadata": {},
   "outputs": [],
   "source": [
    "from sklearn.preprocessing import LabelEncoder\n",
    "le=LabelEncoder()\n",
    "name=['Workclass','Education','Marital_status','Occupation','Relationship','Race','Sex','Native_country','Income']\n",
    "for val in name:\n",
    "    df[val]=le.fit_transform(df[val].astype(str))\n"
   ]
  },
  {
   "cell_type": "code",
   "execution_count": 40,
   "id": "51e9e79a",
   "metadata": {},
   "outputs": [
    {
     "data": {
      "text/html": [
       "<div>\n",
       "<style scoped>\n",
       "    .dataframe tbody tr th:only-of-type {\n",
       "        vertical-align: middle;\n",
       "    }\n",
       "\n",
       "    .dataframe tbody tr th {\n",
       "        vertical-align: top;\n",
       "    }\n",
       "\n",
       "    .dataframe thead th {\n",
       "        text-align: right;\n",
       "    }\n",
       "</style>\n",
       "<table border=\"1\" class=\"dataframe\">\n",
       "  <thead>\n",
       "    <tr style=\"text-align: right;\">\n",
       "      <th></th>\n",
       "      <th>Age</th>\n",
       "      <th>Workclass</th>\n",
       "      <th>Fnlwgt</th>\n",
       "      <th>Education</th>\n",
       "      <th>Education_num</th>\n",
       "      <th>Marital_status</th>\n",
       "      <th>Occupation</th>\n",
       "      <th>Relationship</th>\n",
       "      <th>Race</th>\n",
       "      <th>Sex</th>\n",
       "      <th>Capital_gain</th>\n",
       "      <th>Capital_loss</th>\n",
       "      <th>Hours_per_week</th>\n",
       "      <th>Native_country</th>\n",
       "      <th>Income</th>\n",
       "    </tr>\n",
       "  </thead>\n",
       "  <tbody>\n",
       "    <tr>\n",
       "      <th>0</th>\n",
       "      <td>50</td>\n",
       "      <td>5</td>\n",
       "      <td>83311</td>\n",
       "      <td>9</td>\n",
       "      <td>13</td>\n",
       "      <td>0</td>\n",
       "      <td>3</td>\n",
       "      <td>0</td>\n",
       "      <td>4</td>\n",
       "      <td>1</td>\n",
       "      <td>0</td>\n",
       "      <td>0</td>\n",
       "      <td>13</td>\n",
       "      <td>38</td>\n",
       "      <td>0</td>\n",
       "    </tr>\n",
       "    <tr>\n",
       "      <th>1</th>\n",
       "      <td>38</td>\n",
       "      <td>3</td>\n",
       "      <td>215646</td>\n",
       "      <td>11</td>\n",
       "      <td>9</td>\n",
       "      <td>2</td>\n",
       "      <td>5</td>\n",
       "      <td>1</td>\n",
       "      <td>4</td>\n",
       "      <td>1</td>\n",
       "      <td>0</td>\n",
       "      <td>0</td>\n",
       "      <td>40</td>\n",
       "      <td>38</td>\n",
       "      <td>0</td>\n",
       "    </tr>\n",
       "    <tr>\n",
       "      <th>2</th>\n",
       "      <td>53</td>\n",
       "      <td>3</td>\n",
       "      <td>234721</td>\n",
       "      <td>1</td>\n",
       "      <td>7</td>\n",
       "      <td>0</td>\n",
       "      <td>5</td>\n",
       "      <td>0</td>\n",
       "      <td>2</td>\n",
       "      <td>1</td>\n",
       "      <td>0</td>\n",
       "      <td>0</td>\n",
       "      <td>40</td>\n",
       "      <td>38</td>\n",
       "      <td>0</td>\n",
       "    </tr>\n",
       "    <tr>\n",
       "      <th>3</th>\n",
       "      <td>28</td>\n",
       "      <td>3</td>\n",
       "      <td>338409</td>\n",
       "      <td>9</td>\n",
       "      <td>13</td>\n",
       "      <td>0</td>\n",
       "      <td>9</td>\n",
       "      <td>5</td>\n",
       "      <td>2</td>\n",
       "      <td>0</td>\n",
       "      <td>0</td>\n",
       "      <td>0</td>\n",
       "      <td>40</td>\n",
       "      <td>4</td>\n",
       "      <td>0</td>\n",
       "    </tr>\n",
       "    <tr>\n",
       "      <th>4</th>\n",
       "      <td>37</td>\n",
       "      <td>3</td>\n",
       "      <td>284582</td>\n",
       "      <td>12</td>\n",
       "      <td>14</td>\n",
       "      <td>0</td>\n",
       "      <td>3</td>\n",
       "      <td>5</td>\n",
       "      <td>4</td>\n",
       "      <td>0</td>\n",
       "      <td>0</td>\n",
       "      <td>0</td>\n",
       "      <td>40</td>\n",
       "      <td>38</td>\n",
       "      <td>0</td>\n",
       "    </tr>\n",
       "    <tr>\n",
       "      <th>...</th>\n",
       "      <td>...</td>\n",
       "      <td>...</td>\n",
       "      <td>...</td>\n",
       "      <td>...</td>\n",
       "      <td>...</td>\n",
       "      <td>...</td>\n",
       "      <td>...</td>\n",
       "      <td>...</td>\n",
       "      <td>...</td>\n",
       "      <td>...</td>\n",
       "      <td>...</td>\n",
       "      <td>...</td>\n",
       "      <td>...</td>\n",
       "      <td>...</td>\n",
       "      <td>...</td>\n",
       "    </tr>\n",
       "    <tr>\n",
       "      <th>32555</th>\n",
       "      <td>27</td>\n",
       "      <td>3</td>\n",
       "      <td>257302</td>\n",
       "      <td>7</td>\n",
       "      <td>12</td>\n",
       "      <td>0</td>\n",
       "      <td>12</td>\n",
       "      <td>5</td>\n",
       "      <td>4</td>\n",
       "      <td>0</td>\n",
       "      <td>0</td>\n",
       "      <td>0</td>\n",
       "      <td>38</td>\n",
       "      <td>38</td>\n",
       "      <td>0</td>\n",
       "    </tr>\n",
       "    <tr>\n",
       "      <th>32556</th>\n",
       "      <td>40</td>\n",
       "      <td>3</td>\n",
       "      <td>154374</td>\n",
       "      <td>11</td>\n",
       "      <td>9</td>\n",
       "      <td>0</td>\n",
       "      <td>6</td>\n",
       "      <td>0</td>\n",
       "      <td>4</td>\n",
       "      <td>1</td>\n",
       "      <td>0</td>\n",
       "      <td>0</td>\n",
       "      <td>40</td>\n",
       "      <td>38</td>\n",
       "      <td>1</td>\n",
       "    </tr>\n",
       "    <tr>\n",
       "      <th>32557</th>\n",
       "      <td>58</td>\n",
       "      <td>3</td>\n",
       "      <td>151910</td>\n",
       "      <td>11</td>\n",
       "      <td>9</td>\n",
       "      <td>2</td>\n",
       "      <td>0</td>\n",
       "      <td>4</td>\n",
       "      <td>4</td>\n",
       "      <td>0</td>\n",
       "      <td>0</td>\n",
       "      <td>0</td>\n",
       "      <td>40</td>\n",
       "      <td>38</td>\n",
       "      <td>0</td>\n",
       "    </tr>\n",
       "    <tr>\n",
       "      <th>32558</th>\n",
       "      <td>22</td>\n",
       "      <td>3</td>\n",
       "      <td>201490</td>\n",
       "      <td>11</td>\n",
       "      <td>9</td>\n",
       "      <td>1</td>\n",
       "      <td>0</td>\n",
       "      <td>3</td>\n",
       "      <td>4</td>\n",
       "      <td>1</td>\n",
       "      <td>0</td>\n",
       "      <td>0</td>\n",
       "      <td>20</td>\n",
       "      <td>38</td>\n",
       "      <td>0</td>\n",
       "    </tr>\n",
       "    <tr>\n",
       "      <th>32559</th>\n",
       "      <td>52</td>\n",
       "      <td>4</td>\n",
       "      <td>287927</td>\n",
       "      <td>11</td>\n",
       "      <td>9</td>\n",
       "      <td>0</td>\n",
       "      <td>3</td>\n",
       "      <td>5</td>\n",
       "      <td>4</td>\n",
       "      <td>0</td>\n",
       "      <td>15024</td>\n",
       "      <td>0</td>\n",
       "      <td>40</td>\n",
       "      <td>38</td>\n",
       "      <td>1</td>\n",
       "    </tr>\n",
       "  </tbody>\n",
       "</table>\n",
       "<p>32560 rows × 15 columns</p>\n",
       "</div>"
      ],
      "text/plain": [
       "       Age  Workclass  Fnlwgt  Education  Education_num  Marital_status  \\\n",
       "0       50          5   83311          9             13               0   \n",
       "1       38          3  215646         11              9               2   \n",
       "2       53          3  234721          1              7               0   \n",
       "3       28          3  338409          9             13               0   \n",
       "4       37          3  284582         12             14               0   \n",
       "...    ...        ...     ...        ...            ...             ...   \n",
       "32555   27          3  257302          7             12               0   \n",
       "32556   40          3  154374         11              9               0   \n",
       "32557   58          3  151910         11              9               2   \n",
       "32558   22          3  201490         11              9               1   \n",
       "32559   52          4  287927         11              9               0   \n",
       "\n",
       "       Occupation  Relationship  Race  Sex  Capital_gain  Capital_loss  \\\n",
       "0               3             0     4    1             0             0   \n",
       "1               5             1     4    1             0             0   \n",
       "2               5             0     2    1             0             0   \n",
       "3               9             5     2    0             0             0   \n",
       "4               3             5     4    0             0             0   \n",
       "...           ...           ...   ...  ...           ...           ...   \n",
       "32555          12             5     4    0             0             0   \n",
       "32556           6             0     4    1             0             0   \n",
       "32557           0             4     4    0             0             0   \n",
       "32558           0             3     4    1             0             0   \n",
       "32559           3             5     4    0         15024             0   \n",
       "\n",
       "       Hours_per_week  Native_country  Income  \n",
       "0                  13              38       0  \n",
       "1                  40              38       0  \n",
       "2                  40              38       0  \n",
       "3                  40               4       0  \n",
       "4                  40              38       0  \n",
       "...               ...             ...     ...  \n",
       "32555              38              38       0  \n",
       "32556              40              38       1  \n",
       "32557              40              38       0  \n",
       "32558              20              38       0  \n",
       "32559              40              38       1  \n",
       "\n",
       "[32560 rows x 15 columns]"
      ]
     },
     "execution_count": 40,
     "metadata": {},
     "output_type": "execute_result"
    }
   ],
   "source": [
    "df"
   ]
  },
  {
   "cell_type": "markdown",
   "id": "c16f4054",
   "metadata": {},
   "source": [
    "Converting all the categorial data into integer so as to perfrom the futhur action on the dataset."
   ]
  },
  {
   "cell_type": "code",
   "execution_count": 44,
   "id": "eec5281b",
   "metadata": {},
   "outputs": [
    {
     "data": {
      "text/plain": [
       "<AxesSubplot:>"
      ]
     },
     "execution_count": 44,
     "metadata": {},
     "output_type": "execute_result"
    },
    {
     "data": {
      "image/png": "[encoded data removed]",
      "text/plain": [
       "<Figure size 936x720 with 2 Axes>"
      ]
     },
     "metadata": {
      "needs_background": "light"
     },
     "output_type": "display_data"
    }
   ],
   "source": [
    "plt.figure(figsize=(13,10))\n",
    "sns.heatmap(df.corr(),annot=True)"
   ]
  },
  {
   "cell_type": "markdown",
   "id": "663f84ca",
   "metadata": {},
   "source": [
    "From the above heatmap we can say that,\n",
    "1. Relationship is positively corelated to marital status definatly the person is married will have different relationship.\n",
    "2.Education and Education num are positively corelated.\n",
    "3.Education num is contributing the most in determining the income."
   ]
  },
  {
   "cell_type": "code",
   "execution_count": 45,
   "id": "21f9aaf8",
   "metadata": {},
   "outputs": [
    {
     "data": {
      "text/html": [
       "<div>\n",
       "<style scoped>\n",
       "    .dataframe tbody tr th:only-of-type {\n",
       "        vertical-align: middle;\n",
       "    }\n",
       "\n",
       "    .dataframe tbody tr th {\n",
       "        vertical-align: top;\n",
       "    }\n",
       "\n",
       "    .dataframe thead th {\n",
       "        text-align: right;\n",
       "    }\n",
       "</style>\n",
       "<table border=\"1\" class=\"dataframe\">\n",
       "  <thead>\n",
       "    <tr style=\"text-align: right;\">\n",
       "      <th></th>\n",
       "      <th>Age</th>\n",
       "      <th>Workclass</th>\n",
       "      <th>Fnlwgt</th>\n",
       "      <th>Education</th>\n",
       "      <th>Education_num</th>\n",
       "      <th>Marital_status</th>\n",
       "      <th>Occupation</th>\n",
       "      <th>Relationship</th>\n",
       "      <th>Race</th>\n",
       "      <th>Sex</th>\n",
       "      <th>Capital_gain</th>\n",
       "      <th>Capital_loss</th>\n",
       "      <th>Hours_per_week</th>\n",
       "      <th>Native_country</th>\n",
       "      <th>Income</th>\n",
       "    </tr>\n",
       "  </thead>\n",
       "  <tbody>\n",
       "    <tr>\n",
       "      <th>count</th>\n",
       "      <td>32560.000000</td>\n",
       "      <td>32560.000000</td>\n",
       "      <td>3.256000e+04</td>\n",
       "      <td>32560.000000</td>\n",
       "      <td>32560.000000</td>\n",
       "      <td>32560.000000</td>\n",
       "      <td>32560.000000</td>\n",
       "      <td>32560.000000</td>\n",
       "      <td>32560.000000</td>\n",
       "      <td>32560.000000</td>\n",
       "      <td>32560.000000</td>\n",
       "      <td>32560.000000</td>\n",
       "      <td>32560.000000</td>\n",
       "      <td>32560.000000</td>\n",
       "      <td>32560.000000</td>\n",
       "    </tr>\n",
       "    <tr>\n",
       "      <th>mean</th>\n",
       "      <td>38.581634</td>\n",
       "      <td>3.094349</td>\n",
       "      <td>1.897818e+05</td>\n",
       "      <td>10.298249</td>\n",
       "      <td>10.080590</td>\n",
       "      <td>0.724939</td>\n",
       "      <td>6.138943</td>\n",
       "      <td>1.446376</td>\n",
       "      <td>3.665848</td>\n",
       "      <td>0.669195</td>\n",
       "      <td>1077.615172</td>\n",
       "      <td>87.306511</td>\n",
       "      <td>40.437469</td>\n",
       "      <td>36.437561</td>\n",
       "      <td>0.240817</td>\n",
       "    </tr>\n",
       "    <tr>\n",
       "      <th>std</th>\n",
       "      <td>13.640642</td>\n",
       "      <td>1.107094</td>\n",
       "      <td>1.055498e+05</td>\n",
       "      <td>3.870317</td>\n",
       "      <td>2.572709</td>\n",
       "      <td>0.772197</td>\n",
       "      <td>3.972623</td>\n",
       "      <td>1.606794</td>\n",
       "      <td>0.848817</td>\n",
       "      <td>0.470510</td>\n",
       "      <td>7385.402999</td>\n",
       "      <td>402.966116</td>\n",
       "      <td>12.347618</td>\n",
       "      <td>6.063631</td>\n",
       "      <td>0.427586</td>\n",
       "    </tr>\n",
       "    <tr>\n",
       "      <th>min</th>\n",
       "      <td>17.000000</td>\n",
       "      <td>0.000000</td>\n",
       "      <td>1.228500e+04</td>\n",
       "      <td>0.000000</td>\n",
       "      <td>1.000000</td>\n",
       "      <td>0.000000</td>\n",
       "      <td>0.000000</td>\n",
       "      <td>0.000000</td>\n",
       "      <td>0.000000</td>\n",
       "      <td>0.000000</td>\n",
       "      <td>0.000000</td>\n",
       "      <td>0.000000</td>\n",
       "      <td>1.000000</td>\n",
       "      <td>0.000000</td>\n",
       "      <td>0.000000</td>\n",
       "    </tr>\n",
       "    <tr>\n",
       "      <th>25%</th>\n",
       "      <td>28.000000</td>\n",
       "      <td>3.000000</td>\n",
       "      <td>1.178315e+05</td>\n",
       "      <td>9.000000</td>\n",
       "      <td>9.000000</td>\n",
       "      <td>0.000000</td>\n",
       "      <td>3.000000</td>\n",
       "      <td>0.000000</td>\n",
       "      <td>4.000000</td>\n",
       "      <td>0.000000</td>\n",
       "      <td>0.000000</td>\n",
       "      <td>0.000000</td>\n",
       "      <td>40.000000</td>\n",
       "      <td>38.000000</td>\n",
       "      <td>0.000000</td>\n",
       "    </tr>\n",
       "    <tr>\n",
       "      <th>50%</th>\n",
       "      <td>37.000000</td>\n",
       "      <td>3.000000</td>\n",
       "      <td>1.783630e+05</td>\n",
       "      <td>11.000000</td>\n",
       "      <td>10.000000</td>\n",
       "      <td>1.000000</td>\n",
       "      <td>6.000000</td>\n",
       "      <td>1.000000</td>\n",
       "      <td>4.000000</td>\n",
       "      <td>1.000000</td>\n",
       "      <td>0.000000</td>\n",
       "      <td>0.000000</td>\n",
       "      <td>40.000000</td>\n",
       "      <td>38.000000</td>\n",
       "      <td>0.000000</td>\n",
       "    </tr>\n",
       "    <tr>\n",
       "      <th>75%</th>\n",
       "      <td>48.000000</td>\n",
       "      <td>3.000000</td>\n",
       "      <td>2.370545e+05</td>\n",
       "      <td>12.000000</td>\n",
       "      <td>12.000000</td>\n",
       "      <td>1.000000</td>\n",
       "      <td>9.000000</td>\n",
       "      <td>3.000000</td>\n",
       "      <td>4.000000</td>\n",
       "      <td>1.000000</td>\n",
       "      <td>0.000000</td>\n",
       "      <td>0.000000</td>\n",
       "      <td>45.000000</td>\n",
       "      <td>38.000000</td>\n",
       "      <td>0.000000</td>\n",
       "    </tr>\n",
       "    <tr>\n",
       "      <th>max</th>\n",
       "      <td>90.000000</td>\n",
       "      <td>7.000000</td>\n",
       "      <td>1.484705e+06</td>\n",
       "      <td>15.000000</td>\n",
       "      <td>16.000000</td>\n",
       "      <td>2.000000</td>\n",
       "      <td>13.000000</td>\n",
       "      <td>5.000000</td>\n",
       "      <td>4.000000</td>\n",
       "      <td>1.000000</td>\n",
       "      <td>99999.000000</td>\n",
       "      <td>4356.000000</td>\n",
       "      <td>99.000000</td>\n",
       "      <td>41.000000</td>\n",
       "      <td>1.000000</td>\n",
       "    </tr>\n",
       "  </tbody>\n",
       "</table>\n",
       "</div>"
      ],
      "text/plain": [
       "                Age     Workclass        Fnlwgt     Education  Education_num  \\\n",
       "count  32560.000000  32560.000000  3.256000e+04  32560.000000   32560.000000   \n",
       "mean      38.581634      3.094349  1.897818e+05     10.298249      10.080590   \n",
       "std       13.640642      1.107094  1.055498e+05      3.870317       2.572709   \n",
       "min       17.000000      0.000000  1.228500e+04      0.000000       1.000000   \n",
       "25%       28.000000      3.000000  1.178315e+05      9.000000       9.000000   \n",
       "50%       37.000000      3.000000  1.783630e+05     11.000000      10.000000   \n",
       "75%       48.000000      3.000000  2.370545e+05     12.000000      12.000000   \n",
       "max       90.000000      7.000000  1.484705e+06     15.000000      16.000000   \n",
       "\n",
       "       Marital_status    Occupation  Relationship          Race           Sex  \\\n",
       "count    32560.000000  32560.000000  32560.000000  32560.000000  32560.000000   \n",
       "mean         0.724939      6.138943      1.446376      3.665848      0.669195   \n",
       "std          0.772197      3.972623      1.606794      0.848817      0.470510   \n",
       "min          0.000000      0.000000      0.000000      0.000000      0.000000   \n",
       "25%          0.000000      3.000000      0.000000      4.000000      0.000000   \n",
       "50%          1.000000      6.000000      1.000000      4.000000      1.000000   \n",
       "75%          1.000000      9.000000      3.000000      4.000000      1.000000   \n",
       "max          2.000000     13.000000      5.000000      4.000000      1.000000   \n",
       "\n",
       "       Capital_gain  Capital_loss  Hours_per_week  Native_country  \\\n",
       "count  32560.000000  32560.000000    32560.000000    32560.000000   \n",
       "mean    1077.615172     87.306511       40.437469       36.437561   \n",
       "std     7385.402999    402.966116       12.347618        6.063631   \n",
       "min        0.000000      0.000000        1.000000        0.000000   \n",
       "25%        0.000000      0.000000       40.000000       38.000000   \n",
       "50%        0.000000      0.000000       40.000000       38.000000   \n",
       "75%        0.000000      0.000000       45.000000       38.000000   \n",
       "max    99999.000000   4356.000000       99.000000       41.000000   \n",
       "\n",
       "             Income  \n",
       "count  32560.000000  \n",
       "mean       0.240817  \n",
       "std        0.427586  \n",
       "min        0.000000  \n",
       "25%        0.000000  \n",
       "50%        0.000000  \n",
       "75%        0.000000  \n",
       "max        1.000000  "
      ]
     },
     "execution_count": 45,
     "metadata": {},
     "output_type": "execute_result"
    }
   ],
   "source": [
    "df.describe()"
   ]
  },
  {
   "cell_type": "markdown",
   "id": "488fa117",
   "metadata": {},
   "source": [
    "From the above.\n",
    "1. Mean is more than 50% in some of the columns like age, education num, occupation which shows the data is skewed.\n",
    "2.There is gap between 75% and max we can say the presence of outliers is there."
   ]
  },
  {
   "cell_type": "markdown",
   "id": "744cb983",
   "metadata": {},
   "source": [
    "# Skewness and outliers"
   ]
  },
  {
   "cell_type": "code",
   "execution_count": 24,
   "id": "a223d7bb",
   "metadata": {},
   "outputs": [
    {
     "data": {
      "text/plain": [
       "Age                0.558738\n",
       "Workclass          0.076178\n",
       "Fnlwgt             1.446972\n",
       "Education         -0.934063\n",
       "Education_num     -0.311630\n",
       "Marital_status     0.516457\n",
       "Occupation         0.000536\n",
       "Relationship       0.786784\n",
       "Race              -2.435332\n",
       "Sex               -0.719244\n",
       "Capital_gain      11.953690\n",
       "Capital_loss       4.594549\n",
       "Hours_per_week     0.227636\n",
       "Native_country    -4.236041\n",
       "Income             1.212383\n",
       "dtype: float64"
      ]
     },
     "execution_count": 24,
     "metadata": {},
     "output_type": "execute_result"
    }
   ],
   "source": [
    "df.skew()"
   ]
  },
  {
   "cell_type": "markdown",
   "id": "3906bd59",
   "metadata": {},
   "source": [
    "There is large skewness present in the data we have to remove the skewness or we can say that skewness may be because of outliers present in the dataset we will first remove the outliers then we will go for removing the skewness."
   ]
  },
  {
   "cell_type": "code",
   "execution_count": 25,
   "id": "080a93a6",
   "metadata": {},
   "outputs": [
    {
     "name": "stdout",
     "output_type": "stream",
     "text": [
      "(array([    3,     9,    10, ..., 32532, 32550, 32552], dtype=int64), array([13, 12,  8, ...,  8,  8,  8], dtype=int64))\n"
     ]
    },
    {
     "data": {
      "text/html": [
       "<div>\n",
       "<style scoped>\n",
       "    .dataframe tbody tr th:only-of-type {\n",
       "        vertical-align: middle;\n",
       "    }\n",
       "\n",
       "    .dataframe tbody tr th {\n",
       "        vertical-align: top;\n",
       "    }\n",
       "\n",
       "    .dataframe thead th {\n",
       "        text-align: right;\n",
       "    }\n",
       "</style>\n",
       "<table border=\"1\" class=\"dataframe\">\n",
       "  <thead>\n",
       "    <tr style=\"text-align: right;\">\n",
       "      <th></th>\n",
       "      <th>Age</th>\n",
       "      <th>Workclass</th>\n",
       "      <th>Fnlwgt</th>\n",
       "      <th>Education</th>\n",
       "      <th>Education_num</th>\n",
       "      <th>Marital_status</th>\n",
       "      <th>Occupation</th>\n",
       "      <th>Relationship</th>\n",
       "      <th>Race</th>\n",
       "      <th>Sex</th>\n",
       "      <th>Capital_gain</th>\n",
       "      <th>Capital_loss</th>\n",
       "      <th>Hours_per_week</th>\n",
       "      <th>Native_country</th>\n",
       "      <th>Income</th>\n",
       "    </tr>\n",
       "  </thead>\n",
       "  <tbody>\n",
       "    <tr>\n",
       "      <th>0</th>\n",
       "      <td>50</td>\n",
       "      <td>5</td>\n",
       "      <td>83311</td>\n",
       "      <td>9</td>\n",
       "      <td>13</td>\n",
       "      <td>0</td>\n",
       "      <td>3</td>\n",
       "      <td>0</td>\n",
       "      <td>4</td>\n",
       "      <td>1</td>\n",
       "      <td>0</td>\n",
       "      <td>0</td>\n",
       "      <td>13</td>\n",
       "      <td>38</td>\n",
       "      <td>0</td>\n",
       "    </tr>\n",
       "    <tr>\n",
       "      <th>1</th>\n",
       "      <td>38</td>\n",
       "      <td>3</td>\n",
       "      <td>215646</td>\n",
       "      <td>11</td>\n",
       "      <td>9</td>\n",
       "      <td>2</td>\n",
       "      <td>5</td>\n",
       "      <td>1</td>\n",
       "      <td>4</td>\n",
       "      <td>1</td>\n",
       "      <td>0</td>\n",
       "      <td>0</td>\n",
       "      <td>40</td>\n",
       "      <td>38</td>\n",
       "      <td>0</td>\n",
       "    </tr>\n",
       "    <tr>\n",
       "      <th>2</th>\n",
       "      <td>53</td>\n",
       "      <td>3</td>\n",
       "      <td>234721</td>\n",
       "      <td>1</td>\n",
       "      <td>7</td>\n",
       "      <td>0</td>\n",
       "      <td>5</td>\n",
       "      <td>0</td>\n",
       "      <td>2</td>\n",
       "      <td>1</td>\n",
       "      <td>0</td>\n",
       "      <td>0</td>\n",
       "      <td>40</td>\n",
       "      <td>38</td>\n",
       "      <td>0</td>\n",
       "    </tr>\n",
       "    <tr>\n",
       "      <th>4</th>\n",
       "      <td>37</td>\n",
       "      <td>3</td>\n",
       "      <td>284582</td>\n",
       "      <td>12</td>\n",
       "      <td>14</td>\n",
       "      <td>0</td>\n",
       "      <td>3</td>\n",
       "      <td>5</td>\n",
       "      <td>4</td>\n",
       "      <td>0</td>\n",
       "      <td>0</td>\n",
       "      <td>0</td>\n",
       "      <td>40</td>\n",
       "      <td>38</td>\n",
       "      <td>0</td>\n",
       "    </tr>\n",
       "    <tr>\n",
       "      <th>5</th>\n",
       "      <td>49</td>\n",
       "      <td>3</td>\n",
       "      <td>160187</td>\n",
       "      <td>6</td>\n",
       "      <td>5</td>\n",
       "      <td>0</td>\n",
       "      <td>7</td>\n",
       "      <td>1</td>\n",
       "      <td>2</td>\n",
       "      <td>0</td>\n",
       "      <td>0</td>\n",
       "      <td>0</td>\n",
       "      <td>16</td>\n",
       "      <td>22</td>\n",
       "      <td>0</td>\n",
       "    </tr>\n",
       "    <tr>\n",
       "      <th>...</th>\n",
       "      <td>...</td>\n",
       "      <td>...</td>\n",
       "      <td>...</td>\n",
       "      <td>...</td>\n",
       "      <td>...</td>\n",
       "      <td>...</td>\n",
       "      <td>...</td>\n",
       "      <td>...</td>\n",
       "      <td>...</td>\n",
       "      <td>...</td>\n",
       "      <td>...</td>\n",
       "      <td>...</td>\n",
       "      <td>...</td>\n",
       "      <td>...</td>\n",
       "      <td>...</td>\n",
       "    </tr>\n",
       "    <tr>\n",
       "      <th>32555</th>\n",
       "      <td>27</td>\n",
       "      <td>3</td>\n",
       "      <td>257302</td>\n",
       "      <td>7</td>\n",
       "      <td>12</td>\n",
       "      <td>0</td>\n",
       "      <td>12</td>\n",
       "      <td>5</td>\n",
       "      <td>4</td>\n",
       "      <td>0</td>\n",
       "      <td>0</td>\n",
       "      <td>0</td>\n",
       "      <td>38</td>\n",
       "      <td>38</td>\n",
       "      <td>0</td>\n",
       "    </tr>\n",
       "    <tr>\n",
       "      <th>32556</th>\n",
       "      <td>40</td>\n",
       "      <td>3</td>\n",
       "      <td>154374</td>\n",
       "      <td>11</td>\n",
       "      <td>9</td>\n",
       "      <td>0</td>\n",
       "      <td>6</td>\n",
       "      <td>0</td>\n",
       "      <td>4</td>\n",
       "      <td>1</td>\n",
       "      <td>0</td>\n",
       "      <td>0</td>\n",
       "      <td>40</td>\n",
       "      <td>38</td>\n",
       "      <td>1</td>\n",
       "    </tr>\n",
       "    <tr>\n",
       "      <th>32557</th>\n",
       "      <td>58</td>\n",
       "      <td>3</td>\n",
       "      <td>151910</td>\n",
       "      <td>11</td>\n",
       "      <td>9</td>\n",
       "      <td>2</td>\n",
       "      <td>0</td>\n",
       "      <td>4</td>\n",
       "      <td>4</td>\n",
       "      <td>0</td>\n",
       "      <td>0</td>\n",
       "      <td>0</td>\n",
       "      <td>40</td>\n",
       "      <td>38</td>\n",
       "      <td>0</td>\n",
       "    </tr>\n",
       "    <tr>\n",
       "      <th>32558</th>\n",
       "      <td>22</td>\n",
       "      <td>3</td>\n",
       "      <td>201490</td>\n",
       "      <td>11</td>\n",
       "      <td>9</td>\n",
       "      <td>1</td>\n",
       "      <td>0</td>\n",
       "      <td>3</td>\n",
       "      <td>4</td>\n",
       "      <td>1</td>\n",
       "      <td>0</td>\n",
       "      <td>0</td>\n",
       "      <td>20</td>\n",
       "      <td>38</td>\n",
       "      <td>0</td>\n",
       "    </tr>\n",
       "    <tr>\n",
       "      <th>32559</th>\n",
       "      <td>52</td>\n",
       "      <td>4</td>\n",
       "      <td>287927</td>\n",
       "      <td>11</td>\n",
       "      <td>9</td>\n",
       "      <td>0</td>\n",
       "      <td>3</td>\n",
       "      <td>5</td>\n",
       "      <td>4</td>\n",
       "      <td>0</td>\n",
       "      <td>15024</td>\n",
       "      <td>0</td>\n",
       "      <td>40</td>\n",
       "      <td>38</td>\n",
       "      <td>1</td>\n",
       "    </tr>\n",
       "  </tbody>\n",
       "</table>\n",
       "<p>27770 rows × 15 columns</p>\n",
       "</div>"
      ],
      "text/plain": [
       "       Age  Workclass  Fnlwgt  Education  Education_num  Marital_status  \\\n",
       "0       50          5   83311          9             13               0   \n",
       "1       38          3  215646         11              9               2   \n",
       "2       53          3  234721          1              7               0   \n",
       "4       37          3  284582         12             14               0   \n",
       "5       49          3  160187          6              5               0   \n",
       "...    ...        ...     ...        ...            ...             ...   \n",
       "32555   27          3  257302          7             12               0   \n",
       "32556   40          3  154374         11              9               0   \n",
       "32557   58          3  151910         11              9               2   \n",
       "32558   22          3  201490         11              9               1   \n",
       "32559   52          4  287927         11              9               0   \n",
       "\n",
       "       Occupation  Relationship  Race  Sex  Capital_gain  Capital_loss  \\\n",
       "0               3             0     4    1             0             0   \n",
       "1               5             1     4    1             0             0   \n",
       "2               5             0     2    1             0             0   \n",
       "4               3             5     4    0             0             0   \n",
       "5               7             1     2    0             0             0   \n",
       "...           ...           ...   ...  ...           ...           ...   \n",
       "32555          12             5     4    0             0             0   \n",
       "32556           6             0     4    1             0             0   \n",
       "32557           0             4     4    0             0             0   \n",
       "32558           0             3     4    1             0             0   \n",
       "32559           3             5     4    0         15024             0   \n",
       "\n",
       "       Hours_per_week  Native_country  Income  \n",
       "0                  13              38       0  \n",
       "1                  40              38       0  \n",
       "2                  40              38       0  \n",
       "4                  40              38       0  \n",
       "5                  16              22       0  \n",
       "...               ...             ...     ...  \n",
       "32555              38              38       0  \n",
       "32556              40              38       1  \n",
       "32557              40              38       0  \n",
       "32558              20              38       0  \n",
       "32559              40              38       1  \n",
       "\n",
       "[27770 rows x 15 columns]"
      ]
     },
     "execution_count": 25,
     "metadata": {},
     "output_type": "execute_result"
    }
   ],
   "source": [
    "from scipy.stats import zscore\n",
    "zp=np.abs(zscore(df))   #removing outliers present the dataset\n",
    "zp\n",
    "threshold=3\n",
    "print(np.where(zp>3))\n",
    "df_new=df[(zp<3).all(axis=1)]\n",
    "df_new"
   ]
  },
  {
   "cell_type": "markdown",
   "id": "a80a5bd2",
   "metadata": {},
   "source": [
    "With the help of zscore we have removed the outliers and we are left with 27770 rows."
   ]
  },
  {
   "cell_type": "code",
   "execution_count": 26,
   "id": "3270dcae",
   "metadata": {},
   "outputs": [
    {
     "data": {
      "text/plain": [
       "Age                0.484817\n",
       "Workclass          0.081968\n",
       "Fnlwgt             0.627985\n",
       "Education         -0.955755\n",
       "Education_num     -0.146274\n",
       "Marital_status     0.478070\n",
       "Occupation         0.013770\n",
       "Relationship       0.753668\n",
       "Race              -2.587044\n",
       "Sex               -0.688946\n",
       "Capital_gain       4.930671\n",
       "Capital_loss      29.514547\n",
       "Hours_per_week    -0.359841\n",
       "Native_country    -5.375935\n",
       "Income             1.322689\n",
       "dtype: float64"
      ]
     },
     "execution_count": 26,
     "metadata": {},
     "output_type": "execute_result"
    }
   ],
   "source": [
    "df_new.skew()"
   ]
  },
  {
   "cell_type": "markdown",
   "id": "054c5949",
   "metadata": {},
   "source": [
    "We can see that skewness have been reduced to much extent but still skewness is present we will use power transformation method called yeo-johnson."
   ]
  },
  {
   "cell_type": "markdown",
   "id": "de26fcb0",
   "metadata": {},
   "source": [
    "# Dividing Dataset into Independent(X) and Dependent(Y) Variable."
   ]
  },
  {
   "cell_type": "code",
   "execution_count": 27,
   "id": "1bb5d775",
   "metadata": {},
   "outputs": [
    {
     "data": {
      "text/html": [
       "<div>\n",
       "<style scoped>\n",
       "    .dataframe tbody tr th:only-of-type {\n",
       "        vertical-align: middle;\n",
       "    }\n",
       "\n",
       "    .dataframe tbody tr th {\n",
       "        vertical-align: top;\n",
       "    }\n",
       "\n",
       "    .dataframe thead th {\n",
       "        text-align: right;\n",
       "    }\n",
       "</style>\n",
       "<table border=\"1\" class=\"dataframe\">\n",
       "  <thead>\n",
       "    <tr style=\"text-align: right;\">\n",
       "      <th></th>\n",
       "      <th>Age</th>\n",
       "      <th>Workclass</th>\n",
       "      <th>Fnlwgt</th>\n",
       "      <th>Education</th>\n",
       "      <th>Education_num</th>\n",
       "      <th>Marital_status</th>\n",
       "      <th>Occupation</th>\n",
       "      <th>Relationship</th>\n",
       "      <th>Race</th>\n",
       "      <th>Sex</th>\n",
       "      <th>Capital_gain</th>\n",
       "      <th>Capital_loss</th>\n",
       "      <th>Hours_per_week</th>\n",
       "      <th>Native_country</th>\n",
       "    </tr>\n",
       "  </thead>\n",
       "  <tbody>\n",
       "    <tr>\n",
       "      <th>0</th>\n",
       "      <td>50</td>\n",
       "      <td>5</td>\n",
       "      <td>83311</td>\n",
       "      <td>9</td>\n",
       "      <td>13</td>\n",
       "      <td>0</td>\n",
       "      <td>3</td>\n",
       "      <td>0</td>\n",
       "      <td>4</td>\n",
       "      <td>1</td>\n",
       "      <td>0</td>\n",
       "      <td>0</td>\n",
       "      <td>13</td>\n",
       "      <td>38</td>\n",
       "    </tr>\n",
       "    <tr>\n",
       "      <th>1</th>\n",
       "      <td>38</td>\n",
       "      <td>3</td>\n",
       "      <td>215646</td>\n",
       "      <td>11</td>\n",
       "      <td>9</td>\n",
       "      <td>2</td>\n",
       "      <td>5</td>\n",
       "      <td>1</td>\n",
       "      <td>4</td>\n",
       "      <td>1</td>\n",
       "      <td>0</td>\n",
       "      <td>0</td>\n",
       "      <td>40</td>\n",
       "      <td>38</td>\n",
       "    </tr>\n",
       "    <tr>\n",
       "      <th>2</th>\n",
       "      <td>53</td>\n",
       "      <td>3</td>\n",
       "      <td>234721</td>\n",
       "      <td>1</td>\n",
       "      <td>7</td>\n",
       "      <td>0</td>\n",
       "      <td>5</td>\n",
       "      <td>0</td>\n",
       "      <td>2</td>\n",
       "      <td>1</td>\n",
       "      <td>0</td>\n",
       "      <td>0</td>\n",
       "      <td>40</td>\n",
       "      <td>38</td>\n",
       "    </tr>\n",
       "    <tr>\n",
       "      <th>4</th>\n",
       "      <td>37</td>\n",
       "      <td>3</td>\n",
       "      <td>284582</td>\n",
       "      <td>12</td>\n",
       "      <td>14</td>\n",
       "      <td>0</td>\n",
       "      <td>3</td>\n",
       "      <td>5</td>\n",
       "      <td>4</td>\n",
       "      <td>0</td>\n",
       "      <td>0</td>\n",
       "      <td>0</td>\n",
       "      <td>40</td>\n",
       "      <td>38</td>\n",
       "    </tr>\n",
       "    <tr>\n",
       "      <th>5</th>\n",
       "      <td>49</td>\n",
       "      <td>3</td>\n",
       "      <td>160187</td>\n",
       "      <td>6</td>\n",
       "      <td>5</td>\n",
       "      <td>0</td>\n",
       "      <td>7</td>\n",
       "      <td>1</td>\n",
       "      <td>2</td>\n",
       "      <td>0</td>\n",
       "      <td>0</td>\n",
       "      <td>0</td>\n",
       "      <td>16</td>\n",
       "      <td>22</td>\n",
       "    </tr>\n",
       "    <tr>\n",
       "      <th>...</th>\n",
       "      <td>...</td>\n",
       "      <td>...</td>\n",
       "      <td>...</td>\n",
       "      <td>...</td>\n",
       "      <td>...</td>\n",
       "      <td>...</td>\n",
       "      <td>...</td>\n",
       "      <td>...</td>\n",
       "      <td>...</td>\n",
       "      <td>...</td>\n",
       "      <td>...</td>\n",
       "      <td>...</td>\n",
       "      <td>...</td>\n",
       "      <td>...</td>\n",
       "    </tr>\n",
       "    <tr>\n",
       "      <th>32555</th>\n",
       "      <td>27</td>\n",
       "      <td>3</td>\n",
       "      <td>257302</td>\n",
       "      <td>7</td>\n",
       "      <td>12</td>\n",
       "      <td>0</td>\n",
       "      <td>12</td>\n",
       "      <td>5</td>\n",
       "      <td>4</td>\n",
       "      <td>0</td>\n",
       "      <td>0</td>\n",
       "      <td>0</td>\n",
       "      <td>38</td>\n",
       "      <td>38</td>\n",
       "    </tr>\n",
       "    <tr>\n",
       "      <th>32556</th>\n",
       "      <td>40</td>\n",
       "      <td>3</td>\n",
       "      <td>154374</td>\n",
       "      <td>11</td>\n",
       "      <td>9</td>\n",
       "      <td>0</td>\n",
       "      <td>6</td>\n",
       "      <td>0</td>\n",
       "      <td>4</td>\n",
       "      <td>1</td>\n",
       "      <td>0</td>\n",
       "      <td>0</td>\n",
       "      <td>40</td>\n",
       "      <td>38</td>\n",
       "    </tr>\n",
       "    <tr>\n",
       "      <th>32557</th>\n",
       "      <td>58</td>\n",
       "      <td>3</td>\n",
       "      <td>151910</td>\n",
       "      <td>11</td>\n",
       "      <td>9</td>\n",
       "      <td>2</td>\n",
       "      <td>0</td>\n",
       "      <td>4</td>\n",
       "      <td>4</td>\n",
       "      <td>0</td>\n",
       "      <td>0</td>\n",
       "      <td>0</td>\n",
       "      <td>40</td>\n",
       "      <td>38</td>\n",
       "    </tr>\n",
       "    <tr>\n",
       "      <th>32558</th>\n",
       "      <td>22</td>\n",
       "      <td>3</td>\n",
       "      <td>201490</td>\n",
       "      <td>11</td>\n",
       "      <td>9</td>\n",
       "      <td>1</td>\n",
       "      <td>0</td>\n",
       "      <td>3</td>\n",
       "      <td>4</td>\n",
       "      <td>1</td>\n",
       "      <td>0</td>\n",
       "      <td>0</td>\n",
       "      <td>20</td>\n",
       "      <td>38</td>\n",
       "    </tr>\n",
       "    <tr>\n",
       "      <th>32559</th>\n",
       "      <td>52</td>\n",
       "      <td>4</td>\n",
       "      <td>287927</td>\n",
       "      <td>11</td>\n",
       "      <td>9</td>\n",
       "      <td>0</td>\n",
       "      <td>3</td>\n",
       "      <td>5</td>\n",
       "      <td>4</td>\n",
       "      <td>0</td>\n",
       "      <td>15024</td>\n",
       "      <td>0</td>\n",
       "      <td>40</td>\n",
       "      <td>38</td>\n",
       "    </tr>\n",
       "  </tbody>\n",
       "</table>\n",
       "<p>27770 rows × 14 columns</p>\n",
       "</div>"
      ],
      "text/plain": [
       "       Age  Workclass  Fnlwgt  Education  Education_num  Marital_status  \\\n",
       "0       50          5   83311          9             13               0   \n",
       "1       38          3  215646         11              9               2   \n",
       "2       53          3  234721          1              7               0   \n",
       "4       37          3  284582         12             14               0   \n",
       "5       49          3  160187          6              5               0   \n",
       "...    ...        ...     ...        ...            ...             ...   \n",
       "32555   27          3  257302          7             12               0   \n",
       "32556   40          3  154374         11              9               0   \n",
       "32557   58          3  151910         11              9               2   \n",
       "32558   22          3  201490         11              9               1   \n",
       "32559   52          4  287927         11              9               0   \n",
       "\n",
       "       Occupation  Relationship  Race  Sex  Capital_gain  Capital_loss  \\\n",
       "0               3             0     4    1             0             0   \n",
       "1               5             1     4    1             0             0   \n",
       "2               5             0     2    1             0             0   \n",
       "4               3             5     4    0             0             0   \n",
       "5               7             1     2    0             0             0   \n",
       "...           ...           ...   ...  ...           ...           ...   \n",
       "32555          12             5     4    0             0             0   \n",
       "32556           6             0     4    1             0             0   \n",
       "32557           0             4     4    0             0             0   \n",
       "32558           0             3     4    1             0             0   \n",
       "32559           3             5     4    0         15024             0   \n",
       "\n",
       "       Hours_per_week  Native_country  \n",
       "0                  13              38  \n",
       "1                  40              38  \n",
       "2                  40              38  \n",
       "4                  40              38  \n",
       "5                  16              22  \n",
       "...               ...             ...  \n",
       "32555              38              38  \n",
       "32556              40              38  \n",
       "32557              40              38  \n",
       "32558              20              38  \n",
       "32559              40              38  \n",
       "\n",
       "[27770 rows x 14 columns]"
      ]
     },
     "execution_count": 27,
     "metadata": {},
     "output_type": "execute_result"
    }
   ],
   "source": [
    "x=df_new.iloc[:,:-1]  #Independent variable.\n",
    "x"
   ]
  },
  {
   "cell_type": "code",
   "execution_count": 28,
   "id": "39db3860",
   "metadata": {},
   "outputs": [
    {
     "data": {
      "text/plain": [
       "0        0\n",
       "1        0\n",
       "2        0\n",
       "4        0\n",
       "5        0\n",
       "        ..\n",
       "32555    0\n",
       "32556    1\n",
       "32557    0\n",
       "32558    0\n",
       "32559    1\n",
       "Name: Income, Length: 27770, dtype: int32"
      ]
     },
     "execution_count": 28,
     "metadata": {},
     "output_type": "execute_result"
    }
   ],
   "source": [
    "y=df_new.iloc[:,-1]  #dependent variable.\n",
    "y"
   ]
  },
  {
   "cell_type": "markdown",
   "id": "0ce3ee0e",
   "metadata": {},
   "source": [
    "# VIF FACTOR"
   ]
  },
  {
   "cell_type": "code",
   "execution_count": 29,
   "id": "924f7b05",
   "metadata": {},
   "outputs": [],
   "source": [
    "def cal_vif(x):\n",
    "    vif=pd.DataFrame()\n",
    "    vif[\"variables\"]=x.columns\n",
    "    vif[\"VIF FACTOR\"]=[variance_inflation_factor(x.values,i) for i in range (x.shape[1])]\n",
    "    return(vif)"
   ]
  },
  {
   "cell_type": "code",
   "execution_count": 30,
   "id": "a6d3f01b",
   "metadata": {},
   "outputs": [
    {
     "data": {
      "text/html": [
       "<div>\n",
       "<style scoped>\n",
       "    .dataframe tbody tr th:only-of-type {\n",
       "        vertical-align: middle;\n",
       "    }\n",
       "\n",
       "    .dataframe tbody tr th {\n",
       "        vertical-align: top;\n",
       "    }\n",
       "\n",
       "    .dataframe thead th {\n",
       "        text-align: right;\n",
       "    }\n",
       "</style>\n",
       "<table border=\"1\" class=\"dataframe\">\n",
       "  <thead>\n",
       "    <tr style=\"text-align: right;\">\n",
       "      <th></th>\n",
       "      <th>variables</th>\n",
       "      <th>VIF FACTOR</th>\n",
       "    </tr>\n",
       "  </thead>\n",
       "  <tbody>\n",
       "    <tr>\n",
       "      <th>0</th>\n",
       "      <td>Age</td>\n",
       "      <td>9.814161</td>\n",
       "    </tr>\n",
       "    <tr>\n",
       "      <th>1</th>\n",
       "      <td>Workclass</td>\n",
       "      <td>8.785530</td>\n",
       "    </tr>\n",
       "    <tr>\n",
       "      <th>2</th>\n",
       "      <td>Fnlwgt</td>\n",
       "      <td>4.717946</td>\n",
       "    </tr>\n",
       "    <tr>\n",
       "      <th>3</th>\n",
       "      <td>Education</td>\n",
       "      <td>9.301227</td>\n",
       "    </tr>\n",
       "    <tr>\n",
       "      <th>4</th>\n",
       "      <td>Education_num</td>\n",
       "      <td>22.492257</td>\n",
       "    </tr>\n",
       "    <tr>\n",
       "      <th>5</th>\n",
       "      <td>Marital_status</td>\n",
       "      <td>2.643589</td>\n",
       "    </tr>\n",
       "    <tr>\n",
       "      <th>6</th>\n",
       "      <td>Occupation</td>\n",
       "      <td>3.367545</td>\n",
       "    </tr>\n",
       "    <tr>\n",
       "      <th>7</th>\n",
       "      <td>Relationship</td>\n",
       "      <td>3.163351</td>\n",
       "    </tr>\n",
       "    <tr>\n",
       "      <th>8</th>\n",
       "      <td>Race</td>\n",
       "      <td>37.058919</td>\n",
       "    </tr>\n",
       "    <tr>\n",
       "      <th>9</th>\n",
       "      <td>Sex</td>\n",
       "      <td>4.812647</td>\n",
       "    </tr>\n",
       "    <tr>\n",
       "      <th>10</th>\n",
       "      <td>Capital_gain</td>\n",
       "      <td>1.118059</td>\n",
       "    </tr>\n",
       "    <tr>\n",
       "      <th>11</th>\n",
       "      <td>Capital_loss</td>\n",
       "      <td>1.004143</td>\n",
       "    </tr>\n",
       "    <tr>\n",
       "      <th>12</th>\n",
       "      <td>Hours_per_week</td>\n",
       "      <td>14.918704</td>\n",
       "    </tr>\n",
       "    <tr>\n",
       "      <th>13</th>\n",
       "      <td>Native_country</td>\n",
       "      <td>78.304730</td>\n",
       "    </tr>\n",
       "  </tbody>\n",
       "</table>\n",
       "</div>"
      ],
      "text/plain": [
       "         variables  VIF FACTOR\n",
       "0              Age    9.814161\n",
       "1        Workclass    8.785530\n",
       "2           Fnlwgt    4.717946\n",
       "3        Education    9.301227\n",
       "4    Education_num   22.492257\n",
       "5   Marital_status    2.643589\n",
       "6       Occupation    3.367545\n",
       "7     Relationship    3.163351\n",
       "8             Race   37.058919\n",
       "9              Sex    4.812647\n",
       "10    Capital_gain    1.118059\n",
       "11    Capital_loss    1.004143\n",
       "12  Hours_per_week   14.918704\n",
       "13  Native_country   78.304730"
      ]
     },
     "execution_count": 30,
     "metadata": {},
     "output_type": "execute_result"
    }
   ],
   "source": [
    "cal_vif(x)"
   ]
  },
  {
   "cell_type": "markdown",
   "id": "153cf57b",
   "metadata": {},
   "source": [
    "From above VIF FACTOR calculation we can see that there are no multicolinearites present in our dataset hence we will not drop any of our column."
   ]
  },
  {
   "cell_type": "code",
   "execution_count": 31,
   "id": "5a0ceac3",
   "metadata": {},
   "outputs": [
    {
     "data": {
      "text/plain": [
       "array([[ 0.92526238,  1.76183874, -1.12664842, ..., -0.04028751,\n",
       "        -2.21574458,  0.08985809],\n",
       "       [ 0.12862373, -0.08786913,  0.41301496, ..., -0.04028751,\n",
       "        -0.03997524,  0.08985809],\n",
       "       [ 1.10012201, -0.08786913,  0.59335961, ..., -0.04028751,\n",
       "        -0.03997524,  0.08985809],\n",
       "       ...,\n",
       "       [ 1.37466911, -0.08786913, -0.24940583, ..., -0.04028751,\n",
       "        -0.03997524,  0.08985809],\n",
       "       [-1.32958378, -0.08786913,  0.27448401, ..., -0.04028751,\n",
       "        -1.72233518,  0.08985809],\n",
       "       [ 1.04273713,  0.83027128,  1.06420943, ..., -0.04028751,\n",
       "        -0.03997524,  0.08985809]])"
      ]
     },
     "execution_count": 31,
     "metadata": {},
     "output_type": "execute_result"
    }
   ],
   "source": [
    "from sklearn.preprocessing import power_transform\n",
    "x=power_transform(x,method='yeo-johnson')  #to remove skewness\n",
    "x"
   ]
  },
  {
   "cell_type": "code",
   "execution_count": 32,
   "id": "89a3d73d",
   "metadata": {},
   "outputs": [
    {
     "data": {
      "text/plain": [
       "array([[ 0.92526238,  1.76183874, -1.12664842, ..., -0.04028751,\n",
       "        -2.21574458,  0.08985809],\n",
       "       [ 0.12862373, -0.08786913,  0.41301496, ..., -0.04028751,\n",
       "        -0.03997524,  0.08985809],\n",
       "       [ 1.10012201, -0.08786913,  0.59335961, ..., -0.04028751,\n",
       "        -0.03997524,  0.08985809],\n",
       "       ...,\n",
       "       [ 1.37466911, -0.08786913, -0.24940583, ..., -0.04028751,\n",
       "        -0.03997524,  0.08985809],\n",
       "       [-1.32958378, -0.08786913,  0.27448401, ..., -0.04028751,\n",
       "        -1.72233518,  0.08985809],\n",
       "       [ 1.04273713,  0.83027128,  1.06420943, ..., -0.04028751,\n",
       "        -0.03997524,  0.08985809]])"
      ]
     },
     "execution_count": 32,
     "metadata": {},
     "output_type": "execute_result"
    }
   ],
   "source": [
    "# to bring all the features on the same scale we will perform standard scaling.\n",
    "from sklearn.preprocessing import StandardScaler\n",
    "mn=StandardScaler()\n",
    "x=mn.fit_transform(x)\n",
    "x"
   ]
  },
  {
   "cell_type": "markdown",
   "id": "8d249c2d",
   "metadata": {},
   "source": [
    "# SMOTE"
   ]
  },
  {
   "cell_type": "code",
   "execution_count": 33,
   "id": "a560da06",
   "metadata": {},
   "outputs": [
    {
     "data": {
      "text/plain": [
       "0    21544\n",
       "1     6226\n",
       "Name: Income, dtype: int64"
      ]
     },
     "execution_count": 33,
     "metadata": {},
     "output_type": "execute_result"
    }
   ],
   "source": [
    "y.value_counts()  #huge difference between 2 categories"
   ]
  },
  {
   "cell_type": "code",
   "execution_count": 34,
   "id": "aae4390d",
   "metadata": {},
   "outputs": [],
   "source": [
    "from imblearn.over_sampling import SMOTE\n",
    "smt=SMOTE()      #SMOTE to balance the target variable.\n",
    "x_res,y_res=smt.fit_resample(x,y)"
   ]
  },
  {
   "cell_type": "code",
   "execution_count": 35,
   "id": "b4afa0b2",
   "metadata": {},
   "outputs": [
    {
     "data": {
      "text/plain": [
       "0    21544\n",
       "1    21544\n",
       "Name: Income, dtype: int64"
      ]
     },
     "execution_count": 35,
     "metadata": {},
     "output_type": "execute_result"
    }
   ],
   "source": [
    "y_res.value_counts()  "
   ]
  },
  {
   "cell_type": "markdown",
   "id": "1d860716",
   "metadata": {},
   "source": [
    "# Performing Algorithms"
   ]
  },
  {
   "cell_type": "code",
   "execution_count": 36,
   "id": "c5588c5a",
   "metadata": {},
   "outputs": [],
   "source": [
    "from sklearn.model_selection import train_test_split\n",
    "from sklearn.linear_model import LogisticRegression\n",
    "from sklearn.metrics import accuracy_score,classification_report,confusion_matrix\n",
    "from sklearn.tree import DecisionTreeClassifier\n",
    "from sklearn.svm import SVC\n",
    "from sklearn.neighbors import KNeighborsClassifier\n",
    "from sklearn.naive_bayes import MultinomialNB\n",
    "from sklearn.ensemble import RandomForestClassifier\n",
    "from sklearn.model_selection import cross_val_score\n",
    "from sklearn.model_selection import GridSearchCV\n",
    "from sklearn.metrics import roc_curve,roc_auc_score\n",
    "from scipy.stats import zscore\n",
    "from sklearn.ensemble import RandomForestClassifier,AdaBoostClassifier"
   ]
  },
  {
   "cell_type": "code",
   "execution_count": 40,
   "id": "efe4c32c",
   "metadata": {},
   "outputs": [
    {
     "name": "stdout",
     "output_type": "stream",
     "text": [
      "best accuracy is 0.82 at random state 120\n"
     ]
    }
   ],
   "source": [
    "maxacc=0  #finding the best random state\n",
    "maxrs=0\n",
    "for i in range(1,200):\n",
    "    x_train,x_test,y_train,y_test=train_test_split(x_res,y_res,test_size=.30,random_state=i)\n",
    "    lm=LogisticRegression()\n",
    "    lm.fit(x_train,y_train)\n",
    "    pred=lm.predict(x_test)\n",
    "    accu=accuracy_score(y_test,pred)\n",
    "    if accu>maxacc:\n",
    "        maxacc=accu\n",
    "        maxrs=i\n",
    "print(\"best accuracy is\",round(maxacc,2),\"at random state\",maxrs)"
   ]
  },
  {
   "cell_type": "code",
   "execution_count": 42,
   "id": "69f76c55",
   "metadata": {},
   "outputs": [],
   "source": [
    "x_train1,x_test1,y_train1,y_test1=train_test_split(x_res,y_res,test_size=.30,random_state=120)"
   ]
  },
  {
   "cell_type": "markdown",
   "id": "40cf44c6",
   "metadata": {},
   "source": [
    "# Logistic Regression"
   ]
  },
  {
   "cell_type": "code",
   "execution_count": 43,
   "id": "b3fc1263",
   "metadata": {},
   "outputs": [
    {
     "name": "stdout",
     "output_type": "stream",
     "text": [
      "accuracy score 0.8154250792914056\n",
      "              precision    recall  f1-score   support\n",
      "\n",
      "           0       0.84      0.78      0.81      6539\n",
      "           1       0.79      0.85      0.82      6388\n",
      "\n",
      "    accuracy                           0.82     12927\n",
      "   macro avg       0.82      0.82      0.82     12927\n",
      "weighted avg       0.82      0.82      0.82     12927\n",
      "\n"
     ]
    }
   ],
   "source": [
    "lm=LogisticRegression()\n",
    "lm.fit(x_train1,y_train1)\n",
    "pred=lm.predict(x_test1)\n",
    "az=accuracy_score(y_test1,pred)\n",
    "print(\"accuracy score\",az)\n",
    "cl=classification_report(y_test1,pred)\n",
    "print(cl)"
   ]
  },
  {
   "cell_type": "markdown",
   "id": "d42c70a6",
   "metadata": {},
   "source": [
    "# Decision Tree Classifier"
   ]
  },
  {
   "cell_type": "code",
   "execution_count": 99,
   "id": "62544384",
   "metadata": {},
   "outputs": [
    {
     "name": "stdout",
     "output_type": "stream",
     "text": [
      "accuracy score 0.8479925736829891\n",
      "              precision    recall  f1-score   support\n",
      "\n",
      "           0       0.85      0.84      0.85      6459\n",
      "           1       0.84      0.85      0.85      6468\n",
      "\n",
      "    accuracy                           0.85     12927\n",
      "   macro avg       0.85      0.85      0.85     12927\n",
      "weighted avg       0.85      0.85      0.85     12927\n",
      "\n"
     ]
    }
   ],
   "source": [
    "dtc=DecisionTreeClassifier()\n",
    "dtc.fit(x_train1,y_train1)\n",
    "pred=dtc.predict(x_test1)\n",
    "az=accuracy_score(y_test1,pred)\n",
    "print(\"accuracy score\",az)\n",
    "cl=classification_report(y_test1,pred)\n",
    "print(cl)"
   ]
  },
  {
   "cell_type": "markdown",
   "id": "08425154",
   "metadata": {},
   "source": [
    "# Ada Boost Classifier"
   ]
  },
  {
   "cell_type": "code",
   "execution_count": 51,
   "id": "a04bf6c2",
   "metadata": {},
   "outputs": [
    {
     "name": "stdout",
     "output_type": "stream",
     "text": [
      "accuracy score 0.854103813723215\n",
      "              precision    recall  f1-score   support\n",
      "\n",
      "           0       0.88      0.83      0.85      6539\n",
      "           1       0.83      0.88      0.86      6388\n",
      "\n",
      "    accuracy                           0.85     12927\n",
      "   macro avg       0.86      0.85      0.85     12927\n",
      "weighted avg       0.86      0.85      0.85     12927\n",
      "\n"
     ]
    }
   ],
   "source": [
    "ad=AdaBoostClassifier()\n",
    "ad.fit(x_train1,y_train1)\n",
    "pred=ad.predict(x_test1)\n",
    "az=accuracy_score(y_test1,pred)\n",
    "print(\"accuracy score\",az)\n",
    "cl=classification_report(y_test1,pred)\n",
    "print(cl)\n"
   ]
  },
  {
   "cell_type": "markdown",
   "id": "de5f46de",
   "metadata": {},
   "source": [
    "# Support Vector Classifier"
   ]
  },
  {
   "cell_type": "code",
   "execution_count": 44,
   "id": "bef11874",
   "metadata": {},
   "outputs": [
    {
     "name": "stdout",
     "output_type": "stream",
     "text": [
      "rbf 0.8285758489982208\n",
      "rbf               precision    recall  f1-score   support\n",
      "\n",
      "           0       0.89      0.75      0.82      6539\n",
      "           1       0.78      0.90      0.84      6388\n",
      "\n",
      "    accuracy                           0.83     12927\n",
      "   macro avg       0.84      0.83      0.83     12927\n",
      "weighted avg       0.84      0.83      0.83     12927\n",
      "\n",
      "poly 0.8168175137309507\n",
      "poly               precision    recall  f1-score   support\n",
      "\n",
      "           0       0.88      0.74      0.80      6539\n",
      "           1       0.77      0.90      0.83      6388\n",
      "\n",
      "    accuracy                           0.82     12927\n",
      "   macro avg       0.83      0.82      0.82     12927\n",
      "weighted avg       0.83      0.82      0.82     12927\n",
      "\n",
      "linear 0.8107836311595885\n",
      "linear               precision    recall  f1-score   support\n",
      "\n",
      "           0       0.86      0.74      0.80      6539\n",
      "           1       0.77      0.88      0.82      6388\n",
      "\n",
      "    accuracy                           0.81     12927\n",
      "   macro avg       0.82      0.81      0.81     12927\n",
      "weighted avg       0.82      0.81      0.81     12927\n",
      "\n"
     ]
    }
   ],
   "source": [
    "ker=[\"rbf\",\"poly\",\"linear\"]\n",
    "for i in ker:\n",
    "    svc=SVC(kernel=i)\n",
    "    svc.fit(x_train1,y_train1)\n",
    "    pred=svc.predict(x_test1)\n",
    "    print(i,accuracy_score(y_test1,pred))\n",
    "    print(i,classification_report(y_test1,pred))"
   ]
  },
  {
   "cell_type": "code",
   "execution_count": 45,
   "id": "ad1672fb",
   "metadata": {},
   "outputs": [
    {
     "name": "stdout",
     "output_type": "stream",
     "text": [
      "Accuracy score 0.8285758489982208\n",
      "              precision    recall  f1-score   support\n",
      "\n",
      "           0       0.89      0.75      0.82      6539\n",
      "           1       0.78      0.90      0.84      6388\n",
      "\n",
      "    accuracy                           0.83     12927\n",
      "   macro avg       0.84      0.83      0.83     12927\n",
      "weighted avg       0.84      0.83      0.83     12927\n",
      "\n"
     ]
    }
   ],
   "source": [
    "svc1=SVC(kernel=\"rbf\")\n",
    "svc1.fit(x_train1,y_train1)\n",
    "pred=svc1.predict(x_test1)\n",
    "print(\"Accuracy score\",accuracy_score(y_test1,pred))\n",
    "print(classification_report(y_test1,pred))"
   ]
  },
  {
   "cell_type": "markdown",
   "id": "a4237090",
   "metadata": {},
   "source": [
    "# Random Forest Classifier"
   ]
  },
  {
   "cell_type": "code",
   "execution_count": 46,
   "id": "e4957a7f",
   "metadata": {},
   "outputs": [
    {
     "name": "stdout",
     "output_type": "stream",
     "text": [
      "Accuracy Score 90.19\n",
      "              precision    recall  f1-score   support\n",
      "\n",
      "           0       0.92      0.88      0.90      6539\n",
      "           1       0.88      0.92      0.90      6388\n",
      "\n",
      "    accuracy                           0.90     12927\n",
      "   macro avg       0.90      0.90      0.90     12927\n",
      "weighted avg       0.90      0.90      0.90     12927\n",
      "\n"
     ]
    }
   ],
   "source": [
    "rf=RandomForestClassifier()\n",
    "rf.fit(x_train1,y_train1)\n",
    "pred=rf.predict(x_test1)\n",
    "ap=accuracy_score(y_test1,pred)\n",
    "ap=ap*100\n",
    "print(\"Accuracy Score\",round(ap,2))\n",
    "print(classification_report(y_test1,pred))"
   ]
  },
  {
   "cell_type": "markdown",
   "id": "92d96121",
   "metadata": {},
   "source": [
    "# Cross Validation Score"
   ]
  },
  {
   "cell_type": "code",
   "execution_count": 100,
   "id": "a50e12e8",
   "metadata": {},
   "outputs": [
    {
     "name": "stdout",
     "output_type": "stream",
     "text": [
      "0.8019805545552755\n"
     ]
    }
   ],
   "source": [
    "print(cross_val_score(dtc,x,y,cv=5).mean())"
   ]
  },
  {
   "cell_type": "code",
   "execution_count": 62,
   "id": "373be5ef",
   "metadata": {},
   "outputs": [
    {
     "name": "stdout",
     "output_type": "stream",
     "text": [
      "0.8516024486856321 2\n"
     ]
    }
   ],
   "source": [
    "print(cross_val_score(rf,x,y,cv=5).mean())"
   ]
  },
  {
   "cell_type": "code",
   "execution_count": 48,
   "id": "27d2478b",
   "metadata": {},
   "outputs": [
    {
     "name": "stdout",
     "output_type": "stream",
     "text": [
      "0.8404393230104429\n"
     ]
    }
   ],
   "source": [
    "print(cross_val_score(svc1,x,y,cv=5).mean())"
   ]
  },
  {
   "cell_type": "code",
   "execution_count": 49,
   "id": "19a1697d",
   "metadata": {},
   "outputs": [
    {
     "name": "stdout",
     "output_type": "stream",
     "text": [
      "0.8350018005041413\n"
     ]
    }
   ],
   "source": [
    "print(cross_val_score(lm,x,y,cv=5).mean())"
   ]
  },
  {
   "cell_type": "code",
   "execution_count": 52,
   "id": "810e81ee",
   "metadata": {},
   "outputs": [
    {
     "name": "stdout",
     "output_type": "stream",
     "text": [
      "0.8575441123514584\n"
     ]
    }
   ],
   "source": [
    "print(cross_val_score(ad,x,y,cv=5).mean())"
   ]
  },
  {
   "cell_type": "markdown",
   "id": "37eadac7",
   "metadata": {},
   "source": [
    "On comparing the accuracy score and cross validation score of the various models we can see that the logistic regression, support vector classifier and Ada boost clssifier the cv scores are slightly higher than accuracy score which shows that there could be a chance of over fitting. If we look ate decision Tree classifier and random forest classifier the difference between accuracy score and cross validation scores is same i.e 5 but i will pick random forest as best model as its accuracy is higher than decsion tree classifier."
   ]
  },
  {
   "cell_type": "markdown",
   "id": "f5f595f3",
   "metadata": {},
   "source": [
    "# ROC_AUC CURVE"
   ]
  },
  {
   "cell_type": "code",
   "execution_count": 65,
   "id": "e2f04349",
   "metadata": {},
   "outputs": [
    {
     "data": {
      "text/plain": [
       "array([0.95, 0.33, 0.23, ..., 0.8 , 0.11, 0.83])"
      ]
     },
     "execution_count": 65,
     "metadata": {},
     "output_type": "execute_result"
    }
   ],
   "source": [
    "y_pred_prob=rf.predict_proba(x_test1)[:,1]\n",
    "y_pred_prob"
   ]
  },
  {
   "cell_type": "code",
   "execution_count": 66,
   "id": "0ae004a1",
   "metadata": {},
   "outputs": [],
   "source": [
    "fpr,tpr,thresholds=roc_curve(y_test1,y_pred_prob)"
   ]
  },
  {
   "cell_type": "code",
   "execution_count": 67,
   "id": "25cb4c5b",
   "metadata": {},
   "outputs": [
    {
     "data": {
      "image/png": "[encoded data removed]",
      "text/plain": [
       "<Figure size 432x288 with 1 Axes>"
      ]
     },
     "metadata": {
      "needs_background": "light"
     },
     "output_type": "display_data"
    }
   ],
   "source": [
    "plt.plot([0,1],[0,1],\"k--\")\n",
    "plt.plot(fpr,tpr,label=\"Random ForestClassifier\")\n",
    "plt.xlabel(\"False Positive Rate\")\n",
    "plt.ylabel(\"True Positive Rate\")\n",
    "plt.title(\"Random Forest Classifier\")\n",
    "plt.show()"
   ]
  },
  {
   "cell_type": "code",
   "execution_count": 68,
   "id": "89d52a4e",
   "metadata": {},
   "outputs": [
    {
     "data": {
      "text/plain": [
       "0.9021359296654923"
      ]
     },
     "execution_count": 68,
     "metadata": {},
     "output_type": "execute_result"
    }
   ],
   "source": [
    "auc_score=roc_auc_score(y_test1,rf.predict(x_test1))\n",
    "auc_score"
   ]
  },
  {
   "cell_type": "markdown",
   "id": "730d6c8c",
   "metadata": {},
   "source": [
    "AUC_ROC scores and accurcay score are almost equivalent."
   ]
  },
  {
   "cell_type": "markdown",
   "id": "824edbe3",
   "metadata": {},
   "source": [
    "# Hyper Parameter Tuning Using GridSearchCV"
   ]
  },
  {
   "cell_type": "code",
   "execution_count": 69,
   "id": "7d52d5e3",
   "metadata": {},
   "outputs": [],
   "source": [
    "parameter={\"criterion\":['gini','entropy'],\n",
    "           \"max_depth\":np.arange(2,20),\n",
    "          \"max_features\":[\"auto\",\"log2\",\"sqrt\"],\n",
    "          \"bootstrap\":[True,False],\n",
    "          \"oob_score\":[True,False]}"
   ]
  },
  {
   "cell_type": "code",
   "execution_count": 70,
   "id": "64a04a95",
   "metadata": {},
   "outputs": [],
   "source": [
    "gcv=GridSearchCV(RandomForestClassifier(),parameter,cv=5)"
   ]
  },
  {
   "cell_type": "code",
   "execution_count": 71,
   "id": "46f06225",
   "metadata": {},
   "outputs": [
    {
     "data": {
      "text/plain": [
       "GridSearchCV(cv=5, estimator=RandomForestClassifier(),\n",
       "             param_grid={'bootstrap': [True, False],\n",
       "                         'criterion': ['gini', 'entropy'],\n",
       "                         'max_depth': array([ 2,  3,  4,  5,  6,  7,  8,  9, 10, 11, 12, 13, 14, 15, 16, 17, 18,\n",
       "       19]),\n",
       "                         'max_features': ['auto', 'log2', 'sqrt'],\n",
       "                         'oob_score': [True, False]})"
      ]
     },
     "execution_count": 71,
     "metadata": {},
     "output_type": "execute_result"
    }
   ],
   "source": [
    "gcv.fit(x_train1,y_train1)"
   ]
  },
  {
   "cell_type": "code",
   "execution_count": 72,
   "id": "16a421dd",
   "metadata": {},
   "outputs": [
    {
     "data": {
      "text/plain": [
       "{'bootstrap': False,\n",
       " 'criterion': 'gini',\n",
       " 'max_depth': 19,\n",
       " 'max_features': 'auto',\n",
       " 'oob_score': False}"
      ]
     },
     "execution_count": 72,
     "metadata": {},
     "output_type": "execute_result"
    }
   ],
   "source": [
    "gcv.best_params_ "
   ]
  },
  {
   "cell_type": "markdown",
   "id": "68a4ad73",
   "metadata": {},
   "source": [
    "# Final Model"
   ]
  },
  {
   "cell_type": "code",
   "execution_count": 73,
   "id": "183d7ed6",
   "metadata": {},
   "outputs": [
    {
     "name": "stdout",
     "output_type": "stream",
     "text": [
      "Accuracy Score 0.8936334803125242\n",
      "Classification Report\n",
      "               precision    recall  f1-score   support\n",
      "\n",
      "           0       0.93      0.85      0.89      6539\n",
      "           1       0.86      0.94      0.90      6388\n",
      "\n",
      "    accuracy                           0.89     12927\n",
      "   macro avg       0.90      0.89      0.89     12927\n",
      "weighted avg       0.90      0.89      0.89     12927\n",
      "\n",
      "[[5570  969]\n",
      " [ 406 5982]]\n"
     ]
    }
   ],
   "source": [
    "final=RandomForestClassifier(criterion=\"gini\",max_depth=19,bootstrap=False,max_features=\"auto\",oob_score=False)\n",
    "final.fit(x_train1,y_train1)\n",
    "pred=final.predict(x_test1)\n",
    "print(\"Accuracy Score\",accuracy_score(y_test1,pred))\n",
    "print(\"Classification Report\\n\",classification_report(y_test1,pred))\n",
    "print(confusion_matrix(y_test1,pred))"
   ]
  },
  {
   "cell_type": "markdown",
   "id": "9de54fb9",
   "metadata": {},
   "source": [
    "# Saving the Model"
   ]
  },
  {
   "cell_type": "code",
   "execution_count": 74,
   "id": "96e00f46",
   "metadata": {},
   "outputs": [
    {
     "data": {
      "text/plain": [
       "['census.pkl']"
      ]
     },
     "execution_count": 74,
     "metadata": {},
     "output_type": "execute_result"
    }
   ],
   "source": [
    "import joblib\n",
    "joblib.dump(final,\"census.pkl\")"
   ]
  }
 ],
 "metadata": {
  "kernelspec": {
   "display_name": "Python 3",
   "language": "python",
   "name": "python3"
  },
  "language_info": {
   "codemirror_mode": {
    "name": "ipython",
    "version": 3
   },
   "file_extension": ".py",
   "mimetype": "text/x-python",
   "name": "python",
   "nbconvert_exporter": "python",
   "pygments_lexer": "ipython3",
   "version": "3.8.8"
  }
 },
 "nbformat": 4,
 "nbformat_minor": 5
}
