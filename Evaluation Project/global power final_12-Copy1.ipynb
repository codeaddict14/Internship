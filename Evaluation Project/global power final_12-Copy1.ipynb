{
 "cells": [
  {
   "cell_type": "code",
   "execution_count": 1,
   "id": "87483278",
   "metadata": {},
   "outputs": [],
   "source": [
    "#importing the important liberaries\n",
    "import pandas as pd\n",
    "import numpy as np\n",
    "import warnings\n",
    "warnings.filterwarnings(\"ignore\")\n",
    "import matplotlib.pyplot as plt\n",
    "import seaborn as sns"
   ]
  },
  {
   "cell_type": "markdown",
   "id": "683f6212",
   "metadata": {},
   "source": [
    "# Importing Dataset"
   ]
  },
  {
   "cell_type": "code",
   "execution_count": 2,
   "id": "e30f29d9",
   "metadata": {},
   "outputs": [
    {
     "data": {
      "text/html": [
       "<div>\n",
       "<style scoped>\n",
       "    .dataframe tbody tr th:only-of-type {\n",
       "        vertical-align: middle;\n",
       "    }\n",
       "\n",
       "    .dataframe tbody tr th {\n",
       "        vertical-align: top;\n",
       "    }\n",
       "\n",
       "    .dataframe thead th {\n",
       "        text-align: right;\n",
       "    }\n",
       "</style>\n",
       "<table border=\"1\" class=\"dataframe\">\n",
       "  <thead>\n",
       "    <tr style=\"text-align: right;\">\n",
       "      <th></th>\n",
       "      <th>country</th>\n",
       "      <th>country_long</th>\n",
       "      <th>name</th>\n",
       "      <th>gppd_idnr</th>\n",
       "      <th>capacity_mw</th>\n",
       "      <th>latitude</th>\n",
       "      <th>longitude</th>\n",
       "      <th>primary_fuel</th>\n",
       "      <th>other_fuel1</th>\n",
       "      <th>other_fuel2</th>\n",
       "      <th>...</th>\n",
       "      <th>geolocation_source</th>\n",
       "      <th>wepp_id</th>\n",
       "      <th>year_of_capacity_data</th>\n",
       "      <th>generation_gwh_2013</th>\n",
       "      <th>generation_gwh_2014</th>\n",
       "      <th>generation_gwh_2015</th>\n",
       "      <th>generation_gwh_2016</th>\n",
       "      <th>generation_gwh_2017</th>\n",
       "      <th>generation_data_source</th>\n",
       "      <th>estimated_generation_gwh</th>\n",
       "    </tr>\n",
       "  </thead>\n",
       "  <tbody>\n",
       "    <tr>\n",
       "      <th>0</th>\n",
       "      <td>IND</td>\n",
       "      <td>India</td>\n",
       "      <td>ACME Solar Tower</td>\n",
       "      <td>WRI1020239</td>\n",
       "      <td>2.5</td>\n",
       "      <td>28.1839</td>\n",
       "      <td>73.2407</td>\n",
       "      <td>Solar</td>\n",
       "      <td>NaN</td>\n",
       "      <td>NaN</td>\n",
       "      <td>...</td>\n",
       "      <td>National Renewable Energy Laboratory</td>\n",
       "      <td>NaN</td>\n",
       "      <td>NaN</td>\n",
       "      <td>NaN</td>\n",
       "      <td>NaN</td>\n",
       "      <td>NaN</td>\n",
       "      <td>NaN</td>\n",
       "      <td>NaN</td>\n",
       "      <td>NaN</td>\n",
       "      <td>NaN</td>\n",
       "    </tr>\n",
       "    <tr>\n",
       "      <th>1</th>\n",
       "      <td>IND</td>\n",
       "      <td>India</td>\n",
       "      <td>ADITYA CEMENT WORKS</td>\n",
       "      <td>WRI1019881</td>\n",
       "      <td>98.0</td>\n",
       "      <td>24.7663</td>\n",
       "      <td>74.6090</td>\n",
       "      <td>Coal</td>\n",
       "      <td>NaN</td>\n",
       "      <td>NaN</td>\n",
       "      <td>...</td>\n",
       "      <td>WRI</td>\n",
       "      <td>NaN</td>\n",
       "      <td>NaN</td>\n",
       "      <td>NaN</td>\n",
       "      <td>NaN</td>\n",
       "      <td>NaN</td>\n",
       "      <td>NaN</td>\n",
       "      <td>NaN</td>\n",
       "      <td>NaN</td>\n",
       "      <td>NaN</td>\n",
       "    </tr>\n",
       "    <tr>\n",
       "      <th>2</th>\n",
       "      <td>IND</td>\n",
       "      <td>India</td>\n",
       "      <td>AES Saurashtra Windfarms</td>\n",
       "      <td>WRI1026669</td>\n",
       "      <td>39.2</td>\n",
       "      <td>21.9038</td>\n",
       "      <td>69.3732</td>\n",
       "      <td>Wind</td>\n",
       "      <td>NaN</td>\n",
       "      <td>NaN</td>\n",
       "      <td>...</td>\n",
       "      <td>WRI</td>\n",
       "      <td>NaN</td>\n",
       "      <td>NaN</td>\n",
       "      <td>NaN</td>\n",
       "      <td>NaN</td>\n",
       "      <td>NaN</td>\n",
       "      <td>NaN</td>\n",
       "      <td>NaN</td>\n",
       "      <td>NaN</td>\n",
       "      <td>NaN</td>\n",
       "    </tr>\n",
       "    <tr>\n",
       "      <th>3</th>\n",
       "      <td>IND</td>\n",
       "      <td>India</td>\n",
       "      <td>AGARTALA GT</td>\n",
       "      <td>IND0000001</td>\n",
       "      <td>135.0</td>\n",
       "      <td>23.8712</td>\n",
       "      <td>91.3602</td>\n",
       "      <td>Gas</td>\n",
       "      <td>NaN</td>\n",
       "      <td>NaN</td>\n",
       "      <td>...</td>\n",
       "      <td>WRI</td>\n",
       "      <td>NaN</td>\n",
       "      <td>2018.0</td>\n",
       "      <td>631.777928</td>\n",
       "      <td>617.789264</td>\n",
       "      <td>843.747000</td>\n",
       "      <td>886.004428</td>\n",
       "      <td>663.774500</td>\n",
       "      <td>Central Electricity Authority</td>\n",
       "      <td>NaN</td>\n",
       "    </tr>\n",
       "    <tr>\n",
       "      <th>4</th>\n",
       "      <td>IND</td>\n",
       "      <td>India</td>\n",
       "      <td>AKALTARA TPP</td>\n",
       "      <td>IND0000002</td>\n",
       "      <td>1800.0</td>\n",
       "      <td>21.9603</td>\n",
       "      <td>82.4091</td>\n",
       "      <td>Coal</td>\n",
       "      <td>Oil</td>\n",
       "      <td>NaN</td>\n",
       "      <td>...</td>\n",
       "      <td>WRI</td>\n",
       "      <td>NaN</td>\n",
       "      <td>2018.0</td>\n",
       "      <td>1668.290000</td>\n",
       "      <td>3035.550000</td>\n",
       "      <td>5916.370000</td>\n",
       "      <td>6243.000000</td>\n",
       "      <td>5385.579736</td>\n",
       "      <td>Central Electricity Authority</td>\n",
       "      <td>NaN</td>\n",
       "    </tr>\n",
       "    <tr>\n",
       "      <th>...</th>\n",
       "      <td>...</td>\n",
       "      <td>...</td>\n",
       "      <td>...</td>\n",
       "      <td>...</td>\n",
       "      <td>...</td>\n",
       "      <td>...</td>\n",
       "      <td>...</td>\n",
       "      <td>...</td>\n",
       "      <td>...</td>\n",
       "      <td>...</td>\n",
       "      <td>...</td>\n",
       "      <td>...</td>\n",
       "      <td>...</td>\n",
       "      <td>...</td>\n",
       "      <td>...</td>\n",
       "      <td>...</td>\n",
       "      <td>...</td>\n",
       "      <td>...</td>\n",
       "      <td>...</td>\n",
       "      <td>...</td>\n",
       "      <td>...</td>\n",
       "    </tr>\n",
       "    <tr>\n",
       "      <th>903</th>\n",
       "      <td>IND</td>\n",
       "      <td>India</td>\n",
       "      <td>YERMARUS TPP</td>\n",
       "      <td>IND0000513</td>\n",
       "      <td>1600.0</td>\n",
       "      <td>16.2949</td>\n",
       "      <td>77.3568</td>\n",
       "      <td>Coal</td>\n",
       "      <td>Oil</td>\n",
       "      <td>NaN</td>\n",
       "      <td>...</td>\n",
       "      <td>WRI</td>\n",
       "      <td>NaN</td>\n",
       "      <td>2018.0</td>\n",
       "      <td>NaN</td>\n",
       "      <td>NaN</td>\n",
       "      <td>0.994875</td>\n",
       "      <td>233.596650</td>\n",
       "      <td>865.400000</td>\n",
       "      <td>Central Electricity Authority</td>\n",
       "      <td>NaN</td>\n",
       "    </tr>\n",
       "    <tr>\n",
       "      <th>904</th>\n",
       "      <td>IND</td>\n",
       "      <td>India</td>\n",
       "      <td>Yelesandra Solar Power Plant</td>\n",
       "      <td>WRI1026222</td>\n",
       "      <td>3.0</td>\n",
       "      <td>12.8932</td>\n",
       "      <td>78.1654</td>\n",
       "      <td>Solar</td>\n",
       "      <td>NaN</td>\n",
       "      <td>NaN</td>\n",
       "      <td>...</td>\n",
       "      <td>Industry About</td>\n",
       "      <td>NaN</td>\n",
       "      <td>NaN</td>\n",
       "      <td>NaN</td>\n",
       "      <td>NaN</td>\n",
       "      <td>NaN</td>\n",
       "      <td>NaN</td>\n",
       "      <td>NaN</td>\n",
       "      <td>NaN</td>\n",
       "      <td>NaN</td>\n",
       "    </tr>\n",
       "    <tr>\n",
       "      <th>905</th>\n",
       "      <td>IND</td>\n",
       "      <td>India</td>\n",
       "      <td>Yelisirur wind power project</td>\n",
       "      <td>WRI1026776</td>\n",
       "      <td>25.5</td>\n",
       "      <td>15.2758</td>\n",
       "      <td>75.5811</td>\n",
       "      <td>Wind</td>\n",
       "      <td>NaN</td>\n",
       "      <td>NaN</td>\n",
       "      <td>...</td>\n",
       "      <td>WRI</td>\n",
       "      <td>NaN</td>\n",
       "      <td>NaN</td>\n",
       "      <td>NaN</td>\n",
       "      <td>NaN</td>\n",
       "      <td>NaN</td>\n",
       "      <td>NaN</td>\n",
       "      <td>NaN</td>\n",
       "      <td>NaN</td>\n",
       "      <td>NaN</td>\n",
       "    </tr>\n",
       "    <tr>\n",
       "      <th>906</th>\n",
       "      <td>IND</td>\n",
       "      <td>India</td>\n",
       "      <td>ZAWAR MINES</td>\n",
       "      <td>WRI1019901</td>\n",
       "      <td>80.0</td>\n",
       "      <td>24.3500</td>\n",
       "      <td>73.7477</td>\n",
       "      <td>Coal</td>\n",
       "      <td>NaN</td>\n",
       "      <td>NaN</td>\n",
       "      <td>...</td>\n",
       "      <td>WRI</td>\n",
       "      <td>NaN</td>\n",
       "      <td>NaN</td>\n",
       "      <td>NaN</td>\n",
       "      <td>NaN</td>\n",
       "      <td>NaN</td>\n",
       "      <td>NaN</td>\n",
       "      <td>NaN</td>\n",
       "      <td>NaN</td>\n",
       "      <td>NaN</td>\n",
       "    </tr>\n",
       "    <tr>\n",
       "      <th>907</th>\n",
       "      <td>IND</td>\n",
       "      <td>India</td>\n",
       "      <td>iEnergy Theni Wind Farm</td>\n",
       "      <td>WRI1026761</td>\n",
       "      <td>16.5</td>\n",
       "      <td>9.9344</td>\n",
       "      <td>77.4768</td>\n",
       "      <td>Wind</td>\n",
       "      <td>NaN</td>\n",
       "      <td>NaN</td>\n",
       "      <td>...</td>\n",
       "      <td>WRI</td>\n",
       "      <td>NaN</td>\n",
       "      <td>NaN</td>\n",
       "      <td>NaN</td>\n",
       "      <td>NaN</td>\n",
       "      <td>NaN</td>\n",
       "      <td>NaN</td>\n",
       "      <td>NaN</td>\n",
       "      <td>NaN</td>\n",
       "      <td>NaN</td>\n",
       "    </tr>\n",
       "  </tbody>\n",
       "</table>\n",
       "<p>908 rows × 25 columns</p>\n",
       "</div>"
      ],
      "text/plain": [
       "    country country_long                          name   gppd_idnr  \\\n",
       "0       IND        India              ACME Solar Tower  WRI1020239   \n",
       "1       IND        India           ADITYA CEMENT WORKS  WRI1019881   \n",
       "2       IND        India      AES Saurashtra Windfarms  WRI1026669   \n",
       "3       IND        India                   AGARTALA GT  IND0000001   \n",
       "4       IND        India                  AKALTARA TPP  IND0000002   \n",
       "..      ...          ...                           ...         ...   \n",
       "903     IND        India                  YERMARUS TPP  IND0000513   \n",
       "904     IND        India  Yelesandra Solar Power Plant  WRI1026222   \n",
       "905     IND        India  Yelisirur wind power project  WRI1026776   \n",
       "906     IND        India                   ZAWAR MINES  WRI1019901   \n",
       "907     IND        India       iEnergy Theni Wind Farm  WRI1026761   \n",
       "\n",
       "     capacity_mw  latitude  longitude primary_fuel other_fuel1 other_fuel2  \\\n",
       "0            2.5   28.1839    73.2407        Solar         NaN         NaN   \n",
       "1           98.0   24.7663    74.6090         Coal         NaN         NaN   \n",
       "2           39.2   21.9038    69.3732         Wind         NaN         NaN   \n",
       "3          135.0   23.8712    91.3602          Gas         NaN         NaN   \n",
       "4         1800.0   21.9603    82.4091         Coal         Oil         NaN   \n",
       "..           ...       ...        ...          ...         ...         ...   \n",
       "903       1600.0   16.2949    77.3568         Coal         Oil         NaN   \n",
       "904          3.0   12.8932    78.1654        Solar         NaN         NaN   \n",
       "905         25.5   15.2758    75.5811         Wind         NaN         NaN   \n",
       "906         80.0   24.3500    73.7477         Coal         NaN         NaN   \n",
       "907         16.5    9.9344    77.4768         Wind         NaN         NaN   \n",
       "\n",
       "     ...                    geolocation_source  wepp_id year_of_capacity_data  \\\n",
       "0    ...  National Renewable Energy Laboratory      NaN                   NaN   \n",
       "1    ...                                   WRI      NaN                   NaN   \n",
       "2    ...                                   WRI      NaN                   NaN   \n",
       "3    ...                                   WRI      NaN                2018.0   \n",
       "4    ...                                   WRI      NaN                2018.0   \n",
       "..   ...                                   ...      ...                   ...   \n",
       "903  ...                                   WRI      NaN                2018.0   \n",
       "904  ...                        Industry About      NaN                   NaN   \n",
       "905  ...                                   WRI      NaN                   NaN   \n",
       "906  ...                                   WRI      NaN                   NaN   \n",
       "907  ...                                   WRI      NaN                   NaN   \n",
       "\n",
       "    generation_gwh_2013 generation_gwh_2014 generation_gwh_2015  \\\n",
       "0                   NaN                 NaN                 NaN   \n",
       "1                   NaN                 NaN                 NaN   \n",
       "2                   NaN                 NaN                 NaN   \n",
       "3            631.777928          617.789264          843.747000   \n",
       "4           1668.290000         3035.550000         5916.370000   \n",
       "..                  ...                 ...                 ...   \n",
       "903                 NaN                 NaN            0.994875   \n",
       "904                 NaN                 NaN                 NaN   \n",
       "905                 NaN                 NaN                 NaN   \n",
       "906                 NaN                 NaN                 NaN   \n",
       "907                 NaN                 NaN                 NaN   \n",
       "\n",
       "     generation_gwh_2016  generation_gwh_2017         generation_data_source  \\\n",
       "0                    NaN                  NaN                            NaN   \n",
       "1                    NaN                  NaN                            NaN   \n",
       "2                    NaN                  NaN                            NaN   \n",
       "3             886.004428           663.774500  Central Electricity Authority   \n",
       "4            6243.000000          5385.579736  Central Electricity Authority   \n",
       "..                   ...                  ...                            ...   \n",
       "903           233.596650           865.400000  Central Electricity Authority   \n",
       "904                  NaN                  NaN                            NaN   \n",
       "905                  NaN                  NaN                            NaN   \n",
       "906                  NaN                  NaN                            NaN   \n",
       "907                  NaN                  NaN                            NaN   \n",
       "\n",
       "     estimated_generation_gwh  \n",
       "0                         NaN  \n",
       "1                         NaN  \n",
       "2                         NaN  \n",
       "3                         NaN  \n",
       "4                         NaN  \n",
       "..                        ...  \n",
       "903                       NaN  \n",
       "904                       NaN  \n",
       "905                       NaN  \n",
       "906                       NaN  \n",
       "907                       NaN  \n",
       "\n",
       "[908 rows x 25 columns]"
      ]
     },
     "execution_count": 2,
     "metadata": {},
     "output_type": "execute_result"
    }
   ],
   "source": [
    "df=pd.read_csv(\"hydro.csv\")\n",
    "df"
   ]
  },
  {
   "cell_type": "markdown",
   "id": "ff22e2b7",
   "metadata": {},
   "source": [
    "From the above dataset we can say that,\n",
    "1. There are 908 rows and 25 columns.\n",
    "2. The dataset can be observed from 2 point of views 1st one is when we have to predict capacity_mw which will act as dependent variable other will act as independent variable in this situation our model will be a regression model. 2nd when we have to predict primary fuel which will act as depenedent variable others will act as independent variable in this situation our model will be a classification model.\n",
    "3. We can see that there are large amount of NAN values in our datasets.\n",
    "4. There are too many features with categorial data."
   ]
  },
  {
   "cell_type": "code",
   "execution_count": 3,
   "id": "55896244",
   "metadata": {},
   "outputs": [
    {
     "data": {
      "text/plain": [
       "(908, 25)"
      ]
     },
     "execution_count": 3,
     "metadata": {},
     "output_type": "execute_result"
    }
   ],
   "source": [
    "df.shape"
   ]
  },
  {
   "cell_type": "markdown",
   "id": "960bc6be",
   "metadata": {},
   "source": [
    "This tell ue about the total number of rows and columns."
   ]
  },
  {
   "cell_type": "code",
   "execution_count": 4,
   "id": "91e16656",
   "metadata": {},
   "outputs": [
    {
     "data": {
      "text/plain": [
       "Index(['country', 'country_long', 'name', 'gppd_idnr', 'capacity_mw',\n",
       "       'latitude', 'longitude', 'primary_fuel', 'other_fuel1', 'other_fuel2',\n",
       "       'other_fuel3', 'commissioning_year', 'owner', 'source', 'url',\n",
       "       'geolocation_source', 'wepp_id', 'year_of_capacity_data',\n",
       "       'generation_gwh_2013', 'generation_gwh_2014', 'generation_gwh_2015',\n",
       "       'generation_gwh_2016', 'generation_gwh_2017', 'generation_data_source',\n",
       "       'estimated_generation_gwh'],\n",
       "      dtype='object')"
      ]
     },
     "execution_count": 4,
     "metadata": {},
     "output_type": "execute_result"
    }
   ],
   "source": [
    "df.columns"
   ]
  },
  {
   "cell_type": "markdown",
   "id": "f9e0ce79",
   "metadata": {},
   "source": [
    "Name of each columns."
   ]
  },
  {
   "cell_type": "code",
   "execution_count": 5,
   "id": "12840f70",
   "metadata": {},
   "outputs": [
    {
     "data": {
      "text/plain": [
       "country                       0\n",
       "country_long                  0\n",
       "name                          0\n",
       "gppd_idnr                     0\n",
       "capacity_mw                   0\n",
       "latitude                     46\n",
       "longitude                    46\n",
       "primary_fuel                  0\n",
       "other_fuel1                 709\n",
       "other_fuel2                 907\n",
       "other_fuel3                 908\n",
       "commissioning_year          380\n",
       "owner                       566\n",
       "source                        0\n",
       "url                           0\n",
       "geolocation_source           19\n",
       "wepp_id                     908\n",
       "year_of_capacity_data       388\n",
       "generation_gwh_2013         524\n",
       "generation_gwh_2014         507\n",
       "generation_gwh_2015         483\n",
       "generation_gwh_2016         471\n",
       "generation_gwh_2017         465\n",
       "generation_data_source      458\n",
       "estimated_generation_gwh    908\n",
       "dtype: int64"
      ]
     },
     "execution_count": 5,
     "metadata": {},
     "output_type": "execute_result"
    }
   ],
   "source": [
    "df.isnull().sum()"
   ]
  },
  {
   "cell_type": "markdown",
   "id": "1c37017c",
   "metadata": {},
   "source": [
    "There are so many null values in each columns."
   ]
  },
  {
   "cell_type": "code",
   "execution_count": 6,
   "id": "0e8cb4e4",
   "metadata": {},
   "outputs": [
    {
     "data": {
      "text/plain": [
       "country                      object\n",
       "country_long                 object\n",
       "name                         object\n",
       "gppd_idnr                    object\n",
       "capacity_mw                 float64\n",
       "latitude                    float64\n",
       "longitude                   float64\n",
       "primary_fuel                 object\n",
       "other_fuel1                  object\n",
       "other_fuel2                  object\n",
       "other_fuel3                 float64\n",
       "commissioning_year          float64\n",
       "owner                        object\n",
       "source                       object\n",
       "url                          object\n",
       "geolocation_source           object\n",
       "wepp_id                     float64\n",
       "year_of_capacity_data       float64\n",
       "generation_gwh_2013         float64\n",
       "generation_gwh_2014         float64\n",
       "generation_gwh_2015         float64\n",
       "generation_gwh_2016         float64\n",
       "generation_gwh_2017         float64\n",
       "generation_data_source       object\n",
       "estimated_generation_gwh    float64\n",
       "dtype: object"
      ]
     },
     "execution_count": 6,
     "metadata": {},
     "output_type": "execute_result"
    }
   ],
   "source": [
    "df.dtypes"
   ]
  },
  {
   "cell_type": "markdown",
   "id": "924e02e8",
   "metadata": {},
   "source": [
    "Tells us about the data type of each column."
   ]
  },
  {
   "cell_type": "code",
   "execution_count": 7,
   "id": "9c0b65ea",
   "metadata": {},
   "outputs": [
    {
     "name": "stdout",
     "output_type": "stream",
     "text": [
      "<class 'pandas.core.frame.DataFrame'>\n",
      "RangeIndex: 908 entries, 0 to 907\n",
      "Data columns (total 25 columns):\n",
      " #   Column                    Non-Null Count  Dtype  \n",
      "---  ------                    --------------  -----  \n",
      " 0   country                   908 non-null    object \n",
      " 1   country_long              908 non-null    object \n",
      " 2   name                      908 non-null    object \n",
      " 3   gppd_idnr                 908 non-null    object \n",
      " 4   capacity_mw               908 non-null    float64\n",
      " 5   latitude                  862 non-null    float64\n",
      " 6   longitude                 862 non-null    float64\n",
      " 7   primary_fuel              908 non-null    object \n",
      " 8   other_fuel1               199 non-null    object \n",
      " 9   other_fuel2               1 non-null      object \n",
      " 10  other_fuel3               0 non-null      float64\n",
      " 11  commissioning_year        528 non-null    float64\n",
      " 12  owner                     342 non-null    object \n",
      " 13  source                    908 non-null    object \n",
      " 14  url                       908 non-null    object \n",
      " 15  geolocation_source        889 non-null    object \n",
      " 16  wepp_id                   0 non-null      float64\n",
      " 17  year_of_capacity_data     520 non-null    float64\n",
      " 18  generation_gwh_2013       384 non-null    float64\n",
      " 19  generation_gwh_2014       401 non-null    float64\n",
      " 20  generation_gwh_2015       425 non-null    float64\n",
      " 21  generation_gwh_2016       437 non-null    float64\n",
      " 22  generation_gwh_2017       443 non-null    float64\n",
      " 23  generation_data_source    450 non-null    object \n",
      " 24  estimated_generation_gwh  0 non-null      float64\n",
      "dtypes: float64(13), object(12)\n",
      "memory usage: 177.5+ KB\n"
     ]
    }
   ],
   "source": [
    "df.info() # about the non null values of each column."
   ]
  },
  {
   "cell_type": "markdown",
   "id": "21dae17c",
   "metadata": {},
   "source": [
    "# Univariant, Bivariant, Multivariant Analysis"
   ]
  },
  {
   "cell_type": "code",
   "execution_count": 8,
   "id": "6e27abc2",
   "metadata": {},
   "outputs": [
    {
     "data": {
      "text/plain": [
       "<AxesSubplot:xlabel='capacity_mw', ylabel='Density'>"
      ]
     },
     "execution_count": 8,
     "metadata": {},
     "output_type": "execute_result"
    },
    {
     "data": {
      "image/png": "[encoded data removed]",
      "text/plain": [
       "<Figure size 432x288 with 1 Axes>"
      ]
     },
     "metadata": {
      "needs_background": "light"
     },
     "output_type": "display_data"
    }
   ],
   "source": [
    "sns.distplot(df['capacity_mw'])"
   ]
  },
  {
   "cell_type": "markdown",
   "id": "121e7a47",
   "metadata": {},
   "source": [
    "From the above distribution plot we can say that the curve is slightly right skewed."
   ]
  },
  {
   "cell_type": "code",
   "execution_count": 9,
   "id": "78db2331",
   "metadata": {},
   "outputs": [
    {
     "data": {
      "text/plain": [
       "<AxesSubplot:xlabel='latitude', ylabel='Density'>"
      ]
     },
     "execution_count": 9,
     "metadata": {},
     "output_type": "execute_result"
    },
    {
     "data": {
      "image/png": "[encoded data removed]",
      "text/plain": [
       "<Figure size 432x288 with 1 Axes>"
      ]
     },
     "metadata": {
      "needs_background": "light"
     },
     "output_type": "display_data"
    }
   ],
   "source": [
    "sns.distplot(df['latitude'])"
   ]
  },
  {
   "cell_type": "markdown",
   "id": "8bba75a4",
   "metadata": {},
   "source": [
    "latitude feature is normally distributed we can see no presence of outliers and the data the not skewed."
   ]
  },
  {
   "cell_type": "code",
   "execution_count": 10,
   "id": "ed01da63",
   "metadata": {},
   "outputs": [
    {
     "data": {
      "text/plain": [
       "<AxesSubplot:xlabel='primary_fuel', ylabel='count'>"
      ]
     },
     "execution_count": 10,
     "metadata": {},
     "output_type": "execute_result"
    },
    {
     "data": {
      "image/png": "[encoded data removed]",
      "text/plain": [
       "<Figure size 432x288 with 1 Axes>"
      ]
     },
     "metadata": {
      "needs_background": "light"
     },
     "output_type": "display_data"
    }
   ],
   "source": [
    "sns.countplot(df['primary_fuel'])"
   ]
  },
  {
   "cell_type": "markdown",
   "id": "823d4d24",
   "metadata": {},
   "source": [
    "There are 8 different categories of primary fuel where coal and hydro are highest in number."
   ]
  },
  {
   "cell_type": "code",
   "execution_count": 11,
   "id": "3bcbbcfa",
   "metadata": {},
   "outputs": [
    {
     "data": {
      "text/plain": [
       "<AxesSubplot:xlabel='generation_gwh_2014', ylabel='generation_gwh_2013'>"
      ]
     },
     "execution_count": 11,
     "metadata": {},
     "output_type": "execute_result"
    },
    {
     "data": {
      "image/png": "[encoded data removed]",
      "text/plain": [
       "<Figure size 432x288 with 1 Axes>"
      ]
     },
     "metadata": {
      "needs_background": "light"
     },
     "output_type": "display_data"
    }
   ],
   "source": [
    "sns.scatterplot(data=df,y=\"generation_gwh_2013\", x=\"generation_gwh_2014\", hue='primary_fuel')"
   ]
  },
  {
   "cell_type": "markdown",
   "id": "da14abf4",
   "metadata": {},
   "source": [
    "From above plot we can say that......gen_gwh_2013 and gen_gwh_2014 are positivley related to each other froming a linear relation."
   ]
  },
  {
   "cell_type": "code",
   "execution_count": 12,
   "id": "ab2f6682",
   "metadata": {},
   "outputs": [
    {
     "data": {
      "text/plain": [
       "<AxesSubplot:xlabel='generation_gwh_2016', ylabel='generation_gwh_2015'>"
      ]
     },
     "execution_count": 12,
     "metadata": {},
     "output_type": "execute_result"
    },
    {
     "data": {
      "image/png": "[encoded data removed]",
      "text/plain": [
       "<Figure size 432x288 with 1 Axes>"
      ]
     },
     "metadata": {
      "needs_background": "light"
     },
     "output_type": "display_data"
    }
   ],
   "source": [
    "sns.scatterplot(data=df,y=\"generation_gwh_2015\", x=\"generation_gwh_2016\", hue='primary_fuel')"
   ]
  },
  {
   "cell_type": "markdown",
   "id": "adf84817",
   "metadata": {},
   "source": [
    "From above plot we can say that......gen_gwh_2015 and gen_gwh_2016 are positivley related to each other froming a linear relation."
   ]
  },
  {
   "cell_type": "code",
   "execution_count": 13,
   "id": "f96cc6d8",
   "metadata": {},
   "outputs": [
    {
     "data": {
      "text/plain": [
       "<AxesSubplot:xlabel='generation_gwh_2016', ylabel='generation_gwh_2017'>"
      ]
     },
     "execution_count": 13,
     "metadata": {},
     "output_type": "execute_result"
    },
    {
     "data": {
      "image/png": "[encoded data removed]",
      "text/plain": [
       "<Figure size 432x288 with 1 Axes>"
      ]
     },
     "metadata": {
      "needs_background": "light"
     },
     "output_type": "display_data"
    }
   ],
   "source": [
    "sns.scatterplot(data=df,y=\"generation_gwh_2017\", x=\"generation_gwh_2016\", hue='primary_fuel')"
   ]
  },
  {
   "cell_type": "markdown",
   "id": "7def66a5",
   "metadata": {},
   "source": [
    "From above plot we can say that......gen_gwh_2016 and gen_gwh_2017 are positivley related to each other froming a linear relation."
   ]
  },
  {
   "cell_type": "code",
   "execution_count": 14,
   "id": "de609769",
   "metadata": {},
   "outputs": [
    {
     "data": {
      "text/plain": [
       "capacity_mw                   AxesSubplot(0.125,0.787927;0.0824468x0.0920732)\n",
       "latitude                    AxesSubplot(0.223936,0.787927;0.0824468x0.0920...\n",
       "longitude                   AxesSubplot(0.322872,0.787927;0.0824468x0.0920...\n",
       "other_fuel3                 AxesSubplot(0.421809,0.787927;0.0824468x0.0920...\n",
       "commissioning_year          AxesSubplot(0.520745,0.787927;0.0824468x0.0920...\n",
       "wepp_id                     AxesSubplot(0.619681,0.787927;0.0824468x0.0920...\n",
       "year_of_capacity_data       AxesSubplot(0.718617,0.787927;0.0824468x0.0920...\n",
       "generation_gwh_2013         AxesSubplot(0.817553,0.787927;0.0824468x0.0920...\n",
       "generation_gwh_2014           AxesSubplot(0.125,0.677439;0.0824468x0.0920732)\n",
       "generation_gwh_2015         AxesSubplot(0.223936,0.677439;0.0824468x0.0920...\n",
       "generation_gwh_2016         AxesSubplot(0.322872,0.677439;0.0824468x0.0920...\n",
       "generation_gwh_2017         AxesSubplot(0.421809,0.677439;0.0824468x0.0920...\n",
       "estimated_generation_gwh    AxesSubplot(0.520745,0.677439;0.0824468x0.0920...\n",
       "dtype: object"
      ]
     },
     "execution_count": 14,
     "metadata": {},
     "output_type": "execute_result"
    },
    {
     "data": {
      "image/png": "[encoded data removed]",
      "text/plain": [
       "<Figure size 1296x1296 with 56 Axes>"
      ]
     },
     "metadata": {
      "needs_background": "light"
     },
     "output_type": "display_data"
    }
   ],
   "source": [
    "color=dict(boxes=\"Purple\",whiskers=\"Red\",medians=\"Pink\",caps=\"Black\")\n",
    "df.plot(kind=\"box\",subplots=True,layout=(7,8),figsize=(18,18),color=color)"
   ]
  },
  {
   "cell_type": "markdown",
   "id": "4b869563",
   "metadata": {},
   "source": [
    "From above we can see that there are outliers present in our dataset."
   ]
  },
  {
   "cell_type": "markdown",
   "id": "1e44e517",
   "metadata": {},
   "source": [
    "# Data Cleaning/Preprocessing"
   ]
  },
  {
   "cell_type": "markdown",
   "id": "292da042",
   "metadata": {},
   "source": [
    "## Feature Engineering"
   ]
  },
  {
   "cell_type": "code",
   "execution_count": 15,
   "id": "79642591",
   "metadata": {},
   "outputs": [],
   "source": [
    "df.drop(['country','country_long','name'],axis=1,inplace=True)\n",
    "df.drop('url',axis=1,inplace=True)\n",
    "df.drop(['other_fuel2','other_fuel3','wepp_id','estimated_generation_gwh'],axis=1,inplace=True)\n",
    "df.drop(['commissioning_year','owner','source'],axis=1,inplace=True)\n",
    "df.drop(['gppd_idnr'],axis=1,inplace=True)"
   ]
  },
  {
   "cell_type": "markdown",
   "id": "3d736453",
   "metadata": {},
   "source": [
    "In the above dataset we can see that some of the columns like country, name gppd_idnr, url, owner, source doesnt give us any relevant information that will help us in predicting the output variables and Variables like other fuel 2 and 3 where all the data is missing plays no role in predicting the output variable we can drop thoes columns. we will not be performing VIF factor calculation as we have already droped many columns droping furthur columns we may end up loosing important information."
   ]
  },
  {
   "cell_type": "code",
   "execution_count": 16,
   "id": "2b52d7da",
   "metadata": {},
   "outputs": [
    {
     "data": {
      "text/html": [
       "<div>\n",
       "<style scoped>\n",
       "    .dataframe tbody tr th:only-of-type {\n",
       "        vertical-align: middle;\n",
       "    }\n",
       "\n",
       "    .dataframe tbody tr th {\n",
       "        vertical-align: top;\n",
       "    }\n",
       "\n",
       "    .dataframe thead th {\n",
       "        text-align: right;\n",
       "    }\n",
       "</style>\n",
       "<table border=\"1\" class=\"dataframe\">\n",
       "  <thead>\n",
       "    <tr style=\"text-align: right;\">\n",
       "      <th></th>\n",
       "      <th>capacity_mw</th>\n",
       "      <th>latitude</th>\n",
       "      <th>longitude</th>\n",
       "      <th>primary_fuel</th>\n",
       "      <th>other_fuel1</th>\n",
       "      <th>geolocation_source</th>\n",
       "      <th>year_of_capacity_data</th>\n",
       "      <th>generation_gwh_2013</th>\n",
       "      <th>generation_gwh_2014</th>\n",
       "      <th>generation_gwh_2015</th>\n",
       "      <th>generation_gwh_2016</th>\n",
       "      <th>generation_gwh_2017</th>\n",
       "      <th>generation_data_source</th>\n",
       "    </tr>\n",
       "  </thead>\n",
       "  <tbody>\n",
       "    <tr>\n",
       "      <th>0</th>\n",
       "      <td>2.5</td>\n",
       "      <td>28.1839</td>\n",
       "      <td>73.2407</td>\n",
       "      <td>Solar</td>\n",
       "      <td>NaN</td>\n",
       "      <td>National Renewable Energy Laboratory</td>\n",
       "      <td>NaN</td>\n",
       "      <td>NaN</td>\n",
       "      <td>NaN</td>\n",
       "      <td>NaN</td>\n",
       "      <td>NaN</td>\n",
       "      <td>NaN</td>\n",
       "      <td>NaN</td>\n",
       "    </tr>\n",
       "    <tr>\n",
       "      <th>1</th>\n",
       "      <td>98.0</td>\n",
       "      <td>24.7663</td>\n",
       "      <td>74.6090</td>\n",
       "      <td>Coal</td>\n",
       "      <td>NaN</td>\n",
       "      <td>WRI</td>\n",
       "      <td>NaN</td>\n",
       "      <td>NaN</td>\n",
       "      <td>NaN</td>\n",
       "      <td>NaN</td>\n",
       "      <td>NaN</td>\n",
       "      <td>NaN</td>\n",
       "      <td>NaN</td>\n",
       "    </tr>\n",
       "    <tr>\n",
       "      <th>2</th>\n",
       "      <td>39.2</td>\n",
       "      <td>21.9038</td>\n",
       "      <td>69.3732</td>\n",
       "      <td>Wind</td>\n",
       "      <td>NaN</td>\n",
       "      <td>WRI</td>\n",
       "      <td>NaN</td>\n",
       "      <td>NaN</td>\n",
       "      <td>NaN</td>\n",
       "      <td>NaN</td>\n",
       "      <td>NaN</td>\n",
       "      <td>NaN</td>\n",
       "      <td>NaN</td>\n",
       "    </tr>\n",
       "    <tr>\n",
       "      <th>3</th>\n",
       "      <td>135.0</td>\n",
       "      <td>23.8712</td>\n",
       "      <td>91.3602</td>\n",
       "      <td>Gas</td>\n",
       "      <td>NaN</td>\n",
       "      <td>WRI</td>\n",
       "      <td>2018.0</td>\n",
       "      <td>631.777928</td>\n",
       "      <td>617.789264</td>\n",
       "      <td>843.747</td>\n",
       "      <td>886.004428</td>\n",
       "      <td>663.774500</td>\n",
       "      <td>Central Electricity Authority</td>\n",
       "    </tr>\n",
       "    <tr>\n",
       "      <th>4</th>\n",
       "      <td>1800.0</td>\n",
       "      <td>21.9603</td>\n",
       "      <td>82.4091</td>\n",
       "      <td>Coal</td>\n",
       "      <td>Oil</td>\n",
       "      <td>WRI</td>\n",
       "      <td>2018.0</td>\n",
       "      <td>1668.290000</td>\n",
       "      <td>3035.550000</td>\n",
       "      <td>5916.370</td>\n",
       "      <td>6243.000000</td>\n",
       "      <td>5385.579736</td>\n",
       "      <td>Central Electricity Authority</td>\n",
       "    </tr>\n",
       "  </tbody>\n",
       "</table>\n",
       "</div>"
      ],
      "text/plain": [
       "   capacity_mw  latitude  longitude primary_fuel other_fuel1  \\\n",
       "0          2.5   28.1839    73.2407        Solar         NaN   \n",
       "1         98.0   24.7663    74.6090         Coal         NaN   \n",
       "2         39.2   21.9038    69.3732         Wind         NaN   \n",
       "3        135.0   23.8712    91.3602          Gas         NaN   \n",
       "4       1800.0   21.9603    82.4091         Coal         Oil   \n",
       "\n",
       "                     geolocation_source  year_of_capacity_data  \\\n",
       "0  National Renewable Energy Laboratory                    NaN   \n",
       "1                                   WRI                    NaN   \n",
       "2                                   WRI                    NaN   \n",
       "3                                   WRI                 2018.0   \n",
       "4                                   WRI                 2018.0   \n",
       "\n",
       "   generation_gwh_2013  generation_gwh_2014  generation_gwh_2015  \\\n",
       "0                  NaN                  NaN                  NaN   \n",
       "1                  NaN                  NaN                  NaN   \n",
       "2                  NaN                  NaN                  NaN   \n",
       "3           631.777928           617.789264              843.747   \n",
       "4          1668.290000          3035.550000             5916.370   \n",
       "\n",
       "   generation_gwh_2016  generation_gwh_2017         generation_data_source  \n",
       "0                  NaN                  NaN                            NaN  \n",
       "1                  NaN                  NaN                            NaN  \n",
       "2                  NaN                  NaN                            NaN  \n",
       "3           886.004428           663.774500  Central Electricity Authority  \n",
       "4          6243.000000          5385.579736  Central Electricity Authority  "
      ]
     },
     "execution_count": 16,
     "metadata": {},
     "output_type": "execute_result"
    }
   ],
   "source": [
    "df.head()"
   ]
  },
  {
   "cell_type": "markdown",
   "id": "ccec74d9",
   "metadata": {},
   "source": [
    "## Missing values"
   ]
  },
  {
   "cell_type": "code",
   "execution_count": 17,
   "id": "6a424978",
   "metadata": {},
   "outputs": [
    {
     "data": {
      "text/plain": [
       "capacity_mw                 0\n",
       "latitude                   46\n",
       "longitude                  46\n",
       "primary_fuel                0\n",
       "other_fuel1               709\n",
       "geolocation_source         19\n",
       "year_of_capacity_data     388\n",
       "generation_gwh_2013       524\n",
       "generation_gwh_2014       507\n",
       "generation_gwh_2015       483\n",
       "generation_gwh_2016       471\n",
       "generation_gwh_2017       465\n",
       "generation_data_source    458\n",
       "dtype: int64"
      ]
     },
     "execution_count": 17,
     "metadata": {},
     "output_type": "execute_result"
    }
   ],
   "source": [
    "df.isnull().sum()"
   ]
  },
  {
   "cell_type": "markdown",
   "id": "ed3b7da5",
   "metadata": {},
   "source": [
    "We can see there are so much of data missing we may replace these data with mean and mode values as per the datatype of the feature."
   ]
  },
  {
   "cell_type": "code",
   "execution_count": 18,
   "id": "a9df0c43",
   "metadata": {},
   "outputs": [
    {
     "data": {
      "text/plain": [
       "21.196188863109057"
      ]
     },
     "execution_count": 18,
     "metadata": {},
     "output_type": "execute_result"
    }
   ],
   "source": [
    "df['latitude'].mean()  #replacing the missing values with mean"
   ]
  },
  {
   "cell_type": "code",
   "execution_count": 19,
   "id": "fa421b45",
   "metadata": {},
   "outputs": [],
   "source": [
    "df['latitude'].fillna(21.196,inplace=True)"
   ]
  },
  {
   "cell_type": "code",
   "execution_count": 20,
   "id": "2f77511b",
   "metadata": {},
   "outputs": [
    {
     "data": {
      "text/plain": [
       "77.44784779582372"
      ]
     },
     "execution_count": 20,
     "metadata": {},
     "output_type": "execute_result"
    }
   ],
   "source": [
    "df['longitude'].mean()  #replacing the missing values with mean"
   ]
  },
  {
   "cell_type": "code",
   "execution_count": 21,
   "id": "cc562787",
   "metadata": {},
   "outputs": [],
   "source": [
    "df['longitude'].fillna(77.44,inplace=True)"
   ]
  },
  {
   "cell_type": "code",
   "execution_count": 22,
   "id": "c9cfef6a",
   "metadata": {},
   "outputs": [
    {
     "data": {
      "text/plain": [
       "Oil             196\n",
       "Gas               2\n",
       "Cogeneration      1\n",
       "Name: other_fuel1, dtype: int64"
      ]
     },
     "execution_count": 22,
     "metadata": {},
     "output_type": "execute_result"
    }
   ],
   "source": [
    "df['other_fuel1'].value_counts()  #replacing the missing values with mode"
   ]
  },
  {
   "cell_type": "code",
   "execution_count": 23,
   "id": "0c31d78d",
   "metadata": {},
   "outputs": [],
   "source": [
    "df['other_fuel1'].fillna('Oil',inplace=True)"
   ]
  },
  {
   "cell_type": "code",
   "execution_count": 24,
   "id": "5e6c5ac9",
   "metadata": {},
   "outputs": [
    {
     "data": {
      "text/plain": [
       "WRI                                     766\n",
       "Industry About                          119\n",
       "National Renewable Energy Laboratory      4\n",
       "Name: geolocation_source, dtype: int64"
      ]
     },
     "execution_count": 24,
     "metadata": {},
     "output_type": "execute_result"
    }
   ],
   "source": [
    "df['geolocation_source'].value_counts() #replacing the missing values with mode"
   ]
  },
  {
   "cell_type": "code",
   "execution_count": 25,
   "id": "b8ee2996",
   "metadata": {},
   "outputs": [],
   "source": [
    "df['geolocation_source'].fillna('WRI',inplace=True)"
   ]
  },
  {
   "cell_type": "code",
   "execution_count": 26,
   "id": "d13e73b1",
   "metadata": {},
   "outputs": [
    {
     "data": {
      "text/plain": [
       "capacity_mw                 0\n",
       "latitude                    0\n",
       "longitude                   0\n",
       "primary_fuel                0\n",
       "other_fuel1                 0\n",
       "geolocation_source          0\n",
       "year_of_capacity_data     388\n",
       "generation_gwh_2013       524\n",
       "generation_gwh_2014       507\n",
       "generation_gwh_2015       483\n",
       "generation_gwh_2016       471\n",
       "generation_gwh_2017       465\n",
       "generation_data_source    458\n",
       "dtype: int64"
      ]
     },
     "execution_count": 26,
     "metadata": {},
     "output_type": "execute_result"
    }
   ],
   "source": [
    "df.isnull().sum()"
   ]
  },
  {
   "cell_type": "code",
   "execution_count": 27,
   "id": "d055406a",
   "metadata": {},
   "outputs": [
    {
     "data": {
      "text/plain": [
       "2018.0    520\n",
       "Name: year_of_capacity_data, dtype: int64"
      ]
     },
     "execution_count": 27,
     "metadata": {},
     "output_type": "execute_result"
    }
   ],
   "source": [
    "df['year_of_capacity_data'].value_counts()  #replacing the missing values with mode"
   ]
  },
  {
   "cell_type": "code",
   "execution_count": 28,
   "id": "eee59dd9",
   "metadata": {},
   "outputs": [],
   "source": [
    "df['year_of_capacity_data'].fillna(2018,inplace=True)"
   ]
  },
  {
   "cell_type": "code",
   "execution_count": 29,
   "id": "85d82fb9",
   "metadata": {},
   "outputs": [
    {
     "data": {
      "text/plain": [
       "2304.0592017964586"
      ]
     },
     "execution_count": 29,
     "metadata": {},
     "output_type": "execute_result"
    }
   ],
   "source": [
    "df['generation_gwh_2013'].mean()  #replacing the missing values with mean"
   ]
  },
  {
   "cell_type": "code",
   "execution_count": 30,
   "id": "9d92a570",
   "metadata": {},
   "outputs": [],
   "source": [
    "df['generation_gwh_2013'].fillna(2304.059,inplace=True)  "
   ]
  },
  {
   "cell_type": "code",
   "execution_count": 31,
   "id": "161491f9",
   "metadata": {},
   "outputs": [
    {
     "data": {
      "text/plain": [
       "2420.3933164542264"
      ]
     },
     "execution_count": 31,
     "metadata": {},
     "output_type": "execute_result"
    }
   ],
   "source": [
    "df['generation_gwh_2014'].mean()  #replacing the missing values with mean"
   ]
  },
  {
   "cell_type": "code",
   "execution_count": 32,
   "id": "39269fb5",
   "metadata": {},
   "outputs": [],
   "source": [
    "df['generation_gwh_2014'].fillna(2420.393,inplace=True)"
   ]
  },
  {
   "cell_type": "code",
   "execution_count": 33,
   "id": "e4fb06bb",
   "metadata": {},
   "outputs": [
    {
     "data": {
      "text/plain": [
       "2414.072373401681"
      ]
     },
     "execution_count": 33,
     "metadata": {},
     "output_type": "execute_result"
    }
   ],
   "source": [
    "df['generation_gwh_2015'].mean()  #replacing the missing values with mean"
   ]
  },
  {
   "cell_type": "code",
   "execution_count": 34,
   "id": "c0ed63fb",
   "metadata": {},
   "outputs": [],
   "source": [
    "df['generation_gwh_2015'].fillna(2414.072,inplace=True)"
   ]
  },
  {
   "cell_type": "code",
   "execution_count": 35,
   "id": "fd62eea0",
   "metadata": {},
   "outputs": [
    {
     "data": {
      "text/plain": [
       "2453.9362918708252"
      ]
     },
     "execution_count": 35,
     "metadata": {},
     "output_type": "execute_result"
    }
   ],
   "source": [
    "df['generation_gwh_2016'].mean()  #replacing the missing values with mean"
   ]
  },
  {
   "cell_type": "code",
   "execution_count": 36,
   "id": "cc74eb5f",
   "metadata": {},
   "outputs": [],
   "source": [
    "df['generation_gwh_2016'].fillna(2453.936,inplace=True)"
   ]
  },
  {
   "cell_type": "code",
   "execution_count": 37,
   "id": "793f7a51",
   "metadata": {},
   "outputs": [
    {
     "data": {
      "text/plain": [
       "2531.7544577527983"
      ]
     },
     "execution_count": 37,
     "metadata": {},
     "output_type": "execute_result"
    }
   ],
   "source": [
    "df['generation_gwh_2017'].mean()  #replacing the missing values with mean"
   ]
  },
  {
   "cell_type": "code",
   "execution_count": 38,
   "id": "50a313a4",
   "metadata": {},
   "outputs": [],
   "source": [
    "df['generation_gwh_2017'].fillna(2531.7544,inplace=True)"
   ]
  },
  {
   "cell_type": "code",
   "execution_count": 39,
   "id": "7c96432d",
   "metadata": {},
   "outputs": [
    {
     "data": {
      "text/plain": [
       "Central Electricity Authority    450\n",
       "Name: generation_data_source, dtype: int64"
      ]
     },
     "execution_count": 39,
     "metadata": {},
     "output_type": "execute_result"
    }
   ],
   "source": [
    "df['generation_data_source'].value_counts()  #replacing the missing values with mode"
   ]
  },
  {
   "cell_type": "code",
   "execution_count": 40,
   "id": "48616e28",
   "metadata": {},
   "outputs": [],
   "source": [
    "df['generation_data_source'].fillna(\"Central Electricity Authority\",inplace=True)"
   ]
  },
  {
   "cell_type": "code",
   "execution_count": 41,
   "id": "68223fa4",
   "metadata": {},
   "outputs": [
    {
     "data": {
      "text/plain": [
       "capacity_mw               0\n",
       "latitude                  0\n",
       "longitude                 0\n",
       "primary_fuel              0\n",
       "other_fuel1               0\n",
       "geolocation_source        0\n",
       "year_of_capacity_data     0\n",
       "generation_gwh_2013       0\n",
       "generation_gwh_2014       0\n",
       "generation_gwh_2015       0\n",
       "generation_gwh_2016       0\n",
       "generation_gwh_2017       0\n",
       "generation_data_source    0\n",
       "dtype: int64"
      ]
     },
     "execution_count": 41,
     "metadata": {},
     "output_type": "execute_result"
    }
   ],
   "source": [
    "df.isnull().sum()"
   ]
  },
  {
   "cell_type": "markdown",
   "id": "f9e492f9",
   "metadata": {},
   "source": [
    "No missing values in the dataset now."
   ]
  },
  {
   "cell_type": "markdown",
   "id": "7a869b72",
   "metadata": {},
   "source": [
    "## Label Encoding"
   ]
  },
  {
   "cell_type": "code",
   "execution_count": 42,
   "id": "a43a1d47",
   "metadata": {},
   "outputs": [],
   "source": [
    "from sklearn.preprocessing import LabelEncoder\n",
    "le=LabelEncoder()\n",
    "li=['primary_fuel','other_fuel1','geolocation_source','year_of_capacity_data','generation_data_source']\n",
    "for val in li:\n",
    "    df[val]=le.fit_transform(df[val].astype(str))\n"
   ]
  },
  {
   "cell_type": "code",
   "execution_count": 43,
   "id": "f2efdad5",
   "metadata": {},
   "outputs": [
    {
     "data": {
      "text/html": [
       "<div>\n",
       "<style scoped>\n",
       "    .dataframe tbody tr th:only-of-type {\n",
       "        vertical-align: middle;\n",
       "    }\n",
       "\n",
       "    .dataframe tbody tr th {\n",
       "        vertical-align: top;\n",
       "    }\n",
       "\n",
       "    .dataframe thead th {\n",
       "        text-align: right;\n",
       "    }\n",
       "</style>\n",
       "<table border=\"1\" class=\"dataframe\">\n",
       "  <thead>\n",
       "    <tr style=\"text-align: right;\">\n",
       "      <th></th>\n",
       "      <th>capacity_mw</th>\n",
       "      <th>latitude</th>\n",
       "      <th>longitude</th>\n",
       "      <th>primary_fuel</th>\n",
       "      <th>other_fuel1</th>\n",
       "      <th>geolocation_source</th>\n",
       "      <th>year_of_capacity_data</th>\n",
       "      <th>generation_gwh_2013</th>\n",
       "      <th>generation_gwh_2014</th>\n",
       "      <th>generation_gwh_2015</th>\n",
       "      <th>generation_gwh_2016</th>\n",
       "      <th>generation_gwh_2017</th>\n",
       "      <th>generation_data_source</th>\n",
       "    </tr>\n",
       "  </thead>\n",
       "  <tbody>\n",
       "    <tr>\n",
       "      <th>0</th>\n",
       "      <td>2.5</td>\n",
       "      <td>28.1839</td>\n",
       "      <td>73.2407</td>\n",
       "      <td>6</td>\n",
       "      <td>2</td>\n",
       "      <td>1</td>\n",
       "      <td>0</td>\n",
       "      <td>2304.059000</td>\n",
       "      <td>2420.393000</td>\n",
       "      <td>2414.072000</td>\n",
       "      <td>2453.936000</td>\n",
       "      <td>2531.754400</td>\n",
       "      <td>0</td>\n",
       "    </tr>\n",
       "    <tr>\n",
       "      <th>1</th>\n",
       "      <td>98.0</td>\n",
       "      <td>24.7663</td>\n",
       "      <td>74.6090</td>\n",
       "      <td>1</td>\n",
       "      <td>2</td>\n",
       "      <td>2</td>\n",
       "      <td>0</td>\n",
       "      <td>2304.059000</td>\n",
       "      <td>2420.393000</td>\n",
       "      <td>2414.072000</td>\n",
       "      <td>2453.936000</td>\n",
       "      <td>2531.754400</td>\n",
       "      <td>0</td>\n",
       "    </tr>\n",
       "    <tr>\n",
       "      <th>2</th>\n",
       "      <td>39.2</td>\n",
       "      <td>21.9038</td>\n",
       "      <td>69.3732</td>\n",
       "      <td>7</td>\n",
       "      <td>2</td>\n",
       "      <td>2</td>\n",
       "      <td>0</td>\n",
       "      <td>2304.059000</td>\n",
       "      <td>2420.393000</td>\n",
       "      <td>2414.072000</td>\n",
       "      <td>2453.936000</td>\n",
       "      <td>2531.754400</td>\n",
       "      <td>0</td>\n",
       "    </tr>\n",
       "    <tr>\n",
       "      <th>3</th>\n",
       "      <td>135.0</td>\n",
       "      <td>23.8712</td>\n",
       "      <td>91.3602</td>\n",
       "      <td>2</td>\n",
       "      <td>2</td>\n",
       "      <td>2</td>\n",
       "      <td>0</td>\n",
       "      <td>631.777928</td>\n",
       "      <td>617.789264</td>\n",
       "      <td>843.747000</td>\n",
       "      <td>886.004428</td>\n",
       "      <td>663.774500</td>\n",
       "      <td>0</td>\n",
       "    </tr>\n",
       "    <tr>\n",
       "      <th>4</th>\n",
       "      <td>1800.0</td>\n",
       "      <td>21.9603</td>\n",
       "      <td>82.4091</td>\n",
       "      <td>1</td>\n",
       "      <td>2</td>\n",
       "      <td>2</td>\n",
       "      <td>0</td>\n",
       "      <td>1668.290000</td>\n",
       "      <td>3035.550000</td>\n",
       "      <td>5916.370000</td>\n",
       "      <td>6243.000000</td>\n",
       "      <td>5385.579736</td>\n",
       "      <td>0</td>\n",
       "    </tr>\n",
       "    <tr>\n",
       "      <th>...</th>\n",
       "      <td>...</td>\n",
       "      <td>...</td>\n",
       "      <td>...</td>\n",
       "      <td>...</td>\n",
       "      <td>...</td>\n",
       "      <td>...</td>\n",
       "      <td>...</td>\n",
       "      <td>...</td>\n",
       "      <td>...</td>\n",
       "      <td>...</td>\n",
       "      <td>...</td>\n",
       "      <td>...</td>\n",
       "      <td>...</td>\n",
       "    </tr>\n",
       "    <tr>\n",
       "      <th>903</th>\n",
       "      <td>1600.0</td>\n",
       "      <td>16.2949</td>\n",
       "      <td>77.3568</td>\n",
       "      <td>1</td>\n",
       "      <td>2</td>\n",
       "      <td>2</td>\n",
       "      <td>0</td>\n",
       "      <td>2304.059000</td>\n",
       "      <td>2420.393000</td>\n",
       "      <td>0.994875</td>\n",
       "      <td>233.596650</td>\n",
       "      <td>865.400000</td>\n",
       "      <td>0</td>\n",
       "    </tr>\n",
       "    <tr>\n",
       "      <th>904</th>\n",
       "      <td>3.0</td>\n",
       "      <td>12.8932</td>\n",
       "      <td>78.1654</td>\n",
       "      <td>6</td>\n",
       "      <td>2</td>\n",
       "      <td>0</td>\n",
       "      <td>0</td>\n",
       "      <td>2304.059000</td>\n",
       "      <td>2420.393000</td>\n",
       "      <td>2414.072000</td>\n",
       "      <td>2453.936000</td>\n",
       "      <td>2531.754400</td>\n",
       "      <td>0</td>\n",
       "    </tr>\n",
       "    <tr>\n",
       "      <th>905</th>\n",
       "      <td>25.5</td>\n",
       "      <td>15.2758</td>\n",
       "      <td>75.5811</td>\n",
       "      <td>7</td>\n",
       "      <td>2</td>\n",
       "      <td>2</td>\n",
       "      <td>0</td>\n",
       "      <td>2304.059000</td>\n",
       "      <td>2420.393000</td>\n",
       "      <td>2414.072000</td>\n",
       "      <td>2453.936000</td>\n",
       "      <td>2531.754400</td>\n",
       "      <td>0</td>\n",
       "    </tr>\n",
       "    <tr>\n",
       "      <th>906</th>\n",
       "      <td>80.0</td>\n",
       "      <td>24.3500</td>\n",
       "      <td>73.7477</td>\n",
       "      <td>1</td>\n",
       "      <td>2</td>\n",
       "      <td>2</td>\n",
       "      <td>0</td>\n",
       "      <td>2304.059000</td>\n",
       "      <td>2420.393000</td>\n",
       "      <td>2414.072000</td>\n",
       "      <td>2453.936000</td>\n",
       "      <td>2531.754400</td>\n",
       "      <td>0</td>\n",
       "    </tr>\n",
       "    <tr>\n",
       "      <th>907</th>\n",
       "      <td>16.5</td>\n",
       "      <td>9.9344</td>\n",
       "      <td>77.4768</td>\n",
       "      <td>7</td>\n",
       "      <td>2</td>\n",
       "      <td>2</td>\n",
       "      <td>0</td>\n",
       "      <td>2304.059000</td>\n",
       "      <td>2420.393000</td>\n",
       "      <td>2414.072000</td>\n",
       "      <td>2453.936000</td>\n",
       "      <td>2531.754400</td>\n",
       "      <td>0</td>\n",
       "    </tr>\n",
       "  </tbody>\n",
       "</table>\n",
       "<p>908 rows × 13 columns</p>\n",
       "</div>"
      ],
      "text/plain": [
       "     capacity_mw  latitude  longitude  primary_fuel  other_fuel1  \\\n",
       "0            2.5   28.1839    73.2407             6            2   \n",
       "1           98.0   24.7663    74.6090             1            2   \n",
       "2           39.2   21.9038    69.3732             7            2   \n",
       "3          135.0   23.8712    91.3602             2            2   \n",
       "4         1800.0   21.9603    82.4091             1            2   \n",
       "..           ...       ...        ...           ...          ...   \n",
       "903       1600.0   16.2949    77.3568             1            2   \n",
       "904          3.0   12.8932    78.1654             6            2   \n",
       "905         25.5   15.2758    75.5811             7            2   \n",
       "906         80.0   24.3500    73.7477             1            2   \n",
       "907         16.5    9.9344    77.4768             7            2   \n",
       "\n",
       "     geolocation_source  year_of_capacity_data  generation_gwh_2013  \\\n",
       "0                     1                      0          2304.059000   \n",
       "1                     2                      0          2304.059000   \n",
       "2                     2                      0          2304.059000   \n",
       "3                     2                      0           631.777928   \n",
       "4                     2                      0          1668.290000   \n",
       "..                  ...                    ...                  ...   \n",
       "903                   2                      0          2304.059000   \n",
       "904                   0                      0          2304.059000   \n",
       "905                   2                      0          2304.059000   \n",
       "906                   2                      0          2304.059000   \n",
       "907                   2                      0          2304.059000   \n",
       "\n",
       "     generation_gwh_2014  generation_gwh_2015  generation_gwh_2016  \\\n",
       "0            2420.393000          2414.072000          2453.936000   \n",
       "1            2420.393000          2414.072000          2453.936000   \n",
       "2            2420.393000          2414.072000          2453.936000   \n",
       "3             617.789264           843.747000           886.004428   \n",
       "4            3035.550000          5916.370000          6243.000000   \n",
       "..                   ...                  ...                  ...   \n",
       "903          2420.393000             0.994875           233.596650   \n",
       "904          2420.393000          2414.072000          2453.936000   \n",
       "905          2420.393000          2414.072000          2453.936000   \n",
       "906          2420.393000          2414.072000          2453.936000   \n",
       "907          2420.393000          2414.072000          2453.936000   \n",
       "\n",
       "     generation_gwh_2017  generation_data_source  \n",
       "0            2531.754400                       0  \n",
       "1            2531.754400                       0  \n",
       "2            2531.754400                       0  \n",
       "3             663.774500                       0  \n",
       "4            5385.579736                       0  \n",
       "..                   ...                     ...  \n",
       "903           865.400000                       0  \n",
       "904          2531.754400                       0  \n",
       "905          2531.754400                       0  \n",
       "906          2531.754400                       0  \n",
       "907          2531.754400                       0  \n",
       "\n",
       "[908 rows x 13 columns]"
      ]
     },
     "execution_count": 43,
     "metadata": {},
     "output_type": "execute_result"
    }
   ],
   "source": [
    "df"
   ]
  },
  {
   "cell_type": "markdown",
   "id": "4797ee6d",
   "metadata": {},
   "source": [
    "Coverting all the categorial data into the integer values."
   ]
  },
  {
   "cell_type": "code",
   "execution_count": 44,
   "id": "77134884",
   "metadata": {},
   "outputs": [
    {
     "data": {
      "text/plain": [
       "<AxesSubplot:>"
      ]
     },
     "execution_count": 44,
     "metadata": {},
     "output_type": "execute_result"
    },
    {
     "data": {
      "image/png": "[encoded data removed]",
      "text/plain": [
       "<Figure size 720x720 with 2 Axes>"
      ]
     },
     "metadata": {
      "needs_background": "light"
     },
     "output_type": "display_data"
    }
   ],
   "source": [
    "plt.figure(figsize=(10,10))\n",
    "sns.heatmap(df.corr(),annot=True)"
   ]
  },
  {
   "cell_type": "markdown",
   "id": "77062418",
   "metadata": {},
   "source": [
    "From the above heatmap,\n",
    "1. gen_gwh_2014,15,16,17 are contributing positively in determining the capacity_mw.\n",
    "2. gen_gwh_2014,15,16,17 are also positively corelated to each other."
   ]
  },
  {
   "cell_type": "code",
   "execution_count": 45,
   "id": "738f24ca",
   "metadata": {},
   "outputs": [
    {
     "data": {
      "text/html": [
       "<div>\n",
       "<style scoped>\n",
       "    .dataframe tbody tr th:only-of-type {\n",
       "        vertical-align: middle;\n",
       "    }\n",
       "\n",
       "    .dataframe tbody tr th {\n",
       "        vertical-align: top;\n",
       "    }\n",
       "\n",
       "    .dataframe thead th {\n",
       "        text-align: right;\n",
       "    }\n",
       "</style>\n",
       "<table border=\"1\" class=\"dataframe\">\n",
       "  <thead>\n",
       "    <tr style=\"text-align: right;\">\n",
       "      <th></th>\n",
       "      <th>capacity_mw</th>\n",
       "      <th>latitude</th>\n",
       "      <th>longitude</th>\n",
       "      <th>primary_fuel</th>\n",
       "      <th>other_fuel1</th>\n",
       "      <th>geolocation_source</th>\n",
       "      <th>year_of_capacity_data</th>\n",
       "      <th>generation_gwh_2013</th>\n",
       "      <th>generation_gwh_2014</th>\n",
       "      <th>generation_gwh_2015</th>\n",
       "      <th>generation_gwh_2016</th>\n",
       "      <th>generation_gwh_2017</th>\n",
       "      <th>generation_data_source</th>\n",
       "    </tr>\n",
       "  </thead>\n",
       "  <tbody>\n",
       "    <tr>\n",
       "      <th>count</th>\n",
       "      <td>908.000000</td>\n",
       "      <td>908.000000</td>\n",
       "      <td>908.000000</td>\n",
       "      <td>908.000000</td>\n",
       "      <td>908.000000</td>\n",
       "      <td>908.000000</td>\n",
       "      <td>908.0</td>\n",
       "      <td>908.000000</td>\n",
       "      <td>908.000000</td>\n",
       "      <td>908.000000</td>\n",
       "      <td>908.000000</td>\n",
       "      <td>908.000000</td>\n",
       "      <td>908.0</td>\n",
       "    </tr>\n",
       "    <tr>\n",
       "      <th>mean</th>\n",
       "      <td>321.046378</td>\n",
       "      <td>21.196179</td>\n",
       "      <td>77.447450</td>\n",
       "      <td>3.205947</td>\n",
       "      <td>1.995595</td>\n",
       "      <td>1.733480</td>\n",
       "      <td>0.0</td>\n",
       "      <td>2304.059085</td>\n",
       "      <td>2420.393140</td>\n",
       "      <td>2414.072175</td>\n",
       "      <td>2453.936140</td>\n",
       "      <td>2531.754428</td>\n",
       "      <td>0.0</td>\n",
       "    </tr>\n",
       "    <tr>\n",
       "      <th>std</th>\n",
       "      <td>580.221767</td>\n",
       "      <td>6.088110</td>\n",
       "      <td>4.781201</td>\n",
       "      <td>2.281339</td>\n",
       "      <td>0.081214</td>\n",
       "      <td>0.676835</td>\n",
       "      <td>0.0</td>\n",
       "      <td>2465.930970</td>\n",
       "      <td>2665.360236</td>\n",
       "      <td>2860.146282</td>\n",
       "      <td>2878.730064</td>\n",
       "      <td>2923.041411</td>\n",
       "      <td>0.0</td>\n",
       "    </tr>\n",
       "    <tr>\n",
       "      <th>min</th>\n",
       "      <td>0.000000</td>\n",
       "      <td>8.168900</td>\n",
       "      <td>68.644700</td>\n",
       "      <td>0.000000</td>\n",
       "      <td>0.000000</td>\n",
       "      <td>0.000000</td>\n",
       "      <td>0.0</td>\n",
       "      <td>0.000000</td>\n",
       "      <td>0.000000</td>\n",
       "      <td>0.000000</td>\n",
       "      <td>0.000000</td>\n",
       "      <td>0.000000</td>\n",
       "      <td>0.0</td>\n",
       "    </tr>\n",
       "    <tr>\n",
       "      <th>25%</th>\n",
       "      <td>16.837500</td>\n",
       "      <td>17.057825</td>\n",
       "      <td>74.390250</td>\n",
       "      <td>1.000000</td>\n",
       "      <td>2.000000</td>\n",
       "      <td>2.000000</td>\n",
       "      <td>0.0</td>\n",
       "      <td>1332.538825</td>\n",
       "      <td>1175.264825</td>\n",
       "      <td>874.205000</td>\n",
       "      <td>826.629750</td>\n",
       "      <td>852.438887</td>\n",
       "      <td>0.0</td>\n",
       "    </tr>\n",
       "    <tr>\n",
       "      <th>50%</th>\n",
       "      <td>60.000000</td>\n",
       "      <td>21.278850</td>\n",
       "      <td>76.978950</td>\n",
       "      <td>3.000000</td>\n",
       "      <td>2.000000</td>\n",
       "      <td>2.000000</td>\n",
       "      <td>0.0</td>\n",
       "      <td>2304.059000</td>\n",
       "      <td>2420.393000</td>\n",
       "      <td>2414.072000</td>\n",
       "      <td>2453.936000</td>\n",
       "      <td>2531.754400</td>\n",
       "      <td>0.0</td>\n",
       "    </tr>\n",
       "    <tr>\n",
       "      <th>75%</th>\n",
       "      <td>388.125000</td>\n",
       "      <td>25.183775</td>\n",
       "      <td>79.211600</td>\n",
       "      <td>6.000000</td>\n",
       "      <td>2.000000</td>\n",
       "      <td>2.000000</td>\n",
       "      <td>0.0</td>\n",
       "      <td>2304.059000</td>\n",
       "      <td>2420.393000</td>\n",
       "      <td>2414.072000</td>\n",
       "      <td>2453.936000</td>\n",
       "      <td>2531.754400</td>\n",
       "      <td>0.0</td>\n",
       "    </tr>\n",
       "    <tr>\n",
       "      <th>max</th>\n",
       "      <td>4760.000000</td>\n",
       "      <td>34.649000</td>\n",
       "      <td>95.408000</td>\n",
       "      <td>7.000000</td>\n",
       "      <td>2.000000</td>\n",
       "      <td>2.000000</td>\n",
       "      <td>0.0</td>\n",
       "      <td>27586.200000</td>\n",
       "      <td>28127.000000</td>\n",
       "      <td>30539.000000</td>\n",
       "      <td>30015.000000</td>\n",
       "      <td>35116.000000</td>\n",
       "      <td>0.0</td>\n",
       "    </tr>\n",
       "  </tbody>\n",
       "</table>\n",
       "</div>"
      ],
      "text/plain": [
       "       capacity_mw    latitude   longitude  primary_fuel  other_fuel1  \\\n",
       "count   908.000000  908.000000  908.000000    908.000000   908.000000   \n",
       "mean    321.046378   21.196179   77.447450      3.205947     1.995595   \n",
       "std     580.221767    6.088110    4.781201      2.281339     0.081214   \n",
       "min       0.000000    8.168900   68.644700      0.000000     0.000000   \n",
       "25%      16.837500   17.057825   74.390250      1.000000     2.000000   \n",
       "50%      60.000000   21.278850   76.978950      3.000000     2.000000   \n",
       "75%     388.125000   25.183775   79.211600      6.000000     2.000000   \n",
       "max    4760.000000   34.649000   95.408000      7.000000     2.000000   \n",
       "\n",
       "       geolocation_source  year_of_capacity_data  generation_gwh_2013  \\\n",
       "count          908.000000                  908.0           908.000000   \n",
       "mean             1.733480                    0.0          2304.059085   \n",
       "std              0.676835                    0.0          2465.930970   \n",
       "min              0.000000                    0.0             0.000000   \n",
       "25%              2.000000                    0.0          1332.538825   \n",
       "50%              2.000000                    0.0          2304.059000   \n",
       "75%              2.000000                    0.0          2304.059000   \n",
       "max              2.000000                    0.0         27586.200000   \n",
       "\n",
       "       generation_gwh_2014  generation_gwh_2015  generation_gwh_2016  \\\n",
       "count           908.000000           908.000000           908.000000   \n",
       "mean           2420.393140          2414.072175          2453.936140   \n",
       "std            2665.360236          2860.146282          2878.730064   \n",
       "min               0.000000             0.000000             0.000000   \n",
       "25%            1175.264825           874.205000           826.629750   \n",
       "50%            2420.393000          2414.072000          2453.936000   \n",
       "75%            2420.393000          2414.072000          2453.936000   \n",
       "max           28127.000000         30539.000000         30015.000000   \n",
       "\n",
       "       generation_gwh_2017  generation_data_source  \n",
       "count           908.000000                   908.0  \n",
       "mean           2531.754428                     0.0  \n",
       "std            2923.041411                     0.0  \n",
       "min               0.000000                     0.0  \n",
       "25%             852.438887                     0.0  \n",
       "50%            2531.754400                     0.0  \n",
       "75%            2531.754400                     0.0  \n",
       "max           35116.000000                     0.0  "
      ]
     },
     "execution_count": 45,
     "metadata": {},
     "output_type": "execute_result"
    }
   ],
   "source": [
    "df.describe()"
   ]
  },
  {
   "cell_type": "markdown",
   "id": "3d9770f4",
   "metadata": {},
   "source": [
    "From the above plot we can say that, there is huge difference between 75% and max outliers could be there but as we have observed that there are lot of missing values in our dataset and removing the outliers could lead us to inaccurate results."
   ]
  },
  {
   "cell_type": "markdown",
   "id": "e788468d",
   "metadata": {},
   "source": [
    "## Skewness and Outliers"
   ]
  },
  {
   "cell_type": "code",
   "execution_count": 46,
   "id": "29880588",
   "metadata": {},
   "outputs": [
    {
     "data": {
      "text/plain": [
       "capacity_mw                3.193257\n",
       "latitude                  -0.147387\n",
       "longitude                  1.130086\n",
       "primary_fuel               0.471141\n",
       "other_fuel1              -20.464435\n",
       "geolocation_source        -2.161710\n",
       "year_of_capacity_data      0.000000\n",
       "generation_gwh_2013        5.241491\n",
       "generation_gwh_2014        5.041961\n",
       "generation_gwh_2015        5.367370\n",
       "generation_gwh_2016        5.071758\n",
       "generation_gwh_2017        5.111938\n",
       "generation_data_source     0.000000\n",
       "dtype: float64"
      ]
     },
     "execution_count": 46,
     "metadata": {},
     "output_type": "execute_result"
    }
   ],
   "source": [
    "df.skew()"
   ]
  },
  {
   "cell_type": "markdown",
   "id": "cc546446",
   "metadata": {},
   "source": [
    "skewness is present in our dataset that may be because of outliers and missing values we will use power transformation method like yeo-johnson to remove the skewness."
   ]
  },
  {
   "cell_type": "markdown",
   "id": "2de40bc9",
   "metadata": {},
   "source": [
    "## Dividing the dataset into Independent(X) and Dependent(Y) variable when capacity is dependent variable."
   ]
  },
  {
   "cell_type": "code",
   "execution_count": 47,
   "id": "9aad6a1e",
   "metadata": {},
   "outputs": [
    {
     "data": {
      "text/html": [
       "<div>\n",
       "<style scoped>\n",
       "    .dataframe tbody tr th:only-of-type {\n",
       "        vertical-align: middle;\n",
       "    }\n",
       "\n",
       "    .dataframe tbody tr th {\n",
       "        vertical-align: top;\n",
       "    }\n",
       "\n",
       "    .dataframe thead th {\n",
       "        text-align: right;\n",
       "    }\n",
       "</style>\n",
       "<table border=\"1\" class=\"dataframe\">\n",
       "  <thead>\n",
       "    <tr style=\"text-align: right;\">\n",
       "      <th></th>\n",
       "      <th>latitude</th>\n",
       "      <th>longitude</th>\n",
       "      <th>primary_fuel</th>\n",
       "      <th>other_fuel1</th>\n",
       "      <th>geolocation_source</th>\n",
       "      <th>year_of_capacity_data</th>\n",
       "      <th>generation_gwh_2013</th>\n",
       "      <th>generation_gwh_2014</th>\n",
       "      <th>generation_gwh_2015</th>\n",
       "      <th>generation_gwh_2016</th>\n",
       "      <th>generation_gwh_2017</th>\n",
       "    </tr>\n",
       "  </thead>\n",
       "  <tbody>\n",
       "    <tr>\n",
       "      <th>0</th>\n",
       "      <td>28.1839</td>\n",
       "      <td>73.2407</td>\n",
       "      <td>6</td>\n",
       "      <td>2</td>\n",
       "      <td>1</td>\n",
       "      <td>0</td>\n",
       "      <td>2304.059000</td>\n",
       "      <td>2420.393000</td>\n",
       "      <td>2414.072000</td>\n",
       "      <td>2453.936000</td>\n",
       "      <td>2531.754400</td>\n",
       "    </tr>\n",
       "    <tr>\n",
       "      <th>1</th>\n",
       "      <td>24.7663</td>\n",
       "      <td>74.6090</td>\n",
       "      <td>1</td>\n",
       "      <td>2</td>\n",
       "      <td>2</td>\n",
       "      <td>0</td>\n",
       "      <td>2304.059000</td>\n",
       "      <td>2420.393000</td>\n",
       "      <td>2414.072000</td>\n",
       "      <td>2453.936000</td>\n",
       "      <td>2531.754400</td>\n",
       "    </tr>\n",
       "    <tr>\n",
       "      <th>2</th>\n",
       "      <td>21.9038</td>\n",
       "      <td>69.3732</td>\n",
       "      <td>7</td>\n",
       "      <td>2</td>\n",
       "      <td>2</td>\n",
       "      <td>0</td>\n",
       "      <td>2304.059000</td>\n",
       "      <td>2420.393000</td>\n",
       "      <td>2414.072000</td>\n",
       "      <td>2453.936000</td>\n",
       "      <td>2531.754400</td>\n",
       "    </tr>\n",
       "    <tr>\n",
       "      <th>3</th>\n",
       "      <td>23.8712</td>\n",
       "      <td>91.3602</td>\n",
       "      <td>2</td>\n",
       "      <td>2</td>\n",
       "      <td>2</td>\n",
       "      <td>0</td>\n",
       "      <td>631.777928</td>\n",
       "      <td>617.789264</td>\n",
       "      <td>843.747000</td>\n",
       "      <td>886.004428</td>\n",
       "      <td>663.774500</td>\n",
       "    </tr>\n",
       "    <tr>\n",
       "      <th>4</th>\n",
       "      <td>21.9603</td>\n",
       "      <td>82.4091</td>\n",
       "      <td>1</td>\n",
       "      <td>2</td>\n",
       "      <td>2</td>\n",
       "      <td>0</td>\n",
       "      <td>1668.290000</td>\n",
       "      <td>3035.550000</td>\n",
       "      <td>5916.370000</td>\n",
       "      <td>6243.000000</td>\n",
       "      <td>5385.579736</td>\n",
       "    </tr>\n",
       "    <tr>\n",
       "      <th>...</th>\n",
       "      <td>...</td>\n",
       "      <td>...</td>\n",
       "      <td>...</td>\n",
       "      <td>...</td>\n",
       "      <td>...</td>\n",
       "      <td>...</td>\n",
       "      <td>...</td>\n",
       "      <td>...</td>\n",
       "      <td>...</td>\n",
       "      <td>...</td>\n",
       "      <td>...</td>\n",
       "    </tr>\n",
       "    <tr>\n",
       "      <th>903</th>\n",
       "      <td>16.2949</td>\n",
       "      <td>77.3568</td>\n",
       "      <td>1</td>\n",
       "      <td>2</td>\n",
       "      <td>2</td>\n",
       "      <td>0</td>\n",
       "      <td>2304.059000</td>\n",
       "      <td>2420.393000</td>\n",
       "      <td>0.994875</td>\n",
       "      <td>233.596650</td>\n",
       "      <td>865.400000</td>\n",
       "    </tr>\n",
       "    <tr>\n",
       "      <th>904</th>\n",
       "      <td>12.8932</td>\n",
       "      <td>78.1654</td>\n",
       "      <td>6</td>\n",
       "      <td>2</td>\n",
       "      <td>0</td>\n",
       "      <td>0</td>\n",
       "      <td>2304.059000</td>\n",
       "      <td>2420.393000</td>\n",
       "      <td>2414.072000</td>\n",
       "      <td>2453.936000</td>\n",
       "      <td>2531.754400</td>\n",
       "    </tr>\n",
       "    <tr>\n",
       "      <th>905</th>\n",
       "      <td>15.2758</td>\n",
       "      <td>75.5811</td>\n",
       "      <td>7</td>\n",
       "      <td>2</td>\n",
       "      <td>2</td>\n",
       "      <td>0</td>\n",
       "      <td>2304.059000</td>\n",
       "      <td>2420.393000</td>\n",
       "      <td>2414.072000</td>\n",
       "      <td>2453.936000</td>\n",
       "      <td>2531.754400</td>\n",
       "    </tr>\n",
       "    <tr>\n",
       "      <th>906</th>\n",
       "      <td>24.3500</td>\n",
       "      <td>73.7477</td>\n",
       "      <td>1</td>\n",
       "      <td>2</td>\n",
       "      <td>2</td>\n",
       "      <td>0</td>\n",
       "      <td>2304.059000</td>\n",
       "      <td>2420.393000</td>\n",
       "      <td>2414.072000</td>\n",
       "      <td>2453.936000</td>\n",
       "      <td>2531.754400</td>\n",
       "    </tr>\n",
       "    <tr>\n",
       "      <th>907</th>\n",
       "      <td>9.9344</td>\n",
       "      <td>77.4768</td>\n",
       "      <td>7</td>\n",
       "      <td>2</td>\n",
       "      <td>2</td>\n",
       "      <td>0</td>\n",
       "      <td>2304.059000</td>\n",
       "      <td>2420.393000</td>\n",
       "      <td>2414.072000</td>\n",
       "      <td>2453.936000</td>\n",
       "      <td>2531.754400</td>\n",
       "    </tr>\n",
       "  </tbody>\n",
       "</table>\n",
       "<p>908 rows × 11 columns</p>\n",
       "</div>"
      ],
      "text/plain": [
       "     latitude  longitude  primary_fuel  other_fuel1  geolocation_source  \\\n",
       "0     28.1839    73.2407             6            2                   1   \n",
       "1     24.7663    74.6090             1            2                   2   \n",
       "2     21.9038    69.3732             7            2                   2   \n",
       "3     23.8712    91.3602             2            2                   2   \n",
       "4     21.9603    82.4091             1            2                   2   \n",
       "..        ...        ...           ...          ...                 ...   \n",
       "903   16.2949    77.3568             1            2                   2   \n",
       "904   12.8932    78.1654             6            2                   0   \n",
       "905   15.2758    75.5811             7            2                   2   \n",
       "906   24.3500    73.7477             1            2                   2   \n",
       "907    9.9344    77.4768             7            2                   2   \n",
       "\n",
       "     year_of_capacity_data  generation_gwh_2013  generation_gwh_2014  \\\n",
       "0                        0          2304.059000          2420.393000   \n",
       "1                        0          2304.059000          2420.393000   \n",
       "2                        0          2304.059000          2420.393000   \n",
       "3                        0           631.777928           617.789264   \n",
       "4                        0          1668.290000          3035.550000   \n",
       "..                     ...                  ...                  ...   \n",
       "903                      0          2304.059000          2420.393000   \n",
       "904                      0          2304.059000          2420.393000   \n",
       "905                      0          2304.059000          2420.393000   \n",
       "906                      0          2304.059000          2420.393000   \n",
       "907                      0          2304.059000          2420.393000   \n",
       "\n",
       "     generation_gwh_2015  generation_gwh_2016  generation_gwh_2017  \n",
       "0            2414.072000          2453.936000          2531.754400  \n",
       "1            2414.072000          2453.936000          2531.754400  \n",
       "2            2414.072000          2453.936000          2531.754400  \n",
       "3             843.747000           886.004428           663.774500  \n",
       "4            5916.370000          6243.000000          5385.579736  \n",
       "..                   ...                  ...                  ...  \n",
       "903             0.994875           233.596650           865.400000  \n",
       "904          2414.072000          2453.936000          2531.754400  \n",
       "905          2414.072000          2453.936000          2531.754400  \n",
       "906          2414.072000          2453.936000          2531.754400  \n",
       "907          2414.072000          2453.936000          2531.754400  \n",
       "\n",
       "[908 rows x 11 columns]"
      ]
     },
     "execution_count": 47,
     "metadata": {},
     "output_type": "execute_result"
    }
   ],
   "source": [
    "x=df.iloc[:,1:-1]  #independent variables.\n",
    "x"
   ]
  },
  {
   "cell_type": "code",
   "execution_count": 48,
   "id": "322f5d30",
   "metadata": {},
   "outputs": [
    {
     "data": {
      "text/plain": [
       "0         2.5\n",
       "1        98.0\n",
       "2        39.2\n",
       "3       135.0\n",
       "4      1800.0\n",
       "        ...  \n",
       "903    1600.0\n",
       "904       3.0\n",
       "905      25.5\n",
       "906      80.0\n",
       "907      16.5\n",
       "Name: capacity_mw, Length: 908, dtype: float64"
      ]
     },
     "execution_count": 48,
     "metadata": {},
     "output_type": "execute_result"
    }
   ],
   "source": [
    "y=df.iloc[:,0]  #dependent variable.\n",
    "y"
   ]
  },
  {
   "cell_type": "markdown",
   "id": "e77124ad",
   "metadata": {},
   "source": [
    "## Removing Skewness and Standard Scaling"
   ]
  },
  {
   "cell_type": "code",
   "execution_count": 49,
   "id": "11625c9b",
   "metadata": {},
   "outputs": [
    {
     "data": {
      "text/plain": [
       "array([[ 1.15762116, -0.95313819,  1.17102468, ...,  0.31414137,\n",
       "         0.31812954,  0.31588978],\n",
       "       [ 0.57870047, -0.54498048, -0.99559029, ...,  0.31414137,\n",
       "         0.31812954,  0.31588978],\n",
       "       [ 0.10056497, -2.38054685,  1.44103901, ...,  0.31414137,\n",
       "         0.31812954,  0.31588978],\n",
       "       ...,\n",
       "       [-0.97864485, -0.28028656,  1.44103901, ...,  0.31414137,\n",
       "         0.31812954,  0.31588978],\n",
       "       [ 0.5087646 , -0.79677568, -0.99559029, ...,  0.31414137,\n",
       "         0.31812954,  0.31588978],\n",
       "       [-1.81231366,  0.18267791,  1.44103901, ...,  0.31414137,\n",
       "         0.31812954,  0.31588978]])"
      ]
     },
     "execution_count": 49,
     "metadata": {},
     "output_type": "execute_result"
    }
   ],
   "source": [
    "from sklearn.preprocessing import power_transform\n",
    "x=power_transform(x,method='yeo-johnson')  #removing skewness.\n",
    "x\n"
   ]
  },
  {
   "cell_type": "code",
   "execution_count": 50,
   "id": "e7aad2fb",
   "metadata": {},
   "outputs": [
    {
     "data": {
      "text/plain": [
       "array([[ 1.15762116, -0.95313848,  1.17102468, ...,  0.31414137,\n",
       "         0.31812954,  0.31588978],\n",
       "       [ 0.57870047, -0.54498077, -0.99559029, ...,  0.31414137,\n",
       "         0.31812954,  0.31588978],\n",
       "       [ 0.10056497, -2.38054713,  1.44103901, ...,  0.31414137,\n",
       "         0.31812954,  0.31588978],\n",
       "       ...,\n",
       "       [-0.97864485, -0.28028684,  1.44103901, ...,  0.31414137,\n",
       "         0.31812954,  0.31588978],\n",
       "       [ 0.5087646 , -0.79677597, -0.99559029, ...,  0.31414137,\n",
       "         0.31812954,  0.31588978],\n",
       "       [-1.81231366,  0.18267763,  1.44103901, ...,  0.31414137,\n",
       "         0.31812954,  0.31588978]])"
      ]
     },
     "execution_count": 50,
     "metadata": {},
     "output_type": "execute_result"
    }
   ],
   "source": [
    "from sklearn.preprocessing import StandardScaler\n",
    "mn=StandardScaler()  #bringing all the columns on the same scale.\n",
    "x=mn.fit_transform(x)\n",
    "x"
   ]
  },
  {
   "cell_type": "markdown",
   "id": "ee123013",
   "metadata": {},
   "source": [
    "## Performing Algorithms"
   ]
  },
  {
   "cell_type": "code",
   "execution_count": 51,
   "id": "428ee98d",
   "metadata": {},
   "outputs": [],
   "source": [
    "from sklearn.linear_model import LinearRegression,Lasso,Ridge\n",
    "from sklearn.metrics import mean_squared_error, mean_absolute_error,r2_score\n",
    "from sklearn.model_selection import train_test_split,cross_val_score,GridSearchCV\n",
    "from sklearn.svm import SVR\n",
    "from sklearn.neighbors import KNeighborsRegressor"
   ]
  },
  {
   "cell_type": "code",
   "execution_count": 52,
   "id": "4ad9ecd4",
   "metadata": {},
   "outputs": [
    {
     "name": "stdout",
     "output_type": "stream",
     "text": [
      "MSE is  300912.75 at random state 32\n"
     ]
    }
   ],
   "source": [
    "minmse=0    #finding the best Random State\n",
    "maxrs=0\n",
    "for i in range(1,100):\n",
    "    x_train,x_test,y_train,y_test=train_test_split(x,y,test_size=.30,random_state=i)\n",
    "    lr=LinearRegression()\n",
    "    lr.fit(x_train,y_train)\n",
    "    pred=lr.predict(x_test)\n",
    "    err=mean_squared_error(y_test,pred)\n",
    "    if err>minmse:\n",
    "        minmse=err\n",
    "        maxrs=i\n",
    "print(\"MSE is \",round(minmse,2),\"at random state\",maxrs)"
   ]
  },
  {
   "cell_type": "code",
   "execution_count": 53,
   "id": "484b5261",
   "metadata": {},
   "outputs": [],
   "source": [
    "x_train1,x_test1,y_train1,y_test1=train_test_split(x,y,test_size=.30,random_state=32)"
   ]
  },
  {
   "cell_type": "markdown",
   "id": "211dbe8c",
   "metadata": {},
   "source": [
    "# Linear Regression"
   ]
  },
  {
   "cell_type": "code",
   "execution_count": 54,
   "id": "85246dab",
   "metadata": {},
   "outputs": [
    {
     "name": "stdout",
     "output_type": "stream",
     "text": [
      "Cofficient is: [ 3.08751245e+01  1.03137447e+02 -1.04874386e+02 -2.59727311e+01\n",
      "  7.26898517e+01 -1.25055521e-12  3.69936757e+01  3.70382391e+00\n",
      " -4.08392924e+01  7.38175322e+01  2.27326310e+02]\n",
      "Intercept is:  306.39368718153867\n",
      "Score is:  43.97435067254326\n"
     ]
    }
   ],
   "source": [
    "lr=LinearRegression()\n",
    "lr.fit(x_train1,y_train1)\n",
    "print(\"Cofficient is:\",lr.coef_)\n",
    "print(\"Intercept is: \",lr.intercept_)\n",
    "sco=lr.score(x_train1,y_train1)\n",
    "sco1=sco*100\n",
    "print(\"Score is: \",sco1)\n",
    "pred=lr.predict(x_test1)"
   ]
  },
  {
   "cell_type": "code",
   "execution_count": 55,
   "id": "7e8a2f61",
   "metadata": {},
   "outputs": [
    {
     "name": "stdout",
     "output_type": "stream",
     "text": [
      "Mean Squared Error is:  300912.75\n",
      "Mean Absolute Error is:  364.79\n",
      "R2 Score is:  0.35\n",
      "rsme 548.5551450907908\n"
     ]
    }
   ],
   "source": [
    "mse=mean_squared_error(y_test1,pred)\n",
    "print(\"Mean Squared Error is: \",round(mse,2))\n",
    "abse=mean_absolute_error(y_test1,pred)\n",
    "print(\"Mean Absolute Error is: \",round(abse,2))\n",
    "scr=r2_score(y_test1,pred)\n",
    "print(\"R2 Score is: \",round(scr,2))\n",
    "print(\"rsme\",np.sqrt(mse))\n"
   ]
  },
  {
   "cell_type": "markdown",
   "id": "e584e4b6",
   "metadata": {},
   "source": [
    "# Support Vector Regressor"
   ]
  },
  {
   "cell_type": "code",
   "execution_count": 56,
   "id": "2d633ccf",
   "metadata": {},
   "outputs": [
    {
     "name": "stdout",
     "output_type": "stream",
     "text": [
      "Coffecient is:  [[ 12.5825755   14.79018272 -56.92569481  -5.01232817  18.79539553\n",
      "    0.          10.577466     9.40930597  -4.47568167   3.42445506\n",
      "   14.96396757]]\n",
      "Intercept is:  [121.81636283]\n",
      "Score is:  0.03778522214325086\n",
      "Mean Squared Error is: 478202.42\n",
      "Mean Absolute Error is: 344.77\n",
      "R2 Score is: -0.03\n",
      "RSME 691.5218176442888\n"
     ]
    }
   ],
   "source": [
    "svr1=SVR(kernel=\"linear\")\n",
    "svr1.fit(x_train1,y_train1)\n",
    "sw2=svr1.score(x_train1,y_train1)\n",
    "print(\"Coffecient is: \",svr1.coef_)\n",
    "print(\"Intercept is: \",svr1.intercept_)\n",
    "print(\"Score is: \",sw2)\n",
    "pred=svr1.predict(x_test1)\n",
    "print(\"Mean Squared Error is:\",round(mean_squared_error(y_test1,pred),2))\n",
    "print(\"Mean Absolute Error is:\",round(mean_absolute_error(y_test1,pred),2))\n",
    "print(\"R2 Score is:\",round(r2_score(y_test1,pred),2))\n",
    "print(\"RSME\",np.sqrt(mean_squared_error(y_test1,pred)))"
   ]
  },
  {
   "cell_type": "markdown",
   "id": "a1d7754d",
   "metadata": {},
   "source": [
    "# Ridge Regression"
   ]
  },
  {
   "cell_type": "code",
   "execution_count": 57,
   "id": "8b020831",
   "metadata": {},
   "outputs": [
    {
     "name": "stdout",
     "output_type": "stream",
     "text": [
      "Coffecient is:  [  30.87505173  103.13734409 -104.87433629  -25.97264259   72.68976568\n",
      "    0.           36.9933107     3.70433551  -40.83819673   73.8181158\n",
      "  227.32428205]\n",
      "Intercept is:  306.39369366444265\n",
      "Score is:  0.43974350672260154\n",
      "Mean Squared Error is: 300912.6\n",
      "Mean Absolute Error is: 364.79\n",
      "R2 Score is: 0.35\n",
      "RSME 548.5550124967824\n"
     ]
    }
   ],
   "source": [
    "lt1=Ridge(alpha=0.001) #choosing the best alpha\n",
    "lt1.fit(x_train1,y_train1)\n",
    "sw1=lt1.score(x_train1,y_train1)\n",
    "print(\"Coffecient is: \",lt1.coef_)\n",
    "print(\"Intercept is: \",lt1.intercept_)\n",
    "print(\"Score is: \",sw1)\n",
    "pred=lt1.predict(x_test1)\n",
    "print(\"Mean Squared Error is:\",round(mean_squared_error(y_test1,pred),2))\n",
    "print(\"Mean Absolute Error is:\",round(mean_absolute_error(y_test1,pred),2))\n",
    "print(\"R2 Score is:\",round(r2_score(y_test1,pred),2))\n",
    "print(\"RSME\",np.sqrt(mean_squared_error(y_test1,pred)))"
   ]
  },
  {
   "cell_type": "markdown",
   "id": "4e082f65",
   "metadata": {},
   "source": [
    "# Lasso Regression"
   ]
  },
  {
   "cell_type": "code",
   "execution_count": 58,
   "id": "6f028810",
   "metadata": {},
   "outputs": [
    {
     "name": "stdout",
     "output_type": "stream",
     "text": [
      "Coffecient is:  [  30.87430034  103.1371742  -104.87429646  -25.97162164   72.68888205\n",
      "    0.           36.99310703    3.69815142  -40.81943432   73.80069248\n",
      "  227.32849775]\n",
      "Intercept is:  306.3938416557772\n",
      "Score is:  0.4397435065718155\n",
      "Mean Squared Error is: 300911.81\n",
      "Mean Absolute Error is: 364.79\n",
      "R2 Score is: 0.35\n",
      "RSME 548.5542902159658\n"
     ]
    }
   ],
   "source": [
    "ls1=Lasso(alpha=0.001)   #choosing the best alpha\n",
    "ls1.fit(x_train1,y_train1)\n",
    "sw=ls1.score(x_train1,y_train1)\n",
    "print(\"Coffecient is: \",ls1.coef_)\n",
    "print(\"Intercept is: \",ls1.intercept_)\n",
    "print(\"Score is: \",sw)\n",
    "pred=ls1.predict(x_test1)\n",
    "print(\"Mean Squared Error is:\",round(mean_squared_error(y_test1,pred),2))\n",
    "print(\"Mean Absolute Error is:\",round(mean_absolute_error(y_test1,pred),2))\n",
    "print(\"R2 Score is:\",round(r2_score(y_test1,pred),2))\n",
    "print(\"RSME\",np.sqrt(mean_squared_error(y_test1,pred)))"
   ]
  },
  {
   "cell_type": "markdown",
   "id": "bb86d9bb",
   "metadata": {},
   "source": [
    "# KNeighbors Regressor"
   ]
  },
  {
   "cell_type": "code",
   "execution_count": 59,
   "id": "4ce6a9e2",
   "metadata": {},
   "outputs": [
    {
     "name": "stdout",
     "output_type": "stream",
     "text": [
      "Score is:  0.8582621894758793\n",
      "Mean Squared Error is: 121940.98\n",
      "Mean Absolute Error is: 164.04\n",
      "R2 Score is: 0.74\n",
      "RSME 349.2004826104443\n"
     ]
    }
   ],
   "source": [
    "knr=KNeighborsRegressor()\n",
    "knr.fit(x_train1,y_train1)\n",
    "sw=knr.score(x_train1,y_train1)\n",
    "#print(\"Coffecient is: \",knr.coef_)\n",
    "#print(\"Intercept is: \",knr.intercept_)\n",
    "print(\"Score is: \",sw)\n",
    "pred=knr.predict(x_test1)\n",
    "print(\"Mean Squared Error is:\",round(mean_squared_error(y_test1,pred),2))\n",
    "print(\"Mean Absolute Error is:\",round(mean_absolute_error(y_test1,pred),2))\n",
    "print(\"R2 Score is:\",round(r2_score(y_test1,pred),2))\n",
    "print(\"RSME\",np.sqrt(mean_squared_error(y_test1,pred)))"
   ]
  },
  {
   "cell_type": "markdown",
   "id": "d94a303f",
   "metadata": {},
   "source": [
    "# Cross Validation Scores"
   ]
  },
  {
   "cell_type": "code",
   "execution_count": 60,
   "id": "8885d85c",
   "metadata": {},
   "outputs": [],
   "source": [
    "def rmse_cv(model,x_train1,y_train1):\n",
    "    mse_cv_score=-cross_val_score(model,x_train1,y_train1,cv=5,scoring=\"neg_mean_squared_error\",n_jobs=-1)\n",
    "    rmse_cv=np.sqrt(mse_cv_score).mean()\n",
    "    return(rmse_cv)"
   ]
  },
  {
   "cell_type": "code",
   "execution_count": 61,
   "id": "3e34b4c9",
   "metadata": {},
   "outputs": [
    {
     "data": {
      "text/plain": [
       "411.54226247318155"
      ]
     },
     "execution_count": 61,
     "metadata": {},
     "output_type": "execute_result"
    }
   ],
   "source": [
    "rmse_cv(lr,x_train1,y_train1)"
   ]
  },
  {
   "cell_type": "code",
   "execution_count": 62,
   "id": "8d9bbc3b",
   "metadata": {},
   "outputs": [
    {
     "data": {
      "text/plain": [
       "511.9028202652374"
      ]
     },
     "execution_count": 62,
     "metadata": {},
     "output_type": "execute_result"
    }
   ],
   "source": [
    "rmse_cv(svr1,x_train1,y_train1)"
   ]
  },
  {
   "cell_type": "code",
   "execution_count": 63,
   "id": "981cb1ef",
   "metadata": {},
   "outputs": [
    {
     "data": {
      "text/plain": [
       "411.54193864114006"
      ]
     },
     "execution_count": 63,
     "metadata": {},
     "output_type": "execute_result"
    }
   ],
   "source": [
    "rmse_cv(lt1,x_train1,y_train1)"
   ]
  },
  {
   "cell_type": "code",
   "execution_count": 64,
   "id": "09c83009",
   "metadata": {},
   "outputs": [
    {
     "data": {
      "text/plain": [
       "411.541289940532"
      ]
     },
     "execution_count": 64,
     "metadata": {},
     "output_type": "execute_result"
    }
   ],
   "source": [
    "rmse_cv(ls1,x_train1,y_train1)"
   ]
  },
  {
   "cell_type": "code",
   "execution_count": 65,
   "id": "2927ad80",
   "metadata": {},
   "outputs": [
    {
     "data": {
      "text/plain": [
       "262.6966212990084"
      ]
     },
     "execution_count": 65,
     "metadata": {},
     "output_type": "execute_result"
    }
   ],
   "source": [
    "rmse_cv(knr,x_train1,y_train1)"
   ]
  },
  {
   "cell_type": "markdown",
   "id": "22ef1810",
   "metadata": {},
   "source": [
    "On comparing the RMSE of the above models with the cross validated RMSE of the models we can see that the RMSE is least in Kneighbors Regressor and the R2 score is also good as compared to other models. We will choose KNeighbors Regressor as the best model."
   ]
  },
  {
   "cell_type": "markdown",
   "id": "d7fbfba6",
   "metadata": {},
   "source": [
    "# Hyper Parameter Tuning using GridSearchCV"
   ]
  },
  {
   "cell_type": "code",
   "execution_count": 57,
   "id": "adeffb12",
   "metadata": {},
   "outputs": [],
   "source": [
    "parameter={\"weights\":['uniform','distance'],\n",
    "           \"n_neighbors\":np.arange(2,20),\n",
    "          \"algorithm\":[\"auto\",\"ball_tree\",\"brute\",\"kd_tree\"],\n",
    "          \"leaf_size\":np.arange(2,20)}"
   ]
  },
  {
   "cell_type": "code",
   "execution_count": 58,
   "id": "cebf8763",
   "metadata": {},
   "outputs": [],
   "source": [
    "gcv=GridSearchCV(KNeighborsRegressor(),parameter,cv=5)"
   ]
  },
  {
   "cell_type": "code",
   "execution_count": 59,
   "id": "a7fa260b",
   "metadata": {},
   "outputs": [
    {
     "data": {
      "text/plain": [
       "GridSearchCV(cv=5, estimator=KNeighborsRegressor(),\n",
       "             param_grid={'algorithm': ['auto', 'ball_tree', 'brute', 'kd_tree'],\n",
       "                         'leaf_size': array([ 2,  3,  4,  5,  6,  7,  8,  9, 10, 11, 12, 13, 14, 15, 16, 17, 18,\n",
       "       19]),\n",
       "                         'n_neighbors': array([ 2,  3,  4,  5,  6,  7,  8,  9, 10, 11, 12, 13, 14, 15, 16, 17, 18,\n",
       "       19]),\n",
       "                         'weights': ['uniform', 'distance']})"
      ]
     },
     "execution_count": 59,
     "metadata": {},
     "output_type": "execute_result"
    }
   ],
   "source": [
    "gcv.fit(x_train1,y_train1)"
   ]
  },
  {
   "cell_type": "code",
   "execution_count": 60,
   "id": "cea380de",
   "metadata": {},
   "outputs": [
    {
     "data": {
      "text/plain": [
       "{'algorithm': 'ball_tree',\n",
       " 'leaf_size': 2,\n",
       " 'n_neighbors': 2,\n",
       " 'weights': 'distance'}"
      ]
     },
     "execution_count": 60,
     "metadata": {},
     "output_type": "execute_result"
    }
   ],
   "source": [
    "gcv.best_params_ "
   ]
  },
  {
   "cell_type": "markdown",
   "id": "a7d08452",
   "metadata": {},
   "source": [
    "# Final Model"
   ]
  },
  {
   "cell_type": "code",
   "execution_count": 66,
   "id": "1a10c124",
   "metadata": {},
   "outputs": [
    {
     "name": "stdout",
     "output_type": "stream",
     "text": [
      "Score is:  0.999918126260051\n",
      "Mean Squared Error is: 115591.88\n",
      "Mean Absolute Error is: 167.37\n",
      "R2 Score is: 0.75\n",
      "RSME 339.98805495876485\n"
     ]
    }
   ],
   "source": [
    "knr=KNeighborsRegressor(algorithm='ball_tree',leaf_size=2,n_neighbors=2,weights='distance')\n",
    "knr.fit(x_train1,y_train1)\n",
    "sw=knr.score(x_train1,y_train1)\n",
    "#print(\"Coffecient is: \",knr.coef_)\n",
    "#print(\"Intercept is: \",knr.intercept_)\n",
    "print(\"Score is: \",sw)\n",
    "pred=knr.predict(x_test1)\n",
    "print(\"Mean Squared Error is:\",round(mean_squared_error(y_test1,pred),2))\n",
    "print(\"Mean Absolute Error is:\",round(mean_absolute_error(y_test1,pred),2))\n",
    "print(\"R2 Score is:\",round(r2_score(y_test1,pred),2))\n",
    "print(\"RSME\",np.sqrt(mean_squared_error(y_test1,pred)))"
   ]
  },
  {
   "cell_type": "markdown",
   "id": "7c489ead",
   "metadata": {},
   "source": [
    "# Saving the Model"
   ]
  },
  {
   "cell_type": "code",
   "execution_count": 67,
   "id": "25c0eb9a",
   "metadata": {},
   "outputs": [
    {
     "data": {
      "text/plain": [
       "['globalpower3.pkl']"
      ]
     },
     "execution_count": 67,
     "metadata": {},
     "output_type": "execute_result"
    }
   ],
   "source": [
    "import joblib\n",
    "joblib.dump(knr,\"globalpower3.pkl\")"
   ]
  },
  {
   "cell_type": "markdown",
   "id": "a5ec1f3b",
   "metadata": {},
   "source": [
    "## Dividing the dataset into Independent(X) and Dependent(Y) Variable when Primary fuel is dependent variable."
   ]
  },
  {
   "cell_type": "code",
   "execution_count": 55,
   "id": "6f4f9f2b",
   "metadata": {},
   "outputs": [
    {
     "data": {
      "text/html": [
       "<div>\n",
       "<style scoped>\n",
       "    .dataframe tbody tr th:only-of-type {\n",
       "        vertical-align: middle;\n",
       "    }\n",
       "\n",
       "    .dataframe tbody tr th {\n",
       "        vertical-align: top;\n",
       "    }\n",
       "\n",
       "    .dataframe thead th {\n",
       "        text-align: right;\n",
       "    }\n",
       "</style>\n",
       "<table border=\"1\" class=\"dataframe\">\n",
       "  <thead>\n",
       "    <tr style=\"text-align: right;\">\n",
       "      <th></th>\n",
       "      <th>capacity_mw</th>\n",
       "      <th>latitude</th>\n",
       "      <th>longitude</th>\n",
       "      <th>other_fuel1</th>\n",
       "      <th>geolocation_source</th>\n",
       "      <th>year_of_capacity_data</th>\n",
       "      <th>generation_gwh_2013</th>\n",
       "      <th>generation_gwh_2014</th>\n",
       "      <th>generation_gwh_2015</th>\n",
       "      <th>generation_gwh_2016</th>\n",
       "      <th>generation_gwh_2017</th>\n",
       "      <th>generation_data_source</th>\n",
       "    </tr>\n",
       "  </thead>\n",
       "  <tbody>\n",
       "    <tr>\n",
       "      <th>0</th>\n",
       "      <td>2.5</td>\n",
       "      <td>28.1839</td>\n",
       "      <td>73.2407</td>\n",
       "      <td>2</td>\n",
       "      <td>1</td>\n",
       "      <td>0</td>\n",
       "      <td>2304.059000</td>\n",
       "      <td>2420.393000</td>\n",
       "      <td>2414.072000</td>\n",
       "      <td>2453.936000</td>\n",
       "      <td>2531.754400</td>\n",
       "      <td>0</td>\n",
       "    </tr>\n",
       "    <tr>\n",
       "      <th>1</th>\n",
       "      <td>98.0</td>\n",
       "      <td>24.7663</td>\n",
       "      <td>74.6090</td>\n",
       "      <td>2</td>\n",
       "      <td>2</td>\n",
       "      <td>0</td>\n",
       "      <td>2304.059000</td>\n",
       "      <td>2420.393000</td>\n",
       "      <td>2414.072000</td>\n",
       "      <td>2453.936000</td>\n",
       "      <td>2531.754400</td>\n",
       "      <td>0</td>\n",
       "    </tr>\n",
       "    <tr>\n",
       "      <th>2</th>\n",
       "      <td>39.2</td>\n",
       "      <td>21.9038</td>\n",
       "      <td>69.3732</td>\n",
       "      <td>2</td>\n",
       "      <td>2</td>\n",
       "      <td>0</td>\n",
       "      <td>2304.059000</td>\n",
       "      <td>2420.393000</td>\n",
       "      <td>2414.072000</td>\n",
       "      <td>2453.936000</td>\n",
       "      <td>2531.754400</td>\n",
       "      <td>0</td>\n",
       "    </tr>\n",
       "    <tr>\n",
       "      <th>3</th>\n",
       "      <td>135.0</td>\n",
       "      <td>23.8712</td>\n",
       "      <td>91.3602</td>\n",
       "      <td>2</td>\n",
       "      <td>2</td>\n",
       "      <td>0</td>\n",
       "      <td>631.777928</td>\n",
       "      <td>617.789264</td>\n",
       "      <td>843.747000</td>\n",
       "      <td>886.004428</td>\n",
       "      <td>663.774500</td>\n",
       "      <td>0</td>\n",
       "    </tr>\n",
       "    <tr>\n",
       "      <th>4</th>\n",
       "      <td>1800.0</td>\n",
       "      <td>21.9603</td>\n",
       "      <td>82.4091</td>\n",
       "      <td>2</td>\n",
       "      <td>2</td>\n",
       "      <td>0</td>\n",
       "      <td>1668.290000</td>\n",
       "      <td>3035.550000</td>\n",
       "      <td>5916.370000</td>\n",
       "      <td>6243.000000</td>\n",
       "      <td>5385.579736</td>\n",
       "      <td>0</td>\n",
       "    </tr>\n",
       "    <tr>\n",
       "      <th>...</th>\n",
       "      <td>...</td>\n",
       "      <td>...</td>\n",
       "      <td>...</td>\n",
       "      <td>...</td>\n",
       "      <td>...</td>\n",
       "      <td>...</td>\n",
       "      <td>...</td>\n",
       "      <td>...</td>\n",
       "      <td>...</td>\n",
       "      <td>...</td>\n",
       "      <td>...</td>\n",
       "      <td>...</td>\n",
       "    </tr>\n",
       "    <tr>\n",
       "      <th>903</th>\n",
       "      <td>1600.0</td>\n",
       "      <td>16.2949</td>\n",
       "      <td>77.3568</td>\n",
       "      <td>2</td>\n",
       "      <td>2</td>\n",
       "      <td>0</td>\n",
       "      <td>2304.059000</td>\n",
       "      <td>2420.393000</td>\n",
       "      <td>0.994875</td>\n",
       "      <td>233.596650</td>\n",
       "      <td>865.400000</td>\n",
       "      <td>0</td>\n",
       "    </tr>\n",
       "    <tr>\n",
       "      <th>904</th>\n",
       "      <td>3.0</td>\n",
       "      <td>12.8932</td>\n",
       "      <td>78.1654</td>\n",
       "      <td>2</td>\n",
       "      <td>0</td>\n",
       "      <td>0</td>\n",
       "      <td>2304.059000</td>\n",
       "      <td>2420.393000</td>\n",
       "      <td>2414.072000</td>\n",
       "      <td>2453.936000</td>\n",
       "      <td>2531.754400</td>\n",
       "      <td>0</td>\n",
       "    </tr>\n",
       "    <tr>\n",
       "      <th>905</th>\n",
       "      <td>25.5</td>\n",
       "      <td>15.2758</td>\n",
       "      <td>75.5811</td>\n",
       "      <td>2</td>\n",
       "      <td>2</td>\n",
       "      <td>0</td>\n",
       "      <td>2304.059000</td>\n",
       "      <td>2420.393000</td>\n",
       "      <td>2414.072000</td>\n",
       "      <td>2453.936000</td>\n",
       "      <td>2531.754400</td>\n",
       "      <td>0</td>\n",
       "    </tr>\n",
       "    <tr>\n",
       "      <th>906</th>\n",
       "      <td>80.0</td>\n",
       "      <td>24.3500</td>\n",
       "      <td>73.7477</td>\n",
       "      <td>2</td>\n",
       "      <td>2</td>\n",
       "      <td>0</td>\n",
       "      <td>2304.059000</td>\n",
       "      <td>2420.393000</td>\n",
       "      <td>2414.072000</td>\n",
       "      <td>2453.936000</td>\n",
       "      <td>2531.754400</td>\n",
       "      <td>0</td>\n",
       "    </tr>\n",
       "    <tr>\n",
       "      <th>907</th>\n",
       "      <td>16.5</td>\n",
       "      <td>9.9344</td>\n",
       "      <td>77.4768</td>\n",
       "      <td>2</td>\n",
       "      <td>2</td>\n",
       "      <td>0</td>\n",
       "      <td>2304.059000</td>\n",
       "      <td>2420.393000</td>\n",
       "      <td>2414.072000</td>\n",
       "      <td>2453.936000</td>\n",
       "      <td>2531.754400</td>\n",
       "      <td>0</td>\n",
       "    </tr>\n",
       "  </tbody>\n",
       "</table>\n",
       "<p>908 rows × 12 columns</p>\n",
       "</div>"
      ],
      "text/plain": [
       "     capacity_mw  latitude  longitude  other_fuel1  geolocation_source  \\\n",
       "0            2.5   28.1839    73.2407            2                   1   \n",
       "1           98.0   24.7663    74.6090            2                   2   \n",
       "2           39.2   21.9038    69.3732            2                   2   \n",
       "3          135.0   23.8712    91.3602            2                   2   \n",
       "4         1800.0   21.9603    82.4091            2                   2   \n",
       "..           ...       ...        ...          ...                 ...   \n",
       "903       1600.0   16.2949    77.3568            2                   2   \n",
       "904          3.0   12.8932    78.1654            2                   0   \n",
       "905         25.5   15.2758    75.5811            2                   2   \n",
       "906         80.0   24.3500    73.7477            2                   2   \n",
       "907         16.5    9.9344    77.4768            2                   2   \n",
       "\n",
       "     year_of_capacity_data  generation_gwh_2013  generation_gwh_2014  \\\n",
       "0                        0          2304.059000          2420.393000   \n",
       "1                        0          2304.059000          2420.393000   \n",
       "2                        0          2304.059000          2420.393000   \n",
       "3                        0           631.777928           617.789264   \n",
       "4                        0          1668.290000          3035.550000   \n",
       "..                     ...                  ...                  ...   \n",
       "903                      0          2304.059000          2420.393000   \n",
       "904                      0          2304.059000          2420.393000   \n",
       "905                      0          2304.059000          2420.393000   \n",
       "906                      0          2304.059000          2420.393000   \n",
       "907                      0          2304.059000          2420.393000   \n",
       "\n",
       "     generation_gwh_2015  generation_gwh_2016  generation_gwh_2017  \\\n",
       "0            2414.072000          2453.936000          2531.754400   \n",
       "1            2414.072000          2453.936000          2531.754400   \n",
       "2            2414.072000          2453.936000          2531.754400   \n",
       "3             843.747000           886.004428           663.774500   \n",
       "4            5916.370000          6243.000000          5385.579736   \n",
       "..                   ...                  ...                  ...   \n",
       "903             0.994875           233.596650           865.400000   \n",
       "904          2414.072000          2453.936000          2531.754400   \n",
       "905          2414.072000          2453.936000          2531.754400   \n",
       "906          2414.072000          2453.936000          2531.754400   \n",
       "907          2414.072000          2453.936000          2531.754400   \n",
       "\n",
       "     generation_data_source  \n",
       "0                         0  \n",
       "1                         0  \n",
       "2                         0  \n",
       "3                         0  \n",
       "4                         0  \n",
       "..                      ...  \n",
       "903                       0  \n",
       "904                       0  \n",
       "905                       0  \n",
       "906                       0  \n",
       "907                       0  \n",
       "\n",
       "[908 rows x 12 columns]"
      ]
     },
     "execution_count": 55,
     "metadata": {},
     "output_type": "execute_result"
    }
   ],
   "source": [
    "x_new=df.drop('primary_fuel',axis=1) #independent variables\n",
    "x_new"
   ]
  },
  {
   "cell_type": "code",
   "execution_count": 56,
   "id": "62a21c0d",
   "metadata": {},
   "outputs": [
    {
     "data": {
      "text/plain": [
       "0      6\n",
       "1      1\n",
       "2      7\n",
       "3      2\n",
       "4      1\n",
       "      ..\n",
       "903    1\n",
       "904    6\n",
       "905    7\n",
       "906    1\n",
       "907    7\n",
       "Name: primary_fuel, Length: 908, dtype: int32"
      ]
     },
     "execution_count": 56,
     "metadata": {},
     "output_type": "execute_result"
    }
   ],
   "source": [
    "y_new=df['primary_fuel']  #dependent variables.\n",
    "y_new"
   ]
  },
  {
   "cell_type": "code",
   "execution_count": 57,
   "id": "42d6348a",
   "metadata": {},
   "outputs": [
    {
     "data": {
      "text/plain": [
       "1    259\n",
       "3    250\n",
       "6    127\n",
       "7    123\n",
       "2     69\n",
       "0     50\n",
       "5     21\n",
       "4      9\n",
       "Name: primary_fuel, dtype: int64"
      ]
     },
     "execution_count": 57,
     "metadata": {},
     "output_type": "execute_result"
    }
   ],
   "source": [
    "y_new.value_counts()"
   ]
  },
  {
   "cell_type": "markdown",
   "id": "48e96a29",
   "metadata": {},
   "source": [
    "## Removing Skewness and Standard Scaling"
   ]
  },
  {
   "cell_type": "code",
   "execution_count": 58,
   "id": "a144e7fc",
   "metadata": {},
   "outputs": [
    {
     "data": {
      "text/plain": [
       "array([[ 1.15762116, -0.95313819,  1.17102468, ...,  0.31414137,\n",
       "         0.31812954,  0.31588978],\n",
       "       [ 0.57870047, -0.54498048, -0.99559029, ...,  0.31414137,\n",
       "         0.31812954,  0.31588978],\n",
       "       [ 0.10056497, -2.38054685,  1.44103901, ...,  0.31414137,\n",
       "         0.31812954,  0.31588978],\n",
       "       ...,\n",
       "       [-0.97864485, -0.28028656,  1.44103901, ...,  0.31414137,\n",
       "         0.31812954,  0.31588978],\n",
       "       [ 0.5087646 , -0.79677568, -0.99559029, ...,  0.31414137,\n",
       "         0.31812954,  0.31588978],\n",
       "       [-1.81231366,  0.18267791,  1.44103901, ...,  0.31414137,\n",
       "         0.31812954,  0.31588978]])"
      ]
     },
     "execution_count": 58,
     "metadata": {},
     "output_type": "execute_result"
    }
   ],
   "source": [
    "from sklearn.preprocessing import power_transform\n",
    "x_new=power_transform(x,method='yeo-johnson')   #removing the skewness.\n",
    "x_new\n"
   ]
  },
  {
   "cell_type": "code",
   "execution_count": 59,
   "id": "1ab5b62e",
   "metadata": {},
   "outputs": [
    {
     "data": {
      "text/plain": [
       "array([[ 1.14839767e+00, -8.80337123e-01,  1.22541756e+00, ...,\n",
       "        -6.11406969e-08, -4.88230171e-08, -9.64484447e-09],\n",
       "       [ 5.86731853e-01, -5.93996071e-01, -9.67485760e-01, ...,\n",
       "        -6.11406969e-08, -4.88230171e-08, -9.64484447e-09],\n",
       "       [ 1.16293997e-01, -1.68968012e+00,  1.66399822e+00, ...,\n",
       "        -6.11406969e-08, -4.88230171e-08, -9.64484447e-09],\n",
       "       ...,\n",
       "       [-9.72985341e-01, -3.90566898e-01,  1.66399822e+00, ...,\n",
       "        -6.11406969e-08, -4.88230171e-08, -9.64484447e-09],\n",
       "       [ 5.18314986e-01, -7.74238378e-01, -9.67485760e-01, ...,\n",
       "        -6.11406969e-08, -4.88230171e-08, -9.64484447e-09],\n",
       "       [-1.85081827e+00,  6.14196216e-03,  1.66399822e+00, ...,\n",
       "        -6.11406969e-08, -4.88230171e-08, -9.64484447e-09]])"
      ]
     },
     "execution_count": 59,
     "metadata": {},
     "output_type": "execute_result"
    }
   ],
   "source": [
    "from sklearn.preprocessing import StandardScaler  #bringing all the rows on the same scale.\n",
    "mn=StandardScaler()\n",
    "x_new=mn.fit_transform(x)\n",
    "x_new"
   ]
  },
  {
   "cell_type": "markdown",
   "id": "8a6e274c",
   "metadata": {},
   "source": [
    "# SMOTE"
   ]
  },
  {
   "cell_type": "code",
   "execution_count": 60,
   "id": "221bf0a5",
   "metadata": {},
   "outputs": [],
   "source": [
    "from imblearn.over_sampling import SMOTE\n",
    "smt=SMOTE()      #SMOTE to balance the target variable.\n",
    "x_res,y_res=smt.fit_resample(x_new,y_new)"
   ]
  },
  {
   "cell_type": "code",
   "execution_count": 61,
   "id": "c8489fb1",
   "metadata": {},
   "outputs": [
    {
     "data": {
      "text/plain": [
       "0    259\n",
       "2    259\n",
       "4    259\n",
       "6    259\n",
       "1    259\n",
       "3    259\n",
       "5    259\n",
       "7    259\n",
       "Name: primary_fuel, dtype: int64"
      ]
     },
     "execution_count": 61,
     "metadata": {},
     "output_type": "execute_result"
    }
   ],
   "source": [
    "y_res.value_counts()"
   ]
  },
  {
   "cell_type": "markdown",
   "id": "e9ec1afe",
   "metadata": {},
   "source": [
    "# Performing Algorithms"
   ]
  },
  {
   "cell_type": "code",
   "execution_count": 62,
   "id": "a589ab14",
   "metadata": {},
   "outputs": [],
   "source": [
    "from sklearn.model_selection import train_test_split\n",
    "from sklearn.linear_model import LogisticRegression\n",
    "from sklearn.metrics import accuracy_score,classification_report,confusion_matrix\n",
    "from sklearn.tree import DecisionTreeClassifier\n",
    "from sklearn.svm import SVC\n",
    "from sklearn.neighbors import KNeighborsClassifier\n",
    "from sklearn.naive_bayes import MultinomialNB\n",
    "from sklearn.ensemble import RandomForestClassifier\n",
    "from sklearn.model_selection import cross_val_score\n",
    "from sklearn.model_selection import GridSearchCV\n",
    "from sklearn.metrics import roc_curve,roc_auc_score\n",
    "from scipy.stats import zscore\n",
    "from sklearn.ensemble import RandomForestClassifier,AdaBoostClassifier"
   ]
  },
  {
   "cell_type": "code",
   "execution_count": 63,
   "id": "e1f4fffd",
   "metadata": {},
   "outputs": [
    {
     "name": "stdout",
     "output_type": "stream",
     "text": [
      "best accuracy is 0.96 at random state 115\n"
     ]
    }
   ],
   "source": [
    "maxacc=0  #finding the best random state\n",
    "maxrs=0\n",
    "for i in range(1,200):\n",
    "    x_train,x_test,y_train,y_test=train_test_split(x_res,y_res,test_size=.30,random_state=i)\n",
    "    lm=LogisticRegression()\n",
    "    lm.fit(x_train,y_train)\n",
    "    pred=lm.predict(x_test)\n",
    "    accu=accuracy_score(y_test,pred)\n",
    "    if accu>maxacc:\n",
    "        maxacc=accu\n",
    "        maxrs=i\n",
    "print(\"best accuracy is\",round(maxacc,2),\"at random state\",maxrs)"
   ]
  },
  {
   "cell_type": "code",
   "execution_count": 65,
   "id": "c74c4869",
   "metadata": {},
   "outputs": [],
   "source": [
    "x_train1,x_test1,y_train1,y_test1=train_test_split(x_res,y_res,test_size=.30,random_state=115)"
   ]
  },
  {
   "cell_type": "markdown",
   "id": "2f85698b",
   "metadata": {},
   "source": [
    "# Logistic Regression"
   ]
  },
  {
   "cell_type": "code",
   "execution_count": 507,
   "id": "9c95fdda",
   "metadata": {},
   "outputs": [
    {
     "name": "stdout",
     "output_type": "stream",
     "text": [
      "accuracy score 0.98\n",
      "              precision    recall  f1-score   support\n",
      "\n",
      "           0       1.00      1.00      1.00        81\n",
      "           1       0.96      0.98      0.97        82\n",
      "           2       0.97      0.96      0.97        79\n",
      "           3       0.96      0.96      0.96        81\n",
      "           4       0.95      0.96      0.96        81\n",
      "           5       0.99      0.97      0.98        68\n",
      "           6       1.00      0.99      0.99        74\n",
      "           7       0.99      1.00      0.99        76\n",
      "\n",
      "    accuracy                           0.98       622\n",
      "   macro avg       0.98      0.98      0.98       622\n",
      "weighted avg       0.98      0.98      0.98       622\n",
      "\n"
     ]
    }
   ],
   "source": [
    "lm=LogisticRegression()\n",
    "lm.fit(x_train1,y_train1)\n",
    "pred=lm.predict(x_test1)\n",
    "az=accuracy_score(y_test1,pred)\n",
    "print(\"accuracy score\",round(az,2))\n",
    "cl=classification_report(y_test1,pred)\n",
    "print(cl)"
   ]
  },
  {
   "cell_type": "markdown",
   "id": "de97fb66",
   "metadata": {},
   "source": [
    "# Support Vector Classifier"
   ]
  },
  {
   "cell_type": "code",
   "execution_count": 508,
   "id": "2415e577",
   "metadata": {},
   "outputs": [
    {
     "name": "stdout",
     "output_type": "stream",
     "text": [
      "Accuracy score 0.99\n",
      "              precision    recall  f1-score   support\n",
      "\n",
      "           0       1.00      1.00      1.00        81\n",
      "           1       1.00      0.99      0.99        82\n",
      "           2       1.00      1.00      1.00        79\n",
      "           3       1.00      1.00      1.00        81\n",
      "           4       0.98      1.00      0.99        81\n",
      "           5       0.99      0.97      0.98        68\n",
      "           6       1.00      0.99      0.99        74\n",
      "           7       0.99      1.00      0.99        76\n",
      "\n",
      "    accuracy                           0.99       622\n",
      "   macro avg       0.99      0.99      0.99       622\n",
      "weighted avg       0.99      0.99      0.99       622\n",
      "\n"
     ]
    }
   ],
   "source": [
    "svc1=SVC(kernel=\"rbf\",probability=True)\n",
    "svc1.fit(x_train1,y_train1)\n",
    "pred=svc1.predict(x_test1)\n",
    "print(\"Accuracy score\",round(accuracy_score(y_test1,pred),2))\n",
    "print(classification_report(y_test1,pred))"
   ]
  },
  {
   "cell_type": "markdown",
   "id": "c6e509d3",
   "metadata": {},
   "source": [
    "# Decision Tree Classifier"
   ]
  },
  {
   "cell_type": "code",
   "execution_count": 509,
   "id": "47ea127c",
   "metadata": {},
   "outputs": [
    {
     "name": "stdout",
     "output_type": "stream",
     "text": [
      "accuracy score 1.0\n",
      "              precision    recall  f1-score   support\n",
      "\n",
      "           0       1.00      1.00      1.00        81\n",
      "           1       1.00      1.00      1.00        82\n",
      "           2       1.00      1.00      1.00        79\n",
      "           3       1.00      1.00      1.00        81\n",
      "           4       1.00      1.00      1.00        81\n",
      "           5       1.00      1.00      1.00        68\n",
      "           6       1.00      1.00      1.00        74\n",
      "           7       1.00      1.00      1.00        76\n",
      "\n",
      "    accuracy                           1.00       622\n",
      "   macro avg       1.00      1.00      1.00       622\n",
      "weighted avg       1.00      1.00      1.00       622\n",
      "\n"
     ]
    }
   ],
   "source": [
    "dtc=DecisionTreeClassifier()\n",
    "dtc.fit(x_train1,y_train1)\n",
    "pred=dtc.predict(x_test1)\n",
    "az=accuracy_score(y_test1,pred)\n",
    "print(\"accuracy score\",az)\n",
    "cl=classification_report(y_test1,pred)\n",
    "print(cl)"
   ]
  },
  {
   "cell_type": "markdown",
   "id": "1e592d39",
   "metadata": {},
   "source": [
    "# Random Forest Classifier"
   ]
  },
  {
   "cell_type": "code",
   "execution_count": 67,
   "id": "77f946e9",
   "metadata": {},
   "outputs": [
    {
     "name": "stdout",
     "output_type": "stream",
     "text": [
      "accuracy score 0.99\n",
      "              precision    recall  f1-score   support\n",
      "\n",
      "           0       1.00      1.00      1.00        83\n",
      "           1       1.00      0.99      0.99        84\n",
      "           2       0.98      0.98      0.98        83\n",
      "           3       0.96      0.99      0.98        81\n",
      "           4       1.00      1.00      1.00        66\n",
      "           5       1.00      0.99      0.99        77\n",
      "           6       1.00      1.00      1.00        72\n",
      "           7       1.00      1.00      1.00        76\n",
      "\n",
      "    accuracy                           0.99       622\n",
      "   macro avg       0.99      0.99      0.99       622\n",
      "weighted avg       0.99      0.99      0.99       622\n",
      "\n"
     ]
    }
   ],
   "source": [
    "rf=RandomForestClassifier()\n",
    "rf.fit(x_train1,y_train1)\n",
    "pred=rf.predict(x_test1)\n",
    "az=accuracy_score(y_test1,pred)\n",
    "print(\"accuracy score\",round(az,2))\n",
    "cl=classification_report(y_test1,pred)\n",
    "print(cl)"
   ]
  },
  {
   "cell_type": "markdown",
   "id": "8d53b512",
   "metadata": {},
   "source": [
    "# Cross Validation Score"
   ]
  },
  {
   "cell_type": "code",
   "execution_count": 511,
   "id": "0b25d6fa",
   "metadata": {},
   "outputs": [
    {
     "name": "stdout",
     "output_type": "stream",
     "text": [
      "0.96\n"
     ]
    }
   ],
   "source": [
    "print(round(cross_val_score(lm,x_res,y_res,cv=3).mean(),2))"
   ]
  },
  {
   "cell_type": "code",
   "execution_count": 512,
   "id": "c333a515",
   "metadata": {},
   "outputs": [
    {
     "name": "stdout",
     "output_type": "stream",
     "text": [
      "0.99\n"
     ]
    }
   ],
   "source": [
    "print(round(cross_val_score(svc1,x_res,y_res,cv=3).mean(),2))"
   ]
  },
  {
   "cell_type": "code",
   "execution_count": 513,
   "id": "59e81345",
   "metadata": {},
   "outputs": [
    {
     "name": "stdout",
     "output_type": "stream",
     "text": [
      "1.0\n"
     ]
    }
   ],
   "source": [
    "print(round(cross_val_score(dtc,x_res,y_res,cv=3).mean(),2))"
   ]
  },
  {
   "cell_type": "code",
   "execution_count": 68,
   "id": "9bf3d17a",
   "metadata": {},
   "outputs": [
    {
     "name": "stdout",
     "output_type": "stream",
     "text": [
      "0.99\n"
     ]
    }
   ],
   "source": [
    "print(round(cross_val_score(rf,x_res,y_res,cv=3).mean(),2))"
   ]
  },
  {
   "cell_type": "markdown",
   "id": "445bc7d4",
   "metadata": {},
   "source": [
    "On comparing the Accuracy of the models with the cross validated scores of the models we can see that decision tree classifier and random forest classifier both are acting as the best model and we can choose any of them to predict our results. I will saving the model and predicting the results with random forest classifier."
   ]
  },
  {
   "cell_type": "markdown",
   "id": "58e2c922",
   "metadata": {},
   "source": [
    "# AUC_ROC CURVE"
   ]
  },
  {
   "cell_type": "code",
   "execution_count": 70,
   "id": "3e3f5728",
   "metadata": {},
   "outputs": [
    {
     "data": {
      "text/plain": [
       "RandomForestClassifier()"
      ]
     },
     "execution_count": 70,
     "metadata": {},
     "output_type": "execute_result"
    }
   ],
   "source": [
    "rf=RandomForestClassifier()\n",
    "rf.fit(x_train1,y_train1)"
   ]
  },
  {
   "cell_type": "code",
   "execution_count": 71,
   "id": "af7daa4a",
   "metadata": {},
   "outputs": [],
   "source": [
    "probas=rf.predict_proba(x_test1)"
   ]
  },
  {
   "cell_type": "code",
   "execution_count": 72,
   "id": "39d90f06",
   "metadata": {},
   "outputs": [
    {
     "data": {
      "text/plain": [
       "<AxesSubplot:title={'center':'ROC Curves'}, xlabel='False Positive Rate', ylabel='True Positive Rate'>"
      ]
     },
     "execution_count": 72,
     "metadata": {},
     "output_type": "execute_result"
    },
    {
     "data": {
      "image/png": "[encoded data removed]",
      "text/plain": [
       "<Figure size 432x288 with 1 Axes>"
      ]
     },
     "metadata": {
      "needs_background": "light"
     },
     "output_type": "display_data"
    }
   ],
   "source": [
    "import scikitplot as skplt\n",
    "skplt.metrics.plot_roc(y_test1,probas)"
   ]
  },
  {
   "cell_type": "markdown",
   "id": "60e1f1ae",
   "metadata": {},
   "source": [
    "As we know that AUC_ROC curve is for binary classification here we are solving the multiclass classification problem we will use scikitplot library to plot our results where will be having different curves for each class. "
   ]
  },
  {
   "cell_type": "markdown",
   "id": "252f2210",
   "metadata": {},
   "source": [
    "# Hyper Parameter Tuning using GridSearchCV"
   ]
  },
  {
   "cell_type": "code",
   "execution_count": 518,
   "id": "30312665",
   "metadata": {},
   "outputs": [],
   "source": [
    "parameter={\"criterion\":['gini','entropy'],\n",
    "           \"max_depth\":np.arange(2,20),\n",
    "          \"max_features\":[\"auto\",\"log2\",\"sqrt\"],\n",
    "          \"bootstrap\":[True,False],\n",
    "          \"oob_score\":[True,False]}"
   ]
  },
  {
   "cell_type": "code",
   "execution_count": 519,
   "id": "bd776f95",
   "metadata": {},
   "outputs": [],
   "source": [
    "gcv=GridSearchCV(RandomForestClassifier(),parameter,cv=5)"
   ]
  },
  {
   "cell_type": "code",
   "execution_count": 520,
   "id": "9744a845",
   "metadata": {},
   "outputs": [
    {
     "data": {
      "text/plain": [
       "GridSearchCV(cv=5, estimator=RandomForestClassifier(),\n",
       "             param_grid={'bootstrap': [True, False],\n",
       "                         'criterion': ['gini', 'entropy'],\n",
       "                         'max_depth': array([ 2,  3,  4,  5,  6,  7,  8,  9, 10, 11, 12, 13, 14, 15, 16, 17, 18,\n",
       "       19]),\n",
       "                         'max_features': ['auto', 'log2', 'sqrt'],\n",
       "                         'oob_score': [True, False]})"
      ]
     },
     "execution_count": 520,
     "metadata": {},
     "output_type": "execute_result"
    }
   ],
   "source": [
    "gcv.fit(x_train1,y_train1)"
   ]
  },
  {
   "cell_type": "code",
   "execution_count": 521,
   "id": "45ce8fae",
   "metadata": {},
   "outputs": [
    {
     "data": {
      "text/plain": [
       "{'bootstrap': True,\n",
       " 'criterion': 'entropy',\n",
       " 'max_depth': 12,\n",
       " 'max_features': 'sqrt',\n",
       " 'oob_score': False}"
      ]
     },
     "execution_count": 521,
     "metadata": {},
     "output_type": "execute_result"
    }
   ],
   "source": [
    "gcv.best_params_ "
   ]
  },
  {
   "cell_type": "markdown",
   "id": "c1f11f4f",
   "metadata": {},
   "source": [
    "# Final Model"
   ]
  },
  {
   "cell_type": "code",
   "execution_count": 522,
   "id": "a2b134c3",
   "metadata": {},
   "outputs": [
    {
     "name": "stdout",
     "output_type": "stream",
     "text": [
      "Accuracy Score 1.0\n",
      "Classification Report\n",
      "               precision    recall  f1-score   support\n",
      "\n",
      "           0       1.00      1.00      1.00        81\n",
      "           1       1.00      1.00      1.00        82\n",
      "           2       1.00      1.00      1.00        79\n",
      "           3       1.00      1.00      1.00        81\n",
      "           4       1.00      1.00      1.00        81\n",
      "           5       1.00      1.00      1.00        68\n",
      "           6       1.00      1.00      1.00        74\n",
      "           7       1.00      1.00      1.00        76\n",
      "\n",
      "    accuracy                           1.00       622\n",
      "   macro avg       1.00      1.00      1.00       622\n",
      "weighted avg       1.00      1.00      1.00       622\n",
      "\n",
      "[[81  0  0  0  0  0  0  0]\n",
      " [ 0 82  0  0  0  0  0  0]\n",
      " [ 0  0 79  0  0  0  0  0]\n",
      " [ 0  0  0 81  0  0  0  0]\n",
      " [ 0  0  0  0 81  0  0  0]\n",
      " [ 0  0  0  0  0 68  0  0]\n",
      " [ 0  0  0  0  0  0 74  0]\n",
      " [ 0  0  0  0  0  0  0 76]]\n"
     ]
    }
   ],
   "source": [
    "final=RandomForestClassifier(criterion=\"entropy\",max_depth=12,bootstrap=True,max_features=\"sqrt\",oob_score=False)\n",
    "final.fit(x_train1,y_train1)\n",
    "pred=final.predict(x_test1)\n",
    "print(\"Accuracy Score\",accuracy_score(y_test1,pred))\n",
    "print(\"Classification Report\\n\",classification_report(y_test1,pred))\n",
    "print(confusion_matrix(y_test1,pred))"
   ]
  },
  {
   "cell_type": "markdown",
   "id": "139b086b",
   "metadata": {},
   "source": [
    "# Saving the Model"
   ]
  },
  {
   "cell_type": "code",
   "execution_count": 523,
   "id": "c5bf3eac",
   "metadata": {},
   "outputs": [
    {
     "data": {
      "text/plain": [
       "['globalpower.pkl']"
      ]
     },
     "execution_count": 523,
     "metadata": {},
     "output_type": "execute_result"
    }
   ],
   "source": [
    "import joblib\n",
    "joblib.dump(final,\"globalpower.pkl\")"
   ]
  }
 ],
 "metadata": {
  "kernelspec": {
   "display_name": "Python 3",
   "language": "python",
   "name": "python3"
  },
  "language_info": {
   "codemirror_mode": {
    "name": "ipython",
    "version": 3
   },
   "file_extension": ".py",
   "mimetype": "text/x-python",
   "name": "python",
   "nbconvert_exporter": "python",
   "pygments_lexer": "ipython3",
   "version": "3.8.8"
  }
 },
 "nbformat": 4,
 "nbformat_minor": 5
}
