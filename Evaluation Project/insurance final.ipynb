{
 "cells": [
  {
   "cell_type": "code",
   "execution_count": 1,
   "id": "fb4b94df",
   "metadata": {},
   "outputs": [],
   "source": [
    "import pandas as pd\n",
    "import numpy as np\n",
    "import matplotlib.pyplot as plt\n",
    "import seaborn as sns\n",
    "import warnings\n",
    "warnings.filterwarnings(\"ignore\")"
   ]
  },
  {
   "cell_type": "markdown",
   "id": "2f41b68e",
   "metadata": {},
   "source": [
    "# Importing the Dataset"
   ]
  },
  {
   "cell_type": "code",
   "execution_count": 2,
   "id": "854b55b3",
   "metadata": {},
   "outputs": [],
   "source": [
    "df=pd.read_csv(\"Automobile_insurance_fraud.csv\")"
   ]
  },
  {
   "cell_type": "code",
   "execution_count": 3,
   "id": "801b1b44",
   "metadata": {},
   "outputs": [
    {
     "data": {
      "text/html": [
       "<div>\n",
       "<style scoped>\n",
       "    .dataframe tbody tr th:only-of-type {\n",
       "        vertical-align: middle;\n",
       "    }\n",
       "\n",
       "    .dataframe tbody tr th {\n",
       "        vertical-align: top;\n",
       "    }\n",
       "\n",
       "    .dataframe thead th {\n",
       "        text-align: right;\n",
       "    }\n",
       "</style>\n",
       "<table border=\"1\" class=\"dataframe\">\n",
       "  <thead>\n",
       "    <tr style=\"text-align: right;\">\n",
       "      <th></th>\n",
       "      <th>months_as_customer</th>\n",
       "      <th>age</th>\n",
       "      <th>policy_number</th>\n",
       "      <th>policy_bind_date</th>\n",
       "      <th>policy_state</th>\n",
       "      <th>policy_csl</th>\n",
       "      <th>policy_deductable</th>\n",
       "      <th>policy_annual_premium</th>\n",
       "      <th>umbrella_limit</th>\n",
       "      <th>insured_zip</th>\n",
       "      <th>...</th>\n",
       "      <th>police_report_available</th>\n",
       "      <th>total_claim_amount</th>\n",
       "      <th>injury_claim</th>\n",
       "      <th>property_claim</th>\n",
       "      <th>vehicle_claim</th>\n",
       "      <th>auto_make</th>\n",
       "      <th>auto_model</th>\n",
       "      <th>auto_year</th>\n",
       "      <th>fraud_reported</th>\n",
       "      <th>_c39</th>\n",
       "    </tr>\n",
       "  </thead>\n",
       "  <tbody>\n",
       "    <tr>\n",
       "      <th>0</th>\n",
       "      <td>328</td>\n",
       "      <td>48</td>\n",
       "      <td>521585</td>\n",
       "      <td>17-10-2014</td>\n",
       "      <td>OH</td>\n",
       "      <td>250/500</td>\n",
       "      <td>1000</td>\n",
       "      <td>1406.91</td>\n",
       "      <td>0</td>\n",
       "      <td>466132</td>\n",
       "      <td>...</td>\n",
       "      <td>YES</td>\n",
       "      <td>71610</td>\n",
       "      <td>6510</td>\n",
       "      <td>13020</td>\n",
       "      <td>52080</td>\n",
       "      <td>Saab</td>\n",
       "      <td>92x</td>\n",
       "      <td>2004</td>\n",
       "      <td>Y</td>\n",
       "      <td>NaN</td>\n",
       "    </tr>\n",
       "    <tr>\n",
       "      <th>1</th>\n",
       "      <td>228</td>\n",
       "      <td>42</td>\n",
       "      <td>342868</td>\n",
       "      <td>27-06-2006</td>\n",
       "      <td>IN</td>\n",
       "      <td>250/500</td>\n",
       "      <td>2000</td>\n",
       "      <td>1197.22</td>\n",
       "      <td>5000000</td>\n",
       "      <td>468176</td>\n",
       "      <td>...</td>\n",
       "      <td>?</td>\n",
       "      <td>5070</td>\n",
       "      <td>780</td>\n",
       "      <td>780</td>\n",
       "      <td>3510</td>\n",
       "      <td>Mercedes</td>\n",
       "      <td>E400</td>\n",
       "      <td>2007</td>\n",
       "      <td>Y</td>\n",
       "      <td>NaN</td>\n",
       "    </tr>\n",
       "    <tr>\n",
       "      <th>2</th>\n",
       "      <td>134</td>\n",
       "      <td>29</td>\n",
       "      <td>687698</td>\n",
       "      <td>06-09-2000</td>\n",
       "      <td>OH</td>\n",
       "      <td>100/300</td>\n",
       "      <td>2000</td>\n",
       "      <td>1413.14</td>\n",
       "      <td>5000000</td>\n",
       "      <td>430632</td>\n",
       "      <td>...</td>\n",
       "      <td>NO</td>\n",
       "      <td>34650</td>\n",
       "      <td>7700</td>\n",
       "      <td>3850</td>\n",
       "      <td>23100</td>\n",
       "      <td>Dodge</td>\n",
       "      <td>RAM</td>\n",
       "      <td>2007</td>\n",
       "      <td>N</td>\n",
       "      <td>NaN</td>\n",
       "    </tr>\n",
       "    <tr>\n",
       "      <th>3</th>\n",
       "      <td>256</td>\n",
       "      <td>41</td>\n",
       "      <td>227811</td>\n",
       "      <td>25-05-1990</td>\n",
       "      <td>IL</td>\n",
       "      <td>250/500</td>\n",
       "      <td>2000</td>\n",
       "      <td>1415.74</td>\n",
       "      <td>6000000</td>\n",
       "      <td>608117</td>\n",
       "      <td>...</td>\n",
       "      <td>NO</td>\n",
       "      <td>63400</td>\n",
       "      <td>6340</td>\n",
       "      <td>6340</td>\n",
       "      <td>50720</td>\n",
       "      <td>Chevrolet</td>\n",
       "      <td>Tahoe</td>\n",
       "      <td>2014</td>\n",
       "      <td>Y</td>\n",
       "      <td>NaN</td>\n",
       "    </tr>\n",
       "    <tr>\n",
       "      <th>4</th>\n",
       "      <td>228</td>\n",
       "      <td>44</td>\n",
       "      <td>367455</td>\n",
       "      <td>06-06-2014</td>\n",
       "      <td>IL</td>\n",
       "      <td>500/1000</td>\n",
       "      <td>1000</td>\n",
       "      <td>1583.91</td>\n",
       "      <td>6000000</td>\n",
       "      <td>610706</td>\n",
       "      <td>...</td>\n",
       "      <td>NO</td>\n",
       "      <td>6500</td>\n",
       "      <td>1300</td>\n",
       "      <td>650</td>\n",
       "      <td>4550</td>\n",
       "      <td>Accura</td>\n",
       "      <td>RSX</td>\n",
       "      <td>2009</td>\n",
       "      <td>N</td>\n",
       "      <td>NaN</td>\n",
       "    </tr>\n",
       "    <tr>\n",
       "      <th>...</th>\n",
       "      <td>...</td>\n",
       "      <td>...</td>\n",
       "      <td>...</td>\n",
       "      <td>...</td>\n",
       "      <td>...</td>\n",
       "      <td>...</td>\n",
       "      <td>...</td>\n",
       "      <td>...</td>\n",
       "      <td>...</td>\n",
       "      <td>...</td>\n",
       "      <td>...</td>\n",
       "      <td>...</td>\n",
       "      <td>...</td>\n",
       "      <td>...</td>\n",
       "      <td>...</td>\n",
       "      <td>...</td>\n",
       "      <td>...</td>\n",
       "      <td>...</td>\n",
       "      <td>...</td>\n",
       "      <td>...</td>\n",
       "      <td>...</td>\n",
       "    </tr>\n",
       "    <tr>\n",
       "      <th>995</th>\n",
       "      <td>3</td>\n",
       "      <td>38</td>\n",
       "      <td>941851</td>\n",
       "      <td>16-07-1991</td>\n",
       "      <td>OH</td>\n",
       "      <td>500/1000</td>\n",
       "      <td>1000</td>\n",
       "      <td>1310.80</td>\n",
       "      <td>0</td>\n",
       "      <td>431289</td>\n",
       "      <td>...</td>\n",
       "      <td>?</td>\n",
       "      <td>87200</td>\n",
       "      <td>17440</td>\n",
       "      <td>8720</td>\n",
       "      <td>61040</td>\n",
       "      <td>Honda</td>\n",
       "      <td>Accord</td>\n",
       "      <td>2006</td>\n",
       "      <td>N</td>\n",
       "      <td>NaN</td>\n",
       "    </tr>\n",
       "    <tr>\n",
       "      <th>996</th>\n",
       "      <td>285</td>\n",
       "      <td>41</td>\n",
       "      <td>186934</td>\n",
       "      <td>05-01-2014</td>\n",
       "      <td>IL</td>\n",
       "      <td>100/300</td>\n",
       "      <td>1000</td>\n",
       "      <td>1436.79</td>\n",
       "      <td>0</td>\n",
       "      <td>608177</td>\n",
       "      <td>...</td>\n",
       "      <td>?</td>\n",
       "      <td>108480</td>\n",
       "      <td>18080</td>\n",
       "      <td>18080</td>\n",
       "      <td>72320</td>\n",
       "      <td>Volkswagen</td>\n",
       "      <td>Passat</td>\n",
       "      <td>2015</td>\n",
       "      <td>N</td>\n",
       "      <td>NaN</td>\n",
       "    </tr>\n",
       "    <tr>\n",
       "      <th>997</th>\n",
       "      <td>130</td>\n",
       "      <td>34</td>\n",
       "      <td>918516</td>\n",
       "      <td>17-02-2003</td>\n",
       "      <td>OH</td>\n",
       "      <td>250/500</td>\n",
       "      <td>500</td>\n",
       "      <td>1383.49</td>\n",
       "      <td>3000000</td>\n",
       "      <td>442797</td>\n",
       "      <td>...</td>\n",
       "      <td>YES</td>\n",
       "      <td>67500</td>\n",
       "      <td>7500</td>\n",
       "      <td>7500</td>\n",
       "      <td>52500</td>\n",
       "      <td>Suburu</td>\n",
       "      <td>Impreza</td>\n",
       "      <td>1996</td>\n",
       "      <td>N</td>\n",
       "      <td>NaN</td>\n",
       "    </tr>\n",
       "    <tr>\n",
       "      <th>998</th>\n",
       "      <td>458</td>\n",
       "      <td>62</td>\n",
       "      <td>533940</td>\n",
       "      <td>18-11-2011</td>\n",
       "      <td>IL</td>\n",
       "      <td>500/1000</td>\n",
       "      <td>2000</td>\n",
       "      <td>1356.92</td>\n",
       "      <td>5000000</td>\n",
       "      <td>441714</td>\n",
       "      <td>...</td>\n",
       "      <td>YES</td>\n",
       "      <td>46980</td>\n",
       "      <td>5220</td>\n",
       "      <td>5220</td>\n",
       "      <td>36540</td>\n",
       "      <td>Audi</td>\n",
       "      <td>A5</td>\n",
       "      <td>1998</td>\n",
       "      <td>N</td>\n",
       "      <td>NaN</td>\n",
       "    </tr>\n",
       "    <tr>\n",
       "      <th>999</th>\n",
       "      <td>456</td>\n",
       "      <td>60</td>\n",
       "      <td>556080</td>\n",
       "      <td>11-11-1996</td>\n",
       "      <td>OH</td>\n",
       "      <td>250/500</td>\n",
       "      <td>1000</td>\n",
       "      <td>766.19</td>\n",
       "      <td>0</td>\n",
       "      <td>612260</td>\n",
       "      <td>...</td>\n",
       "      <td>?</td>\n",
       "      <td>5060</td>\n",
       "      <td>460</td>\n",
       "      <td>920</td>\n",
       "      <td>3680</td>\n",
       "      <td>Mercedes</td>\n",
       "      <td>E400</td>\n",
       "      <td>2007</td>\n",
       "      <td>N</td>\n",
       "      <td>NaN</td>\n",
       "    </tr>\n",
       "  </tbody>\n",
       "</table>\n",
       "<p>1000 rows × 40 columns</p>\n",
       "</div>"
      ],
      "text/plain": [
       "     months_as_customer  age  policy_number policy_bind_date policy_state  \\\n",
       "0                   328   48         521585       17-10-2014           OH   \n",
       "1                   228   42         342868       27-06-2006           IN   \n",
       "2                   134   29         687698       06-09-2000           OH   \n",
       "3                   256   41         227811       25-05-1990           IL   \n",
       "4                   228   44         367455       06-06-2014           IL   \n",
       "..                  ...  ...            ...              ...          ...   \n",
       "995                   3   38         941851       16-07-1991           OH   \n",
       "996                 285   41         186934       05-01-2014           IL   \n",
       "997                 130   34         918516       17-02-2003           OH   \n",
       "998                 458   62         533940       18-11-2011           IL   \n",
       "999                 456   60         556080       11-11-1996           OH   \n",
       "\n",
       "    policy_csl  policy_deductable  policy_annual_premium  umbrella_limit  \\\n",
       "0      250/500               1000                1406.91               0   \n",
       "1      250/500               2000                1197.22         5000000   \n",
       "2      100/300               2000                1413.14         5000000   \n",
       "3      250/500               2000                1415.74         6000000   \n",
       "4     500/1000               1000                1583.91         6000000   \n",
       "..         ...                ...                    ...             ...   \n",
       "995   500/1000               1000                1310.80               0   \n",
       "996    100/300               1000                1436.79               0   \n",
       "997    250/500                500                1383.49         3000000   \n",
       "998   500/1000               2000                1356.92         5000000   \n",
       "999    250/500               1000                 766.19               0   \n",
       "\n",
       "     insured_zip  ... police_report_available total_claim_amount injury_claim  \\\n",
       "0         466132  ...                     YES              71610         6510   \n",
       "1         468176  ...                       ?               5070          780   \n",
       "2         430632  ...                      NO              34650         7700   \n",
       "3         608117  ...                      NO              63400         6340   \n",
       "4         610706  ...                      NO               6500         1300   \n",
       "..           ...  ...                     ...                ...          ...   \n",
       "995       431289  ...                       ?              87200        17440   \n",
       "996       608177  ...                       ?             108480        18080   \n",
       "997       442797  ...                     YES              67500         7500   \n",
       "998       441714  ...                     YES              46980         5220   \n",
       "999       612260  ...                       ?               5060          460   \n",
       "\n",
       "    property_claim vehicle_claim   auto_make  auto_model auto_year  \\\n",
       "0            13020         52080        Saab         92x      2004   \n",
       "1              780          3510    Mercedes        E400      2007   \n",
       "2             3850         23100       Dodge         RAM      2007   \n",
       "3             6340         50720   Chevrolet       Tahoe      2014   \n",
       "4              650          4550      Accura         RSX      2009   \n",
       "..             ...           ...         ...         ...       ...   \n",
       "995           8720         61040       Honda      Accord      2006   \n",
       "996          18080         72320  Volkswagen      Passat      2015   \n",
       "997           7500         52500      Suburu     Impreza      1996   \n",
       "998           5220         36540        Audi          A5      1998   \n",
       "999            920          3680    Mercedes        E400      2007   \n",
       "\n",
       "    fraud_reported _c39  \n",
       "0                Y  NaN  \n",
       "1                Y  NaN  \n",
       "2                N  NaN  \n",
       "3                Y  NaN  \n",
       "4                N  NaN  \n",
       "..             ...  ...  \n",
       "995              N  NaN  \n",
       "996              N  NaN  \n",
       "997              N  NaN  \n",
       "998              N  NaN  \n",
       "999              N  NaN  \n",
       "\n",
       "[1000 rows x 40 columns]"
      ]
     },
     "execution_count": 3,
     "metadata": {},
     "output_type": "execute_result"
    }
   ],
   "source": [
    "df"
   ]
  },
  {
   "cell_type": "markdown",
   "id": "0fce0adf",
   "metadata": {},
   "source": [
    "There are 1000 rows and 40 columns in the dataset.\n",
    "As the output variable is fraud_reported this is a classification problem.\n",
    "All other columns except fraud_reproted are the independent variables.\n",
    "In this dataset based on the given input variables we are supposed to determine wether the given claim is a fraud or not.\n",
    "\n"
   ]
  },
  {
   "cell_type": "code",
   "execution_count": 4,
   "id": "774e5385",
   "metadata": {},
   "outputs": [
    {
     "data": {
      "text/plain": [
       "Index(['months_as_customer', 'age', 'policy_number', 'policy_bind_date',\n",
       "       'policy_state', 'policy_csl', 'policy_deductable',\n",
       "       'policy_annual_premium', 'umbrella_limit', 'insured_zip', 'insured_sex',\n",
       "       'insured_education_level', 'insured_occupation', 'insured_hobbies',\n",
       "       'insured_relationship', 'capital-gains', 'capital-loss',\n",
       "       'incident_date', 'incident_type', 'collision_type', 'incident_severity',\n",
       "       'authorities_contacted', 'incident_state', 'incident_city',\n",
       "       'incident_location', 'incident_hour_of_the_day',\n",
       "       'number_of_vehicles_involved', 'property_damage', 'bodily_injuries',\n",
       "       'witnesses', 'police_report_available', 'total_claim_amount',\n",
       "       'injury_claim', 'property_claim', 'vehicle_claim', 'auto_make',\n",
       "       'auto_model', 'auto_year', 'fraud_reported', '_c39'],\n",
       "      dtype='object')"
      ]
     },
     "execution_count": 4,
     "metadata": {},
     "output_type": "execute_result"
    }
   ],
   "source": [
    "df.columns"
   ]
  },
  {
   "cell_type": "markdown",
   "id": "a265fc8b",
   "metadata": {},
   "source": [
    "The above tells us the names of each columns."
   ]
  },
  {
   "cell_type": "code",
   "execution_count": 5,
   "id": "2ee7e5c5",
   "metadata": {},
   "outputs": [
    {
     "data": {
      "text/plain": [
       "months_as_customer               int64\n",
       "age                              int64\n",
       "policy_number                    int64\n",
       "policy_bind_date                object\n",
       "policy_state                    object\n",
       "policy_csl                      object\n",
       "policy_deductable                int64\n",
       "policy_annual_premium          float64\n",
       "umbrella_limit                   int64\n",
       "insured_zip                      int64\n",
       "insured_sex                     object\n",
       "insured_education_level         object\n",
       "insured_occupation              object\n",
       "insured_hobbies                 object\n",
       "insured_relationship            object\n",
       "capital-gains                    int64\n",
       "capital-loss                     int64\n",
       "incident_date                   object\n",
       "incident_type                   object\n",
       "collision_type                  object\n",
       "incident_severity               object\n",
       "authorities_contacted           object\n",
       "incident_state                  object\n",
       "incident_city                   object\n",
       "incident_location               object\n",
       "incident_hour_of_the_day         int64\n",
       "number_of_vehicles_involved      int64\n",
       "property_damage                 object\n",
       "bodily_injuries                  int64\n",
       "witnesses                        int64\n",
       "police_report_available         object\n",
       "total_claim_amount               int64\n",
       "injury_claim                     int64\n",
       "property_claim                   int64\n",
       "vehicle_claim                    int64\n",
       "auto_make                       object\n",
       "auto_model                      object\n",
       "auto_year                        int64\n",
       "fraud_reported                  object\n",
       "_c39                           float64\n",
       "dtype: object"
      ]
     },
     "execution_count": 5,
     "metadata": {},
     "output_type": "execute_result"
    }
   ],
   "source": [
    "df.dtypes"
   ]
  },
  {
   "cell_type": "markdown",
   "id": "d72fbc15",
   "metadata": {},
   "source": [
    "The various data types of each columns."
   ]
  },
  {
   "cell_type": "code",
   "execution_count": 6,
   "id": "a8cbc872",
   "metadata": {},
   "outputs": [
    {
     "name": "stdout",
     "output_type": "stream",
     "text": [
      "<class 'pandas.core.frame.DataFrame'>\n",
      "RangeIndex: 1000 entries, 0 to 999\n",
      "Data columns (total 40 columns):\n",
      " #   Column                       Non-Null Count  Dtype  \n",
      "---  ------                       --------------  -----  \n",
      " 0   months_as_customer           1000 non-null   int64  \n",
      " 1   age                          1000 non-null   int64  \n",
      " 2   policy_number                1000 non-null   int64  \n",
      " 3   policy_bind_date             1000 non-null   object \n",
      " 4   policy_state                 1000 non-null   object \n",
      " 5   policy_csl                   1000 non-null   object \n",
      " 6   policy_deductable            1000 non-null   int64  \n",
      " 7   policy_annual_premium        1000 non-null   float64\n",
      " 8   umbrella_limit               1000 non-null   int64  \n",
      " 9   insured_zip                  1000 non-null   int64  \n",
      " 10  insured_sex                  1000 non-null   object \n",
      " 11  insured_education_level      1000 non-null   object \n",
      " 12  insured_occupation           1000 non-null   object \n",
      " 13  insured_hobbies              1000 non-null   object \n",
      " 14  insured_relationship         1000 non-null   object \n",
      " 15  capital-gains                1000 non-null   int64  \n",
      " 16  capital-loss                 1000 non-null   int64  \n",
      " 17  incident_date                1000 non-null   object \n",
      " 18  incident_type                1000 non-null   object \n",
      " 19  collision_type               1000 non-null   object \n",
      " 20  incident_severity            1000 non-null   object \n",
      " 21  authorities_contacted        1000 non-null   object \n",
      " 22  incident_state               1000 non-null   object \n",
      " 23  incident_city                1000 non-null   object \n",
      " 24  incident_location            1000 non-null   object \n",
      " 25  incident_hour_of_the_day     1000 non-null   int64  \n",
      " 26  number_of_vehicles_involved  1000 non-null   int64  \n",
      " 27  property_damage              1000 non-null   object \n",
      " 28  bodily_injuries              1000 non-null   int64  \n",
      " 29  witnesses                    1000 non-null   int64  \n",
      " 30  police_report_available      1000 non-null   object \n",
      " 31  total_claim_amount           1000 non-null   int64  \n",
      " 32  injury_claim                 1000 non-null   int64  \n",
      " 33  property_claim               1000 non-null   int64  \n",
      " 34  vehicle_claim                1000 non-null   int64  \n",
      " 35  auto_make                    1000 non-null   object \n",
      " 36  auto_model                   1000 non-null   object \n",
      " 37  auto_year                    1000 non-null   int64  \n",
      " 38  fraud_reported               1000 non-null   object \n",
      " 39  _c39                         0 non-null      float64\n",
      "dtypes: float64(2), int64(17), object(21)\n",
      "memory usage: 312.6+ KB\n"
     ]
    }
   ],
   "source": [
    "df.info()"
   ]
  },
  {
   "cell_type": "markdown",
   "id": "8fe44348",
   "metadata": {},
   "source": [
    "Tells us about the total count and the data types of each column."
   ]
  },
  {
   "cell_type": "code",
   "execution_count": 7,
   "id": "9c120e12",
   "metadata": {},
   "outputs": [
    {
     "data": {
      "text/plain": [
       "(1000, 40)"
      ]
     },
     "execution_count": 7,
     "metadata": {},
     "output_type": "execute_result"
    }
   ],
   "source": [
    "df.shape"
   ]
  },
  {
   "cell_type": "markdown",
   "id": "e9ec7d48",
   "metadata": {},
   "source": [
    "# Univariant, Bivariant, Multivariant Analysis"
   ]
  },
  {
   "cell_type": "code",
   "execution_count": 8,
   "id": "90138ff7",
   "metadata": {},
   "outputs": [
    {
     "data": {
      "text/plain": [
       "<AxesSubplot:xlabel='fraud_reported', ylabel='count'>"
      ]
     },
     "execution_count": 8,
     "metadata": {},
     "output_type": "execute_result"
    },
    {
     "data": {
      "image/png": "[encoded data removed]",
      "text/plain": [
       "<Figure size 432x288 with 1 Axes>"
      ]
     },
     "metadata": {
      "needs_background": "light"
     },
     "output_type": "display_data"
    }
   ],
   "source": [
    "sns.countplot(df['fraud_reported'])"
   ]
  },
  {
   "cell_type": "markdown",
   "id": "4fed71de",
   "metadata": {},
   "source": [
    "As we could see that there are 2 categories of data i.e Yes/No there is huge difference between 2 so will will perfrom upsampling and downsampling techiques."
   ]
  },
  {
   "cell_type": "code",
   "execution_count": 9,
   "id": "4c647e05",
   "metadata": {},
   "outputs": [
    {
     "data": {
      "text/plain": [
       "<AxesSubplot:xlabel='policy_state', ylabel='count'>"
      ]
     },
     "execution_count": 9,
     "metadata": {},
     "output_type": "execute_result"
    },
    {
     "data": {
      "image/png": "[encoded data removed]",
      "text/plain": [
       "<Figure size 432x288 with 1 Axes>"
      ]
     },
     "metadata": {
      "needs_background": "light"
     },
     "output_type": "display_data"
    }
   ],
   "source": [
    "sns.countplot(df['policy_state'])"
   ]
  },
  {
   "cell_type": "markdown",
   "id": "9fea8ece",
   "metadata": {},
   "source": [
    "There are 3 different categories of policy state  i.e OH, IN, IL  OH being the higest in count. "
   ]
  },
  {
   "cell_type": "code",
   "execution_count": 10,
   "id": "b288152b",
   "metadata": {},
   "outputs": [
    {
     "data": {
      "text/plain": [
       "<AxesSubplot:xlabel='policy_csl', ylabel='count'>"
      ]
     },
     "execution_count": 10,
     "metadata": {},
     "output_type": "execute_result"
    },
    {
     "data": {
      "image/png": "[encoded data removed]",
      "text/plain": [
       "<Figure size 432x288 with 1 Axes>"
      ]
     },
     "metadata": {
      "needs_background": "light"
     },
     "output_type": "display_data"
    }
   ],
   "source": [
    "sns.countplot(df['policy_csl'])"
   ]
  },
  {
   "cell_type": "markdown",
   "id": "3cb9087b",
   "metadata": {},
   "source": [
    "There are 3 different policy_csl i.e 250/500, 100/300, 500/1000."
   ]
  },
  {
   "cell_type": "code",
   "execution_count": 12,
   "id": "41df9fbc",
   "metadata": {},
   "outputs": [
    {
     "data": {
      "text/plain": [
       "<AxesSubplot:xlabel='insured_relationship', ylabel='count'>"
      ]
     },
     "execution_count": 12,
     "metadata": {},
     "output_type": "execute_result"
    },
    {
     "data": {
      "image/png": "[encoded data removed]",
      "text/plain": [
       "<Figure size 432x288 with 1 Axes>"
      ]
     },
     "metadata": {
      "needs_background": "light"
     },
     "output_type": "display_data"
    }
   ],
   "source": [
    "sns.countplot(x='insured_relationship',hue='fraud_reported',data=df)"
   ]
  },
  {
   "cell_type": "markdown",
   "id": "5627bc16",
   "metadata": {},
   "source": [
    "From the above plot we can see that the one where the insured_relationship is of other relative has reported frauds."
   ]
  },
  {
   "cell_type": "code",
   "execution_count": 13,
   "id": "0520cbe6",
   "metadata": {},
   "outputs": [
    {
     "data": {
      "text/plain": [
       "<AxesSubplot:xlabel='incident_type', ylabel='count'>"
      ]
     },
     "execution_count": 13,
     "metadata": {},
     "output_type": "execute_result"
    },
    {
     "data": {
      "image/png": "[encoded data removed]",
      "text/plain": [
       "<Figure size 720x360 with 1 Axes>"
      ]
     },
     "metadata": {
      "needs_background": "light"
     },
     "output_type": "display_data"
    }
   ],
   "source": [
    "plt.figure(figsize=(10,5))\n",
    "sns.countplot(x='incident_type',hue='fraud_reported',data=df)"
   ]
  },
  {
   "cell_type": "markdown",
   "id": "8a403aea",
   "metadata": {},
   "source": [
    "one with the single vehicle and Multi vehcile collisions has reported maximum frauds."
   ]
  },
  {
   "cell_type": "code",
   "execution_count": 14,
   "id": "ec12728a",
   "metadata": {},
   "outputs": [
    {
     "data": {
      "text/plain": [
       "<AxesSubplot:xlabel='witnesses', ylabel='count'>"
      ]
     },
     "execution_count": 14,
     "metadata": {},
     "output_type": "execute_result"
    },
    {
     "data": {
      "image/png": "[encoded data removed]",
      "text/plain": [
       "<Figure size 432x288 with 1 Axes>"
      ]
     },
     "metadata": {
      "needs_background": "light"
     },
     "output_type": "display_data"
    }
   ],
   "source": [
    "sns.countplot(x='witnesses',hue='fraud_reported',data=df)"
   ]
  },
  {
   "cell_type": "markdown",
   "id": "233d9628",
   "metadata": {},
   "source": [
    "One with the two witness has reported higest number of frauds."
   ]
  },
  {
   "cell_type": "code",
   "execution_count": 15,
   "id": "3357a151",
   "metadata": {},
   "outputs": [
    {
     "data": {
      "text/plain": [
       "<AxesSubplot:xlabel='collision_type', ylabel='count'>"
      ]
     },
     "execution_count": 15,
     "metadata": {},
     "output_type": "execute_result"
    },
    {
     "data": {
      "image/png": "[encoded data removed]",
      "text/plain": [
       "<Figure size 432x288 with 1 Axes>"
      ]
     },
     "metadata": {
      "needs_background": "light"
     },
     "output_type": "display_data"
    }
   ],
   "source": [
    "sns.countplot(x='collision_type',hue='fraud_reported',data=df)"
   ]
  },
  {
   "cell_type": "markdown",
   "id": "6bf8c66d",
   "metadata": {},
   "source": [
    "One where the collision type is of rear collision has reported higest number of frauds."
   ]
  },
  {
   "cell_type": "code",
   "execution_count": 16,
   "id": "2bfb1bea",
   "metadata": {},
   "outputs": [
    {
     "data": {
      "text/plain": [
       "<AxesSubplot:xlabel='policy_annual_premium', ylabel='Density'>"
      ]
     },
     "execution_count": 16,
     "metadata": {},
     "output_type": "execute_result"
    },
    {
     "data": {
      "image/png": "[encoded data removed]",
      "text/plain": [
       "<Figure size 432x288 with 1 Axes>"
      ]
     },
     "metadata": {
      "needs_background": "light"
     },
     "output_type": "display_data"
    }
   ],
   "source": [
    "sns.distplot(df['policy_annual_premium'])"
   ]
  },
  {
   "cell_type": "markdown",
   "id": "e682a46d",
   "metadata": {},
   "source": [
    "In the above plot the annual premimum is normally distributed."
   ]
  },
  {
   "cell_type": "code",
   "execution_count": 17,
   "id": "dba66df6",
   "metadata": {},
   "outputs": [
    {
     "data": {
      "text/plain": [
       "<seaborn.axisgrid.FacetGrid at 0x18f26f34b20>"
      ]
     },
     "execution_count": 17,
     "metadata": {},
     "output_type": "execute_result"
    },
    {
     "data": {
      "image/png": "[encoded data removed]",
      "text/plain": [
       "<Figure size 360x360 with 1 Axes>"
      ]
     },
     "metadata": {
      "needs_background": "light"
     },
     "output_type": "display_data"
    }
   ],
   "source": [
    "sns.lmplot(data=df, y='total_claim_amount', x='injury_claim')"
   ]
  },
  {
   "cell_type": "markdown",
   "id": "eb133fab",
   "metadata": {},
   "source": [
    "With the increase in the total claim amount injury claim also increases."
   ]
  },
  {
   "cell_type": "code",
   "execution_count": 18,
   "id": "d8dca075",
   "metadata": {},
   "outputs": [
    {
     "data": {
      "text/plain": [
       "<seaborn.axisgrid.FacetGrid at 0x18f26d3b730>"
      ]
     },
     "execution_count": 18,
     "metadata": {},
     "output_type": "execute_result"
    },
    {
     "data": {
      "image/png": "[encoded data removed]",
      "text/plain": [
       "<Figure size 360x360 with 1 Axes>"
      ]
     },
     "metadata": {
      "needs_background": "light"
     },
     "output_type": "display_data"
    }
   ],
   "source": [
    "sns.lmplot(data=df, y='total_claim_amount', x='vehicle_claim')"
   ]
  },
  {
   "cell_type": "markdown",
   "id": "84e6b534",
   "metadata": {},
   "source": [
    "With the increase in the total claim ammount, the vehicle claim also increases."
   ]
  },
  {
   "cell_type": "code",
   "execution_count": 19,
   "id": "c3fdb0cb",
   "metadata": {},
   "outputs": [
    {
     "data": {
      "text/plain": [
       "<AxesSubplot:xlabel='incident_severity', ylabel='count'>"
      ]
     },
     "execution_count": 19,
     "metadata": {},
     "output_type": "execute_result"
    },
    {
     "data": {
      "image/png": "[encoded data removed]",
      "text/plain": [
       "<Figure size 432x288 with 1 Axes>"
      ]
     },
     "metadata": {
      "needs_background": "light"
     },
     "output_type": "display_data"
    }
   ],
   "source": [
    "sns.countplot(x='incident_severity',hue='fraud_reported',data=df)"
   ]
  },
  {
   "cell_type": "markdown",
   "id": "992101d3",
   "metadata": {},
   "source": [
    "One where the incident_severity having major damage as reported the maximum number of frauds."
   ]
  },
  {
   "cell_type": "code",
   "execution_count": 20,
   "id": "06544e0c",
   "metadata": {},
   "outputs": [
    {
     "data": {
      "text/plain": [
       "<AxesSubplot:xlabel='authorities_contacted', ylabel='count'>"
      ]
     },
     "execution_count": 20,
     "metadata": {},
     "output_type": "execute_result"
    },
    {
     "data": {
      "image/png": "[encoded data removed]",
      "text/plain": [
       "<Figure size 432x288 with 1 Axes>"
      ]
     },
     "metadata": {
      "needs_background": "light"
     },
     "output_type": "display_data"
    }
   ],
   "source": [
    "sns.countplot(x='authorities_contacted',hue='fraud_reported',data=df)"
   ]
  },
  {
   "cell_type": "markdown",
   "id": "f5d52896",
   "metadata": {},
   "source": [
    "One where the none of the authorities were contacted has reported least number of records."
   ]
  },
  {
   "cell_type": "code",
   "execution_count": 23,
   "id": "9fb5d94d",
   "metadata": {},
   "outputs": [
    {
     "data": {
      "text/plain": [
       "<AxesSubplot:>"
      ]
     },
     "execution_count": 23,
     "metadata": {},
     "output_type": "execute_result"
    },
    {
     "data": {
      "image/png": "[encoded data removed]",
      "text/plain": [
       "<Figure size 1080x1080 with 2 Axes>"
      ]
     },
     "metadata": {
      "needs_background": "light"
     },
     "output_type": "display_data"
    }
   ],
   "source": [
    "plt.figure(figsize=(15,15))\n",
    "sns.heatmap(df.corr(),annot=True)"
   ]
  },
  {
   "cell_type": "markdown",
   "id": "98454806",
   "metadata": {},
   "source": [
    "In the above plot,\n",
    "1. total_claim_ammount, injury_claim, property_claim, vehicle_claim are positivly related to each other.\n",
    "2. months_as_customer and age of customers are psoitivly related to each other.\n"
   ]
  },
  {
   "cell_type": "markdown",
   "id": "ebb07773",
   "metadata": {},
   "source": [
    "# Data Cleaning/Preprocessing"
   ]
  },
  {
   "cell_type": "code",
   "execution_count": 25,
   "id": "83f5f04a",
   "metadata": {},
   "outputs": [
    {
     "name": "stdout",
     "output_type": "stream",
     "text": [
      "01-01-2006    3\n",
      "28-04-1992    3\n",
      "05-08-1992    3\n",
      "25-05-1990    2\n",
      "11-11-1998    2\n",
      "             ..\n",
      "15-12-1996    1\n",
      "25-02-2011    1\n",
      "03-12-2005    1\n",
      "09-10-1995    1\n",
      "26-10-1996    1\n",
      "Name: policy_bind_date, Length: 951, dtype: int64\n",
      "----------\n",
      "OH    352\n",
      "IL    338\n",
      "IN    310\n",
      "Name: policy_state, dtype: int64\n",
      "----------\n",
      "250/500     351\n",
      "100/300     349\n",
      "500/1000    300\n",
      "Name: policy_csl, dtype: int64\n",
      "----------\n",
      "FEMALE    537\n",
      "MALE      463\n",
      "Name: insured_sex, dtype: int64\n",
      "----------\n",
      "JD             161\n",
      "High School    160\n",
      "Associate      145\n",
      "MD             144\n",
      "Masters        143\n",
      "PhD            125\n",
      "College        122\n",
      "Name: insured_education_level, dtype: int64\n",
      "----------\n",
      "machine-op-inspct    93\n",
      "prof-specialty       85\n",
      "tech-support         78\n",
      "sales                76\n",
      "exec-managerial      76\n",
      "craft-repair         74\n",
      "transport-moving     72\n",
      "priv-house-serv      71\n",
      "other-service        71\n",
      "armed-forces         69\n",
      "adm-clerical         65\n",
      "protective-serv      63\n",
      "handlers-cleaners    54\n",
      "farming-fishing      53\n",
      "Name: insured_occupation, dtype: int64\n",
      "----------\n",
      "reading           64\n",
      "paintball         57\n",
      "exercise          57\n",
      "bungie-jumping    56\n",
      "golf              55\n",
      "camping           55\n",
      "movies            55\n",
      "kayaking          54\n",
      "yachting          53\n",
      "hiking            52\n",
      "video-games       50\n",
      "skydiving         49\n",
      "base-jumping      49\n",
      "board-games       48\n",
      "polo              47\n",
      "chess             46\n",
      "dancing           43\n",
      "sleeping          41\n",
      "cross-fit         35\n",
      "basketball        34\n",
      "Name: insured_hobbies, dtype: int64\n",
      "----------\n",
      "own-child         183\n",
      "other-relative    177\n",
      "not-in-family     174\n",
      "husband           170\n",
      "wife              155\n",
      "unmarried         141\n",
      "Name: insured_relationship, dtype: int64\n",
      "----------\n",
      "02-02-2015    28\n",
      "17-02-2015    26\n",
      "07-01-2015    25\n",
      "24-01-2015    24\n",
      "10-01-2015    24\n",
      "04-02-2015    24\n",
      "19-01-2015    23\n",
      "08-01-2015    22\n",
      "13-01-2015    21\n",
      "30-01-2015    21\n",
      "06-02-2015    20\n",
      "31-01-2015    20\n",
      "12-02-2015    20\n",
      "22-02-2015    20\n",
      "21-01-2015    19\n",
      "23-02-2015    19\n",
      "21-02-2015    19\n",
      "12-01-2015    19\n",
      "14-01-2015    19\n",
      "01-01-2015    19\n",
      "25-02-2015    18\n",
      "03-01-2015    18\n",
      "01-02-2015    18\n",
      "20-01-2015    18\n",
      "14-02-2015    18\n",
      "18-01-2015    18\n",
      "28-02-2015    18\n",
      "08-02-2015    17\n",
      "24-02-2015    17\n",
      "09-01-2015    17\n",
      "06-01-2015    17\n",
      "26-02-2015    17\n",
      "16-02-2015    16\n",
      "05-02-2015    16\n",
      "15-02-2015    16\n",
      "13-02-2015    16\n",
      "16-01-2015    16\n",
      "15-01-2015    15\n",
      "18-02-2015    15\n",
      "17-01-2015    15\n",
      "28-01-2015    15\n",
      "22-01-2015    14\n",
      "27-02-2015    14\n",
      "20-02-2015    14\n",
      "09-02-2015    13\n",
      "27-01-2015    13\n",
      "03-02-2015    13\n",
      "23-01-2015    13\n",
      "04-01-2015    12\n",
      "01-03-2015    12\n",
      "29-01-2015    11\n",
      "02-01-2015    11\n",
      "26-01-2015    11\n",
      "10-02-2015    10\n",
      "25-01-2015    10\n",
      "11-02-2015    10\n",
      "19-02-2015    10\n",
      "07-02-2015    10\n",
      "11-01-2015     9\n",
      "05-01-2015     7\n",
      "Name: incident_date, dtype: int64\n",
      "----------\n",
      "Multi-vehicle Collision     419\n",
      "Single Vehicle Collision    403\n",
      "Vehicle Theft                94\n",
      "Parked Car                   84\n",
      "Name: incident_type, dtype: int64\n",
      "----------\n",
      "Rear Collision     292\n",
      "Side Collision     276\n",
      "Front Collision    254\n",
      "?                  178\n",
      "Name: collision_type, dtype: int64\n",
      "----------\n",
      "Minor Damage      354\n",
      "Total Loss        280\n",
      "Major Damage      276\n",
      "Trivial Damage     90\n",
      "Name: incident_severity, dtype: int64\n",
      "----------\n",
      "Police       292\n",
      "Fire         223\n",
      "Other        198\n",
      "Ambulance    196\n",
      "None          91\n",
      "Name: authorities_contacted, dtype: int64\n",
      "----------\n",
      "NY    262\n",
      "SC    248\n",
      "WV    217\n",
      "VA    110\n",
      "NC    110\n",
      "PA     30\n",
      "OH     23\n",
      "Name: incident_state, dtype: int64\n",
      "----------\n",
      "Springfield    157\n",
      "Arlington      152\n",
      "Columbus       149\n",
      "Northbend      145\n",
      "Hillsdale      141\n",
      "Riverwood      134\n",
      "Northbrook     122\n",
      "Name: incident_city, dtype: int64\n",
      "----------\n",
      "4866 4th Hwy          1\n",
      "8917 Cherokee Lane    1\n",
      "8742 4th St           1\n",
      "9942 Tree Ave         1\n",
      "4618 Flute Ave        1\n",
      "                     ..\n",
      "9639 Britain Ridge    1\n",
      "2644 MLK Drive        1\n",
      "9214 Elm Ridge        1\n",
      "2756 Britain Hwy      1\n",
      "4780 Best Drive       1\n",
      "Name: incident_location, Length: 1000, dtype: int64\n",
      "----------\n",
      "?      360\n",
      "NO     338\n",
      "YES    302\n",
      "Name: property_damage, dtype: int64\n",
      "----------\n",
      "NO     343\n",
      "?      343\n",
      "YES    314\n",
      "Name: police_report_available, dtype: int64\n",
      "----------\n",
      "Saab          80\n",
      "Suburu        80\n",
      "Dodge         80\n",
      "Nissan        78\n",
      "Chevrolet     76\n",
      "BMW           72\n",
      "Ford          72\n",
      "Toyota        70\n",
      "Audi          69\n",
      "Volkswagen    68\n",
      "Accura        68\n",
      "Jeep          67\n",
      "Mercedes      65\n",
      "Honda         55\n",
      "Name: auto_make, dtype: int64\n",
      "----------\n",
      "RAM               43\n",
      "Wrangler          42\n",
      "A3                37\n",
      "Neon              37\n",
      "MDX               36\n",
      "Jetta             35\n",
      "Passat            33\n",
      "Legacy            32\n",
      "A5                32\n",
      "Pathfinder        31\n",
      "Malibu            30\n",
      "Forrestor         28\n",
      "92x               28\n",
      "Camry             28\n",
      "F150              27\n",
      "95                27\n",
      "E400              27\n",
      "Grand Cherokee    25\n",
      "93                25\n",
      "Maxima            24\n",
      "Escape            24\n",
      "Tahoe             24\n",
      "X5                23\n",
      "Ultima            23\n",
      "Civic             22\n",
      "Highlander        22\n",
      "Silverado         22\n",
      "Fusion            21\n",
      "ML350             20\n",
      "Impreza           20\n",
      "TL                20\n",
      "Corolla           20\n",
      "CRV               20\n",
      "C300              18\n",
      "3 Series          18\n",
      "X6                16\n",
      "M5                15\n",
      "Accord            13\n",
      "RSX               12\n",
      "Name: auto_model, dtype: int64\n",
      "----------\n",
      "N    753\n",
      "Y    247\n",
      "Name: fraud_reported, dtype: int64\n",
      "----------\n"
     ]
    }
   ],
   "source": [
    "for i in df.columns:\n",
    "    if df[i].dtypes== object:\n",
    "        print(df[i].value_counts())\n",
    "        print(\"----------\")\n",
    "    else:\n",
    "        pass"
   ]
  },
  {
   "cell_type": "markdown",
   "id": "7c16ccec",
   "metadata": {},
   "source": [
    "Through the above code we will be ckecking out the value count of  columns having object data type. "
   ]
  },
  {
   "cell_type": "code",
   "execution_count": 26,
   "id": "09ed270a",
   "metadata": {},
   "outputs": [
    {
     "data": {
      "text/plain": [
       "?      360\n",
       "NO     338\n",
       "YES    302\n",
       "Name: property_damage, dtype: int64"
      ]
     },
     "execution_count": 26,
     "metadata": {},
     "output_type": "execute_result"
    }
   ],
   "source": [
    "df['property_damage'].value_counts()"
   ]
  },
  {
   "cell_type": "markdown",
   "id": "7d2d0145",
   "metadata": {},
   "source": [
    "As we could see that there are 3 types one is ? which will be replacing with the mode value."
   ]
  },
  {
   "cell_type": "code",
   "execution_count": 27,
   "id": "7aa3c1fc",
   "metadata": {},
   "outputs": [
    {
     "data": {
      "text/plain": [
       "NO     343\n",
       "?      343\n",
       "YES    314\n",
       "Name: police_report_available, dtype: int64"
      ]
     },
     "execution_count": 27,
     "metadata": {},
     "output_type": "execute_result"
    }
   ],
   "source": [
    "df['police_report_available'].value_counts() #replcaing the missing values with the mode."
   ]
  },
  {
   "cell_type": "code",
   "execution_count": 28,
   "id": "ffaf1ce1",
   "metadata": {},
   "outputs": [
    {
     "data": {
      "text/plain": [
       "Rear Collision     292\n",
       "Side Collision     276\n",
       "Front Collision    254\n",
       "?                  178\n",
       "Name: collision_type, dtype: int64"
      ]
     },
     "execution_count": 28,
     "metadata": {},
     "output_type": "execute_result"
    }
   ],
   "source": [
    "df['collision_type'].value_counts()  #replacing the missing values with the mode."
   ]
  },
  {
   "cell_type": "code",
   "execution_count": 29,
   "id": "58c103e4",
   "metadata": {},
   "outputs": [],
   "source": [
    "df[\"collision_type\"] = df[\"collision_type\"].str.replace('?', 'Rear Collision')"
   ]
  },
  {
   "cell_type": "code",
   "execution_count": 30,
   "id": "7f8bc4a9",
   "metadata": {},
   "outputs": [
    {
     "data": {
      "text/plain": [
       "Rear Collision     470\n",
       "Side Collision     276\n",
       "Front Collision    254\n",
       "Name: collision_type, dtype: int64"
      ]
     },
     "execution_count": 30,
     "metadata": {},
     "output_type": "execute_result"
    }
   ],
   "source": [
    "df['collision_type'].value_counts()"
   ]
  },
  {
   "cell_type": "code",
   "execution_count": 31,
   "id": "68a4a5a5",
   "metadata": {},
   "outputs": [],
   "source": [
    "df['police_report_available']=df['police_report_available'].str.replace('?','NO') # replcaing the missing values with the mode."
   ]
  },
  {
   "cell_type": "code",
   "execution_count": 32,
   "id": "b942e280",
   "metadata": {},
   "outputs": [
    {
     "data": {
      "text/plain": [
       "NO     686\n",
       "YES    314\n",
       "Name: police_report_available, dtype: int64"
      ]
     },
     "execution_count": 32,
     "metadata": {},
     "output_type": "execute_result"
    }
   ],
   "source": [
    "df['police_report_available'].value_counts()"
   ]
  },
  {
   "cell_type": "code",
   "execution_count": 33,
   "id": "915e0bf0",
   "metadata": {},
   "outputs": [],
   "source": [
    "df['property_damage']=df['property_damage'].str.replace('?','NO') #replacing the missing values with the mode."
   ]
  },
  {
   "cell_type": "code",
   "execution_count": 34,
   "id": "a3dc5572",
   "metadata": {},
   "outputs": [
    {
     "data": {
      "text/plain": [
       "NO     698\n",
       "YES    302\n",
       "Name: property_damage, dtype: int64"
      ]
     },
     "execution_count": 34,
     "metadata": {},
     "output_type": "execute_result"
    }
   ],
   "source": [
    "df['property_damage'].value_counts()"
   ]
  },
  {
   "cell_type": "markdown",
   "id": "51ed3a25",
   "metadata": {},
   "source": [
    "# Feature Engineering"
   ]
  },
  {
   "cell_type": "code",
   "execution_count": 35,
   "id": "db2c85c3",
   "metadata": {},
   "outputs": [],
   "source": [
    "df.drop('policy_number',axis=1,inplace=True)"
   ]
  },
  {
   "cell_type": "code",
   "execution_count": 36,
   "id": "4b0808a5",
   "metadata": {},
   "outputs": [],
   "source": [
    "df.drop('policy_bind_date',axis=1,inplace=True)"
   ]
  },
  {
   "cell_type": "code",
   "execution_count": 37,
   "id": "57922d8b",
   "metadata": {},
   "outputs": [],
   "source": [
    "df.drop('insured_zip',axis=1,inplace=True)"
   ]
  },
  {
   "cell_type": "code",
   "execution_count": 38,
   "id": "74a37269",
   "metadata": {},
   "outputs": [],
   "source": [
    "df.drop('incident_location',axis=1,inplace=True)"
   ]
  },
  {
   "cell_type": "code",
   "execution_count": 39,
   "id": "4d9cba4e",
   "metadata": {},
   "outputs": [],
   "source": [
    "df.drop('auto_year',axis=1,inplace=True)"
   ]
  },
  {
   "cell_type": "code",
   "execution_count": 40,
   "id": "bded4b25",
   "metadata": {},
   "outputs": [],
   "source": [
    "df.drop('_c39',axis=1,inplace=True)"
   ]
  },
  {
   "cell_type": "code",
   "execution_count": 41,
   "id": "ff845d0d",
   "metadata": {},
   "outputs": [],
   "source": [
    "df.drop('incident_date',axis=1,inplace=True)"
   ]
  },
  {
   "cell_type": "markdown",
   "id": "bc7596df",
   "metadata": {},
   "source": [
    "Droping the above columns as they are giving us the least informtaion and contributing negetivly in determing the fraud_reported."
   ]
  },
  {
   "cell_type": "code",
   "execution_count": 42,
   "id": "748a4eb0",
   "metadata": {},
   "outputs": [
    {
     "data": {
      "text/plain": [
       "(1000, 33)"
      ]
     },
     "execution_count": 42,
     "metadata": {},
     "output_type": "execute_result"
    }
   ],
   "source": [
    "df.shape"
   ]
  },
  {
   "cell_type": "code",
   "execution_count": 43,
   "id": "803bb5a3",
   "metadata": {},
   "outputs": [
    {
     "data": {
      "text/html": [
       "<div>\n",
       "<style scoped>\n",
       "    .dataframe tbody tr th:only-of-type {\n",
       "        vertical-align: middle;\n",
       "    }\n",
       "\n",
       "    .dataframe tbody tr th {\n",
       "        vertical-align: top;\n",
       "    }\n",
       "\n",
       "    .dataframe thead th {\n",
       "        text-align: right;\n",
       "    }\n",
       "</style>\n",
       "<table border=\"1\" class=\"dataframe\">\n",
       "  <thead>\n",
       "    <tr style=\"text-align: right;\">\n",
       "      <th></th>\n",
       "      <th>months_as_customer</th>\n",
       "      <th>age</th>\n",
       "      <th>policy_state</th>\n",
       "      <th>policy_csl</th>\n",
       "      <th>policy_deductable</th>\n",
       "      <th>policy_annual_premium</th>\n",
       "      <th>umbrella_limit</th>\n",
       "      <th>insured_sex</th>\n",
       "      <th>insured_education_level</th>\n",
       "      <th>insured_occupation</th>\n",
       "      <th>...</th>\n",
       "      <th>bodily_injuries</th>\n",
       "      <th>witnesses</th>\n",
       "      <th>police_report_available</th>\n",
       "      <th>total_claim_amount</th>\n",
       "      <th>injury_claim</th>\n",
       "      <th>property_claim</th>\n",
       "      <th>vehicle_claim</th>\n",
       "      <th>auto_make</th>\n",
       "      <th>auto_model</th>\n",
       "      <th>fraud_reported</th>\n",
       "    </tr>\n",
       "  </thead>\n",
       "  <tbody>\n",
       "    <tr>\n",
       "      <th>0</th>\n",
       "      <td>328</td>\n",
       "      <td>48</td>\n",
       "      <td>OH</td>\n",
       "      <td>250/500</td>\n",
       "      <td>1000</td>\n",
       "      <td>1406.91</td>\n",
       "      <td>0</td>\n",
       "      <td>MALE</td>\n",
       "      <td>MD</td>\n",
       "      <td>craft-repair</td>\n",
       "      <td>...</td>\n",
       "      <td>1</td>\n",
       "      <td>2</td>\n",
       "      <td>YES</td>\n",
       "      <td>71610</td>\n",
       "      <td>6510</td>\n",
       "      <td>13020</td>\n",
       "      <td>52080</td>\n",
       "      <td>Saab</td>\n",
       "      <td>92x</td>\n",
       "      <td>Y</td>\n",
       "    </tr>\n",
       "    <tr>\n",
       "      <th>1</th>\n",
       "      <td>228</td>\n",
       "      <td>42</td>\n",
       "      <td>IN</td>\n",
       "      <td>250/500</td>\n",
       "      <td>2000</td>\n",
       "      <td>1197.22</td>\n",
       "      <td>5000000</td>\n",
       "      <td>MALE</td>\n",
       "      <td>MD</td>\n",
       "      <td>machine-op-inspct</td>\n",
       "      <td>...</td>\n",
       "      <td>0</td>\n",
       "      <td>0</td>\n",
       "      <td>NO</td>\n",
       "      <td>5070</td>\n",
       "      <td>780</td>\n",
       "      <td>780</td>\n",
       "      <td>3510</td>\n",
       "      <td>Mercedes</td>\n",
       "      <td>E400</td>\n",
       "      <td>Y</td>\n",
       "    </tr>\n",
       "    <tr>\n",
       "      <th>2</th>\n",
       "      <td>134</td>\n",
       "      <td>29</td>\n",
       "      <td>OH</td>\n",
       "      <td>100/300</td>\n",
       "      <td>2000</td>\n",
       "      <td>1413.14</td>\n",
       "      <td>5000000</td>\n",
       "      <td>FEMALE</td>\n",
       "      <td>PhD</td>\n",
       "      <td>sales</td>\n",
       "      <td>...</td>\n",
       "      <td>2</td>\n",
       "      <td>3</td>\n",
       "      <td>NO</td>\n",
       "      <td>34650</td>\n",
       "      <td>7700</td>\n",
       "      <td>3850</td>\n",
       "      <td>23100</td>\n",
       "      <td>Dodge</td>\n",
       "      <td>RAM</td>\n",
       "      <td>N</td>\n",
       "    </tr>\n",
       "    <tr>\n",
       "      <th>3</th>\n",
       "      <td>256</td>\n",
       "      <td>41</td>\n",
       "      <td>IL</td>\n",
       "      <td>250/500</td>\n",
       "      <td>2000</td>\n",
       "      <td>1415.74</td>\n",
       "      <td>6000000</td>\n",
       "      <td>FEMALE</td>\n",
       "      <td>PhD</td>\n",
       "      <td>armed-forces</td>\n",
       "      <td>...</td>\n",
       "      <td>1</td>\n",
       "      <td>2</td>\n",
       "      <td>NO</td>\n",
       "      <td>63400</td>\n",
       "      <td>6340</td>\n",
       "      <td>6340</td>\n",
       "      <td>50720</td>\n",
       "      <td>Chevrolet</td>\n",
       "      <td>Tahoe</td>\n",
       "      <td>Y</td>\n",
       "    </tr>\n",
       "    <tr>\n",
       "      <th>4</th>\n",
       "      <td>228</td>\n",
       "      <td>44</td>\n",
       "      <td>IL</td>\n",
       "      <td>500/1000</td>\n",
       "      <td>1000</td>\n",
       "      <td>1583.91</td>\n",
       "      <td>6000000</td>\n",
       "      <td>MALE</td>\n",
       "      <td>Associate</td>\n",
       "      <td>sales</td>\n",
       "      <td>...</td>\n",
       "      <td>0</td>\n",
       "      <td>1</td>\n",
       "      <td>NO</td>\n",
       "      <td>6500</td>\n",
       "      <td>1300</td>\n",
       "      <td>650</td>\n",
       "      <td>4550</td>\n",
       "      <td>Accura</td>\n",
       "      <td>RSX</td>\n",
       "      <td>N</td>\n",
       "    </tr>\n",
       "    <tr>\n",
       "      <th>...</th>\n",
       "      <td>...</td>\n",
       "      <td>...</td>\n",
       "      <td>...</td>\n",
       "      <td>...</td>\n",
       "      <td>...</td>\n",
       "      <td>...</td>\n",
       "      <td>...</td>\n",
       "      <td>...</td>\n",
       "      <td>...</td>\n",
       "      <td>...</td>\n",
       "      <td>...</td>\n",
       "      <td>...</td>\n",
       "      <td>...</td>\n",
       "      <td>...</td>\n",
       "      <td>...</td>\n",
       "      <td>...</td>\n",
       "      <td>...</td>\n",
       "      <td>...</td>\n",
       "      <td>...</td>\n",
       "      <td>...</td>\n",
       "      <td>...</td>\n",
       "    </tr>\n",
       "    <tr>\n",
       "      <th>995</th>\n",
       "      <td>3</td>\n",
       "      <td>38</td>\n",
       "      <td>OH</td>\n",
       "      <td>500/1000</td>\n",
       "      <td>1000</td>\n",
       "      <td>1310.80</td>\n",
       "      <td>0</td>\n",
       "      <td>FEMALE</td>\n",
       "      <td>Masters</td>\n",
       "      <td>craft-repair</td>\n",
       "      <td>...</td>\n",
       "      <td>0</td>\n",
       "      <td>1</td>\n",
       "      <td>NO</td>\n",
       "      <td>87200</td>\n",
       "      <td>17440</td>\n",
       "      <td>8720</td>\n",
       "      <td>61040</td>\n",
       "      <td>Honda</td>\n",
       "      <td>Accord</td>\n",
       "      <td>N</td>\n",
       "    </tr>\n",
       "    <tr>\n",
       "      <th>996</th>\n",
       "      <td>285</td>\n",
       "      <td>41</td>\n",
       "      <td>IL</td>\n",
       "      <td>100/300</td>\n",
       "      <td>1000</td>\n",
       "      <td>1436.79</td>\n",
       "      <td>0</td>\n",
       "      <td>FEMALE</td>\n",
       "      <td>PhD</td>\n",
       "      <td>prof-specialty</td>\n",
       "      <td>...</td>\n",
       "      <td>2</td>\n",
       "      <td>3</td>\n",
       "      <td>NO</td>\n",
       "      <td>108480</td>\n",
       "      <td>18080</td>\n",
       "      <td>18080</td>\n",
       "      <td>72320</td>\n",
       "      <td>Volkswagen</td>\n",
       "      <td>Passat</td>\n",
       "      <td>N</td>\n",
       "    </tr>\n",
       "    <tr>\n",
       "      <th>997</th>\n",
       "      <td>130</td>\n",
       "      <td>34</td>\n",
       "      <td>OH</td>\n",
       "      <td>250/500</td>\n",
       "      <td>500</td>\n",
       "      <td>1383.49</td>\n",
       "      <td>3000000</td>\n",
       "      <td>FEMALE</td>\n",
       "      <td>Masters</td>\n",
       "      <td>armed-forces</td>\n",
       "      <td>...</td>\n",
       "      <td>2</td>\n",
       "      <td>3</td>\n",
       "      <td>YES</td>\n",
       "      <td>67500</td>\n",
       "      <td>7500</td>\n",
       "      <td>7500</td>\n",
       "      <td>52500</td>\n",
       "      <td>Suburu</td>\n",
       "      <td>Impreza</td>\n",
       "      <td>N</td>\n",
       "    </tr>\n",
       "    <tr>\n",
       "      <th>998</th>\n",
       "      <td>458</td>\n",
       "      <td>62</td>\n",
       "      <td>IL</td>\n",
       "      <td>500/1000</td>\n",
       "      <td>2000</td>\n",
       "      <td>1356.92</td>\n",
       "      <td>5000000</td>\n",
       "      <td>MALE</td>\n",
       "      <td>Associate</td>\n",
       "      <td>handlers-cleaners</td>\n",
       "      <td>...</td>\n",
       "      <td>0</td>\n",
       "      <td>1</td>\n",
       "      <td>YES</td>\n",
       "      <td>46980</td>\n",
       "      <td>5220</td>\n",
       "      <td>5220</td>\n",
       "      <td>36540</td>\n",
       "      <td>Audi</td>\n",
       "      <td>A5</td>\n",
       "      <td>N</td>\n",
       "    </tr>\n",
       "    <tr>\n",
       "      <th>999</th>\n",
       "      <td>456</td>\n",
       "      <td>60</td>\n",
       "      <td>OH</td>\n",
       "      <td>250/500</td>\n",
       "      <td>1000</td>\n",
       "      <td>766.19</td>\n",
       "      <td>0</td>\n",
       "      <td>FEMALE</td>\n",
       "      <td>Associate</td>\n",
       "      <td>sales</td>\n",
       "      <td>...</td>\n",
       "      <td>0</td>\n",
       "      <td>3</td>\n",
       "      <td>NO</td>\n",
       "      <td>5060</td>\n",
       "      <td>460</td>\n",
       "      <td>920</td>\n",
       "      <td>3680</td>\n",
       "      <td>Mercedes</td>\n",
       "      <td>E400</td>\n",
       "      <td>N</td>\n",
       "    </tr>\n",
       "  </tbody>\n",
       "</table>\n",
       "<p>1000 rows × 33 columns</p>\n",
       "</div>"
      ],
      "text/plain": [
       "     months_as_customer  age policy_state policy_csl  policy_deductable  \\\n",
       "0                   328   48           OH    250/500               1000   \n",
       "1                   228   42           IN    250/500               2000   \n",
       "2                   134   29           OH    100/300               2000   \n",
       "3                   256   41           IL    250/500               2000   \n",
       "4                   228   44           IL   500/1000               1000   \n",
       "..                  ...  ...          ...        ...                ...   \n",
       "995                   3   38           OH   500/1000               1000   \n",
       "996                 285   41           IL    100/300               1000   \n",
       "997                 130   34           OH    250/500                500   \n",
       "998                 458   62           IL   500/1000               2000   \n",
       "999                 456   60           OH    250/500               1000   \n",
       "\n",
       "     policy_annual_premium  umbrella_limit insured_sex  \\\n",
       "0                  1406.91               0        MALE   \n",
       "1                  1197.22         5000000        MALE   \n",
       "2                  1413.14         5000000      FEMALE   \n",
       "3                  1415.74         6000000      FEMALE   \n",
       "4                  1583.91         6000000        MALE   \n",
       "..                     ...             ...         ...   \n",
       "995                1310.80               0      FEMALE   \n",
       "996                1436.79               0      FEMALE   \n",
       "997                1383.49         3000000      FEMALE   \n",
       "998                1356.92         5000000        MALE   \n",
       "999                 766.19               0      FEMALE   \n",
       "\n",
       "    insured_education_level insured_occupation  ... bodily_injuries witnesses  \\\n",
       "0                        MD       craft-repair  ...               1         2   \n",
       "1                        MD  machine-op-inspct  ...               0         0   \n",
       "2                       PhD              sales  ...               2         3   \n",
       "3                       PhD       armed-forces  ...               1         2   \n",
       "4                 Associate              sales  ...               0         1   \n",
       "..                      ...                ...  ...             ...       ...   \n",
       "995                 Masters       craft-repair  ...               0         1   \n",
       "996                     PhD     prof-specialty  ...               2         3   \n",
       "997                 Masters       armed-forces  ...               2         3   \n",
       "998               Associate  handlers-cleaners  ...               0         1   \n",
       "999               Associate              sales  ...               0         3   \n",
       "\n",
       "     police_report_available  total_claim_amount injury_claim property_claim  \\\n",
       "0                        YES               71610         6510          13020   \n",
       "1                         NO                5070          780            780   \n",
       "2                         NO               34650         7700           3850   \n",
       "3                         NO               63400         6340           6340   \n",
       "4                         NO                6500         1300            650   \n",
       "..                       ...                 ...          ...            ...   \n",
       "995                       NO               87200        17440           8720   \n",
       "996                       NO              108480        18080          18080   \n",
       "997                      YES               67500         7500           7500   \n",
       "998                      YES               46980         5220           5220   \n",
       "999                       NO                5060          460            920   \n",
       "\n",
       "    vehicle_claim   auto_make auto_model fraud_reported  \n",
       "0           52080        Saab        92x              Y  \n",
       "1            3510    Mercedes       E400              Y  \n",
       "2           23100       Dodge        RAM              N  \n",
       "3           50720   Chevrolet      Tahoe              Y  \n",
       "4            4550      Accura        RSX              N  \n",
       "..            ...         ...        ...            ...  \n",
       "995         61040       Honda     Accord              N  \n",
       "996         72320  Volkswagen     Passat              N  \n",
       "997         52500      Suburu    Impreza              N  \n",
       "998         36540        Audi         A5              N  \n",
       "999          3680    Mercedes       E400              N  \n",
       "\n",
       "[1000 rows x 33 columns]"
      ]
     },
     "execution_count": 43,
     "metadata": {},
     "output_type": "execute_result"
    }
   ],
   "source": [
    "df"
   ]
  },
  {
   "cell_type": "markdown",
   "id": "6071d9a9",
   "metadata": {},
   "source": [
    "# Label Encoding"
   ]
  },
  {
   "cell_type": "code",
   "execution_count": 44,
   "id": "02b52d64",
   "metadata": {},
   "outputs": [],
   "source": [
    "from sklearn.preprocessing import LabelEncoder\n",
    "le=LabelEncoder()\n",
    "name=['policy_state','policy_csl','insured_sex','insured_education_level','insured_occupation','insured_hobbies','insured_relationship','incident_type','collision_type','incident_severity','authorities_contacted','incident_state','incident_city','property_damage','police_report_available','auto_make','fraud_reported','auto_model']\n",
    "for val in name:\n",
    "    df[val]=le.fit_transform(df[val].astype(str))\n"
   ]
  },
  {
   "cell_type": "code",
   "execution_count": 45,
   "id": "b30ce843",
   "metadata": {},
   "outputs": [
    {
     "data": {
      "text/html": [
       "<div>\n",
       "<style scoped>\n",
       "    .dataframe tbody tr th:only-of-type {\n",
       "        vertical-align: middle;\n",
       "    }\n",
       "\n",
       "    .dataframe tbody tr th {\n",
       "        vertical-align: top;\n",
       "    }\n",
       "\n",
       "    .dataframe thead th {\n",
       "        text-align: right;\n",
       "    }\n",
       "</style>\n",
       "<table border=\"1\" class=\"dataframe\">\n",
       "  <thead>\n",
       "    <tr style=\"text-align: right;\">\n",
       "      <th></th>\n",
       "      <th>months_as_customer</th>\n",
       "      <th>age</th>\n",
       "      <th>policy_state</th>\n",
       "      <th>policy_csl</th>\n",
       "      <th>policy_deductable</th>\n",
       "      <th>policy_annual_premium</th>\n",
       "      <th>umbrella_limit</th>\n",
       "      <th>insured_sex</th>\n",
       "      <th>insured_education_level</th>\n",
       "      <th>insured_occupation</th>\n",
       "      <th>...</th>\n",
       "      <th>bodily_injuries</th>\n",
       "      <th>witnesses</th>\n",
       "      <th>police_report_available</th>\n",
       "      <th>total_claim_amount</th>\n",
       "      <th>injury_claim</th>\n",
       "      <th>property_claim</th>\n",
       "      <th>vehicle_claim</th>\n",
       "      <th>auto_make</th>\n",
       "      <th>auto_model</th>\n",
       "      <th>fraud_reported</th>\n",
       "    </tr>\n",
       "  </thead>\n",
       "  <tbody>\n",
       "    <tr>\n",
       "      <th>0</th>\n",
       "      <td>328</td>\n",
       "      <td>48</td>\n",
       "      <td>2</td>\n",
       "      <td>1</td>\n",
       "      <td>1000</td>\n",
       "      <td>1406.91</td>\n",
       "      <td>0</td>\n",
       "      <td>1</td>\n",
       "      <td>4</td>\n",
       "      <td>2</td>\n",
       "      <td>...</td>\n",
       "      <td>1</td>\n",
       "      <td>2</td>\n",
       "      <td>1</td>\n",
       "      <td>71610</td>\n",
       "      <td>6510</td>\n",
       "      <td>13020</td>\n",
       "      <td>52080</td>\n",
       "      <td>10</td>\n",
       "      <td>1</td>\n",
       "      <td>1</td>\n",
       "    </tr>\n",
       "    <tr>\n",
       "      <th>1</th>\n",
       "      <td>228</td>\n",
       "      <td>42</td>\n",
       "      <td>1</td>\n",
       "      <td>1</td>\n",
       "      <td>2000</td>\n",
       "      <td>1197.22</td>\n",
       "      <td>5000000</td>\n",
       "      <td>1</td>\n",
       "      <td>4</td>\n",
       "      <td>6</td>\n",
       "      <td>...</td>\n",
       "      <td>0</td>\n",
       "      <td>0</td>\n",
       "      <td>0</td>\n",
       "      <td>5070</td>\n",
       "      <td>780</td>\n",
       "      <td>780</td>\n",
       "      <td>3510</td>\n",
       "      <td>8</td>\n",
       "      <td>12</td>\n",
       "      <td>1</td>\n",
       "    </tr>\n",
       "    <tr>\n",
       "      <th>2</th>\n",
       "      <td>134</td>\n",
       "      <td>29</td>\n",
       "      <td>2</td>\n",
       "      <td>0</td>\n",
       "      <td>2000</td>\n",
       "      <td>1413.14</td>\n",
       "      <td>5000000</td>\n",
       "      <td>0</td>\n",
       "      <td>6</td>\n",
       "      <td>11</td>\n",
       "      <td>...</td>\n",
       "      <td>2</td>\n",
       "      <td>3</td>\n",
       "      <td>0</td>\n",
       "      <td>34650</td>\n",
       "      <td>7700</td>\n",
       "      <td>3850</td>\n",
       "      <td>23100</td>\n",
       "      <td>4</td>\n",
       "      <td>30</td>\n",
       "      <td>0</td>\n",
       "    </tr>\n",
       "    <tr>\n",
       "      <th>3</th>\n",
       "      <td>256</td>\n",
       "      <td>41</td>\n",
       "      <td>0</td>\n",
       "      <td>1</td>\n",
       "      <td>2000</td>\n",
       "      <td>1415.74</td>\n",
       "      <td>6000000</td>\n",
       "      <td>0</td>\n",
       "      <td>6</td>\n",
       "      <td>1</td>\n",
       "      <td>...</td>\n",
       "      <td>1</td>\n",
       "      <td>2</td>\n",
       "      <td>0</td>\n",
       "      <td>63400</td>\n",
       "      <td>6340</td>\n",
       "      <td>6340</td>\n",
       "      <td>50720</td>\n",
       "      <td>3</td>\n",
       "      <td>34</td>\n",
       "      <td>1</td>\n",
       "    </tr>\n",
       "    <tr>\n",
       "      <th>4</th>\n",
       "      <td>228</td>\n",
       "      <td>44</td>\n",
       "      <td>0</td>\n",
       "      <td>2</td>\n",
       "      <td>1000</td>\n",
       "      <td>1583.91</td>\n",
       "      <td>6000000</td>\n",
       "      <td>1</td>\n",
       "      <td>0</td>\n",
       "      <td>11</td>\n",
       "      <td>...</td>\n",
       "      <td>0</td>\n",
       "      <td>1</td>\n",
       "      <td>0</td>\n",
       "      <td>6500</td>\n",
       "      <td>1300</td>\n",
       "      <td>650</td>\n",
       "      <td>4550</td>\n",
       "      <td>0</td>\n",
       "      <td>31</td>\n",
       "      <td>0</td>\n",
       "    </tr>\n",
       "    <tr>\n",
       "      <th>...</th>\n",
       "      <td>...</td>\n",
       "      <td>...</td>\n",
       "      <td>...</td>\n",
       "      <td>...</td>\n",
       "      <td>...</td>\n",
       "      <td>...</td>\n",
       "      <td>...</td>\n",
       "      <td>...</td>\n",
       "      <td>...</td>\n",
       "      <td>...</td>\n",
       "      <td>...</td>\n",
       "      <td>...</td>\n",
       "      <td>...</td>\n",
       "      <td>...</td>\n",
       "      <td>...</td>\n",
       "      <td>...</td>\n",
       "      <td>...</td>\n",
       "      <td>...</td>\n",
       "      <td>...</td>\n",
       "      <td>...</td>\n",
       "      <td>...</td>\n",
       "    </tr>\n",
       "    <tr>\n",
       "      <th>995</th>\n",
       "      <td>3</td>\n",
       "      <td>38</td>\n",
       "      <td>2</td>\n",
       "      <td>2</td>\n",
       "      <td>1000</td>\n",
       "      <td>1310.80</td>\n",
       "      <td>0</td>\n",
       "      <td>0</td>\n",
       "      <td>5</td>\n",
       "      <td>2</td>\n",
       "      <td>...</td>\n",
       "      <td>0</td>\n",
       "      <td>1</td>\n",
       "      <td>0</td>\n",
       "      <td>87200</td>\n",
       "      <td>17440</td>\n",
       "      <td>8720</td>\n",
       "      <td>61040</td>\n",
       "      <td>6</td>\n",
       "      <td>6</td>\n",
       "      <td>0</td>\n",
       "    </tr>\n",
       "    <tr>\n",
       "      <th>996</th>\n",
       "      <td>285</td>\n",
       "      <td>41</td>\n",
       "      <td>0</td>\n",
       "      <td>0</td>\n",
       "      <td>1000</td>\n",
       "      <td>1436.79</td>\n",
       "      <td>0</td>\n",
       "      <td>0</td>\n",
       "      <td>6</td>\n",
       "      <td>9</td>\n",
       "      <td>...</td>\n",
       "      <td>2</td>\n",
       "      <td>3</td>\n",
       "      <td>0</td>\n",
       "      <td>108480</td>\n",
       "      <td>18080</td>\n",
       "      <td>18080</td>\n",
       "      <td>72320</td>\n",
       "      <td>13</td>\n",
       "      <td>28</td>\n",
       "      <td>0</td>\n",
       "    </tr>\n",
       "    <tr>\n",
       "      <th>997</th>\n",
       "      <td>130</td>\n",
       "      <td>34</td>\n",
       "      <td>2</td>\n",
       "      <td>1</td>\n",
       "      <td>500</td>\n",
       "      <td>1383.49</td>\n",
       "      <td>3000000</td>\n",
       "      <td>0</td>\n",
       "      <td>5</td>\n",
       "      <td>1</td>\n",
       "      <td>...</td>\n",
       "      <td>2</td>\n",
       "      <td>3</td>\n",
       "      <td>1</td>\n",
       "      <td>67500</td>\n",
       "      <td>7500</td>\n",
       "      <td>7500</td>\n",
       "      <td>52500</td>\n",
       "      <td>11</td>\n",
       "      <td>19</td>\n",
       "      <td>0</td>\n",
       "    </tr>\n",
       "    <tr>\n",
       "      <th>998</th>\n",
       "      <td>458</td>\n",
       "      <td>62</td>\n",
       "      <td>0</td>\n",
       "      <td>2</td>\n",
       "      <td>2000</td>\n",
       "      <td>1356.92</td>\n",
       "      <td>5000000</td>\n",
       "      <td>1</td>\n",
       "      <td>0</td>\n",
       "      <td>5</td>\n",
       "      <td>...</td>\n",
       "      <td>0</td>\n",
       "      <td>1</td>\n",
       "      <td>1</td>\n",
       "      <td>46980</td>\n",
       "      <td>5220</td>\n",
       "      <td>5220</td>\n",
       "      <td>36540</td>\n",
       "      <td>1</td>\n",
       "      <td>5</td>\n",
       "      <td>0</td>\n",
       "    </tr>\n",
       "    <tr>\n",
       "      <th>999</th>\n",
       "      <td>456</td>\n",
       "      <td>60</td>\n",
       "      <td>2</td>\n",
       "      <td>1</td>\n",
       "      <td>1000</td>\n",
       "      <td>766.19</td>\n",
       "      <td>0</td>\n",
       "      <td>0</td>\n",
       "      <td>0</td>\n",
       "      <td>11</td>\n",
       "      <td>...</td>\n",
       "      <td>0</td>\n",
       "      <td>3</td>\n",
       "      <td>0</td>\n",
       "      <td>5060</td>\n",
       "      <td>460</td>\n",
       "      <td>920</td>\n",
       "      <td>3680</td>\n",
       "      <td>8</td>\n",
       "      <td>12</td>\n",
       "      <td>0</td>\n",
       "    </tr>\n",
       "  </tbody>\n",
       "</table>\n",
       "<p>1000 rows × 33 columns</p>\n",
       "</div>"
      ],
      "text/plain": [
       "     months_as_customer  age  policy_state  policy_csl  policy_deductable  \\\n",
       "0                   328   48             2           1               1000   \n",
       "1                   228   42             1           1               2000   \n",
       "2                   134   29             2           0               2000   \n",
       "3                   256   41             0           1               2000   \n",
       "4                   228   44             0           2               1000   \n",
       "..                  ...  ...           ...         ...                ...   \n",
       "995                   3   38             2           2               1000   \n",
       "996                 285   41             0           0               1000   \n",
       "997                 130   34             2           1                500   \n",
       "998                 458   62             0           2               2000   \n",
       "999                 456   60             2           1               1000   \n",
       "\n",
       "     policy_annual_premium  umbrella_limit  insured_sex  \\\n",
       "0                  1406.91               0            1   \n",
       "1                  1197.22         5000000            1   \n",
       "2                  1413.14         5000000            0   \n",
       "3                  1415.74         6000000            0   \n",
       "4                  1583.91         6000000            1   \n",
       "..                     ...             ...          ...   \n",
       "995                1310.80               0            0   \n",
       "996                1436.79               0            0   \n",
       "997                1383.49         3000000            0   \n",
       "998                1356.92         5000000            1   \n",
       "999                 766.19               0            0   \n",
       "\n",
       "     insured_education_level  insured_occupation  ...  bodily_injuries  \\\n",
       "0                          4                   2  ...                1   \n",
       "1                          4                   6  ...                0   \n",
       "2                          6                  11  ...                2   \n",
       "3                          6                   1  ...                1   \n",
       "4                          0                  11  ...                0   \n",
       "..                       ...                 ...  ...              ...   \n",
       "995                        5                   2  ...                0   \n",
       "996                        6                   9  ...                2   \n",
       "997                        5                   1  ...                2   \n",
       "998                        0                   5  ...                0   \n",
       "999                        0                  11  ...                0   \n",
       "\n",
       "     witnesses  police_report_available  total_claim_amount  injury_claim  \\\n",
       "0            2                        1               71610          6510   \n",
       "1            0                        0                5070           780   \n",
       "2            3                        0               34650          7700   \n",
       "3            2                        0               63400          6340   \n",
       "4            1                        0                6500          1300   \n",
       "..         ...                      ...                 ...           ...   \n",
       "995          1                        0               87200         17440   \n",
       "996          3                        0              108480         18080   \n",
       "997          3                        1               67500          7500   \n",
       "998          1                        1               46980          5220   \n",
       "999          3                        0                5060           460   \n",
       "\n",
       "     property_claim  vehicle_claim  auto_make  auto_model  fraud_reported  \n",
       "0             13020          52080         10           1               1  \n",
       "1               780           3510          8          12               1  \n",
       "2              3850          23100          4          30               0  \n",
       "3              6340          50720          3          34               1  \n",
       "4               650           4550          0          31               0  \n",
       "..              ...            ...        ...         ...             ...  \n",
       "995            8720          61040          6           6               0  \n",
       "996           18080          72320         13          28               0  \n",
       "997            7500          52500         11          19               0  \n",
       "998            5220          36540          1           5               0  \n",
       "999             920           3680          8          12               0  \n",
       "\n",
       "[1000 rows x 33 columns]"
      ]
     },
     "execution_count": 45,
     "metadata": {},
     "output_type": "execute_result"
    }
   ],
   "source": [
    "df"
   ]
  },
  {
   "cell_type": "markdown",
   "id": "28f69563",
   "metadata": {},
   "source": [
    "Converting the categorial data into the numeric data so as to perform the furthur actions."
   ]
  },
  {
   "cell_type": "code",
   "execution_count": 46,
   "id": "702191f9",
   "metadata": {},
   "outputs": [
    {
     "data": {
      "text/plain": [
       "months_as_customer                AxesSubplot(0.125,0.772143;0.0824468x0.107857)\n",
       "age                            AxesSubplot(0.223936,0.772143;0.0824468x0.107857)\n",
       "policy_state                   AxesSubplot(0.322872,0.772143;0.0824468x0.107857)\n",
       "policy_csl                     AxesSubplot(0.421809,0.772143;0.0824468x0.107857)\n",
       "policy_deductable              AxesSubplot(0.520745,0.772143;0.0824468x0.107857)\n",
       "policy_annual_premium          AxesSubplot(0.619681,0.772143;0.0824468x0.107857)\n",
       "umbrella_limit                 AxesSubplot(0.718617,0.772143;0.0824468x0.107857)\n",
       "insured_sex                    AxesSubplot(0.817553,0.772143;0.0824468x0.107857)\n",
       "insured_education_level           AxesSubplot(0.125,0.642714;0.0824468x0.107857)\n",
       "insured_occupation             AxesSubplot(0.223936,0.642714;0.0824468x0.107857)\n",
       "insured_hobbies                AxesSubplot(0.322872,0.642714;0.0824468x0.107857)\n",
       "insured_relationship           AxesSubplot(0.421809,0.642714;0.0824468x0.107857)\n",
       "capital-gains                  AxesSubplot(0.520745,0.642714;0.0824468x0.107857)\n",
       "capital-loss                   AxesSubplot(0.619681,0.642714;0.0824468x0.107857)\n",
       "incident_type                  AxesSubplot(0.718617,0.642714;0.0824468x0.107857)\n",
       "collision_type                 AxesSubplot(0.817553,0.642714;0.0824468x0.107857)\n",
       "incident_severity                 AxesSubplot(0.125,0.513286;0.0824468x0.107857)\n",
       "authorities_contacted          AxesSubplot(0.223936,0.513286;0.0824468x0.107857)\n",
       "incident_state                 AxesSubplot(0.322872,0.513286;0.0824468x0.107857)\n",
       "incident_city                  AxesSubplot(0.421809,0.513286;0.0824468x0.107857)\n",
       "incident_hour_of_the_day       AxesSubplot(0.520745,0.513286;0.0824468x0.107857)\n",
       "number_of_vehicles_involved    AxesSubplot(0.619681,0.513286;0.0824468x0.107857)\n",
       "property_damage                AxesSubplot(0.718617,0.513286;0.0824468x0.107857)\n",
       "bodily_injuries                AxesSubplot(0.817553,0.513286;0.0824468x0.107857)\n",
       "witnesses                         AxesSubplot(0.125,0.383857;0.0824468x0.107857)\n",
       "police_report_available        AxesSubplot(0.223936,0.383857;0.0824468x0.107857)\n",
       "total_claim_amount             AxesSubplot(0.322872,0.383857;0.0824468x0.107857)\n",
       "injury_claim                   AxesSubplot(0.421809,0.383857;0.0824468x0.107857)\n",
       "property_claim                 AxesSubplot(0.520745,0.383857;0.0824468x0.107857)\n",
       "vehicle_claim                  AxesSubplot(0.619681,0.383857;0.0824468x0.107857)\n",
       "auto_make                      AxesSubplot(0.718617,0.383857;0.0824468x0.107857)\n",
       "auto_model                     AxesSubplot(0.817553,0.383857;0.0824468x0.107857)\n",
       "fraud_reported                    AxesSubplot(0.125,0.254429;0.0824468x0.107857)\n",
       "dtype: object"
      ]
     },
     "execution_count": 46,
     "metadata": {},
     "output_type": "execute_result"
    },
    {
     "data": {
      "image/png": "[encoded data removed]",
      "text/plain": [
       "<Figure size 1296x1296 with 48 Axes>"
      ]
     },
     "metadata": {
      "needs_background": "light"
     },
     "output_type": "display_data"
    }
   ],
   "source": [
    "color=dict(boxes=\"Purple\",whiskers=\"Red\",medians=\"Pink\",caps=\"Black\")\n",
    "df.plot(kind=\"box\",subplots=True,layout=(6,8),figsize=(18,18),color=color)"
   ]
  },
  {
   "cell_type": "markdown",
   "id": "9f3b54f7",
   "metadata": {},
   "source": [
    "In the above plot we can see that there is very slight presence of outliers in the columns."
   ]
  },
  {
   "cell_type": "code",
   "execution_count": 47,
   "id": "9f475453",
   "metadata": {},
   "outputs": [
    {
     "data": {
      "text/html": [
       "<div>\n",
       "<style scoped>\n",
       "    .dataframe tbody tr th:only-of-type {\n",
       "        vertical-align: middle;\n",
       "    }\n",
       "\n",
       "    .dataframe tbody tr th {\n",
       "        vertical-align: top;\n",
       "    }\n",
       "\n",
       "    .dataframe thead th {\n",
       "        text-align: right;\n",
       "    }\n",
       "</style>\n",
       "<table border=\"1\" class=\"dataframe\">\n",
       "  <thead>\n",
       "    <tr style=\"text-align: right;\">\n",
       "      <th></th>\n",
       "      <th>months_as_customer</th>\n",
       "      <th>age</th>\n",
       "      <th>policy_state</th>\n",
       "      <th>policy_csl</th>\n",
       "      <th>policy_deductable</th>\n",
       "      <th>policy_annual_premium</th>\n",
       "      <th>umbrella_limit</th>\n",
       "      <th>insured_sex</th>\n",
       "      <th>insured_education_level</th>\n",
       "      <th>insured_occupation</th>\n",
       "      <th>...</th>\n",
       "      <th>bodily_injuries</th>\n",
       "      <th>witnesses</th>\n",
       "      <th>police_report_available</th>\n",
       "      <th>total_claim_amount</th>\n",
       "      <th>injury_claim</th>\n",
       "      <th>property_claim</th>\n",
       "      <th>vehicle_claim</th>\n",
       "      <th>auto_make</th>\n",
       "      <th>auto_model</th>\n",
       "      <th>fraud_reported</th>\n",
       "    </tr>\n",
       "  </thead>\n",
       "  <tbody>\n",
       "    <tr>\n",
       "      <th>count</th>\n",
       "      <td>1000.000000</td>\n",
       "      <td>1000.000000</td>\n",
       "      <td>1000.00000</td>\n",
       "      <td>1000.000000</td>\n",
       "      <td>1000.000000</td>\n",
       "      <td>1000.000000</td>\n",
       "      <td>1.000000e+03</td>\n",
       "      <td>1000.000000</td>\n",
       "      <td>1000.000000</td>\n",
       "      <td>1000.000000</td>\n",
       "      <td>...</td>\n",
       "      <td>1000.000000</td>\n",
       "      <td>1000.000000</td>\n",
       "      <td>1000.000000</td>\n",
       "      <td>1000.00000</td>\n",
       "      <td>1000.000000</td>\n",
       "      <td>1000.000000</td>\n",
       "      <td>1000.000000</td>\n",
       "      <td>1000.000000</td>\n",
       "      <td>1000.000000</td>\n",
       "      <td>1000.000000</td>\n",
       "    </tr>\n",
       "    <tr>\n",
       "      <th>mean</th>\n",
       "      <td>203.954000</td>\n",
       "      <td>38.948000</td>\n",
       "      <td>1.01400</td>\n",
       "      <td>0.951000</td>\n",
       "      <td>1136.000000</td>\n",
       "      <td>1256.406150</td>\n",
       "      <td>1.101000e+06</td>\n",
       "      <td>0.463000</td>\n",
       "      <td>2.966000</td>\n",
       "      <td>6.653000</td>\n",
       "      <td>...</td>\n",
       "      <td>0.992000</td>\n",
       "      <td>1.487000</td>\n",
       "      <td>0.314000</td>\n",
       "      <td>52761.94000</td>\n",
       "      <td>7433.420000</td>\n",
       "      <td>7399.570000</td>\n",
       "      <td>37928.950000</td>\n",
       "      <td>6.546000</td>\n",
       "      <td>19.318000</td>\n",
       "      <td>0.247000</td>\n",
       "    </tr>\n",
       "    <tr>\n",
       "      <th>std</th>\n",
       "      <td>115.113174</td>\n",
       "      <td>9.140287</td>\n",
       "      <td>0.83096</td>\n",
       "      <td>0.804516</td>\n",
       "      <td>611.864673</td>\n",
       "      <td>244.167395</td>\n",
       "      <td>2.297407e+06</td>\n",
       "      <td>0.498879</td>\n",
       "      <td>1.948497</td>\n",
       "      <td>4.019048</td>\n",
       "      <td>...</td>\n",
       "      <td>0.820127</td>\n",
       "      <td>1.111335</td>\n",
       "      <td>0.464349</td>\n",
       "      <td>26401.53319</td>\n",
       "      <td>4880.951853</td>\n",
       "      <td>4824.726179</td>\n",
       "      <td>18886.252893</td>\n",
       "      <td>4.034869</td>\n",
       "      <td>11.136107</td>\n",
       "      <td>0.431483</td>\n",
       "    </tr>\n",
       "    <tr>\n",
       "      <th>min</th>\n",
       "      <td>0.000000</td>\n",
       "      <td>19.000000</td>\n",
       "      <td>0.00000</td>\n",
       "      <td>0.000000</td>\n",
       "      <td>500.000000</td>\n",
       "      <td>433.330000</td>\n",
       "      <td>-1.000000e+06</td>\n",
       "      <td>0.000000</td>\n",
       "      <td>0.000000</td>\n",
       "      <td>0.000000</td>\n",
       "      <td>...</td>\n",
       "      <td>0.000000</td>\n",
       "      <td>0.000000</td>\n",
       "      <td>0.000000</td>\n",
       "      <td>100.00000</td>\n",
       "      <td>0.000000</td>\n",
       "      <td>0.000000</td>\n",
       "      <td>70.000000</td>\n",
       "      <td>0.000000</td>\n",
       "      <td>0.000000</td>\n",
       "      <td>0.000000</td>\n",
       "    </tr>\n",
       "    <tr>\n",
       "      <th>25%</th>\n",
       "      <td>115.750000</td>\n",
       "      <td>32.000000</td>\n",
       "      <td>0.00000</td>\n",
       "      <td>0.000000</td>\n",
       "      <td>500.000000</td>\n",
       "      <td>1089.607500</td>\n",
       "      <td>0.000000e+00</td>\n",
       "      <td>0.000000</td>\n",
       "      <td>1.000000</td>\n",
       "      <td>3.000000</td>\n",
       "      <td>...</td>\n",
       "      <td>0.000000</td>\n",
       "      <td>1.000000</td>\n",
       "      <td>0.000000</td>\n",
       "      <td>41812.50000</td>\n",
       "      <td>4295.000000</td>\n",
       "      <td>4445.000000</td>\n",
       "      <td>30292.500000</td>\n",
       "      <td>3.000000</td>\n",
       "      <td>10.000000</td>\n",
       "      <td>0.000000</td>\n",
       "    </tr>\n",
       "    <tr>\n",
       "      <th>50%</th>\n",
       "      <td>199.500000</td>\n",
       "      <td>38.000000</td>\n",
       "      <td>1.00000</td>\n",
       "      <td>1.000000</td>\n",
       "      <td>1000.000000</td>\n",
       "      <td>1257.200000</td>\n",
       "      <td>0.000000e+00</td>\n",
       "      <td>0.000000</td>\n",
       "      <td>3.000000</td>\n",
       "      <td>7.000000</td>\n",
       "      <td>...</td>\n",
       "      <td>1.000000</td>\n",
       "      <td>1.000000</td>\n",
       "      <td>0.000000</td>\n",
       "      <td>58055.00000</td>\n",
       "      <td>6775.000000</td>\n",
       "      <td>6750.000000</td>\n",
       "      <td>42100.000000</td>\n",
       "      <td>7.000000</td>\n",
       "      <td>20.000000</td>\n",
       "      <td>0.000000</td>\n",
       "    </tr>\n",
       "    <tr>\n",
       "      <th>75%</th>\n",
       "      <td>276.250000</td>\n",
       "      <td>44.000000</td>\n",
       "      <td>2.00000</td>\n",
       "      <td>2.000000</td>\n",
       "      <td>2000.000000</td>\n",
       "      <td>1415.695000</td>\n",
       "      <td>0.000000e+00</td>\n",
       "      <td>1.000000</td>\n",
       "      <td>5.000000</td>\n",
       "      <td>10.000000</td>\n",
       "      <td>...</td>\n",
       "      <td>2.000000</td>\n",
       "      <td>2.000000</td>\n",
       "      <td>1.000000</td>\n",
       "      <td>70592.50000</td>\n",
       "      <td>11305.000000</td>\n",
       "      <td>10885.000000</td>\n",
       "      <td>50822.500000</td>\n",
       "      <td>10.000000</td>\n",
       "      <td>29.000000</td>\n",
       "      <td>0.000000</td>\n",
       "    </tr>\n",
       "    <tr>\n",
       "      <th>max</th>\n",
       "      <td>479.000000</td>\n",
       "      <td>64.000000</td>\n",
       "      <td>2.00000</td>\n",
       "      <td>2.000000</td>\n",
       "      <td>2000.000000</td>\n",
       "      <td>2047.590000</td>\n",
       "      <td>1.000000e+07</td>\n",
       "      <td>1.000000</td>\n",
       "      <td>6.000000</td>\n",
       "      <td>13.000000</td>\n",
       "      <td>...</td>\n",
       "      <td>2.000000</td>\n",
       "      <td>3.000000</td>\n",
       "      <td>1.000000</td>\n",
       "      <td>114920.00000</td>\n",
       "      <td>21450.000000</td>\n",
       "      <td>23670.000000</td>\n",
       "      <td>79560.000000</td>\n",
       "      <td>13.000000</td>\n",
       "      <td>38.000000</td>\n",
       "      <td>1.000000</td>\n",
       "    </tr>\n",
       "  </tbody>\n",
       "</table>\n",
       "<p>8 rows × 33 columns</p>\n",
       "</div>"
      ],
      "text/plain": [
       "       months_as_customer          age  policy_state   policy_csl  \\\n",
       "count         1000.000000  1000.000000    1000.00000  1000.000000   \n",
       "mean           203.954000    38.948000       1.01400     0.951000   \n",
       "std            115.113174     9.140287       0.83096     0.804516   \n",
       "min              0.000000    19.000000       0.00000     0.000000   \n",
       "25%            115.750000    32.000000       0.00000     0.000000   \n",
       "50%            199.500000    38.000000       1.00000     1.000000   \n",
       "75%            276.250000    44.000000       2.00000     2.000000   \n",
       "max            479.000000    64.000000       2.00000     2.000000   \n",
       "\n",
       "       policy_deductable  policy_annual_premium  umbrella_limit  insured_sex  \\\n",
       "count        1000.000000            1000.000000    1.000000e+03  1000.000000   \n",
       "mean         1136.000000            1256.406150    1.101000e+06     0.463000   \n",
       "std           611.864673             244.167395    2.297407e+06     0.498879   \n",
       "min           500.000000             433.330000   -1.000000e+06     0.000000   \n",
       "25%           500.000000            1089.607500    0.000000e+00     0.000000   \n",
       "50%          1000.000000            1257.200000    0.000000e+00     0.000000   \n",
       "75%          2000.000000            1415.695000    0.000000e+00     1.000000   \n",
       "max          2000.000000            2047.590000    1.000000e+07     1.000000   \n",
       "\n",
       "       insured_education_level  insured_occupation  ...  bodily_injuries  \\\n",
       "count              1000.000000         1000.000000  ...      1000.000000   \n",
       "mean                  2.966000            6.653000  ...         0.992000   \n",
       "std                   1.948497            4.019048  ...         0.820127   \n",
       "min                   0.000000            0.000000  ...         0.000000   \n",
       "25%                   1.000000            3.000000  ...         0.000000   \n",
       "50%                   3.000000            7.000000  ...         1.000000   \n",
       "75%                   5.000000           10.000000  ...         2.000000   \n",
       "max                   6.000000           13.000000  ...         2.000000   \n",
       "\n",
       "         witnesses  police_report_available  total_claim_amount  injury_claim  \\\n",
       "count  1000.000000              1000.000000          1000.00000   1000.000000   \n",
       "mean      1.487000                 0.314000         52761.94000   7433.420000   \n",
       "std       1.111335                 0.464349         26401.53319   4880.951853   \n",
       "min       0.000000                 0.000000           100.00000      0.000000   \n",
       "25%       1.000000                 0.000000         41812.50000   4295.000000   \n",
       "50%       1.000000                 0.000000         58055.00000   6775.000000   \n",
       "75%       2.000000                 1.000000         70592.50000  11305.000000   \n",
       "max       3.000000                 1.000000        114920.00000  21450.000000   \n",
       "\n",
       "       property_claim  vehicle_claim    auto_make   auto_model  fraud_reported  \n",
       "count     1000.000000    1000.000000  1000.000000  1000.000000     1000.000000  \n",
       "mean      7399.570000   37928.950000     6.546000    19.318000        0.247000  \n",
       "std       4824.726179   18886.252893     4.034869    11.136107        0.431483  \n",
       "min          0.000000      70.000000     0.000000     0.000000        0.000000  \n",
       "25%       4445.000000   30292.500000     3.000000    10.000000        0.000000  \n",
       "50%       6750.000000   42100.000000     7.000000    20.000000        0.000000  \n",
       "75%      10885.000000   50822.500000    10.000000    29.000000        0.000000  \n",
       "max      23670.000000   79560.000000    13.000000    38.000000        1.000000  \n",
       "\n",
       "[8 rows x 33 columns]"
      ]
     },
     "execution_count": 47,
     "metadata": {},
     "output_type": "execute_result"
    }
   ],
   "source": [
    "df.describe()"
   ]
  },
  {
   "cell_type": "markdown",
   "id": "4e9102e2",
   "metadata": {},
   "source": [
    "In the above plot,\n",
    "1. Mean is more that 50% in some of the columns we can say that there is slight presnece of skewness.\n",
    "2. In some of the columns like property claim has huge difference between 75% and max value which depicts the presence of outliers."
   ]
  },
  {
   "cell_type": "markdown",
   "id": "8381629c",
   "metadata": {},
   "source": [
    "# Skewness and outliers"
   ]
  },
  {
   "cell_type": "code",
   "execution_count": 48,
   "id": "c3a6109b",
   "metadata": {},
   "outputs": [
    {
     "data": {
      "text/plain": [
       "months_as_customer             0.362177\n",
       "age                            0.478988\n",
       "policy_state                  -0.026177\n",
       "policy_csl                     0.088928\n",
       "policy_deductable              0.477887\n",
       "policy_annual_premium          0.004402\n",
       "umbrella_limit                 1.806712\n",
       "insured_sex                    0.148630\n",
       "insured_education_level       -0.000148\n",
       "insured_occupation            -0.058881\n",
       "insured_hobbies               -0.061563\n",
       "insured_relationship           0.077488\n",
       "capital-gains                  0.478850\n",
       "capital-loss                  -0.391472\n",
       "incident_type                  0.101507\n",
       "collision_type                -0.033682\n",
       "incident_severity              0.279016\n",
       "authorities_contacted         -0.121744\n",
       "incident_state                -0.148865\n",
       "incident_city                  0.049531\n",
       "incident_hour_of_the_day      -0.035584\n",
       "number_of_vehicles_involved    0.502664\n",
       "property_damage                0.863806\n",
       "bodily_injuries                0.014777\n",
       "witnesses                      0.019636\n",
       "police_report_available        0.802728\n",
       "total_claim_amount            -0.594582\n",
       "injury_claim                   0.264811\n",
       "property_claim                 0.378169\n",
       "vehicle_claim                 -0.621098\n",
       "auto_make                     -0.018797\n",
       "auto_model                    -0.080773\n",
       "fraud_reported                 1.175051\n",
       "dtype: float64"
      ]
     },
     "execution_count": 48,
     "metadata": {},
     "output_type": "execute_result"
    }
   ],
   "source": [
    "df.skew()"
   ]
  },
  {
   "cell_type": "markdown",
   "id": "54243ee3",
   "metadata": {},
   "source": [
    "The data is slightly skewed for which we will be performing the yeo-Johnnson method."
   ]
  },
  {
   "cell_type": "markdown",
   "id": "cb647177",
   "metadata": {},
   "source": [
    "# Dividing the Dataset into Independent(X) and Depedent(Y) variable"
   ]
  },
  {
   "cell_type": "code",
   "execution_count": 49,
   "id": "475a870a",
   "metadata": {},
   "outputs": [
    {
     "data": {
      "text/html": [
       "<div>\n",
       "<style scoped>\n",
       "    .dataframe tbody tr th:only-of-type {\n",
       "        vertical-align: middle;\n",
       "    }\n",
       "\n",
       "    .dataframe tbody tr th {\n",
       "        vertical-align: top;\n",
       "    }\n",
       "\n",
       "    .dataframe thead th {\n",
       "        text-align: right;\n",
       "    }\n",
       "</style>\n",
       "<table border=\"1\" class=\"dataframe\">\n",
       "  <thead>\n",
       "    <tr style=\"text-align: right;\">\n",
       "      <th></th>\n",
       "      <th>months_as_customer</th>\n",
       "      <th>age</th>\n",
       "      <th>policy_state</th>\n",
       "      <th>policy_csl</th>\n",
       "      <th>policy_deductable</th>\n",
       "      <th>policy_annual_premium</th>\n",
       "      <th>umbrella_limit</th>\n",
       "      <th>insured_sex</th>\n",
       "      <th>insured_education_level</th>\n",
       "      <th>insured_occupation</th>\n",
       "      <th>...</th>\n",
       "      <th>property_damage</th>\n",
       "      <th>bodily_injuries</th>\n",
       "      <th>witnesses</th>\n",
       "      <th>police_report_available</th>\n",
       "      <th>total_claim_amount</th>\n",
       "      <th>injury_claim</th>\n",
       "      <th>property_claim</th>\n",
       "      <th>vehicle_claim</th>\n",
       "      <th>auto_make</th>\n",
       "      <th>auto_model</th>\n",
       "    </tr>\n",
       "  </thead>\n",
       "  <tbody>\n",
       "    <tr>\n",
       "      <th>0</th>\n",
       "      <td>328</td>\n",
       "      <td>48</td>\n",
       "      <td>2</td>\n",
       "      <td>1</td>\n",
       "      <td>1000</td>\n",
       "      <td>1406.91</td>\n",
       "      <td>0</td>\n",
       "      <td>1</td>\n",
       "      <td>4</td>\n",
       "      <td>2</td>\n",
       "      <td>...</td>\n",
       "      <td>1</td>\n",
       "      <td>1</td>\n",
       "      <td>2</td>\n",
       "      <td>1</td>\n",
       "      <td>71610</td>\n",
       "      <td>6510</td>\n",
       "      <td>13020</td>\n",
       "      <td>52080</td>\n",
       "      <td>10</td>\n",
       "      <td>1</td>\n",
       "    </tr>\n",
       "    <tr>\n",
       "      <th>1</th>\n",
       "      <td>228</td>\n",
       "      <td>42</td>\n",
       "      <td>1</td>\n",
       "      <td>1</td>\n",
       "      <td>2000</td>\n",
       "      <td>1197.22</td>\n",
       "      <td>5000000</td>\n",
       "      <td>1</td>\n",
       "      <td>4</td>\n",
       "      <td>6</td>\n",
       "      <td>...</td>\n",
       "      <td>0</td>\n",
       "      <td>0</td>\n",
       "      <td>0</td>\n",
       "      <td>0</td>\n",
       "      <td>5070</td>\n",
       "      <td>780</td>\n",
       "      <td>780</td>\n",
       "      <td>3510</td>\n",
       "      <td>8</td>\n",
       "      <td>12</td>\n",
       "    </tr>\n",
       "    <tr>\n",
       "      <th>2</th>\n",
       "      <td>134</td>\n",
       "      <td>29</td>\n",
       "      <td>2</td>\n",
       "      <td>0</td>\n",
       "      <td>2000</td>\n",
       "      <td>1413.14</td>\n",
       "      <td>5000000</td>\n",
       "      <td>0</td>\n",
       "      <td>6</td>\n",
       "      <td>11</td>\n",
       "      <td>...</td>\n",
       "      <td>0</td>\n",
       "      <td>2</td>\n",
       "      <td>3</td>\n",
       "      <td>0</td>\n",
       "      <td>34650</td>\n",
       "      <td>7700</td>\n",
       "      <td>3850</td>\n",
       "      <td>23100</td>\n",
       "      <td>4</td>\n",
       "      <td>30</td>\n",
       "    </tr>\n",
       "    <tr>\n",
       "      <th>3</th>\n",
       "      <td>256</td>\n",
       "      <td>41</td>\n",
       "      <td>0</td>\n",
       "      <td>1</td>\n",
       "      <td>2000</td>\n",
       "      <td>1415.74</td>\n",
       "      <td>6000000</td>\n",
       "      <td>0</td>\n",
       "      <td>6</td>\n",
       "      <td>1</td>\n",
       "      <td>...</td>\n",
       "      <td>0</td>\n",
       "      <td>1</td>\n",
       "      <td>2</td>\n",
       "      <td>0</td>\n",
       "      <td>63400</td>\n",
       "      <td>6340</td>\n",
       "      <td>6340</td>\n",
       "      <td>50720</td>\n",
       "      <td>3</td>\n",
       "      <td>34</td>\n",
       "    </tr>\n",
       "    <tr>\n",
       "      <th>4</th>\n",
       "      <td>228</td>\n",
       "      <td>44</td>\n",
       "      <td>0</td>\n",
       "      <td>2</td>\n",
       "      <td>1000</td>\n",
       "      <td>1583.91</td>\n",
       "      <td>6000000</td>\n",
       "      <td>1</td>\n",
       "      <td>0</td>\n",
       "      <td>11</td>\n",
       "      <td>...</td>\n",
       "      <td>0</td>\n",
       "      <td>0</td>\n",
       "      <td>1</td>\n",
       "      <td>0</td>\n",
       "      <td>6500</td>\n",
       "      <td>1300</td>\n",
       "      <td>650</td>\n",
       "      <td>4550</td>\n",
       "      <td>0</td>\n",
       "      <td>31</td>\n",
       "    </tr>\n",
       "    <tr>\n",
       "      <th>...</th>\n",
       "      <td>...</td>\n",
       "      <td>...</td>\n",
       "      <td>...</td>\n",
       "      <td>...</td>\n",
       "      <td>...</td>\n",
       "      <td>...</td>\n",
       "      <td>...</td>\n",
       "      <td>...</td>\n",
       "      <td>...</td>\n",
       "      <td>...</td>\n",
       "      <td>...</td>\n",
       "      <td>...</td>\n",
       "      <td>...</td>\n",
       "      <td>...</td>\n",
       "      <td>...</td>\n",
       "      <td>...</td>\n",
       "      <td>...</td>\n",
       "      <td>...</td>\n",
       "      <td>...</td>\n",
       "      <td>...</td>\n",
       "      <td>...</td>\n",
       "    </tr>\n",
       "    <tr>\n",
       "      <th>995</th>\n",
       "      <td>3</td>\n",
       "      <td>38</td>\n",
       "      <td>2</td>\n",
       "      <td>2</td>\n",
       "      <td>1000</td>\n",
       "      <td>1310.80</td>\n",
       "      <td>0</td>\n",
       "      <td>0</td>\n",
       "      <td>5</td>\n",
       "      <td>2</td>\n",
       "      <td>...</td>\n",
       "      <td>1</td>\n",
       "      <td>0</td>\n",
       "      <td>1</td>\n",
       "      <td>0</td>\n",
       "      <td>87200</td>\n",
       "      <td>17440</td>\n",
       "      <td>8720</td>\n",
       "      <td>61040</td>\n",
       "      <td>6</td>\n",
       "      <td>6</td>\n",
       "    </tr>\n",
       "    <tr>\n",
       "      <th>996</th>\n",
       "      <td>285</td>\n",
       "      <td>41</td>\n",
       "      <td>0</td>\n",
       "      <td>0</td>\n",
       "      <td>1000</td>\n",
       "      <td>1436.79</td>\n",
       "      <td>0</td>\n",
       "      <td>0</td>\n",
       "      <td>6</td>\n",
       "      <td>9</td>\n",
       "      <td>...</td>\n",
       "      <td>1</td>\n",
       "      <td>2</td>\n",
       "      <td>3</td>\n",
       "      <td>0</td>\n",
       "      <td>108480</td>\n",
       "      <td>18080</td>\n",
       "      <td>18080</td>\n",
       "      <td>72320</td>\n",
       "      <td>13</td>\n",
       "      <td>28</td>\n",
       "    </tr>\n",
       "    <tr>\n",
       "      <th>997</th>\n",
       "      <td>130</td>\n",
       "      <td>34</td>\n",
       "      <td>2</td>\n",
       "      <td>1</td>\n",
       "      <td>500</td>\n",
       "      <td>1383.49</td>\n",
       "      <td>3000000</td>\n",
       "      <td>0</td>\n",
       "      <td>5</td>\n",
       "      <td>1</td>\n",
       "      <td>...</td>\n",
       "      <td>0</td>\n",
       "      <td>2</td>\n",
       "      <td>3</td>\n",
       "      <td>1</td>\n",
       "      <td>67500</td>\n",
       "      <td>7500</td>\n",
       "      <td>7500</td>\n",
       "      <td>52500</td>\n",
       "      <td>11</td>\n",
       "      <td>19</td>\n",
       "    </tr>\n",
       "    <tr>\n",
       "      <th>998</th>\n",
       "      <td>458</td>\n",
       "      <td>62</td>\n",
       "      <td>0</td>\n",
       "      <td>2</td>\n",
       "      <td>2000</td>\n",
       "      <td>1356.92</td>\n",
       "      <td>5000000</td>\n",
       "      <td>1</td>\n",
       "      <td>0</td>\n",
       "      <td>5</td>\n",
       "      <td>...</td>\n",
       "      <td>0</td>\n",
       "      <td>0</td>\n",
       "      <td>1</td>\n",
       "      <td>1</td>\n",
       "      <td>46980</td>\n",
       "      <td>5220</td>\n",
       "      <td>5220</td>\n",
       "      <td>36540</td>\n",
       "      <td>1</td>\n",
       "      <td>5</td>\n",
       "    </tr>\n",
       "    <tr>\n",
       "      <th>999</th>\n",
       "      <td>456</td>\n",
       "      <td>60</td>\n",
       "      <td>2</td>\n",
       "      <td>1</td>\n",
       "      <td>1000</td>\n",
       "      <td>766.19</td>\n",
       "      <td>0</td>\n",
       "      <td>0</td>\n",
       "      <td>0</td>\n",
       "      <td>11</td>\n",
       "      <td>...</td>\n",
       "      <td>0</td>\n",
       "      <td>0</td>\n",
       "      <td>3</td>\n",
       "      <td>0</td>\n",
       "      <td>5060</td>\n",
       "      <td>460</td>\n",
       "      <td>920</td>\n",
       "      <td>3680</td>\n",
       "      <td>8</td>\n",
       "      <td>12</td>\n",
       "    </tr>\n",
       "  </tbody>\n",
       "</table>\n",
       "<p>1000 rows × 32 columns</p>\n",
       "</div>"
      ],
      "text/plain": [
       "     months_as_customer  age  policy_state  policy_csl  policy_deductable  \\\n",
       "0                   328   48             2           1               1000   \n",
       "1                   228   42             1           1               2000   \n",
       "2                   134   29             2           0               2000   \n",
       "3                   256   41             0           1               2000   \n",
       "4                   228   44             0           2               1000   \n",
       "..                  ...  ...           ...         ...                ...   \n",
       "995                   3   38             2           2               1000   \n",
       "996                 285   41             0           0               1000   \n",
       "997                 130   34             2           1                500   \n",
       "998                 458   62             0           2               2000   \n",
       "999                 456   60             2           1               1000   \n",
       "\n",
       "     policy_annual_premium  umbrella_limit  insured_sex  \\\n",
       "0                  1406.91               0            1   \n",
       "1                  1197.22         5000000            1   \n",
       "2                  1413.14         5000000            0   \n",
       "3                  1415.74         6000000            0   \n",
       "4                  1583.91         6000000            1   \n",
       "..                     ...             ...          ...   \n",
       "995                1310.80               0            0   \n",
       "996                1436.79               0            0   \n",
       "997                1383.49         3000000            0   \n",
       "998                1356.92         5000000            1   \n",
       "999                 766.19               0            0   \n",
       "\n",
       "     insured_education_level  insured_occupation  ...  property_damage  \\\n",
       "0                          4                   2  ...                1   \n",
       "1                          4                   6  ...                0   \n",
       "2                          6                  11  ...                0   \n",
       "3                          6                   1  ...                0   \n",
       "4                          0                  11  ...                0   \n",
       "..                       ...                 ...  ...              ...   \n",
       "995                        5                   2  ...                1   \n",
       "996                        6                   9  ...                1   \n",
       "997                        5                   1  ...                0   \n",
       "998                        0                   5  ...                0   \n",
       "999                        0                  11  ...                0   \n",
       "\n",
       "     bodily_injuries  witnesses  police_report_available  total_claim_amount  \\\n",
       "0                  1          2                        1               71610   \n",
       "1                  0          0                        0                5070   \n",
       "2                  2          3                        0               34650   \n",
       "3                  1          2                        0               63400   \n",
       "4                  0          1                        0                6500   \n",
       "..               ...        ...                      ...                 ...   \n",
       "995                0          1                        0               87200   \n",
       "996                2          3                        0              108480   \n",
       "997                2          3                        1               67500   \n",
       "998                0          1                        1               46980   \n",
       "999                0          3                        0                5060   \n",
       "\n",
       "     injury_claim  property_claim  vehicle_claim  auto_make  auto_model  \n",
       "0            6510           13020          52080         10           1  \n",
       "1             780             780           3510          8          12  \n",
       "2            7700            3850          23100          4          30  \n",
       "3            6340            6340          50720          3          34  \n",
       "4            1300             650           4550          0          31  \n",
       "..            ...             ...            ...        ...         ...  \n",
       "995         17440            8720          61040          6           6  \n",
       "996         18080           18080          72320         13          28  \n",
       "997          7500            7500          52500         11          19  \n",
       "998          5220            5220          36540          1           5  \n",
       "999           460             920           3680          8          12  \n",
       "\n",
       "[1000 rows x 32 columns]"
      ]
     },
     "execution_count": 49,
     "metadata": {},
     "output_type": "execute_result"
    }
   ],
   "source": [
    "x=df.iloc[:,:-1]  #Independent varaible.\n",
    "x"
   ]
  },
  {
   "cell_type": "code",
   "execution_count": 50,
   "id": "da7a56a1",
   "metadata": {},
   "outputs": [
    {
     "data": {
      "text/plain": [
       "0      1\n",
       "1      1\n",
       "2      0\n",
       "3      1\n",
       "4      0\n",
       "      ..\n",
       "995    0\n",
       "996    0\n",
       "997    0\n",
       "998    0\n",
       "999    0\n",
       "Name: fraud_reported, Length: 1000, dtype: int32"
      ]
     },
     "execution_count": 50,
     "metadata": {},
     "output_type": "execute_result"
    }
   ],
   "source": [
    "y=df.iloc[:,-1]  #Dependent Vraibale.\n",
    "y"
   ]
  },
  {
   "cell_type": "markdown",
   "id": "a391ec3f",
   "metadata": {},
   "source": [
    "# Variance Inflation Factor"
   ]
  },
  {
   "cell_type": "code",
   "execution_count": 51,
   "id": "4acb0862",
   "metadata": {},
   "outputs": [],
   "source": [
    "import statsmodels.api as sm\n",
    "from scipy import stats\n",
    "from statsmodels.stats.outliers_influence import variance_inflation_factor\n",
    "def cal_vif(x):\n",
    "    vif=pd.DataFrame()\n",
    "    vif[\"variables\"]=x.columns\n",
    "    vif[\"VIF FACTOR\"]=[variance_inflation_factor(x.values,i) for i in range (x.shape[1])]\n",
    "    return(vif)"
   ]
  },
  {
   "cell_type": "code",
   "execution_count": 52,
   "id": "fbc03677",
   "metadata": {},
   "outputs": [
    {
     "data": {
      "text/html": [
       "<div>\n",
       "<style scoped>\n",
       "    .dataframe tbody tr th:only-of-type {\n",
       "        vertical-align: middle;\n",
       "    }\n",
       "\n",
       "    .dataframe tbody tr th {\n",
       "        vertical-align: top;\n",
       "    }\n",
       "\n",
       "    .dataframe thead th {\n",
       "        text-align: right;\n",
       "    }\n",
       "</style>\n",
       "<table border=\"1\" class=\"dataframe\">\n",
       "  <thead>\n",
       "    <tr style=\"text-align: right;\">\n",
       "      <th></th>\n",
       "      <th>variables</th>\n",
       "      <th>VIF FACTOR</th>\n",
       "    </tr>\n",
       "  </thead>\n",
       "  <tbody>\n",
       "    <tr>\n",
       "      <th>0</th>\n",
       "      <td>months_as_customer</td>\n",
       "      <td>22.911592</td>\n",
       "    </tr>\n",
       "    <tr>\n",
       "      <th>1</th>\n",
       "      <td>age</td>\n",
       "      <td>95.166964</td>\n",
       "    </tr>\n",
       "    <tr>\n",
       "      <th>2</th>\n",
       "      <td>policy_state</td>\n",
       "      <td>2.527769</td>\n",
       "    </tr>\n",
       "    <tr>\n",
       "      <th>3</th>\n",
       "      <td>policy_csl</td>\n",
       "      <td>2.448540</td>\n",
       "    </tr>\n",
       "    <tr>\n",
       "      <th>4</th>\n",
       "      <td>policy_deductable</td>\n",
       "      <td>4.522157</td>\n",
       "    </tr>\n",
       "    <tr>\n",
       "      <th>5</th>\n",
       "      <td>policy_annual_premium</td>\n",
       "      <td>24.552434</td>\n",
       "    </tr>\n",
       "    <tr>\n",
       "      <th>6</th>\n",
       "      <td>umbrella_limit</td>\n",
       "      <td>1.265231</td>\n",
       "    </tr>\n",
       "    <tr>\n",
       "      <th>7</th>\n",
       "      <td>insured_sex</td>\n",
       "      <td>1.904546</td>\n",
       "    </tr>\n",
       "    <tr>\n",
       "      <th>8</th>\n",
       "      <td>insured_education_level</td>\n",
       "      <td>3.405166</td>\n",
       "    </tr>\n",
       "    <tr>\n",
       "      <th>9</th>\n",
       "      <td>insured_occupation</td>\n",
       "      <td>3.735437</td>\n",
       "    </tr>\n",
       "    <tr>\n",
       "      <th>10</th>\n",
       "      <td>insured_hobbies</td>\n",
       "      <td>4.058309</td>\n",
       "    </tr>\n",
       "    <tr>\n",
       "      <th>11</th>\n",
       "      <td>insured_relationship</td>\n",
       "      <td>3.146862</td>\n",
       "    </tr>\n",
       "    <tr>\n",
       "      <th>12</th>\n",
       "      <td>capital-gains</td>\n",
       "      <td>1.870996</td>\n",
       "    </tr>\n",
       "    <tr>\n",
       "      <th>13</th>\n",
       "      <td>capital-loss</td>\n",
       "      <td>1.975006</td>\n",
       "    </tr>\n",
       "    <tr>\n",
       "      <th>14</th>\n",
       "      <td>incident_type</td>\n",
       "      <td>8.466400</td>\n",
       "    </tr>\n",
       "    <tr>\n",
       "      <th>15</th>\n",
       "      <td>collision_type</td>\n",
       "      <td>3.062081</td>\n",
       "    </tr>\n",
       "    <tr>\n",
       "      <th>16</th>\n",
       "      <td>incident_severity</td>\n",
       "      <td>2.978096</td>\n",
       "    </tr>\n",
       "    <tr>\n",
       "      <th>17</th>\n",
       "      <td>authorities_contacted</td>\n",
       "      <td>3.185889</td>\n",
       "    </tr>\n",
       "    <tr>\n",
       "      <th>18</th>\n",
       "      <td>incident_state</td>\n",
       "      <td>3.382808</td>\n",
       "    </tr>\n",
       "    <tr>\n",
       "      <th>19</th>\n",
       "      <td>incident_city</td>\n",
       "      <td>3.139763</td>\n",
       "    </tr>\n",
       "    <tr>\n",
       "      <th>20</th>\n",
       "      <td>incident_hour_of_the_day</td>\n",
       "      <td>4.134055</td>\n",
       "    </tr>\n",
       "    <tr>\n",
       "      <th>21</th>\n",
       "      <td>number_of_vehicles_involved</td>\n",
       "      <td>16.527288</td>\n",
       "    </tr>\n",
       "    <tr>\n",
       "      <th>22</th>\n",
       "      <td>property_damage</td>\n",
       "      <td>1.479853</td>\n",
       "    </tr>\n",
       "    <tr>\n",
       "      <th>23</th>\n",
       "      <td>bodily_injuries</td>\n",
       "      <td>2.500843</td>\n",
       "    </tr>\n",
       "    <tr>\n",
       "      <th>24</th>\n",
       "      <td>witnesses</td>\n",
       "      <td>2.850852</td>\n",
       "    </tr>\n",
       "    <tr>\n",
       "      <th>25</th>\n",
       "      <td>police_report_available</td>\n",
       "      <td>1.509935</td>\n",
       "    </tr>\n",
       "    <tr>\n",
       "      <th>26</th>\n",
       "      <td>total_claim_amount</td>\n",
       "      <td>inf</td>\n",
       "    </tr>\n",
       "    <tr>\n",
       "      <th>27</th>\n",
       "      <td>injury_claim</td>\n",
       "      <td>inf</td>\n",
       "    </tr>\n",
       "    <tr>\n",
       "      <th>28</th>\n",
       "      <td>property_claim</td>\n",
       "      <td>inf</td>\n",
       "    </tr>\n",
       "    <tr>\n",
       "      <th>29</th>\n",
       "      <td>vehicle_claim</td>\n",
       "      <td>inf</td>\n",
       "    </tr>\n",
       "    <tr>\n",
       "      <th>30</th>\n",
       "      <td>auto_make</td>\n",
       "      <td>3.752909</td>\n",
       "    </tr>\n",
       "    <tr>\n",
       "      <th>31</th>\n",
       "      <td>auto_model</td>\n",
       "      <td>4.173236</td>\n",
       "    </tr>\n",
       "  </tbody>\n",
       "</table>\n",
       "</div>"
      ],
      "text/plain": [
       "                      variables  VIF FACTOR\n",
       "0            months_as_customer   22.911592\n",
       "1                           age   95.166964\n",
       "2                  policy_state    2.527769\n",
       "3                    policy_csl    2.448540\n",
       "4             policy_deductable    4.522157\n",
       "5         policy_annual_premium   24.552434\n",
       "6                umbrella_limit    1.265231\n",
       "7                   insured_sex    1.904546\n",
       "8       insured_education_level    3.405166\n",
       "9            insured_occupation    3.735437\n",
       "10              insured_hobbies    4.058309\n",
       "11         insured_relationship    3.146862\n",
       "12                capital-gains    1.870996\n",
       "13                 capital-loss    1.975006\n",
       "14                incident_type    8.466400\n",
       "15               collision_type    3.062081\n",
       "16            incident_severity    2.978096\n",
       "17        authorities_contacted    3.185889\n",
       "18               incident_state    3.382808\n",
       "19                incident_city    3.139763\n",
       "20     incident_hour_of_the_day    4.134055\n",
       "21  number_of_vehicles_involved   16.527288\n",
       "22              property_damage    1.479853\n",
       "23              bodily_injuries    2.500843\n",
       "24                    witnesses    2.850852\n",
       "25      police_report_available    1.509935\n",
       "26           total_claim_amount         inf\n",
       "27                 injury_claim         inf\n",
       "28               property_claim         inf\n",
       "29                vehicle_claim         inf\n",
       "30                    auto_make    3.752909\n",
       "31                   auto_model    4.173236"
      ]
     },
     "execution_count": 52,
     "metadata": {},
     "output_type": "execute_result"
    }
   ],
   "source": [
    "cal_vif(x)"
   ]
  },
  {
   "cell_type": "markdown",
   "id": "80575afa",
   "metadata": {},
   "source": [
    "We will be performing the VIF Factor to check the multicollinearities and will be droping the columns with the higest Vif Factor as in this case we can see that the vif factor is almost in range so will not be droping any column."
   ]
  },
  {
   "cell_type": "markdown",
   "id": "2d1508cd",
   "metadata": {},
   "source": [
    "# Performing Power Trnasformation and Standard Scaling"
   ]
  },
  {
   "cell_type": "code",
   "execution_count": 53,
   "id": "ff9eb563",
   "metadata": {},
   "outputs": [
    {
     "data": {
      "text/plain": [
       "array([[ 1.05127872,  1.00873272,  1.14604754, ...,  0.75369677,\n",
       "         0.85911096, -1.80834465],\n",
       "       [ 0.30453584,  0.43143333,  0.0718058 , ..., -1.7866293 ,\n",
       "         0.41861586, -0.58622515],\n",
       "       [-0.51122603, -1.13951302,  1.14604754, ..., -0.82088123,\n",
       "        -0.55514878,  0.94490524],\n",
       "       ...,\n",
       "       [-0.54970642, -0.47044379,  1.14604754, ...,  0.77723183,\n",
       "         1.07113608,  0.04546316],\n",
       "       [ 1.9126537 ,  2.13055434, -1.25937435, ..., -0.10425834,\n",
       "        -1.44076333, -1.30534129],\n",
       "       [ 1.90009963,  1.98572613,  1.14604754, ..., -1.77908726,\n",
       "         0.41861586, -0.58622515]])"
      ]
     },
     "execution_count": 53,
     "metadata": {},
     "output_type": "execute_result"
    }
   ],
   "source": [
    "from sklearn.preprocessing import power_transform\n",
    "x=power_transform(x,method='yeo-johnson')  #to remove skewness\n",
    "x"
   ]
  },
  {
   "cell_type": "code",
   "execution_count": 54,
   "id": "adcc5048",
   "metadata": {},
   "outputs": [
    {
     "data": {
      "text/plain": [
       "array([[ 1.05127872,  1.00873272,  1.14604754, ...,  0.75369677,\n",
       "         0.85911096, -1.80834465],\n",
       "       [ 0.30453584,  0.43143333,  0.0718058 , ..., -1.7866293 ,\n",
       "         0.41861586, -0.58622515],\n",
       "       [-0.51122603, -1.13951302,  1.14604754, ..., -0.82088123,\n",
       "        -0.55514878,  0.94490524],\n",
       "       ...,\n",
       "       [-0.54970642, -0.47044379,  1.14604754, ...,  0.77723183,\n",
       "         1.07113608,  0.04546316],\n",
       "       [ 1.9126537 ,  2.13055434, -1.25937435, ..., -0.10425834,\n",
       "        -1.44076333, -1.30534129],\n",
       "       [ 1.90009963,  1.98572613,  1.14604754, ..., -1.77908726,\n",
       "         0.41861586, -0.58622515]])"
      ]
     },
     "execution_count": 54,
     "metadata": {},
     "output_type": "execute_result"
    }
   ],
   "source": [
    "from sklearn.preprocessing import StandardScaler\n",
    "mn=StandardScaler()  #bringing all the columns on same scale.\n",
    "x=mn.fit_transform(x)\n",
    "x"
   ]
  },
  {
   "cell_type": "markdown",
   "id": "3f7f2bfb",
   "metadata": {},
   "source": [
    "# SMOTEENN"
   ]
  },
  {
   "cell_type": "code",
   "execution_count": 55,
   "id": "d42377d2",
   "metadata": {},
   "outputs": [],
   "source": [
    "from imblearn.combine import SMOTEENN\n",
    "smt=SMOTEENN()      #SMOTE to balance the target variable.\n",
    "x_res,y_res=smt.fit_resample(x,y)"
   ]
  },
  {
   "cell_type": "markdown",
   "id": "c0696149",
   "metadata": {},
   "source": [
    "We will be performing the combine technique called SMOTEENN i.e upsampling and downsampling to bring the counts on same."
   ]
  },
  {
   "cell_type": "code",
   "execution_count": 74,
   "id": "fa95153f",
   "metadata": {},
   "outputs": [
    {
     "data": {
      "text/plain": [
       "1    675\n",
       "0    193\n",
       "Name: fraud_reported, dtype: int64"
      ]
     },
     "execution_count": 74,
     "metadata": {},
     "output_type": "execute_result"
    }
   ],
   "source": [
    "y_res.value_counts()"
   ]
  },
  {
   "cell_type": "markdown",
   "id": "e678c20b",
   "metadata": {},
   "source": [
    "# Performing the Algorithms"
   ]
  },
  {
   "cell_type": "code",
   "execution_count": 56,
   "id": "3e05038b",
   "metadata": {},
   "outputs": [],
   "source": [
    "from sklearn.model_selection import train_test_split\n",
    "from sklearn.linear_model import LogisticRegression\n",
    "from sklearn.metrics import accuracy_score,classification_report,confusion_matrix\n",
    "from sklearn.tree import DecisionTreeClassifier\n",
    "from sklearn.svm import SVC\n",
    "from sklearn.neighbors import KNeighborsClassifier\n",
    "from sklearn.naive_bayes import MultinomialNB\n",
    "from sklearn.ensemble import RandomForestClassifier\n",
    "from sklearn.model_selection import cross_val_score\n",
    "from sklearn.model_selection import GridSearchCV\n",
    "from sklearn.metrics import roc_curve,roc_auc_score\n",
    "from scipy.stats import zscore\n",
    "from sklearn.ensemble import RandomForestClassifier,AdaBoostClassifier"
   ]
  },
  {
   "cell_type": "code",
   "execution_count": 57,
   "id": "9affee26",
   "metadata": {},
   "outputs": [
    {
     "name": "stdout",
     "output_type": "stream",
     "text": [
      "best accuracy is 0.92 at random state 19\n"
     ]
    }
   ],
   "source": [
    "maxacc=0  #finding the best random state\n",
    "maxrs=0\n",
    "for i in range(1,200):\n",
    "    x_train,x_test,y_train,y_test=train_test_split(x_res,y_res,test_size=.30,random_state=i)\n",
    "    lm=LogisticRegression()\n",
    "    lm.fit(x_train,y_train)\n",
    "    pred=lm.predict(x_test)\n",
    "    accu=accuracy_score(y_test,pred)\n",
    "    if accu>maxacc:\n",
    "        maxacc=accu\n",
    "        maxrs=i\n",
    "print(\"best accuracy is\",round(maxacc,2),\"at random state\",maxrs)"
   ]
  },
  {
   "cell_type": "code",
   "execution_count": 58,
   "id": "1ea193a3",
   "metadata": {},
   "outputs": [],
   "source": [
    "x_train1,x_test1,y_train1,y_test1=train_test_split(x_res,y_res,test_size=.30,random_state=19)"
   ]
  },
  {
   "cell_type": "markdown",
   "id": "d5477032",
   "metadata": {},
   "source": [
    "# Logistic Regression"
   ]
  },
  {
   "cell_type": "code",
   "execution_count": 59,
   "id": "78809c75",
   "metadata": {},
   "outputs": [
    {
     "name": "stdout",
     "output_type": "stream",
     "text": [
      "accuracy score 0.9157088122605364\n",
      "              precision    recall  f1-score   support\n",
      "\n",
      "           0       0.90      0.60      0.72        47\n",
      "           1       0.92      0.99      0.95       214\n",
      "\n",
      "    accuracy                           0.92       261\n",
      "   macro avg       0.91      0.79      0.83       261\n",
      "weighted avg       0.91      0.92      0.91       261\n",
      "\n"
     ]
    }
   ],
   "source": [
    "lm=LogisticRegression()\n",
    "lm.fit(x_train1,y_train1)\n",
    "pred=lm.predict(x_test1)\n",
    "az=accuracy_score(y_test1,pred)\n",
    "print(\"accuracy score\",az)\n",
    "cl=classification_report(y_test1,pred)\n",
    "print(cl)"
   ]
  },
  {
   "cell_type": "markdown",
   "id": "5e1b0f33",
   "metadata": {},
   "source": [
    "# Decisison Tree Classifier"
   ]
  },
  {
   "cell_type": "code",
   "execution_count": 60,
   "id": "5e860567",
   "metadata": {},
   "outputs": [
    {
     "name": "stdout",
     "output_type": "stream",
     "text": [
      "accuracy score 0.9425287356321839\n",
      "              precision    recall  f1-score   support\n",
      "\n",
      "           0       0.88      0.79      0.83        47\n",
      "           1       0.95      0.98      0.97       214\n",
      "\n",
      "    accuracy                           0.94       261\n",
      "   macro avg       0.92      0.88      0.90       261\n",
      "weighted avg       0.94      0.94      0.94       261\n",
      "\n"
     ]
    }
   ],
   "source": [
    "dtc=DecisionTreeClassifier()\n",
    "dtc.fit(x_train1,y_train1)\n",
    "pred=dtc.predict(x_test1)\n",
    "az=accuracy_score(y_test1,pred)\n",
    "print(\"accuracy score\",az)\n",
    "cl=classification_report(y_test1,pred)\n",
    "print(cl)"
   ]
  },
  {
   "cell_type": "markdown",
   "id": "86cf8c92",
   "metadata": {},
   "source": [
    "# Random Forest Classifier"
   ]
  },
  {
   "cell_type": "code",
   "execution_count": 61,
   "id": "db7286a5",
   "metadata": {},
   "outputs": [
    {
     "name": "stdout",
     "output_type": "stream",
     "text": [
      "Accuracy Score 95.4\n",
      "              precision    recall  f1-score   support\n",
      "\n",
      "           0       0.93      0.81      0.86        47\n",
      "           1       0.96      0.99      0.97       214\n",
      "\n",
      "    accuracy                           0.95       261\n",
      "   macro avg       0.94      0.90      0.92       261\n",
      "weighted avg       0.95      0.95      0.95       261\n",
      "\n"
     ]
    }
   ],
   "source": [
    "rf=RandomForestClassifier()\n",
    "rf.fit(x_train1,y_train1)\n",
    "pred=rf.predict(x_test1)\n",
    "ap=accuracy_score(y_test1,pred)\n",
    "ap=ap*100\n",
    "print(\"Accuracy Score\",round(ap,2))\n",
    "print(classification_report(y_test1,pred))"
   ]
  },
  {
   "cell_type": "markdown",
   "id": "4a446b0e",
   "metadata": {},
   "source": [
    "# Ada Boost Classifier"
   ]
  },
  {
   "cell_type": "code",
   "execution_count": 62,
   "id": "5c271ec4",
   "metadata": {},
   "outputs": [
    {
     "name": "stdout",
     "output_type": "stream",
     "text": [
      "Accuracy Score 94.64\n",
      "              precision    recall  f1-score   support\n",
      "\n",
      "           0       0.88      0.81      0.84        47\n",
      "           1       0.96      0.98      0.97       214\n",
      "\n",
      "    accuracy                           0.95       261\n",
      "   macro avg       0.92      0.89      0.91       261\n",
      "weighted avg       0.95      0.95      0.95       261\n",
      "\n"
     ]
    }
   ],
   "source": [
    "ad=AdaBoostClassifier()\n",
    "ad.fit(x_train1,y_train1)\n",
    "pred=ad.predict(x_test1)\n",
    "ap=accuracy_score(y_test1,pred)\n",
    "ap=ap*100\n",
    "print(\"Accuracy Score\",round(ap,2))\n",
    "print(classification_report(y_test1,pred))\n"
   ]
  },
  {
   "cell_type": "markdown",
   "id": "5ab5ecac",
   "metadata": {},
   "source": [
    "# Suport Vector Classifier"
   ]
  },
  {
   "cell_type": "code",
   "execution_count": 63,
   "id": "efcb36d4",
   "metadata": {},
   "outputs": [
    {
     "name": "stdout",
     "output_type": "stream",
     "text": [
      "Accuracy Score 94.64\n",
      "              precision    recall  f1-score   support\n",
      "\n",
      "           0       0.97      0.72      0.83        47\n",
      "           1       0.94      1.00      0.97       214\n",
      "\n",
      "    accuracy                           0.95       261\n",
      "   macro avg       0.96      0.86      0.90       261\n",
      "weighted avg       0.95      0.95      0.94       261\n",
      "\n"
     ]
    }
   ],
   "source": [
    "svc=SVC(kernel='rbf')\n",
    "svc.fit(x_train1,y_train1)\n",
    "pred=svc.predict(x_test1)\n",
    "ap=accuracy_score(y_test1,pred)\n",
    "ap=ap*100\n",
    "print(\"Accuracy Score\",round(ap,2))\n",
    "print(classification_report(y_test1,pred))\n",
    "\n"
   ]
  },
  {
   "cell_type": "markdown",
   "id": "9d959775",
   "metadata": {},
   "source": [
    "# Cross Validation Score"
   ]
  },
  {
   "cell_type": "code",
   "execution_count": 64,
   "id": "865d8a28",
   "metadata": {},
   "outputs": [
    {
     "name": "stdout",
     "output_type": "stream",
     "text": [
      "0.78\n"
     ]
    }
   ],
   "source": [
    "print(cross_val_score(lm,x,y,cv=5).mean())  #logistic regression"
   ]
  },
  {
   "cell_type": "code",
   "execution_count": 65,
   "id": "78d5c4ff",
   "metadata": {},
   "outputs": [
    {
     "name": "stdout",
     "output_type": "stream",
     "text": [
      "0.7680000000000001\n"
     ]
    }
   ],
   "source": [
    "print(cross_val_score(dtc,x,y,cv=5).mean())   #decision tree classifier"
   ]
  },
  {
   "cell_type": "code",
   "execution_count": 66,
   "id": "66d88480",
   "metadata": {},
   "outputs": [
    {
     "name": "stdout",
     "output_type": "stream",
     "text": [
      "0.7660000000000001\n"
     ]
    }
   ],
   "source": [
    "print(cross_val_score(rf,x,y,cv=5).mean())    #random forest classifier"
   ]
  },
  {
   "cell_type": "code",
   "execution_count": 67,
   "id": "29d5e899",
   "metadata": {},
   "outputs": [
    {
     "name": "stdout",
     "output_type": "stream",
     "text": [
      "0.8010000000000002\n"
     ]
    }
   ],
   "source": [
    "print(cross_val_score(ad,x,y,cv=5).mean())   #ada boost classifier"
   ]
  },
  {
   "cell_type": "code",
   "execution_count": 68,
   "id": "c0e373ea",
   "metadata": {},
   "outputs": [
    {
     "name": "stdout",
     "output_type": "stream",
     "text": [
      "0.7489999999999999\n"
     ]
    }
   ],
   "source": [
    "print(cross_val_score(svc,x,y,cv=5).mean())   #support vector classifier"
   ]
  },
  {
   "cell_type": "markdown",
   "id": "654ce319",
   "metadata": {},
   "source": [
    "From above,         Accuracy             Cross_val_score\n",
    "1. logistic           92                     78\n",
    "2. decision tree      94                     76\n",
    "3. random forest      95                     76\n",
    "4. ada boost          95                     80\n",
    "5. svc                95                     74\n",
    "\n",
    "Ada Boost Classifier is giving us the best performance."
   ]
  },
  {
   "cell_type": "markdown",
   "id": "ba6b9c5b",
   "metadata": {},
   "source": [
    "# ROC_AUC SCORE"
   ]
  },
  {
   "cell_type": "code",
   "execution_count": 69,
   "id": "6042768b",
   "metadata": {},
   "outputs": [],
   "source": [
    "y_pred_prob=ad.predict_proba(x_test1)[:,1]\n",
    "\n",
    "#y_pred_prob"
   ]
  },
  {
   "cell_type": "code",
   "execution_count": 70,
   "id": "be79d98d",
   "metadata": {},
   "outputs": [],
   "source": [
    "fpr,tpr,thresholds=roc_curve(y_test1,y_pred_prob)"
   ]
  },
  {
   "cell_type": "code",
   "execution_count": 71,
   "id": "dff8db74",
   "metadata": {},
   "outputs": [
    {
     "data": {
      "image/png": "[encoded data removed]",
      "text/plain": [
       "<Figure size 432x288 with 1 Axes>"
      ]
     },
     "metadata": {
      "needs_background": "light"
     },
     "output_type": "display_data"
    }
   ],
   "source": [
    "plt.plot([0,1],[0,1],\"k--\")\n",
    "plt.plot(fpr,tpr,label=\"Ada BoostClassifier\")\n",
    "plt.xlabel(\"False Positive Rate\")\n",
    "plt.ylabel(\"True Positive Rate\")\n",
    "plt.title(\"Ada Boost Classifier\")\n",
    "plt.show()"
   ]
  },
  {
   "cell_type": "code",
   "execution_count": 72,
   "id": "7cda839f",
   "metadata": {},
   "outputs": [
    {
     "data": {
      "text/plain": [
       "0.892573076158282"
      ]
     },
     "execution_count": 72,
     "metadata": {},
     "output_type": "execute_result"
    }
   ],
   "source": [
    "auc_score=roc_auc_score(y_test1,ad.predict(x_test1))\n",
    "auc_score"
   ]
  },
  {
   "cell_type": "markdown",
   "id": "6ffedb15",
   "metadata": {},
   "source": [
    "The roc_auc score is almost equal to the accuracy score."
   ]
  },
  {
   "cell_type": "markdown",
   "id": "448d6812",
   "metadata": {},
   "source": [
    "# Hyper Parameter Tunning using Grid Search CV"
   ]
  },
  {
   "cell_type": "code",
   "execution_count": 61,
   "id": "58d00734",
   "metadata": {},
   "outputs": [],
   "source": [
    "parameter={\"algorithm\":['SAMME','SAMME.R'],\n",
    "           \"n_estimators\":np.arange(2,200),\n",
    "          \"random_state\":np.arange(2,20),\n",
    "          \"learning_rate\":np.arange(1,10)}"
   ]
  },
  {
   "cell_type": "code",
   "execution_count": 62,
   "id": "f153fbbd",
   "metadata": {},
   "outputs": [],
   "source": [
    "gcv=GridSearchCV(AdaBoostClassifier(),parameter,cv=5)"
   ]
  },
  {
   "cell_type": "code",
   "execution_count": 63,
   "id": "d90d51be",
   "metadata": {},
   "outputs": [
    {
     "data": {
      "text/plain": [
       "GridSearchCV(cv=5, estimator=AdaBoostClassifier(),\n",
       "             param_grid={'algorithm': ['SAMME', 'SAMME.R'],\n",
       "                         'learning_rate': array([1, 2, 3, 4, 5, 6, 7, 8, 9]),\n",
       "                         'n_estimators': array([ 2,  3,  4,  5,  6,  7,  8,  9, 10, 11, 12, 13, 14, 15, 16, 17, 18,\n",
       "       19]),\n",
       "                         'random_state': array([ 2,  3,  4,  5,  6,  7,  8,  9, 10, 11, 12, 13, 14, 15, 16, 17, 18,\n",
       "       19])})"
      ]
     },
     "execution_count": 63,
     "metadata": {},
     "output_type": "execute_result"
    }
   ],
   "source": [
    "gcv.fit(x_train1,y_train1)"
   ]
  },
  {
   "cell_type": "code",
   "execution_count": 64,
   "id": "a70ec443",
   "metadata": {},
   "outputs": [
    {
     "data": {
      "text/plain": [
       "{'algorithm': 'SAMME.R',\n",
       " 'learning_rate': 1,\n",
       " 'n_estimators': 16,\n",
       " 'random_state': 2}"
      ]
     },
     "execution_count": 64,
     "metadata": {},
     "output_type": "execute_result"
    }
   ],
   "source": [
    "gcv.best_params_ "
   ]
  },
  {
   "cell_type": "markdown",
   "id": "d8e55463",
   "metadata": {},
   "source": [
    "# Final Model"
   ]
  },
  {
   "cell_type": "code",
   "execution_count": 66,
   "id": "c168b192",
   "metadata": {},
   "outputs": [
    {
     "name": "stdout",
     "output_type": "stream",
     "text": [
      "Accuracy Score 95.8\n",
      "              precision    recall  f1-score   support\n",
      "\n",
      "           0       0.83      0.86      0.85        35\n",
      "           1       0.98      0.97      0.98       227\n",
      "\n",
      "    accuracy                           0.96       262\n",
      "   macro avg       0.91      0.92      0.91       262\n",
      "weighted avg       0.96      0.96      0.96       262\n",
      "\n"
     ]
    }
   ],
   "source": [
    "ad=AdaBoostClassifier(algorithm='SAMME.R',learning_rate=1,n_estimators=100,random_state=2)\n",
    "ad.fit(x_train1,y_train1)\n",
    "pred=ad.predict(x_test1)\n",
    "ap=accuracy_score(y_test1,pred)\n",
    "ap=ap*100\n",
    "print(\"Accuracy Score\",round(ap,2))\n",
    "print(classification_report(y_test1,pred))\n"
   ]
  },
  {
   "cell_type": "markdown",
   "id": "c200352f",
   "metadata": {},
   "source": [
    "# Saving the Model"
   ]
  },
  {
   "cell_type": "code",
   "execution_count": 73,
   "id": "f954a0a3",
   "metadata": {},
   "outputs": [
    {
     "data": {
      "text/plain": [
       "['insurance.pkl']"
      ]
     },
     "execution_count": 73,
     "metadata": {},
     "output_type": "execute_result"
    }
   ],
   "source": [
    "import joblib\n",
    "joblib.dump(ad,\"insurance.pkl\")"
   ]
  }
 ],
 "metadata": {
  "kernelspec": {
   "display_name": "Python 3",
   "language": "python",
   "name": "python3"
  },
  "language_info": {
   "codemirror_mode": {
    "name": "ipython",
    "version": 3
   },
   "file_extension": ".py",
   "mimetype": "text/x-python",
   "name": "python",
   "nbconvert_exporter": "python",
   "pygments_lexer": "ipython3",
   "version": "3.8.8"
  }
 },
 "nbformat": 4,
 "nbformat_minor": 5
}
