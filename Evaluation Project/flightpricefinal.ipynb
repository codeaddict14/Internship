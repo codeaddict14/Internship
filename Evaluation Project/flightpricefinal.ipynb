{
 "cells": [
  {
   "cell_type": "code",
   "execution_count": 1,
   "id": "007dee6b",
   "metadata": {},
   "outputs": [],
   "source": [
    "import pandas as pd\n",
    "import numpy as np\n",
    "import matplotlib.pyplot as plt\n",
    "import seaborn as sns\n",
    "import warnings\n",
    "warnings.filterwarnings(\"ignore\")"
   ]
  },
  {
   "cell_type": "markdown",
   "id": "cd2236ca",
   "metadata": {},
   "source": [
    "# Importing the Train Dataset"
   ]
  },
  {
   "cell_type": "code",
   "execution_count": 2,
   "id": "03df53ea",
   "metadata": {},
   "outputs": [],
   "source": [
    "df_train=pd.read_csv(\"flighttarin.csv\")"
   ]
  },
  {
   "cell_type": "code",
   "execution_count": 3,
   "id": "956afc6a",
   "metadata": {},
   "outputs": [
    {
     "data": {
      "text/html": [
       "<div>\n",
       "<style scoped>\n",
       "    .dataframe tbody tr th:only-of-type {\n",
       "        vertical-align: middle;\n",
       "    }\n",
       "\n",
       "    .dataframe tbody tr th {\n",
       "        vertical-align: top;\n",
       "    }\n",
       "\n",
       "    .dataframe thead th {\n",
       "        text-align: right;\n",
       "    }\n",
       "</style>\n",
       "<table border=\"1\" class=\"dataframe\">\n",
       "  <thead>\n",
       "    <tr style=\"text-align: right;\">\n",
       "      <th></th>\n",
       "      <th>Airline</th>\n",
       "      <th>Date_of_Journey</th>\n",
       "      <th>Source</th>\n",
       "      <th>Destination</th>\n",
       "      <th>Route</th>\n",
       "      <th>Dep_Time</th>\n",
       "      <th>Arrival_Time</th>\n",
       "      <th>Duration</th>\n",
       "      <th>Total_Stops</th>\n",
       "      <th>Additional_Info</th>\n",
       "      <th>Price</th>\n",
       "    </tr>\n",
       "  </thead>\n",
       "  <tbody>\n",
       "    <tr>\n",
       "      <th>0</th>\n",
       "      <td>IndiGo</td>\n",
       "      <td>24/03/2019</td>\n",
       "      <td>Banglore</td>\n",
       "      <td>New Delhi</td>\n",
       "      <td>BLR ? DEL</td>\n",
       "      <td>22:20</td>\n",
       "      <td>01:10 22 Mar</td>\n",
       "      <td>2h 50m</td>\n",
       "      <td>non-stop</td>\n",
       "      <td>No info</td>\n",
       "      <td>3897</td>\n",
       "    </tr>\n",
       "    <tr>\n",
       "      <th>1</th>\n",
       "      <td>Air India</td>\n",
       "      <td>1/05/2019</td>\n",
       "      <td>Kolkata</td>\n",
       "      <td>Banglore</td>\n",
       "      <td>CCU ? IXR ? BBI ? BLR</td>\n",
       "      <td>05:50</td>\n",
       "      <td>13:15</td>\n",
       "      <td>7h 25m</td>\n",
       "      <td>2 stops</td>\n",
       "      <td>No info</td>\n",
       "      <td>7662</td>\n",
       "    </tr>\n",
       "    <tr>\n",
       "      <th>2</th>\n",
       "      <td>Jet Airways</td>\n",
       "      <td>9/06/2019</td>\n",
       "      <td>Delhi</td>\n",
       "      <td>Cochin</td>\n",
       "      <td>DEL ? LKO ? BOM ? COK</td>\n",
       "      <td>09:25</td>\n",
       "      <td>04:25 10 Jun</td>\n",
       "      <td>19h</td>\n",
       "      <td>2 stops</td>\n",
       "      <td>No info</td>\n",
       "      <td>13882</td>\n",
       "    </tr>\n",
       "    <tr>\n",
       "      <th>3</th>\n",
       "      <td>IndiGo</td>\n",
       "      <td>12/05/2019</td>\n",
       "      <td>Kolkata</td>\n",
       "      <td>Banglore</td>\n",
       "      <td>CCU ? NAG ? BLR</td>\n",
       "      <td>18:05</td>\n",
       "      <td>23:30</td>\n",
       "      <td>5h 25m</td>\n",
       "      <td>1 stop</td>\n",
       "      <td>No info</td>\n",
       "      <td>6218</td>\n",
       "    </tr>\n",
       "    <tr>\n",
       "      <th>4</th>\n",
       "      <td>IndiGo</td>\n",
       "      <td>01/03/2019</td>\n",
       "      <td>Banglore</td>\n",
       "      <td>New Delhi</td>\n",
       "      <td>BLR ? NAG ? DEL</td>\n",
       "      <td>16:50</td>\n",
       "      <td>21:35</td>\n",
       "      <td>4h 45m</td>\n",
       "      <td>1 stop</td>\n",
       "      <td>No info</td>\n",
       "      <td>13302</td>\n",
       "    </tr>\n",
       "    <tr>\n",
       "      <th>...</th>\n",
       "      <td>...</td>\n",
       "      <td>...</td>\n",
       "      <td>...</td>\n",
       "      <td>...</td>\n",
       "      <td>...</td>\n",
       "      <td>...</td>\n",
       "      <td>...</td>\n",
       "      <td>...</td>\n",
       "      <td>...</td>\n",
       "      <td>...</td>\n",
       "      <td>...</td>\n",
       "    </tr>\n",
       "    <tr>\n",
       "      <th>10678</th>\n",
       "      <td>Air Asia</td>\n",
       "      <td>9/04/2019</td>\n",
       "      <td>Kolkata</td>\n",
       "      <td>Banglore</td>\n",
       "      <td>CCU ? BLR</td>\n",
       "      <td>19:55</td>\n",
       "      <td>22:25</td>\n",
       "      <td>2h 30m</td>\n",
       "      <td>non-stop</td>\n",
       "      <td>No info</td>\n",
       "      <td>4107</td>\n",
       "    </tr>\n",
       "    <tr>\n",
       "      <th>10679</th>\n",
       "      <td>Air India</td>\n",
       "      <td>27/04/2019</td>\n",
       "      <td>Kolkata</td>\n",
       "      <td>Banglore</td>\n",
       "      <td>CCU ? BLR</td>\n",
       "      <td>20:45</td>\n",
       "      <td>23:20</td>\n",
       "      <td>2h 35m</td>\n",
       "      <td>non-stop</td>\n",
       "      <td>No info</td>\n",
       "      <td>4145</td>\n",
       "    </tr>\n",
       "    <tr>\n",
       "      <th>10680</th>\n",
       "      <td>Jet Airways</td>\n",
       "      <td>27/04/2019</td>\n",
       "      <td>Banglore</td>\n",
       "      <td>Delhi</td>\n",
       "      <td>BLR ? DEL</td>\n",
       "      <td>08:20</td>\n",
       "      <td>11:20</td>\n",
       "      <td>3h</td>\n",
       "      <td>non-stop</td>\n",
       "      <td>No info</td>\n",
       "      <td>7229</td>\n",
       "    </tr>\n",
       "    <tr>\n",
       "      <th>10681</th>\n",
       "      <td>Vistara</td>\n",
       "      <td>01/03/2019</td>\n",
       "      <td>Banglore</td>\n",
       "      <td>New Delhi</td>\n",
       "      <td>BLR ? DEL</td>\n",
       "      <td>11:30</td>\n",
       "      <td>14:10</td>\n",
       "      <td>2h 40m</td>\n",
       "      <td>non-stop</td>\n",
       "      <td>No info</td>\n",
       "      <td>12648</td>\n",
       "    </tr>\n",
       "    <tr>\n",
       "      <th>10682</th>\n",
       "      <td>Air India</td>\n",
       "      <td>9/05/2019</td>\n",
       "      <td>Delhi</td>\n",
       "      <td>Cochin</td>\n",
       "      <td>DEL ? GOI ? BOM ? COK</td>\n",
       "      <td>10:55</td>\n",
       "      <td>19:15</td>\n",
       "      <td>8h 20m</td>\n",
       "      <td>2 stops</td>\n",
       "      <td>No info</td>\n",
       "      <td>11753</td>\n",
       "    </tr>\n",
       "  </tbody>\n",
       "</table>\n",
       "<p>10683 rows × 11 columns</p>\n",
       "</div>"
      ],
      "text/plain": [
       "           Airline Date_of_Journey    Source Destination  \\\n",
       "0           IndiGo      24/03/2019  Banglore   New Delhi   \n",
       "1        Air India       1/05/2019   Kolkata    Banglore   \n",
       "2      Jet Airways       9/06/2019     Delhi      Cochin   \n",
       "3           IndiGo      12/05/2019   Kolkata    Banglore   \n",
       "4           IndiGo      01/03/2019  Banglore   New Delhi   \n",
       "...            ...             ...       ...         ...   \n",
       "10678     Air Asia       9/04/2019   Kolkata    Banglore   \n",
       "10679    Air India      27/04/2019   Kolkata    Banglore   \n",
       "10680  Jet Airways      27/04/2019  Banglore       Delhi   \n",
       "10681      Vistara      01/03/2019  Banglore   New Delhi   \n",
       "10682    Air India       9/05/2019     Delhi      Cochin   \n",
       "\n",
       "                       Route Dep_Time  Arrival_Time Duration Total_Stops  \\\n",
       "0                  BLR ? DEL    22:20  01:10 22 Mar   2h 50m    non-stop   \n",
       "1      CCU ? IXR ? BBI ? BLR    05:50         13:15   7h 25m     2 stops   \n",
       "2      DEL ? LKO ? BOM ? COK    09:25  04:25 10 Jun      19h     2 stops   \n",
       "3            CCU ? NAG ? BLR    18:05         23:30   5h 25m      1 stop   \n",
       "4            BLR ? NAG ? DEL    16:50         21:35   4h 45m      1 stop   \n",
       "...                      ...      ...           ...      ...         ...   \n",
       "10678              CCU ? BLR    19:55         22:25   2h 30m    non-stop   \n",
       "10679              CCU ? BLR    20:45         23:20   2h 35m    non-stop   \n",
       "10680              BLR ? DEL    08:20         11:20       3h    non-stop   \n",
       "10681              BLR ? DEL    11:30         14:10   2h 40m    non-stop   \n",
       "10682  DEL ? GOI ? BOM ? COK    10:55         19:15   8h 20m     2 stops   \n",
       "\n",
       "      Additional_Info  Price  \n",
       "0             No info   3897  \n",
       "1             No info   7662  \n",
       "2             No info  13882  \n",
       "3             No info   6218  \n",
       "4             No info  13302  \n",
       "...               ...    ...  \n",
       "10678         No info   4107  \n",
       "10679         No info   4145  \n",
       "10680         No info   7229  \n",
       "10681         No info  12648  \n",
       "10682         No info  11753  \n",
       "\n",
       "[10683 rows x 11 columns]"
      ]
     },
     "execution_count": 3,
     "metadata": {},
     "output_type": "execute_result"
    }
   ],
   "source": [
    "df_train"
   ]
  },
  {
   "cell_type": "markdown",
   "id": "8aa0ec67",
   "metadata": {},
   "source": [
    "From the above dataset,\n",
    "1. There are 10683 rows and 11 columns.\n",
    "2. As we have to predict the price it is a regression column.\n",
    "3. All other columns like date of journey, source, destination ets are the input variables.\n",
    "4. As the data in columns like arrival time, duration time is tough to read we will create hours and minutes columns from these 2 columns."
   ]
  },
  {
   "cell_type": "code",
   "execution_count": 29,
   "id": "e662f997",
   "metadata": {},
   "outputs": [
    {
     "data": {
      "text/plain": [
       "Airline            0\n",
       "Date_of_Journey    0\n",
       "Source             0\n",
       "Destination        0\n",
       "Route              1\n",
       "Dep_Time           0\n",
       "Arrival_Time       0\n",
       "Duration           0\n",
       "Total_Stops        1\n",
       "Additional_Info    0\n",
       "Price              0\n",
       "dtype: int64"
      ]
     },
     "execution_count": 29,
     "metadata": {},
     "output_type": "execute_result"
    }
   ],
   "source": [
    "df_train.isnull().sum()"
   ]
  },
  {
   "cell_type": "markdown",
   "id": "7eeea1f1",
   "metadata": {},
   "source": [
    "There are missing values in the columns like route and total_stops"
   ]
  },
  {
   "cell_type": "code",
   "execution_count": 30,
   "id": "7983975b",
   "metadata": {},
   "outputs": [
    {
     "data": {
      "text/plain": [
       "Airline            object\n",
       "Date_of_Journey    object\n",
       "Source             object\n",
       "Destination        object\n",
       "Route              object\n",
       "Dep_Time           object\n",
       "Arrival_Time       object\n",
       "Duration           object\n",
       "Total_Stops        object\n",
       "Additional_Info    object\n",
       "Price               int64\n",
       "dtype: object"
      ]
     },
     "execution_count": 30,
     "metadata": {},
     "output_type": "execute_result"
    }
   ],
   "source": [
    "df_train.dtypes"
   ]
  },
  {
   "cell_type": "code",
   "execution_count": 32,
   "id": "6d09bce5",
   "metadata": {},
   "outputs": [
    {
     "data": {
      "text/plain": [
       "Index(['Airline', 'Date_of_Journey', 'Source', 'Destination', 'Route',\n",
       "       'Dep_Time', 'Arrival_Time', 'Duration', 'Total_Stops',\n",
       "       'Additional_Info', 'Price'],\n",
       "      dtype='object')"
      ]
     },
     "execution_count": 32,
     "metadata": {},
     "output_type": "execute_result"
    }
   ],
   "source": [
    "df_train.columns"
   ]
  },
  {
   "cell_type": "markdown",
   "id": "e48db217",
   "metadata": {},
   "source": [
    "# Univariant, Bivariant, Multivariant Dataset"
   ]
  },
  {
   "cell_type": "code",
   "execution_count": 4,
   "id": "15039a9a",
   "metadata": {},
   "outputs": [
    {
     "data": {
      "text/plain": [
       "<AxesSubplot:xlabel='Price', ylabel='Density'>"
      ]
     },
     "execution_count": 4,
     "metadata": {},
     "output_type": "execute_result"
    },
    {
     "data": {
      "image/png": "[encoded data removed]",
      "text/plain": [
       "<Figure size 432x288 with 1 Axes>"
      ]
     },
     "metadata": {
      "needs_background": "light"
     },
     "output_type": "display_data"
    }
   ],
   "source": [
    "sns.distplot(df_train['Price'])"
   ]
  },
  {
   "cell_type": "markdown",
   "id": "51a51ef2",
   "metadata": {},
   "source": [
    "From the above plot we can say that the data is right tailed i.e slightly skewed."
   ]
  },
  {
   "cell_type": "code",
   "execution_count": 18,
   "id": "67943aea",
   "metadata": {},
   "outputs": [
    {
     "data": {
      "text/plain": [
       "<AxesSubplot:xlabel='Airline', ylabel='count'>"
      ]
     },
     "execution_count": 18,
     "metadata": {},
     "output_type": "execute_result"
    },
    {
     "data": {
      "image/png": "[encoded data removed]",
      "text/plain": [
       "<Figure size 2160x576 with 1 Axes>"
      ]
     },
     "metadata": {
      "needs_background": "light"
     },
     "output_type": "display_data"
    }
   ],
   "source": [
    "plt.figure(figsize=(30,8))\n",
    "sns.countplot(df_train['Airline'])"
   ]
  },
  {
   "cell_type": "markdown",
   "id": "a70df0d2",
   "metadata": {},
   "source": [
    "We have around 11 airlines and highest count is of jet airways."
   ]
  },
  {
   "cell_type": "code",
   "execution_count": 23,
   "id": "9fa89582",
   "metadata": {},
   "outputs": [
    {
     "data": {
      "text/plain": [
       "<AxesSubplot:xlabel='Source', ylabel='Price'>"
      ]
     },
     "execution_count": 23,
     "metadata": {},
     "output_type": "execute_result"
    },
    {
     "data": {
      "image/png": "[encoded data removed]",
      "text/plain": [
       "<Figure size 432x288 with 1 Axes>"
      ]
     },
     "metadata": {
      "needs_background": "light"
     },
     "output_type": "display_data"
    }
   ],
   "source": [
    "sns.boxplot(df_train['Source'],df_train['Price'])"
   ]
  },
  {
   "cell_type": "markdown",
   "id": "c6a0b969",
   "metadata": {},
   "source": [
    "Flights with the source as bangalore has highest price."
   ]
  },
  {
   "cell_type": "code",
   "execution_count": 24,
   "id": "f3d8de47",
   "metadata": {},
   "outputs": [
    {
     "data": {
      "text/plain": [
       "<AxesSubplot:xlabel='Source', ylabel='count'>"
      ]
     },
     "execution_count": 24,
     "metadata": {},
     "output_type": "execute_result"
    },
    {
     "data": {
      "image/png": "[encoded data removed]",
      "text/plain": [
       "<Figure size 432x288 with 1 Axes>"
      ]
     },
     "metadata": {
      "needs_background": "light"
     },
     "output_type": "display_data"
    }
   ],
   "source": [
    "sns.countplot(df_train['Source'])"
   ]
  },
  {
   "cell_type": "markdown",
   "id": "42a09bf8",
   "metadata": {},
   "source": [
    "Most of the flights are with source destinations delhi."
   ]
  },
  {
   "cell_type": "code",
   "execution_count": 26,
   "id": "0f04e611",
   "metadata": {},
   "outputs": [
    {
     "data": {
      "text/plain": [
       "<AxesSubplot:xlabel='Destination', ylabel='count'>"
      ]
     },
     "execution_count": 26,
     "metadata": {},
     "output_type": "execute_result"
    },
    {
     "data": {
      "image/png": "[encoded data removed]",
      "text/plain": [
       "<Figure size 432x288 with 1 Axes>"
      ]
     },
     "metadata": {
      "needs_background": "light"
     },
     "output_type": "display_data"
    }
   ],
   "source": [
    "sns.countplot(df_train['Destination'])"
   ]
  },
  {
   "cell_type": "markdown",
   "id": "61829bb0",
   "metadata": {},
   "source": [
    "Destination with cochin has the highest count."
   ]
  },
  {
   "cell_type": "code",
   "execution_count": 27,
   "id": "c337b19d",
   "metadata": {},
   "outputs": [
    {
     "data": {
      "text/plain": [
       "<AxesSubplot:xlabel='Destination', ylabel='Price'>"
      ]
     },
     "execution_count": 27,
     "metadata": {},
     "output_type": "execute_result"
    },
    {
     "data": {
      "image/png": "[encoded data removed]",
      "text/plain": [
       "<Figure size 432x288 with 1 Axes>"
      ]
     },
     "metadata": {
      "needs_background": "light"
     },
     "output_type": "display_data"
    }
   ],
   "source": [
    "sns.boxplot(df_train['Destination'],df_train['Price'])"
   ]
  },
  {
   "cell_type": "markdown",
   "id": "f2bc5272",
   "metadata": {},
   "source": [
    "destinations with new delhi are the costliest ones whereas the hydrabad are the least ones."
   ]
  },
  {
   "cell_type": "code",
   "execution_count": 28,
   "id": "233037b9",
   "metadata": {},
   "outputs": [
    {
     "data": {
      "text/plain": [
       "<AxesSubplot:xlabel='Total_Stops', ylabel='Price'>"
      ]
     },
     "execution_count": 28,
     "metadata": {},
     "output_type": "execute_result"
    },
    {
     "data": {
      "image/png": "[encoded data removed]",
      "text/plain": [
       "<Figure size 432x288 with 1 Axes>"
      ]
     },
     "metadata": {
      "needs_background": "light"
     },
     "output_type": "display_data"
    }
   ],
   "source": [
    "sns.barplot(df_train['Total_Stops'],df_train['Price'])"
   ]
  },
  {
   "cell_type": "markdown",
   "id": "361e1525",
   "metadata": {},
   "source": [
    "Tickets with the 4 stops are the costliest ones where as the tickets with no stops are the least in price."
   ]
  },
  {
   "cell_type": "markdown",
   "id": "78969952",
   "metadata": {},
   "source": [
    "# Importing the Test Dataset"
   ]
  },
  {
   "cell_type": "code",
   "execution_count": 134,
   "id": "9b79e100",
   "metadata": {},
   "outputs": [
    {
     "data": {
      "text/html": [
       "<div>\n",
       "<style scoped>\n",
       "    .dataframe tbody tr th:only-of-type {\n",
       "        vertical-align: middle;\n",
       "    }\n",
       "\n",
       "    .dataframe tbody tr th {\n",
       "        vertical-align: top;\n",
       "    }\n",
       "\n",
       "    .dataframe thead th {\n",
       "        text-align: right;\n",
       "    }\n",
       "</style>\n",
       "<table border=\"1\" class=\"dataframe\">\n",
       "  <thead>\n",
       "    <tr style=\"text-align: right;\">\n",
       "      <th></th>\n",
       "      <th>Airline</th>\n",
       "      <th>Date_of_Journey</th>\n",
       "      <th>Source</th>\n",
       "      <th>Destination</th>\n",
       "      <th>Route</th>\n",
       "      <th>Dep_Time</th>\n",
       "      <th>Arrival_Time</th>\n",
       "      <th>Duration</th>\n",
       "      <th>Total_Stops</th>\n",
       "      <th>Additional_Info</th>\n",
       "    </tr>\n",
       "  </thead>\n",
       "  <tbody>\n",
       "    <tr>\n",
       "      <th>0</th>\n",
       "      <td>Jet Airways</td>\n",
       "      <td>6/06/2019</td>\n",
       "      <td>Delhi</td>\n",
       "      <td>Cochin</td>\n",
       "      <td>DEL ? BOM ? COK</td>\n",
       "      <td>17:30</td>\n",
       "      <td>04:25 07 Jun</td>\n",
       "      <td>10h 55m</td>\n",
       "      <td>1 stop</td>\n",
       "      <td>No info</td>\n",
       "    </tr>\n",
       "    <tr>\n",
       "      <th>1</th>\n",
       "      <td>IndiGo</td>\n",
       "      <td>12/05/2019</td>\n",
       "      <td>Kolkata</td>\n",
       "      <td>Banglore</td>\n",
       "      <td>CCU ? MAA ? BLR</td>\n",
       "      <td>06:20</td>\n",
       "      <td>10:20</td>\n",
       "      <td>4h</td>\n",
       "      <td>1 stop</td>\n",
       "      <td>No info</td>\n",
       "    </tr>\n",
       "    <tr>\n",
       "      <th>2</th>\n",
       "      <td>Jet Airways</td>\n",
       "      <td>21/05/2019</td>\n",
       "      <td>Delhi</td>\n",
       "      <td>Cochin</td>\n",
       "      <td>DEL ? BOM ? COK</td>\n",
       "      <td>19:15</td>\n",
       "      <td>19:00 22 May</td>\n",
       "      <td>23h 45m</td>\n",
       "      <td>1 stop</td>\n",
       "      <td>In-flight meal not included</td>\n",
       "    </tr>\n",
       "    <tr>\n",
       "      <th>3</th>\n",
       "      <td>Multiple carriers</td>\n",
       "      <td>21/05/2019</td>\n",
       "      <td>Delhi</td>\n",
       "      <td>Cochin</td>\n",
       "      <td>DEL ? BOM ? COK</td>\n",
       "      <td>08:00</td>\n",
       "      <td>21:00</td>\n",
       "      <td>13h</td>\n",
       "      <td>1 stop</td>\n",
       "      <td>No info</td>\n",
       "    </tr>\n",
       "    <tr>\n",
       "      <th>4</th>\n",
       "      <td>Air Asia</td>\n",
       "      <td>24/06/2019</td>\n",
       "      <td>Banglore</td>\n",
       "      <td>Delhi</td>\n",
       "      <td>BLR ? DEL</td>\n",
       "      <td>23:55</td>\n",
       "      <td>02:45 25 Jun</td>\n",
       "      <td>2h 50m</td>\n",
       "      <td>non-stop</td>\n",
       "      <td>No info</td>\n",
       "    </tr>\n",
       "    <tr>\n",
       "      <th>...</th>\n",
       "      <td>...</td>\n",
       "      <td>...</td>\n",
       "      <td>...</td>\n",
       "      <td>...</td>\n",
       "      <td>...</td>\n",
       "      <td>...</td>\n",
       "      <td>...</td>\n",
       "      <td>...</td>\n",
       "      <td>...</td>\n",
       "      <td>...</td>\n",
       "    </tr>\n",
       "    <tr>\n",
       "      <th>2666</th>\n",
       "      <td>Air India</td>\n",
       "      <td>6/06/2019</td>\n",
       "      <td>Kolkata</td>\n",
       "      <td>Banglore</td>\n",
       "      <td>CCU ? DEL ? BLR</td>\n",
       "      <td>20:30</td>\n",
       "      <td>20:25 07 Jun</td>\n",
       "      <td>23h 55m</td>\n",
       "      <td>1 stop</td>\n",
       "      <td>No info</td>\n",
       "    </tr>\n",
       "    <tr>\n",
       "      <th>2667</th>\n",
       "      <td>IndiGo</td>\n",
       "      <td>27/03/2019</td>\n",
       "      <td>Kolkata</td>\n",
       "      <td>Banglore</td>\n",
       "      <td>CCU ? BLR</td>\n",
       "      <td>14:20</td>\n",
       "      <td>16:55</td>\n",
       "      <td>2h 35m</td>\n",
       "      <td>non-stop</td>\n",
       "      <td>No info</td>\n",
       "    </tr>\n",
       "    <tr>\n",
       "      <th>2668</th>\n",
       "      <td>Jet Airways</td>\n",
       "      <td>6/03/2019</td>\n",
       "      <td>Delhi</td>\n",
       "      <td>Cochin</td>\n",
       "      <td>DEL ? BOM ? COK</td>\n",
       "      <td>21:50</td>\n",
       "      <td>04:25 07 Mar</td>\n",
       "      <td>6h 35m</td>\n",
       "      <td>1 stop</td>\n",
       "      <td>No info</td>\n",
       "    </tr>\n",
       "    <tr>\n",
       "      <th>2669</th>\n",
       "      <td>Air India</td>\n",
       "      <td>6/03/2019</td>\n",
       "      <td>Delhi</td>\n",
       "      <td>Cochin</td>\n",
       "      <td>DEL ? BOM ? COK</td>\n",
       "      <td>04:00</td>\n",
       "      <td>19:15</td>\n",
       "      <td>15h 15m</td>\n",
       "      <td>1 stop</td>\n",
       "      <td>No info</td>\n",
       "    </tr>\n",
       "    <tr>\n",
       "      <th>2670</th>\n",
       "      <td>Multiple carriers</td>\n",
       "      <td>15/06/2019</td>\n",
       "      <td>Delhi</td>\n",
       "      <td>Cochin</td>\n",
       "      <td>DEL ? BOM ? COK</td>\n",
       "      <td>04:55</td>\n",
       "      <td>19:15</td>\n",
       "      <td>14h 20m</td>\n",
       "      <td>1 stop</td>\n",
       "      <td>No info</td>\n",
       "    </tr>\n",
       "  </tbody>\n",
       "</table>\n",
       "<p>2671 rows × 10 columns</p>\n",
       "</div>"
      ],
      "text/plain": [
       "                Airline Date_of_Journey    Source Destination  \\\n",
       "0           Jet Airways       6/06/2019     Delhi      Cochin   \n",
       "1                IndiGo      12/05/2019   Kolkata    Banglore   \n",
       "2           Jet Airways      21/05/2019     Delhi      Cochin   \n",
       "3     Multiple carriers      21/05/2019     Delhi      Cochin   \n",
       "4              Air Asia      24/06/2019  Banglore       Delhi   \n",
       "...                 ...             ...       ...         ...   \n",
       "2666          Air India       6/06/2019   Kolkata    Banglore   \n",
       "2667             IndiGo      27/03/2019   Kolkata    Banglore   \n",
       "2668        Jet Airways       6/03/2019     Delhi      Cochin   \n",
       "2669          Air India       6/03/2019     Delhi      Cochin   \n",
       "2670  Multiple carriers      15/06/2019     Delhi      Cochin   \n",
       "\n",
       "                Route Dep_Time  Arrival_Time Duration Total_Stops  \\\n",
       "0     DEL ? BOM ? COK    17:30  04:25 07 Jun  10h 55m      1 stop   \n",
       "1     CCU ? MAA ? BLR    06:20         10:20       4h      1 stop   \n",
       "2     DEL ? BOM ? COK    19:15  19:00 22 May  23h 45m      1 stop   \n",
       "3     DEL ? BOM ? COK    08:00         21:00      13h      1 stop   \n",
       "4           BLR ? DEL    23:55  02:45 25 Jun   2h 50m    non-stop   \n",
       "...               ...      ...           ...      ...         ...   \n",
       "2666  CCU ? DEL ? BLR    20:30  20:25 07 Jun  23h 55m      1 stop   \n",
       "2667        CCU ? BLR    14:20         16:55   2h 35m    non-stop   \n",
       "2668  DEL ? BOM ? COK    21:50  04:25 07 Mar   6h 35m      1 stop   \n",
       "2669  DEL ? BOM ? COK    04:00         19:15  15h 15m      1 stop   \n",
       "2670  DEL ? BOM ? COK    04:55         19:15  14h 20m      1 stop   \n",
       "\n",
       "                  Additional_Info  \n",
       "0                         No info  \n",
       "1                         No info  \n",
       "2     In-flight meal not included  \n",
       "3                         No info  \n",
       "4                         No info  \n",
       "...                           ...  \n",
       "2666                      No info  \n",
       "2667                      No info  \n",
       "2668                      No info  \n",
       "2669                      No info  \n",
       "2670                      No info  \n",
       "\n",
       "[2671 rows x 10 columns]"
      ]
     },
     "execution_count": 134,
     "metadata": {},
     "output_type": "execute_result"
    }
   ],
   "source": [
    "df_test=pd.read_csv(\"flighttest.csv\")\n",
    "df_test"
   ]
  },
  {
   "cell_type": "markdown",
   "id": "dab9aa32",
   "metadata": {},
   "source": [
    "From the above dataset we can see that,\n",
    "1. there are 2671 rows and 10 cloumns.\n",
    "2. it is a test dataset.\n",
    "3. we have to pridict the price as per the given input varaibles."
   ]
  },
  {
   "cell_type": "code",
   "execution_count": 139,
   "id": "98fa3141",
   "metadata": {},
   "outputs": [
    {
     "data": {
      "text/plain": [
       "Airline            0\n",
       "Date_of_Journey    0\n",
       "Source             0\n",
       "Destination        0\n",
       "Route              0\n",
       "Dep_Time           0\n",
       "Arrival_Time       0\n",
       "Duration           0\n",
       "Total_Stops        0\n",
       "Additional_Info    0\n",
       "dtype: int64"
      ]
     },
     "execution_count": 139,
     "metadata": {},
     "output_type": "execute_result"
    }
   ],
   "source": [
    "df_test.isnull().sum()"
   ]
  },
  {
   "cell_type": "markdown",
   "id": "63c203b4",
   "metadata": {},
   "source": [
    "we have no missing values in the test dataset."
   ]
  },
  {
   "cell_type": "markdown",
   "id": "c83423f9",
   "metadata": {},
   "source": [
    "# Data Cleaning/Preprocessing of Test Dataset"
   ]
  },
  {
   "cell_type": "code",
   "execution_count": 140,
   "id": "6f8afa9d",
   "metadata": {},
   "outputs": [],
   "source": [
    "#extracting days, months, years\n",
    "df_test['Day'],df_test['Month'],df_test['Year'] = df_test['Date_of_Journey'].str.split('/',3).str\n",
    "df_test.drop('Date_of_Journey',axis=1,inplace=True)\n",
    "#extracting dep hour and dep minutes\n",
    "df_test['Dep_h'],df_test['Dep_m']=df_test['Dep_Time'].str.split(':',2).str\n",
    "df_test.drop('Dep_Time',axis=1,inplace=True)\n",
    "# Extracting Hours\n",
    "df_test[\"Arrival_hour\"] = pd.to_datetime(df_test.Arrival_Time).dt.hour\n",
    "# Extracting Minutes\n",
    "df_test[\"Arrival_min\"] = pd.to_datetime(df_test.Arrival_Time).dt.minute\n",
    "df_test.drop('Arrival_Time',axis=1,inplace=True)\n",
    "#replacing the 'h' with ':' and 'm' with ' '\n",
    "df_test['duration'] = df_test['Duration'].str.replace('h',':').str.replace('m','')\n",
    "#extracting the duration hour and minutes\n",
    "df_test['Dur_h'],df_test['Dur_m']=df_test['duration'].str.split(':',2).str\n",
    "df_test.drop('duration',axis=1,inplace=True)\n",
    "df_test.drop('Duration',axis=1,inplace=True)\n",
    "df_test.drop('Route',axis=1,inplace=True)\n",
    "#droping all thoes columns from which we have created furtur variables."
   ]
  },
  {
   "cell_type": "code",
   "execution_count": 141,
   "id": "e20c0307",
   "metadata": {},
   "outputs": [
    {
     "data": {
      "text/html": [
       "<div>\n",
       "<style scoped>\n",
       "    .dataframe tbody tr th:only-of-type {\n",
       "        vertical-align: middle;\n",
       "    }\n",
       "\n",
       "    .dataframe tbody tr th {\n",
       "        vertical-align: top;\n",
       "    }\n",
       "\n",
       "    .dataframe thead th {\n",
       "        text-align: right;\n",
       "    }\n",
       "</style>\n",
       "<table border=\"1\" class=\"dataframe\">\n",
       "  <thead>\n",
       "    <tr style=\"text-align: right;\">\n",
       "      <th></th>\n",
       "      <th>Airline</th>\n",
       "      <th>Source</th>\n",
       "      <th>Destination</th>\n",
       "      <th>Total_Stops</th>\n",
       "      <th>Additional_Info</th>\n",
       "      <th>Day</th>\n",
       "      <th>Month</th>\n",
       "      <th>Year</th>\n",
       "      <th>Dep_h</th>\n",
       "      <th>Dep_m</th>\n",
       "      <th>Arrival_hour</th>\n",
       "      <th>Arrival_min</th>\n",
       "      <th>Dur_h</th>\n",
       "      <th>Dur_m</th>\n",
       "    </tr>\n",
       "  </thead>\n",
       "  <tbody>\n",
       "    <tr>\n",
       "      <th>0</th>\n",
       "      <td>Jet Airways</td>\n",
       "      <td>Delhi</td>\n",
       "      <td>Cochin</td>\n",
       "      <td>1 stop</td>\n",
       "      <td>No info</td>\n",
       "      <td>6</td>\n",
       "      <td>06</td>\n",
       "      <td>2019</td>\n",
       "      <td>17</td>\n",
       "      <td>30</td>\n",
       "      <td>4</td>\n",
       "      <td>25</td>\n",
       "      <td>10</td>\n",
       "      <td>55</td>\n",
       "    </tr>\n",
       "    <tr>\n",
       "      <th>1</th>\n",
       "      <td>IndiGo</td>\n",
       "      <td>Kolkata</td>\n",
       "      <td>Banglore</td>\n",
       "      <td>1 stop</td>\n",
       "      <td>No info</td>\n",
       "      <td>12</td>\n",
       "      <td>05</td>\n",
       "      <td>2019</td>\n",
       "      <td>06</td>\n",
       "      <td>20</td>\n",
       "      <td>10</td>\n",
       "      <td>20</td>\n",
       "      <td>4</td>\n",
       "      <td></td>\n",
       "    </tr>\n",
       "    <tr>\n",
       "      <th>2</th>\n",
       "      <td>Jet Airways</td>\n",
       "      <td>Delhi</td>\n",
       "      <td>Cochin</td>\n",
       "      <td>1 stop</td>\n",
       "      <td>In-flight meal not included</td>\n",
       "      <td>21</td>\n",
       "      <td>05</td>\n",
       "      <td>2019</td>\n",
       "      <td>19</td>\n",
       "      <td>15</td>\n",
       "      <td>19</td>\n",
       "      <td>0</td>\n",
       "      <td>23</td>\n",
       "      <td>45</td>\n",
       "    </tr>\n",
       "    <tr>\n",
       "      <th>3</th>\n",
       "      <td>Multiple carriers</td>\n",
       "      <td>Delhi</td>\n",
       "      <td>Cochin</td>\n",
       "      <td>1 stop</td>\n",
       "      <td>No info</td>\n",
       "      <td>21</td>\n",
       "      <td>05</td>\n",
       "      <td>2019</td>\n",
       "      <td>08</td>\n",
       "      <td>00</td>\n",
       "      <td>21</td>\n",
       "      <td>0</td>\n",
       "      <td>13</td>\n",
       "      <td></td>\n",
       "    </tr>\n",
       "    <tr>\n",
       "      <th>4</th>\n",
       "      <td>Air Asia</td>\n",
       "      <td>Banglore</td>\n",
       "      <td>Delhi</td>\n",
       "      <td>non-stop</td>\n",
       "      <td>No info</td>\n",
       "      <td>24</td>\n",
       "      <td>06</td>\n",
       "      <td>2019</td>\n",
       "      <td>23</td>\n",
       "      <td>55</td>\n",
       "      <td>2</td>\n",
       "      <td>45</td>\n",
       "      <td>2</td>\n",
       "      <td>50</td>\n",
       "    </tr>\n",
       "    <tr>\n",
       "      <th>...</th>\n",
       "      <td>...</td>\n",
       "      <td>...</td>\n",
       "      <td>...</td>\n",
       "      <td>...</td>\n",
       "      <td>...</td>\n",
       "      <td>...</td>\n",
       "      <td>...</td>\n",
       "      <td>...</td>\n",
       "      <td>...</td>\n",
       "      <td>...</td>\n",
       "      <td>...</td>\n",
       "      <td>...</td>\n",
       "      <td>...</td>\n",
       "      <td>...</td>\n",
       "    </tr>\n",
       "    <tr>\n",
       "      <th>2666</th>\n",
       "      <td>Air India</td>\n",
       "      <td>Kolkata</td>\n",
       "      <td>Banglore</td>\n",
       "      <td>1 stop</td>\n",
       "      <td>No info</td>\n",
       "      <td>6</td>\n",
       "      <td>06</td>\n",
       "      <td>2019</td>\n",
       "      <td>20</td>\n",
       "      <td>30</td>\n",
       "      <td>20</td>\n",
       "      <td>25</td>\n",
       "      <td>23</td>\n",
       "      <td>55</td>\n",
       "    </tr>\n",
       "    <tr>\n",
       "      <th>2667</th>\n",
       "      <td>IndiGo</td>\n",
       "      <td>Kolkata</td>\n",
       "      <td>Banglore</td>\n",
       "      <td>non-stop</td>\n",
       "      <td>No info</td>\n",
       "      <td>27</td>\n",
       "      <td>03</td>\n",
       "      <td>2019</td>\n",
       "      <td>14</td>\n",
       "      <td>20</td>\n",
       "      <td>16</td>\n",
       "      <td>55</td>\n",
       "      <td>2</td>\n",
       "      <td>35</td>\n",
       "    </tr>\n",
       "    <tr>\n",
       "      <th>2668</th>\n",
       "      <td>Jet Airways</td>\n",
       "      <td>Delhi</td>\n",
       "      <td>Cochin</td>\n",
       "      <td>1 stop</td>\n",
       "      <td>No info</td>\n",
       "      <td>6</td>\n",
       "      <td>03</td>\n",
       "      <td>2019</td>\n",
       "      <td>21</td>\n",
       "      <td>50</td>\n",
       "      <td>4</td>\n",
       "      <td>25</td>\n",
       "      <td>6</td>\n",
       "      <td>35</td>\n",
       "    </tr>\n",
       "    <tr>\n",
       "      <th>2669</th>\n",
       "      <td>Air India</td>\n",
       "      <td>Delhi</td>\n",
       "      <td>Cochin</td>\n",
       "      <td>1 stop</td>\n",
       "      <td>No info</td>\n",
       "      <td>6</td>\n",
       "      <td>03</td>\n",
       "      <td>2019</td>\n",
       "      <td>04</td>\n",
       "      <td>00</td>\n",
       "      <td>19</td>\n",
       "      <td>15</td>\n",
       "      <td>15</td>\n",
       "      <td>15</td>\n",
       "    </tr>\n",
       "    <tr>\n",
       "      <th>2670</th>\n",
       "      <td>Multiple carriers</td>\n",
       "      <td>Delhi</td>\n",
       "      <td>Cochin</td>\n",
       "      <td>1 stop</td>\n",
       "      <td>No info</td>\n",
       "      <td>15</td>\n",
       "      <td>06</td>\n",
       "      <td>2019</td>\n",
       "      <td>04</td>\n",
       "      <td>55</td>\n",
       "      <td>19</td>\n",
       "      <td>15</td>\n",
       "      <td>14</td>\n",
       "      <td>20</td>\n",
       "    </tr>\n",
       "  </tbody>\n",
       "</table>\n",
       "<p>2671 rows × 14 columns</p>\n",
       "</div>"
      ],
      "text/plain": [
       "                Airline    Source Destination Total_Stops  \\\n",
       "0           Jet Airways     Delhi      Cochin      1 stop   \n",
       "1                IndiGo   Kolkata    Banglore      1 stop   \n",
       "2           Jet Airways     Delhi      Cochin      1 stop   \n",
       "3     Multiple carriers     Delhi      Cochin      1 stop   \n",
       "4              Air Asia  Banglore       Delhi    non-stop   \n",
       "...                 ...       ...         ...         ...   \n",
       "2666          Air India   Kolkata    Banglore      1 stop   \n",
       "2667             IndiGo   Kolkata    Banglore    non-stop   \n",
       "2668        Jet Airways     Delhi      Cochin      1 stop   \n",
       "2669          Air India     Delhi      Cochin      1 stop   \n",
       "2670  Multiple carriers     Delhi      Cochin      1 stop   \n",
       "\n",
       "                  Additional_Info Day Month  Year Dep_h Dep_m  Arrival_hour  \\\n",
       "0                         No info   6    06  2019    17    30             4   \n",
       "1                         No info  12    05  2019    06    20            10   \n",
       "2     In-flight meal not included  21    05  2019    19    15            19   \n",
       "3                         No info  21    05  2019    08    00            21   \n",
       "4                         No info  24    06  2019    23    55             2   \n",
       "...                           ...  ..   ...   ...   ...   ...           ...   \n",
       "2666                      No info   6    06  2019    20    30            20   \n",
       "2667                      No info  27    03  2019    14    20            16   \n",
       "2668                      No info   6    03  2019    21    50             4   \n",
       "2669                      No info   6    03  2019    04    00            19   \n",
       "2670                      No info  15    06  2019    04    55            19   \n",
       "\n",
       "      Arrival_min Dur_h Dur_m  \n",
       "0              25    10    55  \n",
       "1              20     4        \n",
       "2               0    23    45  \n",
       "3               0    13        \n",
       "4              45     2    50  \n",
       "...           ...   ...   ...  \n",
       "2666           25    23    55  \n",
       "2667           55     2    35  \n",
       "2668           25     6    35  \n",
       "2669           15    15    15  \n",
       "2670           15    14    20  \n",
       "\n",
       "[2671 rows x 14 columns]"
      ]
     },
     "execution_count": 141,
     "metadata": {},
     "output_type": "execute_result"
    }
   ],
   "source": [
    "df_test"
   ]
  },
  {
   "cell_type": "markdown",
   "id": "c8f391e7",
   "metadata": {},
   "source": [
    "# Label Encoding of Test dataset"
   ]
  },
  {
   "cell_type": "code",
   "execution_count": 142,
   "id": "ed787ab5",
   "metadata": {},
   "outputs": [],
   "source": [
    "from sklearn.preprocessing import LabelEncoder\n",
    "le=LabelEncoder() #converting the categorial data into numeric data\n",
    "name=['Airline','Source','Destination','Total_Stops','Additional_Info']\n",
    "for val in name:\n",
    "    df_test[val]=le.fit_transform(df_test[val].astype(str))\n"
   ]
  },
  {
   "cell_type": "code",
   "execution_count": 143,
   "id": "9e107e99",
   "metadata": {},
   "outputs": [
    {
     "data": {
      "text/html": [
       "<div>\n",
       "<style scoped>\n",
       "    .dataframe tbody tr th:only-of-type {\n",
       "        vertical-align: middle;\n",
       "    }\n",
       "\n",
       "    .dataframe tbody tr th {\n",
       "        vertical-align: top;\n",
       "    }\n",
       "\n",
       "    .dataframe thead th {\n",
       "        text-align: right;\n",
       "    }\n",
       "</style>\n",
       "<table border=\"1\" class=\"dataframe\">\n",
       "  <thead>\n",
       "    <tr style=\"text-align: right;\">\n",
       "      <th></th>\n",
       "      <th>Airline</th>\n",
       "      <th>Source</th>\n",
       "      <th>Destination</th>\n",
       "      <th>Total_Stops</th>\n",
       "      <th>Additional_Info</th>\n",
       "      <th>Day</th>\n",
       "      <th>Month</th>\n",
       "      <th>Year</th>\n",
       "      <th>Dep_h</th>\n",
       "      <th>Dep_m</th>\n",
       "      <th>Arrival_hour</th>\n",
       "      <th>Arrival_min</th>\n",
       "      <th>Dur_h</th>\n",
       "      <th>Dur_m</th>\n",
       "    </tr>\n",
       "  </thead>\n",
       "  <tbody>\n",
       "    <tr>\n",
       "      <th>0</th>\n",
       "      <td>4</td>\n",
       "      <td>2</td>\n",
       "      <td>1</td>\n",
       "      <td>0</td>\n",
       "      <td>5</td>\n",
       "      <td>6</td>\n",
       "      <td>06</td>\n",
       "      <td>2019</td>\n",
       "      <td>17</td>\n",
       "      <td>30</td>\n",
       "      <td>4</td>\n",
       "      <td>25</td>\n",
       "      <td>10</td>\n",
       "      <td>55</td>\n",
       "    </tr>\n",
       "    <tr>\n",
       "      <th>1</th>\n",
       "      <td>3</td>\n",
       "      <td>3</td>\n",
       "      <td>0</td>\n",
       "      <td>0</td>\n",
       "      <td>5</td>\n",
       "      <td>12</td>\n",
       "      <td>05</td>\n",
       "      <td>2019</td>\n",
       "      <td>06</td>\n",
       "      <td>20</td>\n",
       "      <td>10</td>\n",
       "      <td>20</td>\n",
       "      <td>4</td>\n",
       "      <td></td>\n",
       "    </tr>\n",
       "    <tr>\n",
       "      <th>2</th>\n",
       "      <td>4</td>\n",
       "      <td>2</td>\n",
       "      <td>1</td>\n",
       "      <td>0</td>\n",
       "      <td>3</td>\n",
       "      <td>21</td>\n",
       "      <td>05</td>\n",
       "      <td>2019</td>\n",
       "      <td>19</td>\n",
       "      <td>15</td>\n",
       "      <td>19</td>\n",
       "      <td>0</td>\n",
       "      <td>23</td>\n",
       "      <td>45</td>\n",
       "    </tr>\n",
       "    <tr>\n",
       "      <th>3</th>\n",
       "      <td>6</td>\n",
       "      <td>2</td>\n",
       "      <td>1</td>\n",
       "      <td>0</td>\n",
       "      <td>5</td>\n",
       "      <td>21</td>\n",
       "      <td>05</td>\n",
       "      <td>2019</td>\n",
       "      <td>08</td>\n",
       "      <td>00</td>\n",
       "      <td>21</td>\n",
       "      <td>0</td>\n",
       "      <td>13</td>\n",
       "      <td></td>\n",
       "    </tr>\n",
       "    <tr>\n",
       "      <th>4</th>\n",
       "      <td>0</td>\n",
       "      <td>0</td>\n",
       "      <td>2</td>\n",
       "      <td>4</td>\n",
       "      <td>5</td>\n",
       "      <td>24</td>\n",
       "      <td>06</td>\n",
       "      <td>2019</td>\n",
       "      <td>23</td>\n",
       "      <td>55</td>\n",
       "      <td>2</td>\n",
       "      <td>45</td>\n",
       "      <td>2</td>\n",
       "      <td>50</td>\n",
       "    </tr>\n",
       "    <tr>\n",
       "      <th>...</th>\n",
       "      <td>...</td>\n",
       "      <td>...</td>\n",
       "      <td>...</td>\n",
       "      <td>...</td>\n",
       "      <td>...</td>\n",
       "      <td>...</td>\n",
       "      <td>...</td>\n",
       "      <td>...</td>\n",
       "      <td>...</td>\n",
       "      <td>...</td>\n",
       "      <td>...</td>\n",
       "      <td>...</td>\n",
       "      <td>...</td>\n",
       "      <td>...</td>\n",
       "    </tr>\n",
       "    <tr>\n",
       "      <th>2666</th>\n",
       "      <td>1</td>\n",
       "      <td>3</td>\n",
       "      <td>0</td>\n",
       "      <td>0</td>\n",
       "      <td>5</td>\n",
       "      <td>6</td>\n",
       "      <td>06</td>\n",
       "      <td>2019</td>\n",
       "      <td>20</td>\n",
       "      <td>30</td>\n",
       "      <td>20</td>\n",
       "      <td>25</td>\n",
       "      <td>23</td>\n",
       "      <td>55</td>\n",
       "    </tr>\n",
       "    <tr>\n",
       "      <th>2667</th>\n",
       "      <td>3</td>\n",
       "      <td>3</td>\n",
       "      <td>0</td>\n",
       "      <td>4</td>\n",
       "      <td>5</td>\n",
       "      <td>27</td>\n",
       "      <td>03</td>\n",
       "      <td>2019</td>\n",
       "      <td>14</td>\n",
       "      <td>20</td>\n",
       "      <td>16</td>\n",
       "      <td>55</td>\n",
       "      <td>2</td>\n",
       "      <td>35</td>\n",
       "    </tr>\n",
       "    <tr>\n",
       "      <th>2668</th>\n",
       "      <td>4</td>\n",
       "      <td>2</td>\n",
       "      <td>1</td>\n",
       "      <td>0</td>\n",
       "      <td>5</td>\n",
       "      <td>6</td>\n",
       "      <td>03</td>\n",
       "      <td>2019</td>\n",
       "      <td>21</td>\n",
       "      <td>50</td>\n",
       "      <td>4</td>\n",
       "      <td>25</td>\n",
       "      <td>6</td>\n",
       "      <td>35</td>\n",
       "    </tr>\n",
       "    <tr>\n",
       "      <th>2669</th>\n",
       "      <td>1</td>\n",
       "      <td>2</td>\n",
       "      <td>1</td>\n",
       "      <td>0</td>\n",
       "      <td>5</td>\n",
       "      <td>6</td>\n",
       "      <td>03</td>\n",
       "      <td>2019</td>\n",
       "      <td>04</td>\n",
       "      <td>00</td>\n",
       "      <td>19</td>\n",
       "      <td>15</td>\n",
       "      <td>15</td>\n",
       "      <td>15</td>\n",
       "    </tr>\n",
       "    <tr>\n",
       "      <th>2670</th>\n",
       "      <td>6</td>\n",
       "      <td>2</td>\n",
       "      <td>1</td>\n",
       "      <td>0</td>\n",
       "      <td>5</td>\n",
       "      <td>15</td>\n",
       "      <td>06</td>\n",
       "      <td>2019</td>\n",
       "      <td>04</td>\n",
       "      <td>55</td>\n",
       "      <td>19</td>\n",
       "      <td>15</td>\n",
       "      <td>14</td>\n",
       "      <td>20</td>\n",
       "    </tr>\n",
       "  </tbody>\n",
       "</table>\n",
       "<p>2671 rows × 14 columns</p>\n",
       "</div>"
      ],
      "text/plain": [
       "      Airline  Source  Destination  Total_Stops  Additional_Info Day Month  \\\n",
       "0           4       2            1            0                5   6    06   \n",
       "1           3       3            0            0                5  12    05   \n",
       "2           4       2            1            0                3  21    05   \n",
       "3           6       2            1            0                5  21    05   \n",
       "4           0       0            2            4                5  24    06   \n",
       "...       ...     ...          ...          ...              ...  ..   ...   \n",
       "2666        1       3            0            0                5   6    06   \n",
       "2667        3       3            0            4                5  27    03   \n",
       "2668        4       2            1            0                5   6    03   \n",
       "2669        1       2            1            0                5   6    03   \n",
       "2670        6       2            1            0                5  15    06   \n",
       "\n",
       "      Year Dep_h Dep_m  Arrival_hour  Arrival_min Dur_h Dur_m  \n",
       "0     2019    17    30             4           25    10    55  \n",
       "1     2019    06    20            10           20     4        \n",
       "2     2019    19    15            19            0    23    45  \n",
       "3     2019    08    00            21            0    13        \n",
       "4     2019    23    55             2           45     2    50  \n",
       "...    ...   ...   ...           ...          ...   ...   ...  \n",
       "2666  2019    20    30            20           25    23    55  \n",
       "2667  2019    14    20            16           55     2    35  \n",
       "2668  2019    21    50             4           25     6    35  \n",
       "2669  2019    04    00            19           15    15    15  \n",
       "2670  2019    04    55            19           15    14    20  \n",
       "\n",
       "[2671 rows x 14 columns]"
      ]
     },
     "execution_count": 143,
     "metadata": {},
     "output_type": "execute_result"
    }
   ],
   "source": [
    "df_test"
   ]
  },
  {
   "cell_type": "markdown",
   "id": "8456b1b5",
   "metadata": {},
   "source": [
    "# Missing values in test dataset"
   ]
  },
  {
   "cell_type": "code",
   "execution_count": 144,
   "id": "80bbe375",
   "metadata": {},
   "outputs": [],
   "source": [
    "df_test['Dur_m'].replace(r'',np.NaN,inplace=True)"
   ]
  },
  {
   "cell_type": "markdown",
   "id": "949469d3",
   "metadata": {},
   "source": [
    "As we have created duration minute from the duration column so it has some nan values."
   ]
  },
  {
   "cell_type": "code",
   "execution_count": 145,
   "id": "7e5e69a5",
   "metadata": {},
   "outputs": [],
   "source": [
    "df_test['Dur_m'].fillna(0,inplace=True)"
   ]
  },
  {
   "cell_type": "markdown",
   "id": "d63a9aa9",
   "metadata": {},
   "source": [
    "we will be replacing thoes nan values with 0."
   ]
  },
  {
   "cell_type": "markdown",
   "id": "410ad32c",
   "metadata": {},
   "source": [
    "# Typecasting"
   ]
  },
  {
   "cell_type": "code",
   "execution_count": 146,
   "id": "03057edd",
   "metadata": {},
   "outputs": [],
   "source": [
    "df_test['Day']=df_test['Day'].astype(int)\n",
    "df_test['Month']=df_test['Month'].astype(int)\n",
    "df_test['Year']=df_test['Year'].astype(int)\n",
    "df_test['Dep_h']=df_test['Dep_h'].astype(int)\n",
    "df_test['Dep_m']=df_test['Dep_m'].astype(int)\n",
    "df_test['Dur_h']=df_test['Dur_h'].astype(int)\n",
    "df_test['Dur_m']=df_test['Dur_m'].astype(int)"
   ]
  },
  {
   "cell_type": "markdown",
   "id": "f0a553ba",
   "metadata": {},
   "source": [
    "coverting all the object data into numeric data."
   ]
  },
  {
   "cell_type": "code",
   "execution_count": 195,
   "id": "9fb4d234",
   "metadata": {},
   "outputs": [
    {
     "data": {
      "text/plain": [
       "Airline            int32\n",
       "Source             int32\n",
       "Destination        int32\n",
       "Total_Stops        int32\n",
       "Additional_Info    int32\n",
       "Day                int32\n",
       "Month              int32\n",
       "Year               int32\n",
       "Dep_h              int32\n",
       "Dep_m              int32\n",
       "Arrival_hour       int64\n",
       "Arrival_min        int64\n",
       "Dur_h              int32\n",
       "Dur_m              int32\n",
       "dtype: object"
      ]
     },
     "execution_count": 195,
     "metadata": {},
     "output_type": "execute_result"
    }
   ],
   "source": [
    "df_test.dtypes"
   ]
  },
  {
   "cell_type": "markdown",
   "id": "45977b2e",
   "metadata": {},
   "source": [
    "# Creating the independent(X) dataset."
   ]
  },
  {
   "cell_type": "code",
   "execution_count": 196,
   "id": "a5f745f7",
   "metadata": {},
   "outputs": [
    {
     "data": {
      "text/html": [
       "<div>\n",
       "<style scoped>\n",
       "    .dataframe tbody tr th:only-of-type {\n",
       "        vertical-align: middle;\n",
       "    }\n",
       "\n",
       "    .dataframe tbody tr th {\n",
       "        vertical-align: top;\n",
       "    }\n",
       "\n",
       "    .dataframe thead th {\n",
       "        text-align: right;\n",
       "    }\n",
       "</style>\n",
       "<table border=\"1\" class=\"dataframe\">\n",
       "  <thead>\n",
       "    <tr style=\"text-align: right;\">\n",
       "      <th></th>\n",
       "      <th>Airline</th>\n",
       "      <th>Source</th>\n",
       "      <th>Destination</th>\n",
       "      <th>Total_Stops</th>\n",
       "      <th>Additional_Info</th>\n",
       "      <th>Day</th>\n",
       "      <th>Month</th>\n",
       "      <th>Year</th>\n",
       "      <th>Dep_h</th>\n",
       "      <th>Dep_m</th>\n",
       "      <th>Arrival_hour</th>\n",
       "      <th>Arrival_min</th>\n",
       "      <th>Dur_h</th>\n",
       "      <th>Dur_m</th>\n",
       "    </tr>\n",
       "  </thead>\n",
       "  <tbody>\n",
       "    <tr>\n",
       "      <th>0</th>\n",
       "      <td>4</td>\n",
       "      <td>2</td>\n",
       "      <td>1</td>\n",
       "      <td>0</td>\n",
       "      <td>5</td>\n",
       "      <td>6</td>\n",
       "      <td>6</td>\n",
       "      <td>2019</td>\n",
       "      <td>17</td>\n",
       "      <td>30</td>\n",
       "      <td>4</td>\n",
       "      <td>25</td>\n",
       "      <td>10</td>\n",
       "      <td>55</td>\n",
       "    </tr>\n",
       "    <tr>\n",
       "      <th>1</th>\n",
       "      <td>3</td>\n",
       "      <td>3</td>\n",
       "      <td>0</td>\n",
       "      <td>0</td>\n",
       "      <td>5</td>\n",
       "      <td>12</td>\n",
       "      <td>5</td>\n",
       "      <td>2019</td>\n",
       "      <td>6</td>\n",
       "      <td>20</td>\n",
       "      <td>10</td>\n",
       "      <td>20</td>\n",
       "      <td>4</td>\n",
       "      <td>0</td>\n",
       "    </tr>\n",
       "    <tr>\n",
       "      <th>2</th>\n",
       "      <td>4</td>\n",
       "      <td>2</td>\n",
       "      <td>1</td>\n",
       "      <td>0</td>\n",
       "      <td>3</td>\n",
       "      <td>21</td>\n",
       "      <td>5</td>\n",
       "      <td>2019</td>\n",
       "      <td>19</td>\n",
       "      <td>15</td>\n",
       "      <td>19</td>\n",
       "      <td>0</td>\n",
       "      <td>23</td>\n",
       "      <td>45</td>\n",
       "    </tr>\n",
       "    <tr>\n",
       "      <th>3</th>\n",
       "      <td>6</td>\n",
       "      <td>2</td>\n",
       "      <td>1</td>\n",
       "      <td>0</td>\n",
       "      <td>5</td>\n",
       "      <td>21</td>\n",
       "      <td>5</td>\n",
       "      <td>2019</td>\n",
       "      <td>8</td>\n",
       "      <td>0</td>\n",
       "      <td>21</td>\n",
       "      <td>0</td>\n",
       "      <td>13</td>\n",
       "      <td>0</td>\n",
       "    </tr>\n",
       "    <tr>\n",
       "      <th>4</th>\n",
       "      <td>0</td>\n",
       "      <td>0</td>\n",
       "      <td>2</td>\n",
       "      <td>4</td>\n",
       "      <td>5</td>\n",
       "      <td>24</td>\n",
       "      <td>6</td>\n",
       "      <td>2019</td>\n",
       "      <td>23</td>\n",
       "      <td>55</td>\n",
       "      <td>2</td>\n",
       "      <td>45</td>\n",
       "      <td>2</td>\n",
       "      <td>50</td>\n",
       "    </tr>\n",
       "    <tr>\n",
       "      <th>...</th>\n",
       "      <td>...</td>\n",
       "      <td>...</td>\n",
       "      <td>...</td>\n",
       "      <td>...</td>\n",
       "      <td>...</td>\n",
       "      <td>...</td>\n",
       "      <td>...</td>\n",
       "      <td>...</td>\n",
       "      <td>...</td>\n",
       "      <td>...</td>\n",
       "      <td>...</td>\n",
       "      <td>...</td>\n",
       "      <td>...</td>\n",
       "      <td>...</td>\n",
       "    </tr>\n",
       "    <tr>\n",
       "      <th>2666</th>\n",
       "      <td>1</td>\n",
       "      <td>3</td>\n",
       "      <td>0</td>\n",
       "      <td>0</td>\n",
       "      <td>5</td>\n",
       "      <td>6</td>\n",
       "      <td>6</td>\n",
       "      <td>2019</td>\n",
       "      <td>20</td>\n",
       "      <td>30</td>\n",
       "      <td>20</td>\n",
       "      <td>25</td>\n",
       "      <td>23</td>\n",
       "      <td>55</td>\n",
       "    </tr>\n",
       "    <tr>\n",
       "      <th>2667</th>\n",
       "      <td>3</td>\n",
       "      <td>3</td>\n",
       "      <td>0</td>\n",
       "      <td>4</td>\n",
       "      <td>5</td>\n",
       "      <td>27</td>\n",
       "      <td>3</td>\n",
       "      <td>2019</td>\n",
       "      <td>14</td>\n",
       "      <td>20</td>\n",
       "      <td>16</td>\n",
       "      <td>55</td>\n",
       "      <td>2</td>\n",
       "      <td>35</td>\n",
       "    </tr>\n",
       "    <tr>\n",
       "      <th>2668</th>\n",
       "      <td>4</td>\n",
       "      <td>2</td>\n",
       "      <td>1</td>\n",
       "      <td>0</td>\n",
       "      <td>5</td>\n",
       "      <td>6</td>\n",
       "      <td>3</td>\n",
       "      <td>2019</td>\n",
       "      <td>21</td>\n",
       "      <td>50</td>\n",
       "      <td>4</td>\n",
       "      <td>25</td>\n",
       "      <td>6</td>\n",
       "      <td>35</td>\n",
       "    </tr>\n",
       "    <tr>\n",
       "      <th>2669</th>\n",
       "      <td>1</td>\n",
       "      <td>2</td>\n",
       "      <td>1</td>\n",
       "      <td>0</td>\n",
       "      <td>5</td>\n",
       "      <td>6</td>\n",
       "      <td>3</td>\n",
       "      <td>2019</td>\n",
       "      <td>4</td>\n",
       "      <td>0</td>\n",
       "      <td>19</td>\n",
       "      <td>15</td>\n",
       "      <td>15</td>\n",
       "      <td>15</td>\n",
       "    </tr>\n",
       "    <tr>\n",
       "      <th>2670</th>\n",
       "      <td>6</td>\n",
       "      <td>2</td>\n",
       "      <td>1</td>\n",
       "      <td>0</td>\n",
       "      <td>5</td>\n",
       "      <td>15</td>\n",
       "      <td>6</td>\n",
       "      <td>2019</td>\n",
       "      <td>4</td>\n",
       "      <td>55</td>\n",
       "      <td>19</td>\n",
       "      <td>15</td>\n",
       "      <td>14</td>\n",
       "      <td>20</td>\n",
       "    </tr>\n",
       "  </tbody>\n",
       "</table>\n",
       "<p>2671 rows × 14 columns</p>\n",
       "</div>"
      ],
      "text/plain": [
       "      Airline  Source  Destination  Total_Stops  Additional_Info  Day  Month  \\\n",
       "0           4       2            1            0                5    6      6   \n",
       "1           3       3            0            0                5   12      5   \n",
       "2           4       2            1            0                3   21      5   \n",
       "3           6       2            1            0                5   21      5   \n",
       "4           0       0            2            4                5   24      6   \n",
       "...       ...     ...          ...          ...              ...  ...    ...   \n",
       "2666        1       3            0            0                5    6      6   \n",
       "2667        3       3            0            4                5   27      3   \n",
       "2668        4       2            1            0                5    6      3   \n",
       "2669        1       2            1            0                5    6      3   \n",
       "2670        6       2            1            0                5   15      6   \n",
       "\n",
       "      Year  Dep_h  Dep_m  Arrival_hour  Arrival_min  Dur_h  Dur_m  \n",
       "0     2019     17     30             4           25     10     55  \n",
       "1     2019      6     20            10           20      4      0  \n",
       "2     2019     19     15            19            0     23     45  \n",
       "3     2019      8      0            21            0     13      0  \n",
       "4     2019     23     55             2           45      2     50  \n",
       "...    ...    ...    ...           ...          ...    ...    ...  \n",
       "2666  2019     20     30            20           25     23     55  \n",
       "2667  2019     14     20            16           55      2     35  \n",
       "2668  2019     21     50             4           25      6     35  \n",
       "2669  2019      4      0            19           15     15     15  \n",
       "2670  2019      4     55            19           15     14     20  \n",
       "\n",
       "[2671 rows x 14 columns]"
      ]
     },
     "execution_count": 196,
     "metadata": {},
     "output_type": "execute_result"
    }
   ],
   "source": [
    "x1=df_test  #independent variable set\n",
    "x1\n"
   ]
  },
  {
   "cell_type": "markdown",
   "id": "0e19be10",
   "metadata": {},
   "source": [
    "# Performing Power Transformtaion/Scaling of test dataset"
   ]
  },
  {
   "cell_type": "code",
   "execution_count": 198,
   "id": "a6f77626",
   "metadata": {},
   "outputs": [
    {
     "data": {
      "text/plain": [
       "array([[-0.30205573, -1.51641193,  1.74998782, ..., -0.82835451,\n",
       "        -1.16708187,  1.30374294],\n",
       "       [-1.41288948,  0.9045077 , -1.37177616, ..., -0.53111363,\n",
       "        -0.07946824, -0.22939218],\n",
       "       [ 0.14061258, -0.08118469,  0.00727631, ...,  0.04220419,\n",
       "         1.07997076, -1.66302818],\n",
       "       ...,\n",
       "       [ 0.14061258, -1.51641193,  0.70763715, ..., -0.24462482,\n",
       "        -0.86180534, -1.66302818],\n",
       "       [ 2.14579068, -1.51641193,  1.74998782, ..., -0.82835451,\n",
       "        -1.16708187,  0.66284392],\n",
       "       [-1.41288948, -0.08118469,  0.00727631, ..., -0.53111363,\n",
       "         0.06129273, -0.50196532]])"
      ]
     },
     "execution_count": 198,
     "metadata": {},
     "output_type": "execute_result"
    }
   ],
   "source": [
    "from sklearn.preprocessing import power_transform,StandardScaler\n",
    "x1=power_transform(x1,method='yeo-johnson')  #to remove skewness\n",
    "x1"
   ]
  },
  {
   "cell_type": "code",
   "execution_count": 199,
   "id": "abc7a38b",
   "metadata": {},
   "outputs": [
    {
     "data": {
      "text/plain": [
       "array([[-0.30205573, -1.51641193,  1.74998782, ..., -0.82835451,\n",
       "        -1.16708187,  1.30374294],\n",
       "       [-1.41288948,  0.9045077 , -1.37177616, ..., -0.53111363,\n",
       "        -0.07946824, -0.22939218],\n",
       "       [ 0.14061258, -0.08118469,  0.00727631, ...,  0.04220419,\n",
       "         1.07997076, -1.66302818],\n",
       "       ...,\n",
       "       [ 0.14061258, -1.51641193,  0.70763715, ..., -0.24462482,\n",
       "        -0.86180534, -1.66302818],\n",
       "       [ 2.14579068, -1.51641193,  1.74998782, ..., -0.82835451,\n",
       "        -1.16708187,  0.66284392],\n",
       "       [-1.41288948, -0.08118469,  0.00727631, ..., -0.53111363,\n",
       "         0.06129273, -0.50196532]])"
      ]
     },
     "execution_count": 199,
     "metadata": {},
     "output_type": "execute_result"
    }
   ],
   "source": [
    "scaled=StandardScaler()  #bringing all the columns on the same scale.\n",
    "x1=scaled.fit_transform(x1)\n",
    "x1"
   ]
  },
  {
   "cell_type": "markdown",
   "id": "6f743250",
   "metadata": {},
   "source": [
    "# Data Cleaning/Preprocessing of Train Dataset"
   ]
  },
  {
   "cell_type": "code",
   "execution_count": 33,
   "id": "2b341df2",
   "metadata": {},
   "outputs": [],
   "source": [
    "df_train.dropna(inplace=True)"
   ]
  },
  {
   "cell_type": "markdown",
   "id": "1923e769",
   "metadata": {},
   "source": [
    "As we have 2 missing values in our dataset we will drop thoes values."
   ]
  },
  {
   "cell_type": "markdown",
   "id": "a568d4e8",
   "metadata": {},
   "source": [
    "# Feature Engineering"
   ]
  },
  {
   "cell_type": "code",
   "execution_count": 34,
   "id": "dd1271b6",
   "metadata": {},
   "outputs": [],
   "source": [
    "df_train['Day'],df_train['Month'],df_train['Year'] = df_train['Date_of_Journey'].str.split('/',3).str"
   ]
  },
  {
   "cell_type": "markdown",
   "id": "39bed9d4",
   "metadata": {},
   "source": [
    "spliting the date into 3 parts i.e day, month, year."
   ]
  },
  {
   "cell_type": "code",
   "execution_count": 35,
   "id": "dbc139be",
   "metadata": {},
   "outputs": [],
   "source": [
    "df_train.drop('Date_of_Journey',axis=1,inplace=True)"
   ]
  },
  {
   "cell_type": "markdown",
   "id": "1e35c8c9",
   "metadata": {},
   "source": [
    "as we have created 3 different columns from date_of_journey we will drop this column."
   ]
  },
  {
   "cell_type": "code",
   "execution_count": 36,
   "id": "4599fbea",
   "metadata": {},
   "outputs": [],
   "source": [
    "df_train['Dep_h'],df_train['Dep_m']=df_train['Dep_Time'].str.split(':',2).str"
   ]
  },
  {
   "cell_type": "markdown",
   "id": "b0b1ab14",
   "metadata": {},
   "source": [
    "spliting the departure time into hours and minutes."
   ]
  },
  {
   "cell_type": "code",
   "execution_count": 37,
   "id": "c888b7d7",
   "metadata": {},
   "outputs": [],
   "source": [
    "df_train.drop('Dep_Time',axis=1,inplace=True)"
   ]
  },
  {
   "cell_type": "markdown",
   "id": "1ee1739a",
   "metadata": {},
   "source": [
    "as we have created 2 different column from departure time we will drop the column."
   ]
  },
  {
   "cell_type": "code",
   "execution_count": 38,
   "id": "ac10469f",
   "metadata": {},
   "outputs": [],
   "source": [
    "df_train[\"Arrival_hour\"] = pd.to_datetime(df_train['Arrival_Time']).dt.hour\n",
    "df_train[\"Arrival_min\"] = pd.to_datetime(df_train['Arrival_Time']).dt.minute"
   ]
  },
  {
   "cell_type": "markdown",
   "id": "f9136d03",
   "metadata": {},
   "source": [
    "from arrival time we will be extracting the hour and minute."
   ]
  },
  {
   "cell_type": "code",
   "execution_count": 39,
   "id": "797cc82d",
   "metadata": {},
   "outputs": [],
   "source": [
    "df_train.drop('Arrival_Time',axis=1,inplace=True)"
   ]
  },
  {
   "cell_type": "markdown",
   "id": "33561970",
   "metadata": {},
   "source": [
    "we will be droping the arrival time"
   ]
  },
  {
   "cell_type": "code",
   "execution_count": 40,
   "id": "2db8f98c",
   "metadata": {},
   "outputs": [],
   "source": [
    "df_train['duration'] = df_train['Duration'].str.replace('h',':').str.replace('m','')"
   ]
  },
  {
   "cell_type": "markdown",
   "id": "1006d3b6",
   "metadata": {},
   "source": [
    "In duration column replacing 'h' with ':' and 'm' with space."
   ]
  },
  {
   "cell_type": "code",
   "execution_count": 41,
   "id": "cf025157",
   "metadata": {},
   "outputs": [],
   "source": [
    "df_train['Dur_h'],df_train['Dur_m']=df_train['duration'].str.split(':',2).str"
   ]
  },
  {
   "cell_type": "markdown",
   "id": "74a49ea4",
   "metadata": {},
   "source": [
    "from duration column will be getting the hours and mintues."
   ]
  },
  {
   "cell_type": "code",
   "execution_count": 42,
   "id": "40ec4d8d",
   "metadata": {},
   "outputs": [],
   "source": [
    "df_train.drop('duration',axis=1,inplace=True)"
   ]
  },
  {
   "cell_type": "markdown",
   "id": "07e139d2",
   "metadata": {},
   "source": [
    "droping the duration column as we have already created 2 columns"
   ]
  },
  {
   "cell_type": "code",
   "execution_count": 43,
   "id": "ac1e777a",
   "metadata": {},
   "outputs": [],
   "source": [
    "df_train.drop('Duration',axis=1,inplace=True)"
   ]
  },
  {
   "cell_type": "code",
   "execution_count": 44,
   "id": "404556fe",
   "metadata": {},
   "outputs": [
    {
     "data": {
      "text/html": [
       "<div>\n",
       "<style scoped>\n",
       "    .dataframe tbody tr th:only-of-type {\n",
       "        vertical-align: middle;\n",
       "    }\n",
       "\n",
       "    .dataframe tbody tr th {\n",
       "        vertical-align: top;\n",
       "    }\n",
       "\n",
       "    .dataframe thead th {\n",
       "        text-align: right;\n",
       "    }\n",
       "</style>\n",
       "<table border=\"1\" class=\"dataframe\">\n",
       "  <thead>\n",
       "    <tr style=\"text-align: right;\">\n",
       "      <th></th>\n",
       "      <th>Airline</th>\n",
       "      <th>Source</th>\n",
       "      <th>Destination</th>\n",
       "      <th>Route</th>\n",
       "      <th>Total_Stops</th>\n",
       "      <th>Additional_Info</th>\n",
       "      <th>Price</th>\n",
       "      <th>Day</th>\n",
       "      <th>Month</th>\n",
       "      <th>Year</th>\n",
       "      <th>Dep_h</th>\n",
       "      <th>Dep_m</th>\n",
       "      <th>Arrival_hour</th>\n",
       "      <th>Arrival_min</th>\n",
       "      <th>Dur_h</th>\n",
       "      <th>Dur_m</th>\n",
       "    </tr>\n",
       "  </thead>\n",
       "  <tbody>\n",
       "    <tr>\n",
       "      <th>0</th>\n",
       "      <td>IndiGo</td>\n",
       "      <td>Banglore</td>\n",
       "      <td>New Delhi</td>\n",
       "      <td>BLR ? DEL</td>\n",
       "      <td>non-stop</td>\n",
       "      <td>No info</td>\n",
       "      <td>3897</td>\n",
       "      <td>24</td>\n",
       "      <td>03</td>\n",
       "      <td>2019</td>\n",
       "      <td>22</td>\n",
       "      <td>20</td>\n",
       "      <td>1</td>\n",
       "      <td>10</td>\n",
       "      <td>2</td>\n",
       "      <td>50</td>\n",
       "    </tr>\n",
       "    <tr>\n",
       "      <th>1</th>\n",
       "      <td>Air India</td>\n",
       "      <td>Kolkata</td>\n",
       "      <td>Banglore</td>\n",
       "      <td>CCU ? IXR ? BBI ? BLR</td>\n",
       "      <td>2 stops</td>\n",
       "      <td>No info</td>\n",
       "      <td>7662</td>\n",
       "      <td>1</td>\n",
       "      <td>05</td>\n",
       "      <td>2019</td>\n",
       "      <td>05</td>\n",
       "      <td>50</td>\n",
       "      <td>13</td>\n",
       "      <td>15</td>\n",
       "      <td>7</td>\n",
       "      <td>25</td>\n",
       "    </tr>\n",
       "    <tr>\n",
       "      <th>2</th>\n",
       "      <td>Jet Airways</td>\n",
       "      <td>Delhi</td>\n",
       "      <td>Cochin</td>\n",
       "      <td>DEL ? LKO ? BOM ? COK</td>\n",
       "      <td>2 stops</td>\n",
       "      <td>No info</td>\n",
       "      <td>13882</td>\n",
       "      <td>9</td>\n",
       "      <td>06</td>\n",
       "      <td>2019</td>\n",
       "      <td>09</td>\n",
       "      <td>25</td>\n",
       "      <td>4</td>\n",
       "      <td>25</td>\n",
       "      <td>19</td>\n",
       "      <td></td>\n",
       "    </tr>\n",
       "    <tr>\n",
       "      <th>3</th>\n",
       "      <td>IndiGo</td>\n",
       "      <td>Kolkata</td>\n",
       "      <td>Banglore</td>\n",
       "      <td>CCU ? NAG ? BLR</td>\n",
       "      <td>1 stop</td>\n",
       "      <td>No info</td>\n",
       "      <td>6218</td>\n",
       "      <td>12</td>\n",
       "      <td>05</td>\n",
       "      <td>2019</td>\n",
       "      <td>18</td>\n",
       "      <td>05</td>\n",
       "      <td>23</td>\n",
       "      <td>30</td>\n",
       "      <td>5</td>\n",
       "      <td>25</td>\n",
       "    </tr>\n",
       "    <tr>\n",
       "      <th>4</th>\n",
       "      <td>IndiGo</td>\n",
       "      <td>Banglore</td>\n",
       "      <td>New Delhi</td>\n",
       "      <td>BLR ? NAG ? DEL</td>\n",
       "      <td>1 stop</td>\n",
       "      <td>No info</td>\n",
       "      <td>13302</td>\n",
       "      <td>01</td>\n",
       "      <td>03</td>\n",
       "      <td>2019</td>\n",
       "      <td>16</td>\n",
       "      <td>50</td>\n",
       "      <td>21</td>\n",
       "      <td>35</td>\n",
       "      <td>4</td>\n",
       "      <td>45</td>\n",
       "    </tr>\n",
       "    <tr>\n",
       "      <th>...</th>\n",
       "      <td>...</td>\n",
       "      <td>...</td>\n",
       "      <td>...</td>\n",
       "      <td>...</td>\n",
       "      <td>...</td>\n",
       "      <td>...</td>\n",
       "      <td>...</td>\n",
       "      <td>...</td>\n",
       "      <td>...</td>\n",
       "      <td>...</td>\n",
       "      <td>...</td>\n",
       "      <td>...</td>\n",
       "      <td>...</td>\n",
       "      <td>...</td>\n",
       "      <td>...</td>\n",
       "      <td>...</td>\n",
       "    </tr>\n",
       "    <tr>\n",
       "      <th>10678</th>\n",
       "      <td>Air Asia</td>\n",
       "      <td>Kolkata</td>\n",
       "      <td>Banglore</td>\n",
       "      <td>CCU ? BLR</td>\n",
       "      <td>non-stop</td>\n",
       "      <td>No info</td>\n",
       "      <td>4107</td>\n",
       "      <td>9</td>\n",
       "      <td>04</td>\n",
       "      <td>2019</td>\n",
       "      <td>19</td>\n",
       "      <td>55</td>\n",
       "      <td>22</td>\n",
       "      <td>25</td>\n",
       "      <td>2</td>\n",
       "      <td>30</td>\n",
       "    </tr>\n",
       "    <tr>\n",
       "      <th>10679</th>\n",
       "      <td>Air India</td>\n",
       "      <td>Kolkata</td>\n",
       "      <td>Banglore</td>\n",
       "      <td>CCU ? BLR</td>\n",
       "      <td>non-stop</td>\n",
       "      <td>No info</td>\n",
       "      <td>4145</td>\n",
       "      <td>27</td>\n",
       "      <td>04</td>\n",
       "      <td>2019</td>\n",
       "      <td>20</td>\n",
       "      <td>45</td>\n",
       "      <td>23</td>\n",
       "      <td>20</td>\n",
       "      <td>2</td>\n",
       "      <td>35</td>\n",
       "    </tr>\n",
       "    <tr>\n",
       "      <th>10680</th>\n",
       "      <td>Jet Airways</td>\n",
       "      <td>Banglore</td>\n",
       "      <td>Delhi</td>\n",
       "      <td>BLR ? DEL</td>\n",
       "      <td>non-stop</td>\n",
       "      <td>No info</td>\n",
       "      <td>7229</td>\n",
       "      <td>27</td>\n",
       "      <td>04</td>\n",
       "      <td>2019</td>\n",
       "      <td>08</td>\n",
       "      <td>20</td>\n",
       "      <td>11</td>\n",
       "      <td>20</td>\n",
       "      <td>3</td>\n",
       "      <td></td>\n",
       "    </tr>\n",
       "    <tr>\n",
       "      <th>10681</th>\n",
       "      <td>Vistara</td>\n",
       "      <td>Banglore</td>\n",
       "      <td>New Delhi</td>\n",
       "      <td>BLR ? DEL</td>\n",
       "      <td>non-stop</td>\n",
       "      <td>No info</td>\n",
       "      <td>12648</td>\n",
       "      <td>01</td>\n",
       "      <td>03</td>\n",
       "      <td>2019</td>\n",
       "      <td>11</td>\n",
       "      <td>30</td>\n",
       "      <td>14</td>\n",
       "      <td>10</td>\n",
       "      <td>2</td>\n",
       "      <td>40</td>\n",
       "    </tr>\n",
       "    <tr>\n",
       "      <th>10682</th>\n",
       "      <td>Air India</td>\n",
       "      <td>Delhi</td>\n",
       "      <td>Cochin</td>\n",
       "      <td>DEL ? GOI ? BOM ? COK</td>\n",
       "      <td>2 stops</td>\n",
       "      <td>No info</td>\n",
       "      <td>11753</td>\n",
       "      <td>9</td>\n",
       "      <td>05</td>\n",
       "      <td>2019</td>\n",
       "      <td>10</td>\n",
       "      <td>55</td>\n",
       "      <td>19</td>\n",
       "      <td>15</td>\n",
       "      <td>8</td>\n",
       "      <td>20</td>\n",
       "    </tr>\n",
       "  </tbody>\n",
       "</table>\n",
       "<p>10682 rows × 16 columns</p>\n",
       "</div>"
      ],
      "text/plain": [
       "           Airline    Source Destination                  Route Total_Stops  \\\n",
       "0           IndiGo  Banglore   New Delhi              BLR ? DEL    non-stop   \n",
       "1        Air India   Kolkata    Banglore  CCU ? IXR ? BBI ? BLR     2 stops   \n",
       "2      Jet Airways     Delhi      Cochin  DEL ? LKO ? BOM ? COK     2 stops   \n",
       "3           IndiGo   Kolkata    Banglore        CCU ? NAG ? BLR      1 stop   \n",
       "4           IndiGo  Banglore   New Delhi        BLR ? NAG ? DEL      1 stop   \n",
       "...            ...       ...         ...                    ...         ...   \n",
       "10678     Air Asia   Kolkata    Banglore              CCU ? BLR    non-stop   \n",
       "10679    Air India   Kolkata    Banglore              CCU ? BLR    non-stop   \n",
       "10680  Jet Airways  Banglore       Delhi              BLR ? DEL    non-stop   \n",
       "10681      Vistara  Banglore   New Delhi              BLR ? DEL    non-stop   \n",
       "10682    Air India     Delhi      Cochin  DEL ? GOI ? BOM ? COK     2 stops   \n",
       "\n",
       "      Additional_Info  Price Day Month  Year Dep_h Dep_m  Arrival_hour  \\\n",
       "0             No info   3897  24    03  2019    22    20             1   \n",
       "1             No info   7662   1    05  2019    05    50            13   \n",
       "2             No info  13882   9    06  2019    09    25             4   \n",
       "3             No info   6218  12    05  2019    18    05            23   \n",
       "4             No info  13302  01    03  2019    16    50            21   \n",
       "...               ...    ...  ..   ...   ...   ...   ...           ...   \n",
       "10678         No info   4107   9    04  2019    19    55            22   \n",
       "10679         No info   4145  27    04  2019    20    45            23   \n",
       "10680         No info   7229  27    04  2019    08    20            11   \n",
       "10681         No info  12648  01    03  2019    11    30            14   \n",
       "10682         No info  11753   9    05  2019    10    55            19   \n",
       "\n",
       "       Arrival_min Dur_h Dur_m  \n",
       "0               10     2    50  \n",
       "1               15     7    25  \n",
       "2               25    19        \n",
       "3               30     5    25  \n",
       "4               35     4    45  \n",
       "...            ...   ...   ...  \n",
       "10678           25     2    30  \n",
       "10679           20     2    35  \n",
       "10680           20     3        \n",
       "10681           10     2    40  \n",
       "10682           15     8    20  \n",
       "\n",
       "[10682 rows x 16 columns]"
      ]
     },
     "execution_count": 44,
     "metadata": {},
     "output_type": "execute_result"
    }
   ],
   "source": [
    "df_train"
   ]
  },
  {
   "cell_type": "code",
   "execution_count": 45,
   "id": "b30f256e",
   "metadata": {},
   "outputs": [],
   "source": [
    "df_train.drop('Route',axis=1,inplace=True)"
   ]
  },
  {
   "cell_type": "markdown",
   "id": "30ebc96e",
   "metadata": {},
   "source": [
    "Droping the route column as it is not giving nay important info. we can get the same info for number of stops."
   ]
  },
  {
   "cell_type": "markdown",
   "id": "f5502dc3",
   "metadata": {},
   "source": [
    "# Label Encoding"
   ]
  },
  {
   "cell_type": "code",
   "execution_count": 47,
   "id": "f6474124",
   "metadata": {},
   "outputs": [],
   "source": [
    "from sklearn.preprocessing import LabelEncoder\n",
    "le=LabelEncoder()\n",
    "name=['Airline','Source','Destination','Total_Stops','Additional_Info']\n",
    "for val in name:\n",
    "    df_train[val]=le.fit_transform(df_train[val].astype(str))\n"
   ]
  },
  {
   "cell_type": "markdown",
   "id": "aab49689",
   "metadata": {},
   "source": [
    "we will be converting the categorial data into the numeric data"
   ]
  },
  {
   "cell_type": "code",
   "execution_count": 48,
   "id": "0c30d744",
   "metadata": {},
   "outputs": [
    {
     "data": {
      "text/html": [
       "<div>\n",
       "<style scoped>\n",
       "    .dataframe tbody tr th:only-of-type {\n",
       "        vertical-align: middle;\n",
       "    }\n",
       "\n",
       "    .dataframe tbody tr th {\n",
       "        vertical-align: top;\n",
       "    }\n",
       "\n",
       "    .dataframe thead th {\n",
       "        text-align: right;\n",
       "    }\n",
       "</style>\n",
       "<table border=\"1\" class=\"dataframe\">\n",
       "  <thead>\n",
       "    <tr style=\"text-align: right;\">\n",
       "      <th></th>\n",
       "      <th>Airline</th>\n",
       "      <th>Source</th>\n",
       "      <th>Destination</th>\n",
       "      <th>Total_Stops</th>\n",
       "      <th>Additional_Info</th>\n",
       "      <th>Price</th>\n",
       "      <th>Day</th>\n",
       "      <th>Month</th>\n",
       "      <th>Year</th>\n",
       "      <th>Dep_h</th>\n",
       "      <th>Dep_m</th>\n",
       "      <th>Arrival_hour</th>\n",
       "      <th>Arrival_min</th>\n",
       "      <th>Dur_h</th>\n",
       "      <th>Dur_m</th>\n",
       "    </tr>\n",
       "  </thead>\n",
       "  <tbody>\n",
       "    <tr>\n",
       "      <th>0</th>\n",
       "      <td>3</td>\n",
       "      <td>0</td>\n",
       "      <td>5</td>\n",
       "      <td>4</td>\n",
       "      <td>8</td>\n",
       "      <td>3897</td>\n",
       "      <td>24</td>\n",
       "      <td>03</td>\n",
       "      <td>2019</td>\n",
       "      <td>22</td>\n",
       "      <td>20</td>\n",
       "      <td>1</td>\n",
       "      <td>10</td>\n",
       "      <td>2</td>\n",
       "      <td>50</td>\n",
       "    </tr>\n",
       "    <tr>\n",
       "      <th>1</th>\n",
       "      <td>1</td>\n",
       "      <td>3</td>\n",
       "      <td>0</td>\n",
       "      <td>1</td>\n",
       "      <td>8</td>\n",
       "      <td>7662</td>\n",
       "      <td>1</td>\n",
       "      <td>05</td>\n",
       "      <td>2019</td>\n",
       "      <td>05</td>\n",
       "      <td>50</td>\n",
       "      <td>13</td>\n",
       "      <td>15</td>\n",
       "      <td>7</td>\n",
       "      <td>25</td>\n",
       "    </tr>\n",
       "    <tr>\n",
       "      <th>2</th>\n",
       "      <td>4</td>\n",
       "      <td>2</td>\n",
       "      <td>1</td>\n",
       "      <td>1</td>\n",
       "      <td>8</td>\n",
       "      <td>13882</td>\n",
       "      <td>9</td>\n",
       "      <td>06</td>\n",
       "      <td>2019</td>\n",
       "      <td>09</td>\n",
       "      <td>25</td>\n",
       "      <td>4</td>\n",
       "      <td>25</td>\n",
       "      <td>19</td>\n",
       "      <td></td>\n",
       "    </tr>\n",
       "    <tr>\n",
       "      <th>3</th>\n",
       "      <td>3</td>\n",
       "      <td>3</td>\n",
       "      <td>0</td>\n",
       "      <td>0</td>\n",
       "      <td>8</td>\n",
       "      <td>6218</td>\n",
       "      <td>12</td>\n",
       "      <td>05</td>\n",
       "      <td>2019</td>\n",
       "      <td>18</td>\n",
       "      <td>05</td>\n",
       "      <td>23</td>\n",
       "      <td>30</td>\n",
       "      <td>5</td>\n",
       "      <td>25</td>\n",
       "    </tr>\n",
       "    <tr>\n",
       "      <th>4</th>\n",
       "      <td>3</td>\n",
       "      <td>0</td>\n",
       "      <td>5</td>\n",
       "      <td>0</td>\n",
       "      <td>8</td>\n",
       "      <td>13302</td>\n",
       "      <td>01</td>\n",
       "      <td>03</td>\n",
       "      <td>2019</td>\n",
       "      <td>16</td>\n",
       "      <td>50</td>\n",
       "      <td>21</td>\n",
       "      <td>35</td>\n",
       "      <td>4</td>\n",
       "      <td>45</td>\n",
       "    </tr>\n",
       "    <tr>\n",
       "      <th>...</th>\n",
       "      <td>...</td>\n",
       "      <td>...</td>\n",
       "      <td>...</td>\n",
       "      <td>...</td>\n",
       "      <td>...</td>\n",
       "      <td>...</td>\n",
       "      <td>...</td>\n",
       "      <td>...</td>\n",
       "      <td>...</td>\n",
       "      <td>...</td>\n",
       "      <td>...</td>\n",
       "      <td>...</td>\n",
       "      <td>...</td>\n",
       "      <td>...</td>\n",
       "      <td>...</td>\n",
       "    </tr>\n",
       "    <tr>\n",
       "      <th>10678</th>\n",
       "      <td>0</td>\n",
       "      <td>3</td>\n",
       "      <td>0</td>\n",
       "      <td>4</td>\n",
       "      <td>8</td>\n",
       "      <td>4107</td>\n",
       "      <td>9</td>\n",
       "      <td>04</td>\n",
       "      <td>2019</td>\n",
       "      <td>19</td>\n",
       "      <td>55</td>\n",
       "      <td>22</td>\n",
       "      <td>25</td>\n",
       "      <td>2</td>\n",
       "      <td>30</td>\n",
       "    </tr>\n",
       "    <tr>\n",
       "      <th>10679</th>\n",
       "      <td>1</td>\n",
       "      <td>3</td>\n",
       "      <td>0</td>\n",
       "      <td>4</td>\n",
       "      <td>8</td>\n",
       "      <td>4145</td>\n",
       "      <td>27</td>\n",
       "      <td>04</td>\n",
       "      <td>2019</td>\n",
       "      <td>20</td>\n",
       "      <td>45</td>\n",
       "      <td>23</td>\n",
       "      <td>20</td>\n",
       "      <td>2</td>\n",
       "      <td>35</td>\n",
       "    </tr>\n",
       "    <tr>\n",
       "      <th>10680</th>\n",
       "      <td>4</td>\n",
       "      <td>0</td>\n",
       "      <td>2</td>\n",
       "      <td>4</td>\n",
       "      <td>8</td>\n",
       "      <td>7229</td>\n",
       "      <td>27</td>\n",
       "      <td>04</td>\n",
       "      <td>2019</td>\n",
       "      <td>08</td>\n",
       "      <td>20</td>\n",
       "      <td>11</td>\n",
       "      <td>20</td>\n",
       "      <td>3</td>\n",
       "      <td></td>\n",
       "    </tr>\n",
       "    <tr>\n",
       "      <th>10681</th>\n",
       "      <td>10</td>\n",
       "      <td>0</td>\n",
       "      <td>5</td>\n",
       "      <td>4</td>\n",
       "      <td>8</td>\n",
       "      <td>12648</td>\n",
       "      <td>01</td>\n",
       "      <td>03</td>\n",
       "      <td>2019</td>\n",
       "      <td>11</td>\n",
       "      <td>30</td>\n",
       "      <td>14</td>\n",
       "      <td>10</td>\n",
       "      <td>2</td>\n",
       "      <td>40</td>\n",
       "    </tr>\n",
       "    <tr>\n",
       "      <th>10682</th>\n",
       "      <td>1</td>\n",
       "      <td>2</td>\n",
       "      <td>1</td>\n",
       "      <td>1</td>\n",
       "      <td>8</td>\n",
       "      <td>11753</td>\n",
       "      <td>9</td>\n",
       "      <td>05</td>\n",
       "      <td>2019</td>\n",
       "      <td>10</td>\n",
       "      <td>55</td>\n",
       "      <td>19</td>\n",
       "      <td>15</td>\n",
       "      <td>8</td>\n",
       "      <td>20</td>\n",
       "    </tr>\n",
       "  </tbody>\n",
       "</table>\n",
       "<p>10682 rows × 15 columns</p>\n",
       "</div>"
      ],
      "text/plain": [
       "       Airline  Source  Destination  Total_Stops  Additional_Info  Price Day  \\\n",
       "0            3       0            5            4                8   3897  24   \n",
       "1            1       3            0            1                8   7662   1   \n",
       "2            4       2            1            1                8  13882   9   \n",
       "3            3       3            0            0                8   6218  12   \n",
       "4            3       0            5            0                8  13302  01   \n",
       "...        ...     ...          ...          ...              ...    ...  ..   \n",
       "10678        0       3            0            4                8   4107   9   \n",
       "10679        1       3            0            4                8   4145  27   \n",
       "10680        4       0            2            4                8   7229  27   \n",
       "10681       10       0            5            4                8  12648  01   \n",
       "10682        1       2            1            1                8  11753   9   \n",
       "\n",
       "      Month  Year Dep_h Dep_m  Arrival_hour  Arrival_min Dur_h Dur_m  \n",
       "0        03  2019    22    20             1           10     2    50  \n",
       "1        05  2019    05    50            13           15     7    25  \n",
       "2        06  2019    09    25             4           25    19        \n",
       "3        05  2019    18    05            23           30     5    25  \n",
       "4        03  2019    16    50            21           35     4    45  \n",
       "...     ...   ...   ...   ...           ...          ...   ...   ...  \n",
       "10678    04  2019    19    55            22           25     2    30  \n",
       "10679    04  2019    20    45            23           20     2    35  \n",
       "10680    04  2019    08    20            11           20     3        \n",
       "10681    03  2019    11    30            14           10     2    40  \n",
       "10682    05  2019    10    55            19           15     8    20  \n",
       "\n",
       "[10682 rows x 15 columns]"
      ]
     },
     "execution_count": 48,
     "metadata": {},
     "output_type": "execute_result"
    }
   ],
   "source": [
    "df_train"
   ]
  },
  {
   "cell_type": "code",
   "execution_count": 49,
   "id": "79bcc42c",
   "metadata": {},
   "outputs": [],
   "source": [
    "df_train['Dur_m'].replace(r'',np.NaN,inplace=True)"
   ]
  },
  {
   "cell_type": "markdown",
   "id": "61b8902c",
   "metadata": {},
   "source": [
    "as the duration minute has some empty spaces where we need to fill thoes empty spaces with np.nan"
   ]
  },
  {
   "cell_type": "code",
   "execution_count": 50,
   "id": "e6cd5326",
   "metadata": {},
   "outputs": [
    {
     "data": {
      "text/html": [
       "<div>\n",
       "<style scoped>\n",
       "    .dataframe tbody tr th:only-of-type {\n",
       "        vertical-align: middle;\n",
       "    }\n",
       "\n",
       "    .dataframe tbody tr th {\n",
       "        vertical-align: top;\n",
       "    }\n",
       "\n",
       "    .dataframe thead th {\n",
       "        text-align: right;\n",
       "    }\n",
       "</style>\n",
       "<table border=\"1\" class=\"dataframe\">\n",
       "  <thead>\n",
       "    <tr style=\"text-align: right;\">\n",
       "      <th></th>\n",
       "      <th>Airline</th>\n",
       "      <th>Source</th>\n",
       "      <th>Destination</th>\n",
       "      <th>Total_Stops</th>\n",
       "      <th>Additional_Info</th>\n",
       "      <th>Price</th>\n",
       "      <th>Day</th>\n",
       "      <th>Month</th>\n",
       "      <th>Year</th>\n",
       "      <th>Dep_h</th>\n",
       "      <th>Dep_m</th>\n",
       "      <th>Arrival_hour</th>\n",
       "      <th>Arrival_min</th>\n",
       "      <th>Dur_h</th>\n",
       "      <th>Dur_m</th>\n",
       "    </tr>\n",
       "  </thead>\n",
       "  <tbody>\n",
       "    <tr>\n",
       "      <th>0</th>\n",
       "      <td>3</td>\n",
       "      <td>0</td>\n",
       "      <td>5</td>\n",
       "      <td>4</td>\n",
       "      <td>8</td>\n",
       "      <td>3897</td>\n",
       "      <td>24</td>\n",
       "      <td>03</td>\n",
       "      <td>2019</td>\n",
       "      <td>22</td>\n",
       "      <td>20</td>\n",
       "      <td>1</td>\n",
       "      <td>10</td>\n",
       "      <td>2</td>\n",
       "      <td>50</td>\n",
       "    </tr>\n",
       "    <tr>\n",
       "      <th>1</th>\n",
       "      <td>1</td>\n",
       "      <td>3</td>\n",
       "      <td>0</td>\n",
       "      <td>1</td>\n",
       "      <td>8</td>\n",
       "      <td>7662</td>\n",
       "      <td>1</td>\n",
       "      <td>05</td>\n",
       "      <td>2019</td>\n",
       "      <td>05</td>\n",
       "      <td>50</td>\n",
       "      <td>13</td>\n",
       "      <td>15</td>\n",
       "      <td>7</td>\n",
       "      <td>25</td>\n",
       "    </tr>\n",
       "    <tr>\n",
       "      <th>2</th>\n",
       "      <td>4</td>\n",
       "      <td>2</td>\n",
       "      <td>1</td>\n",
       "      <td>1</td>\n",
       "      <td>8</td>\n",
       "      <td>13882</td>\n",
       "      <td>9</td>\n",
       "      <td>06</td>\n",
       "      <td>2019</td>\n",
       "      <td>09</td>\n",
       "      <td>25</td>\n",
       "      <td>4</td>\n",
       "      <td>25</td>\n",
       "      <td>19</td>\n",
       "      <td>NaN</td>\n",
       "    </tr>\n",
       "    <tr>\n",
       "      <th>3</th>\n",
       "      <td>3</td>\n",
       "      <td>3</td>\n",
       "      <td>0</td>\n",
       "      <td>0</td>\n",
       "      <td>8</td>\n",
       "      <td>6218</td>\n",
       "      <td>12</td>\n",
       "      <td>05</td>\n",
       "      <td>2019</td>\n",
       "      <td>18</td>\n",
       "      <td>05</td>\n",
       "      <td>23</td>\n",
       "      <td>30</td>\n",
       "      <td>5</td>\n",
       "      <td>25</td>\n",
       "    </tr>\n",
       "    <tr>\n",
       "      <th>4</th>\n",
       "      <td>3</td>\n",
       "      <td>0</td>\n",
       "      <td>5</td>\n",
       "      <td>0</td>\n",
       "      <td>8</td>\n",
       "      <td>13302</td>\n",
       "      <td>01</td>\n",
       "      <td>03</td>\n",
       "      <td>2019</td>\n",
       "      <td>16</td>\n",
       "      <td>50</td>\n",
       "      <td>21</td>\n",
       "      <td>35</td>\n",
       "      <td>4</td>\n",
       "      <td>45</td>\n",
       "    </tr>\n",
       "    <tr>\n",
       "      <th>...</th>\n",
       "      <td>...</td>\n",
       "      <td>...</td>\n",
       "      <td>...</td>\n",
       "      <td>...</td>\n",
       "      <td>...</td>\n",
       "      <td>...</td>\n",
       "      <td>...</td>\n",
       "      <td>...</td>\n",
       "      <td>...</td>\n",
       "      <td>...</td>\n",
       "      <td>...</td>\n",
       "      <td>...</td>\n",
       "      <td>...</td>\n",
       "      <td>...</td>\n",
       "      <td>...</td>\n",
       "    </tr>\n",
       "    <tr>\n",
       "      <th>10678</th>\n",
       "      <td>0</td>\n",
       "      <td>3</td>\n",
       "      <td>0</td>\n",
       "      <td>4</td>\n",
       "      <td>8</td>\n",
       "      <td>4107</td>\n",
       "      <td>9</td>\n",
       "      <td>04</td>\n",
       "      <td>2019</td>\n",
       "      <td>19</td>\n",
       "      <td>55</td>\n",
       "      <td>22</td>\n",
       "      <td>25</td>\n",
       "      <td>2</td>\n",
       "      <td>30</td>\n",
       "    </tr>\n",
       "    <tr>\n",
       "      <th>10679</th>\n",
       "      <td>1</td>\n",
       "      <td>3</td>\n",
       "      <td>0</td>\n",
       "      <td>4</td>\n",
       "      <td>8</td>\n",
       "      <td>4145</td>\n",
       "      <td>27</td>\n",
       "      <td>04</td>\n",
       "      <td>2019</td>\n",
       "      <td>20</td>\n",
       "      <td>45</td>\n",
       "      <td>23</td>\n",
       "      <td>20</td>\n",
       "      <td>2</td>\n",
       "      <td>35</td>\n",
       "    </tr>\n",
       "    <tr>\n",
       "      <th>10680</th>\n",
       "      <td>4</td>\n",
       "      <td>0</td>\n",
       "      <td>2</td>\n",
       "      <td>4</td>\n",
       "      <td>8</td>\n",
       "      <td>7229</td>\n",
       "      <td>27</td>\n",
       "      <td>04</td>\n",
       "      <td>2019</td>\n",
       "      <td>08</td>\n",
       "      <td>20</td>\n",
       "      <td>11</td>\n",
       "      <td>20</td>\n",
       "      <td>3</td>\n",
       "      <td>NaN</td>\n",
       "    </tr>\n",
       "    <tr>\n",
       "      <th>10681</th>\n",
       "      <td>10</td>\n",
       "      <td>0</td>\n",
       "      <td>5</td>\n",
       "      <td>4</td>\n",
       "      <td>8</td>\n",
       "      <td>12648</td>\n",
       "      <td>01</td>\n",
       "      <td>03</td>\n",
       "      <td>2019</td>\n",
       "      <td>11</td>\n",
       "      <td>30</td>\n",
       "      <td>14</td>\n",
       "      <td>10</td>\n",
       "      <td>2</td>\n",
       "      <td>40</td>\n",
       "    </tr>\n",
       "    <tr>\n",
       "      <th>10682</th>\n",
       "      <td>1</td>\n",
       "      <td>2</td>\n",
       "      <td>1</td>\n",
       "      <td>1</td>\n",
       "      <td>8</td>\n",
       "      <td>11753</td>\n",
       "      <td>9</td>\n",
       "      <td>05</td>\n",
       "      <td>2019</td>\n",
       "      <td>10</td>\n",
       "      <td>55</td>\n",
       "      <td>19</td>\n",
       "      <td>15</td>\n",
       "      <td>8</td>\n",
       "      <td>20</td>\n",
       "    </tr>\n",
       "  </tbody>\n",
       "</table>\n",
       "<p>10682 rows × 15 columns</p>\n",
       "</div>"
      ],
      "text/plain": [
       "       Airline  Source  Destination  Total_Stops  Additional_Info  Price Day  \\\n",
       "0            3       0            5            4                8   3897  24   \n",
       "1            1       3            0            1                8   7662   1   \n",
       "2            4       2            1            1                8  13882   9   \n",
       "3            3       3            0            0                8   6218  12   \n",
       "4            3       0            5            0                8  13302  01   \n",
       "...        ...     ...          ...          ...              ...    ...  ..   \n",
       "10678        0       3            0            4                8   4107   9   \n",
       "10679        1       3            0            4                8   4145  27   \n",
       "10680        4       0            2            4                8   7229  27   \n",
       "10681       10       0            5            4                8  12648  01   \n",
       "10682        1       2            1            1                8  11753   9   \n",
       "\n",
       "      Month  Year Dep_h Dep_m  Arrival_hour  Arrival_min Dur_h Dur_m  \n",
       "0        03  2019    22    20             1           10     2    50  \n",
       "1        05  2019    05    50            13           15     7    25  \n",
       "2        06  2019    09    25             4           25    19   NaN  \n",
       "3        05  2019    18    05            23           30     5    25  \n",
       "4        03  2019    16    50            21           35     4    45  \n",
       "...     ...   ...   ...   ...           ...          ...   ...   ...  \n",
       "10678    04  2019    19    55            22           25     2    30  \n",
       "10679    04  2019    20    45            23           20     2    35  \n",
       "10680    04  2019    08    20            11           20     3   NaN  \n",
       "10681    03  2019    11    30            14           10     2    40  \n",
       "10682    05  2019    10    55            19           15     8    20  \n",
       "\n",
       "[10682 rows x 15 columns]"
      ]
     },
     "execution_count": 50,
     "metadata": {},
     "output_type": "execute_result"
    }
   ],
   "source": [
    "df_train"
   ]
  },
  {
   "cell_type": "code",
   "execution_count": 52,
   "id": "194ba461",
   "metadata": {},
   "outputs": [
    {
     "data": {
      "text/plain": [
       "Airline               AxesSubplot(0.125,0.772143;0.0824468x0.107857)\n",
       "Source             AxesSubplot(0.223936,0.772143;0.0824468x0.107857)\n",
       "Destination        AxesSubplot(0.322872,0.772143;0.0824468x0.107857)\n",
       "Total_Stops        AxesSubplot(0.421809,0.772143;0.0824468x0.107857)\n",
       "Additional_Info    AxesSubplot(0.520745,0.772143;0.0824468x0.107857)\n",
       "Price              AxesSubplot(0.619681,0.772143;0.0824468x0.107857)\n",
       "Arrival_hour       AxesSubplot(0.718617,0.772143;0.0824468x0.107857)\n",
       "Arrival_min        AxesSubplot(0.817553,0.772143;0.0824468x0.107857)\n",
       "dtype: object"
      ]
     },
     "execution_count": 52,
     "metadata": {},
     "output_type": "execute_result"
    },
    {
     "data": {
      "image/png": "[encoded data removed]",
      "text/plain": [
       "<Figure size 1296x1296 with 48 Axes>"
      ]
     },
     "metadata": {
      "needs_background": "light"
     },
     "output_type": "display_data"
    }
   ],
   "source": [
    "color=dict(boxes=\"Purple\",whiskers=\"Red\",medians=\"Pink\",caps=\"Black\")\n",
    "df_train.plot(kind=\"box\",subplots=True,layout=(6,8),figsize=(18,18),color=color)"
   ]
  },
  {
   "cell_type": "markdown",
   "id": "7130f3e8",
   "metadata": {},
   "source": [
    "the above plot shows the presence of outliers in the datset but removing the outliers we may loose inportant info."
   ]
  },
  {
   "cell_type": "code",
   "execution_count": 54,
   "id": "63a9b68b",
   "metadata": {},
   "outputs": [
    {
     "data": {
      "text/plain": [
       "<AxesSubplot:>"
      ]
     },
     "execution_count": 54,
     "metadata": {},
     "output_type": "execute_result"
    },
    {
     "data": {
      "image/png": "[encoded data removed]",
      "text/plain": [
       "<Figure size 432x288 with 2 Axes>"
      ]
     },
     "metadata": {
      "needs_background": "light"
     },
     "output_type": "display_data"
    }
   ],
   "source": [
    "sns.heatmap(df_train.corr(),annot=True)"
   ]
  },
  {
   "cell_type": "markdown",
   "id": "bac10d33",
   "metadata": {},
   "source": [
    "From the above heatmap,\n",
    "1. destination and total_stops are corelated to each other.\n",
    "2. total stops are contributing negetivly in price.\n",
    "3. source and destinations are negetivly related to each other."
   ]
  },
  {
   "cell_type": "code",
   "execution_count": 169,
   "id": "ac9c71d8",
   "metadata": {},
   "outputs": [],
   "source": [
    "df_train['Dur_m'].fillna(0,inplace=True)"
   ]
  },
  {
   "cell_type": "markdown",
   "id": "19497edc",
   "metadata": {},
   "source": [
    "we have created 2 columns from duration column so will be filling the missing values in durations minutes with 0"
   ]
  },
  {
   "cell_type": "code",
   "execution_count": 55,
   "id": "fc30ccc3",
   "metadata": {},
   "outputs": [
    {
     "data": {
      "text/html": [
       "<div>\n",
       "<style scoped>\n",
       "    .dataframe tbody tr th:only-of-type {\n",
       "        vertical-align: middle;\n",
       "    }\n",
       "\n",
       "    .dataframe tbody tr th {\n",
       "        vertical-align: top;\n",
       "    }\n",
       "\n",
       "    .dataframe thead th {\n",
       "        text-align: right;\n",
       "    }\n",
       "</style>\n",
       "<table border=\"1\" class=\"dataframe\">\n",
       "  <thead>\n",
       "    <tr style=\"text-align: right;\">\n",
       "      <th></th>\n",
       "      <th>Airline</th>\n",
       "      <th>Source</th>\n",
       "      <th>Destination</th>\n",
       "      <th>Total_Stops</th>\n",
       "      <th>Additional_Info</th>\n",
       "      <th>Price</th>\n",
       "      <th>Arrival_hour</th>\n",
       "      <th>Arrival_min</th>\n",
       "    </tr>\n",
       "  </thead>\n",
       "  <tbody>\n",
       "    <tr>\n",
       "      <th>count</th>\n",
       "      <td>10682.000000</td>\n",
       "      <td>10682.000000</td>\n",
       "      <td>10682.000000</td>\n",
       "      <td>10682.000000</td>\n",
       "      <td>10682.000000</td>\n",
       "      <td>10682.000000</td>\n",
       "      <td>10682.000000</td>\n",
       "      <td>10682.000000</td>\n",
       "    </tr>\n",
       "    <tr>\n",
       "      <th>mean</th>\n",
       "      <td>3.966205</td>\n",
       "      <td>1.952256</td>\n",
       "      <td>1.436154</td>\n",
       "      <td>1.458248</td>\n",
       "      <td>7.392998</td>\n",
       "      <td>9087.214567</td>\n",
       "      <td>13.349186</td>\n",
       "      <td>24.690601</td>\n",
       "    </tr>\n",
       "    <tr>\n",
       "      <th>std</th>\n",
       "      <td>2.352090</td>\n",
       "      <td>1.177276</td>\n",
       "      <td>1.474845</td>\n",
       "      <td>1.806320</td>\n",
       "      <td>1.214254</td>\n",
       "      <td>4611.548810</td>\n",
       "      <td>6.859317</td>\n",
       "      <td>16.506808</td>\n",
       "    </tr>\n",
       "    <tr>\n",
       "      <th>min</th>\n",
       "      <td>0.000000</td>\n",
       "      <td>0.000000</td>\n",
       "      <td>0.000000</td>\n",
       "      <td>0.000000</td>\n",
       "      <td>0.000000</td>\n",
       "      <td>1759.000000</td>\n",
       "      <td>0.000000</td>\n",
       "      <td>0.000000</td>\n",
       "    </tr>\n",
       "    <tr>\n",
       "      <th>25%</th>\n",
       "      <td>3.000000</td>\n",
       "      <td>2.000000</td>\n",
       "      <td>0.000000</td>\n",
       "      <td>0.000000</td>\n",
       "      <td>8.000000</td>\n",
       "      <td>5277.000000</td>\n",
       "      <td>8.000000</td>\n",
       "      <td>10.000000</td>\n",
       "    </tr>\n",
       "    <tr>\n",
       "      <th>50%</th>\n",
       "      <td>4.000000</td>\n",
       "      <td>2.000000</td>\n",
       "      <td>1.000000</td>\n",
       "      <td>0.000000</td>\n",
       "      <td>8.000000</td>\n",
       "      <td>8372.000000</td>\n",
       "      <td>14.000000</td>\n",
       "      <td>25.000000</td>\n",
       "    </tr>\n",
       "    <tr>\n",
       "      <th>75%</th>\n",
       "      <td>4.000000</td>\n",
       "      <td>3.000000</td>\n",
       "      <td>2.000000</td>\n",
       "      <td>4.000000</td>\n",
       "      <td>8.000000</td>\n",
       "      <td>12373.000000</td>\n",
       "      <td>19.000000</td>\n",
       "      <td>35.000000</td>\n",
       "    </tr>\n",
       "    <tr>\n",
       "      <th>max</th>\n",
       "      <td>11.000000</td>\n",
       "      <td>4.000000</td>\n",
       "      <td>5.000000</td>\n",
       "      <td>4.000000</td>\n",
       "      <td>9.000000</td>\n",
       "      <td>79512.000000</td>\n",
       "      <td>23.000000</td>\n",
       "      <td>55.000000</td>\n",
       "    </tr>\n",
       "  </tbody>\n",
       "</table>\n",
       "</div>"
      ],
      "text/plain": [
       "            Airline        Source   Destination   Total_Stops  \\\n",
       "count  10682.000000  10682.000000  10682.000000  10682.000000   \n",
       "mean       3.966205      1.952256      1.436154      1.458248   \n",
       "std        2.352090      1.177276      1.474845      1.806320   \n",
       "min        0.000000      0.000000      0.000000      0.000000   \n",
       "25%        3.000000      2.000000      0.000000      0.000000   \n",
       "50%        4.000000      2.000000      1.000000      0.000000   \n",
       "75%        4.000000      3.000000      2.000000      4.000000   \n",
       "max       11.000000      4.000000      5.000000      4.000000   \n",
       "\n",
       "       Additional_Info         Price  Arrival_hour   Arrival_min  \n",
       "count     10682.000000  10682.000000  10682.000000  10682.000000  \n",
       "mean          7.392998   9087.214567     13.349186     24.690601  \n",
       "std           1.214254   4611.548810      6.859317     16.506808  \n",
       "min           0.000000   1759.000000      0.000000      0.000000  \n",
       "25%           8.000000   5277.000000      8.000000     10.000000  \n",
       "50%           8.000000   8372.000000     14.000000     25.000000  \n",
       "75%           8.000000  12373.000000     19.000000     35.000000  \n",
       "max           9.000000  79512.000000     23.000000     55.000000  "
      ]
     },
     "execution_count": 55,
     "metadata": {},
     "output_type": "execute_result"
    }
   ],
   "source": [
    "df_train.describe()"
   ]
  },
  {
   "cell_type": "markdown",
   "id": "8108c665",
   "metadata": {},
   "source": [
    "From the above plot,\n",
    "mean is less that 50% in almost every column we can say skewness is almost neglibile.\n",
    "there is no major difference between 75% and max values we can say that outliers are not present."
   ]
  },
  {
   "cell_type": "code",
   "execution_count": 170,
   "id": "93d9ac9f",
   "metadata": {},
   "outputs": [
    {
     "data": {
      "text/plain": [
       "Airline             int32\n",
       "Source              int32\n",
       "Destination         int32\n",
       "Total_Stops         int32\n",
       "Additional_Info     int32\n",
       "Price               int64\n",
       "Day                object\n",
       "Month              object\n",
       "Year               object\n",
       "Dep_h              object\n",
       "Dep_m              object\n",
       "Arrival_hour        int64\n",
       "Arrival_min         int64\n",
       "Dur_h              object\n",
       "Dur_m              object\n",
       "dtype: object"
      ]
     },
     "execution_count": 170,
     "metadata": {},
     "output_type": "execute_result"
    }
   ],
   "source": [
    "df_train.dtypes"
   ]
  },
  {
   "cell_type": "code",
   "execution_count": 171,
   "id": "0f6caf2c",
   "metadata": {},
   "outputs": [],
   "source": [
    "df_train['Day']=df_train['Day'].astype(int)\n",
    "df_train['Month']=df_train['Month'].astype(int)\n",
    "df_train['Year']=df_train['Year'].astype(int)\n",
    "df_train['Dep_h']=df_train['Dep_h'].astype(int)\n",
    "df_train['Dep_m']=df_train['Dep_m'].astype(int)\n",
    "df_train['Dur_h']=df_train['Dur_h'].astype(int)\n",
    "df_train['Dur_m']=df_train['Dur_m'].astype(int)"
   ]
  },
  {
   "cell_type": "markdown",
   "id": "70352be4",
   "metadata": {},
   "source": [
    "As we have created different columns from existing columns to we need to convert all the columns into the numeric type."
   ]
  },
  {
   "cell_type": "code",
   "execution_count": 172,
   "id": "fa160b8a",
   "metadata": {},
   "outputs": [
    {
     "data": {
      "text/plain": [
       "Airline            int32\n",
       "Source             int32\n",
       "Destination        int32\n",
       "Total_Stops        int32\n",
       "Additional_Info    int32\n",
       "Price              int64\n",
       "Day                int32\n",
       "Month              int32\n",
       "Year               int32\n",
       "Dep_h              int32\n",
       "Dep_m              int32\n",
       "Arrival_hour       int64\n",
       "Arrival_min        int64\n",
       "Dur_h              int32\n",
       "Dur_m              int32\n",
       "dtype: object"
      ]
     },
     "execution_count": 172,
     "metadata": {},
     "output_type": "execute_result"
    }
   ],
   "source": [
    "df_train.dtypes"
   ]
  },
  {
   "cell_type": "markdown",
   "id": "0f4eff33",
   "metadata": {},
   "source": [
    "# Skewness and Outliers of train dataset"
   ]
  },
  {
   "cell_type": "code",
   "execution_count": 173,
   "id": "79a74c0f",
   "metadata": {},
   "outputs": [
    {
     "data": {
      "text/plain": [
       "Airline            0.731057\n",
       "Source            -0.424023\n",
       "Destination        1.244046\n",
       "Total_Stops        0.631532\n",
       "Additional_Info   -1.779689\n",
       "Price              1.812405\n",
       "Day                0.118174\n",
       "Month             -0.387409\n",
       "Year               0.000000\n",
       "Dep_h              0.112924\n",
       "Dep_m              0.167234\n",
       "Arrival_hour      -0.370146\n",
       "Arrival_min        0.110945\n",
       "Dur_h              0.851302\n",
       "Dur_m             -0.090779\n",
       "dtype: float64"
      ]
     },
     "execution_count": 173,
     "metadata": {},
     "output_type": "execute_result"
    }
   ],
   "source": [
    "df_train.skew()"
   ]
  },
  {
   "cell_type": "markdown",
   "id": "3a56f873",
   "metadata": {},
   "source": [
    "we will be checking the skewness among the data and will be performing power transformation yeo-johnsons techique to remove skewness."
   ]
  },
  {
   "cell_type": "markdown",
   "id": "3fc5f8cb",
   "metadata": {},
   "source": [
    "# Dividing the dataset into Independent(X) and Dependent variables"
   ]
  },
  {
   "cell_type": "code",
   "execution_count": 174,
   "id": "be18e0d5",
   "metadata": {},
   "outputs": [
    {
     "data": {
      "text/html": [
       "<div>\n",
       "<style scoped>\n",
       "    .dataframe tbody tr th:only-of-type {\n",
       "        vertical-align: middle;\n",
       "    }\n",
       "\n",
       "    .dataframe tbody tr th {\n",
       "        vertical-align: top;\n",
       "    }\n",
       "\n",
       "    .dataframe thead th {\n",
       "        text-align: right;\n",
       "    }\n",
       "</style>\n",
       "<table border=\"1\" class=\"dataframe\">\n",
       "  <thead>\n",
       "    <tr style=\"text-align: right;\">\n",
       "      <th></th>\n",
       "      <th>Airline</th>\n",
       "      <th>Source</th>\n",
       "      <th>Destination</th>\n",
       "      <th>Total_Stops</th>\n",
       "      <th>Additional_Info</th>\n",
       "      <th>Day</th>\n",
       "      <th>Month</th>\n",
       "      <th>Year</th>\n",
       "      <th>Dep_h</th>\n",
       "      <th>Dep_m</th>\n",
       "      <th>Arrival_hour</th>\n",
       "      <th>Arrival_min</th>\n",
       "      <th>Dur_h</th>\n",
       "      <th>Dur_m</th>\n",
       "    </tr>\n",
       "  </thead>\n",
       "  <tbody>\n",
       "    <tr>\n",
       "      <th>0</th>\n",
       "      <td>3</td>\n",
       "      <td>0</td>\n",
       "      <td>5</td>\n",
       "      <td>4</td>\n",
       "      <td>8</td>\n",
       "      <td>24</td>\n",
       "      <td>3</td>\n",
       "      <td>2019</td>\n",
       "      <td>22</td>\n",
       "      <td>20</td>\n",
       "      <td>1</td>\n",
       "      <td>10</td>\n",
       "      <td>2</td>\n",
       "      <td>50</td>\n",
       "    </tr>\n",
       "    <tr>\n",
       "      <th>1</th>\n",
       "      <td>1</td>\n",
       "      <td>3</td>\n",
       "      <td>0</td>\n",
       "      <td>1</td>\n",
       "      <td>8</td>\n",
       "      <td>1</td>\n",
       "      <td>5</td>\n",
       "      <td>2019</td>\n",
       "      <td>5</td>\n",
       "      <td>50</td>\n",
       "      <td>13</td>\n",
       "      <td>15</td>\n",
       "      <td>7</td>\n",
       "      <td>25</td>\n",
       "    </tr>\n",
       "    <tr>\n",
       "      <th>2</th>\n",
       "      <td>4</td>\n",
       "      <td>2</td>\n",
       "      <td>1</td>\n",
       "      <td>1</td>\n",
       "      <td>8</td>\n",
       "      <td>9</td>\n",
       "      <td>6</td>\n",
       "      <td>2019</td>\n",
       "      <td>9</td>\n",
       "      <td>25</td>\n",
       "      <td>4</td>\n",
       "      <td>25</td>\n",
       "      <td>19</td>\n",
       "      <td>0</td>\n",
       "    </tr>\n",
       "    <tr>\n",
       "      <th>3</th>\n",
       "      <td>3</td>\n",
       "      <td>3</td>\n",
       "      <td>0</td>\n",
       "      <td>0</td>\n",
       "      <td>8</td>\n",
       "      <td>12</td>\n",
       "      <td>5</td>\n",
       "      <td>2019</td>\n",
       "      <td>18</td>\n",
       "      <td>5</td>\n",
       "      <td>23</td>\n",
       "      <td>30</td>\n",
       "      <td>5</td>\n",
       "      <td>25</td>\n",
       "    </tr>\n",
       "    <tr>\n",
       "      <th>4</th>\n",
       "      <td>3</td>\n",
       "      <td>0</td>\n",
       "      <td>5</td>\n",
       "      <td>0</td>\n",
       "      <td>8</td>\n",
       "      <td>1</td>\n",
       "      <td>3</td>\n",
       "      <td>2019</td>\n",
       "      <td>16</td>\n",
       "      <td>50</td>\n",
       "      <td>21</td>\n",
       "      <td>35</td>\n",
       "      <td>4</td>\n",
       "      <td>45</td>\n",
       "    </tr>\n",
       "    <tr>\n",
       "      <th>...</th>\n",
       "      <td>...</td>\n",
       "      <td>...</td>\n",
       "      <td>...</td>\n",
       "      <td>...</td>\n",
       "      <td>...</td>\n",
       "      <td>...</td>\n",
       "      <td>...</td>\n",
       "      <td>...</td>\n",
       "      <td>...</td>\n",
       "      <td>...</td>\n",
       "      <td>...</td>\n",
       "      <td>...</td>\n",
       "      <td>...</td>\n",
       "      <td>...</td>\n",
       "    </tr>\n",
       "    <tr>\n",
       "      <th>10678</th>\n",
       "      <td>0</td>\n",
       "      <td>3</td>\n",
       "      <td>0</td>\n",
       "      <td>4</td>\n",
       "      <td>8</td>\n",
       "      <td>9</td>\n",
       "      <td>4</td>\n",
       "      <td>2019</td>\n",
       "      <td>19</td>\n",
       "      <td>55</td>\n",
       "      <td>22</td>\n",
       "      <td>25</td>\n",
       "      <td>2</td>\n",
       "      <td>30</td>\n",
       "    </tr>\n",
       "    <tr>\n",
       "      <th>10679</th>\n",
       "      <td>1</td>\n",
       "      <td>3</td>\n",
       "      <td>0</td>\n",
       "      <td>4</td>\n",
       "      <td>8</td>\n",
       "      <td>27</td>\n",
       "      <td>4</td>\n",
       "      <td>2019</td>\n",
       "      <td>20</td>\n",
       "      <td>45</td>\n",
       "      <td>23</td>\n",
       "      <td>20</td>\n",
       "      <td>2</td>\n",
       "      <td>35</td>\n",
       "    </tr>\n",
       "    <tr>\n",
       "      <th>10680</th>\n",
       "      <td>4</td>\n",
       "      <td>0</td>\n",
       "      <td>2</td>\n",
       "      <td>4</td>\n",
       "      <td>8</td>\n",
       "      <td>27</td>\n",
       "      <td>4</td>\n",
       "      <td>2019</td>\n",
       "      <td>8</td>\n",
       "      <td>20</td>\n",
       "      <td>11</td>\n",
       "      <td>20</td>\n",
       "      <td>3</td>\n",
       "      <td>0</td>\n",
       "    </tr>\n",
       "    <tr>\n",
       "      <th>10681</th>\n",
       "      <td>10</td>\n",
       "      <td>0</td>\n",
       "      <td>5</td>\n",
       "      <td>4</td>\n",
       "      <td>8</td>\n",
       "      <td>1</td>\n",
       "      <td>3</td>\n",
       "      <td>2019</td>\n",
       "      <td>11</td>\n",
       "      <td>30</td>\n",
       "      <td>14</td>\n",
       "      <td>10</td>\n",
       "      <td>2</td>\n",
       "      <td>40</td>\n",
       "    </tr>\n",
       "    <tr>\n",
       "      <th>10682</th>\n",
       "      <td>1</td>\n",
       "      <td>2</td>\n",
       "      <td>1</td>\n",
       "      <td>1</td>\n",
       "      <td>8</td>\n",
       "      <td>9</td>\n",
       "      <td>5</td>\n",
       "      <td>2019</td>\n",
       "      <td>10</td>\n",
       "      <td>55</td>\n",
       "      <td>19</td>\n",
       "      <td>15</td>\n",
       "      <td>8</td>\n",
       "      <td>20</td>\n",
       "    </tr>\n",
       "  </tbody>\n",
       "</table>\n",
       "<p>10682 rows × 14 columns</p>\n",
       "</div>"
      ],
      "text/plain": [
       "       Airline  Source  Destination  Total_Stops  Additional_Info  Day  Month  \\\n",
       "0            3       0            5            4                8   24      3   \n",
       "1            1       3            0            1                8    1      5   \n",
       "2            4       2            1            1                8    9      6   \n",
       "3            3       3            0            0                8   12      5   \n",
       "4            3       0            5            0                8    1      3   \n",
       "...        ...     ...          ...          ...              ...  ...    ...   \n",
       "10678        0       3            0            4                8    9      4   \n",
       "10679        1       3            0            4                8   27      4   \n",
       "10680        4       0            2            4                8   27      4   \n",
       "10681       10       0            5            4                8    1      3   \n",
       "10682        1       2            1            1                8    9      5   \n",
       "\n",
       "       Year  Dep_h  Dep_m  Arrival_hour  Arrival_min  Dur_h  Dur_m  \n",
       "0      2019     22     20             1           10      2     50  \n",
       "1      2019      5     50            13           15      7     25  \n",
       "2      2019      9     25             4           25     19      0  \n",
       "3      2019     18      5            23           30      5     25  \n",
       "4      2019     16     50            21           35      4     45  \n",
       "...     ...    ...    ...           ...          ...    ...    ...  \n",
       "10678  2019     19     55            22           25      2     30  \n",
       "10679  2019     20     45            23           20      2     35  \n",
       "10680  2019      8     20            11           20      3      0  \n",
       "10681  2019     11     30            14           10      2     40  \n",
       "10682  2019     10     55            19           15      8     20  \n",
       "\n",
       "[10682 rows x 14 columns]"
      ]
     },
     "execution_count": 174,
     "metadata": {},
     "output_type": "execute_result"
    }
   ],
   "source": [
    "x=df_train.drop(\"Price\",axis=1)   #input variables\n",
    "x"
   ]
  },
  {
   "cell_type": "code",
   "execution_count": 175,
   "id": "615d4fd4",
   "metadata": {},
   "outputs": [
    {
     "data": {
      "text/plain": [
       "0         3897\n",
       "1         7662\n",
       "2        13882\n",
       "3         6218\n",
       "4        13302\n",
       "         ...  \n",
       "10678     4107\n",
       "10679     4145\n",
       "10680     7229\n",
       "10681    12648\n",
       "10682    11753\n",
       "Name: Price, Length: 10682, dtype: int64"
      ]
     },
     "execution_count": 175,
     "metadata": {},
     "output_type": "execute_result"
    }
   ],
   "source": [
    "y=df_train['Price']  #output variables.\n",
    "y"
   ]
  },
  {
   "cell_type": "markdown",
   "id": "58f33da1",
   "metadata": {},
   "source": [
    "# VIF FACTOR (train dataset)"
   ]
  },
  {
   "cell_type": "code",
   "execution_count": 176,
   "id": "4c67b828",
   "metadata": {},
   "outputs": [],
   "source": [
    "import statsmodels.api as sm\n",
    "from scipy import stats\n",
    "from statsmodels.stats.outliers_influence import variance_inflation_factor\n",
    "def cal_vif(x):\n",
    "    vif=pd.DataFrame()\n",
    "    vif[\"variables\"]=x.columns\n",
    "    vif[\"VIF FACTOR\"]=[variance_inflation_factor(x.values,i) for i in range (x.shape[1])]\n",
    "    return(vif)"
   ]
  },
  {
   "cell_type": "code",
   "execution_count": 177,
   "id": "86db26a8",
   "metadata": {},
   "outputs": [
    {
     "data": {
      "text/html": [
       "<div>\n",
       "<style scoped>\n",
       "    .dataframe tbody tr th:only-of-type {\n",
       "        vertical-align: middle;\n",
       "    }\n",
       "\n",
       "    .dataframe tbody tr th {\n",
       "        vertical-align: top;\n",
       "    }\n",
       "\n",
       "    .dataframe thead th {\n",
       "        text-align: right;\n",
       "    }\n",
       "</style>\n",
       "<table border=\"1\" class=\"dataframe\">\n",
       "  <thead>\n",
       "    <tr style=\"text-align: right;\">\n",
       "      <th></th>\n",
       "      <th>variables</th>\n",
       "      <th>VIF FACTOR</th>\n",
       "    </tr>\n",
       "  </thead>\n",
       "  <tbody>\n",
       "    <tr>\n",
       "      <th>0</th>\n",
       "      <td>Airline</td>\n",
       "      <td>1.051544</td>\n",
       "    </tr>\n",
       "    <tr>\n",
       "      <th>1</th>\n",
       "      <td>Source</td>\n",
       "      <td>1.582729</td>\n",
       "    </tr>\n",
       "    <tr>\n",
       "      <th>2</th>\n",
       "      <td>Destination</td>\n",
       "      <td>1.940623</td>\n",
       "    </tr>\n",
       "    <tr>\n",
       "      <th>3</th>\n",
       "      <td>Total_Stops</td>\n",
       "      <td>1.794630</td>\n",
       "    </tr>\n",
       "    <tr>\n",
       "      <th>4</th>\n",
       "      <td>Additional_Info</td>\n",
       "      <td>1.057190</td>\n",
       "    </tr>\n",
       "    <tr>\n",
       "      <th>5</th>\n",
       "      <td>Day</td>\n",
       "      <td>1.011182</td>\n",
       "    </tr>\n",
       "    <tr>\n",
       "      <th>6</th>\n",
       "      <td>Month</td>\n",
       "      <td>1.201680</td>\n",
       "    </tr>\n",
       "    <tr>\n",
       "      <th>7</th>\n",
       "      <td>Year</td>\n",
       "      <td>115.001199</td>\n",
       "    </tr>\n",
       "    <tr>\n",
       "      <th>8</th>\n",
       "      <td>Dep_h</td>\n",
       "      <td>1.021304</td>\n",
       "    </tr>\n",
       "    <tr>\n",
       "      <th>9</th>\n",
       "      <td>Dep_m</td>\n",
       "      <td>1.035472</td>\n",
       "    </tr>\n",
       "    <tr>\n",
       "      <th>10</th>\n",
       "      <td>Arrival_hour</td>\n",
       "      <td>1.044429</td>\n",
       "    </tr>\n",
       "    <tr>\n",
       "      <th>11</th>\n",
       "      <td>Arrival_min</td>\n",
       "      <td>1.100855</td>\n",
       "    </tr>\n",
       "    <tr>\n",
       "      <th>12</th>\n",
       "      <td>Dur_h</td>\n",
       "      <td>1.659809</td>\n",
       "    </tr>\n",
       "    <tr>\n",
       "      <th>13</th>\n",
       "      <td>Dur_m</td>\n",
       "      <td>1.094105</td>\n",
       "    </tr>\n",
       "  </tbody>\n",
       "</table>\n",
       "</div>"
      ],
      "text/plain": [
       "          variables  VIF FACTOR\n",
       "0           Airline    1.051544\n",
       "1            Source    1.582729\n",
       "2       Destination    1.940623\n",
       "3       Total_Stops    1.794630\n",
       "4   Additional_Info    1.057190\n",
       "5               Day    1.011182\n",
       "6             Month    1.201680\n",
       "7              Year  115.001199\n",
       "8             Dep_h    1.021304\n",
       "9             Dep_m    1.035472\n",
       "10     Arrival_hour    1.044429\n",
       "11      Arrival_min    1.100855\n",
       "12            Dur_h    1.659809\n",
       "13            Dur_m    1.094105"
      ]
     },
     "execution_count": 177,
     "metadata": {},
     "output_type": "execute_result"
    }
   ],
   "source": [
    "cal_vif(x)"
   ]
  },
  {
   "cell_type": "markdown",
   "id": "c1ffa840",
   "metadata": {},
   "source": [
    "we will be checking the VIF factor to remove multicolinearties among the columns. In our dataset we will see that there are no multicollinearites exists."
   ]
  },
  {
   "cell_type": "markdown",
   "id": "dce55d9c",
   "metadata": {},
   "source": [
    "# Removing skewness and Standard Scaling of train dataset"
   ]
  },
  {
   "cell_type": "code",
   "execution_count": 178,
   "id": "cf998bd0",
   "metadata": {},
   "outputs": [
    {
     "data": {
      "text/plain": [
       "array([[-0.29567552, -1.59965221,  1.7526273 , ..., -0.77657798,\n",
       "        -1.17618699,  1.2003668 ],\n",
       "       [-1.4204747 ,  0.90201529, -1.37047751, ..., -0.43301039,\n",
       "        -0.05523585, -0.09992072],\n",
       "       [ 0.14759112, -0.01209588,  0.00585891, ...,  0.15684039,\n",
       "         1.07475723, -1.87775484],\n",
       "       ...,\n",
       "       [ 0.14759112, -1.59965221,  0.70701885, ..., -0.12567658,\n",
       "        -0.85650127, -1.87775484],\n",
       "       [ 2.12296151, -1.59965221,  1.7526273 , ..., -0.77657798,\n",
       "        -1.17618699,  0.70427371],\n",
       "       [-1.4204747 , -0.01209588,  0.00585891, ..., -0.43301039,\n",
       "         0.08540529, -0.39108812]])"
      ]
     },
     "execution_count": 178,
     "metadata": {},
     "output_type": "execute_result"
    }
   ],
   "source": [
    "from sklearn.preprocessing import power_transform\n",
    "x=power_transform(x,method='yeo-johnson')  #to remove skewness\n",
    "x"
   ]
  },
  {
   "cell_type": "code",
   "execution_count": 179,
   "id": "a5f8d045",
   "metadata": {},
   "outputs": [
    {
     "data": {
      "text/plain": [
       "array([[-0.29567552, -1.59965221,  1.7526273 , ..., -0.77657798,\n",
       "        -1.17618699,  1.2003668 ],\n",
       "       [-1.4204747 ,  0.90201529, -1.37047751, ..., -0.43301039,\n",
       "        -0.05523585, -0.09992072],\n",
       "       [ 0.14759112, -0.01209588,  0.00585891, ...,  0.15684039,\n",
       "         1.07475723, -1.87775484],\n",
       "       ...,\n",
       "       [ 0.14759112, -1.59965221,  0.70701885, ..., -0.12567658,\n",
       "        -0.85650127, -1.87775484],\n",
       "       [ 2.12296151, -1.59965221,  1.7526273 , ..., -0.77657798,\n",
       "        -1.17618699,  0.70427371],\n",
       "       [-1.4204747 , -0.01209588,  0.00585891, ..., -0.43301039,\n",
       "         0.08540529, -0.39108812]])"
      ]
     },
     "execution_count": 179,
     "metadata": {},
     "output_type": "execute_result"
    }
   ],
   "source": [
    "from sklearn.preprocessing import StandardScaler\n",
    "mn=StandardScaler()  #bringing all the columns on smae scale.\n",
    "x=mn.fit_transform(x)\n",
    "x"
   ]
  },
  {
   "cell_type": "markdown",
   "id": "f97298fb",
   "metadata": {},
   "source": [
    "# Performing Algorithms"
   ]
  },
  {
   "cell_type": "code",
   "execution_count": 180,
   "id": "d5e6b35f",
   "metadata": {},
   "outputs": [],
   "source": [
    "from sklearn.linear_model import LinearRegression,Lasso,Ridge\n",
    "from sklearn.metrics import mean_squared_error, mean_absolute_error,r2_score\n",
    "from sklearn.model_selection import train_test_split,cross_val_score,GridSearchCV\n",
    "from sklearn.svm import SVR\n",
    "from sklearn.neighbors import KNeighborsRegressor\n",
    "from sklearn.linear_model import LinearRegression,Lasso,Ridge\n",
    "from sklearn.metrics import mean_squared_error, mean_absolute_error,r2_score\n",
    "from sklearn.model_selection import train_test_split,cross_val_score,GridSearchCV\n",
    "from sklearn.svm import SVR\n",
    "from sklearn.tree import DecisionTreeRegressor"
   ]
  },
  {
   "cell_type": "code",
   "execution_count": 181,
   "id": "81472695",
   "metadata": {},
   "outputs": [
    {
     "name": "stdout",
     "output_type": "stream",
     "text": [
      "MSE is  14860700.2 at random state 94\n"
     ]
    }
   ],
   "source": [
    "minmse=0    #finding the best Random State\n",
    "maxrs=0\n",
    "for i in range(1,100):\n",
    "    x_train,x_test,y_train,y_test=train_test_split(x,y,test_size=.30,random_state=i)\n",
    "    lr=LinearRegression()\n",
    "    lr.fit(x_train,y_train)\n",
    "    pred=lr.predict(x_test)\n",
    "    err=mean_squared_error(y_test,pred)\n",
    "    if err>minmse:\n",
    "        minmse=err\n",
    "        maxrs=i\n",
    "print(\"MSE is \",round(minmse,2),\"at random state\",maxrs)"
   ]
  },
  {
   "cell_type": "code",
   "execution_count": 182,
   "id": "f25b21f3",
   "metadata": {},
   "outputs": [],
   "source": [
    "x_train1,x_test1,y_train1,y_test1=train_test_split(x,y,test_size=.30,random_state=94)"
   ]
  },
  {
   "cell_type": "markdown",
   "id": "cf8456d5",
   "metadata": {},
   "source": [
    "# Linear Regression"
   ]
  },
  {
   "cell_type": "code",
   "execution_count": 183,
   "id": "8c7bc9e5",
   "metadata": {},
   "outputs": [
    {
     "name": "stdout",
     "output_type": "stream",
     "text": [
      "Cofficient is: [ 3.08727446e+02 -1.07548810e+02  3.92640809e+02 -7.12181106e+02\n",
      "  4.63137531e+02 -6.33336958e+02 -3.87936852e+02  2.27373675e-13\n",
      "  1.77461975e+02 -5.80028883e+01 -9.71369911e+01 -2.26643149e+01\n",
      "  2.50966606e+03 -8.18746867e+01]\n",
      "Intercept is:  9075.165355244202\n",
      "Score is:  44.87475313858318\n",
      "Mean Squared Error is:  14860700.2\n",
      "Mean Absolute Error is:  2479.22\n",
      "R2 Score is:  0.39\n",
      "rsme 3854.9578725654433\n"
     ]
    }
   ],
   "source": [
    "lr=LinearRegression()\n",
    "lr.fit(x_train1,y_train1)\n",
    "print(\"Cofficient is:\",lr.coef_)\n",
    "print(\"Intercept is: \",lr.intercept_)\n",
    "sco=lr.score(x_train1,y_train1)\n",
    "sco1=sco*100\n",
    "print(\"Score is: \",sco1)\n",
    "pred=lr.predict(x_test1)\n",
    "mse=mean_squared_error(y_test1,pred)\n",
    "print(\"Mean Squared Error is: \",round(mse,2))\n",
    "abse=mean_absolute_error(y_test1,pred)\n",
    "print(\"Mean Absolute Error is: \",round(abse,2))\n",
    "scr=r2_score(y_test1,pred)\n",
    "print(\"R2 Score is: \",round(scr,2))\n",
    "print(\"rsme\",np.sqrt(mse))"
   ]
  },
  {
   "cell_type": "markdown",
   "id": "ff3b63f7",
   "metadata": {},
   "source": [
    "# KNeighbors Regressor"
   ]
  },
  {
   "cell_type": "code",
   "execution_count": 184,
   "id": "3774eda9",
   "metadata": {},
   "outputs": [
    {
     "name": "stdout",
     "output_type": "stream",
     "text": [
      "Score is:  0.849481644304683\n",
      "Mean Squared Error is: 7092806.77\n",
      "Mean Absolute Error is: 1258.85\n",
      "R2 Score is: 0.71\n",
      "RSME 2663.232391860425\n"
     ]
    }
   ],
   "source": [
    "knr=KNeighborsRegressor()\n",
    "knr.fit(x_train1,y_train1)\n",
    "sw=knr.score(x_train1,y_train1)\n",
    "#print(\"Coffecient is: \",knr.coef_)\n",
    "#print(\"Intercept is: \",knr.intercept_)\n",
    "print(\"Score is: \",sw)\n",
    "pred=knr.predict(x_test1)\n",
    "print(\"Mean Squared Error is:\",round(mean_squared_error(y_test1,pred),2))\n",
    "print(\"Mean Absolute Error is:\",round(mean_absolute_error(y_test1,pred),2))\n",
    "print(\"R2 Score is:\",round(r2_score(y_test1,pred),2))\n",
    "print(\"RSME\",np.sqrt(mean_squared_error(y_test1,pred)))"
   ]
  },
  {
   "cell_type": "markdown",
   "id": "51636ab1",
   "metadata": {},
   "source": [
    "# Lasso"
   ]
  },
  {
   "cell_type": "code",
   "execution_count": 185,
   "id": "cd50bc9f",
   "metadata": {},
   "outputs": [
    {
     "name": "stdout",
     "output_type": "stream",
     "text": [
      "Coffecient is:  [ 308.72627349 -107.54834635  392.63969161 -712.18062391  463.1360648\n",
      " -633.33595987 -387.93590126    0.          177.46058633  -58.00208764\n",
      "  -97.1355714   -22.66330381 2509.66475293  -81.87395314]\n",
      "Intercept is:  9075.165331533117\n",
      "Score is:  0.44874753138516277\n",
      "Mean Squared Error is: 14860701.49\n",
      "Mean Absolute Error is: 2479.22\n",
      "R2 Score is: 0.39\n",
      "RSME 3854.958039679484\n"
     ]
    }
   ],
   "source": [
    "ls1=Lasso(alpha=0.001)   #choosing the best alpha\n",
    "ls1.fit(x_train1,y_train1)\n",
    "sw=ls1.score(x_train1,y_train1)\n",
    "print(\"Coffecient is: \",ls1.coef_)\n",
    "print(\"Intercept is: \",ls1.intercept_)\n",
    "print(\"Score is: \",sw)\n",
    "pred=ls1.predict(x_test1)\n",
    "print(\"Mean Squared Error is:\",round(mean_squared_error(y_test1,pred),2))\n",
    "print(\"Mean Absolute Error is:\",round(mean_absolute_error(y_test1,pred),2))\n",
    "print(\"R2 Score is:\",round(r2_score(y_test1,pred),2))\n",
    "print(\"RSME\",np.sqrt(mean_squared_error(y_test1,pred)))"
   ]
  },
  {
   "cell_type": "markdown",
   "id": "f5af8d14",
   "metadata": {},
   "source": [
    "# Ridge"
   ]
  },
  {
   "cell_type": "code",
   "execution_count": 186,
   "id": "6165e203",
   "metadata": {},
   "outputs": [
    {
     "name": "stdout",
     "output_type": "stream",
     "text": [
      "Coffecient is:  [ 308.72730074 -107.54890731  392.64059158 -712.18134355  463.13740226\n",
      " -633.33687401 -387.93681873    0.          177.46191678  -58.00287791\n",
      "  -97.1369756   -22.66433048 2509.66545908  -81.87473331]\n",
      "Intercept is:  9075.165354341952\n",
      "Score is:  0.44874753138582113\n",
      "Mean Squared Error is: 14860700.3\n",
      "Mean Absolute Error is: 2479.22\n",
      "R2 Score is: 0.39\n",
      "RSME 3854.957886045654\n"
     ]
    }
   ],
   "source": [
    "lt1=Ridge(alpha=0.001) #choosing the best alpha\n",
    "lt1.fit(x_train1,y_train1)\n",
    "sw1=lt1.score(x_train1,y_train1)\n",
    "print(\"Coffecient is: \",lt1.coef_)\n",
    "print(\"Intercept is: \",lt1.intercept_)\n",
    "print(\"Score is: \",sw1)\n",
    "pred=lt1.predict(x_test1)\n",
    "print(\"Mean Squared Error is:\",round(mean_squared_error(y_test1,pred),2))\n",
    "print(\"Mean Absolute Error is:\",round(mean_absolute_error(y_test1,pred),2))\n",
    "print(\"R2 Score is:\",round(r2_score(y_test1,pred),2))\n",
    "print(\"RSME\",np.sqrt(mean_squared_error(y_test1,pred)))"
   ]
  },
  {
   "cell_type": "markdown",
   "id": "4f2df693",
   "metadata": {},
   "source": [
    "# Support Vector Regressor"
   ]
  },
  {
   "cell_type": "code",
   "execution_count": 187,
   "id": "fd4a36fb",
   "metadata": {},
   "outputs": [
    {
     "name": "stdout",
     "output_type": "stream",
     "text": [
      "For rbf Mean Squared Error is: 24130573.25\n",
      "For rbf Mean Absolute Error is: 3557.14\n",
      "For rbf R2 Score is: 0.01\n",
      "RSME 4912.287985572932\n",
      "For poly Mean Squared Error is: 24114526.74\n",
      "For poly Mean Absolute Error is: 3555.72\n",
      "For poly R2 Score is: 0.01\n",
      "RSME 4910.654410578422\n",
      "For linear Mean Squared Error is: 16594215.23\n",
      "For linear Mean Absolute Error is: 2532.94\n",
      "For linear R2 Score is: 0.32\n",
      "RSME 4073.5997877503146\n"
     ]
    }
   ],
   "source": [
    "ker=[\"rbf\",\"poly\",\"linear\"]    #finding the best kernel\n",
    "for i in ker:\n",
    "    svr=SVR(kernel=i)\n",
    "    svr.fit(x_train1,y_train1)\n",
    "    pred=svr.predict(x_test1)\n",
    "    print(\"For\",i,\"Mean Squared Error is:\",round(mean_squared_error(y_test1,pred),2))\n",
    "    print(\"For\",i,\"Mean Absolute Error is:\",round(mean_absolute_error(y_test1,pred),2))\n",
    "    print(\"For\",i,\"R2 Score is:\",round(r2_score(y_test1,pred),2))\n",
    "    print(\"RSME\",np.sqrt(mean_squared_error(y_test1,pred)))"
   ]
  },
  {
   "cell_type": "markdown",
   "id": "bd79e033",
   "metadata": {},
   "source": [
    "# Decision Tree Regressor"
   ]
  },
  {
   "cell_type": "code",
   "execution_count": 188,
   "id": "e910e2be",
   "metadata": {},
   "outputs": [
    {
     "name": "stdout",
     "output_type": "stream",
     "text": [
      "Score is:  0.9964865273119474\n",
      "Mean Squared Error is: 5608305.17\n",
      "Mean Absolute Error is: 823.08\n",
      "R2 Score is: 0.77\n",
      "RSME 2368.1860512149574\n"
     ]
    }
   ],
   "source": [
    "dtr=DecisionTreeRegressor()\n",
    "dtr.fit(x_train1,y_train1)\n",
    "sw1=dtr.score(x_train1,y_train1)\n",
    "#print(\"Coffecient is: \",dtr.coef_)\n",
    "#print(\"Intercept is: \",dtr.intercept_)\n",
    "print(\"Score is: \",sw1)\n",
    "pred=dtr.predict(x_test1)\n",
    "print(\"Mean Squared Error is:\",round(mean_squared_error(y_test1,pred),2))\n",
    "print(\"Mean Absolute Error is:\",round(mean_absolute_error(y_test1,pred),2))\n",
    "print(\"R2 Score is:\",round(r2_score(y_test1,pred),2))\n",
    "print(\"RSME\",np.sqrt(mean_squared_error(y_test1,pred)))\n"
   ]
  },
  {
   "cell_type": "markdown",
   "id": "4b5c9473",
   "metadata": {},
   "source": [
    "# Cross validation score"
   ]
  },
  {
   "cell_type": "code",
   "execution_count": 189,
   "id": "6495a955",
   "metadata": {},
   "outputs": [],
   "source": [
    "def rmse_cv(model,x_train1,y_train1):\n",
    "    mse_cv_score=-cross_val_score(model,x_train1,y_train1,cv=5,scoring=\"neg_mean_squared_error\",n_jobs=-1)\n",
    "    rmse_cv=np.sqrt(mse_cv_score).mean()\n",
    "    return(rmse_cv)"
   ]
  },
  {
   "cell_type": "code",
   "execution_count": 190,
   "id": "da25a16e",
   "metadata": {},
   "outputs": [
    {
     "data": {
      "text/plain": [
       "3316.9683404385987"
      ]
     },
     "execution_count": 190,
     "metadata": {},
     "output_type": "execute_result"
    }
   ],
   "source": [
    "rmse_cv(lr,x_train1,y_train1)   #linear regression"
   ]
  },
  {
   "cell_type": "code",
   "execution_count": 191,
   "id": "964a2f3a",
   "metadata": {},
   "outputs": [
    {
     "data": {
      "text/plain": [
       "2164.6032759212685"
      ]
     },
     "execution_count": 191,
     "metadata": {},
     "output_type": "execute_result"
    }
   ],
   "source": [
    "rmse_cv(dtr,x_train1,y_train1) #decision tree regressor"
   ]
  },
  {
   "cell_type": "code",
   "execution_count": 192,
   "id": "ed5ebd63",
   "metadata": {},
   "outputs": [
    {
     "data": {
      "text/plain": [
       "3316.9683390442033"
      ]
     },
     "execution_count": 192,
     "metadata": {},
     "output_type": "execute_result"
    }
   ],
   "source": [
    "rmse_cv(lt1,x_train1,y_train1) #lasso"
   ]
  },
  {
   "cell_type": "code",
   "execution_count": 193,
   "id": "641c3e76",
   "metadata": {},
   "outputs": [
    {
     "data": {
      "text/plain": [
       "3316.968338952013"
      ]
     },
     "execution_count": 193,
     "metadata": {},
     "output_type": "execute_result"
    }
   ],
   "source": [
    "rmse_cv(ls1,x_train1,y_train1)  #ridge"
   ]
  },
  {
   "cell_type": "code",
   "execution_count": 194,
   "id": "2b288d5c",
   "metadata": {},
   "outputs": [
    {
     "data": {
      "text/plain": [
       "2267.5683806940933"
      ]
     },
     "execution_count": 194,
     "metadata": {},
     "output_type": "execute_result"
    }
   ],
   "source": [
    "rmse_cv(knr,x_train1,y_train1)  #kneighbors regressor"
   ]
  },
  {
   "cell_type": "markdown",
   "id": "e4f42f56",
   "metadata": {},
   "source": [
    "Comparing the results of RMSE with the corss val results we could see that Decision tree regressor is giving us the best results with the least rmse and differnce between cross val results and actual results are less."
   ]
  },
  {
   "cell_type": "markdown",
   "id": "20310c79",
   "metadata": {},
   "source": [
    "# Hyper Parameter Tuning Using Grid Serach CV"
   ]
  },
  {
   "cell_type": "code",
   "execution_count": 203,
   "id": "8849b0a0",
   "metadata": {},
   "outputs": [],
   "source": [
    "parameter={\"criterion\":['squared_error','friedman_mse','absolute_error','poisson'],\n",
    "           \"splitter\":['best','random'],\n",
    "          \"max_features\":[\"auto\",\"log2\",\"sqrt\"],\n",
    "          \"random_state\":np.arange(2,20),\n",
    "          \"min_samples_leaf\":np.arange(2,20)}"
   ]
  },
  {
   "cell_type": "code",
   "execution_count": 205,
   "id": "88ca9821",
   "metadata": {},
   "outputs": [],
   "source": [
    "gcv=GridSearchCV(DecisionTreeRegressor(),parameter,cv=5)"
   ]
  },
  {
   "cell_type": "code",
   "execution_count": 206,
   "id": "cbf5481d",
   "metadata": {},
   "outputs": [
    {
     "data": {
      "text/plain": [
       "GridSearchCV(cv=5, estimator=DecisionTreeRegressor(),\n",
       "             param_grid={'criterion': ['squared_error', 'friedman_mse',\n",
       "                                       'absolute_error', 'poisson'],\n",
       "                         'max_features': ['auto', 'log2', 'sqrt'],\n",
       "                         'min_samples_leaf': array([ 2,  3,  4,  5,  6,  7,  8,  9, 10, 11, 12, 13, 14, 15, 16, 17, 18,\n",
       "       19]),\n",
       "                         'random_state': array([ 2,  3,  4,  5,  6,  7,  8,  9, 10, 11, 12, 13, 14, 15, 16, 17, 18,\n",
       "       19]),\n",
       "                         'splitter': ['best', 'random']})"
      ]
     },
     "execution_count": 206,
     "metadata": {},
     "output_type": "execute_result"
    }
   ],
   "source": [
    "gcv.fit(x_train1,y_train1)"
   ]
  },
  {
   "cell_type": "code",
   "execution_count": 207,
   "id": "b8de1b39",
   "metadata": {},
   "outputs": [
    {
     "data": {
      "text/plain": [
       "{'criterion': 'friedman_mse',\n",
       " 'max_features': 'auto',\n",
       " 'min_samples_leaf': 2,\n",
       " 'random_state': 18,\n",
       " 'splitter': 'random'}"
      ]
     },
     "execution_count": 207,
     "metadata": {},
     "output_type": "execute_result"
    }
   ],
   "source": [
    "gcv.best_params_ "
   ]
  },
  {
   "cell_type": "markdown",
   "id": "a887f98d",
   "metadata": {},
   "source": [
    "# Final Model"
   ]
  },
  {
   "cell_type": "code",
   "execution_count": 209,
   "id": "56799e48",
   "metadata": {},
   "outputs": [
    {
     "name": "stdout",
     "output_type": "stream",
     "text": [
      "Score is:  0.9566550433098108\n",
      "Mean Squared Error is: 4169154.92\n",
      "Mean Absolute Error is: 859.53\n",
      "R2 Score is: 0.83\n",
      "RSME 2041.8508574900695\n"
     ]
    }
   ],
   "source": [
    "dtr=DecisionTreeRegressor(criterion='friedman_mse',max_features='auto',min_samples_leaf=2,random_state=18,splitter='random')\n",
    "dtr.fit(x_train1,y_train1)\n",
    "sw1=dtr.score(x_train1,y_train1)\n",
    "#print(\"Coffecient is: \",dtr.coef_)\n",
    "#print(\"Intercept is: \",dtr.intercept_)\n",
    "print(\"Score is: \",sw1)\n",
    "pred=dtr.predict(x_test1)\n",
    "print(\"Mean Squared Error is:\",round(mean_squared_error(y_test1,pred),2))\n",
    "print(\"Mean Absolute Error is:\",round(mean_absolute_error(y_test1,pred),2))\n",
    "print(\"R2 Score is:\",round(r2_score(y_test1,pred),2))\n",
    "print(\"RSME\",np.sqrt(mean_squared_error(y_test1,pred)))\n"
   ]
  },
  {
   "cell_type": "markdown",
   "id": "a5cbe6ae",
   "metadata": {},
   "source": [
    "# Passing the test dataset"
   ]
  },
  {
   "cell_type": "code",
   "execution_count": 200,
   "id": "f2c8ae0f",
   "metadata": {},
   "outputs": [
    {
     "data": {
      "text/plain": [
       "array([ 5192.33333333,  7662.        , 13882.        , ...,\n",
       "        7229.        , 12649.        , 11753.        ])"
      ]
     },
     "execution_count": 200,
     "metadata": {},
     "output_type": "execute_result"
    }
   ],
   "source": [
    "w=dtr.predict(x1)  #passing the test dataset to our final model for predicting the flight price\n",
    "w"
   ]
  },
  {
   "cell_type": "code",
   "execution_count": 201,
   "id": "3c17dac3",
   "metadata": {},
   "outputs": [],
   "source": [
    "y1=pd.DataFrame({})  #saving it in a dataframe.\n",
    "y1['Sales']=w"
   ]
  },
  {
   "cell_type": "code",
   "execution_count": 202,
   "id": "21683964",
   "metadata": {},
   "outputs": [
    {
     "data": {
      "text/html": [
       "<div>\n",
       "<style scoped>\n",
       "    .dataframe tbody tr th:only-of-type {\n",
       "        vertical-align: middle;\n",
       "    }\n",
       "\n",
       "    .dataframe tbody tr th {\n",
       "        vertical-align: top;\n",
       "    }\n",
       "\n",
       "    .dataframe thead th {\n",
       "        text-align: right;\n",
       "    }\n",
       "</style>\n",
       "<table border=\"1\" class=\"dataframe\">\n",
       "  <thead>\n",
       "    <tr style=\"text-align: right;\">\n",
       "      <th></th>\n",
       "      <th>Sales</th>\n",
       "    </tr>\n",
       "  </thead>\n",
       "  <tbody>\n",
       "    <tr>\n",
       "      <th>0</th>\n",
       "      <td>5192.333333</td>\n",
       "    </tr>\n",
       "    <tr>\n",
       "      <th>1</th>\n",
       "      <td>7662.000000</td>\n",
       "    </tr>\n",
       "    <tr>\n",
       "      <th>2</th>\n",
       "      <td>13882.000000</td>\n",
       "    </tr>\n",
       "    <tr>\n",
       "      <th>3</th>\n",
       "      <td>6218.000000</td>\n",
       "    </tr>\n",
       "    <tr>\n",
       "      <th>4</th>\n",
       "      <td>18308.000000</td>\n",
       "    </tr>\n",
       "    <tr>\n",
       "      <th>...</th>\n",
       "      <td>...</td>\n",
       "    </tr>\n",
       "    <tr>\n",
       "      <th>10677</th>\n",
       "      <td>4107.000000</td>\n",
       "    </tr>\n",
       "    <tr>\n",
       "      <th>10678</th>\n",
       "      <td>4145.000000</td>\n",
       "    </tr>\n",
       "    <tr>\n",
       "      <th>10679</th>\n",
       "      <td>7229.000000</td>\n",
       "    </tr>\n",
       "    <tr>\n",
       "      <th>10680</th>\n",
       "      <td>12649.000000</td>\n",
       "    </tr>\n",
       "    <tr>\n",
       "      <th>10681</th>\n",
       "      <td>11753.000000</td>\n",
       "    </tr>\n",
       "  </tbody>\n",
       "</table>\n",
       "<p>10682 rows × 1 columns</p>\n",
       "</div>"
      ],
      "text/plain": [
       "              Sales\n",
       "0       5192.333333\n",
       "1       7662.000000\n",
       "2      13882.000000\n",
       "3       6218.000000\n",
       "4      18308.000000\n",
       "...             ...\n",
       "10677   4107.000000\n",
       "10678   4145.000000\n",
       "10679   7229.000000\n",
       "10680  12649.000000\n",
       "10681  11753.000000\n",
       "\n",
       "[10682 rows x 1 columns]"
      ]
     },
     "execution_count": 202,
     "metadata": {},
     "output_type": "execute_result"
    }
   ],
   "source": [
    "y1"
   ]
  },
  {
   "cell_type": "code",
   "execution_count": 211,
   "id": "ba8ad4c3",
   "metadata": {},
   "outputs": [],
   "source": [
    "y1.to_csv('sales.csv')  #saving in a csv format."
   ]
  },
  {
   "cell_type": "markdown",
   "id": "aa8b316d",
   "metadata": {},
   "source": [
    "# Saving the model"
   ]
  },
  {
   "cell_type": "code",
   "execution_count": 210,
   "id": "08c551bb",
   "metadata": {},
   "outputs": [
    {
     "data": {
      "text/plain": [
       "['flightprice.pkl']"
      ]
     },
     "execution_count": 210,
     "metadata": {},
     "output_type": "execute_result"
    }
   ],
   "source": [
    "import joblib\n",
    "joblib.dump(dtr,\"flightprice.pkl\")"
   ]
  }
 ],
 "metadata": {
  "kernelspec": {
   "display_name": "Python 3",
   "language": "python",
   "name": "python3"
  },
  "language_info": {
   "codemirror_mode": {
    "name": "ipython",
    "version": 3
   },
   "file_extension": ".py",
   "mimetype": "text/x-python",
   "name": "python",
   "nbconvert_exporter": "python",
   "pygments_lexer": "ipython3",
   "version": "3.8.8"
  }
 },
 "nbformat": 4,
 "nbformat_minor": 5
}
