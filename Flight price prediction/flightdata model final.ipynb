{
 "cells": [
  {
   "cell_type": "code",
   "execution_count": 1,
   "id": "73f7fb5a",
   "metadata": {},
   "outputs": [],
   "source": [
    "#importing the necessary liberary\n",
    "import pandas as pd\n",
    "import numpy as np\n",
    "import warnings\n",
    "warnings.filterwarnings(\"ignore\")\n",
    "import matplotlib.pyplot as plt\n",
    "import seaborn as sns"
   ]
  },
  {
   "cell_type": "markdown",
   "id": "920574b0",
   "metadata": {},
   "source": [
    "# Importing the Dataset"
   ]
  },
  {
   "cell_type": "code",
   "execution_count": 2,
   "id": "34a4f9ff",
   "metadata": {},
   "outputs": [
    {
     "data": {
      "text/html": [
       "<div>\n",
       "<style scoped>\n",
       "    .dataframe tbody tr th:only-of-type {\n",
       "        vertical-align: middle;\n",
       "    }\n",
       "\n",
       "    .dataframe tbody tr th {\n",
       "        vertical-align: top;\n",
       "    }\n",
       "\n",
       "    .dataframe thead th {\n",
       "        text-align: right;\n",
       "    }\n",
       "</style>\n",
       "<table border=\"1\" class=\"dataframe\">\n",
       "  <thead>\n",
       "    <tr style=\"text-align: right;\">\n",
       "      <th></th>\n",
       "      <th>Unnamed: 0</th>\n",
       "      <th>Airline</th>\n",
       "      <th>Source</th>\n",
       "      <th>Date of Journey</th>\n",
       "      <th>Destination</th>\n",
       "      <th>Departure</th>\n",
       "      <th>Arrival</th>\n",
       "      <th>Duration</th>\n",
       "      <th>Stops</th>\n",
       "      <th>Price</th>\n",
       "    </tr>\n",
       "  </thead>\n",
       "  <tbody>\n",
       "    <tr>\n",
       "      <th>0</th>\n",
       "      <td>0</td>\n",
       "      <td>SpiceJet</td>\n",
       "      <td>Mumbai</td>\n",
       "      <td>8 Mar 2022</td>\n",
       "      <td>Chennai</td>\n",
       "      <td>19:30</td>\n",
       "      <td>21:20</td>\n",
       "      <td>1h 50m</td>\n",
       "      <td>Non Stop</td>\n",
       "      <td>1,888</td>\n",
       "    </tr>\n",
       "    <tr>\n",
       "      <th>1</th>\n",
       "      <td>1</td>\n",
       "      <td>SpiceJet</td>\n",
       "      <td>Mumbai</td>\n",
       "      <td>8 Mar 2022</td>\n",
       "      <td>Chennai</td>\n",
       "      <td>06:00</td>\n",
       "      <td>08:00</td>\n",
       "      <td>2h 00m</td>\n",
       "      <td>Non Stop</td>\n",
       "      <td>1,888</td>\n",
       "    </tr>\n",
       "    <tr>\n",
       "      <th>2</th>\n",
       "      <td>2</td>\n",
       "      <td>Go First</td>\n",
       "      <td>Mumbai</td>\n",
       "      <td>8 Mar 2022</td>\n",
       "      <td>Chennai</td>\n",
       "      <td>05:50</td>\n",
       "      <td>07:40</td>\n",
       "      <td>1h 50m</td>\n",
       "      <td>Non Stop</td>\n",
       "      <td>1,890</td>\n",
       "    </tr>\n",
       "    <tr>\n",
       "      <th>3</th>\n",
       "      <td>3</td>\n",
       "      <td>IndiGo</td>\n",
       "      <td>Mumbai</td>\n",
       "      <td>8 Mar 2022</td>\n",
       "      <td>Chennai</td>\n",
       "      <td>16:25</td>\n",
       "      <td>18:15</td>\n",
       "      <td>1h 50m</td>\n",
       "      <td>Non Stop</td>\n",
       "      <td>1,890</td>\n",
       "    </tr>\n",
       "    <tr>\n",
       "      <th>4</th>\n",
       "      <td>4</td>\n",
       "      <td>IndiGo</td>\n",
       "      <td>Mumbai</td>\n",
       "      <td>8 Mar 2022</td>\n",
       "      <td>Chennai</td>\n",
       "      <td>21:25</td>\n",
       "      <td>23:15</td>\n",
       "      <td>1h 50m</td>\n",
       "      <td>Non Stop</td>\n",
       "      <td>1,890</td>\n",
       "    </tr>\n",
       "    <tr>\n",
       "      <th>...</th>\n",
       "      <td>...</td>\n",
       "      <td>...</td>\n",
       "      <td>...</td>\n",
       "      <td>...</td>\n",
       "      <td>...</td>\n",
       "      <td>...</td>\n",
       "      <td>...</td>\n",
       "      <td>...</td>\n",
       "      <td>...</td>\n",
       "      <td>...</td>\n",
       "    </tr>\n",
       "    <tr>\n",
       "      <th>1571</th>\n",
       "      <td>74</td>\n",
       "      <td>Vistara</td>\n",
       "      <td>New Delhi</td>\n",
       "      <td>24 Feb 2022</td>\n",
       "      <td>Kolkata</td>\n",
       "      <td>09:30</td>\n",
       "      <td>16:55</td>\n",
       "      <td>07 h 25 m</td>\n",
       "      <td>1 stop via Mumbai</td>\n",
       "      <td>4,868</td>\n",
       "    </tr>\n",
       "    <tr>\n",
       "      <th>1572</th>\n",
       "      <td>75</td>\n",
       "      <td>Vistara</td>\n",
       "      <td>New Delhi</td>\n",
       "      <td>24 Feb 2022</td>\n",
       "      <td>Kolkata</td>\n",
       "      <td>14:20</td>\n",
       "      <td>19:55</td>\n",
       "      <td>05 h 35 m</td>\n",
       "      <td>1 stop via Mumbai</td>\n",
       "      <td>4,868</td>\n",
       "    </tr>\n",
       "    <tr>\n",
       "      <th>1573</th>\n",
       "      <td>76</td>\n",
       "      <td>Vistara</td>\n",
       "      <td>New Delhi</td>\n",
       "      <td>24 Feb 2022</td>\n",
       "      <td>Kolkata</td>\n",
       "      <td>12:50</td>\n",
       "      <td>19:55</td>\n",
       "      <td>07 h 05 m</td>\n",
       "      <td>1 stop via Mumbai</td>\n",
       "      <td>4,868</td>\n",
       "    </tr>\n",
       "    <tr>\n",
       "      <th>1574</th>\n",
       "      <td>77</td>\n",
       "      <td>Spicejet</td>\n",
       "      <td>New Delhi</td>\n",
       "      <td>24 Feb 2022</td>\n",
       "      <td>Kolkata</td>\n",
       "      <td>09:25</td>\n",
       "      <td>14:20</td>\n",
       "      <td>04 h 55 m</td>\n",
       "      <td>1 stop via Bagdogra</td>\n",
       "      <td>4,898</td>\n",
       "    </tr>\n",
       "    <tr>\n",
       "      <th>1575</th>\n",
       "      <td>78</td>\n",
       "      <td>Go First</td>\n",
       "      <td>New Delhi</td>\n",
       "      <td>24 Feb 2022</td>\n",
       "      <td>Kolkata</td>\n",
       "      <td>11:10</td>\n",
       "      <td>15:50</td>\n",
       "      <td>04 h 40 m</td>\n",
       "      <td>1 stop via Bagdogra</td>\n",
       "      <td>5,692</td>\n",
       "    </tr>\n",
       "  </tbody>\n",
       "</table>\n",
       "<p>1576 rows × 10 columns</p>\n",
       "</div>"
      ],
      "text/plain": [
       "      Unnamed: 0   Airline     Source Date of Journey Destination Departure  \\\n",
       "0              0  SpiceJet     Mumbai      8 Mar 2022     Chennai     19:30   \n",
       "1              1  SpiceJet     Mumbai      8 Mar 2022     Chennai     06:00   \n",
       "2              2  Go First     Mumbai      8 Mar 2022     Chennai     05:50   \n",
       "3              3    IndiGo     Mumbai      8 Mar 2022     Chennai     16:25   \n",
       "4              4    IndiGo     Mumbai      8 Mar 2022     Chennai     21:25   \n",
       "...          ...       ...        ...             ...         ...       ...   \n",
       "1571          74   Vistara  New Delhi     24 Feb 2022     Kolkata     09:30   \n",
       "1572          75   Vistara  New Delhi     24 Feb 2022     Kolkata     14:20   \n",
       "1573          76   Vistara  New Delhi     24 Feb 2022     Kolkata     12:50   \n",
       "1574          77  Spicejet  New Delhi     24 Feb 2022     Kolkata     09:25   \n",
       "1575          78  Go First  New Delhi     24 Feb 2022     Kolkata     11:10   \n",
       "\n",
       "     Arrival   Duration                Stops  Price  \n",
       "0      21:20     1h 50m             Non Stop  1,888  \n",
       "1      08:00     2h 00m             Non Stop  1,888  \n",
       "2      07:40     1h 50m             Non Stop  1,890  \n",
       "3      18:15     1h 50m             Non Stop  1,890  \n",
       "4      23:15     1h 50m             Non Stop  1,890  \n",
       "...      ...        ...                  ...    ...  \n",
       "1571   16:55  07 h 25 m    1 stop via Mumbai  4,868  \n",
       "1572   19:55  05 h 35 m    1 stop via Mumbai  4,868  \n",
       "1573   19:55  07 h 05 m    1 stop via Mumbai  4,868  \n",
       "1574   14:20  04 h 55 m  1 stop via Bagdogra  4,898  \n",
       "1575   15:50  04 h 40 m  1 stop via Bagdogra  5,692  \n",
       "\n",
       "[1576 rows x 10 columns]"
      ]
     },
     "execution_count": 2,
     "metadata": {},
     "output_type": "execute_result"
    }
   ],
   "source": [
    "df=pd.read_csv(\"flightdatafinal1111.csv\")\n",
    "df"
   ]
  },
  {
   "cell_type": "markdown",
   "id": "1513ede3",
   "metadata": {},
   "source": [
    "The above dataset is the data of the Domestic flight fares collected from one of the most leading websites \"www.yatra.com\" and www.makemytrip.com\" using the various webscrapping tools like beautifulsoup and selenium. The dataset consists of 1576 rows and around 9 features are scrapped from the above mnetioned site.\n",
    "Features like Source, Destination, Duration, Date of journey Number of stops and price are collected. As we are supposed to predict the fares/price of the flight tickets, so price will be our output variable and features like Source, Destination, duration, Arrival time, Departure time, number of stops will be our independent features which will help us in predicting the price of the flights.\n"
   ]
  },
  {
   "cell_type": "markdown",
   "id": "7d5048d5",
   "metadata": {},
   "source": [
    "# Data Preprocessing/Data Cleaning"
   ]
  },
  {
   "cell_type": "code",
   "execution_count": 3,
   "id": "aa4be739",
   "metadata": {},
   "outputs": [],
   "source": [
    "df.drop_duplicates(inplace=True) #droping the duplicate rows from the dataset"
   ]
  },
  {
   "cell_type": "code",
   "execution_count": 4,
   "id": "7c6272b3",
   "metadata": {},
   "outputs": [
    {
     "data": {
      "text/html": [
       "<div>\n",
       "<style scoped>\n",
       "    .dataframe tbody tr th:only-of-type {\n",
       "        vertical-align: middle;\n",
       "    }\n",
       "\n",
       "    .dataframe tbody tr th {\n",
       "        vertical-align: top;\n",
       "    }\n",
       "\n",
       "    .dataframe thead th {\n",
       "        text-align: right;\n",
       "    }\n",
       "</style>\n",
       "<table border=\"1\" class=\"dataframe\">\n",
       "  <thead>\n",
       "    <tr style=\"text-align: right;\">\n",
       "      <th></th>\n",
       "      <th>Unnamed: 0</th>\n",
       "      <th>Airline</th>\n",
       "      <th>Source</th>\n",
       "      <th>Date of Journey</th>\n",
       "      <th>Destination</th>\n",
       "      <th>Departure</th>\n",
       "      <th>Arrival</th>\n",
       "      <th>Duration</th>\n",
       "      <th>Stops</th>\n",
       "      <th>Price</th>\n",
       "    </tr>\n",
       "  </thead>\n",
       "  <tbody>\n",
       "    <tr>\n",
       "      <th>0</th>\n",
       "      <td>0</td>\n",
       "      <td>SpiceJet</td>\n",
       "      <td>Mumbai</td>\n",
       "      <td>8 Mar 2022</td>\n",
       "      <td>Chennai</td>\n",
       "      <td>19:30</td>\n",
       "      <td>21:20</td>\n",
       "      <td>1h 50m</td>\n",
       "      <td>Non Stop</td>\n",
       "      <td>1,888</td>\n",
       "    </tr>\n",
       "    <tr>\n",
       "      <th>1</th>\n",
       "      <td>1</td>\n",
       "      <td>SpiceJet</td>\n",
       "      <td>Mumbai</td>\n",
       "      <td>8 Mar 2022</td>\n",
       "      <td>Chennai</td>\n",
       "      <td>06:00</td>\n",
       "      <td>08:00</td>\n",
       "      <td>2h 00m</td>\n",
       "      <td>Non Stop</td>\n",
       "      <td>1,888</td>\n",
       "    </tr>\n",
       "    <tr>\n",
       "      <th>2</th>\n",
       "      <td>2</td>\n",
       "      <td>Go First</td>\n",
       "      <td>Mumbai</td>\n",
       "      <td>8 Mar 2022</td>\n",
       "      <td>Chennai</td>\n",
       "      <td>05:50</td>\n",
       "      <td>07:40</td>\n",
       "      <td>1h 50m</td>\n",
       "      <td>Non Stop</td>\n",
       "      <td>1,890</td>\n",
       "    </tr>\n",
       "    <tr>\n",
       "      <th>3</th>\n",
       "      <td>3</td>\n",
       "      <td>IndiGo</td>\n",
       "      <td>Mumbai</td>\n",
       "      <td>8 Mar 2022</td>\n",
       "      <td>Chennai</td>\n",
       "      <td>16:25</td>\n",
       "      <td>18:15</td>\n",
       "      <td>1h 50m</td>\n",
       "      <td>Non Stop</td>\n",
       "      <td>1,890</td>\n",
       "    </tr>\n",
       "    <tr>\n",
       "      <th>4</th>\n",
       "      <td>4</td>\n",
       "      <td>IndiGo</td>\n",
       "      <td>Mumbai</td>\n",
       "      <td>8 Mar 2022</td>\n",
       "      <td>Chennai</td>\n",
       "      <td>21:25</td>\n",
       "      <td>23:15</td>\n",
       "      <td>1h 50m</td>\n",
       "      <td>Non Stop</td>\n",
       "      <td>1,890</td>\n",
       "    </tr>\n",
       "    <tr>\n",
       "      <th>...</th>\n",
       "      <td>...</td>\n",
       "      <td>...</td>\n",
       "      <td>...</td>\n",
       "      <td>...</td>\n",
       "      <td>...</td>\n",
       "      <td>...</td>\n",
       "      <td>...</td>\n",
       "      <td>...</td>\n",
       "      <td>...</td>\n",
       "      <td>...</td>\n",
       "    </tr>\n",
       "    <tr>\n",
       "      <th>1571</th>\n",
       "      <td>74</td>\n",
       "      <td>Vistara</td>\n",
       "      <td>New Delhi</td>\n",
       "      <td>24 Feb 2022</td>\n",
       "      <td>Kolkata</td>\n",
       "      <td>09:30</td>\n",
       "      <td>16:55</td>\n",
       "      <td>07 h 25 m</td>\n",
       "      <td>1 stop via Mumbai</td>\n",
       "      <td>4,868</td>\n",
       "    </tr>\n",
       "    <tr>\n",
       "      <th>1572</th>\n",
       "      <td>75</td>\n",
       "      <td>Vistara</td>\n",
       "      <td>New Delhi</td>\n",
       "      <td>24 Feb 2022</td>\n",
       "      <td>Kolkata</td>\n",
       "      <td>14:20</td>\n",
       "      <td>19:55</td>\n",
       "      <td>05 h 35 m</td>\n",
       "      <td>1 stop via Mumbai</td>\n",
       "      <td>4,868</td>\n",
       "    </tr>\n",
       "    <tr>\n",
       "      <th>1573</th>\n",
       "      <td>76</td>\n",
       "      <td>Vistara</td>\n",
       "      <td>New Delhi</td>\n",
       "      <td>24 Feb 2022</td>\n",
       "      <td>Kolkata</td>\n",
       "      <td>12:50</td>\n",
       "      <td>19:55</td>\n",
       "      <td>07 h 05 m</td>\n",
       "      <td>1 stop via Mumbai</td>\n",
       "      <td>4,868</td>\n",
       "    </tr>\n",
       "    <tr>\n",
       "      <th>1574</th>\n",
       "      <td>77</td>\n",
       "      <td>Spicejet</td>\n",
       "      <td>New Delhi</td>\n",
       "      <td>24 Feb 2022</td>\n",
       "      <td>Kolkata</td>\n",
       "      <td>09:25</td>\n",
       "      <td>14:20</td>\n",
       "      <td>04 h 55 m</td>\n",
       "      <td>1 stop via Bagdogra</td>\n",
       "      <td>4,898</td>\n",
       "    </tr>\n",
       "    <tr>\n",
       "      <th>1575</th>\n",
       "      <td>78</td>\n",
       "      <td>Go First</td>\n",
       "      <td>New Delhi</td>\n",
       "      <td>24 Feb 2022</td>\n",
       "      <td>Kolkata</td>\n",
       "      <td>11:10</td>\n",
       "      <td>15:50</td>\n",
       "      <td>04 h 40 m</td>\n",
       "      <td>1 stop via Bagdogra</td>\n",
       "      <td>5,692</td>\n",
       "    </tr>\n",
       "  </tbody>\n",
       "</table>\n",
       "<p>1576 rows × 10 columns</p>\n",
       "</div>"
      ],
      "text/plain": [
       "      Unnamed: 0   Airline     Source Date of Journey Destination Departure  \\\n",
       "0              0  SpiceJet     Mumbai      8 Mar 2022     Chennai     19:30   \n",
       "1              1  SpiceJet     Mumbai      8 Mar 2022     Chennai     06:00   \n",
       "2              2  Go First     Mumbai      8 Mar 2022     Chennai     05:50   \n",
       "3              3    IndiGo     Mumbai      8 Mar 2022     Chennai     16:25   \n",
       "4              4    IndiGo     Mumbai      8 Mar 2022     Chennai     21:25   \n",
       "...          ...       ...        ...             ...         ...       ...   \n",
       "1571          74   Vistara  New Delhi     24 Feb 2022     Kolkata     09:30   \n",
       "1572          75   Vistara  New Delhi     24 Feb 2022     Kolkata     14:20   \n",
       "1573          76   Vistara  New Delhi     24 Feb 2022     Kolkata     12:50   \n",
       "1574          77  Spicejet  New Delhi     24 Feb 2022     Kolkata     09:25   \n",
       "1575          78  Go First  New Delhi     24 Feb 2022     Kolkata     11:10   \n",
       "\n",
       "     Arrival   Duration                Stops  Price  \n",
       "0      21:20     1h 50m             Non Stop  1,888  \n",
       "1      08:00     2h 00m             Non Stop  1,888  \n",
       "2      07:40     1h 50m             Non Stop  1,890  \n",
       "3      18:15     1h 50m             Non Stop  1,890  \n",
       "4      23:15     1h 50m             Non Stop  1,890  \n",
       "...      ...        ...                  ...    ...  \n",
       "1571   16:55  07 h 25 m    1 stop via Mumbai  4,868  \n",
       "1572   19:55  05 h 35 m    1 stop via Mumbai  4,868  \n",
       "1573   19:55  07 h 05 m    1 stop via Mumbai  4,868  \n",
       "1574   14:20  04 h 55 m  1 stop via Bagdogra  4,898  \n",
       "1575   15:50  04 h 40 m  1 stop via Bagdogra  5,692  \n",
       "\n",
       "[1576 rows x 10 columns]"
      ]
     },
     "execution_count": 4,
     "metadata": {},
     "output_type": "execute_result"
    }
   ],
   "source": [
    "df"
   ]
  },
  {
   "cell_type": "code",
   "execution_count": 5,
   "id": "1ff7ff64",
   "metadata": {},
   "outputs": [],
   "source": [
    "df.drop('Unnamed: 0', axis=1, inplace=True) #droping the unnamed column as we already have index."
   ]
  },
  {
   "cell_type": "code",
   "execution_count": 6,
   "id": "a3913500",
   "metadata": {},
   "outputs": [
    {
     "data": {
      "text/html": [
       "<div>\n",
       "<style scoped>\n",
       "    .dataframe tbody tr th:only-of-type {\n",
       "        vertical-align: middle;\n",
       "    }\n",
       "\n",
       "    .dataframe tbody tr th {\n",
       "        vertical-align: top;\n",
       "    }\n",
       "\n",
       "    .dataframe thead th {\n",
       "        text-align: right;\n",
       "    }\n",
       "</style>\n",
       "<table border=\"1\" class=\"dataframe\">\n",
       "  <thead>\n",
       "    <tr style=\"text-align: right;\">\n",
       "      <th></th>\n",
       "      <th>Airline</th>\n",
       "      <th>Source</th>\n",
       "      <th>Date of Journey</th>\n",
       "      <th>Destination</th>\n",
       "      <th>Departure</th>\n",
       "      <th>Arrival</th>\n",
       "      <th>Duration</th>\n",
       "      <th>Stops</th>\n",
       "      <th>Price</th>\n",
       "    </tr>\n",
       "  </thead>\n",
       "  <tbody>\n",
       "    <tr>\n",
       "      <th>0</th>\n",
       "      <td>SpiceJet</td>\n",
       "      <td>Mumbai</td>\n",
       "      <td>8 Mar 2022</td>\n",
       "      <td>Chennai</td>\n",
       "      <td>19:30</td>\n",
       "      <td>21:20</td>\n",
       "      <td>1h 50m</td>\n",
       "      <td>Non Stop</td>\n",
       "      <td>1,888</td>\n",
       "    </tr>\n",
       "    <tr>\n",
       "      <th>1</th>\n",
       "      <td>SpiceJet</td>\n",
       "      <td>Mumbai</td>\n",
       "      <td>8 Mar 2022</td>\n",
       "      <td>Chennai</td>\n",
       "      <td>06:00</td>\n",
       "      <td>08:00</td>\n",
       "      <td>2h 00m</td>\n",
       "      <td>Non Stop</td>\n",
       "      <td>1,888</td>\n",
       "    </tr>\n",
       "    <tr>\n",
       "      <th>2</th>\n",
       "      <td>Go First</td>\n",
       "      <td>Mumbai</td>\n",
       "      <td>8 Mar 2022</td>\n",
       "      <td>Chennai</td>\n",
       "      <td>05:50</td>\n",
       "      <td>07:40</td>\n",
       "      <td>1h 50m</td>\n",
       "      <td>Non Stop</td>\n",
       "      <td>1,890</td>\n",
       "    </tr>\n",
       "    <tr>\n",
       "      <th>3</th>\n",
       "      <td>IndiGo</td>\n",
       "      <td>Mumbai</td>\n",
       "      <td>8 Mar 2022</td>\n",
       "      <td>Chennai</td>\n",
       "      <td>16:25</td>\n",
       "      <td>18:15</td>\n",
       "      <td>1h 50m</td>\n",
       "      <td>Non Stop</td>\n",
       "      <td>1,890</td>\n",
       "    </tr>\n",
       "    <tr>\n",
       "      <th>4</th>\n",
       "      <td>IndiGo</td>\n",
       "      <td>Mumbai</td>\n",
       "      <td>8 Mar 2022</td>\n",
       "      <td>Chennai</td>\n",
       "      <td>21:25</td>\n",
       "      <td>23:15</td>\n",
       "      <td>1h 50m</td>\n",
       "      <td>Non Stop</td>\n",
       "      <td>1,890</td>\n",
       "    </tr>\n",
       "    <tr>\n",
       "      <th>...</th>\n",
       "      <td>...</td>\n",
       "      <td>...</td>\n",
       "      <td>...</td>\n",
       "      <td>...</td>\n",
       "      <td>...</td>\n",
       "      <td>...</td>\n",
       "      <td>...</td>\n",
       "      <td>...</td>\n",
       "      <td>...</td>\n",
       "    </tr>\n",
       "    <tr>\n",
       "      <th>1571</th>\n",
       "      <td>Vistara</td>\n",
       "      <td>New Delhi</td>\n",
       "      <td>24 Feb 2022</td>\n",
       "      <td>Kolkata</td>\n",
       "      <td>09:30</td>\n",
       "      <td>16:55</td>\n",
       "      <td>07 h 25 m</td>\n",
       "      <td>1 stop via Mumbai</td>\n",
       "      <td>4,868</td>\n",
       "    </tr>\n",
       "    <tr>\n",
       "      <th>1572</th>\n",
       "      <td>Vistara</td>\n",
       "      <td>New Delhi</td>\n",
       "      <td>24 Feb 2022</td>\n",
       "      <td>Kolkata</td>\n",
       "      <td>14:20</td>\n",
       "      <td>19:55</td>\n",
       "      <td>05 h 35 m</td>\n",
       "      <td>1 stop via Mumbai</td>\n",
       "      <td>4,868</td>\n",
       "    </tr>\n",
       "    <tr>\n",
       "      <th>1573</th>\n",
       "      <td>Vistara</td>\n",
       "      <td>New Delhi</td>\n",
       "      <td>24 Feb 2022</td>\n",
       "      <td>Kolkata</td>\n",
       "      <td>12:50</td>\n",
       "      <td>19:55</td>\n",
       "      <td>07 h 05 m</td>\n",
       "      <td>1 stop via Mumbai</td>\n",
       "      <td>4,868</td>\n",
       "    </tr>\n",
       "    <tr>\n",
       "      <th>1574</th>\n",
       "      <td>Spicejet</td>\n",
       "      <td>New Delhi</td>\n",
       "      <td>24 Feb 2022</td>\n",
       "      <td>Kolkata</td>\n",
       "      <td>09:25</td>\n",
       "      <td>14:20</td>\n",
       "      <td>04 h 55 m</td>\n",
       "      <td>1 stop via Bagdogra</td>\n",
       "      <td>4,898</td>\n",
       "    </tr>\n",
       "    <tr>\n",
       "      <th>1575</th>\n",
       "      <td>Go First</td>\n",
       "      <td>New Delhi</td>\n",
       "      <td>24 Feb 2022</td>\n",
       "      <td>Kolkata</td>\n",
       "      <td>11:10</td>\n",
       "      <td>15:50</td>\n",
       "      <td>04 h 40 m</td>\n",
       "      <td>1 stop via Bagdogra</td>\n",
       "      <td>5,692</td>\n",
       "    </tr>\n",
       "  </tbody>\n",
       "</table>\n",
       "<p>1576 rows × 9 columns</p>\n",
       "</div>"
      ],
      "text/plain": [
       "       Airline     Source Date of Journey Destination Departure Arrival  \\\n",
       "0     SpiceJet     Mumbai      8 Mar 2022     Chennai     19:30   21:20   \n",
       "1     SpiceJet     Mumbai      8 Mar 2022     Chennai     06:00   08:00   \n",
       "2     Go First     Mumbai      8 Mar 2022     Chennai     05:50   07:40   \n",
       "3       IndiGo     Mumbai      8 Mar 2022     Chennai     16:25   18:15   \n",
       "4       IndiGo     Mumbai      8 Mar 2022     Chennai     21:25   23:15   \n",
       "...        ...        ...             ...         ...       ...     ...   \n",
       "1571   Vistara  New Delhi     24 Feb 2022     Kolkata     09:30   16:55   \n",
       "1572   Vistara  New Delhi     24 Feb 2022     Kolkata     14:20   19:55   \n",
       "1573   Vistara  New Delhi     24 Feb 2022     Kolkata     12:50   19:55   \n",
       "1574  Spicejet  New Delhi     24 Feb 2022     Kolkata     09:25   14:20   \n",
       "1575  Go First  New Delhi     24 Feb 2022     Kolkata     11:10   15:50   \n",
       "\n",
       "       Duration                Stops  Price  \n",
       "0        1h 50m             Non Stop  1,888  \n",
       "1        2h 00m             Non Stop  1,888  \n",
       "2        1h 50m             Non Stop  1,890  \n",
       "3        1h 50m             Non Stop  1,890  \n",
       "4        1h 50m             Non Stop  1,890  \n",
       "...         ...                  ...    ...  \n",
       "1571  07 h 25 m    1 stop via Mumbai  4,868  \n",
       "1572  05 h 35 m    1 stop via Mumbai  4,868  \n",
       "1573  07 h 05 m    1 stop via Mumbai  4,868  \n",
       "1574  04 h 55 m  1 stop via Bagdogra  4,898  \n",
       "1575  04 h 40 m  1 stop via Bagdogra  5,692  \n",
       "\n",
       "[1576 rows x 9 columns]"
      ]
     },
     "execution_count": 6,
     "metadata": {},
     "output_type": "execute_result"
    }
   ],
   "source": [
    "df"
   ]
  },
  {
   "cell_type": "code",
   "execution_count": 7,
   "id": "b6d7f2b7",
   "metadata": {},
   "outputs": [
    {
     "name": "stdout",
     "output_type": "stream",
     "text": [
      "<class 'pandas.core.frame.DataFrame'>\n",
      "Int64Index: 1576 entries, 0 to 1575\n",
      "Data columns (total 9 columns):\n",
      " #   Column           Non-Null Count  Dtype \n",
      "---  ------           --------------  ----- \n",
      " 0   Airline          1576 non-null   object\n",
      " 1   Source           1576 non-null   object\n",
      " 2   Date of Journey  1576 non-null   object\n",
      " 3   Destination      1576 non-null   object\n",
      " 4   Departure        1576 non-null   object\n",
      " 5   Arrival          1576 non-null   object\n",
      " 6   Duration         1576 non-null   object\n",
      " 7   Stops            1576 non-null   object\n",
      " 8   Price            1576 non-null   object\n",
      "dtypes: object(9)\n",
      "memory usage: 123.1+ KB\n"
     ]
    }
   ],
   "source": [
    "df.info()"
   ]
  },
  {
   "cell_type": "markdown",
   "id": "a2c7ae44",
   "metadata": {},
   "source": [
    "info() gives very importnat information regarding the dataset i.e it tells us if there are any null values and the data types of each row. As we can see above non of the row carries null values."
   ]
  },
  {
   "cell_type": "code",
   "execution_count": 8,
   "id": "cf270e11",
   "metadata": {},
   "outputs": [
    {
     "data": {
      "text/plain": [
       "Airline            object\n",
       "Source             object\n",
       "Date of Journey    object\n",
       "Destination        object\n",
       "Departure          object\n",
       "Arrival            object\n",
       "Duration           object\n",
       "Stops              object\n",
       "Price              object\n",
       "dtype: object"
      ]
     },
     "execution_count": 8,
     "metadata": {},
     "output_type": "execute_result"
    }
   ],
   "source": [
    "df.dtypes  #checking the data types of each row"
   ]
  },
  {
   "cell_type": "code",
   "execution_count": 9,
   "id": "e47962f3",
   "metadata": {},
   "outputs": [],
   "source": [
    "df.Price = df.Price.str.replace(',', '').astype(int)"
   ]
  },
  {
   "cell_type": "markdown",
   "id": "4b2f70db",
   "metadata": {},
   "source": [
    "As the price is the output variable and its data type should of integer type so coverting the data type from object to integer."
   ]
  },
  {
   "cell_type": "code",
   "execution_count": 10,
   "id": "1263f4ff",
   "metadata": {},
   "outputs": [
    {
     "data": {
      "text/plain": [
       "Airline            object\n",
       "Source             object\n",
       "Date of Journey    object\n",
       "Destination        object\n",
       "Departure          object\n",
       "Arrival            object\n",
       "Duration           object\n",
       "Stops              object\n",
       "Price               int32\n",
       "dtype: object"
      ]
     },
     "execution_count": 10,
     "metadata": {},
     "output_type": "execute_result"
    }
   ],
   "source": [
    "df.dtypes"
   ]
  },
  {
   "cell_type": "code",
   "execution_count": 11,
   "id": "725255f0",
   "metadata": {},
   "outputs": [
    {
     "data": {
      "text/html": [
       "<div>\n",
       "<style scoped>\n",
       "    .dataframe tbody tr th:only-of-type {\n",
       "        vertical-align: middle;\n",
       "    }\n",
       "\n",
       "    .dataframe tbody tr th {\n",
       "        vertical-align: top;\n",
       "    }\n",
       "\n",
       "    .dataframe thead th {\n",
       "        text-align: right;\n",
       "    }\n",
       "</style>\n",
       "<table border=\"1\" class=\"dataframe\">\n",
       "  <thead>\n",
       "    <tr style=\"text-align: right;\">\n",
       "      <th></th>\n",
       "      <th>Airline</th>\n",
       "      <th>Source</th>\n",
       "      <th>Date of Journey</th>\n",
       "      <th>Destination</th>\n",
       "      <th>Departure</th>\n",
       "      <th>Arrival</th>\n",
       "      <th>Duration</th>\n",
       "      <th>Stops</th>\n",
       "      <th>Price</th>\n",
       "    </tr>\n",
       "  </thead>\n",
       "  <tbody>\n",
       "    <tr>\n",
       "      <th>0</th>\n",
       "      <td>SpiceJet</td>\n",
       "      <td>Mumbai</td>\n",
       "      <td>8 Mar 2022</td>\n",
       "      <td>Chennai</td>\n",
       "      <td>19:30</td>\n",
       "      <td>21:20</td>\n",
       "      <td>1h 50m</td>\n",
       "      <td>Non Stop</td>\n",
       "      <td>1888</td>\n",
       "    </tr>\n",
       "    <tr>\n",
       "      <th>1</th>\n",
       "      <td>SpiceJet</td>\n",
       "      <td>Mumbai</td>\n",
       "      <td>8 Mar 2022</td>\n",
       "      <td>Chennai</td>\n",
       "      <td>06:00</td>\n",
       "      <td>08:00</td>\n",
       "      <td>2h 00m</td>\n",
       "      <td>Non Stop</td>\n",
       "      <td>1888</td>\n",
       "    </tr>\n",
       "    <tr>\n",
       "      <th>2</th>\n",
       "      <td>Go First</td>\n",
       "      <td>Mumbai</td>\n",
       "      <td>8 Mar 2022</td>\n",
       "      <td>Chennai</td>\n",
       "      <td>05:50</td>\n",
       "      <td>07:40</td>\n",
       "      <td>1h 50m</td>\n",
       "      <td>Non Stop</td>\n",
       "      <td>1890</td>\n",
       "    </tr>\n",
       "    <tr>\n",
       "      <th>3</th>\n",
       "      <td>IndiGo</td>\n",
       "      <td>Mumbai</td>\n",
       "      <td>8 Mar 2022</td>\n",
       "      <td>Chennai</td>\n",
       "      <td>16:25</td>\n",
       "      <td>18:15</td>\n",
       "      <td>1h 50m</td>\n",
       "      <td>Non Stop</td>\n",
       "      <td>1890</td>\n",
       "    </tr>\n",
       "    <tr>\n",
       "      <th>4</th>\n",
       "      <td>IndiGo</td>\n",
       "      <td>Mumbai</td>\n",
       "      <td>8 Mar 2022</td>\n",
       "      <td>Chennai</td>\n",
       "      <td>21:25</td>\n",
       "      <td>23:15</td>\n",
       "      <td>1h 50m</td>\n",
       "      <td>Non Stop</td>\n",
       "      <td>1890</td>\n",
       "    </tr>\n",
       "  </tbody>\n",
       "</table>\n",
       "</div>"
      ],
      "text/plain": [
       "    Airline  Source Date of Journey Destination Departure Arrival Duration  \\\n",
       "0  SpiceJet  Mumbai      8 Mar 2022     Chennai     19:30   21:20   1h 50m   \n",
       "1  SpiceJet  Mumbai      8 Mar 2022     Chennai     06:00   08:00   2h 00m   \n",
       "2  Go First  Mumbai      8 Mar 2022     Chennai     05:50   07:40   1h 50m   \n",
       "3    IndiGo  Mumbai      8 Mar 2022     Chennai     16:25   18:15   1h 50m   \n",
       "4    IndiGo  Mumbai      8 Mar 2022     Chennai     21:25   23:15   1h 50m   \n",
       "\n",
       "      Stops  Price  \n",
       "0  Non Stop   1888  \n",
       "1  Non Stop   1888  \n",
       "2  Non Stop   1890  \n",
       "3  Non Stop   1890  \n",
       "4  Non Stop   1890  "
      ]
     },
     "execution_count": 11,
     "metadata": {},
     "output_type": "execute_result"
    }
   ],
   "source": [
    "df.head()"
   ]
  },
  {
   "cell_type": "code",
   "execution_count": 12,
   "id": "e5a51ba1",
   "metadata": {},
   "outputs": [],
   "source": [
    "df['stops'],df['place'] = df['Stops'].str.split('via',2).str\n",
    "df.drop('Stops',axis=1,inplace=True)"
   ]
  },
  {
   "cell_type": "markdown",
   "id": "6124dc02",
   "metadata": {},
   "source": [
    "As we have collected data from 2 different sites which is yatra and make my trip we can see that there is huge difference in both the sites of potraying the data. Number of stops column carry information of the layover and the route the flight is going to take before reaching the final destination. so seperating the number stops and the route."
   ]
  },
  {
   "cell_type": "code",
   "execution_count": 13,
   "id": "a8effbbd",
   "metadata": {},
   "outputs": [
    {
     "data": {
      "text/html": [
       "<div>\n",
       "<style scoped>\n",
       "    .dataframe tbody tr th:only-of-type {\n",
       "        vertical-align: middle;\n",
       "    }\n",
       "\n",
       "    .dataframe tbody tr th {\n",
       "        vertical-align: top;\n",
       "    }\n",
       "\n",
       "    .dataframe thead th {\n",
       "        text-align: right;\n",
       "    }\n",
       "</style>\n",
       "<table border=\"1\" class=\"dataframe\">\n",
       "  <thead>\n",
       "    <tr style=\"text-align: right;\">\n",
       "      <th></th>\n",
       "      <th>Airline</th>\n",
       "      <th>Source</th>\n",
       "      <th>Date of Journey</th>\n",
       "      <th>Destination</th>\n",
       "      <th>Departure</th>\n",
       "      <th>Arrival</th>\n",
       "      <th>Duration</th>\n",
       "      <th>Price</th>\n",
       "      <th>stops</th>\n",
       "      <th>place</th>\n",
       "    </tr>\n",
       "  </thead>\n",
       "  <tbody>\n",
       "    <tr>\n",
       "      <th>0</th>\n",
       "      <td>SpiceJet</td>\n",
       "      <td>Mumbai</td>\n",
       "      <td>8 Mar 2022</td>\n",
       "      <td>Chennai</td>\n",
       "      <td>19:30</td>\n",
       "      <td>21:20</td>\n",
       "      <td>1h 50m</td>\n",
       "      <td>1888</td>\n",
       "      <td>Non Stop</td>\n",
       "      <td>NaN</td>\n",
       "    </tr>\n",
       "    <tr>\n",
       "      <th>1</th>\n",
       "      <td>SpiceJet</td>\n",
       "      <td>Mumbai</td>\n",
       "      <td>8 Mar 2022</td>\n",
       "      <td>Chennai</td>\n",
       "      <td>06:00</td>\n",
       "      <td>08:00</td>\n",
       "      <td>2h 00m</td>\n",
       "      <td>1888</td>\n",
       "      <td>Non Stop</td>\n",
       "      <td>NaN</td>\n",
       "    </tr>\n",
       "    <tr>\n",
       "      <th>2</th>\n",
       "      <td>Go First</td>\n",
       "      <td>Mumbai</td>\n",
       "      <td>8 Mar 2022</td>\n",
       "      <td>Chennai</td>\n",
       "      <td>05:50</td>\n",
       "      <td>07:40</td>\n",
       "      <td>1h 50m</td>\n",
       "      <td>1890</td>\n",
       "      <td>Non Stop</td>\n",
       "      <td>NaN</td>\n",
       "    </tr>\n",
       "    <tr>\n",
       "      <th>3</th>\n",
       "      <td>IndiGo</td>\n",
       "      <td>Mumbai</td>\n",
       "      <td>8 Mar 2022</td>\n",
       "      <td>Chennai</td>\n",
       "      <td>16:25</td>\n",
       "      <td>18:15</td>\n",
       "      <td>1h 50m</td>\n",
       "      <td>1890</td>\n",
       "      <td>Non Stop</td>\n",
       "      <td>NaN</td>\n",
       "    </tr>\n",
       "    <tr>\n",
       "      <th>4</th>\n",
       "      <td>IndiGo</td>\n",
       "      <td>Mumbai</td>\n",
       "      <td>8 Mar 2022</td>\n",
       "      <td>Chennai</td>\n",
       "      <td>21:25</td>\n",
       "      <td>23:15</td>\n",
       "      <td>1h 50m</td>\n",
       "      <td>1890</td>\n",
       "      <td>Non Stop</td>\n",
       "      <td>NaN</td>\n",
       "    </tr>\n",
       "    <tr>\n",
       "      <th>...</th>\n",
       "      <td>...</td>\n",
       "      <td>...</td>\n",
       "      <td>...</td>\n",
       "      <td>...</td>\n",
       "      <td>...</td>\n",
       "      <td>...</td>\n",
       "      <td>...</td>\n",
       "      <td>...</td>\n",
       "      <td>...</td>\n",
       "      <td>...</td>\n",
       "    </tr>\n",
       "    <tr>\n",
       "      <th>1571</th>\n",
       "      <td>Vistara</td>\n",
       "      <td>New Delhi</td>\n",
       "      <td>24 Feb 2022</td>\n",
       "      <td>Kolkata</td>\n",
       "      <td>09:30</td>\n",
       "      <td>16:55</td>\n",
       "      <td>07 h 25 m</td>\n",
       "      <td>4868</td>\n",
       "      <td>1 stop</td>\n",
       "      <td>Mumbai</td>\n",
       "    </tr>\n",
       "    <tr>\n",
       "      <th>1572</th>\n",
       "      <td>Vistara</td>\n",
       "      <td>New Delhi</td>\n",
       "      <td>24 Feb 2022</td>\n",
       "      <td>Kolkata</td>\n",
       "      <td>14:20</td>\n",
       "      <td>19:55</td>\n",
       "      <td>05 h 35 m</td>\n",
       "      <td>4868</td>\n",
       "      <td>1 stop</td>\n",
       "      <td>Mumbai</td>\n",
       "    </tr>\n",
       "    <tr>\n",
       "      <th>1573</th>\n",
       "      <td>Vistara</td>\n",
       "      <td>New Delhi</td>\n",
       "      <td>24 Feb 2022</td>\n",
       "      <td>Kolkata</td>\n",
       "      <td>12:50</td>\n",
       "      <td>19:55</td>\n",
       "      <td>07 h 05 m</td>\n",
       "      <td>4868</td>\n",
       "      <td>1 stop</td>\n",
       "      <td>Mumbai</td>\n",
       "    </tr>\n",
       "    <tr>\n",
       "      <th>1574</th>\n",
       "      <td>Spicejet</td>\n",
       "      <td>New Delhi</td>\n",
       "      <td>24 Feb 2022</td>\n",
       "      <td>Kolkata</td>\n",
       "      <td>09:25</td>\n",
       "      <td>14:20</td>\n",
       "      <td>04 h 55 m</td>\n",
       "      <td>4898</td>\n",
       "      <td>1 stop</td>\n",
       "      <td>Bagdogra</td>\n",
       "    </tr>\n",
       "    <tr>\n",
       "      <th>1575</th>\n",
       "      <td>Go First</td>\n",
       "      <td>New Delhi</td>\n",
       "      <td>24 Feb 2022</td>\n",
       "      <td>Kolkata</td>\n",
       "      <td>11:10</td>\n",
       "      <td>15:50</td>\n",
       "      <td>04 h 40 m</td>\n",
       "      <td>5692</td>\n",
       "      <td>1 stop</td>\n",
       "      <td>Bagdogra</td>\n",
       "    </tr>\n",
       "  </tbody>\n",
       "</table>\n",
       "<p>1576 rows × 10 columns</p>\n",
       "</div>"
      ],
      "text/plain": [
       "       Airline     Source Date of Journey Destination Departure Arrival  \\\n",
       "0     SpiceJet     Mumbai      8 Mar 2022     Chennai     19:30   21:20   \n",
       "1     SpiceJet     Mumbai      8 Mar 2022     Chennai     06:00   08:00   \n",
       "2     Go First     Mumbai      8 Mar 2022     Chennai     05:50   07:40   \n",
       "3       IndiGo     Mumbai      8 Mar 2022     Chennai     16:25   18:15   \n",
       "4       IndiGo     Mumbai      8 Mar 2022     Chennai     21:25   23:15   \n",
       "...        ...        ...             ...         ...       ...     ...   \n",
       "1571   Vistara  New Delhi     24 Feb 2022     Kolkata     09:30   16:55   \n",
       "1572   Vistara  New Delhi     24 Feb 2022     Kolkata     14:20   19:55   \n",
       "1573   Vistara  New Delhi     24 Feb 2022     Kolkata     12:50   19:55   \n",
       "1574  Spicejet  New Delhi     24 Feb 2022     Kolkata     09:25   14:20   \n",
       "1575  Go First  New Delhi     24 Feb 2022     Kolkata     11:10   15:50   \n",
       "\n",
       "       Duration  Price     stops      place  \n",
       "0        1h 50m   1888  Non Stop        NaN  \n",
       "1        2h 00m   1888  Non Stop        NaN  \n",
       "2        1h 50m   1890  Non Stop        NaN  \n",
       "3        1h 50m   1890  Non Stop        NaN  \n",
       "4        1h 50m   1890  Non Stop        NaN  \n",
       "...         ...    ...       ...        ...  \n",
       "1571  07 h 25 m   4868   1 stop      Mumbai  \n",
       "1572  05 h 35 m   4868   1 stop      Mumbai  \n",
       "1573  07 h 05 m   4868   1 stop      Mumbai  \n",
       "1574  04 h 55 m   4898   1 stop    Bagdogra  \n",
       "1575  04 h 40 m   5692   1 stop    Bagdogra  \n",
       "\n",
       "[1576 rows x 10 columns]"
      ]
     },
     "execution_count": 13,
     "metadata": {},
     "output_type": "execute_result"
    }
   ],
   "source": [
    "df"
   ]
  },
  {
   "cell_type": "code",
   "execution_count": 14,
   "id": "19c0e8b5",
   "metadata": {},
   "outputs": [],
   "source": [
    "df.drop('place', axis=1, inplace=True)"
   ]
  },
  {
   "cell_type": "markdown",
   "id": "a974e3ae",
   "metadata": {},
   "source": [
    "As the place/route doesnt play any important role we can drop the column."
   ]
  },
  {
   "cell_type": "code",
   "execution_count": 15,
   "id": "2e06ce71",
   "metadata": {},
   "outputs": [],
   "source": [
    "df.rename(columns={'stops': 'Stops'}, inplace=True) #renaming the column name"
   ]
  },
  {
   "cell_type": "code",
   "execution_count": 16,
   "id": "e9748847",
   "metadata": {},
   "outputs": [
    {
     "data": {
      "text/html": [
       "<div>\n",
       "<style scoped>\n",
       "    .dataframe tbody tr th:only-of-type {\n",
       "        vertical-align: middle;\n",
       "    }\n",
       "\n",
       "    .dataframe tbody tr th {\n",
       "        vertical-align: top;\n",
       "    }\n",
       "\n",
       "    .dataframe thead th {\n",
       "        text-align: right;\n",
       "    }\n",
       "</style>\n",
       "<table border=\"1\" class=\"dataframe\">\n",
       "  <thead>\n",
       "    <tr style=\"text-align: right;\">\n",
       "      <th></th>\n",
       "      <th>Airline</th>\n",
       "      <th>Source</th>\n",
       "      <th>Date of Journey</th>\n",
       "      <th>Destination</th>\n",
       "      <th>Departure</th>\n",
       "      <th>Arrival</th>\n",
       "      <th>Duration</th>\n",
       "      <th>Price</th>\n",
       "      <th>Stops</th>\n",
       "    </tr>\n",
       "  </thead>\n",
       "  <tbody>\n",
       "    <tr>\n",
       "      <th>0</th>\n",
       "      <td>SpiceJet</td>\n",
       "      <td>Mumbai</td>\n",
       "      <td>8 Mar 2022</td>\n",
       "      <td>Chennai</td>\n",
       "      <td>19:30</td>\n",
       "      <td>21:20</td>\n",
       "      <td>1h 50m</td>\n",
       "      <td>1888</td>\n",
       "      <td>Non Stop</td>\n",
       "    </tr>\n",
       "    <tr>\n",
       "      <th>1</th>\n",
       "      <td>SpiceJet</td>\n",
       "      <td>Mumbai</td>\n",
       "      <td>8 Mar 2022</td>\n",
       "      <td>Chennai</td>\n",
       "      <td>06:00</td>\n",
       "      <td>08:00</td>\n",
       "      <td>2h 00m</td>\n",
       "      <td>1888</td>\n",
       "      <td>Non Stop</td>\n",
       "    </tr>\n",
       "    <tr>\n",
       "      <th>2</th>\n",
       "      <td>Go First</td>\n",
       "      <td>Mumbai</td>\n",
       "      <td>8 Mar 2022</td>\n",
       "      <td>Chennai</td>\n",
       "      <td>05:50</td>\n",
       "      <td>07:40</td>\n",
       "      <td>1h 50m</td>\n",
       "      <td>1890</td>\n",
       "      <td>Non Stop</td>\n",
       "    </tr>\n",
       "    <tr>\n",
       "      <th>3</th>\n",
       "      <td>IndiGo</td>\n",
       "      <td>Mumbai</td>\n",
       "      <td>8 Mar 2022</td>\n",
       "      <td>Chennai</td>\n",
       "      <td>16:25</td>\n",
       "      <td>18:15</td>\n",
       "      <td>1h 50m</td>\n",
       "      <td>1890</td>\n",
       "      <td>Non Stop</td>\n",
       "    </tr>\n",
       "    <tr>\n",
       "      <th>4</th>\n",
       "      <td>IndiGo</td>\n",
       "      <td>Mumbai</td>\n",
       "      <td>8 Mar 2022</td>\n",
       "      <td>Chennai</td>\n",
       "      <td>21:25</td>\n",
       "      <td>23:15</td>\n",
       "      <td>1h 50m</td>\n",
       "      <td>1890</td>\n",
       "      <td>Non Stop</td>\n",
       "    </tr>\n",
       "    <tr>\n",
       "      <th>...</th>\n",
       "      <td>...</td>\n",
       "      <td>...</td>\n",
       "      <td>...</td>\n",
       "      <td>...</td>\n",
       "      <td>...</td>\n",
       "      <td>...</td>\n",
       "      <td>...</td>\n",
       "      <td>...</td>\n",
       "      <td>...</td>\n",
       "    </tr>\n",
       "    <tr>\n",
       "      <th>1571</th>\n",
       "      <td>Vistara</td>\n",
       "      <td>New Delhi</td>\n",
       "      <td>24 Feb 2022</td>\n",
       "      <td>Kolkata</td>\n",
       "      <td>09:30</td>\n",
       "      <td>16:55</td>\n",
       "      <td>07 h 25 m</td>\n",
       "      <td>4868</td>\n",
       "      <td>1 stop</td>\n",
       "    </tr>\n",
       "    <tr>\n",
       "      <th>1572</th>\n",
       "      <td>Vistara</td>\n",
       "      <td>New Delhi</td>\n",
       "      <td>24 Feb 2022</td>\n",
       "      <td>Kolkata</td>\n",
       "      <td>14:20</td>\n",
       "      <td>19:55</td>\n",
       "      <td>05 h 35 m</td>\n",
       "      <td>4868</td>\n",
       "      <td>1 stop</td>\n",
       "    </tr>\n",
       "    <tr>\n",
       "      <th>1573</th>\n",
       "      <td>Vistara</td>\n",
       "      <td>New Delhi</td>\n",
       "      <td>24 Feb 2022</td>\n",
       "      <td>Kolkata</td>\n",
       "      <td>12:50</td>\n",
       "      <td>19:55</td>\n",
       "      <td>07 h 05 m</td>\n",
       "      <td>4868</td>\n",
       "      <td>1 stop</td>\n",
       "    </tr>\n",
       "    <tr>\n",
       "      <th>1574</th>\n",
       "      <td>Spicejet</td>\n",
       "      <td>New Delhi</td>\n",
       "      <td>24 Feb 2022</td>\n",
       "      <td>Kolkata</td>\n",
       "      <td>09:25</td>\n",
       "      <td>14:20</td>\n",
       "      <td>04 h 55 m</td>\n",
       "      <td>4898</td>\n",
       "      <td>1 stop</td>\n",
       "    </tr>\n",
       "    <tr>\n",
       "      <th>1575</th>\n",
       "      <td>Go First</td>\n",
       "      <td>New Delhi</td>\n",
       "      <td>24 Feb 2022</td>\n",
       "      <td>Kolkata</td>\n",
       "      <td>11:10</td>\n",
       "      <td>15:50</td>\n",
       "      <td>04 h 40 m</td>\n",
       "      <td>5692</td>\n",
       "      <td>1 stop</td>\n",
       "    </tr>\n",
       "  </tbody>\n",
       "</table>\n",
       "<p>1576 rows × 9 columns</p>\n",
       "</div>"
      ],
      "text/plain": [
       "       Airline     Source Date of Journey Destination Departure Arrival  \\\n",
       "0     SpiceJet     Mumbai      8 Mar 2022     Chennai     19:30   21:20   \n",
       "1     SpiceJet     Mumbai      8 Mar 2022     Chennai     06:00   08:00   \n",
       "2     Go First     Mumbai      8 Mar 2022     Chennai     05:50   07:40   \n",
       "3       IndiGo     Mumbai      8 Mar 2022     Chennai     16:25   18:15   \n",
       "4       IndiGo     Mumbai      8 Mar 2022     Chennai     21:25   23:15   \n",
       "...        ...        ...             ...         ...       ...     ...   \n",
       "1571   Vistara  New Delhi     24 Feb 2022     Kolkata     09:30   16:55   \n",
       "1572   Vistara  New Delhi     24 Feb 2022     Kolkata     14:20   19:55   \n",
       "1573   Vistara  New Delhi     24 Feb 2022     Kolkata     12:50   19:55   \n",
       "1574  Spicejet  New Delhi     24 Feb 2022     Kolkata     09:25   14:20   \n",
       "1575  Go First  New Delhi     24 Feb 2022     Kolkata     11:10   15:50   \n",
       "\n",
       "       Duration  Price     Stops  \n",
       "0        1h 50m   1888  Non Stop  \n",
       "1        2h 00m   1888  Non Stop  \n",
       "2        1h 50m   1890  Non Stop  \n",
       "3        1h 50m   1890  Non Stop  \n",
       "4        1h 50m   1890  Non Stop  \n",
       "...         ...    ...       ...  \n",
       "1571  07 h 25 m   4868   1 stop   \n",
       "1572  05 h 35 m   4868   1 stop   \n",
       "1573  07 h 05 m   4868   1 stop   \n",
       "1574  04 h 55 m   4898   1 stop   \n",
       "1575  04 h 40 m   5692   1 stop   \n",
       "\n",
       "[1576 rows x 9 columns]"
      ]
     },
     "execution_count": 16,
     "metadata": {},
     "output_type": "execute_result"
    }
   ],
   "source": [
    "df"
   ]
  },
  {
   "cell_type": "code",
   "execution_count": 17,
   "id": "dc9c623b",
   "metadata": {},
   "outputs": [
    {
     "data": {
      "text/html": [
       "<div>\n",
       "<style scoped>\n",
       "    .dataframe tbody tr th:only-of-type {\n",
       "        vertical-align: middle;\n",
       "    }\n",
       "\n",
       "    .dataframe tbody tr th {\n",
       "        vertical-align: top;\n",
       "    }\n",
       "\n",
       "    .dataframe thead th {\n",
       "        text-align: right;\n",
       "    }\n",
       "</style>\n",
       "<table border=\"1\" class=\"dataframe\">\n",
       "  <thead>\n",
       "    <tr style=\"text-align: right;\">\n",
       "      <th></th>\n",
       "      <th>Airline</th>\n",
       "      <th>Source</th>\n",
       "      <th>Date of Journey</th>\n",
       "      <th>Destination</th>\n",
       "      <th>Departure</th>\n",
       "      <th>Arrival</th>\n",
       "      <th>Duration</th>\n",
       "      <th>Stops</th>\n",
       "      <th>Price</th>\n",
       "    </tr>\n",
       "  </thead>\n",
       "  <tbody>\n",
       "    <tr>\n",
       "      <th>0</th>\n",
       "      <td>SpiceJet</td>\n",
       "      <td>Mumbai</td>\n",
       "      <td>8 Mar 2022</td>\n",
       "      <td>Chennai</td>\n",
       "      <td>19:30</td>\n",
       "      <td>21:20</td>\n",
       "      <td>1h 50m</td>\n",
       "      <td>Non Stop</td>\n",
       "      <td>1888</td>\n",
       "    </tr>\n",
       "    <tr>\n",
       "      <th>1</th>\n",
       "      <td>SpiceJet</td>\n",
       "      <td>Mumbai</td>\n",
       "      <td>8 Mar 2022</td>\n",
       "      <td>Chennai</td>\n",
       "      <td>06:00</td>\n",
       "      <td>08:00</td>\n",
       "      <td>2h 00m</td>\n",
       "      <td>Non Stop</td>\n",
       "      <td>1888</td>\n",
       "    </tr>\n",
       "    <tr>\n",
       "      <th>2</th>\n",
       "      <td>Go First</td>\n",
       "      <td>Mumbai</td>\n",
       "      <td>8 Mar 2022</td>\n",
       "      <td>Chennai</td>\n",
       "      <td>05:50</td>\n",
       "      <td>07:40</td>\n",
       "      <td>1h 50m</td>\n",
       "      <td>Non Stop</td>\n",
       "      <td>1890</td>\n",
       "    </tr>\n",
       "    <tr>\n",
       "      <th>3</th>\n",
       "      <td>IndiGo</td>\n",
       "      <td>Mumbai</td>\n",
       "      <td>8 Mar 2022</td>\n",
       "      <td>Chennai</td>\n",
       "      <td>16:25</td>\n",
       "      <td>18:15</td>\n",
       "      <td>1h 50m</td>\n",
       "      <td>Non Stop</td>\n",
       "      <td>1890</td>\n",
       "    </tr>\n",
       "    <tr>\n",
       "      <th>4</th>\n",
       "      <td>IndiGo</td>\n",
       "      <td>Mumbai</td>\n",
       "      <td>8 Mar 2022</td>\n",
       "      <td>Chennai</td>\n",
       "      <td>21:25</td>\n",
       "      <td>23:15</td>\n",
       "      <td>1h 50m</td>\n",
       "      <td>Non Stop</td>\n",
       "      <td>1890</td>\n",
       "    </tr>\n",
       "    <tr>\n",
       "      <th>...</th>\n",
       "      <td>...</td>\n",
       "      <td>...</td>\n",
       "      <td>...</td>\n",
       "      <td>...</td>\n",
       "      <td>...</td>\n",
       "      <td>...</td>\n",
       "      <td>...</td>\n",
       "      <td>...</td>\n",
       "      <td>...</td>\n",
       "    </tr>\n",
       "    <tr>\n",
       "      <th>1571</th>\n",
       "      <td>Vistara</td>\n",
       "      <td>New Delhi</td>\n",
       "      <td>24 Feb 2022</td>\n",
       "      <td>Kolkata</td>\n",
       "      <td>09:30</td>\n",
       "      <td>16:55</td>\n",
       "      <td>07 h 25 m</td>\n",
       "      <td>1 stop</td>\n",
       "      <td>4868</td>\n",
       "    </tr>\n",
       "    <tr>\n",
       "      <th>1572</th>\n",
       "      <td>Vistara</td>\n",
       "      <td>New Delhi</td>\n",
       "      <td>24 Feb 2022</td>\n",
       "      <td>Kolkata</td>\n",
       "      <td>14:20</td>\n",
       "      <td>19:55</td>\n",
       "      <td>05 h 35 m</td>\n",
       "      <td>1 stop</td>\n",
       "      <td>4868</td>\n",
       "    </tr>\n",
       "    <tr>\n",
       "      <th>1573</th>\n",
       "      <td>Vistara</td>\n",
       "      <td>New Delhi</td>\n",
       "      <td>24 Feb 2022</td>\n",
       "      <td>Kolkata</td>\n",
       "      <td>12:50</td>\n",
       "      <td>19:55</td>\n",
       "      <td>07 h 05 m</td>\n",
       "      <td>1 stop</td>\n",
       "      <td>4868</td>\n",
       "    </tr>\n",
       "    <tr>\n",
       "      <th>1574</th>\n",
       "      <td>Spicejet</td>\n",
       "      <td>New Delhi</td>\n",
       "      <td>24 Feb 2022</td>\n",
       "      <td>Kolkata</td>\n",
       "      <td>09:25</td>\n",
       "      <td>14:20</td>\n",
       "      <td>04 h 55 m</td>\n",
       "      <td>1 stop</td>\n",
       "      <td>4898</td>\n",
       "    </tr>\n",
       "    <tr>\n",
       "      <th>1575</th>\n",
       "      <td>Go First</td>\n",
       "      <td>New Delhi</td>\n",
       "      <td>24 Feb 2022</td>\n",
       "      <td>Kolkata</td>\n",
       "      <td>11:10</td>\n",
       "      <td>15:50</td>\n",
       "      <td>04 h 40 m</td>\n",
       "      <td>1 stop</td>\n",
       "      <td>5692</td>\n",
       "    </tr>\n",
       "  </tbody>\n",
       "</table>\n",
       "<p>1576 rows × 9 columns</p>\n",
       "</div>"
      ],
      "text/plain": [
       "       Airline     Source Date of Journey Destination Departure Arrival  \\\n",
       "0     SpiceJet     Mumbai      8 Mar 2022     Chennai     19:30   21:20   \n",
       "1     SpiceJet     Mumbai      8 Mar 2022     Chennai     06:00   08:00   \n",
       "2     Go First     Mumbai      8 Mar 2022     Chennai     05:50   07:40   \n",
       "3       IndiGo     Mumbai      8 Mar 2022     Chennai     16:25   18:15   \n",
       "4       IndiGo     Mumbai      8 Mar 2022     Chennai     21:25   23:15   \n",
       "...        ...        ...             ...         ...       ...     ...   \n",
       "1571   Vistara  New Delhi     24 Feb 2022     Kolkata     09:30   16:55   \n",
       "1572   Vistara  New Delhi     24 Feb 2022     Kolkata     14:20   19:55   \n",
       "1573   Vistara  New Delhi     24 Feb 2022     Kolkata     12:50   19:55   \n",
       "1574  Spicejet  New Delhi     24 Feb 2022     Kolkata     09:25   14:20   \n",
       "1575  Go First  New Delhi     24 Feb 2022     Kolkata     11:10   15:50   \n",
       "\n",
       "       Duration     Stops  Price  \n",
       "0        1h 50m  Non Stop   1888  \n",
       "1        2h 00m  Non Stop   1888  \n",
       "2        1h 50m  Non Stop   1890  \n",
       "3        1h 50m  Non Stop   1890  \n",
       "4        1h 50m  Non Stop   1890  \n",
       "...         ...       ...    ...  \n",
       "1571  07 h 25 m   1 stop    4868  \n",
       "1572  05 h 35 m   1 stop    4868  \n",
       "1573  07 h 05 m   1 stop    4868  \n",
       "1574  04 h 55 m   1 stop    4898  \n",
       "1575  04 h 40 m   1 stop    5692  \n",
       "\n",
       "[1576 rows x 9 columns]"
      ]
     },
     "execution_count": 17,
     "metadata": {},
     "output_type": "execute_result"
    }
   ],
   "source": [
    "columns=['Airline','Source','Date of Journey','Destination','Departure','Arrival','Duration','Stops','Price']\n",
    "df=df.reindex(columns=columns)  #rearranging the columns in the dataset\n",
    "df"
   ]
  },
  {
   "cell_type": "code",
   "execution_count": 18,
   "id": "7ee260ef",
   "metadata": {},
   "outputs": [
    {
     "data": {
      "text/plain": [
       "Vistara               458\n",
       "Air India             373\n",
       "IndiGo                356\n",
       "Go First              197\n",
       "Air Asia               97\n",
       "SpiceJet               72\n",
       "AirAsia                12\n",
       "Spicejet                7\n",
       "Vistara, IndiGo         2\n",
       "Air India, AirAsia      1\n",
       "IndiGo, AirAsia         1\n",
       "Name: Airline, dtype: int64"
      ]
     },
     "execution_count": 18,
     "metadata": {},
     "output_type": "execute_result"
    }
   ],
   "source": [
    "df['Airline'].value_counts() #counting the unique counts in the column airline"
   ]
  },
  {
   "cell_type": "code",
   "execution_count": 19,
   "id": "e6c1231f",
   "metadata": {},
   "outputs": [],
   "source": [
    "values=['Vistara, IndiGo','Air India, AirAsia','IndiGo, AirAsia']\n",
    "df = df[~df['Airline'].isin(values)] #droping multiple flight data"
   ]
  },
  {
   "cell_type": "markdown",
   "id": "e564a786",
   "metadata": {},
   "source": [
    "some of rows in the airline column shows multiple flights in a single column it becomes tough to categorise them in a single airline as the information of such filghts are very less so we can drop that data."
   ]
  },
  {
   "cell_type": "code",
   "execution_count": 20,
   "id": "9c3c7b7a",
   "metadata": {},
   "outputs": [
    {
     "data": {
      "text/plain": [
       "Vistara      458\n",
       "Air India    373\n",
       "IndiGo       356\n",
       "Go First     197\n",
       "Air Asia      97\n",
       "SpiceJet      72\n",
       "AirAsia       12\n",
       "Spicejet       7\n",
       "Name: Airline, dtype: int64"
      ]
     },
     "execution_count": 20,
     "metadata": {},
     "output_type": "execute_result"
    }
   ],
   "source": [
    "df['Airline'].value_counts()"
   ]
  },
  {
   "cell_type": "markdown",
   "id": "3afd340d",
   "metadata": {},
   "source": [
    "Here we have two seperate data for Air Asia and spicejet we can merge them into same."
   ]
  },
  {
   "cell_type": "code",
   "execution_count": 21,
   "id": "e043870b",
   "metadata": {},
   "outputs": [],
   "source": [
    "df['Airline']=df['Airline'].str.replace('AirAsia','Air Asia') #merging data having the same name"
   ]
  },
  {
   "cell_type": "code",
   "execution_count": 22,
   "id": "fa639ac9",
   "metadata": {},
   "outputs": [],
   "source": [
    "df['Airline']=df['Airline'].str.replace('Spicejet','SpiceJet') #merging the data having the same name"
   ]
  },
  {
   "cell_type": "code",
   "execution_count": 23,
   "id": "3161fb7e",
   "metadata": {},
   "outputs": [
    {
     "data": {
      "text/plain": [
       "Vistara      458\n",
       "Air India    373\n",
       "IndiGo       356\n",
       "Go First     197\n",
       "Air Asia     109\n",
       "SpiceJet      79\n",
       "Name: Airline, dtype: int64"
      ]
     },
     "execution_count": 23,
     "metadata": {},
     "output_type": "execute_result"
    }
   ],
   "source": [
    "df['Airline'].value_counts()"
   ]
  },
  {
   "cell_type": "code",
   "execution_count": 24,
   "id": "e43ff861",
   "metadata": {},
   "outputs": [
    {
     "data": {
      "text/plain": [
       "(1572, 9)"
      ]
     },
     "execution_count": 24,
     "metadata": {},
     "output_type": "execute_result"
    }
   ],
   "source": [
    "df.shape"
   ]
  },
  {
   "cell_type": "code",
   "execution_count": 25,
   "id": "dde209e3",
   "metadata": {},
   "outputs": [
    {
     "data": {
      "text/plain": [
       " 24 Mar 2022    463\n",
       " 23 Mar 2022    372\n",
       " 2 Apr 2022     143\n",
       " 1 Mar 2022     142\n",
       " 19 Mar 2022    132\n",
       " 8 Mar 2022     106\n",
       " 18 Mar 2022     60\n",
       "24 Feb 2022      43\n",
       " 29 Mar 2022     40\n",
       " 30 Mar 2022     39\n",
       "28 Jan 2022      32\n",
       "Name: Date of Journey, dtype: int64"
      ]
     },
     "execution_count": 25,
     "metadata": {},
     "output_type": "execute_result"
    }
   ],
   "source": [
    "df['Date of Journey'].value_counts()  #unique values for date of journey"
   ]
  },
  {
   "cell_type": "code",
   "execution_count": 26,
   "id": "bc3cbfff",
   "metadata": {},
   "outputs": [
    {
     "data": {
      "text/plain": [
       "Mumbai        509\n",
       "Bangalore     508\n",
       "New Delhi     210\n",
       "Chennai       194\n",
       "Chandigarh    151\n",
       "Name: Source, dtype: int64"
      ]
     },
     "execution_count": 26,
     "metadata": {},
     "output_type": "execute_result"
    }
   ],
   "source": [
    "df['Source'].value_counts()   #unique values for source i.e from where the flight take off"
   ]
  },
  {
   "cell_type": "code",
   "execution_count": 27,
   "id": "ccab911d",
   "metadata": {},
   "outputs": [
    {
     "data": {
      "text/plain": [
       "Kolkata      501\n",
       "New Delhi    374\n",
       "Mumbai       254\n",
       "Bangalore    225\n",
       "Chennai      186\n",
       "Bengaluru     32\n",
       "Name: Destination, dtype: int64"
      ]
     },
     "execution_count": 27,
     "metadata": {},
     "output_type": "execute_result"
    }
   ],
   "source": [
    "df['Destination'].value_counts()  #unique values for destination i.e where the flight lands"
   ]
  },
  {
   "cell_type": "code",
   "execution_count": 28,
   "id": "8ccb9253",
   "metadata": {},
   "outputs": [],
   "source": [
    "df['Destination']=df['Destination'].str.replace('Bengaluru','Bangalore') #merging bangalore and bangaluru into same"
   ]
  },
  {
   "cell_type": "code",
   "execution_count": 29,
   "id": "5cd93cd0",
   "metadata": {},
   "outputs": [
    {
     "data": {
      "text/plain": [
       "Kolkata      501\n",
       "New Delhi    374\n",
       "Bangalore    257\n",
       "Mumbai       254\n",
       "Chennai      186\n",
       "Name: Destination, dtype: int64"
      ]
     },
     "execution_count": 29,
     "metadata": {},
     "output_type": "execute_result"
    }
   ],
   "source": [
    "df['Destination'].value_counts()"
   ]
  },
  {
   "cell_type": "code",
   "execution_count": 30,
   "id": "cf93b79f",
   "metadata": {},
   "outputs": [],
   "source": [
    "df['Stops']=df['Stops'].str.strip() #striping off empty spaces"
   ]
  },
  {
   "cell_type": "code",
   "execution_count": 31,
   "id": "7372be83",
   "metadata": {},
   "outputs": [
    {
     "data": {
      "text/plain": [
       "1 Stop       1018\n",
       "Non Stop      242\n",
       "2 Stop(s)     217\n",
       "1 stop         42\n",
       "Non stop       28\n",
       "3 Stop(s)      20\n",
       "2 stop          5\n",
       "Name: Stops, dtype: int64"
      ]
     },
     "execution_count": 31,
     "metadata": {},
     "output_type": "execute_result"
    }
   ],
   "source": [
    "df['Stops'].value_counts()"
   ]
  },
  {
   "cell_type": "code",
   "execution_count": 32,
   "id": "d22bfd9d",
   "metadata": {},
   "outputs": [],
   "source": [
    "df['Stops']=df['Stops'].str.replace('Non stop','Non Stop') #merging the same category of data"
   ]
  },
  {
   "cell_type": "code",
   "execution_count": 33,
   "id": "814d295a",
   "metadata": {},
   "outputs": [],
   "source": [
    "df['Stops']=df['Stops'].str.replace('1 stop','1 Stop') #merging the same category of data"
   ]
  },
  {
   "cell_type": "code",
   "execution_count": 34,
   "id": "84320c08",
   "metadata": {},
   "outputs": [],
   "source": [
    "df['Stops']=df['Stops'].str.replace('2 stop','2 Stop(s)')  #merging the same category of data"
   ]
  },
  {
   "cell_type": "code",
   "execution_count": 35,
   "id": "108cb33c",
   "metadata": {},
   "outputs": [
    {
     "data": {
      "text/plain": [
       "1 Stop       1060\n",
       "Non Stop      270\n",
       "2 Stop(s)     222\n",
       "3 Stop(s)      20\n",
       "Name: Stops, dtype: int64"
      ]
     },
     "execution_count": 35,
     "metadata": {},
     "output_type": "execute_result"
    }
   ],
   "source": [
    "df['Stops'].value_counts()"
   ]
  },
  {
   "cell_type": "markdown",
   "id": "8299f5d1",
   "metadata": {},
   "source": [
    "# Data Visualization"
   ]
  },
  {
   "cell_type": "code",
   "execution_count": 46,
   "id": "ad9156da",
   "metadata": {},
   "outputs": [
    {
     "data": {
      "text/plain": [
       "<AxesSubplot:xlabel='Airline', ylabel='count'>"
      ]
     },
     "execution_count": 46,
     "metadata": {},
     "output_type": "execute_result"
    },
    {
     "data": {
      "image/png": "[encoded data removed]",
      "text/plain": [
       "<Figure size 576x360 with 1 Axes>"
      ]
     },
     "metadata": {},
     "output_type": "display_data"
    }
   ],
   "source": [
    "plt.figure(figsize=(8,5))  #adjusting the size of plot\n",
    "plt.xticks(rotation=40) # for making the label in vertical direction\n",
    "sns.set_theme(style='darkgrid')\n",
    "sns.countplot(df['Airline'], palette=\"Set3\", edgecolor='black', linewidth=2)"
   ]
  },
  {
   "cell_type": "markdown",
   "id": "5292929c",
   "metadata": {},
   "source": [
    "From the above plot we can see that the Vistara number of flights count is very high i.e majority of vistara flights are listed on the site fllowed by AirIndia then Indigo. Spicejet has least number of listed flights."
   ]
  },
  {
   "cell_type": "code",
   "execution_count": 51,
   "id": "dd6edba3",
   "metadata": {},
   "outputs": [
    {
     "data": {
      "text/plain": [
       "<AxesSubplot:xlabel='Source', ylabel='count'>"
      ]
     },
     "execution_count": 51,
     "metadata": {},
     "output_type": "execute_result"
    },
    {
     "data": {
      "image/png": "[encoded data removed]",
      "text/plain": [
       "<Figure size 576x360 with 1 Axes>"
      ]
     },
     "metadata": {},
     "output_type": "display_data"
    }
   ],
   "source": [
    "plt.figure(figsize=(8,5))  #adjusting the size of plot\n",
    "plt.xticks(rotation=40) # for making the label in vertical direction\n",
    "sns.set_theme(style='whitegrid')\n",
    "sns.countplot(df['Source'], palette=\"dark\", edgecolor='black', linewidth=2 )"
   ]
  },
  {
   "cell_type": "markdown",
   "id": "9e77ad61",
   "metadata": {},
   "source": [
    "Mumbai and Bangaluru airport followed by New Delhi has the highest number of flights taking off from the airport listed on the site. As these are the capital cities of india and the airports in these are listed among top 50 airports in the global list."
   ]
  },
  {
   "cell_type": "code",
   "execution_count": 57,
   "id": "1764ed5b",
   "metadata": {},
   "outputs": [
    {
     "data": {
      "text/plain": [
       "<AxesSubplot:xlabel='Destination', ylabel='count'>"
      ]
     },
     "execution_count": 57,
     "metadata": {},
     "output_type": "execute_result"
    },
    {
     "data": {
      "image/png": "[encoded data removed]",
      "text/plain": [
       "<Figure size 576x360 with 1 Axes>"
      ]
     },
     "metadata": {},
     "output_type": "display_data"
    }
   ],
   "source": [
    "plt.figure(figsize=(8,5))  #adjusting the size of plot\n",
    "plt.xticks(rotation=40) # for making the label in vertical direction\n",
    "sns.set_theme(style='darkgrid')\n",
    "sns.countplot(df['Destination'], palette=\"Accent\", edgecolor='black', linewidth=2 )"
   ]
  },
  {
   "cell_type": "markdown",
   "id": "a1763eb6",
   "metadata": {},
   "source": [
    "From the data collected the majority of flights lands in Kolkata and new Delhi...."
   ]
  },
  {
   "cell_type": "code",
   "execution_count": 60,
   "id": "769ba36a",
   "metadata": {},
   "outputs": [
    {
     "data": {
      "text/plain": [
       "<AxesSubplot:xlabel='Date of Journey', ylabel='count'>"
      ]
     },
     "execution_count": 60,
     "metadata": {},
     "output_type": "execute_result"
    },
    {
     "data": {
      "image/png": "[encoded data removed]",
      "text/plain": [
       "<Figure size 720x360 with 1 Axes>"
      ]
     },
     "metadata": {},
     "output_type": "display_data"
    }
   ],
   "source": [
    "plt.figure(figsize=(10,5))  #adjusting the size of plot\n",
    "plt.xticks(rotation=90) # for making the label in vertical direction\n",
    "sns.set_theme(style='darkgrid')\n",
    "sns.countplot(df['Date of Journey'], palette=\"Accent\", edgecolor='black', linewidth=2 )"
   ]
  },
  {
   "cell_type": "markdown",
   "id": "9d317209",
   "metadata": {},
   "source": [
    "Data collected for 23rd and 24th march have highest number of flights listed on the website."
   ]
  },
  {
   "cell_type": "code",
   "execution_count": 63,
   "id": "1586c8ae",
   "metadata": {},
   "outputs": [
    {
     "data": {
      "text/plain": [
       "<AxesSubplot:xlabel='Stops', ylabel='count'>"
      ]
     },
     "execution_count": 63,
     "metadata": {},
     "output_type": "execute_result"
    },
    {
     "data": {
      "image/png": "[encoded data removed]",
      "text/plain": [
       "<Figure size 720x360 with 1 Axes>"
      ]
     },
     "metadata": {},
     "output_type": "display_data"
    }
   ],
   "source": [
    "plt.figure(figsize=(10,5))  #adjusting the size of plot\n",
    "plt.xticks(rotation=90) # for making the label in vertical direction\n",
    "sns.set_theme(style='dark')\n",
    "sns.countplot(df['Stops'], palette=\"Accent\", edgecolor='black', linewidth=2 )"
   ]
  },
  {
   "cell_type": "markdown",
   "id": "71f02097",
   "metadata": {},
   "source": [
    "Majority of the flights have 1 layover before reaching the final destination."
   ]
  },
  {
   "cell_type": "code",
   "execution_count": 68,
   "id": "6840a78c",
   "metadata": {},
   "outputs": [
    {
     "data": {
      "text/plain": [
       "<AxesSubplot:xlabel='Airline', ylabel='Price'>"
      ]
     },
     "execution_count": 68,
     "metadata": {},
     "output_type": "execute_result"
    },
    {
     "data": {
      "image/png": "[encoded data removed]",
      "text/plain": [
       "<Figure size 720x360 with 1 Axes>"
      ]
     },
     "metadata": {},
     "output_type": "display_data"
    }
   ],
   "source": [
    "plt.figure(figsize=(10,5))  #adjusting the size of plot\n",
    "plt.xticks(rotation=40) # for making the label in vertical direction\n",
    "sns.set_theme(style='whitegrid')\n",
    "sns.boxplot(df['Airline'], df['Price'],palette=\"Accent\" )"
   ]
  },
  {
   "cell_type": "markdown",
   "id": "4817f72f",
   "metadata": {},
   "source": [
    "If we look at the above boxplot,\n",
    "1. Indigo airlines offer the cheapest services as compare to any other airlines.\n",
    "2. AirIndia has a flight fare which touches 30000.\n",
    "3. AirIndia followed by Vistara is offering expensive services as comapre to other airlines."
   ]
  },
  {
   "cell_type": "code",
   "execution_count": 70,
   "id": "4e7d97fe",
   "metadata": {},
   "outputs": [
    {
     "data": {
      "text/plain": [
       "<AxesSubplot:xlabel='Airline', ylabel='Price'>"
      ]
     },
     "execution_count": 70,
     "metadata": {},
     "output_type": "execute_result"
    },
    {
     "data": {
      "image/png": "[encoded data removed]",
      "text/plain": [
       "<Figure size 720x360 with 1 Axes>"
      ]
     },
     "metadata": {},
     "output_type": "display_data"
    }
   ],
   "source": [
    "plt.figure(figsize=(10,5))  #adjusting the size of plot\n",
    "plt.xticks(rotation=40) # for making the label in vertical direction\n",
    "sns.set_theme(style='whitegrid')\n",
    "sns.barplot(df['Airline'],df['Price'], palette=\"Accent\", edgecolor='black', linewidth=2)"
   ]
  },
  {
   "cell_type": "markdown",
   "id": "ecd0579f",
   "metadata": {},
   "source": [
    "The above data which was represnted in the boxplot format is represented in the barplot and we can see that indigo being the cheapest and airindia being the most expensive flight."
   ]
  },
  {
   "cell_type": "code",
   "execution_count": 73,
   "id": "7b5de861",
   "metadata": {},
   "outputs": [
    {
     "data": {
      "text/plain": [
       "<AxesSubplot:xlabel='Date of Journey', ylabel='Price'>"
      ]
     },
     "execution_count": 73,
     "metadata": {},
     "output_type": "execute_result"
    },
    {
     "data": {
      "image/png": "[encoded data removed]",
      "text/plain": [
       "<Figure size 720x360 with 1 Axes>"
      ]
     },
     "metadata": {},
     "output_type": "display_data"
    }
   ],
   "source": [
    "plt.figure(figsize=(10,5))  #adjusting the size of plot\n",
    "sns.set_theme(style='whitegrid')\n",
    "plt.xticks(rotation=90)\n",
    "sns.barplot(df['Date of Journey'],df['Price'],palette=\"dark\", edgecolor='w', linewidth=2)"
   ]
  },
  {
   "cell_type": "markdown",
   "id": "c25b33b3",
   "metadata": {},
   "source": [
    "In the above barplot, \n",
    "\n",
    "1. As the date was approaching i.e 28th January the flight fares were most expensive for the same.\n",
    "2. 19th march which is saturday, flights are expensive as compared weekdays even though the flights are listed in march month.\n",
    "3. If we look at consecutive week days i.e 29th and 30th march there is no much difference in the change of price.\n",
    "4. If we look at consecutive week days i.e 18th and 19th march which is weekend there is much difference in the change of price i.e price increases on weekends. \n",
    "5. Flights are cheaper on weekdays as compare to weekends."
   ]
  },
  {
   "cell_type": "code",
   "execution_count": 78,
   "id": "718a58f8",
   "metadata": {},
   "outputs": [
    {
     "data": {
      "text/plain": [
       "<AxesSubplot:xlabel='Destination', ylabel='Price'>"
      ]
     },
     "execution_count": 78,
     "metadata": {},
     "output_type": "execute_result"
    },
    {
     "data": {
      "image/png": "[encoded data removed]",
      "text/plain": [
       "<Figure size 720x360 with 1 Axes>"
      ]
     },
     "metadata": {},
     "output_type": "display_data"
    }
   ],
   "source": [
    "plt.figure(figsize=(10,5))  #adjusting the size of plot\n",
    "sns.set_theme(style='darkgrid')\n",
    "plt.xticks(rotation=90)\n",
    "sns.barplot(df['Destination'],df['Price'],palette=\"Set2\", edgecolor='w', linewidth=2)"
   ]
  },
  {
   "cell_type": "markdown",
   "id": "5a5c1482",
   "metadata": {},
   "source": [
    "In the above plot we can see that kolkata nad bengalore are the expensive destinations but other factors do come into picture like what is the source and the day on which we are booking the flights."
   ]
  },
  {
   "cell_type": "code",
   "execution_count": 80,
   "id": "8fcaab61",
   "metadata": {},
   "outputs": [
    {
     "data": {
      "text/plain": [
       "<AxesSubplot:xlabel='Source', ylabel='Price'>"
      ]
     },
     "execution_count": 80,
     "metadata": {},
     "output_type": "execute_result"
    },
    {
     "data": {
      "image/png": "[encoded data removed]",
      "text/plain": [
       "<Figure size 720x360 with 1 Axes>"
      ]
     },
     "metadata": {},
     "output_type": "display_data"
    }
   ],
   "source": [
    "plt.figure(figsize=(10,5))  #adjusting the size of plot\n",
    "sns.set_theme(style='darkgrid')\n",
    "plt.xticks(rotation=90)\n",
    "sns.barplot(df['Source'],df['Price'], edgecolor='black', linewidth=2)"
   ]
  },
  {
   "cell_type": "markdown",
   "id": "006a1347",
   "metadata": {},
   "source": [
    "Chnadigarh offers high flight prices as compare to other airport."
   ]
  },
  {
   "cell_type": "code",
   "execution_count": 81,
   "id": "e7945fb8",
   "metadata": {},
   "outputs": [
    {
     "data": {
      "text/plain": [
       "<AxesSubplot:xlabel='Stops', ylabel='Price'>"
      ]
     },
     "execution_count": 81,
     "metadata": {},
     "output_type": "execute_result"
    },
    {
     "data": {
      "image/png": "[encoded data removed]",
      "text/plain": [
       "<Figure size 720x360 with 1 Axes>"
      ]
     },
     "metadata": {},
     "output_type": "display_data"
    }
   ],
   "source": [
    "plt.figure(figsize=(10,5))  #adjusting the size of plot\n",
    "sns.set_theme(style='darkgrid')\n",
    "plt.xticks(rotation=90)\n",
    "sns.barplot(df['Stops'],df['Price'])"
   ]
  },
  {
   "cell_type": "markdown",
   "id": "f4edce51",
   "metadata": {},
   "source": [
    "Flights with 2 and 3 layovers are expensive as compared to Non stop flights. But again we cannot conclude this from the above data as this is a very small data others factors like date of journey, source and destination."
   ]
  },
  {
   "cell_type": "code",
   "execution_count": 42,
   "id": "726c4043",
   "metadata": {},
   "outputs": [
    {
     "data": {
      "text/plain": [
       "<AxesSubplot:xlabel='Price', ylabel='Density'>"
      ]
     },
     "execution_count": 42,
     "metadata": {},
     "output_type": "execute_result"
    },
    {
     "data": {
      "image/png": "[encoded data removed]",
      "text/plain": [
       "<Figure size 432x288 with 1 Axes>"
      ]
     },
     "metadata": {
      "needs_background": "light"
     },
     "output_type": "display_data"
    }
   ],
   "source": [
    "sns.distplot(df['Price'])"
   ]
  },
  {
   "cell_type": "markdown",
   "id": "7156d24f",
   "metadata": {},
   "source": [
    "Distribution of price we can see that some of the flights are highly expensive which makes the presence of outliers and makes data skewed."
   ]
  },
  {
   "cell_type": "markdown",
   "id": "6993a6b9",
   "metadata": {},
   "source": [
    "# Data Preprocessing/Data Cleaning"
   ]
  },
  {
   "cell_type": "code",
   "execution_count": 83,
   "id": "097c1fd8",
   "metadata": {},
   "outputs": [],
   "source": [
    "df['Date of Journey']=df['Date of Journey'].str.strip() #striping off the spaces."
   ]
  },
  {
   "cell_type": "code",
   "execution_count": 84,
   "id": "5860cf20",
   "metadata": {},
   "outputs": [],
   "source": [
    "df['Day'],df['Month'],df['Year'] = df['Date of Journey'].str.split(' ',3).str\n",
    "df.drop('Date of Journey',axis=1,inplace=True)  "
   ]
  },
  {
   "cell_type": "markdown",
   "id": "d4052d15",
   "metadata": {},
   "source": [
    "extracting data from the column i.e creating seperate column for month year and date."
   ]
  },
  {
   "cell_type": "code",
   "execution_count": 85,
   "id": "26626bd1",
   "metadata": {},
   "outputs": [
    {
     "data": {
      "text/html": [
       "<div>\n",
       "<style scoped>\n",
       "    .dataframe tbody tr th:only-of-type {\n",
       "        vertical-align: middle;\n",
       "    }\n",
       "\n",
       "    .dataframe tbody tr th {\n",
       "        vertical-align: top;\n",
       "    }\n",
       "\n",
       "    .dataframe thead th {\n",
       "        text-align: right;\n",
       "    }\n",
       "</style>\n",
       "<table border=\"1\" class=\"dataframe\">\n",
       "  <thead>\n",
       "    <tr style=\"text-align: right;\">\n",
       "      <th></th>\n",
       "      <th>Airline</th>\n",
       "      <th>Source</th>\n",
       "      <th>Destination</th>\n",
       "      <th>Departure</th>\n",
       "      <th>Arrival</th>\n",
       "      <th>Duration</th>\n",
       "      <th>Stops</th>\n",
       "      <th>Price</th>\n",
       "      <th>Day</th>\n",
       "      <th>Month</th>\n",
       "      <th>Year</th>\n",
       "    </tr>\n",
       "  </thead>\n",
       "  <tbody>\n",
       "    <tr>\n",
       "      <th>0</th>\n",
       "      <td>SpiceJet</td>\n",
       "      <td>Mumbai</td>\n",
       "      <td>Chennai</td>\n",
       "      <td>19:30</td>\n",
       "      <td>21:20</td>\n",
       "      <td>1h 50m</td>\n",
       "      <td>Non Stop</td>\n",
       "      <td>1888</td>\n",
       "      <td>8</td>\n",
       "      <td>Mar</td>\n",
       "      <td>2022</td>\n",
       "    </tr>\n",
       "    <tr>\n",
       "      <th>1</th>\n",
       "      <td>SpiceJet</td>\n",
       "      <td>Mumbai</td>\n",
       "      <td>Chennai</td>\n",
       "      <td>06:00</td>\n",
       "      <td>08:00</td>\n",
       "      <td>2h 00m</td>\n",
       "      <td>Non Stop</td>\n",
       "      <td>1888</td>\n",
       "      <td>8</td>\n",
       "      <td>Mar</td>\n",
       "      <td>2022</td>\n",
       "    </tr>\n",
       "    <tr>\n",
       "      <th>2</th>\n",
       "      <td>Go First</td>\n",
       "      <td>Mumbai</td>\n",
       "      <td>Chennai</td>\n",
       "      <td>05:50</td>\n",
       "      <td>07:40</td>\n",
       "      <td>1h 50m</td>\n",
       "      <td>Non Stop</td>\n",
       "      <td>1890</td>\n",
       "      <td>8</td>\n",
       "      <td>Mar</td>\n",
       "      <td>2022</td>\n",
       "    </tr>\n",
       "    <tr>\n",
       "      <th>3</th>\n",
       "      <td>IndiGo</td>\n",
       "      <td>Mumbai</td>\n",
       "      <td>Chennai</td>\n",
       "      <td>16:25</td>\n",
       "      <td>18:15</td>\n",
       "      <td>1h 50m</td>\n",
       "      <td>Non Stop</td>\n",
       "      <td>1890</td>\n",
       "      <td>8</td>\n",
       "      <td>Mar</td>\n",
       "      <td>2022</td>\n",
       "    </tr>\n",
       "    <tr>\n",
       "      <th>4</th>\n",
       "      <td>IndiGo</td>\n",
       "      <td>Mumbai</td>\n",
       "      <td>Chennai</td>\n",
       "      <td>21:25</td>\n",
       "      <td>23:15</td>\n",
       "      <td>1h 50m</td>\n",
       "      <td>Non Stop</td>\n",
       "      <td>1890</td>\n",
       "      <td>8</td>\n",
       "      <td>Mar</td>\n",
       "      <td>2022</td>\n",
       "    </tr>\n",
       "  </tbody>\n",
       "</table>\n",
       "</div>"
      ],
      "text/plain": [
       "    Airline  Source Destination Departure Arrival Duration     Stops  Price  \\\n",
       "0  SpiceJet  Mumbai     Chennai     19:30   21:20   1h 50m  Non Stop   1888   \n",
       "1  SpiceJet  Mumbai     Chennai     06:00   08:00   2h 00m  Non Stop   1888   \n",
       "2  Go First  Mumbai     Chennai     05:50   07:40   1h 50m  Non Stop   1890   \n",
       "3    IndiGo  Mumbai     Chennai     16:25   18:15   1h 50m  Non Stop   1890   \n",
       "4    IndiGo  Mumbai     Chennai     21:25   23:15   1h 50m  Non Stop   1890   \n",
       "\n",
       "  Day Month  Year  \n",
       "0   8   Mar  2022  \n",
       "1   8   Mar  2022  \n",
       "2   8   Mar  2022  \n",
       "3   8   Mar  2022  \n",
       "4   8   Mar  2022  "
      ]
     },
     "execution_count": 85,
     "metadata": {},
     "output_type": "execute_result"
    }
   ],
   "source": [
    "df.head()"
   ]
  },
  {
   "cell_type": "code",
   "execution_count": 86,
   "id": "6a2627b3",
   "metadata": {},
   "outputs": [],
   "source": [
    "df['Dep_h'],df['Dep_m']=df['Departure'].str.split(':',2).str\n",
    "df.drop('Departure',axis=1,inplace=True) #extracting minutes and hours from the departure"
   ]
  },
  {
   "cell_type": "code",
   "execution_count": 87,
   "id": "d2b1402f",
   "metadata": {},
   "outputs": [
    {
     "data": {
      "text/html": [
       "<div>\n",
       "<style scoped>\n",
       "    .dataframe tbody tr th:only-of-type {\n",
       "        vertical-align: middle;\n",
       "    }\n",
       "\n",
       "    .dataframe tbody tr th {\n",
       "        vertical-align: top;\n",
       "    }\n",
       "\n",
       "    .dataframe thead th {\n",
       "        text-align: right;\n",
       "    }\n",
       "</style>\n",
       "<table border=\"1\" class=\"dataframe\">\n",
       "  <thead>\n",
       "    <tr style=\"text-align: right;\">\n",
       "      <th></th>\n",
       "      <th>Airline</th>\n",
       "      <th>Source</th>\n",
       "      <th>Destination</th>\n",
       "      <th>Arrival</th>\n",
       "      <th>Duration</th>\n",
       "      <th>Stops</th>\n",
       "      <th>Price</th>\n",
       "      <th>Day</th>\n",
       "      <th>Month</th>\n",
       "      <th>Year</th>\n",
       "      <th>Dep_h</th>\n",
       "      <th>Dep_m</th>\n",
       "    </tr>\n",
       "  </thead>\n",
       "  <tbody>\n",
       "    <tr>\n",
       "      <th>0</th>\n",
       "      <td>SpiceJet</td>\n",
       "      <td>Mumbai</td>\n",
       "      <td>Chennai</td>\n",
       "      <td>21:20</td>\n",
       "      <td>1h 50m</td>\n",
       "      <td>Non Stop</td>\n",
       "      <td>1888</td>\n",
       "      <td>8</td>\n",
       "      <td>Mar</td>\n",
       "      <td>2022</td>\n",
       "      <td>19</td>\n",
       "      <td>30</td>\n",
       "    </tr>\n",
       "    <tr>\n",
       "      <th>1</th>\n",
       "      <td>SpiceJet</td>\n",
       "      <td>Mumbai</td>\n",
       "      <td>Chennai</td>\n",
       "      <td>08:00</td>\n",
       "      <td>2h 00m</td>\n",
       "      <td>Non Stop</td>\n",
       "      <td>1888</td>\n",
       "      <td>8</td>\n",
       "      <td>Mar</td>\n",
       "      <td>2022</td>\n",
       "      <td>06</td>\n",
       "      <td>00</td>\n",
       "    </tr>\n",
       "    <tr>\n",
       "      <th>2</th>\n",
       "      <td>Go First</td>\n",
       "      <td>Mumbai</td>\n",
       "      <td>Chennai</td>\n",
       "      <td>07:40</td>\n",
       "      <td>1h 50m</td>\n",
       "      <td>Non Stop</td>\n",
       "      <td>1890</td>\n",
       "      <td>8</td>\n",
       "      <td>Mar</td>\n",
       "      <td>2022</td>\n",
       "      <td>05</td>\n",
       "      <td>50</td>\n",
       "    </tr>\n",
       "    <tr>\n",
       "      <th>3</th>\n",
       "      <td>IndiGo</td>\n",
       "      <td>Mumbai</td>\n",
       "      <td>Chennai</td>\n",
       "      <td>18:15</td>\n",
       "      <td>1h 50m</td>\n",
       "      <td>Non Stop</td>\n",
       "      <td>1890</td>\n",
       "      <td>8</td>\n",
       "      <td>Mar</td>\n",
       "      <td>2022</td>\n",
       "      <td>16</td>\n",
       "      <td>25</td>\n",
       "    </tr>\n",
       "    <tr>\n",
       "      <th>4</th>\n",
       "      <td>IndiGo</td>\n",
       "      <td>Mumbai</td>\n",
       "      <td>Chennai</td>\n",
       "      <td>23:15</td>\n",
       "      <td>1h 50m</td>\n",
       "      <td>Non Stop</td>\n",
       "      <td>1890</td>\n",
       "      <td>8</td>\n",
       "      <td>Mar</td>\n",
       "      <td>2022</td>\n",
       "      <td>21</td>\n",
       "      <td>25</td>\n",
       "    </tr>\n",
       "  </tbody>\n",
       "</table>\n",
       "</div>"
      ],
      "text/plain": [
       "    Airline  Source Destination Arrival Duration     Stops  Price Day Month  \\\n",
       "0  SpiceJet  Mumbai     Chennai   21:20   1h 50m  Non Stop   1888   8   Mar   \n",
       "1  SpiceJet  Mumbai     Chennai   08:00   2h 00m  Non Stop   1888   8   Mar   \n",
       "2  Go First  Mumbai     Chennai   07:40   1h 50m  Non Stop   1890   8   Mar   \n",
       "3    IndiGo  Mumbai     Chennai   18:15   1h 50m  Non Stop   1890   8   Mar   \n",
       "4    IndiGo  Mumbai     Chennai   23:15   1h 50m  Non Stop   1890   8   Mar   \n",
       "\n",
       "   Year Dep_h Dep_m  \n",
       "0  2022    19    30  \n",
       "1  2022    06    00  \n",
       "2  2022    05    50  \n",
       "3  2022    16    25  \n",
       "4  2022    21    25  "
      ]
     },
     "execution_count": 87,
     "metadata": {},
     "output_type": "execute_result"
    }
   ],
   "source": [
    "df.head()"
   ]
  },
  {
   "cell_type": "code",
   "execution_count": 88,
   "id": "5256873f",
   "metadata": {},
   "outputs": [],
   "source": [
    "df['Arr_h'],df['Arr_m']=df['Arrival'].str.split(':',2).str\n",
    "df.drop('Arrival',axis=1,inplace=True) #extracting hours and minutes from the arrival"
   ]
  },
  {
   "cell_type": "code",
   "execution_count": 89,
   "id": "8c188998",
   "metadata": {},
   "outputs": [
    {
     "data": {
      "text/html": [
       "<div>\n",
       "<style scoped>\n",
       "    .dataframe tbody tr th:only-of-type {\n",
       "        vertical-align: middle;\n",
       "    }\n",
       "\n",
       "    .dataframe tbody tr th {\n",
       "        vertical-align: top;\n",
       "    }\n",
       "\n",
       "    .dataframe thead th {\n",
       "        text-align: right;\n",
       "    }\n",
       "</style>\n",
       "<table border=\"1\" class=\"dataframe\">\n",
       "  <thead>\n",
       "    <tr style=\"text-align: right;\">\n",
       "      <th></th>\n",
       "      <th>Airline</th>\n",
       "      <th>Source</th>\n",
       "      <th>Destination</th>\n",
       "      <th>Duration</th>\n",
       "      <th>Stops</th>\n",
       "      <th>Price</th>\n",
       "      <th>Day</th>\n",
       "      <th>Month</th>\n",
       "      <th>Year</th>\n",
       "      <th>Dep_h</th>\n",
       "      <th>Dep_m</th>\n",
       "      <th>Arr_h</th>\n",
       "      <th>Arr_m</th>\n",
       "    </tr>\n",
       "  </thead>\n",
       "  <tbody>\n",
       "    <tr>\n",
       "      <th>0</th>\n",
       "      <td>SpiceJet</td>\n",
       "      <td>Mumbai</td>\n",
       "      <td>Chennai</td>\n",
       "      <td>1h 50m</td>\n",
       "      <td>Non Stop</td>\n",
       "      <td>1888</td>\n",
       "      <td>8</td>\n",
       "      <td>Mar</td>\n",
       "      <td>2022</td>\n",
       "      <td>19</td>\n",
       "      <td>30</td>\n",
       "      <td>21</td>\n",
       "      <td>20</td>\n",
       "    </tr>\n",
       "    <tr>\n",
       "      <th>1</th>\n",
       "      <td>SpiceJet</td>\n",
       "      <td>Mumbai</td>\n",
       "      <td>Chennai</td>\n",
       "      <td>2h 00m</td>\n",
       "      <td>Non Stop</td>\n",
       "      <td>1888</td>\n",
       "      <td>8</td>\n",
       "      <td>Mar</td>\n",
       "      <td>2022</td>\n",
       "      <td>06</td>\n",
       "      <td>00</td>\n",
       "      <td>08</td>\n",
       "      <td>00</td>\n",
       "    </tr>\n",
       "    <tr>\n",
       "      <th>2</th>\n",
       "      <td>Go First</td>\n",
       "      <td>Mumbai</td>\n",
       "      <td>Chennai</td>\n",
       "      <td>1h 50m</td>\n",
       "      <td>Non Stop</td>\n",
       "      <td>1890</td>\n",
       "      <td>8</td>\n",
       "      <td>Mar</td>\n",
       "      <td>2022</td>\n",
       "      <td>05</td>\n",
       "      <td>50</td>\n",
       "      <td>07</td>\n",
       "      <td>40</td>\n",
       "    </tr>\n",
       "    <tr>\n",
       "      <th>3</th>\n",
       "      <td>IndiGo</td>\n",
       "      <td>Mumbai</td>\n",
       "      <td>Chennai</td>\n",
       "      <td>1h 50m</td>\n",
       "      <td>Non Stop</td>\n",
       "      <td>1890</td>\n",
       "      <td>8</td>\n",
       "      <td>Mar</td>\n",
       "      <td>2022</td>\n",
       "      <td>16</td>\n",
       "      <td>25</td>\n",
       "      <td>18</td>\n",
       "      <td>15</td>\n",
       "    </tr>\n",
       "    <tr>\n",
       "      <th>4</th>\n",
       "      <td>IndiGo</td>\n",
       "      <td>Mumbai</td>\n",
       "      <td>Chennai</td>\n",
       "      <td>1h 50m</td>\n",
       "      <td>Non Stop</td>\n",
       "      <td>1890</td>\n",
       "      <td>8</td>\n",
       "      <td>Mar</td>\n",
       "      <td>2022</td>\n",
       "      <td>21</td>\n",
       "      <td>25</td>\n",
       "      <td>23</td>\n",
       "      <td>15</td>\n",
       "    </tr>\n",
       "  </tbody>\n",
       "</table>\n",
       "</div>"
      ],
      "text/plain": [
       "    Airline  Source Destination Duration     Stops  Price Day Month  Year  \\\n",
       "0  SpiceJet  Mumbai     Chennai   1h 50m  Non Stop   1888   8   Mar  2022   \n",
       "1  SpiceJet  Mumbai     Chennai   2h 00m  Non Stop   1888   8   Mar  2022   \n",
       "2  Go First  Mumbai     Chennai   1h 50m  Non Stop   1890   8   Mar  2022   \n",
       "3    IndiGo  Mumbai     Chennai   1h 50m  Non Stop   1890   8   Mar  2022   \n",
       "4    IndiGo  Mumbai     Chennai   1h 50m  Non Stop   1890   8   Mar  2022   \n",
       "\n",
       "  Dep_h Dep_m Arr_h Arr_m  \n",
       "0    19    30    21    20  \n",
       "1    06    00    08    00  \n",
       "2    05    50    07    40  \n",
       "3    16    25    18    15  \n",
       "4    21    25    23    15  "
      ]
     },
     "execution_count": 89,
     "metadata": {},
     "output_type": "execute_result"
    }
   ],
   "source": [
    "df.head()"
   ]
  },
  {
   "cell_type": "code",
   "execution_count": 90,
   "id": "c7584103",
   "metadata": {},
   "outputs": [],
   "source": [
    "df['duration'] = df['Duration'].str.replace('h',':').str.replace('m','') #replacing hour and minute from the duration "
   ]
  },
  {
   "cell_type": "code",
   "execution_count": 91,
   "id": "15ba7aa6",
   "metadata": {},
   "outputs": [
    {
     "data": {
      "text/html": [
       "<div>\n",
       "<style scoped>\n",
       "    .dataframe tbody tr th:only-of-type {\n",
       "        vertical-align: middle;\n",
       "    }\n",
       "\n",
       "    .dataframe tbody tr th {\n",
       "        vertical-align: top;\n",
       "    }\n",
       "\n",
       "    .dataframe thead th {\n",
       "        text-align: right;\n",
       "    }\n",
       "</style>\n",
       "<table border=\"1\" class=\"dataframe\">\n",
       "  <thead>\n",
       "    <tr style=\"text-align: right;\">\n",
       "      <th></th>\n",
       "      <th>Airline</th>\n",
       "      <th>Source</th>\n",
       "      <th>Destination</th>\n",
       "      <th>Duration</th>\n",
       "      <th>Stops</th>\n",
       "      <th>Price</th>\n",
       "      <th>Day</th>\n",
       "      <th>Month</th>\n",
       "      <th>Year</th>\n",
       "      <th>Dep_h</th>\n",
       "      <th>Dep_m</th>\n",
       "      <th>Arr_h</th>\n",
       "      <th>Arr_m</th>\n",
       "      <th>duration</th>\n",
       "    </tr>\n",
       "  </thead>\n",
       "  <tbody>\n",
       "    <tr>\n",
       "      <th>0</th>\n",
       "      <td>SpiceJet</td>\n",
       "      <td>Mumbai</td>\n",
       "      <td>Chennai</td>\n",
       "      <td>1h 50m</td>\n",
       "      <td>Non Stop</td>\n",
       "      <td>1888</td>\n",
       "      <td>8</td>\n",
       "      <td>Mar</td>\n",
       "      <td>2022</td>\n",
       "      <td>19</td>\n",
       "      <td>30</td>\n",
       "      <td>21</td>\n",
       "      <td>20</td>\n",
       "      <td>1: 50</td>\n",
       "    </tr>\n",
       "    <tr>\n",
       "      <th>1</th>\n",
       "      <td>SpiceJet</td>\n",
       "      <td>Mumbai</td>\n",
       "      <td>Chennai</td>\n",
       "      <td>2h 00m</td>\n",
       "      <td>Non Stop</td>\n",
       "      <td>1888</td>\n",
       "      <td>8</td>\n",
       "      <td>Mar</td>\n",
       "      <td>2022</td>\n",
       "      <td>06</td>\n",
       "      <td>00</td>\n",
       "      <td>08</td>\n",
       "      <td>00</td>\n",
       "      <td>2: 00</td>\n",
       "    </tr>\n",
       "    <tr>\n",
       "      <th>2</th>\n",
       "      <td>Go First</td>\n",
       "      <td>Mumbai</td>\n",
       "      <td>Chennai</td>\n",
       "      <td>1h 50m</td>\n",
       "      <td>Non Stop</td>\n",
       "      <td>1890</td>\n",
       "      <td>8</td>\n",
       "      <td>Mar</td>\n",
       "      <td>2022</td>\n",
       "      <td>05</td>\n",
       "      <td>50</td>\n",
       "      <td>07</td>\n",
       "      <td>40</td>\n",
       "      <td>1: 50</td>\n",
       "    </tr>\n",
       "    <tr>\n",
       "      <th>3</th>\n",
       "      <td>IndiGo</td>\n",
       "      <td>Mumbai</td>\n",
       "      <td>Chennai</td>\n",
       "      <td>1h 50m</td>\n",
       "      <td>Non Stop</td>\n",
       "      <td>1890</td>\n",
       "      <td>8</td>\n",
       "      <td>Mar</td>\n",
       "      <td>2022</td>\n",
       "      <td>16</td>\n",
       "      <td>25</td>\n",
       "      <td>18</td>\n",
       "      <td>15</td>\n",
       "      <td>1: 50</td>\n",
       "    </tr>\n",
       "    <tr>\n",
       "      <th>4</th>\n",
       "      <td>IndiGo</td>\n",
       "      <td>Mumbai</td>\n",
       "      <td>Chennai</td>\n",
       "      <td>1h 50m</td>\n",
       "      <td>Non Stop</td>\n",
       "      <td>1890</td>\n",
       "      <td>8</td>\n",
       "      <td>Mar</td>\n",
       "      <td>2022</td>\n",
       "      <td>21</td>\n",
       "      <td>25</td>\n",
       "      <td>23</td>\n",
       "      <td>15</td>\n",
       "      <td>1: 50</td>\n",
       "    </tr>\n",
       "  </tbody>\n",
       "</table>\n",
       "</div>"
      ],
      "text/plain": [
       "    Airline  Source Destination Duration     Stops  Price Day Month  Year  \\\n",
       "0  SpiceJet  Mumbai     Chennai   1h 50m  Non Stop   1888   8   Mar  2022   \n",
       "1  SpiceJet  Mumbai     Chennai   2h 00m  Non Stop   1888   8   Mar  2022   \n",
       "2  Go First  Mumbai     Chennai   1h 50m  Non Stop   1890   8   Mar  2022   \n",
       "3    IndiGo  Mumbai     Chennai   1h 50m  Non Stop   1890   8   Mar  2022   \n",
       "4    IndiGo  Mumbai     Chennai   1h 50m  Non Stop   1890   8   Mar  2022   \n",
       "\n",
       "  Dep_h Dep_m Arr_h Arr_m duration  \n",
       "0    19    30    21    20    1: 50  \n",
       "1    06    00    08    00    2: 00  \n",
       "2    05    50    07    40    1: 50  \n",
       "3    16    25    18    15    1: 50  \n",
       "4    21    25    23    15    1: 50  "
      ]
     },
     "execution_count": 91,
     "metadata": {},
     "output_type": "execute_result"
    }
   ],
   "source": [
    "df.head()"
   ]
  },
  {
   "cell_type": "code",
   "execution_count": 92,
   "id": "925e2eea",
   "metadata": {},
   "outputs": [],
   "source": [
    "df['Dur_h'],df['Dur_m']=df['duration'].str.split(':',2).str #extracting hours and minutes from duration"
   ]
  },
  {
   "cell_type": "code",
   "execution_count": 93,
   "id": "6411aa08",
   "metadata": {},
   "outputs": [
    {
     "data": {
      "text/html": [
       "<div>\n",
       "<style scoped>\n",
       "    .dataframe tbody tr th:only-of-type {\n",
       "        vertical-align: middle;\n",
       "    }\n",
       "\n",
       "    .dataframe tbody tr th {\n",
       "        vertical-align: top;\n",
       "    }\n",
       "\n",
       "    .dataframe thead th {\n",
       "        text-align: right;\n",
       "    }\n",
       "</style>\n",
       "<table border=\"1\" class=\"dataframe\">\n",
       "  <thead>\n",
       "    <tr style=\"text-align: right;\">\n",
       "      <th></th>\n",
       "      <th>Airline</th>\n",
       "      <th>Source</th>\n",
       "      <th>Destination</th>\n",
       "      <th>Duration</th>\n",
       "      <th>Stops</th>\n",
       "      <th>Price</th>\n",
       "      <th>Day</th>\n",
       "      <th>Month</th>\n",
       "      <th>Year</th>\n",
       "      <th>Dep_h</th>\n",
       "      <th>Dep_m</th>\n",
       "      <th>Arr_h</th>\n",
       "      <th>Arr_m</th>\n",
       "      <th>duration</th>\n",
       "      <th>Dur_h</th>\n",
       "      <th>Dur_m</th>\n",
       "    </tr>\n",
       "  </thead>\n",
       "  <tbody>\n",
       "    <tr>\n",
       "      <th>0</th>\n",
       "      <td>SpiceJet</td>\n",
       "      <td>Mumbai</td>\n",
       "      <td>Chennai</td>\n",
       "      <td>1h 50m</td>\n",
       "      <td>Non Stop</td>\n",
       "      <td>1888</td>\n",
       "      <td>8</td>\n",
       "      <td>Mar</td>\n",
       "      <td>2022</td>\n",
       "      <td>19</td>\n",
       "      <td>30</td>\n",
       "      <td>21</td>\n",
       "      <td>20</td>\n",
       "      <td>1: 50</td>\n",
       "      <td>1</td>\n",
       "      <td>50</td>\n",
       "    </tr>\n",
       "    <tr>\n",
       "      <th>1</th>\n",
       "      <td>SpiceJet</td>\n",
       "      <td>Mumbai</td>\n",
       "      <td>Chennai</td>\n",
       "      <td>2h 00m</td>\n",
       "      <td>Non Stop</td>\n",
       "      <td>1888</td>\n",
       "      <td>8</td>\n",
       "      <td>Mar</td>\n",
       "      <td>2022</td>\n",
       "      <td>06</td>\n",
       "      <td>00</td>\n",
       "      <td>08</td>\n",
       "      <td>00</td>\n",
       "      <td>2: 00</td>\n",
       "      <td>2</td>\n",
       "      <td>00</td>\n",
       "    </tr>\n",
       "    <tr>\n",
       "      <th>2</th>\n",
       "      <td>Go First</td>\n",
       "      <td>Mumbai</td>\n",
       "      <td>Chennai</td>\n",
       "      <td>1h 50m</td>\n",
       "      <td>Non Stop</td>\n",
       "      <td>1890</td>\n",
       "      <td>8</td>\n",
       "      <td>Mar</td>\n",
       "      <td>2022</td>\n",
       "      <td>05</td>\n",
       "      <td>50</td>\n",
       "      <td>07</td>\n",
       "      <td>40</td>\n",
       "      <td>1: 50</td>\n",
       "      <td>1</td>\n",
       "      <td>50</td>\n",
       "    </tr>\n",
       "    <tr>\n",
       "      <th>3</th>\n",
       "      <td>IndiGo</td>\n",
       "      <td>Mumbai</td>\n",
       "      <td>Chennai</td>\n",
       "      <td>1h 50m</td>\n",
       "      <td>Non Stop</td>\n",
       "      <td>1890</td>\n",
       "      <td>8</td>\n",
       "      <td>Mar</td>\n",
       "      <td>2022</td>\n",
       "      <td>16</td>\n",
       "      <td>25</td>\n",
       "      <td>18</td>\n",
       "      <td>15</td>\n",
       "      <td>1: 50</td>\n",
       "      <td>1</td>\n",
       "      <td>50</td>\n",
       "    </tr>\n",
       "    <tr>\n",
       "      <th>4</th>\n",
       "      <td>IndiGo</td>\n",
       "      <td>Mumbai</td>\n",
       "      <td>Chennai</td>\n",
       "      <td>1h 50m</td>\n",
       "      <td>Non Stop</td>\n",
       "      <td>1890</td>\n",
       "      <td>8</td>\n",
       "      <td>Mar</td>\n",
       "      <td>2022</td>\n",
       "      <td>21</td>\n",
       "      <td>25</td>\n",
       "      <td>23</td>\n",
       "      <td>15</td>\n",
       "      <td>1: 50</td>\n",
       "      <td>1</td>\n",
       "      <td>50</td>\n",
       "    </tr>\n",
       "  </tbody>\n",
       "</table>\n",
       "</div>"
      ],
      "text/plain": [
       "    Airline  Source Destination Duration     Stops  Price Day Month  Year  \\\n",
       "0  SpiceJet  Mumbai     Chennai   1h 50m  Non Stop   1888   8   Mar  2022   \n",
       "1  SpiceJet  Mumbai     Chennai   2h 00m  Non Stop   1888   8   Mar  2022   \n",
       "2  Go First  Mumbai     Chennai   1h 50m  Non Stop   1890   8   Mar  2022   \n",
       "3    IndiGo  Mumbai     Chennai   1h 50m  Non Stop   1890   8   Mar  2022   \n",
       "4    IndiGo  Mumbai     Chennai   1h 50m  Non Stop   1890   8   Mar  2022   \n",
       "\n",
       "  Dep_h Dep_m Arr_h Arr_m duration Dur_h Dur_m  \n",
       "0    19    30    21    20    1: 50     1    50  \n",
       "1    06    00    08    00    2: 00     2    00  \n",
       "2    05    50    07    40    1: 50     1    50  \n",
       "3    16    25    18    15    1: 50     1    50  \n",
       "4    21    25    23    15    1: 50     1    50  "
      ]
     },
     "execution_count": 93,
     "metadata": {},
     "output_type": "execute_result"
    }
   ],
   "source": [
    "df.head()"
   ]
  },
  {
   "cell_type": "code",
   "execution_count": 94,
   "id": "f7fa0736",
   "metadata": {},
   "outputs": [],
   "source": [
    "df.drop('duration',axis=1,inplace=True)\n",
    "df.drop('Duration',axis=1,inplace=True)"
   ]
  },
  {
   "cell_type": "code",
   "execution_count": 95,
   "id": "677fd8a6",
   "metadata": {},
   "outputs": [
    {
     "data": {
      "text/html": [
       "<div>\n",
       "<style scoped>\n",
       "    .dataframe tbody tr th:only-of-type {\n",
       "        vertical-align: middle;\n",
       "    }\n",
       "\n",
       "    .dataframe tbody tr th {\n",
       "        vertical-align: top;\n",
       "    }\n",
       "\n",
       "    .dataframe thead th {\n",
       "        text-align: right;\n",
       "    }\n",
       "</style>\n",
       "<table border=\"1\" class=\"dataframe\">\n",
       "  <thead>\n",
       "    <tr style=\"text-align: right;\">\n",
       "      <th></th>\n",
       "      <th>Airline</th>\n",
       "      <th>Source</th>\n",
       "      <th>Destination</th>\n",
       "      <th>Stops</th>\n",
       "      <th>Price</th>\n",
       "      <th>Day</th>\n",
       "      <th>Month</th>\n",
       "      <th>Year</th>\n",
       "      <th>Dep_h</th>\n",
       "      <th>Dep_m</th>\n",
       "      <th>Arr_h</th>\n",
       "      <th>Arr_m</th>\n",
       "      <th>Dur_h</th>\n",
       "      <th>Dur_m</th>\n",
       "    </tr>\n",
       "  </thead>\n",
       "  <tbody>\n",
       "    <tr>\n",
       "      <th>0</th>\n",
       "      <td>SpiceJet</td>\n",
       "      <td>Mumbai</td>\n",
       "      <td>Chennai</td>\n",
       "      <td>Non Stop</td>\n",
       "      <td>1888</td>\n",
       "      <td>8</td>\n",
       "      <td>Mar</td>\n",
       "      <td>2022</td>\n",
       "      <td>19</td>\n",
       "      <td>30</td>\n",
       "      <td>21</td>\n",
       "      <td>20</td>\n",
       "      <td>1</td>\n",
       "      <td>50</td>\n",
       "    </tr>\n",
       "    <tr>\n",
       "      <th>1</th>\n",
       "      <td>SpiceJet</td>\n",
       "      <td>Mumbai</td>\n",
       "      <td>Chennai</td>\n",
       "      <td>Non Stop</td>\n",
       "      <td>1888</td>\n",
       "      <td>8</td>\n",
       "      <td>Mar</td>\n",
       "      <td>2022</td>\n",
       "      <td>06</td>\n",
       "      <td>00</td>\n",
       "      <td>08</td>\n",
       "      <td>00</td>\n",
       "      <td>2</td>\n",
       "      <td>00</td>\n",
       "    </tr>\n",
       "    <tr>\n",
       "      <th>2</th>\n",
       "      <td>Go First</td>\n",
       "      <td>Mumbai</td>\n",
       "      <td>Chennai</td>\n",
       "      <td>Non Stop</td>\n",
       "      <td>1890</td>\n",
       "      <td>8</td>\n",
       "      <td>Mar</td>\n",
       "      <td>2022</td>\n",
       "      <td>05</td>\n",
       "      <td>50</td>\n",
       "      <td>07</td>\n",
       "      <td>40</td>\n",
       "      <td>1</td>\n",
       "      <td>50</td>\n",
       "    </tr>\n",
       "    <tr>\n",
       "      <th>3</th>\n",
       "      <td>IndiGo</td>\n",
       "      <td>Mumbai</td>\n",
       "      <td>Chennai</td>\n",
       "      <td>Non Stop</td>\n",
       "      <td>1890</td>\n",
       "      <td>8</td>\n",
       "      <td>Mar</td>\n",
       "      <td>2022</td>\n",
       "      <td>16</td>\n",
       "      <td>25</td>\n",
       "      <td>18</td>\n",
       "      <td>15</td>\n",
       "      <td>1</td>\n",
       "      <td>50</td>\n",
       "    </tr>\n",
       "    <tr>\n",
       "      <th>4</th>\n",
       "      <td>IndiGo</td>\n",
       "      <td>Mumbai</td>\n",
       "      <td>Chennai</td>\n",
       "      <td>Non Stop</td>\n",
       "      <td>1890</td>\n",
       "      <td>8</td>\n",
       "      <td>Mar</td>\n",
       "      <td>2022</td>\n",
       "      <td>21</td>\n",
       "      <td>25</td>\n",
       "      <td>23</td>\n",
       "      <td>15</td>\n",
       "      <td>1</td>\n",
       "      <td>50</td>\n",
       "    </tr>\n",
       "  </tbody>\n",
       "</table>\n",
       "</div>"
      ],
      "text/plain": [
       "    Airline  Source Destination     Stops  Price Day Month  Year Dep_h Dep_m  \\\n",
       "0  SpiceJet  Mumbai     Chennai  Non Stop   1888   8   Mar  2022    19    30   \n",
       "1  SpiceJet  Mumbai     Chennai  Non Stop   1888   8   Mar  2022    06    00   \n",
       "2  Go First  Mumbai     Chennai  Non Stop   1890   8   Mar  2022    05    50   \n",
       "3    IndiGo  Mumbai     Chennai  Non Stop   1890   8   Mar  2022    16    25   \n",
       "4    IndiGo  Mumbai     Chennai  Non Stop   1890   8   Mar  2022    21    25   \n",
       "\n",
       "  Arr_h Arr_m Dur_h Dur_m  \n",
       "0    21    20     1    50  \n",
       "1    08    00     2    00  \n",
       "2    07    40     1    50  \n",
       "3    18    15     1    50  \n",
       "4    23    15     1    50  "
      ]
     },
     "execution_count": 95,
     "metadata": {},
     "output_type": "execute_result"
    }
   ],
   "source": [
    "df.head()"
   ]
  },
  {
   "cell_type": "code",
   "execution_count": 96,
   "id": "9d2498af",
   "metadata": {},
   "outputs": [
    {
     "data": {
      "text/plain": [
       "Airline        object\n",
       "Source         object\n",
       "Destination    object\n",
       "Stops          object\n",
       "Price           int32\n",
       "Day            object\n",
       "Month          object\n",
       "Year           object\n",
       "Dep_h          object\n",
       "Dep_m          object\n",
       "Arr_h          object\n",
       "Arr_m          object\n",
       "Dur_h          object\n",
       "Dur_m          object\n",
       "dtype: object"
      ]
     },
     "execution_count": 96,
     "metadata": {},
     "output_type": "execute_result"
    }
   ],
   "source": [
    "df.dtypes"
   ]
  },
  {
   "cell_type": "code",
   "execution_count": 97,
   "id": "8a45638b",
   "metadata": {},
   "outputs": [],
   "source": [
    "df['Dur_m'].replace(r'',np.NaN,inplace=True) #replacing empty spaces with nan spaces"
   ]
  },
  {
   "cell_type": "code",
   "execution_count": 98,
   "id": "f70de604",
   "metadata": {},
   "outputs": [
    {
     "data": {
      "text/plain": [
       "Airline        0\n",
       "Source         0\n",
       "Destination    0\n",
       "Stops          0\n",
       "Price          0\n",
       "Day            0\n",
       "Month          0\n",
       "Year           0\n",
       "Dep_h          0\n",
       "Dep_m          0\n",
       "Arr_h          0\n",
       "Arr_m          0\n",
       "Dur_h          0\n",
       "Dur_m          7\n",
       "dtype: int64"
      ]
     },
     "execution_count": 98,
     "metadata": {},
     "output_type": "execute_result"
    }
   ],
   "source": [
    "df.isnull().sum() #checking the null values"
   ]
  },
  {
   "cell_type": "code",
   "execution_count": 99,
   "id": "33190a6c",
   "metadata": {},
   "outputs": [],
   "source": [
    "df['Dur_m'].fillna(0,inplace=True) #filling the nan values with 0"
   ]
  },
  {
   "cell_type": "code",
   "execution_count": 100,
   "id": "33b215c4",
   "metadata": {},
   "outputs": [],
   "source": [
    "df['arr_m'],df['day'] = df['Arr_m'].str.split('+',2).str\n",
    "df.drop('Arr_m',axis=1,inplace=True)  # making column from arrival to seperate time and days"
   ]
  },
  {
   "cell_type": "code",
   "execution_count": 101,
   "id": "9ea09815",
   "metadata": {},
   "outputs": [
    {
     "data": {
      "text/html": [
       "<div>\n",
       "<style scoped>\n",
       "    .dataframe tbody tr th:only-of-type {\n",
       "        vertical-align: middle;\n",
       "    }\n",
       "\n",
       "    .dataframe tbody tr th {\n",
       "        vertical-align: top;\n",
       "    }\n",
       "\n",
       "    .dataframe thead th {\n",
       "        text-align: right;\n",
       "    }\n",
       "</style>\n",
       "<table border=\"1\" class=\"dataframe\">\n",
       "  <thead>\n",
       "    <tr style=\"text-align: right;\">\n",
       "      <th></th>\n",
       "      <th>Airline</th>\n",
       "      <th>Source</th>\n",
       "      <th>Destination</th>\n",
       "      <th>Stops</th>\n",
       "      <th>Price</th>\n",
       "      <th>Day</th>\n",
       "      <th>Month</th>\n",
       "      <th>Year</th>\n",
       "      <th>Dep_h</th>\n",
       "      <th>Dep_m</th>\n",
       "      <th>Arr_h</th>\n",
       "      <th>Dur_h</th>\n",
       "      <th>Dur_m</th>\n",
       "      <th>arr_m</th>\n",
       "      <th>day</th>\n",
       "    </tr>\n",
       "  </thead>\n",
       "  <tbody>\n",
       "    <tr>\n",
       "      <th>0</th>\n",
       "      <td>SpiceJet</td>\n",
       "      <td>Mumbai</td>\n",
       "      <td>Chennai</td>\n",
       "      <td>Non Stop</td>\n",
       "      <td>1888</td>\n",
       "      <td>8</td>\n",
       "      <td>Mar</td>\n",
       "      <td>2022</td>\n",
       "      <td>19</td>\n",
       "      <td>30</td>\n",
       "      <td>21</td>\n",
       "      <td>1</td>\n",
       "      <td>50</td>\n",
       "      <td>20</td>\n",
       "      <td>NaN</td>\n",
       "    </tr>\n",
       "    <tr>\n",
       "      <th>1</th>\n",
       "      <td>SpiceJet</td>\n",
       "      <td>Mumbai</td>\n",
       "      <td>Chennai</td>\n",
       "      <td>Non Stop</td>\n",
       "      <td>1888</td>\n",
       "      <td>8</td>\n",
       "      <td>Mar</td>\n",
       "      <td>2022</td>\n",
       "      <td>06</td>\n",
       "      <td>00</td>\n",
       "      <td>08</td>\n",
       "      <td>2</td>\n",
       "      <td>00</td>\n",
       "      <td>00</td>\n",
       "      <td>NaN</td>\n",
       "    </tr>\n",
       "    <tr>\n",
       "      <th>2</th>\n",
       "      <td>Go First</td>\n",
       "      <td>Mumbai</td>\n",
       "      <td>Chennai</td>\n",
       "      <td>Non Stop</td>\n",
       "      <td>1890</td>\n",
       "      <td>8</td>\n",
       "      <td>Mar</td>\n",
       "      <td>2022</td>\n",
       "      <td>05</td>\n",
       "      <td>50</td>\n",
       "      <td>07</td>\n",
       "      <td>1</td>\n",
       "      <td>50</td>\n",
       "      <td>40</td>\n",
       "      <td>NaN</td>\n",
       "    </tr>\n",
       "    <tr>\n",
       "      <th>3</th>\n",
       "      <td>IndiGo</td>\n",
       "      <td>Mumbai</td>\n",
       "      <td>Chennai</td>\n",
       "      <td>Non Stop</td>\n",
       "      <td>1890</td>\n",
       "      <td>8</td>\n",
       "      <td>Mar</td>\n",
       "      <td>2022</td>\n",
       "      <td>16</td>\n",
       "      <td>25</td>\n",
       "      <td>18</td>\n",
       "      <td>1</td>\n",
       "      <td>50</td>\n",
       "      <td>15</td>\n",
       "      <td>NaN</td>\n",
       "    </tr>\n",
       "    <tr>\n",
       "      <th>4</th>\n",
       "      <td>IndiGo</td>\n",
       "      <td>Mumbai</td>\n",
       "      <td>Chennai</td>\n",
       "      <td>Non Stop</td>\n",
       "      <td>1890</td>\n",
       "      <td>8</td>\n",
       "      <td>Mar</td>\n",
       "      <td>2022</td>\n",
       "      <td>21</td>\n",
       "      <td>25</td>\n",
       "      <td>23</td>\n",
       "      <td>1</td>\n",
       "      <td>50</td>\n",
       "      <td>15</td>\n",
       "      <td>NaN</td>\n",
       "    </tr>\n",
       "    <tr>\n",
       "      <th>...</th>\n",
       "      <td>...</td>\n",
       "      <td>...</td>\n",
       "      <td>...</td>\n",
       "      <td>...</td>\n",
       "      <td>...</td>\n",
       "      <td>...</td>\n",
       "      <td>...</td>\n",
       "      <td>...</td>\n",
       "      <td>...</td>\n",
       "      <td>...</td>\n",
       "      <td>...</td>\n",
       "      <td>...</td>\n",
       "      <td>...</td>\n",
       "      <td>...</td>\n",
       "      <td>...</td>\n",
       "    </tr>\n",
       "    <tr>\n",
       "      <th>1571</th>\n",
       "      <td>Vistara</td>\n",
       "      <td>New Delhi</td>\n",
       "      <td>Kolkata</td>\n",
       "      <td>1 Stop</td>\n",
       "      <td>4868</td>\n",
       "      <td>24</td>\n",
       "      <td>Feb</td>\n",
       "      <td>2022</td>\n",
       "      <td>09</td>\n",
       "      <td>30</td>\n",
       "      <td>16</td>\n",
       "      <td>07</td>\n",
       "      <td>25</td>\n",
       "      <td>55</td>\n",
       "      <td>NaN</td>\n",
       "    </tr>\n",
       "    <tr>\n",
       "      <th>1572</th>\n",
       "      <td>Vistara</td>\n",
       "      <td>New Delhi</td>\n",
       "      <td>Kolkata</td>\n",
       "      <td>1 Stop</td>\n",
       "      <td>4868</td>\n",
       "      <td>24</td>\n",
       "      <td>Feb</td>\n",
       "      <td>2022</td>\n",
       "      <td>14</td>\n",
       "      <td>20</td>\n",
       "      <td>19</td>\n",
       "      <td>05</td>\n",
       "      <td>35</td>\n",
       "      <td>55</td>\n",
       "      <td>NaN</td>\n",
       "    </tr>\n",
       "    <tr>\n",
       "      <th>1573</th>\n",
       "      <td>Vistara</td>\n",
       "      <td>New Delhi</td>\n",
       "      <td>Kolkata</td>\n",
       "      <td>1 Stop</td>\n",
       "      <td>4868</td>\n",
       "      <td>24</td>\n",
       "      <td>Feb</td>\n",
       "      <td>2022</td>\n",
       "      <td>12</td>\n",
       "      <td>50</td>\n",
       "      <td>19</td>\n",
       "      <td>07</td>\n",
       "      <td>05</td>\n",
       "      <td>55</td>\n",
       "      <td>NaN</td>\n",
       "    </tr>\n",
       "    <tr>\n",
       "      <th>1574</th>\n",
       "      <td>SpiceJet</td>\n",
       "      <td>New Delhi</td>\n",
       "      <td>Kolkata</td>\n",
       "      <td>1 Stop</td>\n",
       "      <td>4898</td>\n",
       "      <td>24</td>\n",
       "      <td>Feb</td>\n",
       "      <td>2022</td>\n",
       "      <td>09</td>\n",
       "      <td>25</td>\n",
       "      <td>14</td>\n",
       "      <td>04</td>\n",
       "      <td>55</td>\n",
       "      <td>20</td>\n",
       "      <td>NaN</td>\n",
       "    </tr>\n",
       "    <tr>\n",
       "      <th>1575</th>\n",
       "      <td>Go First</td>\n",
       "      <td>New Delhi</td>\n",
       "      <td>Kolkata</td>\n",
       "      <td>1 Stop</td>\n",
       "      <td>5692</td>\n",
       "      <td>24</td>\n",
       "      <td>Feb</td>\n",
       "      <td>2022</td>\n",
       "      <td>11</td>\n",
       "      <td>10</td>\n",
       "      <td>15</td>\n",
       "      <td>04</td>\n",
       "      <td>40</td>\n",
       "      <td>50</td>\n",
       "      <td>NaN</td>\n",
       "    </tr>\n",
       "  </tbody>\n",
       "</table>\n",
       "<p>1572 rows × 15 columns</p>\n",
       "</div>"
      ],
      "text/plain": [
       "       Airline     Source Destination     Stops  Price Day Month  Year Dep_h  \\\n",
       "0     SpiceJet     Mumbai     Chennai  Non Stop   1888   8   Mar  2022    19   \n",
       "1     SpiceJet     Mumbai     Chennai  Non Stop   1888   8   Mar  2022    06   \n",
       "2     Go First     Mumbai     Chennai  Non Stop   1890   8   Mar  2022    05   \n",
       "3       IndiGo     Mumbai     Chennai  Non Stop   1890   8   Mar  2022    16   \n",
       "4       IndiGo     Mumbai     Chennai  Non Stop   1890   8   Mar  2022    21   \n",
       "...        ...        ...         ...       ...    ...  ..   ...   ...   ...   \n",
       "1571   Vistara  New Delhi     Kolkata    1 Stop   4868  24   Feb  2022    09   \n",
       "1572   Vistara  New Delhi     Kolkata    1 Stop   4868  24   Feb  2022    14   \n",
       "1573   Vistara  New Delhi     Kolkata    1 Stop   4868  24   Feb  2022    12   \n",
       "1574  SpiceJet  New Delhi     Kolkata    1 Stop   4898  24   Feb  2022    09   \n",
       "1575  Go First  New Delhi     Kolkata    1 Stop   5692  24   Feb  2022    11   \n",
       "\n",
       "     Dep_m Arr_h Dur_h Dur_m arr_m  day  \n",
       "0       30    21     1    50    20  NaN  \n",
       "1       00    08     2    00    00  NaN  \n",
       "2       50    07     1    50    40  NaN  \n",
       "3       25    18     1    50    15  NaN  \n",
       "4       25    23     1    50    15  NaN  \n",
       "...    ...   ...   ...   ...   ...  ...  \n",
       "1571    30    16   07    25     55  NaN  \n",
       "1572    20    19   05    35     55  NaN  \n",
       "1573    50    19   07    05     55  NaN  \n",
       "1574    25    14   04    55     20  NaN  \n",
       "1575    10    15   04    40     50  NaN  \n",
       "\n",
       "[1572 rows x 15 columns]"
      ]
     },
     "execution_count": 101,
     "metadata": {},
     "output_type": "execute_result"
    }
   ],
   "source": [
    "df"
   ]
  },
  {
   "cell_type": "code",
   "execution_count": 102,
   "id": "d231b589",
   "metadata": {},
   "outputs": [],
   "source": [
    "df.drop('day',axis=1,inplace=True) #drop the day column as it gives no information"
   ]
  },
  {
   "cell_type": "code",
   "execution_count": 103,
   "id": "013ed1f1",
   "metadata": {},
   "outputs": [
    {
     "data": {
      "text/html": [
       "<div>\n",
       "<style scoped>\n",
       "    .dataframe tbody tr th:only-of-type {\n",
       "        vertical-align: middle;\n",
       "    }\n",
       "\n",
       "    .dataframe tbody tr th {\n",
       "        vertical-align: top;\n",
       "    }\n",
       "\n",
       "    .dataframe thead th {\n",
       "        text-align: right;\n",
       "    }\n",
       "</style>\n",
       "<table border=\"1\" class=\"dataframe\">\n",
       "  <thead>\n",
       "    <tr style=\"text-align: right;\">\n",
       "      <th></th>\n",
       "      <th>Airline</th>\n",
       "      <th>Source</th>\n",
       "      <th>Destination</th>\n",
       "      <th>Stops</th>\n",
       "      <th>Price</th>\n",
       "      <th>Day</th>\n",
       "      <th>Month</th>\n",
       "      <th>Year</th>\n",
       "      <th>Dep_h</th>\n",
       "      <th>Dep_m</th>\n",
       "      <th>Arr_h</th>\n",
       "      <th>Dur_h</th>\n",
       "      <th>Dur_m</th>\n",
       "      <th>arr_m</th>\n",
       "    </tr>\n",
       "  </thead>\n",
       "  <tbody>\n",
       "    <tr>\n",
       "      <th>0</th>\n",
       "      <td>SpiceJet</td>\n",
       "      <td>Mumbai</td>\n",
       "      <td>Chennai</td>\n",
       "      <td>Non Stop</td>\n",
       "      <td>1888</td>\n",
       "      <td>8</td>\n",
       "      <td>Mar</td>\n",
       "      <td>2022</td>\n",
       "      <td>19</td>\n",
       "      <td>30</td>\n",
       "      <td>21</td>\n",
       "      <td>1</td>\n",
       "      <td>50</td>\n",
       "      <td>20</td>\n",
       "    </tr>\n",
       "    <tr>\n",
       "      <th>1</th>\n",
       "      <td>SpiceJet</td>\n",
       "      <td>Mumbai</td>\n",
       "      <td>Chennai</td>\n",
       "      <td>Non Stop</td>\n",
       "      <td>1888</td>\n",
       "      <td>8</td>\n",
       "      <td>Mar</td>\n",
       "      <td>2022</td>\n",
       "      <td>06</td>\n",
       "      <td>00</td>\n",
       "      <td>08</td>\n",
       "      <td>2</td>\n",
       "      <td>00</td>\n",
       "      <td>00</td>\n",
       "    </tr>\n",
       "    <tr>\n",
       "      <th>2</th>\n",
       "      <td>Go First</td>\n",
       "      <td>Mumbai</td>\n",
       "      <td>Chennai</td>\n",
       "      <td>Non Stop</td>\n",
       "      <td>1890</td>\n",
       "      <td>8</td>\n",
       "      <td>Mar</td>\n",
       "      <td>2022</td>\n",
       "      <td>05</td>\n",
       "      <td>50</td>\n",
       "      <td>07</td>\n",
       "      <td>1</td>\n",
       "      <td>50</td>\n",
       "      <td>40</td>\n",
       "    </tr>\n",
       "    <tr>\n",
       "      <th>3</th>\n",
       "      <td>IndiGo</td>\n",
       "      <td>Mumbai</td>\n",
       "      <td>Chennai</td>\n",
       "      <td>Non Stop</td>\n",
       "      <td>1890</td>\n",
       "      <td>8</td>\n",
       "      <td>Mar</td>\n",
       "      <td>2022</td>\n",
       "      <td>16</td>\n",
       "      <td>25</td>\n",
       "      <td>18</td>\n",
       "      <td>1</td>\n",
       "      <td>50</td>\n",
       "      <td>15</td>\n",
       "    </tr>\n",
       "    <tr>\n",
       "      <th>4</th>\n",
       "      <td>IndiGo</td>\n",
       "      <td>Mumbai</td>\n",
       "      <td>Chennai</td>\n",
       "      <td>Non Stop</td>\n",
       "      <td>1890</td>\n",
       "      <td>8</td>\n",
       "      <td>Mar</td>\n",
       "      <td>2022</td>\n",
       "      <td>21</td>\n",
       "      <td>25</td>\n",
       "      <td>23</td>\n",
       "      <td>1</td>\n",
       "      <td>50</td>\n",
       "      <td>15</td>\n",
       "    </tr>\n",
       "  </tbody>\n",
       "</table>\n",
       "</div>"
      ],
      "text/plain": [
       "    Airline  Source Destination     Stops  Price Day Month  Year Dep_h Dep_m  \\\n",
       "0  SpiceJet  Mumbai     Chennai  Non Stop   1888   8   Mar  2022    19    30   \n",
       "1  SpiceJet  Mumbai     Chennai  Non Stop   1888   8   Mar  2022    06    00   \n",
       "2  Go First  Mumbai     Chennai  Non Stop   1890   8   Mar  2022    05    50   \n",
       "3    IndiGo  Mumbai     Chennai  Non Stop   1890   8   Mar  2022    16    25   \n",
       "4    IndiGo  Mumbai     Chennai  Non Stop   1890   8   Mar  2022    21    25   \n",
       "\n",
       "  Arr_h Dur_h Dur_m arr_m  \n",
       "0    21     1    50    20  \n",
       "1    08     2    00    00  \n",
       "2    07     1    50    40  \n",
       "3    18     1    50    15  \n",
       "4    23     1    50    15  "
      ]
     },
     "execution_count": 103,
     "metadata": {},
     "output_type": "execute_result"
    }
   ],
   "source": [
    "df.head()"
   ]
  },
  {
   "cell_type": "markdown",
   "id": "86dc186b",
   "metadata": {},
   "source": [
    "# Type Casting"
   ]
  },
  {
   "cell_type": "code",
   "execution_count": 104,
   "id": "f97eaeed",
   "metadata": {},
   "outputs": [],
   "source": [
    "df['Day']=df['Day'].astype(int)   #coverting the object data type into integer.\n",
    "df['Year']=df['Year'].astype(int)\n",
    "df['Dep_h']=df['Dep_h'].astype(int)\n",
    "df['Dep_m']=df['Dep_m'].astype(int)\n",
    "df['Dur_h']=df['Dur_h'].astype(int)\n",
    "df['Dur_m']=df['Dur_m'].astype(int)\n",
    "df['Arr_h']=df['Arr_h'].astype(int)\n",
    "df['arr_m']=df['arr_m'].astype(int)"
   ]
  },
  {
   "cell_type": "code",
   "execution_count": 105,
   "id": "eec4c5fb",
   "metadata": {},
   "outputs": [
    {
     "data": {
      "text/plain": [
       "Airline        object\n",
       "Source         object\n",
       "Destination    object\n",
       "Stops          object\n",
       "Price           int32\n",
       "Day             int32\n",
       "Month          object\n",
       "Year            int32\n",
       "Dep_h           int32\n",
       "Dep_m           int32\n",
       "Arr_h           int32\n",
       "Dur_h           int32\n",
       "Dur_m           int32\n",
       "arr_m           int32\n",
       "dtype: object"
      ]
     },
     "execution_count": 105,
     "metadata": {},
     "output_type": "execute_result"
    }
   ],
   "source": [
    "df.dtypes"
   ]
  },
  {
   "cell_type": "markdown",
   "id": "4b7917b7",
   "metadata": {},
   "source": [
    "# Label Encoding"
   ]
  },
  {
   "cell_type": "code",
   "execution_count": 106,
   "id": "29b6fafa",
   "metadata": {},
   "outputs": [],
   "source": [
    "from sklearn.preprocessing import LabelEncoder\n",
    "le=LabelEncoder() #converting the categorial data into numeric data\n",
    "name=['Airline','Source','Destination','Stops','Month']\n",
    "for val in name:\n",
    "    df[val]=le.fit_transform(df[val].astype(str))\n"
   ]
  },
  {
   "cell_type": "code",
   "execution_count": 107,
   "id": "d1287807",
   "metadata": {},
   "outputs": [
    {
     "data": {
      "text/html": [
       "<div>\n",
       "<style scoped>\n",
       "    .dataframe tbody tr th:only-of-type {\n",
       "        vertical-align: middle;\n",
       "    }\n",
       "\n",
       "    .dataframe tbody tr th {\n",
       "        vertical-align: top;\n",
       "    }\n",
       "\n",
       "    .dataframe thead th {\n",
       "        text-align: right;\n",
       "    }\n",
       "</style>\n",
       "<table border=\"1\" class=\"dataframe\">\n",
       "  <thead>\n",
       "    <tr style=\"text-align: right;\">\n",
       "      <th></th>\n",
       "      <th>Airline</th>\n",
       "      <th>Source</th>\n",
       "      <th>Destination</th>\n",
       "      <th>Stops</th>\n",
       "      <th>Price</th>\n",
       "      <th>Day</th>\n",
       "      <th>Month</th>\n",
       "      <th>Year</th>\n",
       "      <th>Dep_h</th>\n",
       "      <th>Dep_m</th>\n",
       "      <th>Arr_h</th>\n",
       "      <th>Dur_h</th>\n",
       "      <th>Dur_m</th>\n",
       "      <th>arr_m</th>\n",
       "    </tr>\n",
       "  </thead>\n",
       "  <tbody>\n",
       "    <tr>\n",
       "      <th>0</th>\n",
       "      <td>4</td>\n",
       "      <td>3</td>\n",
       "      <td>1</td>\n",
       "      <td>3</td>\n",
       "      <td>1888</td>\n",
       "      <td>8</td>\n",
       "      <td>3</td>\n",
       "      <td>2022</td>\n",
       "      <td>19</td>\n",
       "      <td>30</td>\n",
       "      <td>21</td>\n",
       "      <td>1</td>\n",
       "      <td>50</td>\n",
       "      <td>20</td>\n",
       "    </tr>\n",
       "    <tr>\n",
       "      <th>1</th>\n",
       "      <td>4</td>\n",
       "      <td>3</td>\n",
       "      <td>1</td>\n",
       "      <td>3</td>\n",
       "      <td>1888</td>\n",
       "      <td>8</td>\n",
       "      <td>3</td>\n",
       "      <td>2022</td>\n",
       "      <td>6</td>\n",
       "      <td>0</td>\n",
       "      <td>8</td>\n",
       "      <td>2</td>\n",
       "      <td>0</td>\n",
       "      <td>0</td>\n",
       "    </tr>\n",
       "    <tr>\n",
       "      <th>2</th>\n",
       "      <td>2</td>\n",
       "      <td>3</td>\n",
       "      <td>1</td>\n",
       "      <td>3</td>\n",
       "      <td>1890</td>\n",
       "      <td>8</td>\n",
       "      <td>3</td>\n",
       "      <td>2022</td>\n",
       "      <td>5</td>\n",
       "      <td>50</td>\n",
       "      <td>7</td>\n",
       "      <td>1</td>\n",
       "      <td>50</td>\n",
       "      <td>40</td>\n",
       "    </tr>\n",
       "    <tr>\n",
       "      <th>3</th>\n",
       "      <td>3</td>\n",
       "      <td>3</td>\n",
       "      <td>1</td>\n",
       "      <td>3</td>\n",
       "      <td>1890</td>\n",
       "      <td>8</td>\n",
       "      <td>3</td>\n",
       "      <td>2022</td>\n",
       "      <td>16</td>\n",
       "      <td>25</td>\n",
       "      <td>18</td>\n",
       "      <td>1</td>\n",
       "      <td>50</td>\n",
       "      <td>15</td>\n",
       "    </tr>\n",
       "    <tr>\n",
       "      <th>4</th>\n",
       "      <td>3</td>\n",
       "      <td>3</td>\n",
       "      <td>1</td>\n",
       "      <td>3</td>\n",
       "      <td>1890</td>\n",
       "      <td>8</td>\n",
       "      <td>3</td>\n",
       "      <td>2022</td>\n",
       "      <td>21</td>\n",
       "      <td>25</td>\n",
       "      <td>23</td>\n",
       "      <td>1</td>\n",
       "      <td>50</td>\n",
       "      <td>15</td>\n",
       "    </tr>\n",
       "  </tbody>\n",
       "</table>\n",
       "</div>"
      ],
      "text/plain": [
       "   Airline  Source  Destination  Stops  Price  Day  Month  Year  Dep_h  Dep_m  \\\n",
       "0        4       3            1      3   1888    8      3  2022     19     30   \n",
       "1        4       3            1      3   1888    8      3  2022      6      0   \n",
       "2        2       3            1      3   1890    8      3  2022      5     50   \n",
       "3        3       3            1      3   1890    8      3  2022     16     25   \n",
       "4        3       3            1      3   1890    8      3  2022     21     25   \n",
       "\n",
       "   Arr_h  Dur_h  Dur_m  arr_m  \n",
       "0     21      1     50     20  \n",
       "1      8      2      0      0  \n",
       "2      7      1     50     40  \n",
       "3     18      1     50     15  \n",
       "4     23      1     50     15  "
      ]
     },
     "execution_count": 107,
     "metadata": {},
     "output_type": "execute_result"
    }
   ],
   "source": [
    "df.head()"
   ]
  },
  {
   "cell_type": "code",
   "execution_count": 108,
   "id": "95a5097d",
   "metadata": {},
   "outputs": [
    {
     "data": {
      "text/html": [
       "<div>\n",
       "<style scoped>\n",
       "    .dataframe tbody tr th:only-of-type {\n",
       "        vertical-align: middle;\n",
       "    }\n",
       "\n",
       "    .dataframe tbody tr th {\n",
       "        vertical-align: top;\n",
       "    }\n",
       "\n",
       "    .dataframe thead th {\n",
       "        text-align: right;\n",
       "    }\n",
       "</style>\n",
       "<table border=\"1\" class=\"dataframe\">\n",
       "  <thead>\n",
       "    <tr style=\"text-align: right;\">\n",
       "      <th></th>\n",
       "      <th>Airline</th>\n",
       "      <th>Source</th>\n",
       "      <th>Destination</th>\n",
       "      <th>Stops</th>\n",
       "      <th>Price</th>\n",
       "      <th>Day</th>\n",
       "      <th>Month</th>\n",
       "      <th>Year</th>\n",
       "      <th>Dep_h</th>\n",
       "      <th>Dep_m</th>\n",
       "      <th>Arr_h</th>\n",
       "      <th>Dur_h</th>\n",
       "      <th>Dur_m</th>\n",
       "      <th>arr_m</th>\n",
       "    </tr>\n",
       "  </thead>\n",
       "  <tbody>\n",
       "    <tr>\n",
       "      <th>count</th>\n",
       "      <td>1572.000000</td>\n",
       "      <td>1572.000000</td>\n",
       "      <td>1572.000000</td>\n",
       "      <td>1572.000000</td>\n",
       "      <td>1572.000000</td>\n",
       "      <td>1572.000000</td>\n",
       "      <td>1572.000000</td>\n",
       "      <td>1572.0</td>\n",
       "      <td>1572.000000</td>\n",
       "      <td>1572.000000</td>\n",
       "      <td>1572.000000</td>\n",
       "      <td>1572.000000</td>\n",
       "      <td>1572.000000</td>\n",
       "      <td>1572.000000</td>\n",
       "    </tr>\n",
       "    <tr>\n",
       "      <th>mean</th>\n",
       "      <td>2.825064</td>\n",
       "      <td>1.848601</td>\n",
       "      <td>2.192112</td>\n",
       "      <td>0.681934</td>\n",
       "      <td>4424.307252</td>\n",
       "      <td>18.314249</td>\n",
       "      <td>2.652036</td>\n",
       "      <td>2022.0</td>\n",
       "      <td>12.606234</td>\n",
       "      <td>26.949746</td>\n",
       "      <td>15.150127</td>\n",
       "      <td>9.969466</td>\n",
       "      <td>26.962468</td>\n",
       "      <td>28.606870</td>\n",
       "    </tr>\n",
       "    <tr>\n",
       "      <th>std</th>\n",
       "      <td>1.698633</td>\n",
       "      <td>1.491748</td>\n",
       "      <td>1.360061</td>\n",
       "      <td>1.128579</td>\n",
       "      <td>1948.878044</td>\n",
       "      <td>9.075494</td>\n",
       "      <td>0.909902</td>\n",
       "      <td>0.0</td>\n",
       "      <td>5.300352</td>\n",
       "      <td>18.541660</td>\n",
       "      <td>6.230894</td>\n",
       "      <td>7.116228</td>\n",
       "      <td>17.802953</td>\n",
       "      <td>18.220466</td>\n",
       "    </tr>\n",
       "    <tr>\n",
       "      <th>min</th>\n",
       "      <td>0.000000</td>\n",
       "      <td>0.000000</td>\n",
       "      <td>0.000000</td>\n",
       "      <td>0.000000</td>\n",
       "      <td>1442.000000</td>\n",
       "      <td>1.000000</td>\n",
       "      <td>0.000000</td>\n",
       "      <td>2022.0</td>\n",
       "      <td>0.000000</td>\n",
       "      <td>0.000000</td>\n",
       "      <td>0.000000</td>\n",
       "      <td>0.000000</td>\n",
       "      <td>0.000000</td>\n",
       "      <td>0.000000</td>\n",
       "    </tr>\n",
       "    <tr>\n",
       "      <th>25%</th>\n",
       "      <td>1.000000</td>\n",
       "      <td>0.000000</td>\n",
       "      <td>1.000000</td>\n",
       "      <td>0.000000</td>\n",
       "      <td>3229.750000</td>\n",
       "      <td>18.000000</td>\n",
       "      <td>3.000000</td>\n",
       "      <td>2022.0</td>\n",
       "      <td>8.000000</td>\n",
       "      <td>10.000000</td>\n",
       "      <td>10.000000</td>\n",
       "      <td>5.000000</td>\n",
       "      <td>10.000000</td>\n",
       "      <td>10.000000</td>\n",
       "    </tr>\n",
       "    <tr>\n",
       "      <th>50%</th>\n",
       "      <td>3.000000</td>\n",
       "      <td>2.000000</td>\n",
       "      <td>2.000000</td>\n",
       "      <td>0.000000</td>\n",
       "      <td>4298.000000</td>\n",
       "      <td>23.000000</td>\n",
       "      <td>3.000000</td>\n",
       "      <td>2022.0</td>\n",
       "      <td>12.000000</td>\n",
       "      <td>30.000000</td>\n",
       "      <td>17.000000</td>\n",
       "      <td>8.000000</td>\n",
       "      <td>25.000000</td>\n",
       "      <td>30.000000</td>\n",
       "    </tr>\n",
       "    <tr>\n",
       "      <th>75%</th>\n",
       "      <td>5.000000</td>\n",
       "      <td>3.000000</td>\n",
       "      <td>3.000000</td>\n",
       "      <td>1.000000</td>\n",
       "      <td>5321.000000</td>\n",
       "      <td>24.000000</td>\n",
       "      <td>3.000000</td>\n",
       "      <td>2022.0</td>\n",
       "      <td>18.000000</td>\n",
       "      <td>45.000000</td>\n",
       "      <td>20.000000</td>\n",
       "      <td>13.000000</td>\n",
       "      <td>45.000000</td>\n",
       "      <td>45.000000</td>\n",
       "    </tr>\n",
       "    <tr>\n",
       "      <th>max</th>\n",
       "      <td>5.000000</td>\n",
       "      <td>4.000000</td>\n",
       "      <td>4.000000</td>\n",
       "      <td>3.000000</td>\n",
       "      <td>29147.000000</td>\n",
       "      <td>30.000000</td>\n",
       "      <td>3.000000</td>\n",
       "      <td>2022.0</td>\n",
       "      <td>23.000000</td>\n",
       "      <td>55.000000</td>\n",
       "      <td>23.000000</td>\n",
       "      <td>37.000000</td>\n",
       "      <td>55.000000</td>\n",
       "      <td>55.000000</td>\n",
       "    </tr>\n",
       "  </tbody>\n",
       "</table>\n",
       "</div>"
      ],
      "text/plain": [
       "           Airline       Source  Destination        Stops         Price  \\\n",
       "count  1572.000000  1572.000000  1572.000000  1572.000000   1572.000000   \n",
       "mean      2.825064     1.848601     2.192112     0.681934   4424.307252   \n",
       "std       1.698633     1.491748     1.360061     1.128579   1948.878044   \n",
       "min       0.000000     0.000000     0.000000     0.000000   1442.000000   \n",
       "25%       1.000000     0.000000     1.000000     0.000000   3229.750000   \n",
       "50%       3.000000     2.000000     2.000000     0.000000   4298.000000   \n",
       "75%       5.000000     3.000000     3.000000     1.000000   5321.000000   \n",
       "max       5.000000     4.000000     4.000000     3.000000  29147.000000   \n",
       "\n",
       "               Day        Month    Year        Dep_h        Dep_m  \\\n",
       "count  1572.000000  1572.000000  1572.0  1572.000000  1572.000000   \n",
       "mean     18.314249     2.652036  2022.0    12.606234    26.949746   \n",
       "std       9.075494     0.909902     0.0     5.300352    18.541660   \n",
       "min       1.000000     0.000000  2022.0     0.000000     0.000000   \n",
       "25%      18.000000     3.000000  2022.0     8.000000    10.000000   \n",
       "50%      23.000000     3.000000  2022.0    12.000000    30.000000   \n",
       "75%      24.000000     3.000000  2022.0    18.000000    45.000000   \n",
       "max      30.000000     3.000000  2022.0    23.000000    55.000000   \n",
       "\n",
       "             Arr_h        Dur_h        Dur_m        arr_m  \n",
       "count  1572.000000  1572.000000  1572.000000  1572.000000  \n",
       "mean     15.150127     9.969466    26.962468    28.606870  \n",
       "std       6.230894     7.116228    17.802953    18.220466  \n",
       "min       0.000000     0.000000     0.000000     0.000000  \n",
       "25%      10.000000     5.000000    10.000000    10.000000  \n",
       "50%      17.000000     8.000000    25.000000    30.000000  \n",
       "75%      20.000000    13.000000    45.000000    45.000000  \n",
       "max      23.000000    37.000000    55.000000    55.000000  "
      ]
     },
     "execution_count": 108,
     "metadata": {},
     "output_type": "execute_result"
    }
   ],
   "source": [
    "df.describe() "
   ]
  },
  {
   "cell_type": "markdown",
   "id": "c5f7afff",
   "metadata": {},
   "source": [
    "from the above statistical summary we can say that,\n",
    "1. There are 1572 counts no null values\n",
    "2. As there is no much differnce between the max value and 75% no presence of outliers are less but in price we can see there is huge difference which shows some flights are highly expensive and makes the data skewed."
   ]
  },
  {
   "cell_type": "code",
   "execution_count": 116,
   "id": "59baf39a",
   "metadata": {},
   "outputs": [
    {
     "data": {
      "text/plain": [
       "<AxesSubplot:xlabel='Dep_h', ylabel='Price'>"
      ]
     },
     "execution_count": 116,
     "metadata": {},
     "output_type": "execute_result"
    },
    {
     "data": {
      "image/png": "[encoded data removed]",
      "text/plain": [
       "<Figure size 1080x360 with 1 Axes>"
      ]
     },
     "metadata": {},
     "output_type": "display_data"
    }
   ],
   "source": [
    "plt.figure(figsize=(15,5))\n",
    "sns.swarmplot(y='Price',x='Dep_h',data=df, palette=\"dark\")"
   ]
  },
  {
   "cell_type": "markdown",
   "id": "24006bd8",
   "metadata": {},
   "source": [
    "From the above plot we say that, the flights that depart at 7am to 11am are expensive whereas the flights that depart late night are cheaper."
   ]
  },
  {
   "cell_type": "code",
   "execution_count": 117,
   "id": "59f70f5e",
   "metadata": {},
   "outputs": [
    {
     "data": {
      "text/plain": [
       "<AxesSubplot:xlabel='Arr_h', ylabel='Price'>"
      ]
     },
     "execution_count": 117,
     "metadata": {},
     "output_type": "execute_result"
    },
    {
     "data": {
      "image/png": "[encoded data removed]",
      "text/plain": [
       "<Figure size 1080x360 with 1 Axes>"
      ]
     },
     "metadata": {},
     "output_type": "display_data"
    }
   ],
   "source": [
    "plt.figure(figsize=(15,5))\n",
    "sns.swarmplot(y='Price',x='Arr_h',data=df, palette=\"dark\")"
   ]
  },
  {
   "cell_type": "markdown",
   "id": "1d67477c",
   "metadata": {},
   "source": [
    "From the above plot we can say that flights that arrive between 2pm to 7pm are expensive."
   ]
  },
  {
   "cell_type": "code",
   "execution_count": 119,
   "id": "fb48266d",
   "metadata": {},
   "outputs": [
    {
     "data": {
      "text/plain": [
       "<AxesSubplot:xlabel='Dur_h', ylabel='Price'>"
      ]
     },
     "execution_count": 119,
     "metadata": {},
     "output_type": "execute_result"
    },
    {
     "data": {
      "image/png": "[encoded data removed]",
      "text/plain": [
       "<Figure size 1296x360 with 1 Axes>"
      ]
     },
     "metadata": {},
     "output_type": "display_data"
    }
   ],
   "source": [
    "plt.figure(figsize=(18,5))\n",
    "sns.swarmplot(y='Price',x='Dur_h',data=df, palette=\"dark\")"
   ]
  },
  {
   "cell_type": "markdown",
   "id": "914071c9",
   "metadata": {},
   "source": [
    "If the duration of the flight is between 4 to 8 hours then the flight may cost expensive."
   ]
  },
  {
   "cell_type": "code",
   "execution_count": 110,
   "id": "5f0bba09",
   "metadata": {},
   "outputs": [
    {
     "data": {
      "text/plain": [
       "<AxesSubplot:>"
      ]
     },
     "execution_count": 110,
     "metadata": {},
     "output_type": "execute_result"
    },
    {
     "data": {
      "image/png": "[encoded data removed]",
      "text/plain": [
       "<Figure size 1080x360 with 2 Axes>"
      ]
     },
     "metadata": {},
     "output_type": "display_data"
    }
   ],
   "source": [
    "plt.figure(figsize=(15,5))  #adjusting the size of plot\n",
    "sns.heatmap(df.corr(),annot=True)"
   ]
  },
  {
   "cell_type": "markdown",
   "id": "a4e16c22",
   "metadata": {},
   "source": [
    "In the above heatmap,\n",
    "1. Duration hour is contributing positively in predicting the price.\n",
    "2. Stops is contributing least in predicting the price.\n",
    "3. duration and stops are negetively co related."
   ]
  },
  {
   "cell_type": "code",
   "execution_count": 70,
   "id": "a2c54358",
   "metadata": {},
   "outputs": [
    {
     "data": {
      "text/plain": [
       "Airline           AxesSubplot(0.125,0.772143;0.0824468x0.107857)\n",
       "Source         AxesSubplot(0.223936,0.772143;0.0824468x0.107857)\n",
       "Destination    AxesSubplot(0.322872,0.772143;0.0824468x0.107857)\n",
       "Stops          AxesSubplot(0.421809,0.772143;0.0824468x0.107857)\n",
       "Price          AxesSubplot(0.520745,0.772143;0.0824468x0.107857)\n",
       "Day            AxesSubplot(0.619681,0.772143;0.0824468x0.107857)\n",
       "Month          AxesSubplot(0.718617,0.772143;0.0824468x0.107857)\n",
       "Year           AxesSubplot(0.817553,0.772143;0.0824468x0.107857)\n",
       "Dep_h             AxesSubplot(0.125,0.642714;0.0824468x0.107857)\n",
       "Dep_m          AxesSubplot(0.223936,0.642714;0.0824468x0.107857)\n",
       "Arr_h          AxesSubplot(0.322872,0.642714;0.0824468x0.107857)\n",
       "Dur_h          AxesSubplot(0.421809,0.642714;0.0824468x0.107857)\n",
       "Dur_m          AxesSubplot(0.520745,0.642714;0.0824468x0.107857)\n",
       "arr_m          AxesSubplot(0.619681,0.642714;0.0824468x0.107857)\n",
       "dtype: object"
      ]
     },
     "execution_count": 70,
     "metadata": {},
     "output_type": "execute_result"
    },
    {
     "data": {
      "image/png": "[encoded data removed]",
      "text/plain": [
       "<Figure size 1296x1296 with 48 Axes>"
      ]
     },
     "metadata": {
      "needs_background": "light"
     },
     "output_type": "display_data"
    }
   ],
   "source": [
    "color=dict(boxes=\"Purple\",whiskers=\"Red\",medians=\"Pink\",caps=\"Black\")\n",
    "df.plot(kind=\"box\",subplots=True,layout=(6,8),figsize=(18,18),color=color)"
   ]
  },
  {
   "cell_type": "markdown",
   "id": "35f589c3",
   "metadata": {},
   "source": [
    "To check the presence of outliers we can use boxplot and we can see that price has some outliers as it is our target variable we will try to build model based on it."
   ]
  },
  {
   "cell_type": "code",
   "execution_count": 71,
   "id": "5e15d200",
   "metadata": {},
   "outputs": [
    {
     "data": {
      "text/plain": [
       "Airline        0.000822\n",
       "Source        -0.083073\n",
       "Destination   -0.172769\n",
       "Stops          1.365583\n",
       "Price          2.430315\n",
       "Day           -1.025598\n",
       "Month         -2.379939\n",
       "Year           0.000000\n",
       "Dep_h          0.217604\n",
       "Dep_m         -0.022541\n",
       "Arr_h         -0.668597\n",
       "Dur_h          0.964542\n",
       "Dur_m          0.001303\n",
       "arr_m         -0.080130\n",
       "dtype: float64"
      ]
     },
     "execution_count": 71,
     "metadata": {},
     "output_type": "execute_result"
    }
   ],
   "source": [
    "df.skew() #checking the skewness"
   ]
  },
  {
   "cell_type": "markdown",
   "id": "c29463c5",
   "metadata": {},
   "source": [
    "As we can see that the data is slightly skewed we will try to remove skewness using power transformation method. W e can also get rid of skewness by removing outliers but we will not remove the outliers as by doing so we may losse inportant information."
   ]
  },
  {
   "cell_type": "markdown",
   "id": "a1cdeb4e",
   "metadata": {},
   "source": [
    "# Dividing the dataset into Independent and Dependent Variable"
   ]
  },
  {
   "cell_type": "code",
   "execution_count": 72,
   "id": "933ba007",
   "metadata": {},
   "outputs": [
    {
     "data": {
      "text/html": [
       "<div>\n",
       "<style scoped>\n",
       "    .dataframe tbody tr th:only-of-type {\n",
       "        vertical-align: middle;\n",
       "    }\n",
       "\n",
       "    .dataframe tbody tr th {\n",
       "        vertical-align: top;\n",
       "    }\n",
       "\n",
       "    .dataframe thead th {\n",
       "        text-align: right;\n",
       "    }\n",
       "</style>\n",
       "<table border=\"1\" class=\"dataframe\">\n",
       "  <thead>\n",
       "    <tr style=\"text-align: right;\">\n",
       "      <th></th>\n",
       "      <th>Airline</th>\n",
       "      <th>Source</th>\n",
       "      <th>Destination</th>\n",
       "      <th>Stops</th>\n",
       "      <th>Day</th>\n",
       "      <th>Month</th>\n",
       "      <th>Year</th>\n",
       "      <th>Dep_h</th>\n",
       "      <th>Dep_m</th>\n",
       "      <th>Arr_h</th>\n",
       "      <th>Dur_h</th>\n",
       "      <th>Dur_m</th>\n",
       "      <th>arr_m</th>\n",
       "    </tr>\n",
       "  </thead>\n",
       "  <tbody>\n",
       "    <tr>\n",
       "      <th>0</th>\n",
       "      <td>4</td>\n",
       "      <td>3</td>\n",
       "      <td>1</td>\n",
       "      <td>3</td>\n",
       "      <td>8</td>\n",
       "      <td>3</td>\n",
       "      <td>2022</td>\n",
       "      <td>19</td>\n",
       "      <td>30</td>\n",
       "      <td>21</td>\n",
       "      <td>1</td>\n",
       "      <td>50</td>\n",
       "      <td>20</td>\n",
       "    </tr>\n",
       "    <tr>\n",
       "      <th>1</th>\n",
       "      <td>4</td>\n",
       "      <td>3</td>\n",
       "      <td>1</td>\n",
       "      <td>3</td>\n",
       "      <td>8</td>\n",
       "      <td>3</td>\n",
       "      <td>2022</td>\n",
       "      <td>6</td>\n",
       "      <td>0</td>\n",
       "      <td>8</td>\n",
       "      <td>2</td>\n",
       "      <td>0</td>\n",
       "      <td>0</td>\n",
       "    </tr>\n",
       "    <tr>\n",
       "      <th>2</th>\n",
       "      <td>2</td>\n",
       "      <td>3</td>\n",
       "      <td>1</td>\n",
       "      <td>3</td>\n",
       "      <td>8</td>\n",
       "      <td>3</td>\n",
       "      <td>2022</td>\n",
       "      <td>5</td>\n",
       "      <td>50</td>\n",
       "      <td>7</td>\n",
       "      <td>1</td>\n",
       "      <td>50</td>\n",
       "      <td>40</td>\n",
       "    </tr>\n",
       "    <tr>\n",
       "      <th>3</th>\n",
       "      <td>3</td>\n",
       "      <td>3</td>\n",
       "      <td>1</td>\n",
       "      <td>3</td>\n",
       "      <td>8</td>\n",
       "      <td>3</td>\n",
       "      <td>2022</td>\n",
       "      <td>16</td>\n",
       "      <td>25</td>\n",
       "      <td>18</td>\n",
       "      <td>1</td>\n",
       "      <td>50</td>\n",
       "      <td>15</td>\n",
       "    </tr>\n",
       "    <tr>\n",
       "      <th>4</th>\n",
       "      <td>3</td>\n",
       "      <td>3</td>\n",
       "      <td>1</td>\n",
       "      <td>3</td>\n",
       "      <td>8</td>\n",
       "      <td>3</td>\n",
       "      <td>2022</td>\n",
       "      <td>21</td>\n",
       "      <td>25</td>\n",
       "      <td>23</td>\n",
       "      <td>1</td>\n",
       "      <td>50</td>\n",
       "      <td>15</td>\n",
       "    </tr>\n",
       "    <tr>\n",
       "      <th>...</th>\n",
       "      <td>...</td>\n",
       "      <td>...</td>\n",
       "      <td>...</td>\n",
       "      <td>...</td>\n",
       "      <td>...</td>\n",
       "      <td>...</td>\n",
       "      <td>...</td>\n",
       "      <td>...</td>\n",
       "      <td>...</td>\n",
       "      <td>...</td>\n",
       "      <td>...</td>\n",
       "      <td>...</td>\n",
       "      <td>...</td>\n",
       "    </tr>\n",
       "    <tr>\n",
       "      <th>1571</th>\n",
       "      <td>5</td>\n",
       "      <td>4</td>\n",
       "      <td>2</td>\n",
       "      <td>0</td>\n",
       "      <td>24</td>\n",
       "      <td>1</td>\n",
       "      <td>2022</td>\n",
       "      <td>9</td>\n",
       "      <td>30</td>\n",
       "      <td>16</td>\n",
       "      <td>7</td>\n",
       "      <td>25</td>\n",
       "      <td>55</td>\n",
       "    </tr>\n",
       "    <tr>\n",
       "      <th>1572</th>\n",
       "      <td>5</td>\n",
       "      <td>4</td>\n",
       "      <td>2</td>\n",
       "      <td>0</td>\n",
       "      <td>24</td>\n",
       "      <td>1</td>\n",
       "      <td>2022</td>\n",
       "      <td>14</td>\n",
       "      <td>20</td>\n",
       "      <td>19</td>\n",
       "      <td>5</td>\n",
       "      <td>35</td>\n",
       "      <td>55</td>\n",
       "    </tr>\n",
       "    <tr>\n",
       "      <th>1573</th>\n",
       "      <td>5</td>\n",
       "      <td>4</td>\n",
       "      <td>2</td>\n",
       "      <td>0</td>\n",
       "      <td>24</td>\n",
       "      <td>1</td>\n",
       "      <td>2022</td>\n",
       "      <td>12</td>\n",
       "      <td>50</td>\n",
       "      <td>19</td>\n",
       "      <td>7</td>\n",
       "      <td>5</td>\n",
       "      <td>55</td>\n",
       "    </tr>\n",
       "    <tr>\n",
       "      <th>1574</th>\n",
       "      <td>4</td>\n",
       "      <td>4</td>\n",
       "      <td>2</td>\n",
       "      <td>0</td>\n",
       "      <td>24</td>\n",
       "      <td>1</td>\n",
       "      <td>2022</td>\n",
       "      <td>9</td>\n",
       "      <td>25</td>\n",
       "      <td>14</td>\n",
       "      <td>4</td>\n",
       "      <td>55</td>\n",
       "      <td>20</td>\n",
       "    </tr>\n",
       "    <tr>\n",
       "      <th>1575</th>\n",
       "      <td>2</td>\n",
       "      <td>4</td>\n",
       "      <td>2</td>\n",
       "      <td>0</td>\n",
       "      <td>24</td>\n",
       "      <td>1</td>\n",
       "      <td>2022</td>\n",
       "      <td>11</td>\n",
       "      <td>10</td>\n",
       "      <td>15</td>\n",
       "      <td>4</td>\n",
       "      <td>40</td>\n",
       "      <td>50</td>\n",
       "    </tr>\n",
       "  </tbody>\n",
       "</table>\n",
       "<p>1572 rows × 13 columns</p>\n",
       "</div>"
      ],
      "text/plain": [
       "      Airline  Source  Destination  Stops  Day  Month  Year  Dep_h  Dep_m  \\\n",
       "0           4       3            1      3    8      3  2022     19     30   \n",
       "1           4       3            1      3    8      3  2022      6      0   \n",
       "2           2       3            1      3    8      3  2022      5     50   \n",
       "3           3       3            1      3    8      3  2022     16     25   \n",
       "4           3       3            1      3    8      3  2022     21     25   \n",
       "...       ...     ...          ...    ...  ...    ...   ...    ...    ...   \n",
       "1571        5       4            2      0   24      1  2022      9     30   \n",
       "1572        5       4            2      0   24      1  2022     14     20   \n",
       "1573        5       4            2      0   24      1  2022     12     50   \n",
       "1574        4       4            2      0   24      1  2022      9     25   \n",
       "1575        2       4            2      0   24      1  2022     11     10   \n",
       "\n",
       "      Arr_h  Dur_h  Dur_m  arr_m  \n",
       "0        21      1     50     20  \n",
       "1         8      2      0      0  \n",
       "2         7      1     50     40  \n",
       "3        18      1     50     15  \n",
       "4        23      1     50     15  \n",
       "...     ...    ...    ...    ...  \n",
       "1571     16      7     25     55  \n",
       "1572     19      5     35     55  \n",
       "1573     19      7      5     55  \n",
       "1574     14      4     55     20  \n",
       "1575     15      4     40     50  \n",
       "\n",
       "[1572 rows x 13 columns]"
      ]
     },
     "execution_count": 72,
     "metadata": {},
     "output_type": "execute_result"
    }
   ],
   "source": [
    "x=df.drop(\"Price\",axis=1)   #input variables\n",
    "x"
   ]
  },
  {
   "cell_type": "code",
   "execution_count": 73,
   "id": "db65562a",
   "metadata": {},
   "outputs": [
    {
     "data": {
      "text/plain": [
       "0       1888\n",
       "1       1888\n",
       "2       1890\n",
       "3       1890\n",
       "4       1890\n",
       "        ... \n",
       "1571    4868\n",
       "1572    4868\n",
       "1573    4868\n",
       "1574    4898\n",
       "1575    5692\n",
       "Name: Price, Length: 1572, dtype: int32"
      ]
     },
     "execution_count": 73,
     "metadata": {},
     "output_type": "execute_result"
    }
   ],
   "source": [
    "y=df['Price']  #output variables.\n",
    "y"
   ]
  },
  {
   "cell_type": "code",
   "execution_count": 74,
   "id": "c8b40316",
   "metadata": {},
   "outputs": [],
   "source": [
    "import statsmodels.api as sm    #cecking the multicolinearities.\n",
    "from scipy import stats\n",
    "from statsmodels.stats.outliers_influence import variance_inflation_factor\n",
    "def cal_vif(x):\n",
    "    vif=pd.DataFrame()\n",
    "    vif[\"variables\"]=x.columns\n",
    "    vif[\"VIF FACTOR\"]=[variance_inflation_factor(x.values,i) for i in range (x.shape[1])]\n",
    "    return(vif)"
   ]
  },
  {
   "cell_type": "code",
   "execution_count": 75,
   "id": "2a8b44c6",
   "metadata": {},
   "outputs": [
    {
     "data": {
      "text/html": [
       "<div>\n",
       "<style scoped>\n",
       "    .dataframe tbody tr th:only-of-type {\n",
       "        vertical-align: middle;\n",
       "    }\n",
       "\n",
       "    .dataframe tbody tr th {\n",
       "        vertical-align: top;\n",
       "    }\n",
       "\n",
       "    .dataframe thead th {\n",
       "        text-align: right;\n",
       "    }\n",
       "</style>\n",
       "<table border=\"1\" class=\"dataframe\">\n",
       "  <thead>\n",
       "    <tr style=\"text-align: right;\">\n",
       "      <th></th>\n",
       "      <th>variables</th>\n",
       "      <th>VIF FACTOR</th>\n",
       "    </tr>\n",
       "  </thead>\n",
       "  <tbody>\n",
       "    <tr>\n",
       "      <th>0</th>\n",
       "      <td>Airline</td>\n",
       "      <td>1.146680</td>\n",
       "    </tr>\n",
       "    <tr>\n",
       "      <th>1</th>\n",
       "      <td>Source</td>\n",
       "      <td>1.261789</td>\n",
       "    </tr>\n",
       "    <tr>\n",
       "      <th>2</th>\n",
       "      <td>Destination</td>\n",
       "      <td>1.367199</td>\n",
       "    </tr>\n",
       "    <tr>\n",
       "      <th>3</th>\n",
       "      <td>Stops</td>\n",
       "      <td>1.190980</td>\n",
       "    </tr>\n",
       "    <tr>\n",
       "      <th>4</th>\n",
       "      <td>Day</td>\n",
       "      <td>1.546918</td>\n",
       "    </tr>\n",
       "    <tr>\n",
       "      <th>5</th>\n",
       "      <td>Month</td>\n",
       "      <td>1.503054</td>\n",
       "    </tr>\n",
       "    <tr>\n",
       "      <th>6</th>\n",
       "      <td>Year</td>\n",
       "      <td>13.292392</td>\n",
       "    </tr>\n",
       "    <tr>\n",
       "      <th>7</th>\n",
       "      <td>Dep_h</td>\n",
       "      <td>1.028439</td>\n",
       "    </tr>\n",
       "    <tr>\n",
       "      <th>8</th>\n",
       "      <td>Dep_m</td>\n",
       "      <td>1.057720</td>\n",
       "    </tr>\n",
       "    <tr>\n",
       "      <th>9</th>\n",
       "      <td>Arr_h</td>\n",
       "      <td>1.045692</td>\n",
       "    </tr>\n",
       "    <tr>\n",
       "      <th>10</th>\n",
       "      <td>Dur_h</td>\n",
       "      <td>1.197569</td>\n",
       "    </tr>\n",
       "    <tr>\n",
       "      <th>11</th>\n",
       "      <td>Dur_m</td>\n",
       "      <td>1.025372</td>\n",
       "    </tr>\n",
       "    <tr>\n",
       "      <th>12</th>\n",
       "      <td>arr_m</td>\n",
       "      <td>1.067116</td>\n",
       "    </tr>\n",
       "  </tbody>\n",
       "</table>\n",
       "</div>"
      ],
      "text/plain": [
       "      variables  VIF FACTOR\n",
       "0       Airline    1.146680\n",
       "1        Source    1.261789\n",
       "2   Destination    1.367199\n",
       "3         Stops    1.190980\n",
       "4           Day    1.546918\n",
       "5         Month    1.503054\n",
       "6          Year   13.292392\n",
       "7         Dep_h    1.028439\n",
       "8         Dep_m    1.057720\n",
       "9         Arr_h    1.045692\n",
       "10        Dur_h    1.197569\n",
       "11        Dur_m    1.025372\n",
       "12        arr_m    1.067116"
      ]
     },
     "execution_count": 75,
     "metadata": {},
     "output_type": "execute_result"
    }
   ],
   "source": [
    "cal_vif(x)"
   ]
  },
  {
   "cell_type": "markdown",
   "id": "cf46c617",
   "metadata": {},
   "source": [
    "As we can see that no multicollinearties exists."
   ]
  },
  {
   "cell_type": "code",
   "execution_count": 76,
   "id": "be96185f",
   "metadata": {},
   "outputs": [
    {
     "data": {
      "text/plain": [
       "array([[ 0.7158495 ,  0.79442541, -0.87013951, ..., -1.83781077,\n",
       "         1.18388888, -0.33701372],\n",
       "       [ 0.7158495 ,  0.79442541, -0.87013951, ..., -1.41983078,\n",
       "        -1.81153673, -1.83201552],\n",
       "       [-0.42089444,  0.79442541, -0.87013951, ..., -1.83781077,\n",
       "         1.18388888,  0.66161971],\n",
       "       ...,\n",
       "       [ 1.23292025,  1.32758666, -0.13018167, ..., -0.21231018,\n",
       "        -1.25089399,  1.3097045 ],\n",
       "       [ 0.7158495 ,  1.32758666, -0.13018167, ..., -0.82835665,\n",
       "         1.38613279, -0.33701372],\n",
       "       [-0.42089444,  1.32758666, -0.13018167, ..., -0.82835665,\n",
       "         0.7567815 ,  1.10047072]])"
      ]
     },
     "execution_count": 76,
     "metadata": {},
     "output_type": "execute_result"
    }
   ],
   "source": [
    "from sklearn.preprocessing import power_transform\n",
    "x=power_transform(x,method='yeo-johnson')  #to remove skewness\n",
    "x"
   ]
  },
  {
   "cell_type": "code",
   "execution_count": 77,
   "id": "62b4dd3f",
   "metadata": {},
   "outputs": [
    {
     "data": {
      "text/plain": [
       "array([[ 0.7158495 ,  0.79442541, -0.87013951, ..., -1.83781077,\n",
       "         1.18388888, -0.33701372],\n",
       "       [ 0.7158495 ,  0.79442541, -0.87013951, ..., -1.41983078,\n",
       "        -1.81153673, -1.83201552],\n",
       "       [-0.42089444,  0.79442541, -0.87013951, ..., -1.83781077,\n",
       "         1.18388888,  0.66161971],\n",
       "       ...,\n",
       "       [ 1.23292025,  1.32758666, -0.13018167, ..., -0.21231018,\n",
       "        -1.25089399,  1.3097045 ],\n",
       "       [ 0.7158495 ,  1.32758666, -0.13018167, ..., -0.82835665,\n",
       "         1.38613279, -0.33701372],\n",
       "       [-0.42089444,  1.32758666, -0.13018167, ..., -0.82835665,\n",
       "         0.7567815 ,  1.10047072]])"
      ]
     },
     "execution_count": 77,
     "metadata": {},
     "output_type": "execute_result"
    }
   ],
   "source": [
    "from sklearn.preprocessing import StandardScaler\n",
    "mn=StandardScaler()  #bringing all the columns on smae scale.\n",
    "x=mn.fit_transform(x)\n",
    "x"
   ]
  },
  {
   "cell_type": "markdown",
   "id": "0d81a61f",
   "metadata": {},
   "source": [
    "# Building Regression Models"
   ]
  },
  {
   "cell_type": "code",
   "execution_count": 78,
   "id": "68c10ac7",
   "metadata": {},
   "outputs": [],
   "source": [
    "from sklearn.linear_model import LinearRegression,Lasso,Ridge\n",
    "from sklearn.metrics import mean_squared_error, mean_absolute_error,r2_score\n",
    "from sklearn.model_selection import train_test_split,cross_val_score,GridSearchCV\n",
    "from sklearn.svm import SVR\n",
    "from sklearn.neighbors import KNeighborsRegressor\n",
    "from sklearn.linear_model import LinearRegression,Lasso,Ridge\n",
    "from sklearn.metrics import mean_squared_error, mean_absolute_error,r2_score\n",
    "from sklearn.model_selection import train_test_split,cross_val_score,GridSearchCV\n",
    "from sklearn.svm import SVR\n",
    "from sklearn.tree import DecisionTreeRegressor"
   ]
  },
  {
   "cell_type": "code",
   "execution_count": 79,
   "id": "0dcbb38f",
   "metadata": {},
   "outputs": [
    {
     "name": "stdout",
     "output_type": "stream",
     "text": [
      "MSE is  4184839.63 at random state 70\n"
     ]
    }
   ],
   "source": [
    "minmse=0    #finding the best Random State\n",
    "maxrs=0\n",
    "for i in range(1,100):\n",
    "    x_train,x_test,y_train,y_test=train_test_split(x,y,test_size=.30,random_state=i)\n",
    "    lr=LinearRegression()\n",
    "    lr.fit(x_train,y_train)\n",
    "    pred=lr.predict(x_test)\n",
    "    err=mean_squared_error(y_test,pred)\n",
    "    if err>minmse:\n",
    "        minmse=err\n",
    "        maxrs=i\n",
    "print(\"MSE is \",round(minmse,2),\"at random state\",maxrs)"
   ]
  },
  {
   "cell_type": "code",
   "execution_count": 80,
   "id": "30991533",
   "metadata": {},
   "outputs": [],
   "source": [
    "x_train1,x_test1,y_train1,y_test1=train_test_split(x,y,test_size=.30,random_state=70)"
   ]
  },
  {
   "cell_type": "markdown",
   "id": "e6e0e6bd",
   "metadata": {},
   "source": [
    "# Linear Regression"
   ]
  },
  {
   "cell_type": "code",
   "execution_count": 81,
   "id": "edfbd083",
   "metadata": {},
   "outputs": [
    {
     "name": "stdout",
     "output_type": "stream",
     "text": [
      "Score is:  29.957452598395907\n",
      "Mean Squared Error is:  4184839.63\n",
      "Mean Absolute Error is:  1234.04\n",
      "R2 Score is:  0.2\n",
      "rsme 2045.6880583579657\n"
     ]
    }
   ],
   "source": [
    "lr=LinearRegression()\n",
    "lr.fit(x_train1,y_train1)\n",
    "#print(\"Cofficient is:\",lr.coef_)\n",
    "#print(\"Intercept is: \",lr.intercept_)\n",
    "sco=lr.score(x_train1,y_train1)\n",
    "sco1=sco*100\n",
    "print(\"Score is: \",sco1)\n",
    "pred=lr.predict(x_test1)\n",
    "mse=mean_squared_error(y_test1,pred)\n",
    "print(\"Mean Squared Error is: \",round(mse,2))\n",
    "abse=mean_absolute_error(y_test1,pred)\n",
    "print(\"Mean Absolute Error is: \",round(abse,2))\n",
    "scr=r2_score(y_test1,pred)\n",
    "print(\"R2 Score is: \",round(scr,2))\n",
    "print(\"rsme\",np.sqrt(mse))"
   ]
  },
  {
   "cell_type": "markdown",
   "id": "3d1f5966",
   "metadata": {},
   "source": [
    "# K neighbors Regressor"
   ]
  },
  {
   "cell_type": "code",
   "execution_count": 82,
   "id": "31919721",
   "metadata": {},
   "outputs": [
    {
     "name": "stdout",
     "output_type": "stream",
     "text": [
      "Score is:  0.6322084952833402\n",
      "Mean Squared Error is: 3526786.56\n",
      "Mean Absolute Error is: 998.97\n",
      "R2 Score is: 0.32\n",
      "RSME 1877.9740579605675\n"
     ]
    }
   ],
   "source": [
    "knr=KNeighborsRegressor()\n",
    "knr.fit(x_train1,y_train1)\n",
    "sw=knr.score(x_train1,y_train1)\n",
    "#print(\"Coffecient is: \",knr.coef_)\n",
    "#print(\"Intercept is: \",knr.intercept_)\n",
    "print(\"Score is: \",sw)\n",
    "pred=knr.predict(x_test1)\n",
    "print(\"Mean Squared Error is:\",round(mean_squared_error(y_test1,pred),2))\n",
    "print(\"Mean Absolute Error is:\",round(mean_absolute_error(y_test1,pred),2))\n",
    "print(\"R2 Score is:\",round(r2_score(y_test1,pred),2))\n",
    "print(\"RSME\",np.sqrt(mean_squared_error(y_test1,pred)))"
   ]
  },
  {
   "cell_type": "markdown",
   "id": "34a29655",
   "metadata": {},
   "source": [
    "# Support Vector Regressor"
   ]
  },
  {
   "cell_type": "code",
   "execution_count": 83,
   "id": "c5f40e0e",
   "metadata": {},
   "outputs": [
    {
     "name": "stdout",
     "output_type": "stream",
     "text": [
      "For rbf Mean Squared Error is: 5200864.51\n",
      "For rbf Mean Absolute Error is: 1472.85\n",
      "For rbf R2 Score is: 0.0\n",
      "RSME 2280.5403994594117\n",
      "For poly Mean Squared Error is: 5190798.57\n",
      "For poly Mean Absolute Error is: 1470.02\n",
      "For poly R2 Score is: 0.0\n",
      "RSME 2278.3324098063968\n",
      "For linear Mean Squared Error is: 4759393.91\n",
      "For linear Mean Absolute Error is: 1311.83\n",
      "For linear R2 Score is: 0.09\n",
      "RSME 2181.6035185926257\n"
     ]
    }
   ],
   "source": [
    "ker=[\"rbf\",\"poly\",\"linear\"]    #finding the best kernel\n",
    "for i in ker:\n",
    "    svr=SVR(kernel=i)\n",
    "    svr.fit(x_train1,y_train1)\n",
    "    pred=svr.predict(x_test1)\n",
    "    print(\"For\",i,\"Mean Squared Error is:\",round(mean_squared_error(y_test1,pred),2))\n",
    "    print(\"For\",i,\"Mean Absolute Error is:\",round(mean_absolute_error(y_test1,pred),2))\n",
    "    print(\"For\",i,\"R2 Score is:\",round(r2_score(y_test1,pred),2))\n",
    "    print(\"RSME\",np.sqrt(mean_squared_error(y_test1,pred)))"
   ]
  },
  {
   "cell_type": "code",
   "execution_count": 84,
   "id": "b5a7de14",
   "metadata": {},
   "outputs": [
    {
     "name": "stdout",
     "output_type": "stream",
     "text": [
      "For linear Mean Squared Error is: 4759393.91\n",
      "For linear Mean Absolute Error is: 1311.83\n",
      "For linear R2 Score is: 0.09\n",
      "RSME 2181.6035185926257\n"
     ]
    }
   ],
   "source": [
    "svr=SVR(kernel='linear')\n",
    "svr.fit(x_train1,y_train1)\n",
    "pred=svr.predict(x_test1)\n",
    "print(\"For\",i,\"Mean Squared Error is:\",round(mean_squared_error(y_test1,pred),2))\n",
    "print(\"For\",i,\"Mean Absolute Error is:\",round(mean_absolute_error(y_test1,pred),2))\n",
    "print(\"For\",i,\"R2 Score is:\",round(r2_score(y_test1,pred),2))\n",
    "print(\"RSME\",np.sqrt(mean_squared_error(y_test1,pred)))"
   ]
  },
  {
   "cell_type": "markdown",
   "id": "4dcf3f09",
   "metadata": {},
   "source": [
    "# Decision Tree Regressor"
   ]
  },
  {
   "cell_type": "code",
   "execution_count": 85,
   "id": "33691137",
   "metadata": {},
   "outputs": [
    {
     "name": "stdout",
     "output_type": "stream",
     "text": [
      "Score is:  0.999951605569075\n",
      "Mean Squared Error is: 3415656.81\n",
      "Mean Absolute Error is: 751.08\n",
      "R2 Score is: 0.34\n",
      "RSME 1848.149564142653\n"
     ]
    }
   ],
   "source": [
    "dtr=DecisionTreeRegressor()\n",
    "dtr.fit(x_train1,y_train1)\n",
    "sw1=dtr.score(x_train1,y_train1)\n",
    "#print(\"Coffecient is: \",dtr.coef_)\n",
    "#print(\"Intercept is: \",dtr.intercept_)\n",
    "print(\"Score is: \",sw1)\n",
    "pred=dtr.predict(x_test1)\n",
    "print(\"Mean Squared Error is:\",round(mean_squared_error(y_test1,pred),2))\n",
    "print(\"Mean Absolute Error is:\",round(mean_absolute_error(y_test1,pred),2))\n",
    "print(\"R2 Score is:\",round(r2_score(y_test1,pred),2))\n",
    "print(\"RSME\",np.sqrt(mean_squared_error(y_test1,pred)))\n"
   ]
  },
  {
   "cell_type": "markdown",
   "id": "8ae905a0",
   "metadata": {},
   "source": [
    "# Lasso Regressor"
   ]
  },
  {
   "cell_type": "code",
   "execution_count": 86,
   "id": "c62752d1",
   "metadata": {},
   "outputs": [
    {
     "name": "stdout",
     "output_type": "stream",
     "text": [
      "Score is:  0.2995745259781496\n",
      "Mean Squared Error is: 4184840.57\n",
      "Mean Absolute Error is: 1234.04\n",
      "R2 Score is: 0.2\n",
      "RSME 2045.6882879242264\n"
     ]
    }
   ],
   "source": [
    "ls1=Lasso(alpha=0.001)   #choosing the best alpha\n",
    "ls1.fit(x_train1,y_train1)\n",
    "sw=ls1.score(x_train1,y_train1)\n",
    "#print(\"Coffecient is: \",ls1.coef_)\n",
    "#print(\"Intercept is: \",ls1.intercept_)\n",
    "print(\"Score is: \",sw)\n",
    "pred=ls1.predict(x_test1)\n",
    "print(\"Mean Squared Error is:\",round(mean_squared_error(y_test1,pred),2))\n",
    "print(\"Mean Absolute Error is:\",round(mean_absolute_error(y_test1,pred),2))\n",
    "print(\"R2 Score is:\",round(r2_score(y_test1,pred),2))\n",
    "print(\"RSME\",np.sqrt(mean_squared_error(y_test1,pred)))"
   ]
  },
  {
   "cell_type": "markdown",
   "id": "3bbf3a1c",
   "metadata": {},
   "source": [
    "# Random Forest Regressor"
   ]
  },
  {
   "cell_type": "code",
   "execution_count": 87,
   "id": "2157122f",
   "metadata": {},
   "outputs": [],
   "source": [
    "from sklearn.ensemble import RandomForestRegressor"
   ]
  },
  {
   "cell_type": "code",
   "execution_count": 88,
   "id": "81d9b8c8",
   "metadata": {},
   "outputs": [
    {
     "name": "stdout",
     "output_type": "stream",
     "text": [
      "Score is:  0.9476647267607949\n",
      "Mean Squared Error is: 2785667.5\n",
      "Mean Absolute Error is: 698.39\n",
      "R2 Score is: 0.46\n",
      "RSME 1669.0319036884375\n"
     ]
    }
   ],
   "source": [
    "rfr=RandomForestRegressor()\n",
    "rfr.fit(x_train1,y_train1)\n",
    "sw1=rfr.score(x_train1,y_train1)\n",
    "#print(\"Coffecient is: \",rfr.coef_)\n",
    "#print(\"Intercept is: \",rfr.intercept_)\n",
    "print(\"Score is: \",sw1)\n",
    "pred=rfr.predict(x_test1)\n",
    "print(\"Mean Squared Error is:\",round(mean_squared_error(y_test1,pred),2))\n",
    "print(\"Mean Absolute Error is:\",round(mean_absolute_error(y_test1,pred),2))\n",
    "print(\"R2 Score is:\",round(r2_score(y_test1,pred),2))\n",
    "print(\"RSME\",np.sqrt(mean_squared_error(y_test1,pred)))\n"
   ]
  },
  {
   "cell_type": "markdown",
   "id": "e51b0dc7",
   "metadata": {},
   "source": [
    "# Cross Validating the Results"
   ]
  },
  {
   "cell_type": "code",
   "execution_count": 89,
   "id": "f5b2847e",
   "metadata": {},
   "outputs": [],
   "source": [
    "def rmse_cv(model,x_train1,y_train1):\n",
    "    mse_cv_score=-cross_val_score(model,x_train1,y_train1,cv=5,scoring=\"neg_mean_squared_error\",n_jobs=-1)\n",
    "    rmse_cv=np.sqrt(mse_cv_score).mean()\n",
    "    return(rmse_cv)"
   ]
  },
  {
   "cell_type": "code",
   "execution_count": 90,
   "id": "d062e93c",
   "metadata": {},
   "outputs": [
    {
     "data": {
      "text/plain": [
       "1510.880464870581"
      ]
     },
     "execution_count": 90,
     "metadata": {},
     "output_type": "execute_result"
    }
   ],
   "source": [
    "rmse_cv(lr,x_train1,y_train1)   #linear regression"
   ]
  },
  {
   "cell_type": "code",
   "execution_count": 91,
   "id": "6db8040d",
   "metadata": {},
   "outputs": [
    {
     "data": {
      "text/plain": [
       "1101.5839454772795"
      ]
     },
     "execution_count": 91,
     "metadata": {},
     "output_type": "execute_result"
    }
   ],
   "source": [
    "rmse_cv(rfr,x_train1,y_train1) #Random Forest Regressor"
   ]
  },
  {
   "cell_type": "code",
   "execution_count": 92,
   "id": "6455bf88",
   "metadata": {},
   "outputs": [
    {
     "data": {
      "text/plain": [
       "1505.8164274349906"
      ]
     },
     "execution_count": 92,
     "metadata": {},
     "output_type": "execute_result"
    }
   ],
   "source": [
    "rmse_cv(dtr,x_train1,y_train1) #Decision Tree Regressor"
   ]
  },
  {
   "cell_type": "code",
   "execution_count": 93,
   "id": "ae17807a",
   "metadata": {},
   "outputs": [
    {
     "data": {
      "text/plain": [
       "1382.876110974888"
      ]
     },
     "execution_count": 93,
     "metadata": {},
     "output_type": "execute_result"
    }
   ],
   "source": [
    "rmse_cv(knr,x_train1,y_train1) #K Neighbors Regressor"
   ]
  },
  {
   "cell_type": "code",
   "execution_count": 94,
   "id": "ce3114f8",
   "metadata": {},
   "outputs": [
    {
     "data": {
      "text/plain": [
       "1510.8803761563279"
      ]
     },
     "execution_count": 94,
     "metadata": {},
     "output_type": "execute_result"
    }
   ],
   "source": [
    "rmse_cv(ls1,x_train1,y_train1) #Lasso Regressor"
   ]
  },
  {
   "cell_type": "code",
   "execution_count": 95,
   "id": "96343b48",
   "metadata": {},
   "outputs": [
    {
     "data": {
      "text/plain": [
       "1644.6679794744184"
      ]
     },
     "execution_count": 95,
     "metadata": {},
     "output_type": "execute_result"
    }
   ],
   "source": [
    "rmse_cv(svr,x_train1,y_train1) #Support Vector Regressor"
   ]
  },
  {
   "cell_type": "markdown",
   "id": "1ea58b88",
   "metadata": {},
   "source": [
    "on the comparing the RMSE for the above models we can see that random Forest Regressor is giving us the best results with the RMSE being less and on cross validating we are getting the least results."
   ]
  },
  {
   "cell_type": "markdown",
   "id": "15b4ad7a",
   "metadata": {},
   "source": [
    "# Hyper Parameter Tunning"
   ]
  },
  {
   "cell_type": "code",
   "execution_count": 96,
   "id": "deaba3b5",
   "metadata": {},
   "outputs": [],
   "source": [
    "parameter={\"criterion\":['squared_error', 'absolute_error', 'poisson'],\n",
    "           \"max_depth\":np.arange(2,20),\n",
    "          \"max_features\":[\"auto\",\"log2\",\"sqrt\"],\n",
    "          \"bootstrap\":[True,False],\n",
    "          \"oob_score\":[True,False]}"
   ]
  },
  {
   "cell_type": "code",
   "execution_count": 97,
   "id": "76daccb9",
   "metadata": {},
   "outputs": [],
   "source": [
    "gcv=GridSearchCV(RandomForestRegressor(),parameter,cv=5)"
   ]
  },
  {
   "cell_type": "code",
   "execution_count": 98,
   "id": "4d54a4e9",
   "metadata": {},
   "outputs": [
    {
     "data": {
      "text/plain": [
       "GridSearchCV(cv=5, estimator=RandomForestRegressor(),\n",
       "             param_grid={'bootstrap': [True, False],\n",
       "                         'criterion': ['squared_error', 'absolute_error',\n",
       "                                       'poisson'],\n",
       "                         'max_depth': array([ 2,  3,  4,  5,  6,  7,  8,  9, 10, 11, 12, 13, 14, 15, 16, 17, 18,\n",
       "       19]),\n",
       "                         'max_features': ['auto', 'log2', 'sqrt'],\n",
       "                         'oob_score': [True, False]})"
      ]
     },
     "execution_count": 98,
     "metadata": {},
     "output_type": "execute_result"
    }
   ],
   "source": [
    "gcv.fit(x_train1,y_train1)"
   ]
  },
  {
   "cell_type": "code",
   "execution_count": 99,
   "id": "354b5bd6",
   "metadata": {},
   "outputs": [
    {
     "data": {
      "text/plain": [
       "{'bootstrap': False,\n",
       " 'criterion': 'poisson',\n",
       " 'max_depth': 19,\n",
       " 'max_features': 'log2',\n",
       " 'oob_score': False}"
      ]
     },
     "execution_count": 99,
     "metadata": {},
     "output_type": "execute_result"
    }
   ],
   "source": [
    "gcv.best_params_ "
   ]
  },
  {
   "cell_type": "code",
   "execution_count": 106,
   "id": "aebdd8a6",
   "metadata": {},
   "outputs": [
    {
     "name": "stdout",
     "output_type": "stream",
     "text": [
      "Score is:  0.9999172088394229\n",
      "Mean Squared Error is: 2618141.9\n",
      "Mean Absolute Error is: 691.06\n",
      "R2 Score is: 0.5\n",
      "RSME 1618.0673336561476\n"
     ]
    }
   ],
   "source": [
    "final=RandomForestRegressor(max_depth=19, max_features='log2', oob_score=False,bootstrap=False)\n",
    "final.fit(x_train1,y_train1)\n",
    "sw1=final.score(x_train1,y_train1)\n",
    "#print(\"Coffecient is: \",rfr.coef_)\n",
    "#print(\"Intercept is: \",rfr.intercept_)\n",
    "print(\"Score is: \",sw1)\n",
    "pred=final.predict(x_test1)\n",
    "print(\"Mean Squared Error is:\",round(mean_squared_error(y_test1,pred),2))\n",
    "print(\"Mean Absolute Error is:\",round(mean_absolute_error(y_test1,pred),2))\n",
    "print(\"R2 Score is:\",round(r2_score(y_test1,pred),2))\n",
    "print(\"RSME\",np.sqrt(mean_squared_error(y_test1,pred)))\n"
   ]
  },
  {
   "cell_type": "markdown",
   "id": "b0cdf299",
   "metadata": {},
   "source": [
    "# Saving the Model."
   ]
  },
  {
   "cell_type": "code",
   "execution_count": 107,
   "id": "d102e008",
   "metadata": {},
   "outputs": [
    {
     "data": {
      "text/plain": [
       "['flightpricedata.pkl']"
      ]
     },
     "execution_count": 107,
     "metadata": {},
     "output_type": "execute_result"
    }
   ],
   "source": [
    "import joblib\n",
    "joblib.dump(final,\"flightpricedata.pkl\")"
   ]
  },
  {
   "cell_type": "code",
   "execution_count": null,
   "id": "cff6d012",
   "metadata": {},
   "outputs": [],
   "source": []
  },
  {
   "cell_type": "code",
   "execution_count": null,
   "id": "1fe262d2",
   "metadata": {},
   "outputs": [],
   "source": []
  }
 ],
 "metadata": {
  "kernelspec": {
   "display_name": "Python 3",
   "language": "python",
   "name": "python3"
  },
  "language_info": {
   "codemirror_mode": {
    "name": "ipython",
    "version": 3
   },
   "file_extension": ".py",
   "mimetype": "text/x-python",
   "name": "python",
   "nbconvert_exporter": "python",
   "pygments_lexer": "ipython3",
   "version": "3.8.8"
  }
 },
 "nbformat": 4,
 "nbformat_minor": 5
}
