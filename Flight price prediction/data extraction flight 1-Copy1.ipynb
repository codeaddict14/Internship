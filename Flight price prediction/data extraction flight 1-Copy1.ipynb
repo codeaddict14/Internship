{
 "cells": [
  {
   "cell_type": "code",
   "execution_count": 1,
   "id": "cab1afef",
   "metadata": {},
   "outputs": [],
   "source": [
    "#importing the required libraries\n",
    "import selenium \n",
    "import pandas as pd\n",
    "from selenium import webdriver\n",
    "import warnings\n",
    "warnings.filterwarnings(\"ignore\")\n",
    "from selenium.common.exceptions import NoSuchElementException,StaleElementReferenceException\n",
    "import time\n",
    "from selenium.webdriver.common.by import By"
   ]
  },
  {
   "cell_type": "code",
   "execution_count": 391,
   "id": "4bb39ee8",
   "metadata": {},
   "outputs": [],
   "source": [
    "#connecting with the drivers\n",
    "driver=webdriver.Chrome(r\"C:\\Users\\MICROSOFT\\Downloads\\chromedriver_win32 (1)\\chromedriver.exe\")"
   ]
  },
  {
   "cell_type": "code",
   "execution_count": 3,
   "id": "ff751b8d",
   "metadata": {},
   "outputs": [],
   "source": [
    "#extracting data from yarta.com for flight details of delhi to dubai\n",
    "driver.get(\"https://flight.yatra.com/air-search-ui/seoint/trigger?type=O&viewName=normal&flexi=0&noOfSegments=1&origin=DEL&originCountry=&destination=DXB&preferred=&destinationCountry=&flight_depart_date=24/02/2022&ADT=1&CHD=0&INF=0&class=Economy&source=seo\")"
   ]
  },
  {
   "cell_type": "code",
   "execution_count": 4,
   "id": "ec525a5e",
   "metadata": {},
   "outputs": [],
   "source": [
    "flightname=[] #airline name\n",
    "name=driver.find_elements_by_xpath(\"//span[@class='text i-b']\")\n",
    "for i in name:\n",
    "    flightname.append(i.text)"
   ]
  },
  {
   "cell_type": "code",
   "execution_count": 5,
   "id": "80587eab",
   "metadata": {},
   "outputs": [
    {
     "data": {
      "text/plain": [
       "['SpiceJet', 'Air India', 'IndiGo', 'SpiceJet', 'Air India']"
      ]
     },
     "execution_count": 5,
     "metadata": {},
     "output_type": "execute_result"
    }
   ],
   "source": [
    "flightname[:5]"
   ]
  },
  {
   "cell_type": "code",
   "execution_count": 6,
   "id": "997de56f",
   "metadata": {},
   "outputs": [
    {
     "data": {
      "text/plain": [
       "84"
      ]
     },
     "execution_count": 6,
     "metadata": {},
     "output_type": "execute_result"
    }
   ],
   "source": [
    "len(flightname)"
   ]
  },
  {
   "cell_type": "code",
   "execution_count": 7,
   "id": "ecf6d894",
   "metadata": {},
   "outputs": [],
   "source": [
    "time=[] #departure time\n",
    "tim=driver.find_elements_by_xpath(\"//p[@class='fs-16 bold mb-2 time']\")\n",
    "for i in tim:\n",
    "    time.append(i.text)"
   ]
  },
  {
   "cell_type": "code",
   "execution_count": 8,
   "id": "a461d844",
   "metadata": {},
   "outputs": [
    {
     "data": {
      "text/plain": [
       "['DEL 07:20', '', '', '', 'DEL 14:30']"
      ]
     },
     "execution_count": 8,
     "metadata": {},
     "output_type": "execute_result"
    }
   ],
   "source": [
    "time[:5]"
   ]
  },
  {
   "cell_type": "code",
   "execution_count": 9,
   "id": "67dae8bb",
   "metadata": {},
   "outputs": [],
   "source": [
    "time1=list(filter(None, time))"
   ]
  },
  {
   "cell_type": "code",
   "execution_count": 10,
   "id": "2f8282ad",
   "metadata": {},
   "outputs": [
    {
     "data": {
      "text/plain": [
       "['DEL 07:20', 'DEL 14:30', 'DEL 19:10', 'DEL 23:10', 'DEL 20:30']"
      ]
     },
     "execution_count": 10,
     "metadata": {},
     "output_type": "execute_result"
    }
   ],
   "source": [
    "time1[:5]"
   ]
  },
  {
   "cell_type": "code",
   "execution_count": 11,
   "id": "bdbb46b4",
   "metadata": {},
   "outputs": [
    {
     "data": {
      "text/plain": [
       "84"
      ]
     },
     "execution_count": 11,
     "metadata": {},
     "output_type": "execute_result"
    }
   ],
   "source": [
    "len(time1)"
   ]
  },
  {
   "cell_type": "code",
   "execution_count": 12,
   "id": "fd0e1b21",
   "metadata": {},
   "outputs": [],
   "source": [
    "artime=[]  #Arrival Time\n",
    "ar=driver.find_elements_by_xpath(\"//p[@class='bold fs-16 mb-2 pr time']\")\n",
    "for i in ar:\n",
    "    artime.append(i.text.replace(\"\\n\",\" \"))"
   ]
  },
  {
   "cell_type": "code",
   "execution_count": 13,
   "id": "a08f34fc",
   "metadata": {},
   "outputs": [
    {
     "data": {
      "text/plain": [
       "['00:30RKT +1 Day', '', '', '', '18:40AUH']"
      ]
     },
     "execution_count": 13,
     "metadata": {},
     "output_type": "execute_result"
    }
   ],
   "source": [
    "artime[:5]"
   ]
  },
  {
   "cell_type": "code",
   "execution_count": 14,
   "id": "d0479944",
   "metadata": {},
   "outputs": [],
   "source": [
    "artime1=list(filter(None, artime))"
   ]
  },
  {
   "cell_type": "code",
   "execution_count": 15,
   "id": "9002c7f5",
   "metadata": {},
   "outputs": [
    {
     "data": {
      "text/plain": [
       "['00:30RKT +1 Day', '18:40AUH', '21:00SHJ', '01:30RKT +1 Day', '22:45DXB']"
      ]
     },
     "execution_count": 15,
     "metadata": {},
     "output_type": "execute_result"
    }
   ],
   "source": [
    "artime1[:5]"
   ]
  },
  {
   "cell_type": "code",
   "execution_count": 16,
   "id": "7a1e98f9",
   "metadata": {},
   "outputs": [
    {
     "data": {
      "text/plain": [
       "84"
      ]
     },
     "execution_count": 16,
     "metadata": {},
     "output_type": "execute_result"
    }
   ],
   "source": [
    "len(artime1)"
   ]
  },
  {
   "cell_type": "code",
   "execution_count": 17,
   "id": "b6946666",
   "metadata": {},
   "outputs": [],
   "source": [
    "source1=[]  #Source from where the flight take off\n",
    "sou=driver.find_elements_by_xpath(\"//p[@class='fs-11 font-lightgrey no-wrap city ellipsis']\")\n",
    "for i in sou:\n",
    "    source1.append(i.text)"
   ]
  },
  {
   "cell_type": "code",
   "execution_count": 18,
   "id": "6dc707b4",
   "metadata": {},
   "outputs": [
    {
     "data": {
      "text/plain": [
       "['New Delhi', '', '', '', 'New Delhi']"
      ]
     },
     "execution_count": 18,
     "metadata": {},
     "output_type": "execute_result"
    }
   ],
   "source": [
    "source=source1[::2]\n",
    "source[:5]"
   ]
  },
  {
   "cell_type": "code",
   "execution_count": 19,
   "id": "0f50381e",
   "metadata": {},
   "outputs": [
    {
     "data": {
      "text/plain": [
       "['New Delhi', 'New Delhi', 'New Delhi', 'New Delhi', 'New Delhi']"
      ]
     },
     "execution_count": 19,
     "metadata": {},
     "output_type": "execute_result"
    }
   ],
   "source": [
    "source=list(filter(None,source))\n",
    "source[:5]"
   ]
  },
  {
   "cell_type": "code",
   "execution_count": 20,
   "id": "0446823a",
   "metadata": {},
   "outputs": [
    {
     "data": {
      "text/plain": [
       "['Ras Al Khaimah', '', '', '', 'Abu Dhabi']"
      ]
     },
     "execution_count": 20,
     "metadata": {},
     "output_type": "execute_result"
    }
   ],
   "source": [
    "destination=source1[1::2] #destination place\n",
    "destination[:5]"
   ]
  },
  {
   "cell_type": "code",
   "execution_count": 21,
   "id": "b77c9b31",
   "metadata": {},
   "outputs": [
    {
     "data": {
      "text/plain": [
       "['Ras Al Khaimah', 'Abu Dhabi', 'Sharjah', 'Ras Al Khaimah', 'Dubai']"
      ]
     },
     "execution_count": 21,
     "metadata": {},
     "output_type": "execute_result"
    }
   ],
   "source": [
    "destination=list(filter(None,destination))\n",
    "destination[:5]"
   ]
  },
  {
   "cell_type": "code",
   "execution_count": 22,
   "id": "272fe291",
   "metadata": {},
   "outputs": [],
   "source": [
    "duration=[]  #duration of the flight\n",
    "dura=driver.find_elements_by_xpath(\"//p[@class='fs-12 bold du mb-2']\")\n",
    "for i in dura:\n",
    "    duration.append(i.text)"
   ]
  },
  {
   "cell_type": "code",
   "execution_count": 23,
   "id": "c8ff4080",
   "metadata": {},
   "outputs": [
    {
     "data": {
      "text/plain": [
       "['18h 40m', '', '', '', '5h 40m']"
      ]
     },
     "execution_count": 23,
     "metadata": {},
     "output_type": "execute_result"
    }
   ],
   "source": [
    "duration[:5]"
   ]
  },
  {
   "cell_type": "code",
   "execution_count": 24,
   "id": "b6a9b0a8",
   "metadata": {},
   "outputs": [
    {
     "data": {
      "text/plain": [
       "['18h 40m', '5h 40m', '3h 20m', '3h 50m', '3h 45m']"
      ]
     },
     "execution_count": 24,
     "metadata": {},
     "output_type": "execute_result"
    }
   ],
   "source": [
    "duration1=list(filter(None,duration))\n",
    "duration1[:5]"
   ]
  },
  {
   "cell_type": "code",
   "execution_count": 25,
   "id": "41131f7e",
   "metadata": {},
   "outputs": [
    {
     "data": {
      "text/plain": [
       "84"
      ]
     },
     "execution_count": 25,
     "metadata": {},
     "output_type": "execute_result"
    }
   ],
   "source": [
    "len(duration1)"
   ]
  },
  {
   "cell_type": "code",
   "execution_count": 26,
   "id": "2b963791",
   "metadata": {},
   "outputs": [],
   "source": [
    "stop=[]  #number of stops\n",
    "st=driver.find_elements_by_xpath(\"//div[@class='pl-10 stop-cont']/div/span\")\n",
    "for i in st:\n",
    "    stop.append(i.text)"
   ]
  },
  {
   "cell_type": "code",
   "execution_count": 27,
   "id": "4c04c0ba",
   "metadata": {},
   "outputs": [
    {
     "data": {
      "text/plain": [
       "['1 Stop', '', '', '', '1 Stop']"
      ]
     },
     "execution_count": 27,
     "metadata": {},
     "output_type": "execute_result"
    }
   ],
   "source": [
    "stop[:5]"
   ]
  },
  {
   "cell_type": "code",
   "execution_count": 28,
   "id": "3876d357",
   "metadata": {},
   "outputs": [
    {
     "data": {
      "text/plain": [
       "['1 Stop', '1 Stop', 'Non Stop', 'Non Stop', 'Non Stop']"
      ]
     },
     "execution_count": 28,
     "metadata": {},
     "output_type": "execute_result"
    }
   ],
   "source": [
    "stop1=list(filter(None, stop))\n",
    "stop1[:5]"
   ]
  },
  {
   "cell_type": "code",
   "execution_count": 29,
   "id": "baf16090",
   "metadata": {},
   "outputs": [
    {
     "data": {
      "text/plain": [
       "84"
      ]
     },
     "execution_count": 29,
     "metadata": {},
     "output_type": "execute_result"
    }
   ],
   "source": [
    "len(stop1)"
   ]
  },
  {
   "cell_type": "code",
   "execution_count": 30,
   "id": "fe0209d7",
   "metadata": {},
   "outputs": [],
   "source": [
    "price=[]  #price of the flight\n",
    "pr=driver.find_elements_by_xpath(\"//div[@class='mb-10 fs-20 bold lh-1 cursor-pointer']\")\n",
    "for i in pr:\n",
    "    price.append(i.text)"
   ]
  },
  {
   "cell_type": "code",
   "execution_count": 31,
   "id": "182d68e8",
   "metadata": {},
   "outputs": [
    {
     "data": {
      "text/plain": [
       "['8,946', '10,551', '11,324', '11,346', '12,158']"
      ]
     },
     "execution_count": 31,
     "metadata": {},
     "output_type": "execute_result"
    }
   ],
   "source": [
    "price[:5]"
   ]
  },
  {
   "cell_type": "code",
   "execution_count": 45,
   "id": "6e8445f4",
   "metadata": {},
   "outputs": [],
   "source": [
    "list_count=0 #iterating over the each row of the flight and clicking on flight details and fetching date of journey\n",
    "date1=[]\n",
    "while(list_count<86):\n",
    "    \n",
    "   \n",
    "    if(list_count>86):\n",
    "        break\n",
    "    else:\n",
    "        list_count +=1\n",
    "    try:\n",
    "        date=driver.find_elements_by_xpath(\"//div[@class='link-color fs-12 cursor-pointer']\")\n",
    "        date[list_count].click()\n",
    "        time.sleep(5)\n",
    "    except:\n",
    "        pass\n",
    "    finally:\n",
    "        da=driver.find_elements_by_xpath(\"//div[@class='bold fs-12 mb-5']\")\n",
    "        for i in da:\n",
    "            date1.append(i.text)\n",
    "        \n",
    "    "
   ]
  },
  {
   "cell_type": "code",
   "execution_count": 46,
   "id": "844f7af0",
   "metadata": {},
   "outputs": [
    {
     "data": {
      "text/plain": [
       "84"
      ]
     },
     "execution_count": 46,
     "metadata": {},
     "output_type": "execute_result"
    }
   ],
   "source": [
    "len(date1)"
   ]
  },
  {
   "cell_type": "code",
   "execution_count": 47,
   "id": "cefcd53c",
   "metadata": {},
   "outputs": [
    {
     "data": {
      "text/html": [
       "<div>\n",
       "<style scoped>\n",
       "    .dataframe tbody tr th:only-of-type {\n",
       "        vertical-align: middle;\n",
       "    }\n",
       "\n",
       "    .dataframe tbody tr th {\n",
       "        vertical-align: top;\n",
       "    }\n",
       "\n",
       "    .dataframe thead th {\n",
       "        text-align: right;\n",
       "    }\n",
       "</style>\n",
       "<table border=\"1\" class=\"dataframe\">\n",
       "  <thead>\n",
       "    <tr style=\"text-align: right;\">\n",
       "      <th></th>\n",
       "      <th>Airline</th>\n",
       "      <th>Source</th>\n",
       "      <th>Date of Journey</th>\n",
       "      <th>Destination</th>\n",
       "      <th>Departure</th>\n",
       "      <th>Arrival</th>\n",
       "      <th>Duration</th>\n",
       "      <th>Stops</th>\n",
       "      <th>Price</th>\n",
       "    </tr>\n",
       "  </thead>\n",
       "  <tbody>\n",
       "    <tr>\n",
       "      <th>0</th>\n",
       "      <td>SpiceJet</td>\n",
       "      <td>New Delhi</td>\n",
       "      <td>Thu, 24 Feb 2022</td>\n",
       "      <td>Ras Al Khaimah</td>\n",
       "      <td>DEL 07:20</td>\n",
       "      <td>00:30RKT +1 Day</td>\n",
       "      <td>18h 40m</td>\n",
       "      <td>1 Stop</td>\n",
       "      <td>8,946</td>\n",
       "    </tr>\n",
       "    <tr>\n",
       "      <th>1</th>\n",
       "      <td>Air India</td>\n",
       "      <td>New Delhi</td>\n",
       "      <td>Thu, 24 Feb 2022</td>\n",
       "      <td>Abu Dhabi</td>\n",
       "      <td>DEL 14:30</td>\n",
       "      <td>18:40AUH</td>\n",
       "      <td>5h 40m</td>\n",
       "      <td>1 Stop</td>\n",
       "      <td>10,551</td>\n",
       "    </tr>\n",
       "    <tr>\n",
       "      <th>2</th>\n",
       "      <td>IndiGo</td>\n",
       "      <td>New Delhi</td>\n",
       "      <td>Thu, 24 Feb 2022</td>\n",
       "      <td>Sharjah</td>\n",
       "      <td>DEL 19:10</td>\n",
       "      <td>21:00SHJ</td>\n",
       "      <td>3h 20m</td>\n",
       "      <td>Non Stop</td>\n",
       "      <td>11,324</td>\n",
       "    </tr>\n",
       "    <tr>\n",
       "      <th>3</th>\n",
       "      <td>SpiceJet</td>\n",
       "      <td>New Delhi</td>\n",
       "      <td>Thu, 24 Feb 2022</td>\n",
       "      <td>Ras Al Khaimah</td>\n",
       "      <td>DEL 23:10</td>\n",
       "      <td>01:30RKT +1 Day</td>\n",
       "      <td>3h 50m</td>\n",
       "      <td>Non Stop</td>\n",
       "      <td>11,346</td>\n",
       "    </tr>\n",
       "    <tr>\n",
       "      <th>4</th>\n",
       "      <td>Air India</td>\n",
       "      <td>New Delhi</td>\n",
       "      <td>Thu, 24 Feb 2022</td>\n",
       "      <td>Dubai</td>\n",
       "      <td>DEL 20:30</td>\n",
       "      <td>22:45DXB</td>\n",
       "      <td>3h 45m</td>\n",
       "      <td>Non Stop</td>\n",
       "      <td>12,158</td>\n",
       "    </tr>\n",
       "    <tr>\n",
       "      <th>...</th>\n",
       "      <td>...</td>\n",
       "      <td>...</td>\n",
       "      <td>...</td>\n",
       "      <td>...</td>\n",
       "      <td>...</td>\n",
       "      <td>...</td>\n",
       "      <td>...</td>\n",
       "      <td>...</td>\n",
       "      <td>...</td>\n",
       "    </tr>\n",
       "    <tr>\n",
       "      <th>79</th>\n",
       "      <td>Virgin Atlantic</td>\n",
       "      <td>New Delhi</td>\n",
       "      <td>Thu, 24 Feb 2022</td>\n",
       "      <td>Abu Dhabi</td>\n",
       "      <td>DEL 04:05</td>\n",
       "      <td>23:05AUH</td>\n",
       "      <td>20h 30m</td>\n",
       "      <td>1 Stop</td>\n",
       "      <td>2,07,293</td>\n",
       "    </tr>\n",
       "    <tr>\n",
       "      <th>80</th>\n",
       "      <td>Biman Bangladesh Airline</td>\n",
       "      <td>New Delhi</td>\n",
       "      <td>Thu, 24 Feb 2022</td>\n",
       "      <td>Sharjah</td>\n",
       "      <td>DEL 15:45</td>\n",
       "      <td>02:15SHJ +1 Day</td>\n",
       "      <td>12h 00m</td>\n",
       "      <td>1 Stop</td>\n",
       "      <td>2,08,435</td>\n",
       "    </tr>\n",
       "    <tr>\n",
       "      <th>81</th>\n",
       "      <td>Lufthansa</td>\n",
       "      <td>New Delhi</td>\n",
       "      <td>Thu, 24 Feb 2022</td>\n",
       "      <td>Abu Dhabi</td>\n",
       "      <td>DEL 03:35</td>\n",
       "      <td>22:35AUH</td>\n",
       "      <td>20h 30m</td>\n",
       "      <td>1 Stop</td>\n",
       "      <td>3,61,847</td>\n",
       "    </tr>\n",
       "    <tr>\n",
       "      <th>82</th>\n",
       "      <td>Lufthansa</td>\n",
       "      <td>New Delhi</td>\n",
       "      <td>Thu, 24 Feb 2022</td>\n",
       "      <td>Dubai</td>\n",
       "      <td>DEL 03:35</td>\n",
       "      <td>22:45DXB</td>\n",
       "      <td>20h 40m</td>\n",
       "      <td>1 Stop</td>\n",
       "      <td>3,86,951</td>\n",
       "    </tr>\n",
       "    <tr>\n",
       "      <th>83</th>\n",
       "      <td>Lufthansa</td>\n",
       "      <td>New Delhi</td>\n",
       "      <td>Thu, 24 Feb 2022</td>\n",
       "      <td>Abu Dhabi</td>\n",
       "      <td>DEL 03:35</td>\n",
       "      <td>22:35AUH</td>\n",
       "      <td>20h 30m</td>\n",
       "      <td>1 Stop</td>\n",
       "      <td>4,30,760</td>\n",
       "    </tr>\n",
       "  </tbody>\n",
       "</table>\n",
       "<p>84 rows × 9 columns</p>\n",
       "</div>"
      ],
      "text/plain": [
       "                     Airline     Source   Date of Journey     Destination  \\\n",
       "0                   SpiceJet  New Delhi  Thu, 24 Feb 2022  Ras Al Khaimah   \n",
       "1                  Air India  New Delhi  Thu, 24 Feb 2022       Abu Dhabi   \n",
       "2                     IndiGo  New Delhi  Thu, 24 Feb 2022         Sharjah   \n",
       "3                   SpiceJet  New Delhi  Thu, 24 Feb 2022  Ras Al Khaimah   \n",
       "4                  Air India  New Delhi  Thu, 24 Feb 2022           Dubai   \n",
       "..                       ...        ...               ...             ...   \n",
       "79           Virgin Atlantic  New Delhi  Thu, 24 Feb 2022       Abu Dhabi   \n",
       "80  Biman Bangladesh Airline  New Delhi  Thu, 24 Feb 2022         Sharjah   \n",
       "81                 Lufthansa  New Delhi  Thu, 24 Feb 2022       Abu Dhabi   \n",
       "82                 Lufthansa  New Delhi  Thu, 24 Feb 2022           Dubai   \n",
       "83                 Lufthansa  New Delhi  Thu, 24 Feb 2022       Abu Dhabi   \n",
       "\n",
       "    Departure          Arrival Duration     Stops     Price  \n",
       "0   DEL 07:20  00:30RKT +1 Day  18h 40m    1 Stop     8,946  \n",
       "1   DEL 14:30         18:40AUH   5h 40m    1 Stop    10,551  \n",
       "2   DEL 19:10         21:00SHJ   3h 20m  Non Stop    11,324  \n",
       "3   DEL 23:10  01:30RKT +1 Day   3h 50m  Non Stop    11,346  \n",
       "4   DEL 20:30         22:45DXB   3h 45m  Non Stop    12,158  \n",
       "..        ...              ...      ...       ...       ...  \n",
       "79  DEL 04:05         23:05AUH  20h 30m    1 Stop  2,07,293  \n",
       "80  DEL 15:45  02:15SHJ +1 Day  12h 00m    1 Stop  2,08,435  \n",
       "81  DEL 03:35         22:35AUH  20h 30m    1 Stop  3,61,847  \n",
       "82  DEL 03:35         22:45DXB  20h 40m    1 Stop  3,86,951  \n",
       "83  DEL 03:35         22:35AUH  20h 30m    1 Stop  4,30,760  \n",
       "\n",
       "[84 rows x 9 columns]"
      ]
     },
     "execution_count": 47,
     "metadata": {},
     "output_type": "execute_result"
    }
   ],
   "source": [
    "job=pd.DataFrame({})  #creating the dataframe and saving it in different titles.\n",
    "job['Airline']=flightname\n",
    "job['Source']=source\n",
    "job['Date of Journey']=date1\n",
    "job['Destination']=destination\n",
    "job['Departure']=time1\n",
    "job['Arrival']=artime1\n",
    "job['Duration']=duration1\n",
    "job['Stops']=stop1\n",
    "job['Price']=price\n",
    "job"
   ]
  },
  {
   "cell_type": "code",
   "execution_count": 48,
   "id": "0e8c37e1",
   "metadata": {},
   "outputs": [],
   "source": [
    "#extracting data from yatra.com for location mumbai to chennai\n",
    "driver.get(\"https://flight.yatra.com/air-search-ui/seodom/trigger?type=O&viewName=normal&flexi=0&noOfSegments=1&origin=BOM&originCountry=IN&destination=MAA&destinationCountry=IN&flight_depart_date=08%2F03%2F2022&ADT=1&CHD=0&INF=0&preferred=&class=Economy&source=seo\")"
   ]
  },
  {
   "cell_type": "code",
   "execution_count": 51,
   "id": "f6203bfa",
   "metadata": {},
   "outputs": [],
   "source": [
    "flightname1=[] #airline name\n",
    "name=driver.find_elements_by_xpath(\"//span[@class='i-b text ellipsis']\")\n",
    "for i in name:\n",
    "    flightname1.append(i.text)"
   ]
  },
  {
   "cell_type": "code",
   "execution_count": 54,
   "id": "63b38a55",
   "metadata": {},
   "outputs": [
    {
     "data": {
      "text/plain": [
       "['SpiceJet', 'SpiceJet', 'Go First', 'IndiGo', 'IndiGo']"
      ]
     },
     "execution_count": 54,
     "metadata": {},
     "output_type": "execute_result"
    }
   ],
   "source": [
    "flightname1[:5]"
   ]
  },
  {
   "cell_type": "code",
   "execution_count": 55,
   "id": "18c67b9a",
   "metadata": {},
   "outputs": [
    {
     "data": {
      "text/plain": [
       "106"
      ]
     },
     "execution_count": 55,
     "metadata": {},
     "output_type": "execute_result"
    }
   ],
   "source": [
    "len(flightname1)"
   ]
  },
  {
   "cell_type": "code",
   "execution_count": 61,
   "id": "457ee691",
   "metadata": {},
   "outputs": [],
   "source": [
    "time2=[] #departure time\n",
    "tim=driver.find_elements_by_xpath(\"//div[@class='i-b pr']\")\n",
    "for i in tim:\n",
    "    time2.append(i.text)"
   ]
  },
  {
   "cell_type": "code",
   "execution_count": 62,
   "id": "3aa99249",
   "metadata": {},
   "outputs": [
    {
     "data": {
      "text/plain": [
       "['19:30', '06:00', '05:50', '16:25', '21:25']"
      ]
     },
     "execution_count": 62,
     "metadata": {},
     "output_type": "execute_result"
    }
   ],
   "source": [
    "time2[:5]"
   ]
  },
  {
   "cell_type": "code",
   "execution_count": 63,
   "id": "0419e0c9",
   "metadata": {},
   "outputs": [
    {
     "data": {
      "text/plain": [
       "106"
      ]
     },
     "execution_count": 63,
     "metadata": {},
     "output_type": "execute_result"
    }
   ],
   "source": [
    "len(time2)"
   ]
  },
  {
   "cell_type": "code",
   "execution_count": 64,
   "id": "bfdafc0e",
   "metadata": {},
   "outputs": [],
   "source": [
    "artime2=[]  #Arrival Time\n",
    "ar=driver.find_elements_by_xpath(\"//p[@class='bold fs-15 mb-2 pr time']\")\n",
    "for i in ar:\n",
    "    artime2.append(i.text.replace(\"\\n\",\" \"))"
   ]
  },
  {
   "cell_type": "code",
   "execution_count": 67,
   "id": "dea38b5b",
   "metadata": {},
   "outputs": [
    {
     "data": {
      "text/plain": [
       "['21:20', '08:00', '07:40', '18:15', '23:15']"
      ]
     },
     "execution_count": 67,
     "metadata": {},
     "output_type": "execute_result"
    }
   ],
   "source": [
    "artime2[:5]"
   ]
  },
  {
   "cell_type": "code",
   "execution_count": 66,
   "id": "2e6120d6",
   "metadata": {},
   "outputs": [
    {
     "data": {
      "text/plain": [
       "106"
      ]
     },
     "execution_count": 66,
     "metadata": {},
     "output_type": "execute_result"
    }
   ],
   "source": [
    "len(artime2)"
   ]
  },
  {
   "cell_type": "code",
   "execution_count": 68,
   "id": "19fc0108",
   "metadata": {},
   "outputs": [],
   "source": [
    "source2=[]  #Source from where the flight take off\n",
    "sou=driver.find_elements_by_xpath(\"//p[@class='fs-10 font-lightgrey no-wrap city ellipsis']\")\n",
    "for i in sou:\n",
    "    source2.append(i.text)"
   ]
  },
  {
   "cell_type": "code",
   "execution_count": 70,
   "id": "df8a9937",
   "metadata": {},
   "outputs": [
    {
     "data": {
      "text/plain": [
       "['Mumbai', 'Mumbai', 'Mumbai', 'Mumbai', 'Mumbai']"
      ]
     },
     "execution_count": 70,
     "metadata": {},
     "output_type": "execute_result"
    }
   ],
   "source": [
    "source3=source2[::2] #from where the flight takes off\n",
    "source3[:5]"
   ]
  },
  {
   "cell_type": "code",
   "execution_count": 71,
   "id": "999626f9",
   "metadata": {},
   "outputs": [
    {
     "data": {
      "text/plain": [
       "['Chennai', 'Chennai', 'Chennai', 'Chennai', 'Chennai']"
      ]
     },
     "execution_count": 71,
     "metadata": {},
     "output_type": "execute_result"
    }
   ],
   "source": [
    "destination=source2[1::2] #destination place\n",
    "destination[:5]"
   ]
  },
  {
   "cell_type": "code",
   "execution_count": 72,
   "id": "b70640d7",
   "metadata": {},
   "outputs": [],
   "source": [
    "duration1=[]  #duration of the flight\n",
    "dura=driver.find_elements_by_xpath(\"//p[@class='fs-12 bold du mb-2']\")\n",
    "for i in dura:\n",
    "    duration1.append(i.text)"
   ]
  },
  {
   "cell_type": "code",
   "execution_count": 74,
   "id": "99ed6723",
   "metadata": {},
   "outputs": [
    {
     "data": {
      "text/plain": [
       "['1h 50m', '2h 00m', '1h 50m', '1h 50m', '1h 50m']"
      ]
     },
     "execution_count": 74,
     "metadata": {},
     "output_type": "execute_result"
    }
   ],
   "source": [
    "duration1[:5]"
   ]
  },
  {
   "cell_type": "code",
   "execution_count": 75,
   "id": "25280ff7",
   "metadata": {},
   "outputs": [
    {
     "data": {
      "text/plain": [
       "106"
      ]
     },
     "execution_count": 75,
     "metadata": {},
     "output_type": "execute_result"
    }
   ],
   "source": [
    "len(duration1)"
   ]
  },
  {
   "cell_type": "code",
   "execution_count": 76,
   "id": "6d399ca7",
   "metadata": {},
   "outputs": [],
   "source": [
    "stop2=[]  #number of stops\n",
    "st=driver.find_elements_by_xpath(\"//div[@class=' font-lightgrey fs-10 tipsy i-b fs-10']/span\")\n",
    "for i in st:\n",
    "    stop2.append(i.text)"
   ]
  },
  {
   "cell_type": "code",
   "execution_count": 78,
   "id": "4c115559",
   "metadata": {},
   "outputs": [
    {
     "data": {
      "text/plain": [
       "['Non Stop', 'Non Stop', 'Non Stop', 'Non Stop', 'Non Stop']"
      ]
     },
     "execution_count": 78,
     "metadata": {},
     "output_type": "execute_result"
    }
   ],
   "source": [
    "stop2[:5]"
   ]
  },
  {
   "cell_type": "code",
   "execution_count": 79,
   "id": "7ec7167c",
   "metadata": {},
   "outputs": [
    {
     "data": {
      "text/plain": [
       "106"
      ]
     },
     "execution_count": 79,
     "metadata": {},
     "output_type": "execute_result"
    }
   ],
   "source": [
    "len(stop2)"
   ]
  },
  {
   "cell_type": "code",
   "execution_count": 81,
   "id": "eb4c3a40",
   "metadata": {},
   "outputs": [],
   "source": [
    "price1=[]  #price of the flight\n",
    "pr=driver.find_elements_by_xpath(\"//div[@class='i-b tipsy fare-summary-tooltip fs-18']\")\n",
    "for i in pr:\n",
    "    price1.append(i.text)"
   ]
  },
  {
   "cell_type": "code",
   "execution_count": 83,
   "id": "e750a4fb",
   "metadata": {},
   "outputs": [
    {
     "data": {
      "text/plain": [
       "['1,888', '1,888', '1,890', '1,890', '1,890']"
      ]
     },
     "execution_count": 83,
     "metadata": {},
     "output_type": "execute_result"
    }
   ],
   "source": [
    "price1[:5]"
   ]
  },
  {
   "cell_type": "code",
   "execution_count": 84,
   "id": "102a255c",
   "metadata": {},
   "outputs": [
    {
     "data": {
      "text/plain": [
       "106"
      ]
     },
     "execution_count": 84,
     "metadata": {},
     "output_type": "execute_result"
    }
   ],
   "source": [
    "len(price1)"
   ]
  },
  {
   "cell_type": "code",
   "execution_count": 87,
   "id": "31426963",
   "metadata": {},
   "outputs": [],
   "source": [
    "list_count=0 #iterating over the each row of the flight and clicking on flight details and fetching date of journey\n",
    "date2=[]\n",
    "while(list_count<108):\n",
    "    \n",
    "   \n",
    "    if(list_count>108):\n",
    "        break\n",
    "    else:\n",
    "        list_count +=1\n",
    "    try:\n",
    "        date=driver.find_elements_by_xpath(\"//div[@class='link-color fs-12 cursor-pointer']\")\n",
    "        date[list_count].click()\n",
    "        time.sleep(5)\n",
    "    except:\n",
    "        pass\n",
    "    finally:\n",
    "        da=driver.find_elements_by_xpath(\"//div[@class='bold fs-12 mb-5']\")\n",
    "        for i in da:\n",
    "            date2.append(i.text)"
   ]
  },
  {
   "cell_type": "code",
   "execution_count": 92,
   "id": "115843b2",
   "metadata": {},
   "outputs": [],
   "source": [
    "date3=date2[0:106]"
   ]
  },
  {
   "cell_type": "code",
   "execution_count": 93,
   "id": "acb0052f",
   "metadata": {},
   "outputs": [
    {
     "data": {
      "text/plain": [
       "106"
      ]
     },
     "execution_count": 93,
     "metadata": {},
     "output_type": "execute_result"
    }
   ],
   "source": [
    "len(date3)"
   ]
  },
  {
   "cell_type": "code",
   "execution_count": 95,
   "id": "ddc70247",
   "metadata": {},
   "outputs": [
    {
     "data": {
      "text/html": [
       "<div>\n",
       "<style scoped>\n",
       "    .dataframe tbody tr th:only-of-type {\n",
       "        vertical-align: middle;\n",
       "    }\n",
       "\n",
       "    .dataframe tbody tr th {\n",
       "        vertical-align: top;\n",
       "    }\n",
       "\n",
       "    .dataframe thead th {\n",
       "        text-align: right;\n",
       "    }\n",
       "</style>\n",
       "<table border=\"1\" class=\"dataframe\">\n",
       "  <thead>\n",
       "    <tr style=\"text-align: right;\">\n",
       "      <th></th>\n",
       "      <th>Airline</th>\n",
       "      <th>Source</th>\n",
       "      <th>Date of Journey</th>\n",
       "      <th>Destination</th>\n",
       "      <th>Departure</th>\n",
       "      <th>Arrival</th>\n",
       "      <th>Duration</th>\n",
       "      <th>Stops</th>\n",
       "      <th>Price</th>\n",
       "    </tr>\n",
       "  </thead>\n",
       "  <tbody>\n",
       "    <tr>\n",
       "      <th>0</th>\n",
       "      <td>SpiceJet</td>\n",
       "      <td>Mumbai</td>\n",
       "      <td>Tue, 8 Mar 2022</td>\n",
       "      <td>Chennai</td>\n",
       "      <td>19:30</td>\n",
       "      <td>21:20</td>\n",
       "      <td>1h 50m</td>\n",
       "      <td>Non Stop</td>\n",
       "      <td>1,888</td>\n",
       "    </tr>\n",
       "    <tr>\n",
       "      <th>1</th>\n",
       "      <td>SpiceJet</td>\n",
       "      <td>Mumbai</td>\n",
       "      <td>Tue, 8 Mar 2022</td>\n",
       "      <td>Chennai</td>\n",
       "      <td>06:00</td>\n",
       "      <td>08:00</td>\n",
       "      <td>2h 00m</td>\n",
       "      <td>Non Stop</td>\n",
       "      <td>1,888</td>\n",
       "    </tr>\n",
       "    <tr>\n",
       "      <th>2</th>\n",
       "      <td>Go First</td>\n",
       "      <td>Mumbai</td>\n",
       "      <td>Tue, 8 Mar 2022</td>\n",
       "      <td>Chennai</td>\n",
       "      <td>05:50</td>\n",
       "      <td>07:40</td>\n",
       "      <td>1h 50m</td>\n",
       "      <td>Non Stop</td>\n",
       "      <td>1,890</td>\n",
       "    </tr>\n",
       "    <tr>\n",
       "      <th>3</th>\n",
       "      <td>IndiGo</td>\n",
       "      <td>Mumbai</td>\n",
       "      <td>Tue, 8 Mar 2022</td>\n",
       "      <td>Chennai</td>\n",
       "      <td>16:25</td>\n",
       "      <td>18:15</td>\n",
       "      <td>1h 50m</td>\n",
       "      <td>Non Stop</td>\n",
       "      <td>1,890</td>\n",
       "    </tr>\n",
       "    <tr>\n",
       "      <th>4</th>\n",
       "      <td>IndiGo</td>\n",
       "      <td>Mumbai</td>\n",
       "      <td>Tue, 8 Mar 2022</td>\n",
       "      <td>Chennai</td>\n",
       "      <td>21:25</td>\n",
       "      <td>23:15</td>\n",
       "      <td>1h 50m</td>\n",
       "      <td>Non Stop</td>\n",
       "      <td>1,890</td>\n",
       "    </tr>\n",
       "    <tr>\n",
       "      <th>...</th>\n",
       "      <td>...</td>\n",
       "      <td>...</td>\n",
       "      <td>...</td>\n",
       "      <td>...</td>\n",
       "      <td>...</td>\n",
       "      <td>...</td>\n",
       "      <td>...</td>\n",
       "      <td>...</td>\n",
       "      <td>...</td>\n",
       "    </tr>\n",
       "    <tr>\n",
       "      <th>101</th>\n",
       "      <td>Air India</td>\n",
       "      <td>Mumbai</td>\n",
       "      <td>Tue, 8 Mar 2022</td>\n",
       "      <td>Chennai</td>\n",
       "      <td>07:55</td>\n",
       "      <td>23:35</td>\n",
       "      <td>15h 40m</td>\n",
       "      <td>2 Stop(s)</td>\n",
       "      <td>7,868</td>\n",
       "    </tr>\n",
       "    <tr>\n",
       "      <th>102</th>\n",
       "      <td>Air India</td>\n",
       "      <td>Mumbai</td>\n",
       "      <td>Tue, 8 Mar 2022</td>\n",
       "      <td>Chennai</td>\n",
       "      <td>07:55</td>\n",
       "      <td>08:55 + 1 day</td>\n",
       "      <td>25h 00m</td>\n",
       "      <td>2 Stop(s)</td>\n",
       "      <td>7,868</td>\n",
       "    </tr>\n",
       "    <tr>\n",
       "      <th>103</th>\n",
       "      <td>Air India</td>\n",
       "      <td>Mumbai</td>\n",
       "      <td>Tue, 8 Mar 2022</td>\n",
       "      <td>Chennai</td>\n",
       "      <td>07:55</td>\n",
       "      <td>08:55 + 1 day</td>\n",
       "      <td>25h 00m</td>\n",
       "      <td>2 Stop(s)</td>\n",
       "      <td>7,868</td>\n",
       "    </tr>\n",
       "    <tr>\n",
       "      <th>104</th>\n",
       "      <td>Air India</td>\n",
       "      <td>Mumbai</td>\n",
       "      <td>Tue, 8 Mar 2022</td>\n",
       "      <td>Chennai</td>\n",
       "      <td>07:55</td>\n",
       "      <td>12:40 + 1 day</td>\n",
       "      <td>28h 45m</td>\n",
       "      <td>2 Stop(s)</td>\n",
       "      <td>7,868</td>\n",
       "    </tr>\n",
       "    <tr>\n",
       "      <th>105</th>\n",
       "      <td>Air India</td>\n",
       "      <td>Mumbai</td>\n",
       "      <td>Tue, 8 Mar 2022</td>\n",
       "      <td>Chennai</td>\n",
       "      <td>07:55</td>\n",
       "      <td>12:40 + 1 day</td>\n",
       "      <td>28h 45m</td>\n",
       "      <td>2 Stop(s)</td>\n",
       "      <td>7,868</td>\n",
       "    </tr>\n",
       "  </tbody>\n",
       "</table>\n",
       "<p>106 rows × 9 columns</p>\n",
       "</div>"
      ],
      "text/plain": [
       "       Airline  Source  Date of Journey Destination Departure        Arrival  \\\n",
       "0     SpiceJet  Mumbai  Tue, 8 Mar 2022     Chennai     19:30          21:20   \n",
       "1     SpiceJet  Mumbai  Tue, 8 Mar 2022     Chennai     06:00          08:00   \n",
       "2     Go First  Mumbai  Tue, 8 Mar 2022     Chennai     05:50          07:40   \n",
       "3       IndiGo  Mumbai  Tue, 8 Mar 2022     Chennai     16:25          18:15   \n",
       "4       IndiGo  Mumbai  Tue, 8 Mar 2022     Chennai     21:25          23:15   \n",
       "..         ...     ...              ...         ...       ...            ...   \n",
       "101  Air India  Mumbai  Tue, 8 Mar 2022     Chennai     07:55          23:35   \n",
       "102  Air India  Mumbai  Tue, 8 Mar 2022     Chennai     07:55  08:55 + 1 day   \n",
       "103  Air India  Mumbai  Tue, 8 Mar 2022     Chennai     07:55  08:55 + 1 day   \n",
       "104  Air India  Mumbai  Tue, 8 Mar 2022     Chennai     07:55  12:40 + 1 day   \n",
       "105  Air India  Mumbai  Tue, 8 Mar 2022     Chennai     07:55  12:40 + 1 day   \n",
       "\n",
       "    Duration      Stops  Price  \n",
       "0     1h 50m   Non Stop  1,888  \n",
       "1     2h 00m   Non Stop  1,888  \n",
       "2     1h 50m   Non Stop  1,890  \n",
       "3     1h 50m   Non Stop  1,890  \n",
       "4     1h 50m   Non Stop  1,890  \n",
       "..       ...        ...    ...  \n",
       "101  15h 40m  2 Stop(s)  7,868  \n",
       "102  25h 00m  2 Stop(s)  7,868  \n",
       "103  25h 00m  2 Stop(s)  7,868  \n",
       "104  28h 45m  2 Stop(s)  7,868  \n",
       "105  28h 45m  2 Stop(s)  7,868  \n",
       "\n",
       "[106 rows x 9 columns]"
      ]
     },
     "execution_count": 95,
     "metadata": {},
     "output_type": "execute_result"
    }
   ],
   "source": [
    "job1=pd.DataFrame({})  #creating the dataframe and saving it in different titles.\n",
    "job1['Airline']=flightname1\n",
    "job1['Source']=source3\n",
    "job1['Date of Journey']=date3\n",
    "job1['Destination']=destination\n",
    "job1['Departure']=time2\n",
    "job1['Arrival']=artime2\n",
    "job1['Duration']=duration1\n",
    "job1['Stops']=stop2\n",
    "job1['Price']=price1\n",
    "job1"
   ]
  },
  {
   "cell_type": "code",
   "execution_count": 96,
   "id": "af4993ce",
   "metadata": {},
   "outputs": [],
   "source": [
    "#extracting the information form yatra.com for banaglore to kolkata\n",
    "driver.get(\"https://flight.yatra.com/air-search-ui/seodom/trigger?type=O&viewName=normal&flexi=0&noOfSegments=1&origin=BLR&originCountry=IN&destination=CCU&destinationCountry=IN&flight_depart_date=18%2F03%2F2022&ADT=1&CHD=0&INF=0&preferred=&class=Economy&source=seo\")"
   ]
  },
  {
   "cell_type": "code",
   "execution_count": 97,
   "id": "9c40c6c6",
   "metadata": {},
   "outputs": [],
   "source": [
    "flightname2=[] #airline name\n",
    "name=driver.find_elements_by_xpath(\"//span[@class='i-b text ellipsis']\")\n",
    "for i in name:\n",
    "    flightname2.append(i.text)"
   ]
  },
  {
   "cell_type": "code",
   "execution_count": 98,
   "id": "eb7c5cbf",
   "metadata": {},
   "outputs": [
    {
     "data": {
      "text/plain": [
       "['SpiceJet', 'Air India', 'IndiGo', 'SpiceJet', 'Air India']"
      ]
     },
     "execution_count": 98,
     "metadata": {},
     "output_type": "execute_result"
    }
   ],
   "source": [
    "flightname[:5]"
   ]
  },
  {
   "cell_type": "code",
   "execution_count": 99,
   "id": "59cf6aa2",
   "metadata": {},
   "outputs": [
    {
     "data": {
      "text/plain": [
       "120"
      ]
     },
     "execution_count": 99,
     "metadata": {},
     "output_type": "execute_result"
    }
   ],
   "source": [
    "len(flightname2)"
   ]
  },
  {
   "cell_type": "code",
   "execution_count": 100,
   "id": "05d6412b",
   "metadata": {},
   "outputs": [],
   "source": [
    "time3=[] #departure time\n",
    "tim=driver.find_elements_by_xpath(\"//div[@class='i-b pr']\")\n",
    "for i in tim:\n",
    "    time3.append(i.text)"
   ]
  },
  {
   "cell_type": "code",
   "execution_count": 101,
   "id": "2be14722",
   "metadata": {},
   "outputs": [
    {
     "data": {
      "text/plain": [
       "['07:30', '22:50', '22:50', '07:35', '06:10']"
      ]
     },
     "execution_count": 101,
     "metadata": {},
     "output_type": "execute_result"
    }
   ],
   "source": [
    "time3[:5]"
   ]
  },
  {
   "cell_type": "code",
   "execution_count": 102,
   "id": "1458af4c",
   "metadata": {},
   "outputs": [
    {
     "data": {
      "text/plain": [
       "120"
      ]
     },
     "execution_count": 102,
     "metadata": {},
     "output_type": "execute_result"
    }
   ],
   "source": [
    "len(time3)"
   ]
  },
  {
   "cell_type": "code",
   "execution_count": 103,
   "id": "0d785fe7",
   "metadata": {},
   "outputs": [],
   "source": [
    "artime3=[]  #Arrival Time\n",
    "ar=driver.find_elements_by_xpath(\"//p[@class='bold fs-15 mb-2 pr time']\")\n",
    "for i in ar:\n",
    "    artime3.append(i.text.replace(\"\\n\",\" \"))"
   ]
  },
  {
   "cell_type": "code",
   "execution_count": 105,
   "id": "1ee957eb",
   "metadata": {},
   "outputs": [
    {
     "data": {
      "text/plain": [
       "['12:30', '07:55 + 1 day', '12:30 + 1 day', '12:55', '13:20']"
      ]
     },
     "execution_count": 105,
     "metadata": {},
     "output_type": "execute_result"
    }
   ],
   "source": [
    "artime3[:5]"
   ]
  },
  {
   "cell_type": "code",
   "execution_count": 106,
   "id": "e317d37b",
   "metadata": {},
   "outputs": [
    {
     "data": {
      "text/plain": [
       "120"
      ]
     },
     "execution_count": 106,
     "metadata": {},
     "output_type": "execute_result"
    }
   ],
   "source": [
    "len(artime3)"
   ]
  },
  {
   "cell_type": "code",
   "execution_count": 107,
   "id": "f50f01c3",
   "metadata": {},
   "outputs": [],
   "source": [
    "source4=[]  #Source from where the flight take off\n",
    "sou=driver.find_elements_by_xpath(\"//p[@class='fs-10 font-lightgrey no-wrap city ellipsis']\")\n",
    "for i in sou:\n",
    "    source4.append(i.text)"
   ]
  },
  {
   "cell_type": "code",
   "execution_count": 109,
   "id": "f23344a4",
   "metadata": {},
   "outputs": [
    {
     "data": {
      "text/plain": [
       "['Bangalore', 'Bangalore', 'Bangalore', 'Bangalore', 'Bangalore']"
      ]
     },
     "execution_count": 109,
     "metadata": {},
     "output_type": "execute_result"
    }
   ],
   "source": [
    "source5=source4[::2]\n",
    "source5[:5]"
   ]
  },
  {
   "cell_type": "code",
   "execution_count": 110,
   "id": "d525c97e",
   "metadata": {},
   "outputs": [
    {
     "data": {
      "text/plain": [
       "120"
      ]
     },
     "execution_count": 110,
     "metadata": {},
     "output_type": "execute_result"
    }
   ],
   "source": [
    "len(source5)"
   ]
  },
  {
   "cell_type": "code",
   "execution_count": 112,
   "id": "219bdf98",
   "metadata": {},
   "outputs": [
    {
     "data": {
      "text/plain": [
       "['Kolkata', 'Kolkata', 'Kolkata', 'Kolkata', 'Kolkata']"
      ]
     },
     "execution_count": 112,
     "metadata": {},
     "output_type": "execute_result"
    }
   ],
   "source": [
    "destination1=source4[1::2]\n",
    "destination1[:5]"
   ]
  },
  {
   "cell_type": "code",
   "execution_count": 113,
   "id": "cb7d5ed8",
   "metadata": {},
   "outputs": [
    {
     "data": {
      "text/plain": [
       "120"
      ]
     },
     "execution_count": 113,
     "metadata": {},
     "output_type": "execute_result"
    }
   ],
   "source": [
    "len(destination1)"
   ]
  },
  {
   "cell_type": "code",
   "execution_count": 114,
   "id": "59544c81",
   "metadata": {},
   "outputs": [],
   "source": [
    "duration2=[]  #duration of the flight\n",
    "dura=driver.find_elements_by_xpath(\"//p[@class='fs-12 bold du mb-2']\")\n",
    "for i in dura:\n",
    "    duration2.append(i.text)"
   ]
  },
  {
   "cell_type": "code",
   "execution_count": 115,
   "id": "0d0f5dfa",
   "metadata": {},
   "outputs": [
    {
     "data": {
      "text/plain": [
       "['5h 00m', '9h 05m', '13h 40m', '5h 20m', '7h 10m']"
      ]
     },
     "execution_count": 115,
     "metadata": {},
     "output_type": "execute_result"
    }
   ],
   "source": [
    "duration2[:5]"
   ]
  },
  {
   "cell_type": "code",
   "execution_count": 116,
   "id": "26596205",
   "metadata": {},
   "outputs": [
    {
     "data": {
      "text/plain": [
       "120"
      ]
     },
     "execution_count": 116,
     "metadata": {},
     "output_type": "execute_result"
    }
   ],
   "source": [
    "len(duration2)"
   ]
  },
  {
   "cell_type": "code",
   "execution_count": 117,
   "id": "70cc813e",
   "metadata": {},
   "outputs": [],
   "source": [
    "stop3=[]  #number of stops\n",
    "st=driver.find_elements_by_xpath(\"//div[@class=' font-lightgrey fs-10 tipsy i-b fs-10']/span\")\n",
    "for i in st:\n",
    "    stop3.append(i.text)"
   ]
  },
  {
   "cell_type": "code",
   "execution_count": 118,
   "id": "9fd363f3",
   "metadata": {},
   "outputs": [
    {
     "data": {
      "text/plain": [
       "['1 Stop', '1 Stop', '1 Stop', '1 Stop', '1 Stop']"
      ]
     },
     "execution_count": 118,
     "metadata": {},
     "output_type": "execute_result"
    }
   ],
   "source": [
    "stop3[:5]"
   ]
  },
  {
   "cell_type": "code",
   "execution_count": 119,
   "id": "f9d668b1",
   "metadata": {},
   "outputs": [
    {
     "data": {
      "text/plain": [
       "120"
      ]
     },
     "execution_count": 119,
     "metadata": {},
     "output_type": "execute_result"
    }
   ],
   "source": [
    "len(stop3)"
   ]
  },
  {
   "cell_type": "code",
   "execution_count": 120,
   "id": "3a6dcf0f",
   "metadata": {},
   "outputs": [],
   "source": [
    "price2=[]  #price of the flight\n",
    "pr=driver.find_elements_by_xpath(\"//div[@class='i-b tipsy fare-summary-tooltip fs-18']\")\n",
    "for i in pr:\n",
    "    price2.append(i.text)"
   ]
  },
  {
   "cell_type": "code",
   "execution_count": 122,
   "id": "139ac436",
   "metadata": {},
   "outputs": [
    {
     "data": {
      "text/plain": [
       "['2,648', '2,648', '2,648', '2,674', '2,700']"
      ]
     },
     "execution_count": 122,
     "metadata": {},
     "output_type": "execute_result"
    }
   ],
   "source": [
    "price2[:5]"
   ]
  },
  {
   "cell_type": "code",
   "execution_count": 123,
   "id": "5e46795e",
   "metadata": {},
   "outputs": [
    {
     "data": {
      "text/plain": [
       "120"
      ]
     },
     "execution_count": 123,
     "metadata": {},
     "output_type": "execute_result"
    }
   ],
   "source": [
    "len(price2)"
   ]
  },
  {
   "cell_type": "code",
   "execution_count": 124,
   "id": "4cad6a6b",
   "metadata": {},
   "outputs": [],
   "source": [
    "list_count=0 #iterating over the each row of the flight and clicking on flight details and fetching date of journey\n",
    "date4=[]\n",
    "while(list_count<125):\n",
    "    \n",
    "   \n",
    "    if(list_count>125):\n",
    "        break\n",
    "    else:\n",
    "        list_count +=1\n",
    "    try:\n",
    "        date=driver.find_elements_by_xpath(\"//div[@class='link-color fs-12 cursor-pointer']\")\n",
    "        date[list_count].click()\n",
    "        time.sleep(5)\n",
    "    except:\n",
    "        pass\n",
    "    finally:\n",
    "        da=driver.find_elements_by_xpath(\"//div[@class='bold fs-12 mb-5']\")\n",
    "        for i in da:\n",
    "            date4.append(i.text)"
   ]
  },
  {
   "cell_type": "code",
   "execution_count": 127,
   "id": "1b6585c9",
   "metadata": {},
   "outputs": [],
   "source": [
    "date5=date4[0:120]"
   ]
  },
  {
   "cell_type": "code",
   "execution_count": 128,
   "id": "7047e581",
   "metadata": {},
   "outputs": [
    {
     "data": {
      "text/plain": [
       "120"
      ]
     },
     "execution_count": 128,
     "metadata": {},
     "output_type": "execute_result"
    }
   ],
   "source": [
    "len(date5)"
   ]
  },
  {
   "cell_type": "code",
   "execution_count": 129,
   "id": "b847538a",
   "metadata": {},
   "outputs": [
    {
     "data": {
      "text/html": [
       "<div>\n",
       "<style scoped>\n",
       "    .dataframe tbody tr th:only-of-type {\n",
       "        vertical-align: middle;\n",
       "    }\n",
       "\n",
       "    .dataframe tbody tr th {\n",
       "        vertical-align: top;\n",
       "    }\n",
       "\n",
       "    .dataframe thead th {\n",
       "        text-align: right;\n",
       "    }\n",
       "</style>\n",
       "<table border=\"1\" class=\"dataframe\">\n",
       "  <thead>\n",
       "    <tr style=\"text-align: right;\">\n",
       "      <th></th>\n",
       "      <th>Airline</th>\n",
       "      <th>Source</th>\n",
       "      <th>Date of Journey</th>\n",
       "      <th>Destination</th>\n",
       "      <th>Departure</th>\n",
       "      <th>Arrival</th>\n",
       "      <th>Duration</th>\n",
       "      <th>Stops</th>\n",
       "      <th>Price</th>\n",
       "    </tr>\n",
       "  </thead>\n",
       "  <tbody>\n",
       "    <tr>\n",
       "      <th>0</th>\n",
       "      <td>Go First</td>\n",
       "      <td>Bangalore</td>\n",
       "      <td>Fri, 18 Mar 2022</td>\n",
       "      <td>Kolkata</td>\n",
       "      <td>07:30</td>\n",
       "      <td>12:30</td>\n",
       "      <td>5h 00m</td>\n",
       "      <td>1 Stop</td>\n",
       "      <td>2,648</td>\n",
       "    </tr>\n",
       "    <tr>\n",
       "      <th>1</th>\n",
       "      <td>Go First</td>\n",
       "      <td>Bangalore</td>\n",
       "      <td>Sat, 19 Mar 2022</td>\n",
       "      <td>Kolkata</td>\n",
       "      <td>22:50</td>\n",
       "      <td>07:55 + 1 day</td>\n",
       "      <td>9h 05m</td>\n",
       "      <td>1 Stop</td>\n",
       "      <td>2,648</td>\n",
       "    </tr>\n",
       "    <tr>\n",
       "      <th>2</th>\n",
       "      <td>Go First</td>\n",
       "      <td>Bangalore</td>\n",
       "      <td>Fri, 18 Mar 2022</td>\n",
       "      <td>Kolkata</td>\n",
       "      <td>22:50</td>\n",
       "      <td>12:30 + 1 day</td>\n",
       "      <td>13h 40m</td>\n",
       "      <td>1 Stop</td>\n",
       "      <td>2,648</td>\n",
       "    </tr>\n",
       "    <tr>\n",
       "      <th>3</th>\n",
       "      <td>Air Asia</td>\n",
       "      <td>Bangalore</td>\n",
       "      <td>Sat, 19 Mar 2022</td>\n",
       "      <td>Kolkata</td>\n",
       "      <td>07:35</td>\n",
       "      <td>12:55</td>\n",
       "      <td>5h 20m</td>\n",
       "      <td>1 Stop</td>\n",
       "      <td>2,674</td>\n",
       "    </tr>\n",
       "    <tr>\n",
       "      <th>4</th>\n",
       "      <td>IndiGo</td>\n",
       "      <td>Bangalore</td>\n",
       "      <td>Fri, 18 Mar 2022</td>\n",
       "      <td>Kolkata</td>\n",
       "      <td>06:10</td>\n",
       "      <td>13:20</td>\n",
       "      <td>7h 10m</td>\n",
       "      <td>1 Stop</td>\n",
       "      <td>2,700</td>\n",
       "    </tr>\n",
       "    <tr>\n",
       "      <th>...</th>\n",
       "      <td>...</td>\n",
       "      <td>...</td>\n",
       "      <td>...</td>\n",
       "      <td>...</td>\n",
       "      <td>...</td>\n",
       "      <td>...</td>\n",
       "      <td>...</td>\n",
       "      <td>...</td>\n",
       "      <td>...</td>\n",
       "    </tr>\n",
       "    <tr>\n",
       "      <th>115</th>\n",
       "      <td>IndiGo</td>\n",
       "      <td>Bangalore</td>\n",
       "      <td>Sat, 19 Mar 2022</td>\n",
       "      <td>Kolkata</td>\n",
       "      <td>17:20</td>\n",
       "      <td>22:25</td>\n",
       "      <td>5h 05m</td>\n",
       "      <td>1 Stop</td>\n",
       "      <td>7,973</td>\n",
       "    </tr>\n",
       "    <tr>\n",
       "      <th>116</th>\n",
       "      <td>IndiGo</td>\n",
       "      <td>Bangalore</td>\n",
       "      <td>Fri, 18 Mar 2022</td>\n",
       "      <td>Kolkata</td>\n",
       "      <td>10:45</td>\n",
       "      <td>18:40</td>\n",
       "      <td>7h 55m</td>\n",
       "      <td>1 Stop</td>\n",
       "      <td>8,360</td>\n",
       "    </tr>\n",
       "    <tr>\n",
       "      <th>117</th>\n",
       "      <td>IndiGo</td>\n",
       "      <td>Bangalore</td>\n",
       "      <td>Sat, 19 Mar 2022</td>\n",
       "      <td>Kolkata</td>\n",
       "      <td>10:45</td>\n",
       "      <td>20:40</td>\n",
       "      <td>9h 55m</td>\n",
       "      <td>1 Stop</td>\n",
       "      <td>8,360</td>\n",
       "    </tr>\n",
       "    <tr>\n",
       "      <th>118</th>\n",
       "      <td>IndiGo</td>\n",
       "      <td>Bangalore</td>\n",
       "      <td>Fri, 18 Mar 2022</td>\n",
       "      <td>Kolkata</td>\n",
       "      <td>10:45</td>\n",
       "      <td>20:55</td>\n",
       "      <td>10h 10m</td>\n",
       "      <td>1 Stop</td>\n",
       "      <td>9,265</td>\n",
       "    </tr>\n",
       "    <tr>\n",
       "      <th>119</th>\n",
       "      <td>Vistara</td>\n",
       "      <td>Bangalore</td>\n",
       "      <td>Sat, 19 Mar 2022</td>\n",
       "      <td>Kolkata</td>\n",
       "      <td>11:30</td>\n",
       "      <td>19:35</td>\n",
       "      <td>8h 05m</td>\n",
       "      <td>2 Stop(s)</td>\n",
       "      <td>12,962</td>\n",
       "    </tr>\n",
       "  </tbody>\n",
       "</table>\n",
       "<p>120 rows × 9 columns</p>\n",
       "</div>"
      ],
      "text/plain": [
       "      Airline     Source   Date of Journey Destination Departure  \\\n",
       "0    Go First  Bangalore  Fri, 18 Mar 2022     Kolkata     07:30   \n",
       "1    Go First  Bangalore  Sat, 19 Mar 2022     Kolkata     22:50   \n",
       "2    Go First  Bangalore  Fri, 18 Mar 2022     Kolkata     22:50   \n",
       "3    Air Asia  Bangalore  Sat, 19 Mar 2022     Kolkata     07:35   \n",
       "4      IndiGo  Bangalore  Fri, 18 Mar 2022     Kolkata     06:10   \n",
       "..        ...        ...               ...         ...       ...   \n",
       "115    IndiGo  Bangalore  Sat, 19 Mar 2022     Kolkata     17:20   \n",
       "116    IndiGo  Bangalore  Fri, 18 Mar 2022     Kolkata     10:45   \n",
       "117    IndiGo  Bangalore  Sat, 19 Mar 2022     Kolkata     10:45   \n",
       "118    IndiGo  Bangalore  Fri, 18 Mar 2022     Kolkata     10:45   \n",
       "119   Vistara  Bangalore  Sat, 19 Mar 2022     Kolkata     11:30   \n",
       "\n",
       "           Arrival Duration      Stops   Price  \n",
       "0            12:30   5h 00m     1 Stop   2,648  \n",
       "1    07:55 + 1 day   9h 05m     1 Stop   2,648  \n",
       "2    12:30 + 1 day  13h 40m     1 Stop   2,648  \n",
       "3            12:55   5h 20m     1 Stop   2,674  \n",
       "4            13:20   7h 10m     1 Stop   2,700  \n",
       "..             ...      ...        ...     ...  \n",
       "115          22:25   5h 05m     1 Stop   7,973  \n",
       "116          18:40   7h 55m     1 Stop   8,360  \n",
       "117          20:40   9h 55m     1 Stop   8,360  \n",
       "118          20:55  10h 10m     1 Stop   9,265  \n",
       "119          19:35   8h 05m  2 Stop(s)  12,962  \n",
       "\n",
       "[120 rows x 9 columns]"
      ]
     },
     "execution_count": 129,
     "metadata": {},
     "output_type": "execute_result"
    }
   ],
   "source": [
    "job2=pd.DataFrame({})  #creating the dataframe and saving it in different titles.\n",
    "job2['Airline']=flightname2\n",
    "job2['Source']=source5\n",
    "job2['Date of Journey']=date5\n",
    "job2['Destination']=destination1\n",
    "job2['Departure']=time3\n",
    "job2['Arrival']=artime3\n",
    "job2['Duration']=duration2\n",
    "job2['Stops']=stop3\n",
    "job2['Price']=price2\n",
    "job2"
   ]
  },
  {
   "cell_type": "code",
   "execution_count": 131,
   "id": "085fce03",
   "metadata": {},
   "outputs": [],
   "source": [
    "#extracting data for mumbai to new delhi flights from yatra.com\n",
    "driver.get(\"https://flight.yatra.com/air-search-ui/seodom/trigger?ADT=1&CHD=0&INF=0&class=Economy&destination=DEL&destinationCountry=IN&flexi=0&flight_depart_date=23%2F03%2F2022&hb=0&noOfSegments=1&origin=BOM&originCountry=IN&type=O&unique=193016882954&version=1.1&viewName=normal\")"
   ]
  },
  {
   "cell_type": "code",
   "execution_count": 136,
   "id": "fe569124",
   "metadata": {},
   "outputs": [],
   "source": [
    "flightname3=[] #airline name\n",
    "name=driver.find_elements_by_xpath(\"//span[@class='i-b text ellipsis']\")\n",
    "for i in name:\n",
    "    flightname3.append(i.text)"
   ]
  },
  {
   "cell_type": "code",
   "execution_count": 137,
   "id": "0ae2950a",
   "metadata": {},
   "outputs": [
    {
     "data": {
      "text/plain": [
       "['Air Asia', 'SpiceJet', 'SpiceJet', 'SpiceJet', 'SpiceJet']"
      ]
     },
     "execution_count": 137,
     "metadata": {},
     "output_type": "execute_result"
    }
   ],
   "source": [
    "flightname3[:5]"
   ]
  },
  {
   "cell_type": "code",
   "execution_count": 138,
   "id": "7a3df223",
   "metadata": {},
   "outputs": [
    {
     "data": {
      "text/plain": [
       "137"
      ]
     },
     "execution_count": 138,
     "metadata": {},
     "output_type": "execute_result"
    }
   ],
   "source": [
    "len(flightname3)"
   ]
  },
  {
   "cell_type": "code",
   "execution_count": 139,
   "id": "3cfef5e0",
   "metadata": {},
   "outputs": [],
   "source": [
    "time4=[] #departure time\n",
    "tim=driver.find_elements_by_xpath(\"//div[@class='i-b pr']\")\n",
    "for i in tim:\n",
    "    time4.append(i.text)"
   ]
  },
  {
   "cell_type": "code",
   "execution_count": 140,
   "id": "109b8cf1",
   "metadata": {},
   "outputs": [
    {
     "data": {
      "text/plain": [
       "['22:55', '21:45', '07:20', '10:15', '19:25']"
      ]
     },
     "execution_count": 140,
     "metadata": {},
     "output_type": "execute_result"
    }
   ],
   "source": [
    "time4[:5]"
   ]
  },
  {
   "cell_type": "code",
   "execution_count": 141,
   "id": "c2bbf988",
   "metadata": {},
   "outputs": [
    {
     "data": {
      "text/plain": [
       "137"
      ]
     },
     "execution_count": 141,
     "metadata": {},
     "output_type": "execute_result"
    }
   ],
   "source": [
    "len(time4)"
   ]
  },
  {
   "cell_type": "code",
   "execution_count": 142,
   "id": "0ec691e2",
   "metadata": {},
   "outputs": [],
   "source": [
    "artime4=[]  #Arrival Time\n",
    "ar=driver.find_elements_by_xpath(\"//p[@class='bold fs-15 mb-2 pr time']\")\n",
    "for i in ar:\n",
    "    artime4.append(i.text.replace(\"\\n\",\" \"))"
   ]
  },
  {
   "cell_type": "code",
   "execution_count": 143,
   "id": "d4576210",
   "metadata": {},
   "outputs": [
    {
     "data": {
      "text/plain": [
       "['01:00 + 1 day', '23:55', '09:35', '12:30', '21:50']"
      ]
     },
     "execution_count": 143,
     "metadata": {},
     "output_type": "execute_result"
    }
   ],
   "source": [
    "artime4[:5]"
   ]
  },
  {
   "cell_type": "code",
   "execution_count": 144,
   "id": "d08bd8f5",
   "metadata": {},
   "outputs": [
    {
     "data": {
      "text/plain": [
       "137"
      ]
     },
     "execution_count": 144,
     "metadata": {},
     "output_type": "execute_result"
    }
   ],
   "source": [
    "len(artime4)"
   ]
  },
  {
   "cell_type": "code",
   "execution_count": 145,
   "id": "8c53e0a5",
   "metadata": {},
   "outputs": [],
   "source": [
    "source6=[]  #Source from where the flight take off\n",
    "sou=driver.find_elements_by_xpath(\"//p[@class='fs-10 font-lightgrey no-wrap city ellipsis']\")\n",
    "for i in sou:\n",
    "    source6.append(i.text)"
   ]
  },
  {
   "cell_type": "code",
   "execution_count": 146,
   "id": "c229de16",
   "metadata": {},
   "outputs": [
    {
     "data": {
      "text/plain": [
       "['Mumbai', 'Mumbai', 'Mumbai', 'Mumbai', 'Mumbai']"
      ]
     },
     "execution_count": 146,
     "metadata": {},
     "output_type": "execute_result"
    }
   ],
   "source": [
    "source7=source6[::2]\n",
    "source7[:5]"
   ]
  },
  {
   "cell_type": "code",
   "execution_count": 148,
   "id": "a43ac0c2",
   "metadata": {},
   "outputs": [
    {
     "data": {
      "text/plain": [
       "['New Delhi', 'New Delhi', 'New Delhi', 'New Delhi', 'New Delhi']"
      ]
     },
     "execution_count": 148,
     "metadata": {},
     "output_type": "execute_result"
    }
   ],
   "source": [
    "destination2=source6[1::2]\n",
    "destination2[:5]"
   ]
  },
  {
   "cell_type": "code",
   "execution_count": 149,
   "id": "862624b1",
   "metadata": {},
   "outputs": [],
   "source": [
    "duration3=[]  #duration of the flight\n",
    "dura=driver.find_elements_by_xpath(\"//p[@class='fs-12 bold du mb-2']\")\n",
    "for i in dura:\n",
    "    duration3.append(i.text)"
   ]
  },
  {
   "cell_type": "code",
   "execution_count": 150,
   "id": "f9dd8f14",
   "metadata": {},
   "outputs": [
    {
     "data": {
      "text/plain": [
       "['2h 05m', '2h 10m', '2h 15m', '2h 15m', '2h 25m']"
      ]
     },
     "execution_count": 150,
     "metadata": {},
     "output_type": "execute_result"
    }
   ],
   "source": [
    "duration3[:5]"
   ]
  },
  {
   "cell_type": "code",
   "execution_count": 151,
   "id": "f1e50b6c",
   "metadata": {},
   "outputs": [
    {
     "data": {
      "text/plain": [
       "137"
      ]
     },
     "execution_count": 151,
     "metadata": {},
     "output_type": "execute_result"
    }
   ],
   "source": [
    "len(duration3)"
   ]
  },
  {
   "cell_type": "code",
   "execution_count": 152,
   "id": "93447cb5",
   "metadata": {},
   "outputs": [],
   "source": [
    "stop4=[]  #number of stops\n",
    "st=driver.find_elements_by_xpath(\"//div[@class=' font-lightgrey fs-10 tipsy i-b fs-10']/span\")\n",
    "for i in st:\n",
    "    stop4.append(i.text)"
   ]
  },
  {
   "cell_type": "code",
   "execution_count": 153,
   "id": "f0fb8aac",
   "metadata": {},
   "outputs": [
    {
     "data": {
      "text/plain": [
       "['Non Stop', 'Non Stop', 'Non Stop', 'Non Stop', 'Non Stop']"
      ]
     },
     "execution_count": 153,
     "metadata": {},
     "output_type": "execute_result"
    }
   ],
   "source": [
    "stop4[:5]"
   ]
  },
  {
   "cell_type": "code",
   "execution_count": 154,
   "id": "05aa49c7",
   "metadata": {},
   "outputs": [
    {
     "data": {
      "text/plain": [
       "137"
      ]
     },
     "execution_count": 154,
     "metadata": {},
     "output_type": "execute_result"
    }
   ],
   "source": [
    "len(stop4)"
   ]
  },
  {
   "cell_type": "code",
   "execution_count": 155,
   "id": "815bb7d5",
   "metadata": {},
   "outputs": [],
   "source": [
    "price3=[]  #price of the flight\n",
    "pr=driver.find_elements_by_xpath(\"//div[@class='i-b tipsy fare-summary-tooltip fs-18']\")\n",
    "for i in pr:\n",
    "    price3.append(i.text)"
   ]
  },
  {
   "cell_type": "code",
   "execution_count": 157,
   "id": "ecf8ffbe",
   "metadata": {},
   "outputs": [
    {
     "data": {
      "text/plain": [
       "['2,322', '2,337', '2,337', '2,337', '2,337']"
      ]
     },
     "execution_count": 157,
     "metadata": {},
     "output_type": "execute_result"
    }
   ],
   "source": [
    "price3[:5]"
   ]
  },
  {
   "cell_type": "code",
   "execution_count": 156,
   "id": "93da2ac3",
   "metadata": {},
   "outputs": [
    {
     "data": {
      "text/plain": [
       "137"
      ]
     },
     "execution_count": 156,
     "metadata": {},
     "output_type": "execute_result"
    }
   ],
   "source": [
    "len(price3)"
   ]
  },
  {
   "cell_type": "code",
   "execution_count": 158,
   "id": "525a25a0",
   "metadata": {},
   "outputs": [],
   "source": [
    "list_count=0 #iterating over the each row of the flight and clicking on flight details and fetching date of journey\n",
    "date6=[]\n",
    "while(list_count<140):\n",
    "    \n",
    "   \n",
    "    if(list_count>140):\n",
    "        break\n",
    "    else:\n",
    "        list_count +=1\n",
    "    try:\n",
    "        date=driver.find_elements_by_xpath(\"//div[@class='link-color fs-12 cursor-pointer']\")\n",
    "        date[list_count].click()\n",
    "        time.sleep(5)\n",
    "    except:\n",
    "        pass\n",
    "    finally:\n",
    "        da=driver.find_elements_by_xpath(\"//div[@class='bold fs-12 mb-5']\")\n",
    "        for i in da:\n",
    "            date6.append(i.text)"
   ]
  },
  {
   "cell_type": "code",
   "execution_count": 160,
   "id": "2c907a4c",
   "metadata": {},
   "outputs": [],
   "source": [
    "date7=date6[0:137]"
   ]
  },
  {
   "cell_type": "code",
   "execution_count": 161,
   "id": "d1d03ea5",
   "metadata": {},
   "outputs": [
    {
     "data": {
      "text/plain": [
       "137"
      ]
     },
     "execution_count": 161,
     "metadata": {},
     "output_type": "execute_result"
    }
   ],
   "source": [
    "len(date7)"
   ]
  },
  {
   "cell_type": "code",
   "execution_count": 162,
   "id": "77f00749",
   "metadata": {},
   "outputs": [
    {
     "data": {
      "text/html": [
       "<div>\n",
       "<style scoped>\n",
       "    .dataframe tbody tr th:only-of-type {\n",
       "        vertical-align: middle;\n",
       "    }\n",
       "\n",
       "    .dataframe tbody tr th {\n",
       "        vertical-align: top;\n",
       "    }\n",
       "\n",
       "    .dataframe thead th {\n",
       "        text-align: right;\n",
       "    }\n",
       "</style>\n",
       "<table border=\"1\" class=\"dataframe\">\n",
       "  <thead>\n",
       "    <tr style=\"text-align: right;\">\n",
       "      <th></th>\n",
       "      <th>Airline</th>\n",
       "      <th>Source</th>\n",
       "      <th>Date of Journey</th>\n",
       "      <th>Destination</th>\n",
       "      <th>Departure</th>\n",
       "      <th>Arrival</th>\n",
       "      <th>Duration</th>\n",
       "      <th>Stops</th>\n",
       "      <th>Price</th>\n",
       "    </tr>\n",
       "  </thead>\n",
       "  <tbody>\n",
       "    <tr>\n",
       "      <th>0</th>\n",
       "      <td>Air Asia</td>\n",
       "      <td>Mumbai</td>\n",
       "      <td>Wed, 23 Mar 2022</td>\n",
       "      <td>New Delhi</td>\n",
       "      <td>22:55</td>\n",
       "      <td>01:00 + 1 day</td>\n",
       "      <td>2h 05m</td>\n",
       "      <td>Non Stop</td>\n",
       "      <td>2,322</td>\n",
       "    </tr>\n",
       "    <tr>\n",
       "      <th>1</th>\n",
       "      <td>SpiceJet</td>\n",
       "      <td>Mumbai</td>\n",
       "      <td>Wed, 23 Mar 2022</td>\n",
       "      <td>New Delhi</td>\n",
       "      <td>21:45</td>\n",
       "      <td>23:55</td>\n",
       "      <td>2h 10m</td>\n",
       "      <td>Non Stop</td>\n",
       "      <td>2,337</td>\n",
       "    </tr>\n",
       "    <tr>\n",
       "      <th>2</th>\n",
       "      <td>SpiceJet</td>\n",
       "      <td>Mumbai</td>\n",
       "      <td>Wed, 23 Mar 2022</td>\n",
       "      <td>New Delhi</td>\n",
       "      <td>07:20</td>\n",
       "      <td>09:35</td>\n",
       "      <td>2h 15m</td>\n",
       "      <td>Non Stop</td>\n",
       "      <td>2,337</td>\n",
       "    </tr>\n",
       "    <tr>\n",
       "      <th>3</th>\n",
       "      <td>SpiceJet</td>\n",
       "      <td>Mumbai</td>\n",
       "      <td>Wed, 23 Mar 2022</td>\n",
       "      <td>New Delhi</td>\n",
       "      <td>10:15</td>\n",
       "      <td>12:30</td>\n",
       "      <td>2h 15m</td>\n",
       "      <td>Non Stop</td>\n",
       "      <td>2,337</td>\n",
       "    </tr>\n",
       "    <tr>\n",
       "      <th>4</th>\n",
       "      <td>SpiceJet</td>\n",
       "      <td>Mumbai</td>\n",
       "      <td>Wed, 23 Mar 2022</td>\n",
       "      <td>New Delhi</td>\n",
       "      <td>19:25</td>\n",
       "      <td>21:50</td>\n",
       "      <td>2h 25m</td>\n",
       "      <td>Non Stop</td>\n",
       "      <td>2,337</td>\n",
       "    </tr>\n",
       "    <tr>\n",
       "      <th>...</th>\n",
       "      <td>...</td>\n",
       "      <td>...</td>\n",
       "      <td>...</td>\n",
       "      <td>...</td>\n",
       "      <td>...</td>\n",
       "      <td>...</td>\n",
       "      <td>...</td>\n",
       "      <td>...</td>\n",
       "      <td>...</td>\n",
       "    </tr>\n",
       "    <tr>\n",
       "      <th>132</th>\n",
       "      <td>Go First</td>\n",
       "      <td>Mumbai</td>\n",
       "      <td>Wed, 23 Mar 2022</td>\n",
       "      <td>New Delhi</td>\n",
       "      <td>15:20</td>\n",
       "      <td>20:20</td>\n",
       "      <td>5h 00m</td>\n",
       "      <td>1 Stop</td>\n",
       "      <td>5,938</td>\n",
       "    </tr>\n",
       "    <tr>\n",
       "      <th>133</th>\n",
       "      <td>Go First</td>\n",
       "      <td>Mumbai</td>\n",
       "      <td>Wed, 23 Mar 2022</td>\n",
       "      <td>New Delhi</td>\n",
       "      <td>17:45</td>\n",
       "      <td>23:15</td>\n",
       "      <td>5h 30m</td>\n",
       "      <td>1 Stop</td>\n",
       "      <td>5,984</td>\n",
       "    </tr>\n",
       "    <tr>\n",
       "      <th>134</th>\n",
       "      <td>Go First</td>\n",
       "      <td>Mumbai</td>\n",
       "      <td>Wed, 23 Mar 2022</td>\n",
       "      <td>New Delhi</td>\n",
       "      <td>10:40</td>\n",
       "      <td>17:35</td>\n",
       "      <td>6h 55m</td>\n",
       "      <td>1 Stop</td>\n",
       "      <td>6,031</td>\n",
       "    </tr>\n",
       "    <tr>\n",
       "      <th>135</th>\n",
       "      <td>Go First</td>\n",
       "      <td>Mumbai</td>\n",
       "      <td>Wed, 23 Mar 2022</td>\n",
       "      <td>New Delhi</td>\n",
       "      <td>11:20</td>\n",
       "      <td>18:00</td>\n",
       "      <td>6h 40m</td>\n",
       "      <td>1 Stop</td>\n",
       "      <td>6,867</td>\n",
       "    </tr>\n",
       "    <tr>\n",
       "      <th>136</th>\n",
       "      <td>Go First</td>\n",
       "      <td>Mumbai</td>\n",
       "      <td>Wed, 23 Mar 2022</td>\n",
       "      <td>New Delhi</td>\n",
       "      <td>11:20</td>\n",
       "      <td>19:00</td>\n",
       "      <td>7h 40m</td>\n",
       "      <td>1 Stop</td>\n",
       "      <td>6,867</td>\n",
       "    </tr>\n",
       "  </tbody>\n",
       "</table>\n",
       "<p>137 rows × 9 columns</p>\n",
       "</div>"
      ],
      "text/plain": [
       "      Airline  Source   Date of Journey Destination Departure        Arrival  \\\n",
       "0    Air Asia  Mumbai  Wed, 23 Mar 2022   New Delhi     22:55  01:00 + 1 day   \n",
       "1    SpiceJet  Mumbai  Wed, 23 Mar 2022   New Delhi     21:45          23:55   \n",
       "2    SpiceJet  Mumbai  Wed, 23 Mar 2022   New Delhi     07:20          09:35   \n",
       "3    SpiceJet  Mumbai  Wed, 23 Mar 2022   New Delhi     10:15          12:30   \n",
       "4    SpiceJet  Mumbai  Wed, 23 Mar 2022   New Delhi     19:25          21:50   \n",
       "..        ...     ...               ...         ...       ...            ...   \n",
       "132  Go First  Mumbai  Wed, 23 Mar 2022   New Delhi     15:20          20:20   \n",
       "133  Go First  Mumbai  Wed, 23 Mar 2022   New Delhi     17:45          23:15   \n",
       "134  Go First  Mumbai  Wed, 23 Mar 2022   New Delhi     10:40          17:35   \n",
       "135  Go First  Mumbai  Wed, 23 Mar 2022   New Delhi     11:20          18:00   \n",
       "136  Go First  Mumbai  Wed, 23 Mar 2022   New Delhi     11:20          19:00   \n",
       "\n",
       "    Duration     Stops  Price  \n",
       "0     2h 05m  Non Stop  2,322  \n",
       "1     2h 10m  Non Stop  2,337  \n",
       "2     2h 15m  Non Stop  2,337  \n",
       "3     2h 15m  Non Stop  2,337  \n",
       "4     2h 25m  Non Stop  2,337  \n",
       "..       ...       ...    ...  \n",
       "132   5h 00m    1 Stop  5,938  \n",
       "133   5h 30m    1 Stop  5,984  \n",
       "134   6h 55m    1 Stop  6,031  \n",
       "135   6h 40m    1 Stop  6,867  \n",
       "136   7h 40m    1 Stop  6,867  \n",
       "\n",
       "[137 rows x 9 columns]"
      ]
     },
     "execution_count": 162,
     "metadata": {},
     "output_type": "execute_result"
    }
   ],
   "source": [
    "job3=pd.DataFrame({})  #creating the dataframe and saving it in different titles.\n",
    "job3['Airline']=flightname3\n",
    "job3['Source']=source7\n",
    "job3['Date of Journey']=date7\n",
    "job3['Destination']=destination2\n",
    "job3['Departure']=time4\n",
    "job3['Arrival']=artime4\n",
    "job3['Duration']=duration3\n",
    "job3['Stops']=stop4\n",
    "job3['Price']=price3\n",
    "job3"
   ]
  },
  {
   "cell_type": "code",
   "execution_count": 163,
   "id": "c93d1a05",
   "metadata": {},
   "outputs": [],
   "source": [
    "#extracting data from yatra.com for chennai to mumbai\n",
    "driver.get(\"https://flight.yatra.com/air-search-ui/seodom/trigger?ADT=1&CHD=0&INF=0&class=Economy&destination=BOM&destinationCountry=IN&flexi=0&flight_depart_date=23%2F03%2F2022&hb=0&noOfSegments=1&origin=MAA&originCountry=IN&type=O&unique=1628542938243&version=1.1&viewName=normal\")"
   ]
  },
  {
   "cell_type": "code",
   "execution_count": 164,
   "id": "20d8a01c",
   "metadata": {},
   "outputs": [],
   "source": [
    "flightname4=[] #airline name\n",
    "name=driver.find_elements_by_xpath(\"//span[@class='i-b text ellipsis']\")\n",
    "for i in name:\n",
    "    flightname4.append(i.text)"
   ]
  },
  {
   "cell_type": "code",
   "execution_count": 165,
   "id": "7a3e0716",
   "metadata": {},
   "outputs": [
    {
     "data": {
      "text/plain": [
       "['SpiceJet', 'SpiceJet', 'Air India', 'Go First', 'IndiGo']"
      ]
     },
     "execution_count": 165,
     "metadata": {},
     "output_type": "execute_result"
    }
   ],
   "source": [
    "flightname4[:5]"
   ]
  },
  {
   "cell_type": "code",
   "execution_count": 166,
   "id": "0dfeeb33",
   "metadata": {},
   "outputs": [
    {
     "data": {
      "text/plain": [
       "111"
      ]
     },
     "execution_count": 166,
     "metadata": {},
     "output_type": "execute_result"
    }
   ],
   "source": [
    "len(flightname4)"
   ]
  },
  {
   "cell_type": "code",
   "execution_count": 167,
   "id": "8e9b5641",
   "metadata": {},
   "outputs": [],
   "source": [
    "time5=[] #departure time\n",
    "tim=driver.find_elements_by_xpath(\"//div[@class='i-b pr']\")\n",
    "for i in tim:\n",
    "    time5.append(i.text)"
   ]
  },
  {
   "cell_type": "code",
   "execution_count": 168,
   "id": "abc9f363",
   "metadata": {},
   "outputs": [
    {
     "data": {
      "text/plain": [
       "['06:25', '21:50', '06:20', '05:00', '09:40']"
      ]
     },
     "execution_count": 168,
     "metadata": {},
     "output_type": "execute_result"
    }
   ],
   "source": [
    "time5[:5]"
   ]
  },
  {
   "cell_type": "code",
   "execution_count": 169,
   "id": "8b449afe",
   "metadata": {},
   "outputs": [],
   "source": [
    "artime5=[]  #Arrival Time\n",
    "ar=driver.find_elements_by_xpath(\"//p[@class='bold fs-15 mb-2 pr time']\")\n",
    "for i in ar:\n",
    "    artime5.append(i.text.replace(\"\\n\",\" \"))"
   ]
  },
  {
   "cell_type": "code",
   "execution_count": 171,
   "id": "854619e5",
   "metadata": {},
   "outputs": [
    {
     "data": {
      "text/plain": [
       "['08:20', '23:50', '08:05', '06:50', '11:35']"
      ]
     },
     "execution_count": 171,
     "metadata": {},
     "output_type": "execute_result"
    }
   ],
   "source": [
    "artime5[:5]"
   ]
  },
  {
   "cell_type": "code",
   "execution_count": 172,
   "id": "e1961d21",
   "metadata": {},
   "outputs": [
    {
     "data": {
      "text/plain": [
       "111"
      ]
     },
     "execution_count": 172,
     "metadata": {},
     "output_type": "execute_result"
    }
   ],
   "source": [
    "len(artime5)"
   ]
  },
  {
   "cell_type": "code",
   "execution_count": 174,
   "id": "069f2032",
   "metadata": {},
   "outputs": [],
   "source": [
    "source8=[]  #Source from where the flight take off\n",
    "sou=driver.find_elements_by_xpath(\"//p[@class='fs-10 font-lightgrey no-wrap city ellipsis']\")\n",
    "for i in sou:\n",
    "    source8.append(i.text)"
   ]
  },
  {
   "cell_type": "code",
   "execution_count": 175,
   "id": "47b9a2e6",
   "metadata": {},
   "outputs": [
    {
     "data": {
      "text/plain": [
       "['Chennai', 'Chennai', 'Chennai', 'Chennai', 'Chennai']"
      ]
     },
     "execution_count": 175,
     "metadata": {},
     "output_type": "execute_result"
    }
   ],
   "source": [
    "source9=source8[::2]\n",
    "source9[:5]"
   ]
  },
  {
   "cell_type": "code",
   "execution_count": 178,
   "id": "a98cb606",
   "metadata": {},
   "outputs": [
    {
     "data": {
      "text/plain": [
       "['Mumbai', 'Mumbai', 'Mumbai', 'Mumbai', 'Mumbai']"
      ]
     },
     "execution_count": 178,
     "metadata": {},
     "output_type": "execute_result"
    }
   ],
   "source": [
    "destination3=source8[1::2]\n",
    "destination3[:5]"
   ]
  },
  {
   "cell_type": "code",
   "execution_count": 179,
   "id": "ebeffe13",
   "metadata": {},
   "outputs": [],
   "source": [
    "duration4=[]  #duration of the flight\n",
    "dura=driver.find_elements_by_xpath(\"//p[@class='fs-12 bold du mb-2']\")\n",
    "for i in dura:\n",
    "    duration4.append(i.text)"
   ]
  },
  {
   "cell_type": "code",
   "execution_count": 181,
   "id": "a07fae74",
   "metadata": {},
   "outputs": [
    {
     "data": {
      "text/plain": [
       "['1h 55m', '2h 00m', '1h 45m', '1h 50m', '1h 55m']"
      ]
     },
     "execution_count": 181,
     "metadata": {},
     "output_type": "execute_result"
    }
   ],
   "source": [
    "duration4[:5]"
   ]
  },
  {
   "cell_type": "code",
   "execution_count": 182,
   "id": "cc0c213f",
   "metadata": {},
   "outputs": [],
   "source": [
    "stop5=[]  #number of stops\n",
    "st=driver.find_elements_by_xpath(\"//div[@class=' font-lightgrey fs-10 tipsy i-b fs-10']/span\")\n",
    "for i in st:\n",
    "    stop5.append(i.text)"
   ]
  },
  {
   "cell_type": "code",
   "execution_count": 183,
   "id": "7a080092",
   "metadata": {},
   "outputs": [
    {
     "data": {
      "text/plain": [
       "['Non Stop', 'Non Stop', 'Non Stop', 'Non Stop', 'Non Stop']"
      ]
     },
     "execution_count": 183,
     "metadata": {},
     "output_type": "execute_result"
    }
   ],
   "source": [
    "stop5[:5]"
   ]
  },
  {
   "cell_type": "code",
   "execution_count": 184,
   "id": "0f8db463",
   "metadata": {},
   "outputs": [],
   "source": [
    "price4=[]  #price of the flight\n",
    "pr=driver.find_elements_by_xpath(\"//div[@class='i-b tipsy fare-summary-tooltip fs-18']\")\n",
    "for i in pr:\n",
    "    price4.append(i.text)"
   ]
  },
  {
   "cell_type": "code",
   "execution_count": 185,
   "id": "31c1b015",
   "metadata": {},
   "outputs": [
    {
     "data": {
      "text/plain": [
       "['1,828', '1,828', '1,830', '1,830', '1,830']"
      ]
     },
     "execution_count": 185,
     "metadata": {},
     "output_type": "execute_result"
    }
   ],
   "source": [
    "price4[:5]"
   ]
  },
  {
   "cell_type": "code",
   "execution_count": 186,
   "id": "befb2ec7",
   "metadata": {},
   "outputs": [],
   "source": [
    "list_count=0 #iterating over the each row of the flight and clicking on flight details and fetching date of journey\n",
    "date8=[]\n",
    "while(list_count<114):\n",
    "    \n",
    "   \n",
    "    if(list_count>114):\n",
    "        break\n",
    "    else:\n",
    "        list_count +=1\n",
    "    try:\n",
    "        date=driver.find_elements_by_xpath(\"//div[@class='link-color fs-12 cursor-pointer']\")\n",
    "        date[list_count].click()\n",
    "        time.sleep(5)\n",
    "    except:\n",
    "        pass\n",
    "    finally:\n",
    "        da=driver.find_elements_by_xpath(\"//div[@class='bold fs-12 mb-5']\")\n",
    "        for i in da:\n",
    "            date8.append(i.text)"
   ]
  },
  {
   "cell_type": "code",
   "execution_count": 189,
   "id": "cd419176",
   "metadata": {},
   "outputs": [],
   "source": [
    "date9=date8[0:111]"
   ]
  },
  {
   "cell_type": "code",
   "execution_count": 190,
   "id": "c4c15503",
   "metadata": {},
   "outputs": [
    {
     "data": {
      "text/plain": [
       "111"
      ]
     },
     "execution_count": 190,
     "metadata": {},
     "output_type": "execute_result"
    }
   ],
   "source": [
    "len(date9)"
   ]
  },
  {
   "cell_type": "code",
   "execution_count": 192,
   "id": "b21d58b2",
   "metadata": {},
   "outputs": [
    {
     "data": {
      "text/html": [
       "<div>\n",
       "<style scoped>\n",
       "    .dataframe tbody tr th:only-of-type {\n",
       "        vertical-align: middle;\n",
       "    }\n",
       "\n",
       "    .dataframe tbody tr th {\n",
       "        vertical-align: top;\n",
       "    }\n",
       "\n",
       "    .dataframe thead th {\n",
       "        text-align: right;\n",
       "    }\n",
       "</style>\n",
       "<table border=\"1\" class=\"dataframe\">\n",
       "  <thead>\n",
       "    <tr style=\"text-align: right;\">\n",
       "      <th></th>\n",
       "      <th>Airline</th>\n",
       "      <th>Source</th>\n",
       "      <th>Date of Journey</th>\n",
       "      <th>Destination</th>\n",
       "      <th>Departure</th>\n",
       "      <th>Arrival</th>\n",
       "      <th>Duration</th>\n",
       "      <th>Stops</th>\n",
       "      <th>Price</th>\n",
       "    </tr>\n",
       "  </thead>\n",
       "  <tbody>\n",
       "    <tr>\n",
       "      <th>0</th>\n",
       "      <td>SpiceJet</td>\n",
       "      <td>Chennai</td>\n",
       "      <td>Wed, 23 Mar 2022</td>\n",
       "      <td>Mumbai</td>\n",
       "      <td>06:25</td>\n",
       "      <td>08:20</td>\n",
       "      <td>1h 55m</td>\n",
       "      <td>Non Stop</td>\n",
       "      <td>1,828</td>\n",
       "    </tr>\n",
       "    <tr>\n",
       "      <th>1</th>\n",
       "      <td>SpiceJet</td>\n",
       "      <td>Chennai</td>\n",
       "      <td>Wed, 23 Mar 2022</td>\n",
       "      <td>Mumbai</td>\n",
       "      <td>21:50</td>\n",
       "      <td>23:50</td>\n",
       "      <td>2h 00m</td>\n",
       "      <td>Non Stop</td>\n",
       "      <td>1,828</td>\n",
       "    </tr>\n",
       "    <tr>\n",
       "      <th>2</th>\n",
       "      <td>Air India</td>\n",
       "      <td>Chennai</td>\n",
       "      <td>Wed, 23 Mar 2022</td>\n",
       "      <td>Mumbai</td>\n",
       "      <td>06:20</td>\n",
       "      <td>08:05</td>\n",
       "      <td>1h 45m</td>\n",
       "      <td>Non Stop</td>\n",
       "      <td>1,830</td>\n",
       "    </tr>\n",
       "    <tr>\n",
       "      <th>3</th>\n",
       "      <td>Go First</td>\n",
       "      <td>Chennai</td>\n",
       "      <td>Wed, 23 Mar 2022</td>\n",
       "      <td>Mumbai</td>\n",
       "      <td>05:00</td>\n",
       "      <td>06:50</td>\n",
       "      <td>1h 50m</td>\n",
       "      <td>Non Stop</td>\n",
       "      <td>1,830</td>\n",
       "    </tr>\n",
       "    <tr>\n",
       "      <th>4</th>\n",
       "      <td>IndiGo</td>\n",
       "      <td>Chennai</td>\n",
       "      <td>Wed, 23 Mar 2022</td>\n",
       "      <td>Mumbai</td>\n",
       "      <td>09:40</td>\n",
       "      <td>11:35</td>\n",
       "      <td>1h 55m</td>\n",
       "      <td>Non Stop</td>\n",
       "      <td>1,830</td>\n",
       "    </tr>\n",
       "    <tr>\n",
       "      <th>...</th>\n",
       "      <td>...</td>\n",
       "      <td>...</td>\n",
       "      <td>...</td>\n",
       "      <td>...</td>\n",
       "      <td>...</td>\n",
       "      <td>...</td>\n",
       "      <td>...</td>\n",
       "      <td>...</td>\n",
       "      <td>...</td>\n",
       "    </tr>\n",
       "    <tr>\n",
       "      <th>106</th>\n",
       "      <td>Vistara</td>\n",
       "      <td>Chennai</td>\n",
       "      <td>Wed, 23 Mar 2022</td>\n",
       "      <td>Mumbai</td>\n",
       "      <td>06:55</td>\n",
       "      <td>18:20</td>\n",
       "      <td>11h 25m</td>\n",
       "      <td>2 Stop(s)</td>\n",
       "      <td>6,802</td>\n",
       "    </tr>\n",
       "    <tr>\n",
       "      <th>107</th>\n",
       "      <td>Vistara</td>\n",
       "      <td>Chennai</td>\n",
       "      <td>Wed, 23 Mar 2022</td>\n",
       "      <td>Mumbai</td>\n",
       "      <td>10:45</td>\n",
       "      <td>20:15</td>\n",
       "      <td>9h 30m</td>\n",
       "      <td>2 Stop(s)</td>\n",
       "      <td>6,893</td>\n",
       "    </tr>\n",
       "    <tr>\n",
       "      <th>108</th>\n",
       "      <td>Vistara</td>\n",
       "      <td>Chennai</td>\n",
       "      <td>Wed, 23 Mar 2022</td>\n",
       "      <td>Mumbai</td>\n",
       "      <td>10:45</td>\n",
       "      <td>20:45</td>\n",
       "      <td>10h 00m</td>\n",
       "      <td>2 Stop(s)</td>\n",
       "      <td>6,893</td>\n",
       "    </tr>\n",
       "    <tr>\n",
       "      <th>109</th>\n",
       "      <td>Vistara</td>\n",
       "      <td>Chennai</td>\n",
       "      <td>Wed, 23 Mar 2022</td>\n",
       "      <td>Mumbai</td>\n",
       "      <td>10:45</td>\n",
       "      <td>21:50</td>\n",
       "      <td>11h 05m</td>\n",
       "      <td>2 Stop(s)</td>\n",
       "      <td>6,893</td>\n",
       "    </tr>\n",
       "    <tr>\n",
       "      <th>110</th>\n",
       "      <td>Vistara</td>\n",
       "      <td>Chennai</td>\n",
       "      <td>Wed, 23 Mar 2022</td>\n",
       "      <td>Mumbai</td>\n",
       "      <td>10:45</td>\n",
       "      <td>21:50</td>\n",
       "      <td>11h 05m</td>\n",
       "      <td>2 Stop(s)</td>\n",
       "      <td>6,893</td>\n",
       "    </tr>\n",
       "  </tbody>\n",
       "</table>\n",
       "<p>111 rows × 9 columns</p>\n",
       "</div>"
      ],
      "text/plain": [
       "       Airline   Source   Date of Journey Destination Departure Arrival  \\\n",
       "0     SpiceJet  Chennai  Wed, 23 Mar 2022      Mumbai     06:25   08:20   \n",
       "1     SpiceJet  Chennai  Wed, 23 Mar 2022      Mumbai     21:50   23:50   \n",
       "2    Air India  Chennai  Wed, 23 Mar 2022      Mumbai     06:20   08:05   \n",
       "3     Go First  Chennai  Wed, 23 Mar 2022      Mumbai     05:00   06:50   \n",
       "4       IndiGo  Chennai  Wed, 23 Mar 2022      Mumbai     09:40   11:35   \n",
       "..         ...      ...               ...         ...       ...     ...   \n",
       "106    Vistara  Chennai  Wed, 23 Mar 2022      Mumbai     06:55   18:20   \n",
       "107    Vistara  Chennai  Wed, 23 Mar 2022      Mumbai     10:45   20:15   \n",
       "108    Vistara  Chennai  Wed, 23 Mar 2022      Mumbai     10:45   20:45   \n",
       "109    Vistara  Chennai  Wed, 23 Mar 2022      Mumbai     10:45   21:50   \n",
       "110    Vistara  Chennai  Wed, 23 Mar 2022      Mumbai     10:45   21:50   \n",
       "\n",
       "    Duration      Stops  Price  \n",
       "0     1h 55m   Non Stop  1,828  \n",
       "1     2h 00m   Non Stop  1,828  \n",
       "2     1h 45m   Non Stop  1,830  \n",
       "3     1h 50m   Non Stop  1,830  \n",
       "4     1h 55m   Non Stop  1,830  \n",
       "..       ...        ...    ...  \n",
       "106  11h 25m  2 Stop(s)  6,802  \n",
       "107   9h 30m  2 Stop(s)  6,893  \n",
       "108  10h 00m  2 Stop(s)  6,893  \n",
       "109  11h 05m  2 Stop(s)  6,893  \n",
       "110  11h 05m  2 Stop(s)  6,893  \n",
       "\n",
       "[111 rows x 9 columns]"
      ]
     },
     "execution_count": 192,
     "metadata": {},
     "output_type": "execute_result"
    }
   ],
   "source": [
    "job4=pd.DataFrame({})  #creating the dataframe and saving it in different titles.\n",
    "job4['Airline']=flightname4\n",
    "job4['Source']=source9\n",
    "job4['Date of Journey']=date9\n",
    "job4['Destination']=destination3\n",
    "job4['Departure']=time5\n",
    "job4['Arrival']=artime5\n",
    "job4['Duration']=duration4\n",
    "job4['Stops']=stop5\n",
    "job4['Price']=price4\n",
    "job4"
   ]
  },
  {
   "cell_type": "code",
   "execution_count": 193,
   "id": "47db5a1a",
   "metadata": {},
   "outputs": [],
   "source": [
    "#extracting data from yatra.com for delhi to kolkata\n",
    "driver.get(\"https://flight.yatra.com/air-search-ui/seodom/trigger?ADT=1&CHD=0&INF=0&class=Economy&destination=CCU&destinationCountry=IN&flexi=0&flight_depart_date=24%2F03%2F2022&hb=0&noOfSegments=1&origin=DEL&originCountry=IN&type=O&unique=89623795735&version=1.1&viewName=normal\")"
   ]
  },
  {
   "cell_type": "code",
   "execution_count": 194,
   "id": "bc5292d2",
   "metadata": {},
   "outputs": [],
   "source": [
    "flightname5=[] #airline name\n",
    "name=driver.find_elements_by_xpath(\"//span[@class='i-b text ellipsis']\")\n",
    "for i in name:\n",
    "    flightname5.append(i.text)"
   ]
  },
  {
   "cell_type": "code",
   "execution_count": 195,
   "id": "b8ebe933",
   "metadata": {},
   "outputs": [
    {
     "data": {
      "text/plain": [
       "135"
      ]
     },
     "execution_count": 195,
     "metadata": {},
     "output_type": "execute_result"
    }
   ],
   "source": [
    "len(flightname5)"
   ]
  },
  {
   "cell_type": "code",
   "execution_count": 196,
   "id": "d71169ed",
   "metadata": {},
   "outputs": [],
   "source": [
    "time6=[] #departure time\n",
    "tim=driver.find_elements_by_xpath(\"//div[@class='i-b pr']\")\n",
    "for i in tim:\n",
    "    time6.append(i.text)"
   ]
  },
  {
   "cell_type": "code",
   "execution_count": 197,
   "id": "7d2a6004",
   "metadata": {},
   "outputs": [
    {
     "data": {
      "text/plain": [
       "['20:50', '05:50', '23:30', '19:25', '13:15']"
      ]
     },
     "execution_count": 197,
     "metadata": {},
     "output_type": "execute_result"
    }
   ],
   "source": [
    "time6[:5]"
   ]
  },
  {
   "cell_type": "code",
   "execution_count": 198,
   "id": "0a27b527",
   "metadata": {},
   "outputs": [],
   "source": [
    "artime6=[]  #Arrival Time\n",
    "ar=driver.find_elements_by_xpath(\"//p[@class='bold fs-15 mb-2 pr time']\")\n",
    "for i in ar:\n",
    "    artime6.append(i.text.replace(\"\\n\",\" \"))"
   ]
  },
  {
   "cell_type": "code",
   "execution_count": 199,
   "id": "8fab82bf",
   "metadata": {},
   "outputs": [
    {
     "data": {
      "text/plain": [
       "['23:00', '08:00', '01:40 + 1 day', '21:45', '17:25']"
      ]
     },
     "execution_count": 199,
     "metadata": {},
     "output_type": "execute_result"
    }
   ],
   "source": [
    "artime6[:5]"
   ]
  },
  {
   "cell_type": "code",
   "execution_count": 200,
   "id": "8dbda951",
   "metadata": {},
   "outputs": [],
   "source": [
    "source10=[]  #Source from where the flight take off\n",
    "sou=driver.find_elements_by_xpath(\"//p[@class='fs-10 font-lightgrey no-wrap city ellipsis']\")\n",
    "for i in sou:\n",
    "    source10.append(i.text)"
   ]
  },
  {
   "cell_type": "code",
   "execution_count": 202,
   "id": "fd98cb30",
   "metadata": {},
   "outputs": [
    {
     "data": {
      "text/plain": [
       "['New Delhi', 'New Delhi', 'New Delhi', 'New Delhi', 'New Delhi']"
      ]
     },
     "execution_count": 202,
     "metadata": {},
     "output_type": "execute_result"
    }
   ],
   "source": [
    "source11=source10[::2]\n",
    "source11[:5]"
   ]
  },
  {
   "cell_type": "code",
   "execution_count": 204,
   "id": "2a54ce44",
   "metadata": {},
   "outputs": [
    {
     "data": {
      "text/plain": [
       "['Kolkata', 'Kolkata', 'Kolkata', 'Kolkata', 'Kolkata']"
      ]
     },
     "execution_count": 204,
     "metadata": {},
     "output_type": "execute_result"
    }
   ],
   "source": [
    "destination4=source10[1::2]\n",
    "destination4[:5]"
   ]
  },
  {
   "cell_type": "code",
   "execution_count": 205,
   "id": "9f906a44",
   "metadata": {},
   "outputs": [],
   "source": [
    "duration5=[]  #duration of the flight\n",
    "dura=driver.find_elements_by_xpath(\"//p[@class='fs-12 bold du mb-2']\")\n",
    "for i in dura:\n",
    "    duration5.append(i.text)"
   ]
  },
  {
   "cell_type": "code",
   "execution_count": 206,
   "id": "f9f3374a",
   "metadata": {},
   "outputs": [
    {
     "data": {
      "text/plain": [
       "['2h 10m', '2h 10m', '2h 10m', '2h 20m', '4h 10m']"
      ]
     },
     "execution_count": 206,
     "metadata": {},
     "output_type": "execute_result"
    }
   ],
   "source": [
    "duration5[:5]"
   ]
  },
  {
   "cell_type": "code",
   "execution_count": 207,
   "id": "726160d7",
   "metadata": {},
   "outputs": [],
   "source": [
    "stop6=[]  #number of stops\n",
    "st=driver.find_elements_by_xpath(\"//div[@class=' font-lightgrey fs-10 tipsy i-b fs-10']/span\")\n",
    "for i in st:\n",
    "    stop6.append(i.text)"
   ]
  },
  {
   "cell_type": "code",
   "execution_count": 208,
   "id": "ae52e1dd",
   "metadata": {},
   "outputs": [
    {
     "data": {
      "text/plain": [
       "['Non Stop', 'Non Stop', 'Non Stop', 'Non Stop', '1 Stop']"
      ]
     },
     "execution_count": 208,
     "metadata": {},
     "output_type": "execute_result"
    }
   ],
   "source": [
    "stop6[:5]"
   ]
  },
  {
   "cell_type": "code",
   "execution_count": 209,
   "id": "c2261333",
   "metadata": {},
   "outputs": [],
   "source": [
    "price5=[]  #price of the flight\n",
    "pr=driver.find_elements_by_xpath(\"//div[@class='i-b tipsy fare-summary-tooltip fs-18']\")\n",
    "for i in pr:\n",
    "    price5.append(i.text)"
   ]
  },
  {
   "cell_type": "code",
   "execution_count": 210,
   "id": "8a1fda20",
   "metadata": {},
   "outputs": [
    {
     "data": {
      "text/plain": [
       "['2,479', '2,480', '2,480', '2,480', '2,480']"
      ]
     },
     "execution_count": 210,
     "metadata": {},
     "output_type": "execute_result"
    }
   ],
   "source": [
    "price5[:5]"
   ]
  },
  {
   "cell_type": "code",
   "execution_count": 211,
   "id": "c1c285b6",
   "metadata": {},
   "outputs": [],
   "source": [
    "list_count=0 #iterating over the each row of the flight and clicking on flight details and fetching date of journey\n",
    "date10=[]\n",
    "while(list_count<136):\n",
    "    \n",
    "   \n",
    "    if(list_count>136):\n",
    "        break\n",
    "    else:\n",
    "        list_count +=1\n",
    "    try:\n",
    "        date=driver.find_elements_by_xpath(\"//div[@class='link-color fs-12 cursor-pointer']\")\n",
    "        date[list_count].click()\n",
    "        time.sleep(5)\n",
    "    except:\n",
    "        pass\n",
    "    finally:\n",
    "        da=driver.find_elements_by_xpath(\"//div[@class='bold fs-12 mb-5']\")\n",
    "        for i in da:\n",
    "            date10.append(i.text)"
   ]
  },
  {
   "cell_type": "code",
   "execution_count": 212,
   "id": "2432433c",
   "metadata": {},
   "outputs": [],
   "source": [
    "date11=date10[0:135]"
   ]
  },
  {
   "cell_type": "code",
   "execution_count": 213,
   "id": "3809e263",
   "metadata": {},
   "outputs": [
    {
     "data": {
      "text/html": [
       "<div>\n",
       "<style scoped>\n",
       "    .dataframe tbody tr th:only-of-type {\n",
       "        vertical-align: middle;\n",
       "    }\n",
       "\n",
       "    .dataframe tbody tr th {\n",
       "        vertical-align: top;\n",
       "    }\n",
       "\n",
       "    .dataframe thead th {\n",
       "        text-align: right;\n",
       "    }\n",
       "</style>\n",
       "<table border=\"1\" class=\"dataframe\">\n",
       "  <thead>\n",
       "    <tr style=\"text-align: right;\">\n",
       "      <th></th>\n",
       "      <th>Airline</th>\n",
       "      <th>Source</th>\n",
       "      <th>Date of Journey</th>\n",
       "      <th>Destination</th>\n",
       "      <th>Departure</th>\n",
       "      <th>Arrival</th>\n",
       "      <th>Duration</th>\n",
       "      <th>Stops</th>\n",
       "      <th>Price</th>\n",
       "    </tr>\n",
       "  </thead>\n",
       "  <tbody>\n",
       "    <tr>\n",
       "      <th>0</th>\n",
       "      <td>SpiceJet</td>\n",
       "      <td>New Delhi</td>\n",
       "      <td>Thu, 24 Mar 2022</td>\n",
       "      <td>Kolkata</td>\n",
       "      <td>20:50</td>\n",
       "      <td>23:00</td>\n",
       "      <td>2h 10m</td>\n",
       "      <td>Non Stop</td>\n",
       "      <td>2,479</td>\n",
       "    </tr>\n",
       "    <tr>\n",
       "      <th>1</th>\n",
       "      <td>Go First</td>\n",
       "      <td>New Delhi</td>\n",
       "      <td>Thu, 24 Mar 2022</td>\n",
       "      <td>Kolkata</td>\n",
       "      <td>05:50</td>\n",
       "      <td>08:00</td>\n",
       "      <td>2h 10m</td>\n",
       "      <td>Non Stop</td>\n",
       "      <td>2,480</td>\n",
       "    </tr>\n",
       "    <tr>\n",
       "      <th>2</th>\n",
       "      <td>IndiGo</td>\n",
       "      <td>New Delhi</td>\n",
       "      <td>Thu, 24 Mar 2022</td>\n",
       "      <td>Kolkata</td>\n",
       "      <td>23:30</td>\n",
       "      <td>01:40 + 1 day</td>\n",
       "      <td>2h 10m</td>\n",
       "      <td>Non Stop</td>\n",
       "      <td>2,480</td>\n",
       "    </tr>\n",
       "    <tr>\n",
       "      <th>3</th>\n",
       "      <td>Go First</td>\n",
       "      <td>New Delhi</td>\n",
       "      <td>Thu, 24 Mar 2022</td>\n",
       "      <td>Kolkata</td>\n",
       "      <td>19:25</td>\n",
       "      <td>21:45</td>\n",
       "      <td>2h 20m</td>\n",
       "      <td>Non Stop</td>\n",
       "      <td>2,480</td>\n",
       "    </tr>\n",
       "    <tr>\n",
       "      <th>4</th>\n",
       "      <td>IndiGo</td>\n",
       "      <td>New Delhi</td>\n",
       "      <td>Thu, 24 Mar 2022</td>\n",
       "      <td>Kolkata</td>\n",
       "      <td>13:15</td>\n",
       "      <td>17:25</td>\n",
       "      <td>4h 10m</td>\n",
       "      <td>1 Stop</td>\n",
       "      <td>2,480</td>\n",
       "    </tr>\n",
       "    <tr>\n",
       "      <th>...</th>\n",
       "      <td>...</td>\n",
       "      <td>...</td>\n",
       "      <td>...</td>\n",
       "      <td>...</td>\n",
       "      <td>...</td>\n",
       "      <td>...</td>\n",
       "      <td>...</td>\n",
       "      <td>...</td>\n",
       "      <td>...</td>\n",
       "    </tr>\n",
       "    <tr>\n",
       "      <th>130</th>\n",
       "      <td>Air India</td>\n",
       "      <td>New Delhi</td>\n",
       "      <td>Thu, 24 Mar 2022</td>\n",
       "      <td>Kolkata</td>\n",
       "      <td>04:55</td>\n",
       "      <td>08:50 + 1 day</td>\n",
       "      <td>27h 55m</td>\n",
       "      <td>2 Stop(s)</td>\n",
       "      <td>9,181</td>\n",
       "    </tr>\n",
       "    <tr>\n",
       "      <th>131</th>\n",
       "      <td>Air India</td>\n",
       "      <td>New Delhi</td>\n",
       "      <td>Thu, 24 Mar 2022</td>\n",
       "      <td>Kolkata</td>\n",
       "      <td>04:55</td>\n",
       "      <td>12:10 + 1 day</td>\n",
       "      <td>31h 15m</td>\n",
       "      <td>3 Stop(s)</td>\n",
       "      <td>9,181</td>\n",
       "    </tr>\n",
       "    <tr>\n",
       "      <th>132</th>\n",
       "      <td>SpiceJet</td>\n",
       "      <td>New Delhi</td>\n",
       "      <td>Thu, 24 Mar 2022</td>\n",
       "      <td>Kolkata</td>\n",
       "      <td>09:25</td>\n",
       "      <td>14:20</td>\n",
       "      <td>4h 55m</td>\n",
       "      <td>1 Stop</td>\n",
       "      <td>16,050</td>\n",
       "    </tr>\n",
       "    <tr>\n",
       "      <th>133</th>\n",
       "      <td>SpiceJet</td>\n",
       "      <td>New Delhi</td>\n",
       "      <td>Thu, 24 Mar 2022</td>\n",
       "      <td>Kolkata</td>\n",
       "      <td>09:25</td>\n",
       "      <td>17:25</td>\n",
       "      <td>8h 00m</td>\n",
       "      <td>1 Stop</td>\n",
       "      <td>16,050</td>\n",
       "    </tr>\n",
       "    <tr>\n",
       "      <th>134</th>\n",
       "      <td>SpiceJet</td>\n",
       "      <td>New Delhi</td>\n",
       "      <td>Thu, 24 Mar 2022</td>\n",
       "      <td>Kolkata</td>\n",
       "      <td>13:05</td>\n",
       "      <td>14:20 + 1 day</td>\n",
       "      <td>25h 15m</td>\n",
       "      <td>1 Stop</td>\n",
       "      <td>16,050</td>\n",
       "    </tr>\n",
       "  </tbody>\n",
       "</table>\n",
       "<p>135 rows × 9 columns</p>\n",
       "</div>"
      ],
      "text/plain": [
       "       Airline     Source   Date of Journey Destination Departure  \\\n",
       "0     SpiceJet  New Delhi  Thu, 24 Mar 2022     Kolkata     20:50   \n",
       "1     Go First  New Delhi  Thu, 24 Mar 2022     Kolkata     05:50   \n",
       "2       IndiGo  New Delhi  Thu, 24 Mar 2022     Kolkata     23:30   \n",
       "3     Go First  New Delhi  Thu, 24 Mar 2022     Kolkata     19:25   \n",
       "4       IndiGo  New Delhi  Thu, 24 Mar 2022     Kolkata     13:15   \n",
       "..         ...        ...               ...         ...       ...   \n",
       "130  Air India  New Delhi  Thu, 24 Mar 2022     Kolkata     04:55   \n",
       "131  Air India  New Delhi  Thu, 24 Mar 2022     Kolkata     04:55   \n",
       "132   SpiceJet  New Delhi  Thu, 24 Mar 2022     Kolkata     09:25   \n",
       "133   SpiceJet  New Delhi  Thu, 24 Mar 2022     Kolkata     09:25   \n",
       "134   SpiceJet  New Delhi  Thu, 24 Mar 2022     Kolkata     13:05   \n",
       "\n",
       "           Arrival Duration      Stops   Price  \n",
       "0            23:00   2h 10m   Non Stop   2,479  \n",
       "1            08:00   2h 10m   Non Stop   2,480  \n",
       "2    01:40 + 1 day   2h 10m   Non Stop   2,480  \n",
       "3            21:45   2h 20m   Non Stop   2,480  \n",
       "4            17:25   4h 10m     1 Stop   2,480  \n",
       "..             ...      ...        ...     ...  \n",
       "130  08:50 + 1 day  27h 55m  2 Stop(s)   9,181  \n",
       "131  12:10 + 1 day  31h 15m  3 Stop(s)   9,181  \n",
       "132          14:20   4h 55m     1 Stop  16,050  \n",
       "133          17:25   8h 00m     1 Stop  16,050  \n",
       "134  14:20 + 1 day  25h 15m     1 Stop  16,050  \n",
       "\n",
       "[135 rows x 9 columns]"
      ]
     },
     "execution_count": 213,
     "metadata": {},
     "output_type": "execute_result"
    }
   ],
   "source": [
    "job5=pd.DataFrame({})  #creating the dataframe and saving it in different titles.\n",
    "job5['Airline']=flightname5\n",
    "job5['Source']=source11\n",
    "job5['Date of Journey']=date11\n",
    "job5['Destination']=destination4\n",
    "job5['Departure']=time6\n",
    "job5['Arrival']=artime6\n",
    "job5['Duration']=duration5\n",
    "job5['Stops']=stop6\n",
    "job5['Price']=price5\n",
    "job5"
   ]
  },
  {
   "cell_type": "code",
   "execution_count": 214,
   "id": "48dcc58a",
   "metadata": {},
   "outputs": [],
   "source": [
    "#extracting information from yatra.com from chandigarh to new delhi\n",
    "driver.get(\"https://flight.yatra.com/air-search-ui/seodom/trigger?ADT=1&CHD=0&INF=0&class=Economy&destination=DEL&destinationCountry=IN&flexi=0&flight_depart_date=19%2F03%2F2022&hb=0&noOfSegments=1&origin=IXC&originCountry=IN&type=O&unique=309040272100&version=1.1&viewName=normal\")"
   ]
  },
  {
   "cell_type": "code",
   "execution_count": 215,
   "id": "a95e4431",
   "metadata": {},
   "outputs": [],
   "source": [
    "flightname6=[] #airline name\n",
    "name=driver.find_elements_by_xpath(\"//span[@class='i-b text ellipsis']\")\n",
    "for i in name:\n",
    "    flightname6.append(i.text)"
   ]
  },
  {
   "cell_type": "code",
   "execution_count": 216,
   "id": "4dfb5a43",
   "metadata": {},
   "outputs": [
    {
     "data": {
      "text/plain": [
       "72"
      ]
     },
     "execution_count": 216,
     "metadata": {},
     "output_type": "execute_result"
    }
   ],
   "source": [
    "len(flightname6)"
   ]
  },
  {
   "cell_type": "code",
   "execution_count": 217,
   "id": "d648440b",
   "metadata": {},
   "outputs": [],
   "source": [
    "time7=[] #departure time\n",
    "tim=driver.find_elements_by_xpath(\"//div[@class='i-b pr']\")\n",
    "for i in tim:\n",
    "    time7.append(i.text)"
   ]
  },
  {
   "cell_type": "code",
   "execution_count": 218,
   "id": "7f4588f8",
   "metadata": {},
   "outputs": [
    {
     "data": {
      "text/plain": [
       "['06:45', '15:45', '18:30', '13:05', '18:50']"
      ]
     },
     "execution_count": 218,
     "metadata": {},
     "output_type": "execute_result"
    }
   ],
   "source": [
    "time7[:5]"
   ]
  },
  {
   "cell_type": "code",
   "execution_count": 219,
   "id": "0fe71e2e",
   "metadata": {},
   "outputs": [],
   "source": [
    "artime7=[]  #Arrival Time\n",
    "ar=driver.find_elements_by_xpath(\"//p[@class='bold fs-15 mb-2 pr time']\")\n",
    "for i in ar:\n",
    "    artime7.append(i.text.replace(\"\\n\",\" \"))"
   ]
  },
  {
   "cell_type": "code",
   "execution_count": 220,
   "id": "cdf8d816",
   "metadata": {},
   "outputs": [
    {
     "data": {
      "text/plain": [
       "['07:40', '16:45', '19:30', '14:10', '19:50']"
      ]
     },
     "execution_count": 220,
     "metadata": {},
     "output_type": "execute_result"
    }
   ],
   "source": [
    "artime7[:5]"
   ]
  },
  {
   "cell_type": "code",
   "execution_count": 221,
   "id": "59037c92",
   "metadata": {},
   "outputs": [],
   "source": [
    "source12=[]  #Source from where the flight take off\n",
    "sou=driver.find_elements_by_xpath(\"//p[@class='fs-10 font-lightgrey no-wrap city ellipsis']\")\n",
    "for i in sou:\n",
    "    source12.append(i.text)"
   ]
  },
  {
   "cell_type": "code",
   "execution_count": 222,
   "id": "50136a06",
   "metadata": {},
   "outputs": [
    {
     "data": {
      "text/plain": [
       "['Chandigarh', 'Chandigarh', 'Chandigarh', 'Chandigarh', 'Chandigarh']"
      ]
     },
     "execution_count": 222,
     "metadata": {},
     "output_type": "execute_result"
    }
   ],
   "source": [
    "source13=source12[::2]\n",
    "source13[:5]"
   ]
  },
  {
   "cell_type": "code",
   "execution_count": 223,
   "id": "3873e8bb",
   "metadata": {},
   "outputs": [
    {
     "data": {
      "text/plain": [
       "['New Delhi', 'New Delhi', 'New Delhi', 'New Delhi', 'New Delhi']"
      ]
     },
     "execution_count": 223,
     "metadata": {},
     "output_type": "execute_result"
    }
   ],
   "source": [
    "destination4=source12[1::2]\n",
    "destination4[:5]"
   ]
  },
  {
   "cell_type": "code",
   "execution_count": 224,
   "id": "3d855cfa",
   "metadata": {},
   "outputs": [],
   "source": [
    "duration6=[]  #duration of the flight\n",
    "dura=driver.find_elements_by_xpath(\"//p[@class='fs-12 bold du mb-2']\")\n",
    "for i in dura:\n",
    "    duration6.append(i.text)"
   ]
  },
  {
   "cell_type": "code",
   "execution_count": 225,
   "id": "6836358f",
   "metadata": {},
   "outputs": [
    {
     "data": {
      "text/plain": [
       "['0h 55m', '1h 00m', '1h 00m', '1h 05m', '1h 00m']"
      ]
     },
     "execution_count": 225,
     "metadata": {},
     "output_type": "execute_result"
    }
   ],
   "source": [
    "duration6[:5]"
   ]
  },
  {
   "cell_type": "code",
   "execution_count": 226,
   "id": "2d8ee1d9",
   "metadata": {},
   "outputs": [],
   "source": [
    "stop7=[]  #number of stops\n",
    "st=driver.find_elements_by_xpath(\"//div[@class=' font-lightgrey fs-10 tipsy i-b fs-10']/span\")\n",
    "for i in st:\n",
    "    stop7.append(i.text)"
   ]
  },
  {
   "cell_type": "code",
   "execution_count": 227,
   "id": "c487e602",
   "metadata": {},
   "outputs": [
    {
     "data": {
      "text/plain": [
       "['Non Stop', 'Non Stop', 'Non Stop', 'Non Stop', 'Non Stop']"
      ]
     },
     "execution_count": 227,
     "metadata": {},
     "output_type": "execute_result"
    }
   ],
   "source": [
    "stop7[:5]"
   ]
  },
  {
   "cell_type": "code",
   "execution_count": 228,
   "id": "109b8eea",
   "metadata": {},
   "outputs": [],
   "source": [
    "price6=[]  #price of the flight\n",
    "pr=driver.find_elements_by_xpath(\"//div[@class='i-b tipsy fare-summary-tooltip fs-18']\")\n",
    "for i in pr:\n",
    "    price6.append(i.text)"
   ]
  },
  {
   "cell_type": "code",
   "execution_count": 229,
   "id": "d4574d01",
   "metadata": {},
   "outputs": [
    {
     "data": {
      "text/plain": [
       "['1,804', '1,804', '1,804', '1,804', '1,815']"
      ]
     },
     "execution_count": 229,
     "metadata": {},
     "output_type": "execute_result"
    }
   ],
   "source": [
    "price6[:5]"
   ]
  },
  {
   "cell_type": "code",
   "execution_count": 230,
   "id": "85f97fdb",
   "metadata": {},
   "outputs": [],
   "source": [
    "list_count=0 #iterating over the each row of the flight and clicking on flight details and fetching date of journey\n",
    "date12=[]\n",
    "while(list_count<136):\n",
    "    \n",
    "   \n",
    "    if(list_count>136):\n",
    "        break\n",
    "    else:\n",
    "        list_count +=1\n",
    "    try:\n",
    "        date=driver.find_elements_by_xpath(\"//div[@class='link-color fs-12 cursor-pointer']\")\n",
    "        date[list_count].click()\n",
    "        time.sleep(5)\n",
    "    except:\n",
    "        pass\n",
    "    finally:\n",
    "        da=driver.find_elements_by_xpath(\"//div[@class='bold fs-12 mb-5']\")\n",
    "        for i in da:\n",
    "            date12.append(i.text)"
   ]
  },
  {
   "cell_type": "code",
   "execution_count": 232,
   "id": "87784993",
   "metadata": {},
   "outputs": [],
   "source": [
    "date13=date12[0:72]"
   ]
  },
  {
   "cell_type": "code",
   "execution_count": 233,
   "id": "ffad4c1f",
   "metadata": {},
   "outputs": [
    {
     "data": {
      "text/plain": [
       "72"
      ]
     },
     "execution_count": 233,
     "metadata": {},
     "output_type": "execute_result"
    }
   ],
   "source": [
    "len(date13)"
   ]
  },
  {
   "cell_type": "code",
   "execution_count": 235,
   "id": "49797d13",
   "metadata": {},
   "outputs": [
    {
     "data": {
      "text/html": [
       "<div>\n",
       "<style scoped>\n",
       "    .dataframe tbody tr th:only-of-type {\n",
       "        vertical-align: middle;\n",
       "    }\n",
       "\n",
       "    .dataframe tbody tr th {\n",
       "        vertical-align: top;\n",
       "    }\n",
       "\n",
       "    .dataframe thead th {\n",
       "        text-align: right;\n",
       "    }\n",
       "</style>\n",
       "<table border=\"1\" class=\"dataframe\">\n",
       "  <thead>\n",
       "    <tr style=\"text-align: right;\">\n",
       "      <th></th>\n",
       "      <th>Airline</th>\n",
       "      <th>Source</th>\n",
       "      <th>Date of Journey</th>\n",
       "      <th>Destination</th>\n",
       "      <th>Departure</th>\n",
       "      <th>Arrival</th>\n",
       "      <th>Duration</th>\n",
       "      <th>Stops</th>\n",
       "      <th>Price</th>\n",
       "    </tr>\n",
       "  </thead>\n",
       "  <tbody>\n",
       "    <tr>\n",
       "      <th>0</th>\n",
       "      <td>IndiGo</td>\n",
       "      <td>Chandigarh</td>\n",
       "      <td>Sat, 19 Mar 2022</td>\n",
       "      <td>New Delhi</td>\n",
       "      <td>06:45</td>\n",
       "      <td>07:40</td>\n",
       "      <td>0h 55m</td>\n",
       "      <td>Non Stop</td>\n",
       "      <td>1,804</td>\n",
       "    </tr>\n",
       "    <tr>\n",
       "      <th>1</th>\n",
       "      <td>IndiGo</td>\n",
       "      <td>Chandigarh</td>\n",
       "      <td>Sat, 19 Mar 2022</td>\n",
       "      <td>New Delhi</td>\n",
       "      <td>15:45</td>\n",
       "      <td>16:45</td>\n",
       "      <td>1h 00m</td>\n",
       "      <td>Non Stop</td>\n",
       "      <td>1,804</td>\n",
       "    </tr>\n",
       "    <tr>\n",
       "      <th>2</th>\n",
       "      <td>IndiGo</td>\n",
       "      <td>Chandigarh</td>\n",
       "      <td>Sat, 19 Mar 2022</td>\n",
       "      <td>New Delhi</td>\n",
       "      <td>18:30</td>\n",
       "      <td>19:30</td>\n",
       "      <td>1h 00m</td>\n",
       "      <td>Non Stop</td>\n",
       "      <td>1,804</td>\n",
       "    </tr>\n",
       "    <tr>\n",
       "      <th>3</th>\n",
       "      <td>IndiGo</td>\n",
       "      <td>Chandigarh</td>\n",
       "      <td>Sat, 19 Mar 2022</td>\n",
       "      <td>New Delhi</td>\n",
       "      <td>13:05</td>\n",
       "      <td>14:10</td>\n",
       "      <td>1h 05m</td>\n",
       "      <td>Non Stop</td>\n",
       "      <td>1,804</td>\n",
       "    </tr>\n",
       "    <tr>\n",
       "      <th>4</th>\n",
       "      <td>Vistara</td>\n",
       "      <td>Chandigarh</td>\n",
       "      <td>Sat, 19 Mar 2022</td>\n",
       "      <td>New Delhi</td>\n",
       "      <td>18:50</td>\n",
       "      <td>19:50</td>\n",
       "      <td>1h 00m</td>\n",
       "      <td>Non Stop</td>\n",
       "      <td>1,815</td>\n",
       "    </tr>\n",
       "    <tr>\n",
       "      <th>...</th>\n",
       "      <td>...</td>\n",
       "      <td>...</td>\n",
       "      <td>...</td>\n",
       "      <td>...</td>\n",
       "      <td>...</td>\n",
       "      <td>...</td>\n",
       "      <td>...</td>\n",
       "      <td>...</td>\n",
       "      <td>...</td>\n",
       "    </tr>\n",
       "    <tr>\n",
       "      <th>67</th>\n",
       "      <td>Vistara</td>\n",
       "      <td>Chandigarh</td>\n",
       "      <td>Sat, 19 Mar 2022</td>\n",
       "      <td>New Delhi</td>\n",
       "      <td>15:10</td>\n",
       "      <td>23:45</td>\n",
       "      <td>8h 35m</td>\n",
       "      <td>1 Stop</td>\n",
       "      <td>7,130</td>\n",
       "    </tr>\n",
       "    <tr>\n",
       "      <th>68</th>\n",
       "      <td>Go First</td>\n",
       "      <td>Chandigarh</td>\n",
       "      <td>Sat, 19 Mar 2022</td>\n",
       "      <td>New Delhi</td>\n",
       "      <td>17:20</td>\n",
       "      <td>20:30</td>\n",
       "      <td>3h 10m</td>\n",
       "      <td>1 Stop</td>\n",
       "      <td>7,514</td>\n",
       "    </tr>\n",
       "    <tr>\n",
       "      <th>69</th>\n",
       "      <td>Air India</td>\n",
       "      <td>Chandigarh</td>\n",
       "      <td>Sat, 19 Mar 2022</td>\n",
       "      <td>New Delhi</td>\n",
       "      <td>14:25</td>\n",
       "      <td>15:25</td>\n",
       "      <td>1h 00m</td>\n",
       "      <td>Non Stop</td>\n",
       "      <td>7,842</td>\n",
       "    </tr>\n",
       "    <tr>\n",
       "      <th>70</th>\n",
       "      <td>Air India</td>\n",
       "      <td>Chandigarh</td>\n",
       "      <td>Sat, 19 Mar 2022</td>\n",
       "      <td>New Delhi</td>\n",
       "      <td>10:15</td>\n",
       "      <td>17:15 + 1 day</td>\n",
       "      <td>31h 00m</td>\n",
       "      <td>2 Stop(s)</td>\n",
       "      <td>8,498</td>\n",
       "    </tr>\n",
       "    <tr>\n",
       "      <th>71</th>\n",
       "      <td>Air India</td>\n",
       "      <td>Chandigarh</td>\n",
       "      <td>Sat, 19 Mar 2022</td>\n",
       "      <td>New Delhi</td>\n",
       "      <td>08:10</td>\n",
       "      <td>09:50 + 1 day</td>\n",
       "      <td>25h 40m</td>\n",
       "      <td>1 Stop</td>\n",
       "      <td>29,147</td>\n",
       "    </tr>\n",
       "  </tbody>\n",
       "</table>\n",
       "<p>72 rows × 9 columns</p>\n",
       "</div>"
      ],
      "text/plain": [
       "      Airline      Source   Date of Journey Destination Departure  \\\n",
       "0      IndiGo  Chandigarh  Sat, 19 Mar 2022   New Delhi     06:45   \n",
       "1      IndiGo  Chandigarh  Sat, 19 Mar 2022   New Delhi     15:45   \n",
       "2      IndiGo  Chandigarh  Sat, 19 Mar 2022   New Delhi     18:30   \n",
       "3      IndiGo  Chandigarh  Sat, 19 Mar 2022   New Delhi     13:05   \n",
       "4     Vistara  Chandigarh  Sat, 19 Mar 2022   New Delhi     18:50   \n",
       "..        ...         ...               ...         ...       ...   \n",
       "67    Vistara  Chandigarh  Sat, 19 Mar 2022   New Delhi     15:10   \n",
       "68   Go First  Chandigarh  Sat, 19 Mar 2022   New Delhi     17:20   \n",
       "69  Air India  Chandigarh  Sat, 19 Mar 2022   New Delhi     14:25   \n",
       "70  Air India  Chandigarh  Sat, 19 Mar 2022   New Delhi     10:15   \n",
       "71  Air India  Chandigarh  Sat, 19 Mar 2022   New Delhi     08:10   \n",
       "\n",
       "          Arrival Duration      Stops   Price  \n",
       "0           07:40   0h 55m   Non Stop   1,804  \n",
       "1           16:45   1h 00m   Non Stop   1,804  \n",
       "2           19:30   1h 00m   Non Stop   1,804  \n",
       "3           14:10   1h 05m   Non Stop   1,804  \n",
       "4           19:50   1h 00m   Non Stop   1,815  \n",
       "..            ...      ...        ...     ...  \n",
       "67          23:45   8h 35m     1 Stop   7,130  \n",
       "68          20:30   3h 10m     1 Stop   7,514  \n",
       "69          15:25   1h 00m   Non Stop   7,842  \n",
       "70  17:15 + 1 day  31h 00m  2 Stop(s)   8,498  \n",
       "71  09:50 + 1 day  25h 40m     1 Stop  29,147  \n",
       "\n",
       "[72 rows x 9 columns]"
      ]
     },
     "execution_count": 235,
     "metadata": {},
     "output_type": "execute_result"
    }
   ],
   "source": [
    "job6=pd.DataFrame({})  #creating the dataframe and saving it in different titles.\n",
    "job6['Airline']=flightname6\n",
    "job6['Source']=source13\n",
    "job6['Date of Journey']=date13\n",
    "job6['Destination']=destination4\n",
    "job6['Departure']=time7\n",
    "job6['Arrival']=artime7\n",
    "job6['Duration']=duration6\n",
    "job6['Stops']=stop7\n",
    "job6['Price']=price6\n",
    "job6"
   ]
  },
  {
   "cell_type": "code",
   "execution_count": 236,
   "id": "ea753759",
   "metadata": {},
   "outputs": [
    {
     "data": {
      "text/html": [
       "<div>\n",
       "<style scoped>\n",
       "    .dataframe tbody tr th:only-of-type {\n",
       "        vertical-align: middle;\n",
       "    }\n",
       "\n",
       "    .dataframe tbody tr th {\n",
       "        vertical-align: top;\n",
       "    }\n",
       "\n",
       "    .dataframe thead th {\n",
       "        text-align: right;\n",
       "    }\n",
       "</style>\n",
       "<table border=\"1\" class=\"dataframe\">\n",
       "  <thead>\n",
       "    <tr style=\"text-align: right;\">\n",
       "      <th></th>\n",
       "      <th>Airline</th>\n",
       "      <th>Source</th>\n",
       "      <th>Date of Journey</th>\n",
       "      <th>Destination</th>\n",
       "      <th>Departure</th>\n",
       "      <th>Arrival</th>\n",
       "      <th>Duration</th>\n",
       "      <th>Stops</th>\n",
       "      <th>Price</th>\n",
       "    </tr>\n",
       "  </thead>\n",
       "  <tbody>\n",
       "    <tr>\n",
       "      <th>0</th>\n",
       "      <td>SpiceJet</td>\n",
       "      <td>Mumbai</td>\n",
       "      <td>Tue, 8 Mar 2022</td>\n",
       "      <td>Chennai</td>\n",
       "      <td>19:30</td>\n",
       "      <td>21:20</td>\n",
       "      <td>1h 50m</td>\n",
       "      <td>Non Stop</td>\n",
       "      <td>1,888</td>\n",
       "    </tr>\n",
       "    <tr>\n",
       "      <th>1</th>\n",
       "      <td>SpiceJet</td>\n",
       "      <td>Mumbai</td>\n",
       "      <td>Tue, 8 Mar 2022</td>\n",
       "      <td>Chennai</td>\n",
       "      <td>06:00</td>\n",
       "      <td>08:00</td>\n",
       "      <td>2h 00m</td>\n",
       "      <td>Non Stop</td>\n",
       "      <td>1,888</td>\n",
       "    </tr>\n",
       "    <tr>\n",
       "      <th>2</th>\n",
       "      <td>Go First</td>\n",
       "      <td>Mumbai</td>\n",
       "      <td>Tue, 8 Mar 2022</td>\n",
       "      <td>Chennai</td>\n",
       "      <td>05:50</td>\n",
       "      <td>07:40</td>\n",
       "      <td>1h 50m</td>\n",
       "      <td>Non Stop</td>\n",
       "      <td>1,890</td>\n",
       "    </tr>\n",
       "    <tr>\n",
       "      <th>3</th>\n",
       "      <td>IndiGo</td>\n",
       "      <td>Mumbai</td>\n",
       "      <td>Tue, 8 Mar 2022</td>\n",
       "      <td>Chennai</td>\n",
       "      <td>16:25</td>\n",
       "      <td>18:15</td>\n",
       "      <td>1h 50m</td>\n",
       "      <td>Non Stop</td>\n",
       "      <td>1,890</td>\n",
       "    </tr>\n",
       "    <tr>\n",
       "      <th>4</th>\n",
       "      <td>IndiGo</td>\n",
       "      <td>Mumbai</td>\n",
       "      <td>Tue, 8 Mar 2022</td>\n",
       "      <td>Chennai</td>\n",
       "      <td>21:25</td>\n",
       "      <td>23:15</td>\n",
       "      <td>1h 50m</td>\n",
       "      <td>Non Stop</td>\n",
       "      <td>1,890</td>\n",
       "    </tr>\n",
       "    <tr>\n",
       "      <th>...</th>\n",
       "      <td>...</td>\n",
       "      <td>...</td>\n",
       "      <td>...</td>\n",
       "      <td>...</td>\n",
       "      <td>...</td>\n",
       "      <td>...</td>\n",
       "      <td>...</td>\n",
       "      <td>...</td>\n",
       "      <td>...</td>\n",
       "    </tr>\n",
       "    <tr>\n",
       "      <th>67</th>\n",
       "      <td>Vistara</td>\n",
       "      <td>Chandigarh</td>\n",
       "      <td>Sat, 19 Mar 2022</td>\n",
       "      <td>New Delhi</td>\n",
       "      <td>15:10</td>\n",
       "      <td>23:45</td>\n",
       "      <td>8h 35m</td>\n",
       "      <td>1 Stop</td>\n",
       "      <td>7,130</td>\n",
       "    </tr>\n",
       "    <tr>\n",
       "      <th>68</th>\n",
       "      <td>Go First</td>\n",
       "      <td>Chandigarh</td>\n",
       "      <td>Sat, 19 Mar 2022</td>\n",
       "      <td>New Delhi</td>\n",
       "      <td>17:20</td>\n",
       "      <td>20:30</td>\n",
       "      <td>3h 10m</td>\n",
       "      <td>1 Stop</td>\n",
       "      <td>7,514</td>\n",
       "    </tr>\n",
       "    <tr>\n",
       "      <th>69</th>\n",
       "      <td>Air India</td>\n",
       "      <td>Chandigarh</td>\n",
       "      <td>Sat, 19 Mar 2022</td>\n",
       "      <td>New Delhi</td>\n",
       "      <td>14:25</td>\n",
       "      <td>15:25</td>\n",
       "      <td>1h 00m</td>\n",
       "      <td>Non Stop</td>\n",
       "      <td>7,842</td>\n",
       "    </tr>\n",
       "    <tr>\n",
       "      <th>70</th>\n",
       "      <td>Air India</td>\n",
       "      <td>Chandigarh</td>\n",
       "      <td>Sat, 19 Mar 2022</td>\n",
       "      <td>New Delhi</td>\n",
       "      <td>10:15</td>\n",
       "      <td>17:15 + 1 day</td>\n",
       "      <td>31h 00m</td>\n",
       "      <td>2 Stop(s)</td>\n",
       "      <td>8,498</td>\n",
       "    </tr>\n",
       "    <tr>\n",
       "      <th>71</th>\n",
       "      <td>Air India</td>\n",
       "      <td>Chandigarh</td>\n",
       "      <td>Sat, 19 Mar 2022</td>\n",
       "      <td>New Delhi</td>\n",
       "      <td>08:10</td>\n",
       "      <td>09:50 + 1 day</td>\n",
       "      <td>25h 40m</td>\n",
       "      <td>1 Stop</td>\n",
       "      <td>29,147</td>\n",
       "    </tr>\n",
       "  </tbody>\n",
       "</table>\n",
       "<p>681 rows × 9 columns</p>\n",
       "</div>"
      ],
      "text/plain": [
       "      Airline      Source   Date of Journey Destination Departure  \\\n",
       "0    SpiceJet      Mumbai   Tue, 8 Mar 2022     Chennai     19:30   \n",
       "1    SpiceJet      Mumbai   Tue, 8 Mar 2022     Chennai     06:00   \n",
       "2    Go First      Mumbai   Tue, 8 Mar 2022     Chennai     05:50   \n",
       "3      IndiGo      Mumbai   Tue, 8 Mar 2022     Chennai     16:25   \n",
       "4      IndiGo      Mumbai   Tue, 8 Mar 2022     Chennai     21:25   \n",
       "..        ...         ...               ...         ...       ...   \n",
       "67    Vistara  Chandigarh  Sat, 19 Mar 2022   New Delhi     15:10   \n",
       "68   Go First  Chandigarh  Sat, 19 Mar 2022   New Delhi     17:20   \n",
       "69  Air India  Chandigarh  Sat, 19 Mar 2022   New Delhi     14:25   \n",
       "70  Air India  Chandigarh  Sat, 19 Mar 2022   New Delhi     10:15   \n",
       "71  Air India  Chandigarh  Sat, 19 Mar 2022   New Delhi     08:10   \n",
       "\n",
       "          Arrival Duration      Stops   Price  \n",
       "0           21:20   1h 50m   Non Stop   1,888  \n",
       "1           08:00   2h 00m   Non Stop   1,888  \n",
       "2           07:40   1h 50m   Non Stop   1,890  \n",
       "3           18:15   1h 50m   Non Stop   1,890  \n",
       "4           23:15   1h 50m   Non Stop   1,890  \n",
       "..            ...      ...        ...     ...  \n",
       "67          23:45   8h 35m     1 Stop   7,130  \n",
       "68          20:30   3h 10m     1 Stop   7,514  \n",
       "69          15:25   1h 00m   Non Stop   7,842  \n",
       "70  17:15 + 1 day  31h 00m  2 Stop(s)   8,498  \n",
       "71  09:50 + 1 day  25h 40m     1 Stop  29,147  \n",
       "\n",
       "[681 rows x 9 columns]"
      ]
     },
     "execution_count": 236,
     "metadata": {},
     "output_type": "execute_result"
    }
   ],
   "source": [
    "frames=[job1,job2,job3,job4,job5,job6]\n",
    "df=pd.concat(frames)\n",
    "df #concatinating frames in one frame"
   ]
  },
  {
   "cell_type": "code",
   "execution_count": 239,
   "id": "9b80a843",
   "metadata": {},
   "outputs": [],
   "source": [
    "#extracting data from yatra.com from bangalore to new delhi\n",
    "driver.get(\"https://flight.yatra.com/air-search-ui/seodom/trigger?ADT=1&CHD=0&INF=0&class=Economy&destination=DEL&destinationCountry=IN&flexi=0&flight_depart_date=24%2F03%2F2022&hb=0&noOfSegments=1&origin=BLR&originCountry=IN&type=O&unique=602165982252&version=1.1&viewName=normal\")"
   ]
  },
  {
   "cell_type": "code",
   "execution_count": 241,
   "id": "f5400a29",
   "metadata": {},
   "outputs": [],
   "source": [
    "flightname7=[] #airline name\n",
    "name=driver.find_elements_by_xpath(\"//span[@class='i-b text ellipsis']\")\n",
    "for i in name:\n",
    "    flightname7.append(i.text)"
   ]
  },
  {
   "cell_type": "code",
   "execution_count": 242,
   "id": "e1bcd43d",
   "metadata": {},
   "outputs": [
    {
     "data": {
      "text/plain": [
       "165"
      ]
     },
     "execution_count": 242,
     "metadata": {},
     "output_type": "execute_result"
    }
   ],
   "source": [
    "len(flightname7)"
   ]
  },
  {
   "cell_type": "code",
   "execution_count": 243,
   "id": "f1fdf566",
   "metadata": {},
   "outputs": [],
   "source": [
    "time8=[] #departure time\n",
    "tim=driver.find_elements_by_xpath(\"//div[@class='i-b pr']\")\n",
    "for i in tim:\n",
    "    time8.append(i.text)"
   ]
  },
  {
   "cell_type": "code",
   "execution_count": 244,
   "id": "d25d9517",
   "metadata": {},
   "outputs": [
    {
     "data": {
      "text/plain": [
       "['17:15', '20:15', '11:20', '17:15', '11:20']"
      ]
     },
     "execution_count": 244,
     "metadata": {},
     "output_type": "execute_result"
    }
   ],
   "source": [
    "time8[:5]"
   ]
  },
  {
   "cell_type": "code",
   "execution_count": 245,
   "id": "06bedb6f",
   "metadata": {},
   "outputs": [],
   "source": [
    "artime8=[]  #Arrival Time\n",
    "ar=driver.find_elements_by_xpath(\"//p[@class='bold fs-15 mb-2 pr time']\")\n",
    "for i in ar:\n",
    "    artime8.append(i.text.replace(\"\\n\",\" \"))"
   ]
  },
  {
   "cell_type": "code",
   "execution_count": 246,
   "id": "ede28aa6",
   "metadata": {},
   "outputs": [
    {
     "data": {
      "text/plain": [
       "['22:40', '02:05 + 1 day', '18:30', '02:05 + 1 day', '22:40']"
      ]
     },
     "execution_count": 246,
     "metadata": {},
     "output_type": "execute_result"
    }
   ],
   "source": [
    "artime8[:5]"
   ]
  },
  {
   "cell_type": "code",
   "execution_count": 247,
   "id": "0eb4f390",
   "metadata": {},
   "outputs": [],
   "source": [
    "source14=[]  #Source from where the flight take off\n",
    "sou=driver.find_elements_by_xpath(\"//p[@class='fs-10 font-lightgrey no-wrap city ellipsis']\")\n",
    "for i in sou:\n",
    "    source14.append(i.text)"
   ]
  },
  {
   "cell_type": "code",
   "execution_count": 249,
   "id": "7327af32",
   "metadata": {},
   "outputs": [
    {
     "data": {
      "text/plain": [
       "['Bangalore', 'Bangalore', 'Bangalore', 'Bangalore', 'Bangalore']"
      ]
     },
     "execution_count": 249,
     "metadata": {},
     "output_type": "execute_result"
    }
   ],
   "source": [
    "source15=source14[::2]\n",
    "source15[:5]"
   ]
  },
  {
   "cell_type": "code",
   "execution_count": 261,
   "id": "364da562",
   "metadata": {},
   "outputs": [
    {
     "data": {
      "text/plain": [
       "['New Delhi', 'New Delhi', 'New Delhi', 'New Delhi', 'New Delhi']"
      ]
     },
     "execution_count": 261,
     "metadata": {},
     "output_type": "execute_result"
    }
   ],
   "source": [
    "destination5=source14[1::2]\n",
    "destination5[:5]"
   ]
  },
  {
   "cell_type": "code",
   "execution_count": 251,
   "id": "35cae645",
   "metadata": {},
   "outputs": [],
   "source": [
    "duration7=[]  #duration of the flight\n",
    "dura=driver.find_elements_by_xpath(\"//p[@class='fs-12 bold du mb-2']\")\n",
    "for i in dura:\n",
    "    duration7.append(i.text)"
   ]
  },
  {
   "cell_type": "code",
   "execution_count": 252,
   "id": "c1ed83e4",
   "metadata": {},
   "outputs": [
    {
     "data": {
      "text/plain": [
       "['5h 25m', '5h 50m', '7h 10m', '8h 50m', '11h 20m']"
      ]
     },
     "execution_count": 252,
     "metadata": {},
     "output_type": "execute_result"
    }
   ],
   "source": [
    "duration7[:5]"
   ]
  },
  {
   "cell_type": "code",
   "execution_count": 253,
   "id": "0320a52b",
   "metadata": {},
   "outputs": [],
   "source": [
    "stop8=[]  #number of stops\n",
    "st=driver.find_elements_by_xpath(\"//div[@class=' font-lightgrey fs-10 tipsy i-b fs-10']/span\")\n",
    "for i in st:\n",
    "    stop8.append(i.text)"
   ]
  },
  {
   "cell_type": "code",
   "execution_count": 254,
   "id": "bc1767bf",
   "metadata": {},
   "outputs": [
    {
     "data": {
      "text/plain": [
       "['1 Stop', '1 Stop', '1 Stop', '1 Stop', '1 Stop']"
      ]
     },
     "execution_count": 254,
     "metadata": {},
     "output_type": "execute_result"
    }
   ],
   "source": [
    "stop8[:5]"
   ]
  },
  {
   "cell_type": "code",
   "execution_count": 255,
   "id": "f2e0b059",
   "metadata": {},
   "outputs": [],
   "source": [
    "price7=[]  #price of the flight\n",
    "pr=driver.find_elements_by_xpath(\"//div[@class='i-b tipsy fare-summary-tooltip fs-18']\")\n",
    "for i in pr:\n",
    "    price7.append(i.text)"
   ]
  },
  {
   "cell_type": "code",
   "execution_count": 256,
   "id": "59a5bbff",
   "metadata": {},
   "outputs": [
    {
     "data": {
      "text/plain": [
       "['2,356', '2,356', '2,356', '2,356', '2,356']"
      ]
     },
     "execution_count": 256,
     "metadata": {},
     "output_type": "execute_result"
    }
   ],
   "source": [
    "price7[:5]"
   ]
  },
  {
   "cell_type": "code",
   "execution_count": 258,
   "id": "b970e06e",
   "metadata": {},
   "outputs": [],
   "source": [
    "list_count=0 #iterating over the each row of the flight and clicking on flight details and fetching date of journey\n",
    "date14=[]\n",
    "while(list_count<170):\n",
    "    \n",
    "   \n",
    "    if(list_count>170):\n",
    "        break\n",
    "    else:\n",
    "        list_count +=1\n",
    "    try:\n",
    "        date=driver.find_elements_by_xpath(\"//div[@class='link-color fs-12 cursor-pointer']\")\n",
    "        date[list_count].click()\n",
    "        time.sleep(5)\n",
    "    except:\n",
    "        pass\n",
    "    finally:\n",
    "        da=driver.find_elements_by_xpath(\"//div[@class='bold fs-12 mb-5']\")\n",
    "        for i in da:\n",
    "            date14.append(i.text)"
   ]
  },
  {
   "cell_type": "code",
   "execution_count": 259,
   "id": "11639df1",
   "metadata": {},
   "outputs": [],
   "source": [
    "date15=date14[0:165]"
   ]
  },
  {
   "cell_type": "code",
   "execution_count": 262,
   "id": "edfb0854",
   "metadata": {},
   "outputs": [
    {
     "data": {
      "text/html": [
       "<div>\n",
       "<style scoped>\n",
       "    .dataframe tbody tr th:only-of-type {\n",
       "        vertical-align: middle;\n",
       "    }\n",
       "\n",
       "    .dataframe tbody tr th {\n",
       "        vertical-align: top;\n",
       "    }\n",
       "\n",
       "    .dataframe thead th {\n",
       "        text-align: right;\n",
       "    }\n",
       "</style>\n",
       "<table border=\"1\" class=\"dataframe\">\n",
       "  <thead>\n",
       "    <tr style=\"text-align: right;\">\n",
       "      <th></th>\n",
       "      <th>Airline</th>\n",
       "      <th>Source</th>\n",
       "      <th>Date of Journey</th>\n",
       "      <th>Destination</th>\n",
       "      <th>Departure</th>\n",
       "      <th>Arrival</th>\n",
       "      <th>Duration</th>\n",
       "      <th>Stops</th>\n",
       "      <th>Price</th>\n",
       "    </tr>\n",
       "  </thead>\n",
       "  <tbody>\n",
       "    <tr>\n",
       "      <th>0</th>\n",
       "      <td>IndiGo</td>\n",
       "      <td>Bangalore</td>\n",
       "      <td>Thu, 24 Mar 2022</td>\n",
       "      <td>New Delhi</td>\n",
       "      <td>17:15</td>\n",
       "      <td>22:40</td>\n",
       "      <td>5h 25m</td>\n",
       "      <td>1 Stop</td>\n",
       "      <td>2,356</td>\n",
       "    </tr>\n",
       "    <tr>\n",
       "      <th>1</th>\n",
       "      <td>IndiGo</td>\n",
       "      <td>Bangalore</td>\n",
       "      <td>Thu, 24 Mar 2022</td>\n",
       "      <td>New Delhi</td>\n",
       "      <td>20:15</td>\n",
       "      <td>02:05 + 1 day</td>\n",
       "      <td>5h 50m</td>\n",
       "      <td>1 Stop</td>\n",
       "      <td>2,356</td>\n",
       "    </tr>\n",
       "    <tr>\n",
       "      <th>2</th>\n",
       "      <td>IndiGo</td>\n",
       "      <td>Bangalore</td>\n",
       "      <td>Thu, 24 Mar 2022</td>\n",
       "      <td>New Delhi</td>\n",
       "      <td>11:20</td>\n",
       "      <td>18:30</td>\n",
       "      <td>7h 10m</td>\n",
       "      <td>1 Stop</td>\n",
       "      <td>2,356</td>\n",
       "    </tr>\n",
       "    <tr>\n",
       "      <th>3</th>\n",
       "      <td>IndiGo</td>\n",
       "      <td>Bangalore</td>\n",
       "      <td>Thu, 24 Mar 2022</td>\n",
       "      <td>New Delhi</td>\n",
       "      <td>17:15</td>\n",
       "      <td>02:05 + 1 day</td>\n",
       "      <td>8h 50m</td>\n",
       "      <td>1 Stop</td>\n",
       "      <td>2,356</td>\n",
       "    </tr>\n",
       "    <tr>\n",
       "      <th>4</th>\n",
       "      <td>IndiGo</td>\n",
       "      <td>Bangalore</td>\n",
       "      <td>Thu, 24 Mar 2022</td>\n",
       "      <td>New Delhi</td>\n",
       "      <td>11:20</td>\n",
       "      <td>22:40</td>\n",
       "      <td>11h 20m</td>\n",
       "      <td>1 Stop</td>\n",
       "      <td>2,356</td>\n",
       "    </tr>\n",
       "    <tr>\n",
       "      <th>...</th>\n",
       "      <td>...</td>\n",
       "      <td>...</td>\n",
       "      <td>...</td>\n",
       "      <td>...</td>\n",
       "      <td>...</td>\n",
       "      <td>...</td>\n",
       "      <td>...</td>\n",
       "      <td>...</td>\n",
       "      <td>...</td>\n",
       "    </tr>\n",
       "    <tr>\n",
       "      <th>160</th>\n",
       "      <td>Vistara</td>\n",
       "      <td>Bangalore</td>\n",
       "      <td>Thu, 24 Mar 2022</td>\n",
       "      <td>New Delhi</td>\n",
       "      <td>19:55</td>\n",
       "      <td>19:55 + 1 day</td>\n",
       "      <td>24h 00m</td>\n",
       "      <td>1 Stop</td>\n",
       "      <td>8,014</td>\n",
       "    </tr>\n",
       "    <tr>\n",
       "      <th>161</th>\n",
       "      <td>Vistara</td>\n",
       "      <td>Bangalore</td>\n",
       "      <td>Thu, 24 Mar 2022</td>\n",
       "      <td>New Delhi</td>\n",
       "      <td>19:55</td>\n",
       "      <td>22:50 + 1 day</td>\n",
       "      <td>26h 55m</td>\n",
       "      <td>1 Stop</td>\n",
       "      <td>8,014</td>\n",
       "    </tr>\n",
       "    <tr>\n",
       "      <th>162</th>\n",
       "      <td>SpiceJet</td>\n",
       "      <td>Bangalore</td>\n",
       "      <td>Thu, 24 Mar 2022</td>\n",
       "      <td>New Delhi</td>\n",
       "      <td>09:20</td>\n",
       "      <td>19:30</td>\n",
       "      <td>10h 10m</td>\n",
       "      <td>1 Stop</td>\n",
       "      <td>8,640</td>\n",
       "    </tr>\n",
       "    <tr>\n",
       "      <th>163</th>\n",
       "      <td>SpiceJet</td>\n",
       "      <td>Bangalore</td>\n",
       "      <td>Thu, 24 Mar 2022</td>\n",
       "      <td>New Delhi</td>\n",
       "      <td>14:05</td>\n",
       "      <td>16:35 + 1 day</td>\n",
       "      <td>26h 30m</td>\n",
       "      <td>1 Stop</td>\n",
       "      <td>9,847</td>\n",
       "    </tr>\n",
       "    <tr>\n",
       "      <th>164</th>\n",
       "      <td>SpiceJet</td>\n",
       "      <td>Bangalore</td>\n",
       "      <td>Thu, 24 Mar 2022</td>\n",
       "      <td>New Delhi</td>\n",
       "      <td>06:55</td>\n",
       "      <td>19:45</td>\n",
       "      <td>12h 50m</td>\n",
       "      <td>1 Stop</td>\n",
       "      <td>9,900</td>\n",
       "    </tr>\n",
       "  </tbody>\n",
       "</table>\n",
       "<p>165 rows × 9 columns</p>\n",
       "</div>"
      ],
      "text/plain": [
       "      Airline     Source   Date of Journey Destination Departure  \\\n",
       "0      IndiGo  Bangalore  Thu, 24 Mar 2022   New Delhi     17:15   \n",
       "1      IndiGo  Bangalore  Thu, 24 Mar 2022   New Delhi     20:15   \n",
       "2      IndiGo  Bangalore  Thu, 24 Mar 2022   New Delhi     11:20   \n",
       "3      IndiGo  Bangalore  Thu, 24 Mar 2022   New Delhi     17:15   \n",
       "4      IndiGo  Bangalore  Thu, 24 Mar 2022   New Delhi     11:20   \n",
       "..        ...        ...               ...         ...       ...   \n",
       "160   Vistara  Bangalore  Thu, 24 Mar 2022   New Delhi     19:55   \n",
       "161   Vistara  Bangalore  Thu, 24 Mar 2022   New Delhi     19:55   \n",
       "162  SpiceJet  Bangalore  Thu, 24 Mar 2022   New Delhi     09:20   \n",
       "163  SpiceJet  Bangalore  Thu, 24 Mar 2022   New Delhi     14:05   \n",
       "164  SpiceJet  Bangalore  Thu, 24 Mar 2022   New Delhi     06:55   \n",
       "\n",
       "           Arrival Duration   Stops  Price  \n",
       "0            22:40   5h 25m  1 Stop  2,356  \n",
       "1    02:05 + 1 day   5h 50m  1 Stop  2,356  \n",
       "2            18:30   7h 10m  1 Stop  2,356  \n",
       "3    02:05 + 1 day   8h 50m  1 Stop  2,356  \n",
       "4            22:40  11h 20m  1 Stop  2,356  \n",
       "..             ...      ...     ...    ...  \n",
       "160  19:55 + 1 day  24h 00m  1 Stop  8,014  \n",
       "161  22:50 + 1 day  26h 55m  1 Stop  8,014  \n",
       "162          19:30  10h 10m  1 Stop  8,640  \n",
       "163  16:35 + 1 day  26h 30m  1 Stop  9,847  \n",
       "164          19:45  12h 50m  1 Stop  9,900  \n",
       "\n",
       "[165 rows x 9 columns]"
      ]
     },
     "execution_count": 262,
     "metadata": {},
     "output_type": "execute_result"
    }
   ],
   "source": [
    "job7=pd.DataFrame({})  #creating the dataframe and saving it in different titles.\n",
    "job7['Airline']=flightname7\n",
    "job7['Source']=source15\n",
    "job7['Date of Journey']=date15\n",
    "job7['Destination']=destination5\n",
    "job7['Departure']=time8\n",
    "job7['Arrival']=artime8\n",
    "job7['Duration']=duration7\n",
    "job7['Stops']=stop8\n",
    "job7['Price']=price7\n",
    "job7"
   ]
  },
  {
   "cell_type": "code",
   "execution_count": 263,
   "id": "64948047",
   "metadata": {},
   "outputs": [
    {
     "data": {
      "text/html": [
       "<div>\n",
       "<style scoped>\n",
       "    .dataframe tbody tr th:only-of-type {\n",
       "        vertical-align: middle;\n",
       "    }\n",
       "\n",
       "    .dataframe tbody tr th {\n",
       "        vertical-align: top;\n",
       "    }\n",
       "\n",
       "    .dataframe thead th {\n",
       "        text-align: right;\n",
       "    }\n",
       "</style>\n",
       "<table border=\"1\" class=\"dataframe\">\n",
       "  <thead>\n",
       "    <tr style=\"text-align: right;\">\n",
       "      <th></th>\n",
       "      <th>Airline</th>\n",
       "      <th>Source</th>\n",
       "      <th>Date of Journey</th>\n",
       "      <th>Destination</th>\n",
       "      <th>Departure</th>\n",
       "      <th>Arrival</th>\n",
       "      <th>Duration</th>\n",
       "      <th>Stops</th>\n",
       "      <th>Price</th>\n",
       "    </tr>\n",
       "  </thead>\n",
       "  <tbody>\n",
       "    <tr>\n",
       "      <th>0</th>\n",
       "      <td>SpiceJet</td>\n",
       "      <td>Mumbai</td>\n",
       "      <td>Tue, 8 Mar 2022</td>\n",
       "      <td>Chennai</td>\n",
       "      <td>19:30</td>\n",
       "      <td>21:20</td>\n",
       "      <td>1h 50m</td>\n",
       "      <td>Non Stop</td>\n",
       "      <td>1,888</td>\n",
       "    </tr>\n",
       "    <tr>\n",
       "      <th>1</th>\n",
       "      <td>SpiceJet</td>\n",
       "      <td>Mumbai</td>\n",
       "      <td>Tue, 8 Mar 2022</td>\n",
       "      <td>Chennai</td>\n",
       "      <td>06:00</td>\n",
       "      <td>08:00</td>\n",
       "      <td>2h 00m</td>\n",
       "      <td>Non Stop</td>\n",
       "      <td>1,888</td>\n",
       "    </tr>\n",
       "    <tr>\n",
       "      <th>2</th>\n",
       "      <td>Go First</td>\n",
       "      <td>Mumbai</td>\n",
       "      <td>Tue, 8 Mar 2022</td>\n",
       "      <td>Chennai</td>\n",
       "      <td>05:50</td>\n",
       "      <td>07:40</td>\n",
       "      <td>1h 50m</td>\n",
       "      <td>Non Stop</td>\n",
       "      <td>1,890</td>\n",
       "    </tr>\n",
       "    <tr>\n",
       "      <th>3</th>\n",
       "      <td>IndiGo</td>\n",
       "      <td>Mumbai</td>\n",
       "      <td>Tue, 8 Mar 2022</td>\n",
       "      <td>Chennai</td>\n",
       "      <td>16:25</td>\n",
       "      <td>18:15</td>\n",
       "      <td>1h 50m</td>\n",
       "      <td>Non Stop</td>\n",
       "      <td>1,890</td>\n",
       "    </tr>\n",
       "    <tr>\n",
       "      <th>4</th>\n",
       "      <td>IndiGo</td>\n",
       "      <td>Mumbai</td>\n",
       "      <td>Tue, 8 Mar 2022</td>\n",
       "      <td>Chennai</td>\n",
       "      <td>21:25</td>\n",
       "      <td>23:15</td>\n",
       "      <td>1h 50m</td>\n",
       "      <td>Non Stop</td>\n",
       "      <td>1,890</td>\n",
       "    </tr>\n",
       "    <tr>\n",
       "      <th>...</th>\n",
       "      <td>...</td>\n",
       "      <td>...</td>\n",
       "      <td>...</td>\n",
       "      <td>...</td>\n",
       "      <td>...</td>\n",
       "      <td>...</td>\n",
       "      <td>...</td>\n",
       "      <td>...</td>\n",
       "      <td>...</td>\n",
       "    </tr>\n",
       "    <tr>\n",
       "      <th>160</th>\n",
       "      <td>Vistara</td>\n",
       "      <td>Bangalore</td>\n",
       "      <td>Thu, 24 Mar 2022</td>\n",
       "      <td>New Delhi</td>\n",
       "      <td>19:55</td>\n",
       "      <td>19:55 + 1 day</td>\n",
       "      <td>24h 00m</td>\n",
       "      <td>1 Stop</td>\n",
       "      <td>8,014</td>\n",
       "    </tr>\n",
       "    <tr>\n",
       "      <th>161</th>\n",
       "      <td>Vistara</td>\n",
       "      <td>Bangalore</td>\n",
       "      <td>Thu, 24 Mar 2022</td>\n",
       "      <td>New Delhi</td>\n",
       "      <td>19:55</td>\n",
       "      <td>22:50 + 1 day</td>\n",
       "      <td>26h 55m</td>\n",
       "      <td>1 Stop</td>\n",
       "      <td>8,014</td>\n",
       "    </tr>\n",
       "    <tr>\n",
       "      <th>162</th>\n",
       "      <td>SpiceJet</td>\n",
       "      <td>Bangalore</td>\n",
       "      <td>Thu, 24 Mar 2022</td>\n",
       "      <td>New Delhi</td>\n",
       "      <td>09:20</td>\n",
       "      <td>19:30</td>\n",
       "      <td>10h 10m</td>\n",
       "      <td>1 Stop</td>\n",
       "      <td>8,640</td>\n",
       "    </tr>\n",
       "    <tr>\n",
       "      <th>163</th>\n",
       "      <td>SpiceJet</td>\n",
       "      <td>Bangalore</td>\n",
       "      <td>Thu, 24 Mar 2022</td>\n",
       "      <td>New Delhi</td>\n",
       "      <td>14:05</td>\n",
       "      <td>16:35 + 1 day</td>\n",
       "      <td>26h 30m</td>\n",
       "      <td>1 Stop</td>\n",
       "      <td>9,847</td>\n",
       "    </tr>\n",
       "    <tr>\n",
       "      <th>164</th>\n",
       "      <td>SpiceJet</td>\n",
       "      <td>Bangalore</td>\n",
       "      <td>Thu, 24 Mar 2022</td>\n",
       "      <td>New Delhi</td>\n",
       "      <td>06:55</td>\n",
       "      <td>19:45</td>\n",
       "      <td>12h 50m</td>\n",
       "      <td>1 Stop</td>\n",
       "      <td>9,900</td>\n",
       "    </tr>\n",
       "  </tbody>\n",
       "</table>\n",
       "<p>846 rows × 9 columns</p>\n",
       "</div>"
      ],
      "text/plain": [
       "      Airline     Source   Date of Journey Destination Departure  \\\n",
       "0    SpiceJet     Mumbai   Tue, 8 Mar 2022     Chennai     19:30   \n",
       "1    SpiceJet     Mumbai   Tue, 8 Mar 2022     Chennai     06:00   \n",
       "2    Go First     Mumbai   Tue, 8 Mar 2022     Chennai     05:50   \n",
       "3      IndiGo     Mumbai   Tue, 8 Mar 2022     Chennai     16:25   \n",
       "4      IndiGo     Mumbai   Tue, 8 Mar 2022     Chennai     21:25   \n",
       "..        ...        ...               ...         ...       ...   \n",
       "160   Vistara  Bangalore  Thu, 24 Mar 2022   New Delhi     19:55   \n",
       "161   Vistara  Bangalore  Thu, 24 Mar 2022   New Delhi     19:55   \n",
       "162  SpiceJet  Bangalore  Thu, 24 Mar 2022   New Delhi     09:20   \n",
       "163  SpiceJet  Bangalore  Thu, 24 Mar 2022   New Delhi     14:05   \n",
       "164  SpiceJet  Bangalore  Thu, 24 Mar 2022   New Delhi     06:55   \n",
       "\n",
       "           Arrival Duration     Stops  Price  \n",
       "0            21:20   1h 50m  Non Stop  1,888  \n",
       "1            08:00   2h 00m  Non Stop  1,888  \n",
       "2            07:40   1h 50m  Non Stop  1,890  \n",
       "3            18:15   1h 50m  Non Stop  1,890  \n",
       "4            23:15   1h 50m  Non Stop  1,890  \n",
       "..             ...      ...       ...    ...  \n",
       "160  19:55 + 1 day  24h 00m    1 Stop  8,014  \n",
       "161  22:50 + 1 day  26h 55m    1 Stop  8,014  \n",
       "162          19:30  10h 10m    1 Stop  8,640  \n",
       "163  16:35 + 1 day  26h 30m    1 Stop  9,847  \n",
       "164          19:45  12h 50m    1 Stop  9,900  \n",
       "\n",
       "[846 rows x 9 columns]"
      ]
     },
     "execution_count": 263,
     "metadata": {},
     "output_type": "execute_result"
    }
   ],
   "source": [
    "frames1=[df,job7] #concatinating frames\n",
    "df1=pd.concat(frames1)\n",
    "df1"
   ]
  },
  {
   "cell_type": "code",
   "execution_count": 264,
   "id": "15d9667f",
   "metadata": {},
   "outputs": [],
   "source": [
    "#extracting data from yatra.com from bangalore to chennai\n",
    "driver.get(\"https://flight.yatra.com/air-search-ui/seodom/trigger?ADT=1&CHD=0&INF=0&class=Economy&destination=MAA&destinationCountry=IN&flexi=0&flight_depart_date=24%2F03%2F2022&hb=0&noOfSegments=1&origin=BLR&originCountry=IN&type=O&unique=194977786833&version=1.1&viewName=normal\")"
   ]
  },
  {
   "cell_type": "code",
   "execution_count": 265,
   "id": "6b96bf00",
   "metadata": {},
   "outputs": [],
   "source": [
    "flightname8=[] #airline name\n",
    "name=driver.find_elements_by_xpath(\"//span[@class='i-b text ellipsis']\")\n",
    "for i in name:\n",
    "    flightname8.append(i.text)"
   ]
  },
  {
   "cell_type": "code",
   "execution_count": 266,
   "id": "d6684ce8",
   "metadata": {},
   "outputs": [
    {
     "data": {
      "text/plain": [
       "80"
      ]
     },
     "execution_count": 266,
     "metadata": {},
     "output_type": "execute_result"
    }
   ],
   "source": [
    "len(flightname8)"
   ]
  },
  {
   "cell_type": "code",
   "execution_count": 267,
   "id": "81dc9555",
   "metadata": {},
   "outputs": [],
   "source": [
    "time9=[] #departure time\n",
    "tim=driver.find_elements_by_xpath(\"//div[@class='i-b pr']\")\n",
    "for i in tim:\n",
    "    time9.append(i.text)"
   ]
  },
  {
   "cell_type": "code",
   "execution_count": 268,
   "id": "f32efd20",
   "metadata": {},
   "outputs": [
    {
     "data": {
      "text/plain": [
       "['07:30', '14:05', '16:15', '22:55', '18:15']"
      ]
     },
     "execution_count": 268,
     "metadata": {},
     "output_type": "execute_result"
    }
   ],
   "source": [
    "time9[:5]"
   ]
  },
  {
   "cell_type": "code",
   "execution_count": 269,
   "id": "162d80f4",
   "metadata": {},
   "outputs": [],
   "source": [
    "artime9=[]  #Arrival Time\n",
    "ar=driver.find_elements_by_xpath(\"//p[@class='bold fs-15 mb-2 pr time']\")\n",
    "for i in ar:\n",
    "    artime9.append(i.text.replace(\"\\n\",\" \"))"
   ]
  },
  {
   "cell_type": "code",
   "execution_count": 270,
   "id": "5904b55f",
   "metadata": {},
   "outputs": [
    {
     "data": {
      "text/plain": [
       "['08:30', '15:05', '17:25', '23:45', '19:15']"
      ]
     },
     "execution_count": 270,
     "metadata": {},
     "output_type": "execute_result"
    }
   ],
   "source": [
    "artime9[:5]"
   ]
  },
  {
   "cell_type": "code",
   "execution_count": 271,
   "id": "8e7595ab",
   "metadata": {},
   "outputs": [],
   "source": [
    "source16=[]  #Source from where the flight take off\n",
    "sou=driver.find_elements_by_xpath(\"//p[@class='fs-10 font-lightgrey no-wrap city ellipsis']\")\n",
    "for i in sou:\n",
    "    source16.append(i.text)"
   ]
  },
  {
   "cell_type": "code",
   "execution_count": 272,
   "id": "fe01732d",
   "metadata": {},
   "outputs": [
    {
     "data": {
      "text/plain": [
       "['Bangalore', 'Bangalore', 'Bangalore', 'Bangalore', 'Bangalore']"
      ]
     },
     "execution_count": 272,
     "metadata": {},
     "output_type": "execute_result"
    }
   ],
   "source": [
    "source17=source16[::2]\n",
    "source17[:5]"
   ]
  },
  {
   "cell_type": "code",
   "execution_count": 273,
   "id": "4c191d19",
   "metadata": {},
   "outputs": [
    {
     "data": {
      "text/plain": [
       "['Chennai', 'Chennai', 'Chennai', 'Chennai', 'Chennai']"
      ]
     },
     "execution_count": 273,
     "metadata": {},
     "output_type": "execute_result"
    }
   ],
   "source": [
    "destination6=source16[1::2]\n",
    "destination6[:5]"
   ]
  },
  {
   "cell_type": "code",
   "execution_count": 274,
   "id": "dde513e4",
   "metadata": {},
   "outputs": [],
   "source": [
    "duration8=[]  #duration of the flight\n",
    "dura=driver.find_elements_by_xpath(\"//p[@class='fs-12 bold du mb-2']\")\n",
    "for i in dura:\n",
    "    duration8.append(i.text)"
   ]
  },
  {
   "cell_type": "code",
   "execution_count": 275,
   "id": "a401ed63",
   "metadata": {},
   "outputs": [
    {
     "data": {
      "text/plain": [
       "['1h 00m', '1h 00m', '1h 10m', '0h 50m', '1h 00m']"
      ]
     },
     "execution_count": 275,
     "metadata": {},
     "output_type": "execute_result"
    }
   ],
   "source": [
    "duration8[:5]"
   ]
  },
  {
   "cell_type": "code",
   "execution_count": 276,
   "id": "10b928a3",
   "metadata": {},
   "outputs": [],
   "source": [
    "stop9=[]  #number of stops\n",
    "st=driver.find_elements_by_xpath(\"//div[@class=' font-lightgrey fs-10 tipsy i-b fs-10']/span\")\n",
    "for i in st:\n",
    "    stop9.append(i.text)"
   ]
  },
  {
   "cell_type": "code",
   "execution_count": 277,
   "id": "0f93955d",
   "metadata": {},
   "outputs": [
    {
     "data": {
      "text/plain": [
       "['Non Stop', 'Non Stop', 'Non Stop', 'Non Stop', 'Non Stop']"
      ]
     },
     "execution_count": 277,
     "metadata": {},
     "output_type": "execute_result"
    }
   ],
   "source": [
    "stop9[:5]"
   ]
  },
  {
   "cell_type": "code",
   "execution_count": 278,
   "id": "ab7a7aeb",
   "metadata": {},
   "outputs": [],
   "source": [
    "price8=[]  #price of the flight\n",
    "pr=driver.find_elements_by_xpath(\"//div[@class='i-b tipsy fare-summary-tooltip fs-18']\")\n",
    "for i in pr:\n",
    "    price8.append(i.text)"
   ]
  },
  {
   "cell_type": "code",
   "execution_count": 279,
   "id": "5090a2a8",
   "metadata": {},
   "outputs": [
    {
     "data": {
      "text/plain": [
       "['1,603', '1,603', '1,603', '1,604', '1,604']"
      ]
     },
     "execution_count": 279,
     "metadata": {},
     "output_type": "execute_result"
    }
   ],
   "source": [
    "price8[:5]"
   ]
  },
  {
   "cell_type": "code",
   "execution_count": 280,
   "id": "4f62e11e",
   "metadata": {},
   "outputs": [],
   "source": [
    "list_count=0 #iterating over the each row of the flight and clicking on flight details and fetching date of journey\n",
    "date16=[]\n",
    "while(list_count<170):\n",
    "    \n",
    "   \n",
    "    if(list_count>170):\n",
    "        break\n",
    "    else:\n",
    "        list_count +=1\n",
    "    try:\n",
    "        date=driver.find_elements_by_xpath(\"//div[@class='link-color fs-12 cursor-pointer']\")\n",
    "        date[list_count].click()\n",
    "        time.sleep(5)\n",
    "    except:\n",
    "        pass\n",
    "    finally:\n",
    "        da=driver.find_elements_by_xpath(\"//div[@class='bold fs-12 mb-5']\")\n",
    "        for i in da:\n",
    "            date16.append(i.text)"
   ]
  },
  {
   "cell_type": "code",
   "execution_count": 281,
   "id": "c60fbc8f",
   "metadata": {},
   "outputs": [],
   "source": [
    "date17=date16[0:80]"
   ]
  },
  {
   "cell_type": "code",
   "execution_count": 282,
   "id": "729600da",
   "metadata": {},
   "outputs": [
    {
     "data": {
      "text/plain": [
       "80"
      ]
     },
     "execution_count": 282,
     "metadata": {},
     "output_type": "execute_result"
    }
   ],
   "source": [
    "len(date17)"
   ]
  },
  {
   "cell_type": "code",
   "execution_count": 283,
   "id": "30120b85",
   "metadata": {},
   "outputs": [
    {
     "data": {
      "text/html": [
       "<div>\n",
       "<style scoped>\n",
       "    .dataframe tbody tr th:only-of-type {\n",
       "        vertical-align: middle;\n",
       "    }\n",
       "\n",
       "    .dataframe tbody tr th {\n",
       "        vertical-align: top;\n",
       "    }\n",
       "\n",
       "    .dataframe thead th {\n",
       "        text-align: right;\n",
       "    }\n",
       "</style>\n",
       "<table border=\"1\" class=\"dataframe\">\n",
       "  <thead>\n",
       "    <tr style=\"text-align: right;\">\n",
       "      <th></th>\n",
       "      <th>Airline</th>\n",
       "      <th>Source</th>\n",
       "      <th>Date of Journey</th>\n",
       "      <th>Destination</th>\n",
       "      <th>Departure</th>\n",
       "      <th>Arrival</th>\n",
       "      <th>Duration</th>\n",
       "      <th>Stops</th>\n",
       "      <th>Price</th>\n",
       "    </tr>\n",
       "  </thead>\n",
       "  <tbody>\n",
       "    <tr>\n",
       "      <th>0</th>\n",
       "      <td>Air Asia</td>\n",
       "      <td>Bangalore</td>\n",
       "      <td>Thu, 24 Mar 2022</td>\n",
       "      <td>Chennai</td>\n",
       "      <td>07:30</td>\n",
       "      <td>08:30</td>\n",
       "      <td>1h 00m</td>\n",
       "      <td>Non Stop</td>\n",
       "      <td>1,603</td>\n",
       "    </tr>\n",
       "    <tr>\n",
       "      <th>1</th>\n",
       "      <td>Air Asia</td>\n",
       "      <td>Bangalore</td>\n",
       "      <td>Thu, 24 Mar 2022</td>\n",
       "      <td>Chennai</td>\n",
       "      <td>14:05</td>\n",
       "      <td>15:05</td>\n",
       "      <td>1h 00m</td>\n",
       "      <td>Non Stop</td>\n",
       "      <td>1,603</td>\n",
       "    </tr>\n",
       "    <tr>\n",
       "      <th>2</th>\n",
       "      <td>Air Asia</td>\n",
       "      <td>Bangalore</td>\n",
       "      <td>Thu, 24 Mar 2022</td>\n",
       "      <td>Chennai</td>\n",
       "      <td>16:15</td>\n",
       "      <td>17:25</td>\n",
       "      <td>1h 10m</td>\n",
       "      <td>Non Stop</td>\n",
       "      <td>1,603</td>\n",
       "    </tr>\n",
       "    <tr>\n",
       "      <th>3</th>\n",
       "      <td>IndiGo</td>\n",
       "      <td>Bangalore</td>\n",
       "      <td>Thu, 24 Mar 2022</td>\n",
       "      <td>Chennai</td>\n",
       "      <td>22:55</td>\n",
       "      <td>23:45</td>\n",
       "      <td>0h 50m</td>\n",
       "      <td>Non Stop</td>\n",
       "      <td>1,604</td>\n",
       "    </tr>\n",
       "    <tr>\n",
       "      <th>4</th>\n",
       "      <td>IndiGo</td>\n",
       "      <td>Bangalore</td>\n",
       "      <td>Thu, 24 Mar 2022</td>\n",
       "      <td>Chennai</td>\n",
       "      <td>18:15</td>\n",
       "      <td>19:15</td>\n",
       "      <td>1h 00m</td>\n",
       "      <td>Non Stop</td>\n",
       "      <td>1,604</td>\n",
       "    </tr>\n",
       "    <tr>\n",
       "      <th>...</th>\n",
       "      <td>...</td>\n",
       "      <td>...</td>\n",
       "      <td>...</td>\n",
       "      <td>...</td>\n",
       "      <td>...</td>\n",
       "      <td>...</td>\n",
       "      <td>...</td>\n",
       "      <td>...</td>\n",
       "      <td>...</td>\n",
       "    </tr>\n",
       "    <tr>\n",
       "      <th>75</th>\n",
       "      <td>Vistara</td>\n",
       "      <td>Bangalore</td>\n",
       "      <td>Thu, 24 Mar 2022</td>\n",
       "      <td>Chennai</td>\n",
       "      <td>09:45</td>\n",
       "      <td>19:55</td>\n",
       "      <td>10h 10m</td>\n",
       "      <td>2 Stop(s)</td>\n",
       "      <td>6,774</td>\n",
       "    </tr>\n",
       "    <tr>\n",
       "      <th>76</th>\n",
       "      <td>Vistara</td>\n",
       "      <td>Bangalore</td>\n",
       "      <td>Thu, 24 Mar 2022</td>\n",
       "      <td>Chennai</td>\n",
       "      <td>11:30</td>\n",
       "      <td>23:05</td>\n",
       "      <td>11h 35m</td>\n",
       "      <td>2 Stop(s)</td>\n",
       "      <td>6,774</td>\n",
       "    </tr>\n",
       "    <tr>\n",
       "      <th>77</th>\n",
       "      <td>Vistara</td>\n",
       "      <td>Bangalore</td>\n",
       "      <td>Thu, 24 Mar 2022</td>\n",
       "      <td>Chennai</td>\n",
       "      <td>11:30</td>\n",
       "      <td>20:15</td>\n",
       "      <td>8h 45m</td>\n",
       "      <td>2 Stop(s)</td>\n",
       "      <td>7,257</td>\n",
       "    </tr>\n",
       "    <tr>\n",
       "      <th>78</th>\n",
       "      <td>Vistara</td>\n",
       "      <td>Bangalore</td>\n",
       "      <td>Thu, 24 Mar 2022</td>\n",
       "      <td>Chennai</td>\n",
       "      <td>11:30</td>\n",
       "      <td>22:45</td>\n",
       "      <td>11h 15m</td>\n",
       "      <td>2 Stop(s)</td>\n",
       "      <td>7,257</td>\n",
       "    </tr>\n",
       "    <tr>\n",
       "      <th>79</th>\n",
       "      <td>Vistara</td>\n",
       "      <td>Bangalore</td>\n",
       "      <td>Thu, 24 Mar 2022</td>\n",
       "      <td>Chennai</td>\n",
       "      <td>11:30</td>\n",
       "      <td>23:05</td>\n",
       "      <td>11h 35m</td>\n",
       "      <td>2 Stop(s)</td>\n",
       "      <td>7,464</td>\n",
       "    </tr>\n",
       "  </tbody>\n",
       "</table>\n",
       "<p>80 rows × 9 columns</p>\n",
       "</div>"
      ],
      "text/plain": [
       "     Airline     Source   Date of Journey Destination Departure Arrival  \\\n",
       "0   Air Asia  Bangalore  Thu, 24 Mar 2022     Chennai     07:30   08:30   \n",
       "1   Air Asia  Bangalore  Thu, 24 Mar 2022     Chennai     14:05   15:05   \n",
       "2   Air Asia  Bangalore  Thu, 24 Mar 2022     Chennai     16:15   17:25   \n",
       "3     IndiGo  Bangalore  Thu, 24 Mar 2022     Chennai     22:55   23:45   \n",
       "4     IndiGo  Bangalore  Thu, 24 Mar 2022     Chennai     18:15   19:15   \n",
       "..       ...        ...               ...         ...       ...     ...   \n",
       "75   Vistara  Bangalore  Thu, 24 Mar 2022     Chennai     09:45   19:55   \n",
       "76   Vistara  Bangalore  Thu, 24 Mar 2022     Chennai     11:30   23:05   \n",
       "77   Vistara  Bangalore  Thu, 24 Mar 2022     Chennai     11:30   20:15   \n",
       "78   Vistara  Bangalore  Thu, 24 Mar 2022     Chennai     11:30   22:45   \n",
       "79   Vistara  Bangalore  Thu, 24 Mar 2022     Chennai     11:30   23:05   \n",
       "\n",
       "   Duration      Stops  Price  \n",
       "0    1h 00m   Non Stop  1,603  \n",
       "1    1h 00m   Non Stop  1,603  \n",
       "2    1h 10m   Non Stop  1,603  \n",
       "3    0h 50m   Non Stop  1,604  \n",
       "4    1h 00m   Non Stop  1,604  \n",
       "..      ...        ...    ...  \n",
       "75  10h 10m  2 Stop(s)  6,774  \n",
       "76  11h 35m  2 Stop(s)  6,774  \n",
       "77   8h 45m  2 Stop(s)  7,257  \n",
       "78  11h 15m  2 Stop(s)  7,257  \n",
       "79  11h 35m  2 Stop(s)  7,464  \n",
       "\n",
       "[80 rows x 9 columns]"
      ]
     },
     "execution_count": 283,
     "metadata": {},
     "output_type": "execute_result"
    }
   ],
   "source": [
    "job8=pd.DataFrame({})  #creating the dataframe and saving it in different titles.\n",
    "job8['Airline']=flightname8\n",
    "job8['Source']=source17\n",
    "job8['Date of Journey']=date17\n",
    "job8['Destination']=destination6\n",
    "job8['Departure']=time9\n",
    "job8['Arrival']=artime9\n",
    "job8['Duration']=duration8\n",
    "job8['Stops']=stop9\n",
    "job8['Price']=price8\n",
    "job8"
   ]
  },
  {
   "cell_type": "code",
   "execution_count": 284,
   "id": "27f232af",
   "metadata": {},
   "outputs": [],
   "source": [
    "#extracting data from yarta.com  from banaglaore to mumbai location\n",
    "driver.get(\"https://flight.yatra.com/air-search-ui/seodom/trigger?ADT=1&CHD=0&INF=0&class=Economy&destination=BOM&destinationCountry=IN&flexi=0&flight_depart_date=02%2F04%2F2022&hb=0&noOfSegments=1&origin=BLR&originCountry=IN&type=O&unique=940882989203&version=1.1&viewName=normal\")"
   ]
  },
  {
   "cell_type": "code",
   "execution_count": 285,
   "id": "470c23b0",
   "metadata": {},
   "outputs": [],
   "source": [
    "flightname9=[] #airline name\n",
    "name=driver.find_elements_by_xpath(\"//span[@class='i-b text ellipsis']\")\n",
    "for i in name:\n",
    "    flightname9.append(i.text)"
   ]
  },
  {
   "cell_type": "code",
   "execution_count": 286,
   "id": "c9a12c9f",
   "metadata": {},
   "outputs": [
    {
     "data": {
      "text/plain": [
       "143"
      ]
     },
     "execution_count": 286,
     "metadata": {},
     "output_type": "execute_result"
    }
   ],
   "source": [
    "len(flightname9)"
   ]
  },
  {
   "cell_type": "code",
   "execution_count": 287,
   "id": "a47a77ab",
   "metadata": {},
   "outputs": [],
   "source": [
    "time10=[] #departure time\n",
    "tim=driver.find_elements_by_xpath(\"//div[@class='i-b pr']\")\n",
    "for i in tim:\n",
    "    time10.append(i.text)"
   ]
  },
  {
   "cell_type": "code",
   "execution_count": 288,
   "id": "ba1063e5",
   "metadata": {},
   "outputs": [
    {
     "data": {
      "text/plain": [
       "['06:30', '18:55', '05:35', '05:45', '08:20']"
      ]
     },
     "execution_count": 288,
     "metadata": {},
     "output_type": "execute_result"
    }
   ],
   "source": [
    "time10[:5]"
   ]
  },
  {
   "cell_type": "code",
   "execution_count": 289,
   "id": "b407766c",
   "metadata": {},
   "outputs": [],
   "source": [
    "artime10=[]  #Arrival Time\n",
    "ar=driver.find_elements_by_xpath(\"//p[@class='bold fs-15 mb-2 pr time']\")\n",
    "for i in ar:\n",
    "    artime10.append(i.text.replace(\"\\n\",\" \"))"
   ]
  },
  {
   "cell_type": "code",
   "execution_count": 290,
   "id": "568170b9",
   "metadata": {},
   "outputs": [
    {
     "data": {
      "text/plain": [
       "['08:15', '20:55', '07:15', '07:25', '10:05']"
      ]
     },
     "execution_count": 290,
     "metadata": {},
     "output_type": "execute_result"
    }
   ],
   "source": [
    "artime10[:5]"
   ]
  },
  {
   "cell_type": "code",
   "execution_count": 291,
   "id": "3d76a311",
   "metadata": {},
   "outputs": [],
   "source": [
    "source18=[]  #Source from where the flight take off\n",
    "sou=driver.find_elements_by_xpath(\"//p[@class='fs-10 font-lightgrey no-wrap city ellipsis']\")\n",
    "for i in sou:\n",
    "    source18.append(i.text)"
   ]
  },
  {
   "cell_type": "code",
   "execution_count": 292,
   "id": "b18bd9ea",
   "metadata": {},
   "outputs": [
    {
     "data": {
      "text/plain": [
       "['Bangalore', 'Bangalore', 'Bangalore', 'Bangalore', 'Bangalore']"
      ]
     },
     "execution_count": 292,
     "metadata": {},
     "output_type": "execute_result"
    }
   ],
   "source": [
    "source19=source18[::2]\n",
    "source19[:5]"
   ]
  },
  {
   "cell_type": "code",
   "execution_count": 294,
   "id": "cc6974e7",
   "metadata": {},
   "outputs": [
    {
     "data": {
      "text/plain": [
       "['Mumbai', 'Mumbai', 'Mumbai', 'Mumbai', 'Mumbai']"
      ]
     },
     "execution_count": 294,
     "metadata": {},
     "output_type": "execute_result"
    }
   ],
   "source": [
    "destination7=source18[1::2]\n",
    "destination7[:5]"
   ]
  },
  {
   "cell_type": "code",
   "execution_count": 295,
   "id": "8530ba67",
   "metadata": {},
   "outputs": [],
   "source": [
    "duration9=[]  #duration of the flight\n",
    "dura=driver.find_elements_by_xpath(\"//p[@class='fs-12 bold du mb-2']\")\n",
    "for i in dura:\n",
    "    duration9.append(i.text)"
   ]
  },
  {
   "cell_type": "code",
   "execution_count": 296,
   "id": "df055a40",
   "metadata": {},
   "outputs": [
    {
     "data": {
      "text/plain": [
       "['1h 45m', '2h 00m', '1h 40m', '1h 40m', '1h 45m']"
      ]
     },
     "execution_count": 296,
     "metadata": {},
     "output_type": "execute_result"
    }
   ],
   "source": [
    "duration9[:5]"
   ]
  },
  {
   "cell_type": "code",
   "execution_count": 297,
   "id": "f077fcdd",
   "metadata": {},
   "outputs": [],
   "source": [
    "stop10=[]  #number of stops\n",
    "st=driver.find_elements_by_xpath(\"//div[@class=' font-lightgrey fs-10 tipsy i-b fs-10']/span\")\n",
    "for i in st:\n",
    "    stop10.append(i.text)"
   ]
  },
  {
   "cell_type": "code",
   "execution_count": 298,
   "id": "c070eded",
   "metadata": {},
   "outputs": [
    {
     "data": {
      "text/plain": [
       "['Non Stop', 'Non Stop', 'Non Stop', 'Non Stop', 'Non Stop']"
      ]
     },
     "execution_count": 298,
     "metadata": {},
     "output_type": "execute_result"
    }
   ],
   "source": [
    "stop10[:5]"
   ]
  },
  {
   "cell_type": "code",
   "execution_count": 299,
   "id": "18e9eaf7",
   "metadata": {},
   "outputs": [],
   "source": [
    "price9=[]  #price of the flight\n",
    "pr=driver.find_elements_by_xpath(\"//div[@class='i-b tipsy fare-summary-tooltip fs-18']\")\n",
    "for i in pr:\n",
    "    price9.append(i.text)"
   ]
  },
  {
   "cell_type": "code",
   "execution_count": 300,
   "id": "aa18d559",
   "metadata": {},
   "outputs": [
    {
     "data": {
      "text/plain": [
       "['2,200', '2,200', '2,201', '2,201', '2,201']"
      ]
     },
     "execution_count": 300,
     "metadata": {},
     "output_type": "execute_result"
    }
   ],
   "source": [
    "price9[:5]"
   ]
  },
  {
   "cell_type": "code",
   "execution_count": 301,
   "id": "39c59f35",
   "metadata": {},
   "outputs": [],
   "source": [
    "list_count=0 #iterating over the each row of the flight and clicking on flight details and fetching date of journey\n",
    "date18=[]\n",
    "while(list_count<170):\n",
    "    \n",
    "   \n",
    "    if(list_count>170):\n",
    "        break\n",
    "    else:\n",
    "        list_count +=1\n",
    "    try:\n",
    "        date=driver.find_elements_by_xpath(\"//div[@class='link-color fs-12 cursor-pointer']\")\n",
    "        date[list_count].click()\n",
    "        time.sleep(5)\n",
    "    except:\n",
    "        pass\n",
    "    finally:\n",
    "        da=driver.find_elements_by_xpath(\"//div[@class='bold fs-12 mb-5']\")\n",
    "        for i in da:\n",
    "            date18.append(i.text)"
   ]
  },
  {
   "cell_type": "code",
   "execution_count": 302,
   "id": "d3c86100",
   "metadata": {},
   "outputs": [
    {
     "data": {
      "text/plain": [
       "143"
      ]
     },
     "execution_count": 302,
     "metadata": {},
     "output_type": "execute_result"
    }
   ],
   "source": [
    "date19=date18[0:143]\n",
    "len(date19)"
   ]
  },
  {
   "cell_type": "code",
   "execution_count": 328,
   "id": "829b6d0f",
   "metadata": {},
   "outputs": [
    {
     "data": {
      "text/html": [
       "<div>\n",
       "<style scoped>\n",
       "    .dataframe tbody tr th:only-of-type {\n",
       "        vertical-align: middle;\n",
       "    }\n",
       "\n",
       "    .dataframe tbody tr th {\n",
       "        vertical-align: top;\n",
       "    }\n",
       "\n",
       "    .dataframe thead th {\n",
       "        text-align: right;\n",
       "    }\n",
       "</style>\n",
       "<table border=\"1\" class=\"dataframe\">\n",
       "  <thead>\n",
       "    <tr style=\"text-align: right;\">\n",
       "      <th></th>\n",
       "      <th>Airline</th>\n",
       "      <th>Source</th>\n",
       "      <th>Date of Journey</th>\n",
       "      <th>Destination</th>\n",
       "      <th>Departure</th>\n",
       "      <th>Arrival</th>\n",
       "      <th>Duration</th>\n",
       "      <th>Stops</th>\n",
       "      <th>Price</th>\n",
       "    </tr>\n",
       "  </thead>\n",
       "  <tbody>\n",
       "    <tr>\n",
       "      <th>0</th>\n",
       "      <td>SpiceJet</td>\n",
       "      <td>Bangalore</td>\n",
       "      <td>Sat, 2 Apr 2022</td>\n",
       "      <td>Mumbai</td>\n",
       "      <td>06:30</td>\n",
       "      <td>08:15</td>\n",
       "      <td>1h 45m</td>\n",
       "      <td>Non Stop</td>\n",
       "      <td>2,200</td>\n",
       "    </tr>\n",
       "    <tr>\n",
       "      <th>1</th>\n",
       "      <td>SpiceJet</td>\n",
       "      <td>Bangalore</td>\n",
       "      <td>Sat, 2 Apr 2022</td>\n",
       "      <td>Mumbai</td>\n",
       "      <td>18:55</td>\n",
       "      <td>20:55</td>\n",
       "      <td>2h 00m</td>\n",
       "      <td>Non Stop</td>\n",
       "      <td>2,200</td>\n",
       "    </tr>\n",
       "    <tr>\n",
       "      <th>2</th>\n",
       "      <td>Air Asia</td>\n",
       "      <td>Bangalore</td>\n",
       "      <td>Sat, 2 Apr 2022</td>\n",
       "      <td>Mumbai</td>\n",
       "      <td>05:35</td>\n",
       "      <td>07:15</td>\n",
       "      <td>1h 40m</td>\n",
       "      <td>Non Stop</td>\n",
       "      <td>2,201</td>\n",
       "    </tr>\n",
       "    <tr>\n",
       "      <th>3</th>\n",
       "      <td>Go First</td>\n",
       "      <td>Bangalore</td>\n",
       "      <td>Sat, 2 Apr 2022</td>\n",
       "      <td>Mumbai</td>\n",
       "      <td>05:45</td>\n",
       "      <td>07:25</td>\n",
       "      <td>1h 40m</td>\n",
       "      <td>Non Stop</td>\n",
       "      <td>2,201</td>\n",
       "    </tr>\n",
       "    <tr>\n",
       "      <th>4</th>\n",
       "      <td>Go First</td>\n",
       "      <td>Bangalore</td>\n",
       "      <td>Sat, 2 Apr 2022</td>\n",
       "      <td>Mumbai</td>\n",
       "      <td>08:20</td>\n",
       "      <td>10:05</td>\n",
       "      <td>1h 45m</td>\n",
       "      <td>Non Stop</td>\n",
       "      <td>2,201</td>\n",
       "    </tr>\n",
       "    <tr>\n",
       "      <th>...</th>\n",
       "      <td>...</td>\n",
       "      <td>...</td>\n",
       "      <td>...</td>\n",
       "      <td>...</td>\n",
       "      <td>...</td>\n",
       "      <td>...</td>\n",
       "      <td>...</td>\n",
       "      <td>...</td>\n",
       "      <td>...</td>\n",
       "    </tr>\n",
       "    <tr>\n",
       "      <th>138</th>\n",
       "      <td>Go First</td>\n",
       "      <td>Bangalore</td>\n",
       "      <td>Sat, 2 Apr 2022</td>\n",
       "      <td>Mumbai</td>\n",
       "      <td>09:20</td>\n",
       "      <td>16:55</td>\n",
       "      <td>7h 35m</td>\n",
       "      <td>1 Stop</td>\n",
       "      <td>7,394</td>\n",
       "    </tr>\n",
       "    <tr>\n",
       "      <th>139</th>\n",
       "      <td>Vistara</td>\n",
       "      <td>Bangalore</td>\n",
       "      <td>Sat, 2 Apr 2022</td>\n",
       "      <td>Mumbai</td>\n",
       "      <td>08:00</td>\n",
       "      <td>18:20</td>\n",
       "      <td>10h 20m</td>\n",
       "      <td>2 Stop(s)</td>\n",
       "      <td>7,670</td>\n",
       "    </tr>\n",
       "    <tr>\n",
       "      <th>140</th>\n",
       "      <td>Vistara</td>\n",
       "      <td>Bangalore</td>\n",
       "      <td>Sat, 2 Apr 2022</td>\n",
       "      <td>Mumbai</td>\n",
       "      <td>07:00</td>\n",
       "      <td>18:20</td>\n",
       "      <td>11h 20m</td>\n",
       "      <td>2 Stop(s)</td>\n",
       "      <td>7,670</td>\n",
       "    </tr>\n",
       "    <tr>\n",
       "      <th>141</th>\n",
       "      <td>Vistara</td>\n",
       "      <td>Bangalore</td>\n",
       "      <td>Sat, 2 Apr 2022</td>\n",
       "      <td>Mumbai</td>\n",
       "      <td>21:10</td>\n",
       "      <td>13:00 + 1 day</td>\n",
       "      <td>15h 50m</td>\n",
       "      <td>2 Stop(s)</td>\n",
       "      <td>7,782</td>\n",
       "    </tr>\n",
       "    <tr>\n",
       "      <th>142</th>\n",
       "      <td>Vistara</td>\n",
       "      <td>Bangalore</td>\n",
       "      <td>Sat, 2 Apr 2022</td>\n",
       "      <td>Mumbai</td>\n",
       "      <td>09:45</td>\n",
       "      <td>18:20</td>\n",
       "      <td>8h 35m</td>\n",
       "      <td>2 Stop(s)</td>\n",
       "      <td>12,193</td>\n",
       "    </tr>\n",
       "  </tbody>\n",
       "</table>\n",
       "<p>143 rows × 9 columns</p>\n",
       "</div>"
      ],
      "text/plain": [
       "      Airline     Source  Date of Journey Destination Departure  \\\n",
       "0    SpiceJet  Bangalore  Sat, 2 Apr 2022      Mumbai     06:30   \n",
       "1    SpiceJet  Bangalore  Sat, 2 Apr 2022      Mumbai     18:55   \n",
       "2    Air Asia  Bangalore  Sat, 2 Apr 2022      Mumbai     05:35   \n",
       "3    Go First  Bangalore  Sat, 2 Apr 2022      Mumbai     05:45   \n",
       "4    Go First  Bangalore  Sat, 2 Apr 2022      Mumbai     08:20   \n",
       "..        ...        ...              ...         ...       ...   \n",
       "138  Go First  Bangalore  Sat, 2 Apr 2022      Mumbai     09:20   \n",
       "139   Vistara  Bangalore  Sat, 2 Apr 2022      Mumbai     08:00   \n",
       "140   Vistara  Bangalore  Sat, 2 Apr 2022      Mumbai     07:00   \n",
       "141   Vistara  Bangalore  Sat, 2 Apr 2022      Mumbai     21:10   \n",
       "142   Vistara  Bangalore  Sat, 2 Apr 2022      Mumbai     09:45   \n",
       "\n",
       "           Arrival Duration      Stops   Price  \n",
       "0            08:15   1h 45m   Non Stop   2,200  \n",
       "1            20:55   2h 00m   Non Stop   2,200  \n",
       "2            07:15   1h 40m   Non Stop   2,201  \n",
       "3            07:25   1h 40m   Non Stop   2,201  \n",
       "4            10:05   1h 45m   Non Stop   2,201  \n",
       "..             ...      ...        ...     ...  \n",
       "138          16:55   7h 35m     1 Stop   7,394  \n",
       "139          18:20  10h 20m  2 Stop(s)   7,670  \n",
       "140          18:20  11h 20m  2 Stop(s)   7,670  \n",
       "141  13:00 + 1 day  15h 50m  2 Stop(s)   7,782  \n",
       "142          18:20   8h 35m  2 Stop(s)  12,193  \n",
       "\n",
       "[143 rows x 9 columns]"
      ]
     },
     "execution_count": 328,
     "metadata": {},
     "output_type": "execute_result"
    }
   ],
   "source": [
    "job9=pd.DataFrame({})  #creating the dataframe and saving it in different titles.\n",
    "job9['Airline']=flightname9\n",
    "job9['Source']=source19\n",
    "job9['Date of Journey']=date19\n",
    "job9['Destination']=destination7\n",
    "job9['Departure']=time10\n",
    "job9['Arrival']=artime10\n",
    "job9['Duration']=duration9\n",
    "job9['Stops']=stop10\n",
    "job9['Price']=price9\n",
    "job9"
   ]
  },
  {
   "cell_type": "code",
   "execution_count": 304,
   "id": "7703938a",
   "metadata": {},
   "outputs": [],
   "source": [
    "#extracting data from yatra.com mumbai and bangalore\n",
    "driver.get(\"https://flight.yatra.com/air-search-ui/seodom/trigger?ADT=1&CHD=0&INF=0&class=Economy&destination=BLR&destinationCountry=IN&flexi=0&flight_depart_date=01%2F03%2F2022&hb=0&noOfSegments=1&origin=BOM&originCountry=IN&type=O&unique=1161159546777&version=1.1&viewName=normal\")"
   ]
  },
  {
   "cell_type": "code",
   "execution_count": 305,
   "id": "6c89d42f",
   "metadata": {},
   "outputs": [],
   "source": [
    "flightname10=[] #airline name\n",
    "name=driver.find_elements_by_xpath(\"//span[@class='i-b text ellipsis']\")\n",
    "for i in name:\n",
    "    flightname10.append(i.text)"
   ]
  },
  {
   "cell_type": "code",
   "execution_count": 306,
   "id": "95d63e12",
   "metadata": {},
   "outputs": [
    {
     "data": {
      "text/plain": [
       "142"
      ]
     },
     "execution_count": 306,
     "metadata": {},
     "output_type": "execute_result"
    }
   ],
   "source": [
    "len(flightname10)"
   ]
  },
  {
   "cell_type": "code",
   "execution_count": 307,
   "id": "2ef8b70f",
   "metadata": {},
   "outputs": [],
   "source": [
    "time11=[] #departure time\n",
    "tim=driver.find_elements_by_xpath(\"//div[@class='i-b pr']\")\n",
    "for i in tim:\n",
    "    time11.append(i.text)"
   ]
  },
  {
   "cell_type": "code",
   "execution_count": 308,
   "id": "d813a380",
   "metadata": {},
   "outputs": [
    {
     "data": {
      "text/plain": [
       "['06:05', '06:55', '08:30', '14:35', '10:15']"
      ]
     },
     "execution_count": 308,
     "metadata": {},
     "output_type": "execute_result"
    }
   ],
   "source": [
    "time11[:5]"
   ]
  },
  {
   "cell_type": "code",
   "execution_count": 309,
   "id": "f47ac536",
   "metadata": {},
   "outputs": [],
   "source": [
    "artime11=[]  #Arrival Time\n",
    "ar=driver.find_elements_by_xpath(\"//p[@class='bold fs-15 mb-2 pr time']\")\n",
    "for i in ar:\n",
    "    artime11.append(i.text.replace(\"\\n\",\" \"))"
   ]
  },
  {
   "cell_type": "code",
   "execution_count": 310,
   "id": "2c30c754",
   "metadata": {},
   "outputs": [
    {
     "data": {
      "text/plain": [
       "['07:40', '08:30', '10:05', '16:10', '11:55']"
      ]
     },
     "execution_count": 310,
     "metadata": {},
     "output_type": "execute_result"
    }
   ],
   "source": [
    "artime11[:5]"
   ]
  },
  {
   "cell_type": "code",
   "execution_count": 311,
   "id": "39d22756",
   "metadata": {},
   "outputs": [],
   "source": [
    "source20=[]  #Source from where the flight take off\n",
    "sou=driver.find_elements_by_xpath(\"//p[@class='fs-10 font-lightgrey no-wrap city ellipsis']\")\n",
    "for i in sou:\n",
    "    source20.append(i.text)"
   ]
  },
  {
   "cell_type": "code",
   "execution_count": 312,
   "id": "3102ff8d",
   "metadata": {},
   "outputs": [
    {
     "data": {
      "text/plain": [
       "['Mumbai', 'Mumbai', 'Mumbai', 'Mumbai', 'Mumbai']"
      ]
     },
     "execution_count": 312,
     "metadata": {},
     "output_type": "execute_result"
    }
   ],
   "source": [
    "source21=source20[::2]\n",
    "source21[:5]"
   ]
  },
  {
   "cell_type": "code",
   "execution_count": 313,
   "id": "87c88940",
   "metadata": {},
   "outputs": [
    {
     "data": {
      "text/plain": [
       "['Bangalore', 'Bangalore', 'Bangalore', 'Bangalore', 'Bangalore']"
      ]
     },
     "execution_count": 313,
     "metadata": {},
     "output_type": "execute_result"
    }
   ],
   "source": [
    "destination8=source20[1::2]\n",
    "destination8[:5]"
   ]
  },
  {
   "cell_type": "code",
   "execution_count": 314,
   "id": "e3d40a9e",
   "metadata": {},
   "outputs": [],
   "source": [
    "duration10=[]  #duration of the flight\n",
    "dura=driver.find_elements_by_xpath(\"//p[@class='fs-12 bold du mb-2']\")\n",
    "for i in dura:\n",
    "    duration10.append(i.text)"
   ]
  },
  {
   "cell_type": "code",
   "execution_count": 315,
   "id": "b0adab18",
   "metadata": {},
   "outputs": [
    {
     "data": {
      "text/plain": [
       "['1h 35m', '1h 35m', '1h 35m', '1h 35m', '1h 40m']"
      ]
     },
     "execution_count": 315,
     "metadata": {},
     "output_type": "execute_result"
    }
   ],
   "source": [
    "duration10[:5]"
   ]
  },
  {
   "cell_type": "code",
   "execution_count": 316,
   "id": "825c81d3",
   "metadata": {},
   "outputs": [],
   "source": [
    "stop11=[]  #number of stops\n",
    "st=driver.find_elements_by_xpath(\"//div[@class=' font-lightgrey fs-10 tipsy i-b fs-10']/span\")\n",
    "for i in st:\n",
    "    stop11.append(i.text)"
   ]
  },
  {
   "cell_type": "code",
   "execution_count": 317,
   "id": "04643ba6",
   "metadata": {},
   "outputs": [
    {
     "data": {
      "text/plain": [
       "['Non Stop', 'Non Stop', 'Non Stop', 'Non Stop', 'Non Stop']"
      ]
     },
     "execution_count": 317,
     "metadata": {},
     "output_type": "execute_result"
    }
   ],
   "source": [
    "stop11[:5]"
   ]
  },
  {
   "cell_type": "code",
   "execution_count": 318,
   "id": "f7b62abc",
   "metadata": {},
   "outputs": [],
   "source": [
    "price10=[]  #price of the flight\n",
    "pr=driver.find_elements_by_xpath(\"//div[@class='i-b tipsy fare-summary-tooltip fs-18']\")\n",
    "for i in pr:\n",
    "    price10.append(i.text)"
   ]
  },
  {
   "cell_type": "code",
   "execution_count": 319,
   "id": "2942eea2",
   "metadata": {},
   "outputs": [
    {
     "data": {
      "text/plain": [
       "['2,124', '2,124', '2,124', '2,124', '2,124']"
      ]
     },
     "execution_count": 319,
     "metadata": {},
     "output_type": "execute_result"
    }
   ],
   "source": [
    "price10[:5]"
   ]
  },
  {
   "cell_type": "code",
   "execution_count": 320,
   "id": "6a0e4b7b",
   "metadata": {},
   "outputs": [],
   "source": [
    "list_count=0 #iterating over the each row of the flight and clicking on flight details and fetching date of journey\n",
    "date20=[]\n",
    "while(list_count<170):\n",
    "    \n",
    "   \n",
    "    if(list_count>170):\n",
    "        break\n",
    "    else:\n",
    "        list_count +=1\n",
    "    try:\n",
    "        date=driver.find_elements_by_xpath(\"//div[@class='link-color fs-12 cursor-pointer']\")\n",
    "        date[list_count].click()\n",
    "        time.sleep(5)\n",
    "    except:\n",
    "        pass\n",
    "    finally:\n",
    "        da=driver.find_elements_by_xpath(\"//div[@class='bold fs-12 mb-5']\")\n",
    "        for i in da:\n",
    "            date20.append(i.text)"
   ]
  },
  {
   "cell_type": "code",
   "execution_count": 321,
   "id": "fffc7e93",
   "metadata": {},
   "outputs": [
    {
     "data": {
      "text/plain": [
       "142"
      ]
     },
     "execution_count": 321,
     "metadata": {},
     "output_type": "execute_result"
    }
   ],
   "source": [
    "date21=date20[0:142]\n",
    "len(date21)"
   ]
  },
  {
   "cell_type": "code",
   "execution_count": 327,
   "id": "a7473ec9",
   "metadata": {},
   "outputs": [
    {
     "data": {
      "text/html": [
       "<div>\n",
       "<style scoped>\n",
       "    .dataframe tbody tr th:only-of-type {\n",
       "        vertical-align: middle;\n",
       "    }\n",
       "\n",
       "    .dataframe tbody tr th {\n",
       "        vertical-align: top;\n",
       "    }\n",
       "\n",
       "    .dataframe thead th {\n",
       "        text-align: right;\n",
       "    }\n",
       "</style>\n",
       "<table border=\"1\" class=\"dataframe\">\n",
       "  <thead>\n",
       "    <tr style=\"text-align: right;\">\n",
       "      <th></th>\n",
       "      <th>Airline</th>\n",
       "      <th>Source</th>\n",
       "      <th>Date of Journey</th>\n",
       "      <th>Destination</th>\n",
       "      <th>Departure</th>\n",
       "      <th>Arrival</th>\n",
       "      <th>Duration</th>\n",
       "      <th>Stops</th>\n",
       "      <th>Price</th>\n",
       "    </tr>\n",
       "  </thead>\n",
       "  <tbody>\n",
       "    <tr>\n",
       "      <th>0</th>\n",
       "      <td>Go First</td>\n",
       "      <td>Mumbai</td>\n",
       "      <td>Tue, 1 Mar 2022</td>\n",
       "      <td>Bangalore</td>\n",
       "      <td>06:05</td>\n",
       "      <td>07:40</td>\n",
       "      <td>1h 35m</td>\n",
       "      <td>Non Stop</td>\n",
       "      <td>2,124</td>\n",
       "    </tr>\n",
       "    <tr>\n",
       "      <th>1</th>\n",
       "      <td>IndiGo</td>\n",
       "      <td>Mumbai</td>\n",
       "      <td>Tue, 1 Mar 2022</td>\n",
       "      <td>Bangalore</td>\n",
       "      <td>06:55</td>\n",
       "      <td>08:30</td>\n",
       "      <td>1h 35m</td>\n",
       "      <td>Non Stop</td>\n",
       "      <td>2,124</td>\n",
       "    </tr>\n",
       "    <tr>\n",
       "      <th>2</th>\n",
       "      <td>IndiGo</td>\n",
       "      <td>Mumbai</td>\n",
       "      <td>Tue, 1 Mar 2022</td>\n",
       "      <td>Bangalore</td>\n",
       "      <td>08:30</td>\n",
       "      <td>10:05</td>\n",
       "      <td>1h 35m</td>\n",
       "      <td>Non Stop</td>\n",
       "      <td>2,124</td>\n",
       "    </tr>\n",
       "    <tr>\n",
       "      <th>3</th>\n",
       "      <td>Go First</td>\n",
       "      <td>Mumbai</td>\n",
       "      <td>Tue, 1 Mar 2022</td>\n",
       "      <td>Bangalore</td>\n",
       "      <td>14:35</td>\n",
       "      <td>16:10</td>\n",
       "      <td>1h 35m</td>\n",
       "      <td>Non Stop</td>\n",
       "      <td>2,124</td>\n",
       "    </tr>\n",
       "    <tr>\n",
       "      <th>4</th>\n",
       "      <td>IndiGo</td>\n",
       "      <td>Mumbai</td>\n",
       "      <td>Tue, 1 Mar 2022</td>\n",
       "      <td>Bangalore</td>\n",
       "      <td>10:15</td>\n",
       "      <td>11:55</td>\n",
       "      <td>1h 40m</td>\n",
       "      <td>Non Stop</td>\n",
       "      <td>2,124</td>\n",
       "    </tr>\n",
       "    <tr>\n",
       "      <th>...</th>\n",
       "      <td>...</td>\n",
       "      <td>...</td>\n",
       "      <td>...</td>\n",
       "      <td>...</td>\n",
       "      <td>...</td>\n",
       "      <td>...</td>\n",
       "      <td>...</td>\n",
       "      <td>...</td>\n",
       "      <td>...</td>\n",
       "    </tr>\n",
       "    <tr>\n",
       "      <th>137</th>\n",
       "      <td>Air India</td>\n",
       "      <td>Mumbai</td>\n",
       "      <td>Tue, 1 Mar 2022</td>\n",
       "      <td>Bangalore</td>\n",
       "      <td>07:05</td>\n",
       "      <td>11:40 + 1 day</td>\n",
       "      <td>28h 35m</td>\n",
       "      <td>3 Stop(s)</td>\n",
       "      <td>7,988</td>\n",
       "    </tr>\n",
       "    <tr>\n",
       "      <th>138</th>\n",
       "      <td>Air India</td>\n",
       "      <td>Mumbai</td>\n",
       "      <td>Tue, 1 Mar 2022</td>\n",
       "      <td>Bangalore</td>\n",
       "      <td>07:05</td>\n",
       "      <td>11:40 + 1 day</td>\n",
       "      <td>28h 35m</td>\n",
       "      <td>3 Stop(s)</td>\n",
       "      <td>7,988</td>\n",
       "    </tr>\n",
       "    <tr>\n",
       "      <th>139</th>\n",
       "      <td>Air India</td>\n",
       "      <td>Mumbai</td>\n",
       "      <td>Tue, 1 Mar 2022</td>\n",
       "      <td>Bangalore</td>\n",
       "      <td>07:00</td>\n",
       "      <td>11:40 + 1 day</td>\n",
       "      <td>28h 40m</td>\n",
       "      <td>2 Stop(s)</td>\n",
       "      <td>7,988</td>\n",
       "    </tr>\n",
       "    <tr>\n",
       "      <th>140</th>\n",
       "      <td>Air India</td>\n",
       "      <td>Mumbai</td>\n",
       "      <td>Tue, 1 Mar 2022</td>\n",
       "      <td>Bangalore</td>\n",
       "      <td>07:00</td>\n",
       "      <td>11:40 + 1 day</td>\n",
       "      <td>28h 40m</td>\n",
       "      <td>2 Stop(s)</td>\n",
       "      <td>7,988</td>\n",
       "    </tr>\n",
       "    <tr>\n",
       "      <th>141</th>\n",
       "      <td>Air India</td>\n",
       "      <td>Mumbai</td>\n",
       "      <td>Tue, 1 Mar 2022</td>\n",
       "      <td>Bangalore</td>\n",
       "      <td>07:55</td>\n",
       "      <td>20:05</td>\n",
       "      <td>12h 10m</td>\n",
       "      <td>2 Stop(s)</td>\n",
       "      <td>8,696</td>\n",
       "    </tr>\n",
       "  </tbody>\n",
       "</table>\n",
       "<p>142 rows × 9 columns</p>\n",
       "</div>"
      ],
      "text/plain": [
       "       Airline  Source  Date of Journey Destination Departure        Arrival  \\\n",
       "0     Go First  Mumbai  Tue, 1 Mar 2022   Bangalore     06:05          07:40   \n",
       "1       IndiGo  Mumbai  Tue, 1 Mar 2022   Bangalore     06:55          08:30   \n",
       "2       IndiGo  Mumbai  Tue, 1 Mar 2022   Bangalore     08:30          10:05   \n",
       "3     Go First  Mumbai  Tue, 1 Mar 2022   Bangalore     14:35          16:10   \n",
       "4       IndiGo  Mumbai  Tue, 1 Mar 2022   Bangalore     10:15          11:55   \n",
       "..         ...     ...              ...         ...       ...            ...   \n",
       "137  Air India  Mumbai  Tue, 1 Mar 2022   Bangalore     07:05  11:40 + 1 day   \n",
       "138  Air India  Mumbai  Tue, 1 Mar 2022   Bangalore     07:05  11:40 + 1 day   \n",
       "139  Air India  Mumbai  Tue, 1 Mar 2022   Bangalore     07:00  11:40 + 1 day   \n",
       "140  Air India  Mumbai  Tue, 1 Mar 2022   Bangalore     07:00  11:40 + 1 day   \n",
       "141  Air India  Mumbai  Tue, 1 Mar 2022   Bangalore     07:55          20:05   \n",
       "\n",
       "    Duration      Stops  Price  \n",
       "0     1h 35m   Non Stop  2,124  \n",
       "1     1h 35m   Non Stop  2,124  \n",
       "2     1h 35m   Non Stop  2,124  \n",
       "3     1h 35m   Non Stop  2,124  \n",
       "4     1h 40m   Non Stop  2,124  \n",
       "..       ...        ...    ...  \n",
       "137  28h 35m  3 Stop(s)  7,988  \n",
       "138  28h 35m  3 Stop(s)  7,988  \n",
       "139  28h 40m  2 Stop(s)  7,988  \n",
       "140  28h 40m  2 Stop(s)  7,988  \n",
       "141  12h 10m  2 Stop(s)  8,696  \n",
       "\n",
       "[142 rows x 9 columns]"
      ]
     },
     "execution_count": 327,
     "metadata": {},
     "output_type": "execute_result"
    }
   ],
   "source": [
    "job10=pd.DataFrame({})  #creating the dataframe and saving it in different titles.\n",
    "job10['Airline']=flightname10\n",
    "job10['Source']=source21\n",
    "job10['Date of Journey']=date21\n",
    "job10['Destination']=destination8\n",
    "job10['Departure']=time11\n",
    "job10['Arrival']=artime11\n",
    "job10['Duration']=duration10\n",
    "job10['Stops']=stop11\n",
    "job10['Price']=price10\n",
    "job10"
   ]
  },
  {
   "cell_type": "code",
   "execution_count": 330,
   "id": "7d5ecfe9",
   "metadata": {},
   "outputs": [
    {
     "data": {
      "text/html": [
       "<div>\n",
       "<style scoped>\n",
       "    .dataframe tbody tr th:only-of-type {\n",
       "        vertical-align: middle;\n",
       "    }\n",
       "\n",
       "    .dataframe tbody tr th {\n",
       "        vertical-align: top;\n",
       "    }\n",
       "\n",
       "    .dataframe thead th {\n",
       "        text-align: right;\n",
       "    }\n",
       "</style>\n",
       "<table border=\"1\" class=\"dataframe\">\n",
       "  <thead>\n",
       "    <tr style=\"text-align: right;\">\n",
       "      <th></th>\n",
       "      <th>Airline</th>\n",
       "      <th>Source</th>\n",
       "      <th>Date of Journey</th>\n",
       "      <th>Destination</th>\n",
       "      <th>Departure</th>\n",
       "      <th>Arrival</th>\n",
       "      <th>Duration</th>\n",
       "      <th>Stops</th>\n",
       "      <th>Price</th>\n",
       "    </tr>\n",
       "  </thead>\n",
       "  <tbody>\n",
       "    <tr>\n",
       "      <th>0</th>\n",
       "      <td>SpiceJet</td>\n",
       "      <td>Mumbai</td>\n",
       "      <td>Tue, 8 Mar 2022</td>\n",
       "      <td>Chennai</td>\n",
       "      <td>19:30</td>\n",
       "      <td>21:20</td>\n",
       "      <td>1h 50m</td>\n",
       "      <td>Non Stop</td>\n",
       "      <td>1,888</td>\n",
       "    </tr>\n",
       "    <tr>\n",
       "      <th>1</th>\n",
       "      <td>SpiceJet</td>\n",
       "      <td>Mumbai</td>\n",
       "      <td>Tue, 8 Mar 2022</td>\n",
       "      <td>Chennai</td>\n",
       "      <td>06:00</td>\n",
       "      <td>08:00</td>\n",
       "      <td>2h 00m</td>\n",
       "      <td>Non Stop</td>\n",
       "      <td>1,888</td>\n",
       "    </tr>\n",
       "    <tr>\n",
       "      <th>2</th>\n",
       "      <td>Go First</td>\n",
       "      <td>Mumbai</td>\n",
       "      <td>Tue, 8 Mar 2022</td>\n",
       "      <td>Chennai</td>\n",
       "      <td>05:50</td>\n",
       "      <td>07:40</td>\n",
       "      <td>1h 50m</td>\n",
       "      <td>Non Stop</td>\n",
       "      <td>1,890</td>\n",
       "    </tr>\n",
       "    <tr>\n",
       "      <th>3</th>\n",
       "      <td>IndiGo</td>\n",
       "      <td>Mumbai</td>\n",
       "      <td>Tue, 8 Mar 2022</td>\n",
       "      <td>Chennai</td>\n",
       "      <td>16:25</td>\n",
       "      <td>18:15</td>\n",
       "      <td>1h 50m</td>\n",
       "      <td>Non Stop</td>\n",
       "      <td>1,890</td>\n",
       "    </tr>\n",
       "    <tr>\n",
       "      <th>4</th>\n",
       "      <td>IndiGo</td>\n",
       "      <td>Mumbai</td>\n",
       "      <td>Tue, 8 Mar 2022</td>\n",
       "      <td>Chennai</td>\n",
       "      <td>21:25</td>\n",
       "      <td>23:15</td>\n",
       "      <td>1h 50m</td>\n",
       "      <td>Non Stop</td>\n",
       "      <td>1,890</td>\n",
       "    </tr>\n",
       "    <tr>\n",
       "      <th>...</th>\n",
       "      <td>...</td>\n",
       "      <td>...</td>\n",
       "      <td>...</td>\n",
       "      <td>...</td>\n",
       "      <td>...</td>\n",
       "      <td>...</td>\n",
       "      <td>...</td>\n",
       "      <td>...</td>\n",
       "      <td>...</td>\n",
       "    </tr>\n",
       "    <tr>\n",
       "      <th>137</th>\n",
       "      <td>Air India</td>\n",
       "      <td>Mumbai</td>\n",
       "      <td>Tue, 1 Mar 2022</td>\n",
       "      <td>Bangalore</td>\n",
       "      <td>07:05</td>\n",
       "      <td>11:40 + 1 day</td>\n",
       "      <td>28h 35m</td>\n",
       "      <td>3 Stop(s)</td>\n",
       "      <td>7,988</td>\n",
       "    </tr>\n",
       "    <tr>\n",
       "      <th>138</th>\n",
       "      <td>Air India</td>\n",
       "      <td>Mumbai</td>\n",
       "      <td>Tue, 1 Mar 2022</td>\n",
       "      <td>Bangalore</td>\n",
       "      <td>07:05</td>\n",
       "      <td>11:40 + 1 day</td>\n",
       "      <td>28h 35m</td>\n",
       "      <td>3 Stop(s)</td>\n",
       "      <td>7,988</td>\n",
       "    </tr>\n",
       "    <tr>\n",
       "      <th>139</th>\n",
       "      <td>Air India</td>\n",
       "      <td>Mumbai</td>\n",
       "      <td>Tue, 1 Mar 2022</td>\n",
       "      <td>Bangalore</td>\n",
       "      <td>07:00</td>\n",
       "      <td>11:40 + 1 day</td>\n",
       "      <td>28h 40m</td>\n",
       "      <td>2 Stop(s)</td>\n",
       "      <td>7,988</td>\n",
       "    </tr>\n",
       "    <tr>\n",
       "      <th>140</th>\n",
       "      <td>Air India</td>\n",
       "      <td>Mumbai</td>\n",
       "      <td>Tue, 1 Mar 2022</td>\n",
       "      <td>Bangalore</td>\n",
       "      <td>07:00</td>\n",
       "      <td>11:40 + 1 day</td>\n",
       "      <td>28h 40m</td>\n",
       "      <td>2 Stop(s)</td>\n",
       "      <td>7,988</td>\n",
       "    </tr>\n",
       "    <tr>\n",
       "      <th>141</th>\n",
       "      <td>Air India</td>\n",
       "      <td>Mumbai</td>\n",
       "      <td>Tue, 1 Mar 2022</td>\n",
       "      <td>Bangalore</td>\n",
       "      <td>07:55</td>\n",
       "      <td>20:05</td>\n",
       "      <td>12h 10m</td>\n",
       "      <td>2 Stop(s)</td>\n",
       "      <td>8,696</td>\n",
       "    </tr>\n",
       "  </tbody>\n",
       "</table>\n",
       "<p>1211 rows × 9 columns</p>\n",
       "</div>"
      ],
      "text/plain": [
       "       Airline  Source  Date of Journey Destination Departure        Arrival  \\\n",
       "0     SpiceJet  Mumbai  Tue, 8 Mar 2022     Chennai     19:30          21:20   \n",
       "1     SpiceJet  Mumbai  Tue, 8 Mar 2022     Chennai     06:00          08:00   \n",
       "2     Go First  Mumbai  Tue, 8 Mar 2022     Chennai     05:50          07:40   \n",
       "3       IndiGo  Mumbai  Tue, 8 Mar 2022     Chennai     16:25          18:15   \n",
       "4       IndiGo  Mumbai  Tue, 8 Mar 2022     Chennai     21:25          23:15   \n",
       "..         ...     ...              ...         ...       ...            ...   \n",
       "137  Air India  Mumbai  Tue, 1 Mar 2022   Bangalore     07:05  11:40 + 1 day   \n",
       "138  Air India  Mumbai  Tue, 1 Mar 2022   Bangalore     07:05  11:40 + 1 day   \n",
       "139  Air India  Mumbai  Tue, 1 Mar 2022   Bangalore     07:00  11:40 + 1 day   \n",
       "140  Air India  Mumbai  Tue, 1 Mar 2022   Bangalore     07:00  11:40 + 1 day   \n",
       "141  Air India  Mumbai  Tue, 1 Mar 2022   Bangalore     07:55          20:05   \n",
       "\n",
       "    Duration      Stops  Price  \n",
       "0     1h 50m   Non Stop  1,888  \n",
       "1     2h 00m   Non Stop  1,888  \n",
       "2     1h 50m   Non Stop  1,890  \n",
       "3     1h 50m   Non Stop  1,890  \n",
       "4     1h 50m   Non Stop  1,890  \n",
       "..       ...        ...    ...  \n",
       "137  28h 35m  3 Stop(s)  7,988  \n",
       "138  28h 35m  3 Stop(s)  7,988  \n",
       "139  28h 40m  2 Stop(s)  7,988  \n",
       "140  28h 40m  2 Stop(s)  7,988  \n",
       "141  12h 10m  2 Stop(s)  8,696  \n",
       "\n",
       "[1211 rows x 9 columns]"
      ]
     },
     "execution_count": 330,
     "metadata": {},
     "output_type": "execute_result"
    }
   ],
   "source": [
    "frames2=[df1,job8, job9, job10]\n",
    "df3=pd.concat(frames2)\n",
    "df3\n"
   ]
  },
  {
   "cell_type": "code",
   "execution_count": 331,
   "id": "f844ae9d",
   "metadata": {},
   "outputs": [],
   "source": [
    "#extracting the data from yatra.com mumbai to kolkata\n",
    "driver.get(\"https://flight.yatra.com/air-search-ui/seodom/trigger?ADT=1&CHD=0&INF=0&class=Economy&destination=CCU&destinationCountry=IN&flexi=0&flight_depart_date=23%2F03%2F2022&hb=0&noOfSegments=1&origin=BOM&originCountry=IN&type=O&unique=1308025084289&version=1.1&viewName=normal\")"
   ]
  },
  {
   "cell_type": "code",
   "execution_count": 332,
   "id": "d99d421f",
   "metadata": {},
   "outputs": [],
   "source": [
    "flightname11=[] #airline name\n",
    "name=driver.find_elements_by_xpath(\"//span[@class='i-b text ellipsis']\")\n",
    "for i in name:\n",
    "    flightname11.append(i.text)"
   ]
  },
  {
   "cell_type": "code",
   "execution_count": 333,
   "id": "7035e5a6",
   "metadata": {},
   "outputs": [
    {
     "data": {
      "text/plain": [
       "124"
      ]
     },
     "execution_count": 333,
     "metadata": {},
     "output_type": "execute_result"
    }
   ],
   "source": [
    "len(flightname11)"
   ]
  },
  {
   "cell_type": "code",
   "execution_count": 334,
   "id": "741c8941",
   "metadata": {},
   "outputs": [],
   "source": [
    "time12=[] #departure time\n",
    "tim=driver.find_elements_by_xpath(\"//div[@class='i-b pr']\")\n",
    "for i in tim:\n",
    "    time12.append(i.text)"
   ]
  },
  {
   "cell_type": "code",
   "execution_count": 335,
   "id": "af228f83",
   "metadata": {},
   "outputs": [
    {
     "data": {
      "text/plain": [
       "['06:15', '05:00', '21:00', '15:50', '16:20']"
      ]
     },
     "execution_count": 335,
     "metadata": {},
     "output_type": "execute_result"
    }
   ],
   "source": [
    "time12[:5]"
   ]
  },
  {
   "cell_type": "code",
   "execution_count": 336,
   "id": "8669eb5b",
   "metadata": {},
   "outputs": [],
   "source": [
    "artime12=[]  #Arrival Time\n",
    "ar=driver.find_elements_by_xpath(\"//p[@class='bold fs-15 mb-2 pr time']\")\n",
    "for i in ar:\n",
    "    artime12.append(i.text.replace(\"\\n\",\" \"))"
   ]
  },
  {
   "cell_type": "code",
   "execution_count": 337,
   "id": "3798e3fe",
   "metadata": {},
   "outputs": [
    {
     "data": {
      "text/plain": [
       "['08:55', '07:30', '23:35', '21:55', '22:40']"
      ]
     },
     "execution_count": 337,
     "metadata": {},
     "output_type": "execute_result"
    }
   ],
   "source": [
    "artime12[:5]"
   ]
  },
  {
   "cell_type": "code",
   "execution_count": 338,
   "id": "b730760e",
   "metadata": {},
   "outputs": [],
   "source": [
    "source22=[]  #Source from where the flight take off\n",
    "sou=driver.find_elements_by_xpath(\"//p[@class='fs-10 font-lightgrey no-wrap city ellipsis']\")\n",
    "for i in sou:\n",
    "    source22.append(i.text)"
   ]
  },
  {
   "cell_type": "code",
   "execution_count": 339,
   "id": "623cb331",
   "metadata": {},
   "outputs": [
    {
     "data": {
      "text/plain": [
       "['Mumbai', 'Mumbai', 'Mumbai', 'Mumbai', 'Mumbai']"
      ]
     },
     "execution_count": 339,
     "metadata": {},
     "output_type": "execute_result"
    }
   ],
   "source": [
    "source23=source22[::2]\n",
    "source23[:5]"
   ]
  },
  {
   "cell_type": "code",
   "execution_count": 340,
   "id": "87de63ab",
   "metadata": {},
   "outputs": [
    {
     "data": {
      "text/plain": [
       "['Kolkata', 'Kolkata', 'Kolkata', 'Kolkata', 'Kolkata']"
      ]
     },
     "execution_count": 340,
     "metadata": {},
     "output_type": "execute_result"
    }
   ],
   "source": [
    "destination9=source22[1::2]\n",
    "destination9[:5]"
   ]
  },
  {
   "cell_type": "code",
   "execution_count": 341,
   "id": "ebc21125",
   "metadata": {},
   "outputs": [],
   "source": [
    "duration11=[]  #duration of the flight\n",
    "dura=driver.find_elements_by_xpath(\"//p[@class='fs-12 bold du mb-2']\")\n",
    "for i in dura:\n",
    "    duration11.append(i.text)"
   ]
  },
  {
   "cell_type": "code",
   "execution_count": 342,
   "id": "b34bbbd9",
   "metadata": {},
   "outputs": [
    {
     "data": {
      "text/plain": [
       "['2h 40m', '2h 30m', '2h 35m', '6h 05m', '6h 20m']"
      ]
     },
     "execution_count": 342,
     "metadata": {},
     "output_type": "execute_result"
    }
   ],
   "source": [
    "duration11[:5]"
   ]
  },
  {
   "cell_type": "code",
   "execution_count": 343,
   "id": "e9a7681d",
   "metadata": {},
   "outputs": [],
   "source": [
    "stop12=[]  #number of stops\n",
    "st=driver.find_elements_by_xpath(\"//div[@class=' font-lightgrey fs-10 tipsy i-b fs-10']/span\")\n",
    "for i in st:\n",
    "    stop12.append(i.text)"
   ]
  },
  {
   "cell_type": "code",
   "execution_count": 344,
   "id": "efa059c2",
   "metadata": {},
   "outputs": [
    {
     "data": {
      "text/plain": [
       "['Non Stop', 'Non Stop', 'Non Stop', '1 Stop', '1 Stop']"
      ]
     },
     "execution_count": 344,
     "metadata": {},
     "output_type": "execute_result"
    }
   ],
   "source": [
    "stop12[:5]"
   ]
  },
  {
   "cell_type": "code",
   "execution_count": 345,
   "id": "b3c9a32b",
   "metadata": {},
   "outputs": [],
   "source": [
    "price11=[]  #price of the flight\n",
    "pr=driver.find_elements_by_xpath(\"//div[@class='i-b tipsy fare-summary-tooltip fs-18']\")\n",
    "for i in pr:\n",
    "    price11.append(i.text)"
   ]
  },
  {
   "cell_type": "code",
   "execution_count": 346,
   "id": "5c66c14e",
   "metadata": {},
   "outputs": [
    {
     "data": {
      "text/plain": [
       "['2,832', '2,834', '2,834', '2,834', '2,834']"
      ]
     },
     "execution_count": 346,
     "metadata": {},
     "output_type": "execute_result"
    }
   ],
   "source": [
    "price11[:5]"
   ]
  },
  {
   "cell_type": "code",
   "execution_count": 347,
   "id": "0e9eced7",
   "metadata": {},
   "outputs": [],
   "source": [
    "list_count=0 #iterating over the each row of the flight and clicking on flight details and fetching date of journey\n",
    "date22=[]\n",
    "while(list_count<170):\n",
    "    \n",
    "   \n",
    "    if(list_count>170):\n",
    "        break\n",
    "    else:\n",
    "        list_count +=1\n",
    "    try:\n",
    "        date=driver.find_elements_by_xpath(\"//div[@class='link-color fs-12 cursor-pointer']\")\n",
    "        date[list_count].click()\n",
    "        time.sleep(5)\n",
    "    except:\n",
    "        pass\n",
    "    finally:\n",
    "        da=driver.find_elements_by_xpath(\"//div[@class='bold fs-12 mb-5']\")\n",
    "        for i in da:\n",
    "            date22.append(i.text)"
   ]
  },
  {
   "cell_type": "code",
   "execution_count": 348,
   "id": "2fca9c96",
   "metadata": {},
   "outputs": [
    {
     "data": {
      "text/plain": [
       "124"
      ]
     },
     "execution_count": 348,
     "metadata": {},
     "output_type": "execute_result"
    }
   ],
   "source": [
    "date23=date22[0:124]\n",
    "len(date23)"
   ]
  },
  {
   "cell_type": "code",
   "execution_count": 349,
   "id": "e97f33d5",
   "metadata": {},
   "outputs": [
    {
     "data": {
      "text/html": [
       "<div>\n",
       "<style scoped>\n",
       "    .dataframe tbody tr th:only-of-type {\n",
       "        vertical-align: middle;\n",
       "    }\n",
       "\n",
       "    .dataframe tbody tr th {\n",
       "        vertical-align: top;\n",
       "    }\n",
       "\n",
       "    .dataframe thead th {\n",
       "        text-align: right;\n",
       "    }\n",
       "</style>\n",
       "<table border=\"1\" class=\"dataframe\">\n",
       "  <thead>\n",
       "    <tr style=\"text-align: right;\">\n",
       "      <th></th>\n",
       "      <th>Airline</th>\n",
       "      <th>Source</th>\n",
       "      <th>Date of Journey</th>\n",
       "      <th>Destination</th>\n",
       "      <th>Departure</th>\n",
       "      <th>Arrival</th>\n",
       "      <th>Duration</th>\n",
       "      <th>Stops</th>\n",
       "      <th>Price</th>\n",
       "    </tr>\n",
       "  </thead>\n",
       "  <tbody>\n",
       "    <tr>\n",
       "      <th>0</th>\n",
       "      <td>SpiceJet</td>\n",
       "      <td>Mumbai</td>\n",
       "      <td>Wed, 23 Mar 2022</td>\n",
       "      <td>Kolkata</td>\n",
       "      <td>06:15</td>\n",
       "      <td>08:55</td>\n",
       "      <td>2h 40m</td>\n",
       "      <td>Non Stop</td>\n",
       "      <td>2,832</td>\n",
       "    </tr>\n",
       "    <tr>\n",
       "      <th>1</th>\n",
       "      <td>Go First</td>\n",
       "      <td>Mumbai</td>\n",
       "      <td>Wed, 23 Mar 2022</td>\n",
       "      <td>Kolkata</td>\n",
       "      <td>05:00</td>\n",
       "      <td>07:30</td>\n",
       "      <td>2h 30m</td>\n",
       "      <td>Non Stop</td>\n",
       "      <td>2,834</td>\n",
       "    </tr>\n",
       "    <tr>\n",
       "      <th>2</th>\n",
       "      <td>Go First</td>\n",
       "      <td>Mumbai</td>\n",
       "      <td>Wed, 23 Mar 2022</td>\n",
       "      <td>Kolkata</td>\n",
       "      <td>21:00</td>\n",
       "      <td>23:35</td>\n",
       "      <td>2h 35m</td>\n",
       "      <td>Non Stop</td>\n",
       "      <td>2,834</td>\n",
       "    </tr>\n",
       "    <tr>\n",
       "      <th>3</th>\n",
       "      <td>IndiGo</td>\n",
       "      <td>Mumbai</td>\n",
       "      <td>Wed, 23 Mar 2022</td>\n",
       "      <td>Kolkata</td>\n",
       "      <td>15:50</td>\n",
       "      <td>21:55</td>\n",
       "      <td>6h 05m</td>\n",
       "      <td>1 Stop</td>\n",
       "      <td>2,834</td>\n",
       "    </tr>\n",
       "    <tr>\n",
       "      <th>4</th>\n",
       "      <td>IndiGo</td>\n",
       "      <td>Mumbai</td>\n",
       "      <td>Wed, 23 Mar 2022</td>\n",
       "      <td>Kolkata</td>\n",
       "      <td>16:20</td>\n",
       "      <td>22:40</td>\n",
       "      <td>6h 20m</td>\n",
       "      <td>1 Stop</td>\n",
       "      <td>2,834</td>\n",
       "    </tr>\n",
       "    <tr>\n",
       "      <th>...</th>\n",
       "      <td>...</td>\n",
       "      <td>...</td>\n",
       "      <td>...</td>\n",
       "      <td>...</td>\n",
       "      <td>...</td>\n",
       "      <td>...</td>\n",
       "      <td>...</td>\n",
       "      <td>...</td>\n",
       "      <td>...</td>\n",
       "    </tr>\n",
       "    <tr>\n",
       "      <th>119</th>\n",
       "      <td>Air India</td>\n",
       "      <td>Mumbai</td>\n",
       "      <td>Wed, 23 Mar 2022</td>\n",
       "      <td>Kolkata</td>\n",
       "      <td>09:50</td>\n",
       "      <td>20:05</td>\n",
       "      <td>10h 15m</td>\n",
       "      <td>2 Stop(s)</td>\n",
       "      <td>7,237</td>\n",
       "    </tr>\n",
       "    <tr>\n",
       "      <th>120</th>\n",
       "      <td>Vistara</td>\n",
       "      <td>Mumbai</td>\n",
       "      <td>Wed, 23 Mar 2022</td>\n",
       "      <td>Kolkata</td>\n",
       "      <td>11:25</td>\n",
       "      <td>22:45</td>\n",
       "      <td>11h 20m</td>\n",
       "      <td>2 Stop(s)</td>\n",
       "      <td>10,397</td>\n",
       "    </tr>\n",
       "    <tr>\n",
       "      <th>121</th>\n",
       "      <td>Vistara</td>\n",
       "      <td>Mumbai</td>\n",
       "      <td>Wed, 23 Mar 2022</td>\n",
       "      <td>Kolkata</td>\n",
       "      <td>06:00</td>\n",
       "      <td>19:35</td>\n",
       "      <td>13h 35m</td>\n",
       "      <td>2 Stop(s)</td>\n",
       "      <td>12,120</td>\n",
       "    </tr>\n",
       "    <tr>\n",
       "      <th>122</th>\n",
       "      <td>Vistara</td>\n",
       "      <td>Mumbai</td>\n",
       "      <td>Wed, 23 Mar 2022</td>\n",
       "      <td>Kolkata</td>\n",
       "      <td>16:05</td>\n",
       "      <td>19:35 + 1 day</td>\n",
       "      <td>27h 30m</td>\n",
       "      <td>2 Stop(s)</td>\n",
       "      <td>12,120</td>\n",
       "    </tr>\n",
       "    <tr>\n",
       "      <th>123</th>\n",
       "      <td>SpiceJet</td>\n",
       "      <td>Mumbai</td>\n",
       "      <td>Wed, 23 Mar 2022</td>\n",
       "      <td>Kolkata</td>\n",
       "      <td>13:00</td>\n",
       "      <td>14:20 + 1 day</td>\n",
       "      <td>25h 20m</td>\n",
       "      <td>1 Stop</td>\n",
       "      <td>18,494</td>\n",
       "    </tr>\n",
       "  </tbody>\n",
       "</table>\n",
       "<p>124 rows × 9 columns</p>\n",
       "</div>"
      ],
      "text/plain": [
       "       Airline  Source   Date of Journey Destination Departure        Arrival  \\\n",
       "0     SpiceJet  Mumbai  Wed, 23 Mar 2022     Kolkata     06:15          08:55   \n",
       "1     Go First  Mumbai  Wed, 23 Mar 2022     Kolkata     05:00          07:30   \n",
       "2     Go First  Mumbai  Wed, 23 Mar 2022     Kolkata     21:00          23:35   \n",
       "3       IndiGo  Mumbai  Wed, 23 Mar 2022     Kolkata     15:50          21:55   \n",
       "4       IndiGo  Mumbai  Wed, 23 Mar 2022     Kolkata     16:20          22:40   \n",
       "..         ...     ...               ...         ...       ...            ...   \n",
       "119  Air India  Mumbai  Wed, 23 Mar 2022     Kolkata     09:50          20:05   \n",
       "120    Vistara  Mumbai  Wed, 23 Mar 2022     Kolkata     11:25          22:45   \n",
       "121    Vistara  Mumbai  Wed, 23 Mar 2022     Kolkata     06:00          19:35   \n",
       "122    Vistara  Mumbai  Wed, 23 Mar 2022     Kolkata     16:05  19:35 + 1 day   \n",
       "123   SpiceJet  Mumbai  Wed, 23 Mar 2022     Kolkata     13:00  14:20 + 1 day   \n",
       "\n",
       "    Duration      Stops   Price  \n",
       "0     2h 40m   Non Stop   2,832  \n",
       "1     2h 30m   Non Stop   2,834  \n",
       "2     2h 35m   Non Stop   2,834  \n",
       "3     6h 05m     1 Stop   2,834  \n",
       "4     6h 20m     1 Stop   2,834  \n",
       "..       ...        ...     ...  \n",
       "119  10h 15m  2 Stop(s)   7,237  \n",
       "120  11h 20m  2 Stop(s)  10,397  \n",
       "121  13h 35m  2 Stop(s)  12,120  \n",
       "122  27h 30m  2 Stop(s)  12,120  \n",
       "123  25h 20m     1 Stop  18,494  \n",
       "\n",
       "[124 rows x 9 columns]"
      ]
     },
     "execution_count": 349,
     "metadata": {},
     "output_type": "execute_result"
    }
   ],
   "source": [
    "job11=pd.DataFrame({})  #creating the dataframe and saving it in different titles.\n",
    "job11['Airline']=flightname11\n",
    "job11['Source']=source23\n",
    "job11['Date of Journey']=date23\n",
    "job11['Destination']=destination9\n",
    "job11['Departure']=time12\n",
    "job11['Arrival']=artime12\n",
    "job11['Duration']=duration11\n",
    "job11['Stops']=stop12\n",
    "job11['Price']=price11\n",
    "job11"
   ]
  },
  {
   "cell_type": "code",
   "execution_count": 350,
   "id": "fcb741ba",
   "metadata": {},
   "outputs": [],
   "source": [
    "#extracting data from yatra.com for chandigarh to kolata location\n",
    "driver.get(\"https://flight.yatra.com/air-search-ui/seodom/trigger?ADT=1&CHD=0&INF=0&class=Economy&destination=CCU&destinationCountry=IN&flexi=0&flight_depart_date=29%2F03%2F2022&hb=0&noOfSegments=1&origin=IXC&originCountry=IN&type=O&unique=376183859122&version=1.1&viewName=normal\")"
   ]
  },
  {
   "cell_type": "code",
   "execution_count": 351,
   "id": "b25cfab4",
   "metadata": {},
   "outputs": [],
   "source": [
    "flightname12=[] #airline name\n",
    "name=driver.find_elements_by_xpath(\"//span[@class='i-b text ellipsis']\")\n",
    "for i in name:\n",
    "    flightname12.append(i.text)"
   ]
  },
  {
   "cell_type": "code",
   "execution_count": 352,
   "id": "d61964ec",
   "metadata": {},
   "outputs": [
    {
     "data": {
      "text/plain": [
       "79"
      ]
     },
     "execution_count": 352,
     "metadata": {},
     "output_type": "execute_result"
    }
   ],
   "source": [
    "len(flightname12)"
   ]
  },
  {
   "cell_type": "code",
   "execution_count": 353,
   "id": "75241c5d",
   "metadata": {},
   "outputs": [],
   "source": [
    "time13=[] #departure time\n",
    "tim=driver.find_elements_by_xpath(\"//div[@class='i-b pr']\")\n",
    "for i in tim:\n",
    "    time13.append(i.text)"
   ]
  },
  {
   "cell_type": "code",
   "execution_count": 354,
   "id": "476f266b",
   "metadata": {},
   "outputs": [
    {
     "data": {
      "text/plain": [
       "['20:45', '20:45', '20:45', '18:50', '18:50']"
      ]
     },
     "execution_count": 354,
     "metadata": {},
     "output_type": "execute_result"
    }
   ],
   "source": [
    "time13[:5]"
   ]
  },
  {
   "cell_type": "code",
   "execution_count": 355,
   "id": "2f0b1ac6",
   "metadata": {},
   "outputs": [],
   "source": [
    "artime13=[]  #Arrival Time\n",
    "ar=driver.find_elements_by_xpath(\"//p[@class='bold fs-15 mb-2 pr time']\")\n",
    "for i in ar:\n",
    "    artime13.append(i.text.replace(\"\\n\",\" \"))"
   ]
  },
  {
   "cell_type": "code",
   "execution_count": 356,
   "id": "ebfd6e6e",
   "metadata": {},
   "outputs": [
    {
     "data": {
      "text/plain": [
       "['09:00 + 1 day',\n",
       " '11:05 + 1 day',\n",
       " '22:20 + 1 day',\n",
       " '08:20 + 1 day',\n",
       " '09:35 + 1 day']"
      ]
     },
     "execution_count": 356,
     "metadata": {},
     "output_type": "execute_result"
    }
   ],
   "source": [
    "artime13[:5]"
   ]
  },
  {
   "cell_type": "code",
   "execution_count": 357,
   "id": "704e4b1c",
   "metadata": {},
   "outputs": [],
   "source": [
    "source24=[]  #Source from where the flight take off\n",
    "sou=driver.find_elements_by_xpath(\"//p[@class='fs-10 font-lightgrey no-wrap city ellipsis']\")\n",
    "for i in sou:\n",
    "    source24.append(i.text)"
   ]
  },
  {
   "cell_type": "code",
   "execution_count": 358,
   "id": "1f686db0",
   "metadata": {},
   "outputs": [
    {
     "data": {
      "text/plain": [
       "['Chandigarh', 'Chandigarh', 'Chandigarh', 'Chandigarh', 'Chandigarh']"
      ]
     },
     "execution_count": 358,
     "metadata": {},
     "output_type": "execute_result"
    }
   ],
   "source": [
    "source25=source24[::2]\n",
    "source25[:5]"
   ]
  },
  {
   "cell_type": "code",
   "execution_count": 359,
   "id": "61494211",
   "metadata": {},
   "outputs": [
    {
     "data": {
      "text/plain": [
       "['Kolkata', 'Kolkata', 'Kolkata', 'Kolkata', 'Kolkata']"
      ]
     },
     "execution_count": 359,
     "metadata": {},
     "output_type": "execute_result"
    }
   ],
   "source": [
    "destination10=source24[1::2]\n",
    "destination10[:5]"
   ]
  },
  {
   "cell_type": "code",
   "execution_count": 360,
   "id": "707f08bd",
   "metadata": {},
   "outputs": [],
   "source": [
    "duration12=[]  #duration of the flight\n",
    "dura=driver.find_elements_by_xpath(\"//p[@class='fs-12 bold du mb-2']\")\n",
    "for i in dura:\n",
    "    duration12.append(i.text)"
   ]
  },
  {
   "cell_type": "code",
   "execution_count": 361,
   "id": "454b01db",
   "metadata": {},
   "outputs": [
    {
     "data": {
      "text/plain": [
       "['12h 15m', '14h 20m', '25h 35m', '13h 30m', '14h 45m']"
      ]
     },
     "execution_count": 361,
     "metadata": {},
     "output_type": "execute_result"
    }
   ],
   "source": [
    "duration12[:5]"
   ]
  },
  {
   "cell_type": "code",
   "execution_count": 362,
   "id": "ef970e4c",
   "metadata": {},
   "outputs": [],
   "source": [
    "stop13=[]  #number of stops\n",
    "st=driver.find_elements_by_xpath(\"//div[@class=' font-lightgrey fs-10 tipsy i-b fs-10']/span\")\n",
    "for i in st:\n",
    "    stop13.append(i.text)"
   ]
  },
  {
   "cell_type": "code",
   "execution_count": 363,
   "id": "960e2a62",
   "metadata": {},
   "outputs": [
    {
     "data": {
      "text/plain": [
       "['1 Stop', '2 Stop(s)', '1 Stop', '1 Stop', '1 Stop']"
      ]
     },
     "execution_count": 363,
     "metadata": {},
     "output_type": "execute_result"
    }
   ],
   "source": [
    "stop13[:5]"
   ]
  },
  {
   "cell_type": "code",
   "execution_count": 364,
   "id": "223cc42a",
   "metadata": {},
   "outputs": [],
   "source": [
    "price12=[]  #price of the flight\n",
    "pr=driver.find_elements_by_xpath(\"//div[@class='i-b tipsy fare-summary-tooltip fs-18']\")\n",
    "for i in pr:\n",
    "    price12.append(i.text)"
   ]
  },
  {
   "cell_type": "code",
   "execution_count": 365,
   "id": "8d0b40d1",
   "metadata": {},
   "outputs": [
    {
     "data": {
      "text/plain": [
       "['3,759', '3,759', '3,759', '3,906', '3,906']"
      ]
     },
     "execution_count": 365,
     "metadata": {},
     "output_type": "execute_result"
    }
   ],
   "source": [
    "price12[:5]"
   ]
  },
  {
   "cell_type": "code",
   "execution_count": 366,
   "id": "87c32e10",
   "metadata": {},
   "outputs": [],
   "source": [
    "list_count=0 #iterating over the each row of the flight and clicking on flight details and fetching date of journey\n",
    "date24=[]\n",
    "while(list_count<170):\n",
    "    \n",
    "   \n",
    "    if(list_count>170):\n",
    "        break\n",
    "    else:\n",
    "        list_count +=1\n",
    "    try:\n",
    "        date=driver.find_elements_by_xpath(\"//div[@class='link-color fs-12 cursor-pointer']\")\n",
    "        date[list_count].click()\n",
    "        time.sleep(5)\n",
    "    except:\n",
    "        pass\n",
    "    finally:\n",
    "        da=driver.find_elements_by_xpath(\"//div[@class='bold fs-12 mb-5']\")\n",
    "        for i in da:\n",
    "            date24.append(i.text)"
   ]
  },
  {
   "cell_type": "code",
   "execution_count": 367,
   "id": "9e59bb0f",
   "metadata": {},
   "outputs": [
    {
     "data": {
      "text/plain": [
       "79"
      ]
     },
     "execution_count": 367,
     "metadata": {},
     "output_type": "execute_result"
    }
   ],
   "source": [
    "date25=date24[0:79]\n",
    "len(date25)"
   ]
  },
  {
   "cell_type": "code",
   "execution_count": 368,
   "id": "b32ecd1a",
   "metadata": {},
   "outputs": [
    {
     "data": {
      "text/html": [
       "<div>\n",
       "<style scoped>\n",
       "    .dataframe tbody tr th:only-of-type {\n",
       "        vertical-align: middle;\n",
       "    }\n",
       "\n",
       "    .dataframe tbody tr th {\n",
       "        vertical-align: top;\n",
       "    }\n",
       "\n",
       "    .dataframe thead th {\n",
       "        text-align: right;\n",
       "    }\n",
       "</style>\n",
       "<table border=\"1\" class=\"dataframe\">\n",
       "  <thead>\n",
       "    <tr style=\"text-align: right;\">\n",
       "      <th></th>\n",
       "      <th>Airline</th>\n",
       "      <th>Source</th>\n",
       "      <th>Date of Journey</th>\n",
       "      <th>Destination</th>\n",
       "      <th>Departure</th>\n",
       "      <th>Arrival</th>\n",
       "      <th>Duration</th>\n",
       "      <th>Stops</th>\n",
       "      <th>Price</th>\n",
       "    </tr>\n",
       "  </thead>\n",
       "  <tbody>\n",
       "    <tr>\n",
       "      <th>0</th>\n",
       "      <td>Air India</td>\n",
       "      <td>Chandigarh</td>\n",
       "      <td>Tue, 29 Mar 2022</td>\n",
       "      <td>Kolkata</td>\n",
       "      <td>20:45</td>\n",
       "      <td>09:00 + 1 day</td>\n",
       "      <td>12h 15m</td>\n",
       "      <td>1 Stop</td>\n",
       "      <td>3,759</td>\n",
       "    </tr>\n",
       "    <tr>\n",
       "      <th>1</th>\n",
       "      <td>Air India</td>\n",
       "      <td>Chandigarh</td>\n",
       "      <td>Wed, 30 Mar 2022</td>\n",
       "      <td>Kolkata</td>\n",
       "      <td>20:45</td>\n",
       "      <td>11:05 + 1 day</td>\n",
       "      <td>14h 20m</td>\n",
       "      <td>2 Stop(s)</td>\n",
       "      <td>3,759</td>\n",
       "    </tr>\n",
       "    <tr>\n",
       "      <th>2</th>\n",
       "      <td>Air India</td>\n",
       "      <td>Chandigarh</td>\n",
       "      <td>Tue, 29 Mar 2022</td>\n",
       "      <td>Kolkata</td>\n",
       "      <td>20:45</td>\n",
       "      <td>22:20 + 1 day</td>\n",
       "      <td>25h 35m</td>\n",
       "      <td>1 Stop</td>\n",
       "      <td>3,759</td>\n",
       "    </tr>\n",
       "    <tr>\n",
       "      <th>3</th>\n",
       "      <td>Vistara</td>\n",
       "      <td>Chandigarh</td>\n",
       "      <td>Wed, 30 Mar 2022</td>\n",
       "      <td>Kolkata</td>\n",
       "      <td>18:50</td>\n",
       "      <td>08:20 + 1 day</td>\n",
       "      <td>13h 30m</td>\n",
       "      <td>1 Stop</td>\n",
       "      <td>3,906</td>\n",
       "    </tr>\n",
       "    <tr>\n",
       "      <th>4</th>\n",
       "      <td>Vistara</td>\n",
       "      <td>Chandigarh</td>\n",
       "      <td>Tue, 29 Mar 2022</td>\n",
       "      <td>Kolkata</td>\n",
       "      <td>18:50</td>\n",
       "      <td>09:35 + 1 day</td>\n",
       "      <td>14h 45m</td>\n",
       "      <td>1 Stop</td>\n",
       "      <td>3,906</td>\n",
       "    </tr>\n",
       "    <tr>\n",
       "      <th>...</th>\n",
       "      <td>...</td>\n",
       "      <td>...</td>\n",
       "      <td>...</td>\n",
       "      <td>...</td>\n",
       "      <td>...</td>\n",
       "      <td>...</td>\n",
       "      <td>...</td>\n",
       "      <td>...</td>\n",
       "      <td>...</td>\n",
       "    </tr>\n",
       "    <tr>\n",
       "      <th>74</th>\n",
       "      <td>Vistara</td>\n",
       "      <td>Chandigarh</td>\n",
       "      <td>Tue, 29 Mar 2022</td>\n",
       "      <td>Kolkata</td>\n",
       "      <td>08:55</td>\n",
       "      <td>22:45</td>\n",
       "      <td>13h 50m</td>\n",
       "      <td>2 Stop(s)</td>\n",
       "      <td>8,199</td>\n",
       "    </tr>\n",
       "    <tr>\n",
       "      <th>75</th>\n",
       "      <td>Air India</td>\n",
       "      <td>Chandigarh</td>\n",
       "      <td>Wed, 30 Mar 2022</td>\n",
       "      <td>Kolkata</td>\n",
       "      <td>07:05</td>\n",
       "      <td>20:05 + 1 day</td>\n",
       "      <td>37h 00m</td>\n",
       "      <td>3 Stop(s)</td>\n",
       "      <td>8,915</td>\n",
       "    </tr>\n",
       "    <tr>\n",
       "      <th>76</th>\n",
       "      <td>Air India</td>\n",
       "      <td>Chandigarh</td>\n",
       "      <td>Tue, 29 Mar 2022</td>\n",
       "      <td>Kolkata</td>\n",
       "      <td>11:00</td>\n",
       "      <td>22:20</td>\n",
       "      <td>11h 20m</td>\n",
       "      <td>2 Stop(s)</td>\n",
       "      <td>8,988</td>\n",
       "    </tr>\n",
       "    <tr>\n",
       "      <th>77</th>\n",
       "      <td>Air India</td>\n",
       "      <td>Chandigarh</td>\n",
       "      <td>Wed, 30 Mar 2022</td>\n",
       "      <td>Kolkata</td>\n",
       "      <td>11:00</td>\n",
       "      <td>19:10</td>\n",
       "      <td>8h 10m</td>\n",
       "      <td>2 Stop(s)</td>\n",
       "      <td>9,409</td>\n",
       "    </tr>\n",
       "    <tr>\n",
       "      <th>78</th>\n",
       "      <td>Vistara</td>\n",
       "      <td>Chandigarh</td>\n",
       "      <td>Tue, 29 Mar 2022</td>\n",
       "      <td>Kolkata</td>\n",
       "      <td>15:25</td>\n",
       "      <td>19:35</td>\n",
       "      <td>4h 10m</td>\n",
       "      <td>1 Stop</td>\n",
       "      <td>9,836</td>\n",
       "    </tr>\n",
       "  </tbody>\n",
       "</table>\n",
       "<p>79 rows × 9 columns</p>\n",
       "</div>"
      ],
      "text/plain": [
       "      Airline      Source   Date of Journey Destination Departure  \\\n",
       "0   Air India  Chandigarh  Tue, 29 Mar 2022     Kolkata     20:45   \n",
       "1   Air India  Chandigarh  Wed, 30 Mar 2022     Kolkata     20:45   \n",
       "2   Air India  Chandigarh  Tue, 29 Mar 2022     Kolkata     20:45   \n",
       "3     Vistara  Chandigarh  Wed, 30 Mar 2022     Kolkata     18:50   \n",
       "4     Vistara  Chandigarh  Tue, 29 Mar 2022     Kolkata     18:50   \n",
       "..        ...         ...               ...         ...       ...   \n",
       "74    Vistara  Chandigarh  Tue, 29 Mar 2022     Kolkata     08:55   \n",
       "75  Air India  Chandigarh  Wed, 30 Mar 2022     Kolkata     07:05   \n",
       "76  Air India  Chandigarh  Tue, 29 Mar 2022     Kolkata     11:00   \n",
       "77  Air India  Chandigarh  Wed, 30 Mar 2022     Kolkata     11:00   \n",
       "78    Vistara  Chandigarh  Tue, 29 Mar 2022     Kolkata     15:25   \n",
       "\n",
       "          Arrival Duration      Stops  Price  \n",
       "0   09:00 + 1 day  12h 15m     1 Stop  3,759  \n",
       "1   11:05 + 1 day  14h 20m  2 Stop(s)  3,759  \n",
       "2   22:20 + 1 day  25h 35m     1 Stop  3,759  \n",
       "3   08:20 + 1 day  13h 30m     1 Stop  3,906  \n",
       "4   09:35 + 1 day  14h 45m     1 Stop  3,906  \n",
       "..            ...      ...        ...    ...  \n",
       "74          22:45  13h 50m  2 Stop(s)  8,199  \n",
       "75  20:05 + 1 day  37h 00m  3 Stop(s)  8,915  \n",
       "76          22:20  11h 20m  2 Stop(s)  8,988  \n",
       "77          19:10   8h 10m  2 Stop(s)  9,409  \n",
       "78          19:35   4h 10m     1 Stop  9,836  \n",
       "\n",
       "[79 rows x 9 columns]"
      ]
     },
     "execution_count": 368,
     "metadata": {},
     "output_type": "execute_result"
    }
   ],
   "source": [
    "job12=pd.DataFrame({})  #creating the dataframe and saving it in different titles.\n",
    "job12['Airline']=flightname12\n",
    "job12['Source']=source25\n",
    "job12['Date of Journey']=date25\n",
    "job12['Destination']=destination10\n",
    "job12['Departure']=time13\n",
    "job12['Arrival']=artime13\n",
    "job12['Duration']=duration12\n",
    "job12['Stops']=stop13\n",
    "job12['Price']=price12\n",
    "job12"
   ]
  },
  {
   "cell_type": "code",
   "execution_count": 369,
   "id": "ea567446",
   "metadata": {},
   "outputs": [],
   "source": [
    "#extracting the data from yatra.com from chennai to bangalore\n",
    "driver.get(\"https://flight.yatra.com/air-search-ui/seodom/trigger?ADT=1&CHD=0&INF=0&class=Economy&destination=BLR&destinationCountry=IN&flexi=0&flight_depart_date=24%2F03%2F2022&hb=0&noOfSegments=1&origin=MAA&originCountry=IN&type=O&unique=1071898737656&version=1.1&viewName=normal\")"
   ]
  },
  {
   "cell_type": "code",
   "execution_count": 370,
   "id": "9124c551",
   "metadata": {},
   "outputs": [],
   "source": [
    "flightname13=[] #airline name\n",
    "name=driver.find_elements_by_xpath(\"//span[@class='i-b text ellipsis']\")\n",
    "for i in name:\n",
    "    flightname13.append(i.text)"
   ]
  },
  {
   "cell_type": "code",
   "execution_count": 371,
   "id": "a03f1d1e",
   "metadata": {},
   "outputs": [
    {
     "data": {
      "text/plain": [
       "83"
      ]
     },
     "execution_count": 371,
     "metadata": {},
     "output_type": "execute_result"
    }
   ],
   "source": [
    "len(flightname13)"
   ]
  },
  {
   "cell_type": "code",
   "execution_count": 372,
   "id": "f3a23b9f",
   "metadata": {},
   "outputs": [],
   "source": [
    "time14=[] #departure time\n",
    "tim=driver.find_elements_by_xpath(\"//div[@class='i-b pr']\")\n",
    "for i in tim:\n",
    "    time14.append(i.text)"
   ]
  },
  {
   "cell_type": "code",
   "execution_count": 373,
   "id": "1a6cfd89",
   "metadata": {},
   "outputs": [
    {
     "data": {
      "text/plain": [
       "['08:20', '16:05', '09:00', '13:05', '16:30']"
      ]
     },
     "execution_count": 373,
     "metadata": {},
     "output_type": "execute_result"
    }
   ],
   "source": [
    "time14[:5]"
   ]
  },
  {
   "cell_type": "code",
   "execution_count": 374,
   "id": "4915f559",
   "metadata": {},
   "outputs": [],
   "source": [
    "artime14=[]  #Arrival Time\n",
    "ar=driver.find_elements_by_xpath(\"//p[@class='bold fs-15 mb-2 pr time']\")\n",
    "for i in ar:\n",
    "    artime14.append(i.text.replace(\"\\n\",\" \"))"
   ]
  },
  {
   "cell_type": "code",
   "execution_count": 375,
   "id": "41d206f8",
   "metadata": {},
   "outputs": [
    {
     "data": {
      "text/plain": [
       "['09:40', '17:00', '10:05', '14:10', '17:35']"
      ]
     },
     "execution_count": 375,
     "metadata": {},
     "output_type": "execute_result"
    }
   ],
   "source": [
    "artime14[:5]"
   ]
  },
  {
   "cell_type": "code",
   "execution_count": 376,
   "id": "a09eb6f3",
   "metadata": {},
   "outputs": [],
   "source": [
    "source26=[]  #Source from where the flight take off\n",
    "sou=driver.find_elements_by_xpath(\"//p[@class='fs-10 font-lightgrey no-wrap city ellipsis']\")\n",
    "for i in sou:\n",
    "    source26.append(i.text)"
   ]
  },
  {
   "cell_type": "code",
   "execution_count": 377,
   "id": "86348e2e",
   "metadata": {},
   "outputs": [
    {
     "data": {
      "text/plain": [
       "['Chennai', 'Chennai', 'Chennai', 'Chennai', 'Chennai']"
      ]
     },
     "execution_count": 377,
     "metadata": {},
     "output_type": "execute_result"
    }
   ],
   "source": [
    "source27=source26[::2]\n",
    "source27[:5]"
   ]
  },
  {
   "cell_type": "code",
   "execution_count": 378,
   "id": "cc500195",
   "metadata": {},
   "outputs": [
    {
     "data": {
      "text/plain": [
       "['Bangalore', 'Bangalore', 'Bangalore', 'Bangalore', 'Bangalore']"
      ]
     },
     "execution_count": 378,
     "metadata": {},
     "output_type": "execute_result"
    }
   ],
   "source": [
    "destination11=source26[1::2]\n",
    "destination11[:5]"
   ]
  },
  {
   "cell_type": "code",
   "execution_count": 379,
   "id": "3cc18bbe",
   "metadata": {},
   "outputs": [],
   "source": [
    "duration13=[]  #duration of the flight\n",
    "dura=driver.find_elements_by_xpath(\"//p[@class='fs-12 bold du mb-2']\")\n",
    "for i in dura:\n",
    "    duration13.append(i.text)"
   ]
  },
  {
   "cell_type": "code",
   "execution_count": 380,
   "id": "c3026418",
   "metadata": {},
   "outputs": [
    {
     "data": {
      "text/plain": [
       "['1h 20m', '0h 55m', '1h 05m', '1h 05m', '1h 05m']"
      ]
     },
     "execution_count": 380,
     "metadata": {},
     "output_type": "execute_result"
    }
   ],
   "source": [
    "duration13[:5]"
   ]
  },
  {
   "cell_type": "code",
   "execution_count": 381,
   "id": "e4ea5343",
   "metadata": {},
   "outputs": [],
   "source": [
    "stop14=[]  #number of stops\n",
    "st=driver.find_elements_by_xpath(\"//div[@class=' font-lightgrey fs-10 tipsy i-b fs-10']/span\")\n",
    "for i in st:\n",
    "    stop14.append(i.text)"
   ]
  },
  {
   "cell_type": "code",
   "execution_count": 382,
   "id": "9317342a",
   "metadata": {},
   "outputs": [
    {
     "data": {
      "text/plain": [
       "['Non Stop', 'Non Stop', 'Non Stop', 'Non Stop', 'Non Stop']"
      ]
     },
     "execution_count": 382,
     "metadata": {},
     "output_type": "execute_result"
    }
   ],
   "source": [
    "stop14[:5]"
   ]
  },
  {
   "cell_type": "code",
   "execution_count": 383,
   "id": "67b4778b",
   "metadata": {},
   "outputs": [],
   "source": [
    "price13=[]  #price of the flight\n",
    "pr=driver.find_elements_by_xpath(\"//div[@class='i-b tipsy fare-summary-tooltip fs-18']\")\n",
    "for i in pr:\n",
    "    price13.append(i.text)"
   ]
  },
  {
   "cell_type": "code",
   "execution_count": 384,
   "id": "81374ec5",
   "metadata": {},
   "outputs": [
    {
     "data": {
      "text/plain": [
       "['1,442', '1,443', '1,443', '1,443', '1,443']"
      ]
     },
     "execution_count": 384,
     "metadata": {},
     "output_type": "execute_result"
    }
   ],
   "source": [
    "price13[:5]"
   ]
  },
  {
   "cell_type": "code",
   "execution_count": 385,
   "id": "49edd6fb",
   "metadata": {},
   "outputs": [],
   "source": [
    "list_count=0 #iterating over the each row of the flight and clicking on flight details and fetching date of journey\n",
    "date26=[]\n",
    "while(list_count<170):\n",
    "    \n",
    "   \n",
    "    if(list_count>170):\n",
    "        break\n",
    "    else:\n",
    "        list_count +=1\n",
    "    try:\n",
    "        date=driver.find_elements_by_xpath(\"//div[@class='link-color fs-12 cursor-pointer']\")\n",
    "        date[list_count].click()\n",
    "        time.sleep(5)\n",
    "    except:\n",
    "        pass\n",
    "    finally:\n",
    "        da=driver.find_elements_by_xpath(\"//div[@class='bold fs-12 mb-5']\")\n",
    "        for i in da:\n",
    "            date26.append(i.text)"
   ]
  },
  {
   "cell_type": "code",
   "execution_count": 386,
   "id": "7f533afb",
   "metadata": {},
   "outputs": [
    {
     "data": {
      "text/plain": [
       "83"
      ]
     },
     "execution_count": 386,
     "metadata": {},
     "output_type": "execute_result"
    }
   ],
   "source": [
    "date27=date26[0:83]\n",
    "len(date27)"
   ]
  },
  {
   "cell_type": "code",
   "execution_count": 388,
   "id": "94b09467",
   "metadata": {},
   "outputs": [
    {
     "data": {
      "text/html": [
       "<div>\n",
       "<style scoped>\n",
       "    .dataframe tbody tr th:only-of-type {\n",
       "        vertical-align: middle;\n",
       "    }\n",
       "\n",
       "    .dataframe tbody tr th {\n",
       "        vertical-align: top;\n",
       "    }\n",
       "\n",
       "    .dataframe thead th {\n",
       "        text-align: right;\n",
       "    }\n",
       "</style>\n",
       "<table border=\"1\" class=\"dataframe\">\n",
       "  <thead>\n",
       "    <tr style=\"text-align: right;\">\n",
       "      <th></th>\n",
       "      <th>Airline</th>\n",
       "      <th>Source</th>\n",
       "      <th>Date of Journey</th>\n",
       "      <th>Destination</th>\n",
       "      <th>Departure</th>\n",
       "      <th>Arrival</th>\n",
       "      <th>Duration</th>\n",
       "      <th>Stops</th>\n",
       "      <th>Price</th>\n",
       "    </tr>\n",
       "  </thead>\n",
       "  <tbody>\n",
       "    <tr>\n",
       "      <th>0</th>\n",
       "      <td>SpiceJet</td>\n",
       "      <td>Chennai</td>\n",
       "      <td>Thu, 24 Mar 2022</td>\n",
       "      <td>Bangalore</td>\n",
       "      <td>08:20</td>\n",
       "      <td>09:40</td>\n",
       "      <td>1h 20m</td>\n",
       "      <td>Non Stop</td>\n",
       "      <td>1,442</td>\n",
       "    </tr>\n",
       "    <tr>\n",
       "      <th>1</th>\n",
       "      <td>Air Asia</td>\n",
       "      <td>Chennai</td>\n",
       "      <td>Thu, 24 Mar 2022</td>\n",
       "      <td>Bangalore</td>\n",
       "      <td>16:05</td>\n",
       "      <td>17:00</td>\n",
       "      <td>0h 55m</td>\n",
       "      <td>Non Stop</td>\n",
       "      <td>1,443</td>\n",
       "    </tr>\n",
       "    <tr>\n",
       "      <th>2</th>\n",
       "      <td>IndiGo</td>\n",
       "      <td>Chennai</td>\n",
       "      <td>Thu, 24 Mar 2022</td>\n",
       "      <td>Bangalore</td>\n",
       "      <td>09:00</td>\n",
       "      <td>10:05</td>\n",
       "      <td>1h 05m</td>\n",
       "      <td>Non Stop</td>\n",
       "      <td>1,443</td>\n",
       "    </tr>\n",
       "    <tr>\n",
       "      <th>3</th>\n",
       "      <td>IndiGo</td>\n",
       "      <td>Chennai</td>\n",
       "      <td>Thu, 24 Mar 2022</td>\n",
       "      <td>Bangalore</td>\n",
       "      <td>13:05</td>\n",
       "      <td>14:10</td>\n",
       "      <td>1h 05m</td>\n",
       "      <td>Non Stop</td>\n",
       "      <td>1,443</td>\n",
       "    </tr>\n",
       "    <tr>\n",
       "      <th>4</th>\n",
       "      <td>IndiGo</td>\n",
       "      <td>Chennai</td>\n",
       "      <td>Thu, 24 Mar 2022</td>\n",
       "      <td>Bangalore</td>\n",
       "      <td>16:30</td>\n",
       "      <td>17:35</td>\n",
       "      <td>1h 05m</td>\n",
       "      <td>Non Stop</td>\n",
       "      <td>1,443</td>\n",
       "    </tr>\n",
       "    <tr>\n",
       "      <th>...</th>\n",
       "      <td>...</td>\n",
       "      <td>...</td>\n",
       "      <td>...</td>\n",
       "      <td>...</td>\n",
       "      <td>...</td>\n",
       "      <td>...</td>\n",
       "      <td>...</td>\n",
       "      <td>...</td>\n",
       "      <td>...</td>\n",
       "    </tr>\n",
       "    <tr>\n",
       "      <th>78</th>\n",
       "      <td>Vistara</td>\n",
       "      <td>Chennai</td>\n",
       "      <td>Thu, 24 Mar 2022</td>\n",
       "      <td>Bangalore</td>\n",
       "      <td>06:55</td>\n",
       "      <td>17:45</td>\n",
       "      <td>10h 50m</td>\n",
       "      <td>2 Stop(s)</td>\n",
       "      <td>6,471</td>\n",
       "    </tr>\n",
       "    <tr>\n",
       "      <th>79</th>\n",
       "      <td>Air India</td>\n",
       "      <td>Chennai</td>\n",
       "      <td>Thu, 24 Mar 2022</td>\n",
       "      <td>Bangalore</td>\n",
       "      <td>06:05</td>\n",
       "      <td>19:10</td>\n",
       "      <td>13h 05m</td>\n",
       "      <td>2 Stop(s)</td>\n",
       "      <td>7,504</td>\n",
       "    </tr>\n",
       "    <tr>\n",
       "      <th>80</th>\n",
       "      <td>Vistara</td>\n",
       "      <td>Chennai</td>\n",
       "      <td>Thu, 24 Mar 2022</td>\n",
       "      <td>Bangalore</td>\n",
       "      <td>06:55</td>\n",
       "      <td>16:00</td>\n",
       "      <td>9h 05m</td>\n",
       "      <td>2 Stop(s)</td>\n",
       "      <td>7,996</td>\n",
       "    </tr>\n",
       "    <tr>\n",
       "      <th>81</th>\n",
       "      <td>Vistara</td>\n",
       "      <td>Chennai</td>\n",
       "      <td>Thu, 24 Mar 2022</td>\n",
       "      <td>Bangalore</td>\n",
       "      <td>07:00</td>\n",
       "      <td>16:00</td>\n",
       "      <td>9h 00m</td>\n",
       "      <td>2 Stop(s)</td>\n",
       "      <td>8,151</td>\n",
       "    </tr>\n",
       "    <tr>\n",
       "      <th>82</th>\n",
       "      <td>Go First</td>\n",
       "      <td>Chennai</td>\n",
       "      <td>Thu, 24 Mar 2022</td>\n",
       "      <td>Bangalore</td>\n",
       "      <td>08:15</td>\n",
       "      <td>16:25</td>\n",
       "      <td>8h 10m</td>\n",
       "      <td>1 Stop</td>\n",
       "      <td>9,999</td>\n",
       "    </tr>\n",
       "  </tbody>\n",
       "</table>\n",
       "<p>83 rows × 9 columns</p>\n",
       "</div>"
      ],
      "text/plain": [
       "      Airline   Source   Date of Journey Destination Departure Arrival  \\\n",
       "0    SpiceJet  Chennai  Thu, 24 Mar 2022   Bangalore     08:20   09:40   \n",
       "1    Air Asia  Chennai  Thu, 24 Mar 2022   Bangalore     16:05   17:00   \n",
       "2      IndiGo  Chennai  Thu, 24 Mar 2022   Bangalore     09:00   10:05   \n",
       "3      IndiGo  Chennai  Thu, 24 Mar 2022   Bangalore     13:05   14:10   \n",
       "4      IndiGo  Chennai  Thu, 24 Mar 2022   Bangalore     16:30   17:35   \n",
       "..        ...      ...               ...         ...       ...     ...   \n",
       "78    Vistara  Chennai  Thu, 24 Mar 2022   Bangalore     06:55   17:45   \n",
       "79  Air India  Chennai  Thu, 24 Mar 2022   Bangalore     06:05   19:10   \n",
       "80    Vistara  Chennai  Thu, 24 Mar 2022   Bangalore     06:55   16:00   \n",
       "81    Vistara  Chennai  Thu, 24 Mar 2022   Bangalore     07:00   16:00   \n",
       "82   Go First  Chennai  Thu, 24 Mar 2022   Bangalore     08:15   16:25   \n",
       "\n",
       "   Duration      Stops  Price  \n",
       "0    1h 20m   Non Stop  1,442  \n",
       "1    0h 55m   Non Stop  1,443  \n",
       "2    1h 05m   Non Stop  1,443  \n",
       "3    1h 05m   Non Stop  1,443  \n",
       "4    1h 05m   Non Stop  1,443  \n",
       "..      ...        ...    ...  \n",
       "78  10h 50m  2 Stop(s)  6,471  \n",
       "79  13h 05m  2 Stop(s)  7,504  \n",
       "80   9h 05m  2 Stop(s)  7,996  \n",
       "81   9h 00m  2 Stop(s)  8,151  \n",
       "82   8h 10m     1 Stop  9,999  \n",
       "\n",
       "[83 rows x 9 columns]"
      ]
     },
     "execution_count": 388,
     "metadata": {},
     "output_type": "execute_result"
    }
   ],
   "source": [
    "job13=pd.DataFrame({})  #creating the dataframe and saving it in different titles.\n",
    "job13['Airline']=flightname13\n",
    "job13['Source']=source27\n",
    "job13['Date of Journey']=date27\n",
    "job13['Destination']=destination11\n",
    "job13['Departure']=time14\n",
    "job13['Arrival']=artime14\n",
    "job13['Duration']=duration13\n",
    "job13['Stops']=stop14\n",
    "job13['Price']=price13\n",
    "job13"
   ]
  },
  {
   "cell_type": "code",
   "execution_count": 389,
   "id": "186334a5",
   "metadata": {},
   "outputs": [
    {
     "data": {
      "text/html": [
       "<div>\n",
       "<style scoped>\n",
       "    .dataframe tbody tr th:only-of-type {\n",
       "        vertical-align: middle;\n",
       "    }\n",
       "\n",
       "    .dataframe tbody tr th {\n",
       "        vertical-align: top;\n",
       "    }\n",
       "\n",
       "    .dataframe thead th {\n",
       "        text-align: right;\n",
       "    }\n",
       "</style>\n",
       "<table border=\"1\" class=\"dataframe\">\n",
       "  <thead>\n",
       "    <tr style=\"text-align: right;\">\n",
       "      <th></th>\n",
       "      <th>Airline</th>\n",
       "      <th>Source</th>\n",
       "      <th>Date of Journey</th>\n",
       "      <th>Destination</th>\n",
       "      <th>Departure</th>\n",
       "      <th>Arrival</th>\n",
       "      <th>Duration</th>\n",
       "      <th>Stops</th>\n",
       "      <th>Price</th>\n",
       "    </tr>\n",
       "  </thead>\n",
       "  <tbody>\n",
       "    <tr>\n",
       "      <th>0</th>\n",
       "      <td>SpiceJet</td>\n",
       "      <td>Mumbai</td>\n",
       "      <td>Tue, 8 Mar 2022</td>\n",
       "      <td>Chennai</td>\n",
       "      <td>19:30</td>\n",
       "      <td>21:20</td>\n",
       "      <td>1h 50m</td>\n",
       "      <td>Non Stop</td>\n",
       "      <td>1,888</td>\n",
       "    </tr>\n",
       "    <tr>\n",
       "      <th>1</th>\n",
       "      <td>SpiceJet</td>\n",
       "      <td>Mumbai</td>\n",
       "      <td>Tue, 8 Mar 2022</td>\n",
       "      <td>Chennai</td>\n",
       "      <td>06:00</td>\n",
       "      <td>08:00</td>\n",
       "      <td>2h 00m</td>\n",
       "      <td>Non Stop</td>\n",
       "      <td>1,888</td>\n",
       "    </tr>\n",
       "    <tr>\n",
       "      <th>2</th>\n",
       "      <td>Go First</td>\n",
       "      <td>Mumbai</td>\n",
       "      <td>Tue, 8 Mar 2022</td>\n",
       "      <td>Chennai</td>\n",
       "      <td>05:50</td>\n",
       "      <td>07:40</td>\n",
       "      <td>1h 50m</td>\n",
       "      <td>Non Stop</td>\n",
       "      <td>1,890</td>\n",
       "    </tr>\n",
       "    <tr>\n",
       "      <th>3</th>\n",
       "      <td>IndiGo</td>\n",
       "      <td>Mumbai</td>\n",
       "      <td>Tue, 8 Mar 2022</td>\n",
       "      <td>Chennai</td>\n",
       "      <td>16:25</td>\n",
       "      <td>18:15</td>\n",
       "      <td>1h 50m</td>\n",
       "      <td>Non Stop</td>\n",
       "      <td>1,890</td>\n",
       "    </tr>\n",
       "    <tr>\n",
       "      <th>4</th>\n",
       "      <td>IndiGo</td>\n",
       "      <td>Mumbai</td>\n",
       "      <td>Tue, 8 Mar 2022</td>\n",
       "      <td>Chennai</td>\n",
       "      <td>21:25</td>\n",
       "      <td>23:15</td>\n",
       "      <td>1h 50m</td>\n",
       "      <td>Non Stop</td>\n",
       "      <td>1,890</td>\n",
       "    </tr>\n",
       "    <tr>\n",
       "      <th>...</th>\n",
       "      <td>...</td>\n",
       "      <td>...</td>\n",
       "      <td>...</td>\n",
       "      <td>...</td>\n",
       "      <td>...</td>\n",
       "      <td>...</td>\n",
       "      <td>...</td>\n",
       "      <td>...</td>\n",
       "      <td>...</td>\n",
       "    </tr>\n",
       "    <tr>\n",
       "      <th>78</th>\n",
       "      <td>Vistara</td>\n",
       "      <td>Chennai</td>\n",
       "      <td>Thu, 24 Mar 2022</td>\n",
       "      <td>Bangalore</td>\n",
       "      <td>06:55</td>\n",
       "      <td>17:45</td>\n",
       "      <td>10h 50m</td>\n",
       "      <td>2 Stop(s)</td>\n",
       "      <td>6,471</td>\n",
       "    </tr>\n",
       "    <tr>\n",
       "      <th>79</th>\n",
       "      <td>Air India</td>\n",
       "      <td>Chennai</td>\n",
       "      <td>Thu, 24 Mar 2022</td>\n",
       "      <td>Bangalore</td>\n",
       "      <td>06:05</td>\n",
       "      <td>19:10</td>\n",
       "      <td>13h 05m</td>\n",
       "      <td>2 Stop(s)</td>\n",
       "      <td>7,504</td>\n",
       "    </tr>\n",
       "    <tr>\n",
       "      <th>80</th>\n",
       "      <td>Vistara</td>\n",
       "      <td>Chennai</td>\n",
       "      <td>Thu, 24 Mar 2022</td>\n",
       "      <td>Bangalore</td>\n",
       "      <td>06:55</td>\n",
       "      <td>16:00</td>\n",
       "      <td>9h 05m</td>\n",
       "      <td>2 Stop(s)</td>\n",
       "      <td>7,996</td>\n",
       "    </tr>\n",
       "    <tr>\n",
       "      <th>81</th>\n",
       "      <td>Vistara</td>\n",
       "      <td>Chennai</td>\n",
       "      <td>Thu, 24 Mar 2022</td>\n",
       "      <td>Bangalore</td>\n",
       "      <td>07:00</td>\n",
       "      <td>16:00</td>\n",
       "      <td>9h 00m</td>\n",
       "      <td>2 Stop(s)</td>\n",
       "      <td>8,151</td>\n",
       "    </tr>\n",
       "    <tr>\n",
       "      <th>82</th>\n",
       "      <td>Go First</td>\n",
       "      <td>Chennai</td>\n",
       "      <td>Thu, 24 Mar 2022</td>\n",
       "      <td>Bangalore</td>\n",
       "      <td>08:15</td>\n",
       "      <td>16:25</td>\n",
       "      <td>8h 10m</td>\n",
       "      <td>1 Stop</td>\n",
       "      <td>9,999</td>\n",
       "    </tr>\n",
       "  </tbody>\n",
       "</table>\n",
       "<p>1497 rows × 9 columns</p>\n",
       "</div>"
      ],
      "text/plain": [
       "      Airline   Source   Date of Journey Destination Departure Arrival  \\\n",
       "0    SpiceJet   Mumbai   Tue, 8 Mar 2022     Chennai     19:30   21:20   \n",
       "1    SpiceJet   Mumbai   Tue, 8 Mar 2022     Chennai     06:00   08:00   \n",
       "2    Go First   Mumbai   Tue, 8 Mar 2022     Chennai     05:50   07:40   \n",
       "3      IndiGo   Mumbai   Tue, 8 Mar 2022     Chennai     16:25   18:15   \n",
       "4      IndiGo   Mumbai   Tue, 8 Mar 2022     Chennai     21:25   23:15   \n",
       "..        ...      ...               ...         ...       ...     ...   \n",
       "78    Vistara  Chennai  Thu, 24 Mar 2022   Bangalore     06:55   17:45   \n",
       "79  Air India  Chennai  Thu, 24 Mar 2022   Bangalore     06:05   19:10   \n",
       "80    Vistara  Chennai  Thu, 24 Mar 2022   Bangalore     06:55   16:00   \n",
       "81    Vistara  Chennai  Thu, 24 Mar 2022   Bangalore     07:00   16:00   \n",
       "82   Go First  Chennai  Thu, 24 Mar 2022   Bangalore     08:15   16:25   \n",
       "\n",
       "   Duration      Stops  Price  \n",
       "0    1h 50m   Non Stop  1,888  \n",
       "1    2h 00m   Non Stop  1,888  \n",
       "2    1h 50m   Non Stop  1,890  \n",
       "3    1h 50m   Non Stop  1,890  \n",
       "4    1h 50m   Non Stop  1,890  \n",
       "..      ...        ...    ...  \n",
       "78  10h 50m  2 Stop(s)  6,471  \n",
       "79  13h 05m  2 Stop(s)  7,504  \n",
       "80   9h 05m  2 Stop(s)  7,996  \n",
       "81   9h 00m  2 Stop(s)  8,151  \n",
       "82   8h 10m     1 Stop  9,999  \n",
       "\n",
       "[1497 rows x 9 columns]"
      ]
     },
     "execution_count": 389,
     "metadata": {},
     "output_type": "execute_result"
    }
   ],
   "source": [
    "frames3=[df3,job11,job12,job13] #concatinating the data\n",
    "df4=pd.concat(frames3)\n",
    "df4"
   ]
  },
  {
   "cell_type": "code",
   "execution_count": 449,
   "id": "3d399bd7",
   "metadata": {},
   "outputs": [],
   "source": [
    "df4['Day'],df4['Date of journey']=df4['Date of Journey'].str.split(',',2).str\n",
    "df4.drop('Date of Journey',axis=1,inplace=True)"
   ]
  },
  {
   "cell_type": "code",
   "execution_count": 450,
   "id": "5b150990",
   "metadata": {},
   "outputs": [
    {
     "data": {
      "text/html": [
       "<div>\n",
       "<style scoped>\n",
       "    .dataframe tbody tr th:only-of-type {\n",
       "        vertical-align: middle;\n",
       "    }\n",
       "\n",
       "    .dataframe tbody tr th {\n",
       "        vertical-align: top;\n",
       "    }\n",
       "\n",
       "    .dataframe thead th {\n",
       "        text-align: right;\n",
       "    }\n",
       "</style>\n",
       "<table border=\"1\" class=\"dataframe\">\n",
       "  <thead>\n",
       "    <tr style=\"text-align: right;\">\n",
       "      <th></th>\n",
       "      <th>Airline</th>\n",
       "      <th>Source</th>\n",
       "      <th>Destination</th>\n",
       "      <th>Departure</th>\n",
       "      <th>Arrival</th>\n",
       "      <th>Duration</th>\n",
       "      <th>Stops</th>\n",
       "      <th>Price</th>\n",
       "      <th>Day</th>\n",
       "      <th>Date of journey</th>\n",
       "    </tr>\n",
       "  </thead>\n",
       "  <tbody>\n",
       "    <tr>\n",
       "      <th>0</th>\n",
       "      <td>SpiceJet</td>\n",
       "      <td>Mumbai</td>\n",
       "      <td>Chennai</td>\n",
       "      <td>19:30</td>\n",
       "      <td>21:20</td>\n",
       "      <td>1h 50m</td>\n",
       "      <td>Non Stop</td>\n",
       "      <td>1,888</td>\n",
       "      <td>Tue</td>\n",
       "      <td>8 Mar 2022</td>\n",
       "    </tr>\n",
       "    <tr>\n",
       "      <th>1</th>\n",
       "      <td>SpiceJet</td>\n",
       "      <td>Mumbai</td>\n",
       "      <td>Chennai</td>\n",
       "      <td>06:00</td>\n",
       "      <td>08:00</td>\n",
       "      <td>2h 00m</td>\n",
       "      <td>Non Stop</td>\n",
       "      <td>1,888</td>\n",
       "      <td>Tue</td>\n",
       "      <td>8 Mar 2022</td>\n",
       "    </tr>\n",
       "    <tr>\n",
       "      <th>2</th>\n",
       "      <td>Go First</td>\n",
       "      <td>Mumbai</td>\n",
       "      <td>Chennai</td>\n",
       "      <td>05:50</td>\n",
       "      <td>07:40</td>\n",
       "      <td>1h 50m</td>\n",
       "      <td>Non Stop</td>\n",
       "      <td>1,890</td>\n",
       "      <td>Tue</td>\n",
       "      <td>8 Mar 2022</td>\n",
       "    </tr>\n",
       "    <tr>\n",
       "      <th>3</th>\n",
       "      <td>IndiGo</td>\n",
       "      <td>Mumbai</td>\n",
       "      <td>Chennai</td>\n",
       "      <td>16:25</td>\n",
       "      <td>18:15</td>\n",
       "      <td>1h 50m</td>\n",
       "      <td>Non Stop</td>\n",
       "      <td>1,890</td>\n",
       "      <td>Tue</td>\n",
       "      <td>8 Mar 2022</td>\n",
       "    </tr>\n",
       "    <tr>\n",
       "      <th>4</th>\n",
       "      <td>IndiGo</td>\n",
       "      <td>Mumbai</td>\n",
       "      <td>Chennai</td>\n",
       "      <td>21:25</td>\n",
       "      <td>23:15</td>\n",
       "      <td>1h 50m</td>\n",
       "      <td>Non Stop</td>\n",
       "      <td>1,890</td>\n",
       "      <td>Tue</td>\n",
       "      <td>8 Mar 2022</td>\n",
       "    </tr>\n",
       "    <tr>\n",
       "      <th>...</th>\n",
       "      <td>...</td>\n",
       "      <td>...</td>\n",
       "      <td>...</td>\n",
       "      <td>...</td>\n",
       "      <td>...</td>\n",
       "      <td>...</td>\n",
       "      <td>...</td>\n",
       "      <td>...</td>\n",
       "      <td>...</td>\n",
       "      <td>...</td>\n",
       "    </tr>\n",
       "    <tr>\n",
       "      <th>78</th>\n",
       "      <td>Vistara</td>\n",
       "      <td>Chennai</td>\n",
       "      <td>Bangalore</td>\n",
       "      <td>06:55</td>\n",
       "      <td>17:45</td>\n",
       "      <td>10h 50m</td>\n",
       "      <td>2 Stop(s)</td>\n",
       "      <td>6,471</td>\n",
       "      <td>Thu</td>\n",
       "      <td>24 Mar 2022</td>\n",
       "    </tr>\n",
       "    <tr>\n",
       "      <th>79</th>\n",
       "      <td>Air India</td>\n",
       "      <td>Chennai</td>\n",
       "      <td>Bangalore</td>\n",
       "      <td>06:05</td>\n",
       "      <td>19:10</td>\n",
       "      <td>13h 05m</td>\n",
       "      <td>2 Stop(s)</td>\n",
       "      <td>7,504</td>\n",
       "      <td>Thu</td>\n",
       "      <td>24 Mar 2022</td>\n",
       "    </tr>\n",
       "    <tr>\n",
       "      <th>80</th>\n",
       "      <td>Vistara</td>\n",
       "      <td>Chennai</td>\n",
       "      <td>Bangalore</td>\n",
       "      <td>06:55</td>\n",
       "      <td>16:00</td>\n",
       "      <td>9h 05m</td>\n",
       "      <td>2 Stop(s)</td>\n",
       "      <td>7,996</td>\n",
       "      <td>Thu</td>\n",
       "      <td>24 Mar 2022</td>\n",
       "    </tr>\n",
       "    <tr>\n",
       "      <th>81</th>\n",
       "      <td>Vistara</td>\n",
       "      <td>Chennai</td>\n",
       "      <td>Bangalore</td>\n",
       "      <td>07:00</td>\n",
       "      <td>16:00</td>\n",
       "      <td>9h 00m</td>\n",
       "      <td>2 Stop(s)</td>\n",
       "      <td>8,151</td>\n",
       "      <td>Thu</td>\n",
       "      <td>24 Mar 2022</td>\n",
       "    </tr>\n",
       "    <tr>\n",
       "      <th>82</th>\n",
       "      <td>Go First</td>\n",
       "      <td>Chennai</td>\n",
       "      <td>Bangalore</td>\n",
       "      <td>08:15</td>\n",
       "      <td>16:25</td>\n",
       "      <td>8h 10m</td>\n",
       "      <td>1 Stop</td>\n",
       "      <td>9,999</td>\n",
       "      <td>Thu</td>\n",
       "      <td>24 Mar 2022</td>\n",
       "    </tr>\n",
       "  </tbody>\n",
       "</table>\n",
       "<p>1497 rows × 10 columns</p>\n",
       "</div>"
      ],
      "text/plain": [
       "      Airline   Source Destination Departure Arrival Duration      Stops  \\\n",
       "0    SpiceJet   Mumbai     Chennai     19:30   21:20   1h 50m   Non Stop   \n",
       "1    SpiceJet   Mumbai     Chennai     06:00   08:00   2h 00m   Non Stop   \n",
       "2    Go First   Mumbai     Chennai     05:50   07:40   1h 50m   Non Stop   \n",
       "3      IndiGo   Mumbai     Chennai     16:25   18:15   1h 50m   Non Stop   \n",
       "4      IndiGo   Mumbai     Chennai     21:25   23:15   1h 50m   Non Stop   \n",
       "..        ...      ...         ...       ...     ...      ...        ...   \n",
       "78    Vistara  Chennai   Bangalore     06:55   17:45  10h 50m  2 Stop(s)   \n",
       "79  Air India  Chennai   Bangalore     06:05   19:10  13h 05m  2 Stop(s)   \n",
       "80    Vistara  Chennai   Bangalore     06:55   16:00   9h 05m  2 Stop(s)   \n",
       "81    Vistara  Chennai   Bangalore     07:00   16:00   9h 00m  2 Stop(s)   \n",
       "82   Go First  Chennai   Bangalore     08:15   16:25   8h 10m     1 Stop   \n",
       "\n",
       "    Price  Day Date of journey  \n",
       "0   1,888  Tue      8 Mar 2022  \n",
       "1   1,888  Tue      8 Mar 2022  \n",
       "2   1,890  Tue      8 Mar 2022  \n",
       "3   1,890  Tue      8 Mar 2022  \n",
       "4   1,890  Tue      8 Mar 2022  \n",
       "..    ...  ...             ...  \n",
       "78  6,471  Thu     24 Mar 2022  \n",
       "79  7,504  Thu     24 Mar 2022  \n",
       "80  7,996  Thu     24 Mar 2022  \n",
       "81  8,151  Thu     24 Mar 2022  \n",
       "82  9,999  Thu     24 Mar 2022  \n",
       "\n",
       "[1497 rows x 10 columns]"
      ]
     },
     "execution_count": 450,
     "metadata": {},
     "output_type": "execute_result"
    }
   ],
   "source": [
    "df4"
   ]
  },
  {
   "cell_type": "code",
   "execution_count": 451,
   "id": "00a3600d",
   "metadata": {},
   "outputs": [],
   "source": [
    "df4.drop('Day',axis=1, inplace=True)"
   ]
  },
  {
   "cell_type": "code",
   "execution_count": 452,
   "id": "3e67d1c7",
   "metadata": {},
   "outputs": [
    {
     "data": {
      "text/html": [
       "<div>\n",
       "<style scoped>\n",
       "    .dataframe tbody tr th:only-of-type {\n",
       "        vertical-align: middle;\n",
       "    }\n",
       "\n",
       "    .dataframe tbody tr th {\n",
       "        vertical-align: top;\n",
       "    }\n",
       "\n",
       "    .dataframe thead th {\n",
       "        text-align: right;\n",
       "    }\n",
       "</style>\n",
       "<table border=\"1\" class=\"dataframe\">\n",
       "  <thead>\n",
       "    <tr style=\"text-align: right;\">\n",
       "      <th></th>\n",
       "      <th>Airline</th>\n",
       "      <th>Source</th>\n",
       "      <th>Date of journey</th>\n",
       "      <th>Destination</th>\n",
       "      <th>Departure</th>\n",
       "      <th>Arrival</th>\n",
       "      <th>Duration</th>\n",
       "      <th>Stops</th>\n",
       "      <th>Price</th>\n",
       "    </tr>\n",
       "  </thead>\n",
       "  <tbody>\n",
       "    <tr>\n",
       "      <th>0</th>\n",
       "      <td>SpiceJet</td>\n",
       "      <td>Mumbai</td>\n",
       "      <td>8 Mar 2022</td>\n",
       "      <td>Chennai</td>\n",
       "      <td>19:30</td>\n",
       "      <td>21:20</td>\n",
       "      <td>1h 50m</td>\n",
       "      <td>Non Stop</td>\n",
       "      <td>1,888</td>\n",
       "    </tr>\n",
       "    <tr>\n",
       "      <th>1</th>\n",
       "      <td>SpiceJet</td>\n",
       "      <td>Mumbai</td>\n",
       "      <td>8 Mar 2022</td>\n",
       "      <td>Chennai</td>\n",
       "      <td>06:00</td>\n",
       "      <td>08:00</td>\n",
       "      <td>2h 00m</td>\n",
       "      <td>Non Stop</td>\n",
       "      <td>1,888</td>\n",
       "    </tr>\n",
       "    <tr>\n",
       "      <th>2</th>\n",
       "      <td>Go First</td>\n",
       "      <td>Mumbai</td>\n",
       "      <td>8 Mar 2022</td>\n",
       "      <td>Chennai</td>\n",
       "      <td>05:50</td>\n",
       "      <td>07:40</td>\n",
       "      <td>1h 50m</td>\n",
       "      <td>Non Stop</td>\n",
       "      <td>1,890</td>\n",
       "    </tr>\n",
       "    <tr>\n",
       "      <th>3</th>\n",
       "      <td>IndiGo</td>\n",
       "      <td>Mumbai</td>\n",
       "      <td>8 Mar 2022</td>\n",
       "      <td>Chennai</td>\n",
       "      <td>16:25</td>\n",
       "      <td>18:15</td>\n",
       "      <td>1h 50m</td>\n",
       "      <td>Non Stop</td>\n",
       "      <td>1,890</td>\n",
       "    </tr>\n",
       "    <tr>\n",
       "      <th>4</th>\n",
       "      <td>IndiGo</td>\n",
       "      <td>Mumbai</td>\n",
       "      <td>8 Mar 2022</td>\n",
       "      <td>Chennai</td>\n",
       "      <td>21:25</td>\n",
       "      <td>23:15</td>\n",
       "      <td>1h 50m</td>\n",
       "      <td>Non Stop</td>\n",
       "      <td>1,890</td>\n",
       "    </tr>\n",
       "    <tr>\n",
       "      <th>...</th>\n",
       "      <td>...</td>\n",
       "      <td>...</td>\n",
       "      <td>...</td>\n",
       "      <td>...</td>\n",
       "      <td>...</td>\n",
       "      <td>...</td>\n",
       "      <td>...</td>\n",
       "      <td>...</td>\n",
       "      <td>...</td>\n",
       "    </tr>\n",
       "    <tr>\n",
       "      <th>78</th>\n",
       "      <td>Vistara</td>\n",
       "      <td>Chennai</td>\n",
       "      <td>24 Mar 2022</td>\n",
       "      <td>Bangalore</td>\n",
       "      <td>06:55</td>\n",
       "      <td>17:45</td>\n",
       "      <td>10h 50m</td>\n",
       "      <td>2 Stop(s)</td>\n",
       "      <td>6,471</td>\n",
       "    </tr>\n",
       "    <tr>\n",
       "      <th>79</th>\n",
       "      <td>Air India</td>\n",
       "      <td>Chennai</td>\n",
       "      <td>24 Mar 2022</td>\n",
       "      <td>Bangalore</td>\n",
       "      <td>06:05</td>\n",
       "      <td>19:10</td>\n",
       "      <td>13h 05m</td>\n",
       "      <td>2 Stop(s)</td>\n",
       "      <td>7,504</td>\n",
       "    </tr>\n",
       "    <tr>\n",
       "      <th>80</th>\n",
       "      <td>Vistara</td>\n",
       "      <td>Chennai</td>\n",
       "      <td>24 Mar 2022</td>\n",
       "      <td>Bangalore</td>\n",
       "      <td>06:55</td>\n",
       "      <td>16:00</td>\n",
       "      <td>9h 05m</td>\n",
       "      <td>2 Stop(s)</td>\n",
       "      <td>7,996</td>\n",
       "    </tr>\n",
       "    <tr>\n",
       "      <th>81</th>\n",
       "      <td>Vistara</td>\n",
       "      <td>Chennai</td>\n",
       "      <td>24 Mar 2022</td>\n",
       "      <td>Bangalore</td>\n",
       "      <td>07:00</td>\n",
       "      <td>16:00</td>\n",
       "      <td>9h 00m</td>\n",
       "      <td>2 Stop(s)</td>\n",
       "      <td>8,151</td>\n",
       "    </tr>\n",
       "    <tr>\n",
       "      <th>82</th>\n",
       "      <td>Go First</td>\n",
       "      <td>Chennai</td>\n",
       "      <td>24 Mar 2022</td>\n",
       "      <td>Bangalore</td>\n",
       "      <td>08:15</td>\n",
       "      <td>16:25</td>\n",
       "      <td>8h 10m</td>\n",
       "      <td>1 Stop</td>\n",
       "      <td>9,999</td>\n",
       "    </tr>\n",
       "  </tbody>\n",
       "</table>\n",
       "<p>1497 rows × 9 columns</p>\n",
       "</div>"
      ],
      "text/plain": [
       "      Airline   Source Date of journey Destination Departure Arrival Duration  \\\n",
       "0    SpiceJet   Mumbai      8 Mar 2022     Chennai     19:30   21:20   1h 50m   \n",
       "1    SpiceJet   Mumbai      8 Mar 2022     Chennai     06:00   08:00   2h 00m   \n",
       "2    Go First   Mumbai      8 Mar 2022     Chennai     05:50   07:40   1h 50m   \n",
       "3      IndiGo   Mumbai      8 Mar 2022     Chennai     16:25   18:15   1h 50m   \n",
       "4      IndiGo   Mumbai      8 Mar 2022     Chennai     21:25   23:15   1h 50m   \n",
       "..        ...      ...             ...         ...       ...     ...      ...   \n",
       "78    Vistara  Chennai     24 Mar 2022   Bangalore     06:55   17:45  10h 50m   \n",
       "79  Air India  Chennai     24 Mar 2022   Bangalore     06:05   19:10  13h 05m   \n",
       "80    Vistara  Chennai     24 Mar 2022   Bangalore     06:55   16:00   9h 05m   \n",
       "81    Vistara  Chennai     24 Mar 2022   Bangalore     07:00   16:00   9h 00m   \n",
       "82   Go First  Chennai     24 Mar 2022   Bangalore     08:15   16:25   8h 10m   \n",
       "\n",
       "        Stops  Price  \n",
       "0    Non Stop  1,888  \n",
       "1    Non Stop  1,888  \n",
       "2    Non Stop  1,890  \n",
       "3    Non Stop  1,890  \n",
       "4    Non Stop  1,890  \n",
       "..        ...    ...  \n",
       "78  2 Stop(s)  6,471  \n",
       "79  2 Stop(s)  7,504  \n",
       "80  2 Stop(s)  7,996  \n",
       "81  2 Stop(s)  8,151  \n",
       "82     1 Stop  9,999  \n",
       "\n",
       "[1497 rows x 9 columns]"
      ]
     },
     "execution_count": 452,
     "metadata": {},
     "output_type": "execute_result"
    }
   ],
   "source": [
    "columns=['Airline', 'Source', 'Date of journey','Destination', 'Departure','Arrival','Duration','Stops','Price']\n",
    "df9=df4.reindex(columns=columns)\n",
    "df9"
   ]
  },
  {
   "cell_type": "code",
   "execution_count": 453,
   "id": "49c2570e",
   "metadata": {},
   "outputs": [],
   "source": [
    "df9.rename(columns={'Date of journey': 'Date of Journey'}, inplace=True)"
   ]
  },
  {
   "cell_type": "code",
   "execution_count": 401,
   "id": "1c2aad5e",
   "metadata": {},
   "outputs": [],
   "source": [
    "df9.to_csv(\"flightdatayatra.csv\")  #saving the data to csv format"
   ]
  },
  {
   "cell_type": "code",
   "execution_count": 443,
   "id": "5b4de8c5",
   "metadata": {},
   "outputs": [],
   "source": [
    "df8=pd.read_csv(\"flightpricedatammt111.csv\")  #importing the data collected from make my trip"
   ]
  },
  {
   "cell_type": "code",
   "execution_count": 444,
   "id": "27726234",
   "metadata": {},
   "outputs": [
    {
     "data": {
      "text/html": [
       "<div>\n",
       "<style scoped>\n",
       "    .dataframe tbody tr th:only-of-type {\n",
       "        vertical-align: middle;\n",
       "    }\n",
       "\n",
       "    .dataframe tbody tr th {\n",
       "        vertical-align: top;\n",
       "    }\n",
       "\n",
       "    .dataframe thead th {\n",
       "        text-align: right;\n",
       "    }\n",
       "</style>\n",
       "<table border=\"1\" class=\"dataframe\">\n",
       "  <thead>\n",
       "    <tr style=\"text-align: right;\">\n",
       "      <th></th>\n",
       "      <th>Unnamed: 0</th>\n",
       "      <th>Airline</th>\n",
       "      <th>Source</th>\n",
       "      <th>Date of Journey</th>\n",
       "      <th>Destination</th>\n",
       "      <th>Departure</th>\n",
       "      <th>Arrival</th>\n",
       "      <th>Duration</th>\n",
       "      <th>Stops</th>\n",
       "      <th>Price</th>\n",
       "    </tr>\n",
       "  </thead>\n",
       "  <tbody>\n",
       "    <tr>\n",
       "      <th>0</th>\n",
       "      <td>0</td>\n",
       "      <td>Go First</td>\n",
       "      <td>New Delhi</td>\n",
       "      <td>28 Jan 2022</td>\n",
       "      <td>Bengaluru</td>\n",
       "      <td>06:00</td>\n",
       "      <td>10:25</td>\n",
       "      <td>04 h 25 m</td>\n",
       "      <td>1 stop via Ahmedabad</td>\n",
       "      <td>7,424</td>\n",
       "    </tr>\n",
       "    <tr>\n",
       "      <th>1</th>\n",
       "      <td>1</td>\n",
       "      <td>Go First</td>\n",
       "      <td>New Delhi</td>\n",
       "      <td>28 Jan 2022</td>\n",
       "      <td>Bengaluru</td>\n",
       "      <td>15:00</td>\n",
       "      <td>21:00</td>\n",
       "      <td>06 h</td>\n",
       "      <td>1 stop via Ranchi</td>\n",
       "      <td>7,424</td>\n",
       "    </tr>\n",
       "    <tr>\n",
       "      <th>2</th>\n",
       "      <td>2</td>\n",
       "      <td>Go First</td>\n",
       "      <td>New Delhi</td>\n",
       "      <td>28 Jan 2022</td>\n",
       "      <td>Bengaluru</td>\n",
       "      <td>14:20</td>\n",
       "      <td>22:20</td>\n",
       "      <td>08 h</td>\n",
       "      <td>1 stop via Mumbai</td>\n",
       "      <td>7,424</td>\n",
       "    </tr>\n",
       "    <tr>\n",
       "      <th>3</th>\n",
       "      <td>3</td>\n",
       "      <td>Go First</td>\n",
       "      <td>New Delhi</td>\n",
       "      <td>28 Jan 2022</td>\n",
       "      <td>Bengaluru</td>\n",
       "      <td>08:00</td>\n",
       "      <td>22:20</td>\n",
       "      <td>14 h 20 m</td>\n",
       "      <td>1 stop via Mumbai</td>\n",
       "      <td>7,424</td>\n",
       "    </tr>\n",
       "    <tr>\n",
       "      <th>4</th>\n",
       "      <td>4</td>\n",
       "      <td>Go First</td>\n",
       "      <td>New Delhi</td>\n",
       "      <td>28 Jan 2022</td>\n",
       "      <td>Bengaluru</td>\n",
       "      <td>21:00</td>\n",
       "      <td>09:55</td>\n",
       "      <td>12 h 55 m</td>\n",
       "      <td>1 stop via Mumbai</td>\n",
       "      <td>7,424</td>\n",
       "    </tr>\n",
       "  </tbody>\n",
       "</table>\n",
       "</div>"
      ],
      "text/plain": [
       "   Unnamed: 0   Airline     Source Date of Journey Destination Departure  \\\n",
       "0           0  Go First  New Delhi     28 Jan 2022   Bengaluru     06:00   \n",
       "1           1  Go First  New Delhi     28 Jan 2022   Bengaluru     15:00   \n",
       "2           2  Go First  New Delhi     28 Jan 2022   Bengaluru     14:20   \n",
       "3           3  Go First  New Delhi     28 Jan 2022   Bengaluru     08:00   \n",
       "4           4  Go First  New Delhi     28 Jan 2022   Bengaluru     21:00   \n",
       "\n",
       "  Arrival   Duration                 Stops  Price  \n",
       "0   10:25  04 h 25 m  1 stop via Ahmedabad  7,424  \n",
       "1   21:00       06 h     1 stop via Ranchi  7,424  \n",
       "2   22:20       08 h     1 stop via Mumbai  7,424  \n",
       "3   22:20  14 h 20 m     1 stop via Mumbai  7,424  \n",
       "4   09:55  12 h 55 m     1 stop via Mumbai  7,424  "
      ]
     },
     "execution_count": 444,
     "metadata": {},
     "output_type": "execute_result"
    }
   ],
   "source": [
    "df8.head()"
   ]
  },
  {
   "cell_type": "code",
   "execution_count": 445,
   "id": "73f9ce21",
   "metadata": {},
   "outputs": [],
   "source": [
    "df8.drop('Unnamed: 0', axis=1, inplace=True)"
   ]
  },
  {
   "cell_type": "code",
   "execution_count": 446,
   "id": "0456e4f0",
   "metadata": {},
   "outputs": [
    {
     "data": {
      "text/html": [
       "<div>\n",
       "<style scoped>\n",
       "    .dataframe tbody tr th:only-of-type {\n",
       "        vertical-align: middle;\n",
       "    }\n",
       "\n",
       "    .dataframe tbody tr th {\n",
       "        vertical-align: top;\n",
       "    }\n",
       "\n",
       "    .dataframe thead th {\n",
       "        text-align: right;\n",
       "    }\n",
       "</style>\n",
       "<table border=\"1\" class=\"dataframe\">\n",
       "  <thead>\n",
       "    <tr style=\"text-align: right;\">\n",
       "      <th></th>\n",
       "      <th>Airline</th>\n",
       "      <th>Source</th>\n",
       "      <th>Date of Journey</th>\n",
       "      <th>Destination</th>\n",
       "      <th>Departure</th>\n",
       "      <th>Arrival</th>\n",
       "      <th>Duration</th>\n",
       "      <th>Stops</th>\n",
       "      <th>Price</th>\n",
       "    </tr>\n",
       "  </thead>\n",
       "  <tbody>\n",
       "    <tr>\n",
       "      <th>0</th>\n",
       "      <td>Go First</td>\n",
       "      <td>New Delhi</td>\n",
       "      <td>28 Jan 2022</td>\n",
       "      <td>Bengaluru</td>\n",
       "      <td>06:00</td>\n",
       "      <td>10:25</td>\n",
       "      <td>04 h 25 m</td>\n",
       "      <td>1 stop via Ahmedabad</td>\n",
       "      <td>7,424</td>\n",
       "    </tr>\n",
       "    <tr>\n",
       "      <th>1</th>\n",
       "      <td>Go First</td>\n",
       "      <td>New Delhi</td>\n",
       "      <td>28 Jan 2022</td>\n",
       "      <td>Bengaluru</td>\n",
       "      <td>15:00</td>\n",
       "      <td>21:00</td>\n",
       "      <td>06 h</td>\n",
       "      <td>1 stop via Ranchi</td>\n",
       "      <td>7,424</td>\n",
       "    </tr>\n",
       "    <tr>\n",
       "      <th>2</th>\n",
       "      <td>Go First</td>\n",
       "      <td>New Delhi</td>\n",
       "      <td>28 Jan 2022</td>\n",
       "      <td>Bengaluru</td>\n",
       "      <td>14:20</td>\n",
       "      <td>22:20</td>\n",
       "      <td>08 h</td>\n",
       "      <td>1 stop via Mumbai</td>\n",
       "      <td>7,424</td>\n",
       "    </tr>\n",
       "    <tr>\n",
       "      <th>3</th>\n",
       "      <td>Go First</td>\n",
       "      <td>New Delhi</td>\n",
       "      <td>28 Jan 2022</td>\n",
       "      <td>Bengaluru</td>\n",
       "      <td>08:00</td>\n",
       "      <td>22:20</td>\n",
       "      <td>14 h 20 m</td>\n",
       "      <td>1 stop via Mumbai</td>\n",
       "      <td>7,424</td>\n",
       "    </tr>\n",
       "    <tr>\n",
       "      <th>4</th>\n",
       "      <td>Go First</td>\n",
       "      <td>New Delhi</td>\n",
       "      <td>28 Jan 2022</td>\n",
       "      <td>Bengaluru</td>\n",
       "      <td>21:00</td>\n",
       "      <td>09:55</td>\n",
       "      <td>12 h 55 m</td>\n",
       "      <td>1 stop via Mumbai</td>\n",
       "      <td>7,424</td>\n",
       "    </tr>\n",
       "  </tbody>\n",
       "</table>\n",
       "</div>"
      ],
      "text/plain": [
       "    Airline     Source Date of Journey Destination Departure Arrival  \\\n",
       "0  Go First  New Delhi     28 Jan 2022   Bengaluru     06:00   10:25   \n",
       "1  Go First  New Delhi     28 Jan 2022   Bengaluru     15:00   21:00   \n",
       "2  Go First  New Delhi     28 Jan 2022   Bengaluru     14:20   22:20   \n",
       "3  Go First  New Delhi     28 Jan 2022   Bengaluru     08:00   22:20   \n",
       "4  Go First  New Delhi     28 Jan 2022   Bengaluru     21:00   09:55   \n",
       "\n",
       "    Duration                 Stops  Price  \n",
       "0  04 h 25 m  1 stop via Ahmedabad  7,424  \n",
       "1       06 h     1 stop via Ranchi  7,424  \n",
       "2       08 h     1 stop via Mumbai  7,424  \n",
       "3  14 h 20 m     1 stop via Mumbai  7,424  \n",
       "4  12 h 55 m     1 stop via Mumbai  7,424  "
      ]
     },
     "execution_count": 446,
     "metadata": {},
     "output_type": "execute_result"
    }
   ],
   "source": [
    "df8.head()"
   ]
  },
  {
   "cell_type": "code",
   "execution_count": 454,
   "id": "7e53ff74",
   "metadata": {},
   "outputs": [
    {
     "data": {
      "text/html": [
       "<div>\n",
       "<style scoped>\n",
       "    .dataframe tbody tr th:only-of-type {\n",
       "        vertical-align: middle;\n",
       "    }\n",
       "\n",
       "    .dataframe tbody tr th {\n",
       "        vertical-align: top;\n",
       "    }\n",
       "\n",
       "    .dataframe thead th {\n",
       "        text-align: right;\n",
       "    }\n",
       "</style>\n",
       "<table border=\"1\" class=\"dataframe\">\n",
       "  <thead>\n",
       "    <tr style=\"text-align: right;\">\n",
       "      <th></th>\n",
       "      <th>Airline</th>\n",
       "      <th>Source</th>\n",
       "      <th>Date of Journey</th>\n",
       "      <th>Destination</th>\n",
       "      <th>Departure</th>\n",
       "      <th>Arrival</th>\n",
       "      <th>Duration</th>\n",
       "      <th>Stops</th>\n",
       "      <th>Price</th>\n",
       "    </tr>\n",
       "  </thead>\n",
       "  <tbody>\n",
       "    <tr>\n",
       "      <th>0</th>\n",
       "      <td>SpiceJet</td>\n",
       "      <td>Mumbai</td>\n",
       "      <td>8 Mar 2022</td>\n",
       "      <td>Chennai</td>\n",
       "      <td>19:30</td>\n",
       "      <td>21:20</td>\n",
       "      <td>1h 50m</td>\n",
       "      <td>Non Stop</td>\n",
       "      <td>1,888</td>\n",
       "    </tr>\n",
       "    <tr>\n",
       "      <th>1</th>\n",
       "      <td>SpiceJet</td>\n",
       "      <td>Mumbai</td>\n",
       "      <td>8 Mar 2022</td>\n",
       "      <td>Chennai</td>\n",
       "      <td>06:00</td>\n",
       "      <td>08:00</td>\n",
       "      <td>2h 00m</td>\n",
       "      <td>Non Stop</td>\n",
       "      <td>1,888</td>\n",
       "    </tr>\n",
       "    <tr>\n",
       "      <th>2</th>\n",
       "      <td>Go First</td>\n",
       "      <td>Mumbai</td>\n",
       "      <td>8 Mar 2022</td>\n",
       "      <td>Chennai</td>\n",
       "      <td>05:50</td>\n",
       "      <td>07:40</td>\n",
       "      <td>1h 50m</td>\n",
       "      <td>Non Stop</td>\n",
       "      <td>1,890</td>\n",
       "    </tr>\n",
       "    <tr>\n",
       "      <th>3</th>\n",
       "      <td>IndiGo</td>\n",
       "      <td>Mumbai</td>\n",
       "      <td>8 Mar 2022</td>\n",
       "      <td>Chennai</td>\n",
       "      <td>16:25</td>\n",
       "      <td>18:15</td>\n",
       "      <td>1h 50m</td>\n",
       "      <td>Non Stop</td>\n",
       "      <td>1,890</td>\n",
       "    </tr>\n",
       "    <tr>\n",
       "      <th>4</th>\n",
       "      <td>IndiGo</td>\n",
       "      <td>Mumbai</td>\n",
       "      <td>8 Mar 2022</td>\n",
       "      <td>Chennai</td>\n",
       "      <td>21:25</td>\n",
       "      <td>23:15</td>\n",
       "      <td>1h 50m</td>\n",
       "      <td>Non Stop</td>\n",
       "      <td>1,890</td>\n",
       "    </tr>\n",
       "    <tr>\n",
       "      <th>...</th>\n",
       "      <td>...</td>\n",
       "      <td>...</td>\n",
       "      <td>...</td>\n",
       "      <td>...</td>\n",
       "      <td>...</td>\n",
       "      <td>...</td>\n",
       "      <td>...</td>\n",
       "      <td>...</td>\n",
       "      <td>...</td>\n",
       "    </tr>\n",
       "    <tr>\n",
       "      <th>74</th>\n",
       "      <td>Vistara</td>\n",
       "      <td>New Delhi</td>\n",
       "      <td>24 Feb 2022</td>\n",
       "      <td>Kolkata</td>\n",
       "      <td>09:30</td>\n",
       "      <td>16:55</td>\n",
       "      <td>07 h 25 m</td>\n",
       "      <td>1 stop via Mumbai</td>\n",
       "      <td>4,868</td>\n",
       "    </tr>\n",
       "    <tr>\n",
       "      <th>75</th>\n",
       "      <td>Vistara</td>\n",
       "      <td>New Delhi</td>\n",
       "      <td>24 Feb 2022</td>\n",
       "      <td>Kolkata</td>\n",
       "      <td>14:20</td>\n",
       "      <td>19:55</td>\n",
       "      <td>05 h 35 m</td>\n",
       "      <td>1 stop via Mumbai</td>\n",
       "      <td>4,868</td>\n",
       "    </tr>\n",
       "    <tr>\n",
       "      <th>76</th>\n",
       "      <td>Vistara</td>\n",
       "      <td>New Delhi</td>\n",
       "      <td>24 Feb 2022</td>\n",
       "      <td>Kolkata</td>\n",
       "      <td>12:50</td>\n",
       "      <td>19:55</td>\n",
       "      <td>07 h 05 m</td>\n",
       "      <td>1 stop via Mumbai</td>\n",
       "      <td>4,868</td>\n",
       "    </tr>\n",
       "    <tr>\n",
       "      <th>77</th>\n",
       "      <td>Spicejet</td>\n",
       "      <td>New Delhi</td>\n",
       "      <td>24 Feb 2022</td>\n",
       "      <td>Kolkata</td>\n",
       "      <td>09:25</td>\n",
       "      <td>14:20</td>\n",
       "      <td>04 h 55 m</td>\n",
       "      <td>1 stop via Bagdogra</td>\n",
       "      <td>4,898</td>\n",
       "    </tr>\n",
       "    <tr>\n",
       "      <th>78</th>\n",
       "      <td>Go First</td>\n",
       "      <td>New Delhi</td>\n",
       "      <td>24 Feb 2022</td>\n",
       "      <td>Kolkata</td>\n",
       "      <td>11:10</td>\n",
       "      <td>15:50</td>\n",
       "      <td>04 h 40 m</td>\n",
       "      <td>1 stop via Bagdogra</td>\n",
       "      <td>5,692</td>\n",
       "    </tr>\n",
       "  </tbody>\n",
       "</table>\n",
       "<p>1576 rows × 9 columns</p>\n",
       "</div>"
      ],
      "text/plain": [
       "     Airline     Source Date of Journey Destination Departure Arrival  \\\n",
       "0   SpiceJet     Mumbai      8 Mar 2022     Chennai     19:30   21:20   \n",
       "1   SpiceJet     Mumbai      8 Mar 2022     Chennai     06:00   08:00   \n",
       "2   Go First     Mumbai      8 Mar 2022     Chennai     05:50   07:40   \n",
       "3     IndiGo     Mumbai      8 Mar 2022     Chennai     16:25   18:15   \n",
       "4     IndiGo     Mumbai      8 Mar 2022     Chennai     21:25   23:15   \n",
       "..       ...        ...             ...         ...       ...     ...   \n",
       "74   Vistara  New Delhi     24 Feb 2022     Kolkata     09:30   16:55   \n",
       "75   Vistara  New Delhi     24 Feb 2022     Kolkata     14:20   19:55   \n",
       "76   Vistara  New Delhi     24 Feb 2022     Kolkata     12:50   19:55   \n",
       "77  Spicejet  New Delhi     24 Feb 2022     Kolkata     09:25   14:20   \n",
       "78  Go First  New Delhi     24 Feb 2022     Kolkata     11:10   15:50   \n",
       "\n",
       "     Duration                Stops  Price  \n",
       "0      1h 50m             Non Stop  1,888  \n",
       "1      2h 00m             Non Stop  1,888  \n",
       "2      1h 50m             Non Stop  1,890  \n",
       "3      1h 50m             Non Stop  1,890  \n",
       "4      1h 50m             Non Stop  1,890  \n",
       "..        ...                  ...    ...  \n",
       "74  07 h 25 m    1 stop via Mumbai  4,868  \n",
       "75  05 h 35 m    1 stop via Mumbai  4,868  \n",
       "76  07 h 05 m    1 stop via Mumbai  4,868  \n",
       "77  04 h 55 m  1 stop via Bagdogra  4,898  \n",
       "78  04 h 40 m  1 stop via Bagdogra  5,692  \n",
       "\n",
       "[1576 rows x 9 columns]"
      ]
     },
     "execution_count": 454,
     "metadata": {},
     "output_type": "execute_result"
    }
   ],
   "source": [
    "frm=[df9,df8]  #concatinating the data\n",
    "dffinal111=pd.concat(frm)\n",
    "dffinal111"
   ]
  },
  {
   "cell_type": "code",
   "execution_count": 455,
   "id": "2d889fed",
   "metadata": {},
   "outputs": [],
   "source": [
    "dffinal111.to_csv(\"flightdatafinal1111.csv\")"
   ]
  },
  {
   "cell_type": "code",
   "execution_count": null,
   "id": "ff549408",
   "metadata": {},
   "outputs": [],
   "source": []
  }
 ],
 "metadata": {
  "kernelspec": {
   "display_name": "Python 3",
   "language": "python",
   "name": "python3"
  },
  "language_info": {
   "codemirror_mode": {
    "name": "ipython",
    "version": 3
   },
   "file_extension": ".py",
   "mimetype": "text/x-python",
   "name": "python",
   "nbconvert_exporter": "python",
   "pygments_lexer": "ipython3",
   "version": "3.8.8"
  }
 },
 "nbformat": 4,
 "nbformat_minor": 5
}
