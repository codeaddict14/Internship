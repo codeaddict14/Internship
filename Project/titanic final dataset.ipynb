{
 "cells": [
  {
   "cell_type": "code",
   "execution_count": 263,
   "id": "7d357990",
   "metadata": {},
   "outputs": [],
   "source": [
    "import pandas as pd\n",
    "import numpy as np\n",
    "import matplotlib.pyplot as ply\n",
    "import seaborn as sns\n",
    "import warnings\n",
    "warnings.filterwarnings(\"ignore\")\n",
    "from sklearn.preprocessing import LabelEncoder\n",
    "from sklearn.model_selection import train_test_split\n",
    "from sklearn.linear_model import LogisticRegression\n",
    "from sklearn.metrics import accuracy_score,classification_report,confusion_matrix\n",
    "from scipy.stats import zscore\n",
    "from sklearn.tree import DecisionTreeClassifier\n",
    "from sklearn.svm import SVC\n",
    "from sklearn.naive_bayes import MultinomialNB\n",
    "from sklearn.ensemble import RandomForestClassifier\n",
    "from sklearn.metrics import roc_curve,roc_auc_score\n",
    "from sklearn.model_selection import GridSearchCV"
   ]
  },
  {
   "cell_type": "markdown",
   "id": "b869d1e4",
   "metadata": {},
   "source": [
    "# Importing the dataset"
   ]
  },
  {
   "cell_type": "code",
   "execution_count": 264,
   "id": "9d78a1cd",
   "metadata": {},
   "outputs": [
    {
     "data": {
      "text/html": [
       "<div>\n",
       "<style scoped>\n",
       "    .dataframe tbody tr th:only-of-type {\n",
       "        vertical-align: middle;\n",
       "    }\n",
       "\n",
       "    .dataframe tbody tr th {\n",
       "        vertical-align: top;\n",
       "    }\n",
       "\n",
       "    .dataframe thead th {\n",
       "        text-align: right;\n",
       "    }\n",
       "</style>\n",
       "<table border=\"1\" class=\"dataframe\">\n",
       "  <thead>\n",
       "    <tr style=\"text-align: right;\">\n",
       "      <th></th>\n",
       "      <th>PassengerId</th>\n",
       "      <th>Survived</th>\n",
       "      <th>Pclass</th>\n",
       "      <th>Name</th>\n",
       "      <th>Sex</th>\n",
       "      <th>Age</th>\n",
       "      <th>SibSp</th>\n",
       "      <th>Parch</th>\n",
       "      <th>Ticket</th>\n",
       "      <th>Fare</th>\n",
       "      <th>Cabin</th>\n",
       "      <th>Embarked</th>\n",
       "    </tr>\n",
       "  </thead>\n",
       "  <tbody>\n",
       "    <tr>\n",
       "      <th>0</th>\n",
       "      <td>1</td>\n",
       "      <td>0</td>\n",
       "      <td>3</td>\n",
       "      <td>Braund, Mr. Owen Harris</td>\n",
       "      <td>male</td>\n",
       "      <td>22.0</td>\n",
       "      <td>1</td>\n",
       "      <td>0</td>\n",
       "      <td>A/5 21171</td>\n",
       "      <td>7.2500</td>\n",
       "      <td>NaN</td>\n",
       "      <td>S</td>\n",
       "    </tr>\n",
       "    <tr>\n",
       "      <th>1</th>\n",
       "      <td>2</td>\n",
       "      <td>1</td>\n",
       "      <td>1</td>\n",
       "      <td>Cumings, Mrs. John Bradley (Florence Briggs Th...</td>\n",
       "      <td>female</td>\n",
       "      <td>38.0</td>\n",
       "      <td>1</td>\n",
       "      <td>0</td>\n",
       "      <td>PC 17599</td>\n",
       "      <td>71.2833</td>\n",
       "      <td>C85</td>\n",
       "      <td>C</td>\n",
       "    </tr>\n",
       "    <tr>\n",
       "      <th>2</th>\n",
       "      <td>3</td>\n",
       "      <td>1</td>\n",
       "      <td>3</td>\n",
       "      <td>Heikkinen, Miss. Laina</td>\n",
       "      <td>female</td>\n",
       "      <td>26.0</td>\n",
       "      <td>0</td>\n",
       "      <td>0</td>\n",
       "      <td>STON/O2. 3101282</td>\n",
       "      <td>7.9250</td>\n",
       "      <td>NaN</td>\n",
       "      <td>S</td>\n",
       "    </tr>\n",
       "    <tr>\n",
       "      <th>3</th>\n",
       "      <td>4</td>\n",
       "      <td>1</td>\n",
       "      <td>1</td>\n",
       "      <td>Futrelle, Mrs. Jacques Heath (Lily May Peel)</td>\n",
       "      <td>female</td>\n",
       "      <td>35.0</td>\n",
       "      <td>1</td>\n",
       "      <td>0</td>\n",
       "      <td>113803</td>\n",
       "      <td>53.1000</td>\n",
       "      <td>C123</td>\n",
       "      <td>S</td>\n",
       "    </tr>\n",
       "    <tr>\n",
       "      <th>4</th>\n",
       "      <td>5</td>\n",
       "      <td>0</td>\n",
       "      <td>3</td>\n",
       "      <td>Allen, Mr. William Henry</td>\n",
       "      <td>male</td>\n",
       "      <td>35.0</td>\n",
       "      <td>0</td>\n",
       "      <td>0</td>\n",
       "      <td>373450</td>\n",
       "      <td>8.0500</td>\n",
       "      <td>NaN</td>\n",
       "      <td>S</td>\n",
       "    </tr>\n",
       "    <tr>\n",
       "      <th>...</th>\n",
       "      <td>...</td>\n",
       "      <td>...</td>\n",
       "      <td>...</td>\n",
       "      <td>...</td>\n",
       "      <td>...</td>\n",
       "      <td>...</td>\n",
       "      <td>...</td>\n",
       "      <td>...</td>\n",
       "      <td>...</td>\n",
       "      <td>...</td>\n",
       "      <td>...</td>\n",
       "      <td>...</td>\n",
       "    </tr>\n",
       "    <tr>\n",
       "      <th>886</th>\n",
       "      <td>887</td>\n",
       "      <td>0</td>\n",
       "      <td>2</td>\n",
       "      <td>Montvila, Rev. Juozas</td>\n",
       "      <td>male</td>\n",
       "      <td>27.0</td>\n",
       "      <td>0</td>\n",
       "      <td>0</td>\n",
       "      <td>211536</td>\n",
       "      <td>13.0000</td>\n",
       "      <td>NaN</td>\n",
       "      <td>S</td>\n",
       "    </tr>\n",
       "    <tr>\n",
       "      <th>887</th>\n",
       "      <td>888</td>\n",
       "      <td>1</td>\n",
       "      <td>1</td>\n",
       "      <td>Graham, Miss. Margaret Edith</td>\n",
       "      <td>female</td>\n",
       "      <td>19.0</td>\n",
       "      <td>0</td>\n",
       "      <td>0</td>\n",
       "      <td>112053</td>\n",
       "      <td>30.0000</td>\n",
       "      <td>B42</td>\n",
       "      <td>S</td>\n",
       "    </tr>\n",
       "    <tr>\n",
       "      <th>888</th>\n",
       "      <td>889</td>\n",
       "      <td>0</td>\n",
       "      <td>3</td>\n",
       "      <td>Johnston, Miss. Catherine Helen \"Carrie\"</td>\n",
       "      <td>female</td>\n",
       "      <td>NaN</td>\n",
       "      <td>1</td>\n",
       "      <td>2</td>\n",
       "      <td>W./C. 6607</td>\n",
       "      <td>23.4500</td>\n",
       "      <td>NaN</td>\n",
       "      <td>S</td>\n",
       "    </tr>\n",
       "    <tr>\n",
       "      <th>889</th>\n",
       "      <td>890</td>\n",
       "      <td>1</td>\n",
       "      <td>1</td>\n",
       "      <td>Behr, Mr. Karl Howell</td>\n",
       "      <td>male</td>\n",
       "      <td>26.0</td>\n",
       "      <td>0</td>\n",
       "      <td>0</td>\n",
       "      <td>111369</td>\n",
       "      <td>30.0000</td>\n",
       "      <td>C148</td>\n",
       "      <td>C</td>\n",
       "    </tr>\n",
       "    <tr>\n",
       "      <th>890</th>\n",
       "      <td>891</td>\n",
       "      <td>0</td>\n",
       "      <td>3</td>\n",
       "      <td>Dooley, Mr. Patrick</td>\n",
       "      <td>male</td>\n",
       "      <td>32.0</td>\n",
       "      <td>0</td>\n",
       "      <td>0</td>\n",
       "      <td>370376</td>\n",
       "      <td>7.7500</td>\n",
       "      <td>NaN</td>\n",
       "      <td>Q</td>\n",
       "    </tr>\n",
       "  </tbody>\n",
       "</table>\n",
       "<p>891 rows × 12 columns</p>\n",
       "</div>"
      ],
      "text/plain": [
       "     PassengerId  Survived  Pclass  \\\n",
       "0              1         0       3   \n",
       "1              2         1       1   \n",
       "2              3         1       3   \n",
       "3              4         1       1   \n",
       "4              5         0       3   \n",
       "..           ...       ...     ...   \n",
       "886          887         0       2   \n",
       "887          888         1       1   \n",
       "888          889         0       3   \n",
       "889          890         1       1   \n",
       "890          891         0       3   \n",
       "\n",
       "                                                  Name     Sex   Age  SibSp  \\\n",
       "0                              Braund, Mr. Owen Harris    male  22.0      1   \n",
       "1    Cumings, Mrs. John Bradley (Florence Briggs Th...  female  38.0      1   \n",
       "2                               Heikkinen, Miss. Laina  female  26.0      0   \n",
       "3         Futrelle, Mrs. Jacques Heath (Lily May Peel)  female  35.0      1   \n",
       "4                             Allen, Mr. William Henry    male  35.0      0   \n",
       "..                                                 ...     ...   ...    ...   \n",
       "886                              Montvila, Rev. Juozas    male  27.0      0   \n",
       "887                       Graham, Miss. Margaret Edith  female  19.0      0   \n",
       "888           Johnston, Miss. Catherine Helen \"Carrie\"  female   NaN      1   \n",
       "889                              Behr, Mr. Karl Howell    male  26.0      0   \n",
       "890                                Dooley, Mr. Patrick    male  32.0      0   \n",
       "\n",
       "     Parch            Ticket     Fare Cabin Embarked  \n",
       "0        0         A/5 21171   7.2500   NaN        S  \n",
       "1        0          PC 17599  71.2833   C85        C  \n",
       "2        0  STON/O2. 3101282   7.9250   NaN        S  \n",
       "3        0            113803  53.1000  C123        S  \n",
       "4        0            373450   8.0500   NaN        S  \n",
       "..     ...               ...      ...   ...      ...  \n",
       "886      0            211536  13.0000   NaN        S  \n",
       "887      0            112053  30.0000   B42        S  \n",
       "888      2        W./C. 6607  23.4500   NaN        S  \n",
       "889      0            111369  30.0000  C148        C  \n",
       "890      0            370376   7.7500   NaN        Q  \n",
       "\n",
       "[891 rows x 12 columns]"
      ]
     },
     "execution_count": 264,
     "metadata": {},
     "output_type": "execute_result"
    }
   ],
   "source": [
    "df=pd.read_csv(\"https://raw.githubusercontent.com/dsrscientist/dataset1/master/titanic_train.csv\")\n",
    "df"
   ]
  },
  {
   "cell_type": "raw",
   "id": "23a6d098",
   "metadata": {},
   "source": [
    "From above dataset we can observe that:\n",
    "1:There are missing values in cabin and Age variable.\n",
    "2.Survived is the output variable as we have to predict the person survived or not.\n",
    "3.This is a Classification problem.\n",
    "4.Variables like Sex, Embarked needs label encoding.\n",
    "5.Survived is the dependent variable and others are independent variable.\n"
   ]
  },
  {
   "cell_type": "code",
   "execution_count": 265,
   "id": "03f60241",
   "metadata": {},
   "outputs": [
    {
     "data": {
      "text/plain": [
       "PassengerId      int64\n",
       "Survived         int64\n",
       "Pclass           int64\n",
       "Name            object\n",
       "Sex             object\n",
       "Age            float64\n",
       "SibSp            int64\n",
       "Parch            int64\n",
       "Ticket          object\n",
       "Fare           float64\n",
       "Cabin           object\n",
       "Embarked        object\n",
       "dtype: object"
      ]
     },
     "execution_count": 265,
     "metadata": {},
     "output_type": "execute_result"
    }
   ],
   "source": [
    "df.dtypes"
   ]
  },
  {
   "cell_type": "raw",
   "id": "1d6c5059",
   "metadata": {},
   "source": [
    "various features of dataset tells us:\n",
    "passenger id:-unique number to each passenger\n",
    "Survived: 0:Not survived 1:Survived\n",
    "Pclass: 1:class 1 passesnger,2:class 2 passesnger, 3:class 3 passenger\n",
    "Sex: Male, Female\n",
    "SibSp: Siblings/Spouse\n",
    "Parch: Parents/Children\n",
    "Ticket: ticket number\n",
    "Fare: Price to board titanic\n",
    "Cabin: Cabin number\n",
    "Embarked:C = Cherbourg, Q = Queenstown, S = Southampton"
   ]
  },
  {
   "cell_type": "code",
   "execution_count": 266,
   "id": "7dd1677e",
   "metadata": {},
   "outputs": [
    {
     "data": {
      "text/plain": [
       "PassengerId      0\n",
       "Survived         0\n",
       "Pclass           0\n",
       "Name             0\n",
       "Sex              0\n",
       "Age            177\n",
       "SibSp            0\n",
       "Parch            0\n",
       "Ticket           0\n",
       "Fare             0\n",
       "Cabin          687\n",
       "Embarked         2\n",
       "dtype: int64"
      ]
     },
     "execution_count": 266,
     "metadata": {},
     "output_type": "execute_result"
    }
   ],
   "source": [
    "df.isnull().sum()"
   ]
  },
  {
   "cell_type": "markdown",
   "id": "ff630eda",
   "metadata": {},
   "source": [
    "We have Missing values in Age Cabin and Embarked column."
   ]
  },
  {
   "cell_type": "code",
   "execution_count": 267,
   "id": "580eb0a8",
   "metadata": {},
   "outputs": [
    {
     "data": {
      "text/plain": [
       "Index(['PassengerId', 'Survived', 'Pclass', 'Name', 'Sex', 'Age', 'SibSp',\n",
       "       'Parch', 'Ticket', 'Fare', 'Cabin', 'Embarked'],\n",
       "      dtype='object')"
      ]
     },
     "execution_count": 267,
     "metadata": {},
     "output_type": "execute_result"
    }
   ],
   "source": [
    "df.columns"
   ]
  },
  {
   "cell_type": "code",
   "execution_count": 268,
   "id": "ac4f3ce5",
   "metadata": {},
   "outputs": [
    {
     "name": "stdout",
     "output_type": "stream",
     "text": [
      "<class 'pandas.core.frame.DataFrame'>\n",
      "RangeIndex: 891 entries, 0 to 890\n",
      "Data columns (total 12 columns):\n",
      " #   Column       Non-Null Count  Dtype  \n",
      "---  ------       --------------  -----  \n",
      " 0   PassengerId  891 non-null    int64  \n",
      " 1   Survived     891 non-null    int64  \n",
      " 2   Pclass       891 non-null    int64  \n",
      " 3   Name         891 non-null    object \n",
      " 4   Sex          891 non-null    object \n",
      " 5   Age          714 non-null    float64\n",
      " 6   SibSp        891 non-null    int64  \n",
      " 7   Parch        891 non-null    int64  \n",
      " 8   Ticket       891 non-null    object \n",
      " 9   Fare         891 non-null    float64\n",
      " 10  Cabin        204 non-null    object \n",
      " 11  Embarked     889 non-null    object \n",
      "dtypes: float64(2), int64(5), object(5)\n",
      "memory usage: 83.7+ KB\n"
     ]
    }
   ],
   "source": [
    "df.info()"
   ]
  },
  {
   "cell_type": "markdown",
   "id": "15bf8212",
   "metadata": {},
   "source": [
    "# Univariant,Bivariant,Multivariant Analysis"
   ]
  },
  {
   "cell_type": "code",
   "execution_count": 269,
   "id": "265af832",
   "metadata": {},
   "outputs": [
    {
     "data": {
      "text/plain": [
       "0    549\n",
       "1    342\n",
       "Name: Survived, dtype: int64"
      ]
     },
     "execution_count": 269,
     "metadata": {},
     "output_type": "execute_result"
    }
   ],
   "source": [
    "df['Survived'].value_counts()"
   ]
  },
  {
   "cell_type": "markdown",
   "id": "31b6cb1f",
   "metadata": {},
   "source": [
    "As survived is our dependent variable the value count of survived and non survived differs we need to do Smote technique."
   ]
  },
  {
   "cell_type": "code",
   "execution_count": 270,
   "id": "9cf10aa9",
   "metadata": {},
   "outputs": [
    {
     "data": {
      "text/plain": [
       "<AxesSubplot:xlabel='Survived', ylabel='count'>"
      ]
     },
     "execution_count": 270,
     "metadata": {},
     "output_type": "execute_result"
    },
    {
     "data": {
      "image/png": "[encoded data removed]",
      "text/plain": [
       "<Figure size 432x288 with 1 Axes>"
      ]
     },
     "metadata": {
      "needs_background": "light"
     },
     "output_type": "display_data"
    }
   ],
   "source": [
    "sns.countplot(df['Survived'])"
   ]
  },
  {
   "cell_type": "markdown",
   "id": "728fc6ec",
   "metadata": {},
   "source": [
    "Ploting the 2 categories of survived variable."
   ]
  },
  {
   "cell_type": "code",
   "execution_count": 271,
   "id": "b54dff77",
   "metadata": {},
   "outputs": [
    {
     "data": {
      "text/plain": [
       "<AxesSubplot:xlabel='Survived', ylabel='count'>"
      ]
     },
     "execution_count": 271,
     "metadata": {},
     "output_type": "execute_result"
    },
    {
     "data": {
      "image/png": "[encoded data removed]",
      "text/plain": [
       "<Figure size 432x288 with 1 Axes>"
      ]
     },
     "metadata": {
      "needs_background": "light"
     },
     "output_type": "display_data"
    }
   ],
   "source": [
    "sns.countplot(hue='Pclass',x='Survived',data=df)"
   ]
  },
  {
   "cell_type": "markdown",
   "id": "1d035201",
   "metadata": {},
   "source": [
    "from above plot we can observe that the 3rd class passengers could not survive as compared to 1st and 2nd class."
   ]
  },
  {
   "cell_type": "code",
   "execution_count": 272,
   "id": "f5973925",
   "metadata": {},
   "outputs": [
    {
     "data": {
      "text/plain": [
       "<AxesSubplot:xlabel='Survived', ylabel='count'>"
      ]
     },
     "execution_count": 272,
     "metadata": {},
     "output_type": "execute_result"
    },
    {
     "data": {
      "image/png": "[encoded data removed]",
      "text/plain": [
       "<Figure size 432x288 with 1 Axes>"
      ]
     },
     "metadata": {
      "needs_background": "light"
     },
     "output_type": "display_data"
    }
   ],
   "source": [
    "sns.countplot(hue='SibSp',x='Survived',data=df)"
   ]
  },
  {
   "cell_type": "markdown",
   "id": "6ce25694",
   "metadata": {},
   "source": [
    "People who where not travelling with siblings/spouse could not survive."
   ]
  },
  {
   "cell_type": "code",
   "execution_count": 273,
   "id": "d599ead7",
   "metadata": {},
   "outputs": [
    {
     "data": {
      "text/plain": [
       "<AxesSubplot:xlabel='Survived', ylabel='count'>"
      ]
     },
     "execution_count": 273,
     "metadata": {},
     "output_type": "execute_result"
    },
    {
     "data": {
      "image/png": "[encoded data removed]",
      "text/plain": [
       "<Figure size 432x288 with 1 Axes>"
      ]
     },
     "metadata": {
      "needs_background": "light"
     },
     "output_type": "display_data"
    }
   ],
   "source": [
    "sns.countplot(hue='Sex',x='Survived',data=df)"
   ]
  },
  {
   "cell_type": "markdown",
   "id": "e77e27a1",
   "metadata": {},
   "source": [
    "More Females survived as compared to males."
   ]
  },
  {
   "cell_type": "code",
   "execution_count": 274,
   "id": "5c1147ba",
   "metadata": {},
   "outputs": [
    {
     "data": {
      "text/plain": [
       "<AxesSubplot:xlabel='Survived', ylabel='count'>"
      ]
     },
     "execution_count": 274,
     "metadata": {},
     "output_type": "execute_result"
    },
    {
     "data": {
      "image/png": "[encoded data removed]",
      "text/plain": [
       "<Figure size 432x288 with 1 Axes>"
      ]
     },
     "metadata": {
      "needs_background": "light"
     },
     "output_type": "display_data"
    }
   ],
   "source": [
    "sns.countplot(hue='Embarked',x='Survived',data=df)"
   ]
  },
  {
   "cell_type": "markdown",
   "id": "851810e2",
   "metadata": {},
   "source": [
    "passesngers having Embarkaed for Southmpton could not Survived as compared to others. "
   ]
  },
  {
   "cell_type": "code",
   "execution_count": 275,
   "id": "394ef251",
   "metadata": {},
   "outputs": [
    {
     "data": {
      "text/plain": [
       "<AxesSubplot:xlabel='Age', ylabel='Density'>"
      ]
     },
     "execution_count": 275,
     "metadata": {},
     "output_type": "execute_result"
    },
    {
     "data": {
      "image/png": "[encoded data removed]",
      "text/plain": [
       "<Figure size 432x288 with 1 Axes>"
      ]
     },
     "metadata": {
      "needs_background": "light"
     },
     "output_type": "display_data"
    }
   ],
   "source": [
    "sns.distplot(df['Age'])"
   ]
  },
  {
   "cell_type": "markdown",
   "id": "dbd32ebc",
   "metadata": {},
   "source": [
    "We can observe from above distplot the age of passengers on ship were vary from 3-80 years"
   ]
  },
  {
   "cell_type": "code",
   "execution_count": 276,
   "id": "c4c2c39e",
   "metadata": {},
   "outputs": [
    {
     "data": {
      "text/plain": [
       "<AxesSubplot:xlabel='Fare', ylabel='Density'>"
      ]
     },
     "execution_count": 276,
     "metadata": {},
     "output_type": "execute_result"
    },
    {
     "data": {
      "image/png": "[encoded data removed]",
      "text/plain": [
       "<Figure size 432x288 with 1 Axes>"
      ]
     },
     "metadata": {
      "needs_background": "light"
     },
     "output_type": "display_data"
    }
   ],
   "source": [
    "sns.distplot(df['Fare'])"
   ]
  },
  {
   "cell_type": "markdown",
   "id": "6e1524e2",
   "metadata": {},
   "source": [
    "From above distplot we can see the presence of outliers in the fare variable as the plot is highly left skewed."
   ]
  },
  {
   "cell_type": "code",
   "execution_count": 277,
   "id": "f24d78a3",
   "metadata": {},
   "outputs": [
    {
     "data": {
      "text/plain": [
       "<AxesSubplot:xlabel='Fare'>"
      ]
     },
     "execution_count": 277,
     "metadata": {},
     "output_type": "execute_result"
    },
    {
     "data": {
      "image/png": "[encoded data removed]",
      "text/plain": [
       "<Figure size 432x288 with 1 Axes>"
      ]
     },
     "metadata": {
      "needs_background": "light"
     },
     "output_type": "display_data"
    }
   ],
   "source": [
    "sns.boxplot(df['Fare'])"
   ]
  },
  {
   "cell_type": "markdown",
   "id": "3cb437fa",
   "metadata": {},
   "source": [
    "The boxplot confirms the presence of outliers in the Fare variable."
   ]
  },
  {
   "cell_type": "code",
   "execution_count": 278,
   "id": "a79dfef6",
   "metadata": {},
   "outputs": [
    {
     "data": {
      "text/plain": [
       "<AxesSubplot:xlabel='Pclass', ylabel='Age'>"
      ]
     },
     "execution_count": 278,
     "metadata": {},
     "output_type": "execute_result"
    },
    {
     "data": {
      "image/png": "[encoded data removed]",
      "text/plain": [
       "<Figure size 432x288 with 1 Axes>"
      ]
     },
     "metadata": {
      "needs_background": "light"
     },
     "output_type": "display_data"
    }
   ],
   "source": [
    "sns.boxplot(x='Pclass',y='Age',data=df)"
   ]
  },
  {
   "cell_type": "markdown",
   "id": "fed1034b",
   "metadata": {},
   "source": [
    "From the above plot we can observe that the passenger class carries people having maximum age 80 whereas passenger class 2 carries people having maximum gae upto 60 years and passenger class 3 carries young generation people having maximum age 50 and average age lies between 25-30. We have observed in the above plots the passenger class 3 people died the most we can say that young people whoes average age is around 30 died the most."
   ]
  },
  {
   "cell_type": "markdown",
   "id": "148df931",
   "metadata": {},
   "source": [
    "# DATA CLEANING"
   ]
  },
  {
   "cell_type": "markdown",
   "id": "a59213bc",
   "metadata": {},
   "source": [
    "### 1. Missing values"
   ]
  },
  {
   "cell_type": "code",
   "execution_count": 279,
   "id": "3fe7168d",
   "metadata": {},
   "outputs": [],
   "source": [
    "df.drop('Cabin',axis=1,inplace=True) "
   ]
  },
  {
   "cell_type": "markdown",
   "id": "f3b195c7",
   "metadata": {},
   "source": [
    "As cabin carries maximum missing values and gives us no relevant info. we can drop the column."
   ]
  },
  {
   "cell_type": "code",
   "execution_count": 280,
   "id": "05b54294",
   "metadata": {},
   "outputs": [],
   "source": [
    "df[\"Embarked\"].fillna('S',inplace=True)"
   ]
  },
  {
   "cell_type": "markdown",
   "id": "05c26ea9",
   "metadata": {},
   "source": [
    "As the value count of southampton is the most so replacing the missing values with 'S'"
   ]
  },
  {
   "cell_type": "code",
   "execution_count": 281,
   "id": "dae6858c",
   "metadata": {},
   "outputs": [],
   "source": [
    "df['Age'].fillna(28,inplace=True)"
   ]
  },
  {
   "cell_type": "markdown",
   "id": "d1ce3af6",
   "metadata": {},
   "source": [
    "Mean of the Age is 28 so replacing missing values of age with 28"
   ]
  },
  {
   "cell_type": "code",
   "execution_count": 282,
   "id": "5592dcb4",
   "metadata": {},
   "outputs": [
    {
     "data": {
      "text/plain": [
       "PassengerId      int64\n",
       "Survived         int64\n",
       "Pclass           int64\n",
       "Name            object\n",
       "Sex             object\n",
       "Age            float64\n",
       "SibSp            int64\n",
       "Parch            int64\n",
       "Ticket          object\n",
       "Fare           float64\n",
       "Embarked        object\n",
       "dtype: object"
      ]
     },
     "execution_count": 282,
     "metadata": {},
     "output_type": "execute_result"
    }
   ],
   "source": [
    "df.dtypes"
   ]
  },
  {
   "cell_type": "markdown",
   "id": "4a1c08c0",
   "metadata": {},
   "source": [
    "## 2. Feature Engineering"
   ]
  },
  {
   "cell_type": "code",
   "execution_count": 283,
   "id": "96ec8dd9",
   "metadata": {},
   "outputs": [],
   "source": [
    "df.drop(['Name','Ticket'],axis=1,inplace=True)"
   ]
  },
  {
   "cell_type": "markdown",
   "id": "afac47c6",
   "metadata": {},
   "source": [
    "As the name and ticket gives us the least information we can drop the columns."
   ]
  },
  {
   "cell_type": "code",
   "execution_count": 284,
   "id": "4ac16a64",
   "metadata": {},
   "outputs": [
    {
     "data": {
      "text/html": [
       "<div>\n",
       "<style scoped>\n",
       "    .dataframe tbody tr th:only-of-type {\n",
       "        vertical-align: middle;\n",
       "    }\n",
       "\n",
       "    .dataframe tbody tr th {\n",
       "        vertical-align: top;\n",
       "    }\n",
       "\n",
       "    .dataframe thead th {\n",
       "        text-align: right;\n",
       "    }\n",
       "</style>\n",
       "<table border=\"1\" class=\"dataframe\">\n",
       "  <thead>\n",
       "    <tr style=\"text-align: right;\">\n",
       "      <th></th>\n",
       "      <th>PassengerId</th>\n",
       "      <th>Survived</th>\n",
       "      <th>Pclass</th>\n",
       "      <th>Sex</th>\n",
       "      <th>Age</th>\n",
       "      <th>SibSp</th>\n",
       "      <th>Parch</th>\n",
       "      <th>Fare</th>\n",
       "      <th>Embarked</th>\n",
       "    </tr>\n",
       "  </thead>\n",
       "  <tbody>\n",
       "    <tr>\n",
       "      <th>0</th>\n",
       "      <td>1</td>\n",
       "      <td>0</td>\n",
       "      <td>3</td>\n",
       "      <td>male</td>\n",
       "      <td>22.0</td>\n",
       "      <td>1</td>\n",
       "      <td>0</td>\n",
       "      <td>7.2500</td>\n",
       "      <td>S</td>\n",
       "    </tr>\n",
       "    <tr>\n",
       "      <th>1</th>\n",
       "      <td>2</td>\n",
       "      <td>1</td>\n",
       "      <td>1</td>\n",
       "      <td>female</td>\n",
       "      <td>38.0</td>\n",
       "      <td>1</td>\n",
       "      <td>0</td>\n",
       "      <td>71.2833</td>\n",
       "      <td>C</td>\n",
       "    </tr>\n",
       "    <tr>\n",
       "      <th>2</th>\n",
       "      <td>3</td>\n",
       "      <td>1</td>\n",
       "      <td>3</td>\n",
       "      <td>female</td>\n",
       "      <td>26.0</td>\n",
       "      <td>0</td>\n",
       "      <td>0</td>\n",
       "      <td>7.9250</td>\n",
       "      <td>S</td>\n",
       "    </tr>\n",
       "    <tr>\n",
       "      <th>3</th>\n",
       "      <td>4</td>\n",
       "      <td>1</td>\n",
       "      <td>1</td>\n",
       "      <td>female</td>\n",
       "      <td>35.0</td>\n",
       "      <td>1</td>\n",
       "      <td>0</td>\n",
       "      <td>53.1000</td>\n",
       "      <td>S</td>\n",
       "    </tr>\n",
       "    <tr>\n",
       "      <th>4</th>\n",
       "      <td>5</td>\n",
       "      <td>0</td>\n",
       "      <td>3</td>\n",
       "      <td>male</td>\n",
       "      <td>35.0</td>\n",
       "      <td>0</td>\n",
       "      <td>0</td>\n",
       "      <td>8.0500</td>\n",
       "      <td>S</td>\n",
       "    </tr>\n",
       "    <tr>\n",
       "      <th>...</th>\n",
       "      <td>...</td>\n",
       "      <td>...</td>\n",
       "      <td>...</td>\n",
       "      <td>...</td>\n",
       "      <td>...</td>\n",
       "      <td>...</td>\n",
       "      <td>...</td>\n",
       "      <td>...</td>\n",
       "      <td>...</td>\n",
       "    </tr>\n",
       "    <tr>\n",
       "      <th>886</th>\n",
       "      <td>887</td>\n",
       "      <td>0</td>\n",
       "      <td>2</td>\n",
       "      <td>male</td>\n",
       "      <td>27.0</td>\n",
       "      <td>0</td>\n",
       "      <td>0</td>\n",
       "      <td>13.0000</td>\n",
       "      <td>S</td>\n",
       "    </tr>\n",
       "    <tr>\n",
       "      <th>887</th>\n",
       "      <td>888</td>\n",
       "      <td>1</td>\n",
       "      <td>1</td>\n",
       "      <td>female</td>\n",
       "      <td>19.0</td>\n",
       "      <td>0</td>\n",
       "      <td>0</td>\n",
       "      <td>30.0000</td>\n",
       "      <td>S</td>\n",
       "    </tr>\n",
       "    <tr>\n",
       "      <th>888</th>\n",
       "      <td>889</td>\n",
       "      <td>0</td>\n",
       "      <td>3</td>\n",
       "      <td>female</td>\n",
       "      <td>28.0</td>\n",
       "      <td>1</td>\n",
       "      <td>2</td>\n",
       "      <td>23.4500</td>\n",
       "      <td>S</td>\n",
       "    </tr>\n",
       "    <tr>\n",
       "      <th>889</th>\n",
       "      <td>890</td>\n",
       "      <td>1</td>\n",
       "      <td>1</td>\n",
       "      <td>male</td>\n",
       "      <td>26.0</td>\n",
       "      <td>0</td>\n",
       "      <td>0</td>\n",
       "      <td>30.0000</td>\n",
       "      <td>C</td>\n",
       "    </tr>\n",
       "    <tr>\n",
       "      <th>890</th>\n",
       "      <td>891</td>\n",
       "      <td>0</td>\n",
       "      <td>3</td>\n",
       "      <td>male</td>\n",
       "      <td>32.0</td>\n",
       "      <td>0</td>\n",
       "      <td>0</td>\n",
       "      <td>7.7500</td>\n",
       "      <td>Q</td>\n",
       "    </tr>\n",
       "  </tbody>\n",
       "</table>\n",
       "<p>891 rows × 9 columns</p>\n",
       "</div>"
      ],
      "text/plain": [
       "     PassengerId  Survived  Pclass     Sex   Age  SibSp  Parch     Fare  \\\n",
       "0              1         0       3    male  22.0      1      0   7.2500   \n",
       "1              2         1       1  female  38.0      1      0  71.2833   \n",
       "2              3         1       3  female  26.0      0      0   7.9250   \n",
       "3              4         1       1  female  35.0      1      0  53.1000   \n",
       "4              5         0       3    male  35.0      0      0   8.0500   \n",
       "..           ...       ...     ...     ...   ...    ...    ...      ...   \n",
       "886          887         0       2    male  27.0      0      0  13.0000   \n",
       "887          888         1       1  female  19.0      0      0  30.0000   \n",
       "888          889         0       3  female  28.0      1      2  23.4500   \n",
       "889          890         1       1    male  26.0      0      0  30.0000   \n",
       "890          891         0       3    male  32.0      0      0   7.7500   \n",
       "\n",
       "    Embarked  \n",
       "0          S  \n",
       "1          C  \n",
       "2          S  \n",
       "3          S  \n",
       "4          S  \n",
       "..       ...  \n",
       "886        S  \n",
       "887        S  \n",
       "888        S  \n",
       "889        C  \n",
       "890        Q  \n",
       "\n",
       "[891 rows x 9 columns]"
      ]
     },
     "execution_count": 284,
     "metadata": {},
     "output_type": "execute_result"
    }
   ],
   "source": [
    "df"
   ]
  },
  {
   "cell_type": "markdown",
   "id": "39749478",
   "metadata": {},
   "source": [
    "## 3.Label Encoding"
   ]
  },
  {
   "cell_type": "code",
   "execution_count": 285,
   "id": "b779782e",
   "metadata": {},
   "outputs": [],
   "source": [
    "le=LabelEncoder()\n",
    "\n",
    "name=[\"Sex\",\"Embarked\"]\n",
    "for val in name:\n",
    "    df[val]=le.fit_transform(df[val].astype(str))"
   ]
  },
  {
   "cell_type": "code",
   "execution_count": 286,
   "id": "c89c6d6b",
   "metadata": {},
   "outputs": [
    {
     "data": {
      "text/html": [
       "<div>\n",
       "<style scoped>\n",
       "    .dataframe tbody tr th:only-of-type {\n",
       "        vertical-align: middle;\n",
       "    }\n",
       "\n",
       "    .dataframe tbody tr th {\n",
       "        vertical-align: top;\n",
       "    }\n",
       "\n",
       "    .dataframe thead th {\n",
       "        text-align: right;\n",
       "    }\n",
       "</style>\n",
       "<table border=\"1\" class=\"dataframe\">\n",
       "  <thead>\n",
       "    <tr style=\"text-align: right;\">\n",
       "      <th></th>\n",
       "      <th>PassengerId</th>\n",
       "      <th>Survived</th>\n",
       "      <th>Pclass</th>\n",
       "      <th>Sex</th>\n",
       "      <th>Age</th>\n",
       "      <th>SibSp</th>\n",
       "      <th>Parch</th>\n",
       "      <th>Fare</th>\n",
       "      <th>Embarked</th>\n",
       "    </tr>\n",
       "  </thead>\n",
       "  <tbody>\n",
       "    <tr>\n",
       "      <th>0</th>\n",
       "      <td>1</td>\n",
       "      <td>0</td>\n",
       "      <td>3</td>\n",
       "      <td>1</td>\n",
       "      <td>22.0</td>\n",
       "      <td>1</td>\n",
       "      <td>0</td>\n",
       "      <td>7.2500</td>\n",
       "      <td>2</td>\n",
       "    </tr>\n",
       "    <tr>\n",
       "      <th>1</th>\n",
       "      <td>2</td>\n",
       "      <td>1</td>\n",
       "      <td>1</td>\n",
       "      <td>0</td>\n",
       "      <td>38.0</td>\n",
       "      <td>1</td>\n",
       "      <td>0</td>\n",
       "      <td>71.2833</td>\n",
       "      <td>0</td>\n",
       "    </tr>\n",
       "    <tr>\n",
       "      <th>2</th>\n",
       "      <td>3</td>\n",
       "      <td>1</td>\n",
       "      <td>3</td>\n",
       "      <td>0</td>\n",
       "      <td>26.0</td>\n",
       "      <td>0</td>\n",
       "      <td>0</td>\n",
       "      <td>7.9250</td>\n",
       "      <td>2</td>\n",
       "    </tr>\n",
       "    <tr>\n",
       "      <th>3</th>\n",
       "      <td>4</td>\n",
       "      <td>1</td>\n",
       "      <td>1</td>\n",
       "      <td>0</td>\n",
       "      <td>35.0</td>\n",
       "      <td>1</td>\n",
       "      <td>0</td>\n",
       "      <td>53.1000</td>\n",
       "      <td>2</td>\n",
       "    </tr>\n",
       "    <tr>\n",
       "      <th>4</th>\n",
       "      <td>5</td>\n",
       "      <td>0</td>\n",
       "      <td>3</td>\n",
       "      <td>1</td>\n",
       "      <td>35.0</td>\n",
       "      <td>0</td>\n",
       "      <td>0</td>\n",
       "      <td>8.0500</td>\n",
       "      <td>2</td>\n",
       "    </tr>\n",
       "    <tr>\n",
       "      <th>...</th>\n",
       "      <td>...</td>\n",
       "      <td>...</td>\n",
       "      <td>...</td>\n",
       "      <td>...</td>\n",
       "      <td>...</td>\n",
       "      <td>...</td>\n",
       "      <td>...</td>\n",
       "      <td>...</td>\n",
       "      <td>...</td>\n",
       "    </tr>\n",
       "    <tr>\n",
       "      <th>886</th>\n",
       "      <td>887</td>\n",
       "      <td>0</td>\n",
       "      <td>2</td>\n",
       "      <td>1</td>\n",
       "      <td>27.0</td>\n",
       "      <td>0</td>\n",
       "      <td>0</td>\n",
       "      <td>13.0000</td>\n",
       "      <td>2</td>\n",
       "    </tr>\n",
       "    <tr>\n",
       "      <th>887</th>\n",
       "      <td>888</td>\n",
       "      <td>1</td>\n",
       "      <td>1</td>\n",
       "      <td>0</td>\n",
       "      <td>19.0</td>\n",
       "      <td>0</td>\n",
       "      <td>0</td>\n",
       "      <td>30.0000</td>\n",
       "      <td>2</td>\n",
       "    </tr>\n",
       "    <tr>\n",
       "      <th>888</th>\n",
       "      <td>889</td>\n",
       "      <td>0</td>\n",
       "      <td>3</td>\n",
       "      <td>0</td>\n",
       "      <td>28.0</td>\n",
       "      <td>1</td>\n",
       "      <td>2</td>\n",
       "      <td>23.4500</td>\n",
       "      <td>2</td>\n",
       "    </tr>\n",
       "    <tr>\n",
       "      <th>889</th>\n",
       "      <td>890</td>\n",
       "      <td>1</td>\n",
       "      <td>1</td>\n",
       "      <td>1</td>\n",
       "      <td>26.0</td>\n",
       "      <td>0</td>\n",
       "      <td>0</td>\n",
       "      <td>30.0000</td>\n",
       "      <td>0</td>\n",
       "    </tr>\n",
       "    <tr>\n",
       "      <th>890</th>\n",
       "      <td>891</td>\n",
       "      <td>0</td>\n",
       "      <td>3</td>\n",
       "      <td>1</td>\n",
       "      <td>32.0</td>\n",
       "      <td>0</td>\n",
       "      <td>0</td>\n",
       "      <td>7.7500</td>\n",
       "      <td>1</td>\n",
       "    </tr>\n",
       "  </tbody>\n",
       "</table>\n",
       "<p>891 rows × 9 columns</p>\n",
       "</div>"
      ],
      "text/plain": [
       "     PassengerId  Survived  Pclass  Sex   Age  SibSp  Parch     Fare  Embarked\n",
       "0              1         0       3    1  22.0      1      0   7.2500         2\n",
       "1              2         1       1    0  38.0      1      0  71.2833         0\n",
       "2              3         1       3    0  26.0      0      0   7.9250         2\n",
       "3              4         1       1    0  35.0      1      0  53.1000         2\n",
       "4              5         0       3    1  35.0      0      0   8.0500         2\n",
       "..           ...       ...     ...  ...   ...    ...    ...      ...       ...\n",
       "886          887         0       2    1  27.0      0      0  13.0000         2\n",
       "887          888         1       1    0  19.0      0      0  30.0000         2\n",
       "888          889         0       3    0  28.0      1      2  23.4500         2\n",
       "889          890         1       1    1  26.0      0      0  30.0000         0\n",
       "890          891         0       3    1  32.0      0      0   7.7500         1\n",
       "\n",
       "[891 rows x 9 columns]"
      ]
     },
     "execution_count": 286,
     "metadata": {},
     "output_type": "execute_result"
    }
   ],
   "source": [
    "df"
   ]
  },
  {
   "cell_type": "markdown",
   "id": "1fb6ccb8",
   "metadata": {},
   "source": [
    " Columns like Age and Embarked needs label encoding as the data is of category type"
   ]
  },
  {
   "cell_type": "code",
   "execution_count": 287,
   "id": "5ea03c7e",
   "metadata": {},
   "outputs": [
    {
     "data": {
      "text/html": [
       "<div>\n",
       "<style scoped>\n",
       "    .dataframe tbody tr th:only-of-type {\n",
       "        vertical-align: middle;\n",
       "    }\n",
       "\n",
       "    .dataframe tbody tr th {\n",
       "        vertical-align: top;\n",
       "    }\n",
       "\n",
       "    .dataframe thead th {\n",
       "        text-align: right;\n",
       "    }\n",
       "</style>\n",
       "<table border=\"1\" class=\"dataframe\">\n",
       "  <thead>\n",
       "    <tr style=\"text-align: right;\">\n",
       "      <th></th>\n",
       "      <th>PassengerId</th>\n",
       "      <th>Survived</th>\n",
       "      <th>Pclass</th>\n",
       "      <th>Sex</th>\n",
       "      <th>Age</th>\n",
       "      <th>SibSp</th>\n",
       "      <th>Parch</th>\n",
       "      <th>Fare</th>\n",
       "      <th>Embarked</th>\n",
       "    </tr>\n",
       "  </thead>\n",
       "  <tbody>\n",
       "    <tr>\n",
       "      <th>count</th>\n",
       "      <td>891.000000</td>\n",
       "      <td>891.000000</td>\n",
       "      <td>891.000000</td>\n",
       "      <td>891.000000</td>\n",
       "      <td>891.000000</td>\n",
       "      <td>891.000000</td>\n",
       "      <td>891.000000</td>\n",
       "      <td>891.000000</td>\n",
       "      <td>891.000000</td>\n",
       "    </tr>\n",
       "    <tr>\n",
       "      <th>mean</th>\n",
       "      <td>446.000000</td>\n",
       "      <td>0.383838</td>\n",
       "      <td>2.308642</td>\n",
       "      <td>0.647587</td>\n",
       "      <td>29.361582</td>\n",
       "      <td>0.523008</td>\n",
       "      <td>0.381594</td>\n",
       "      <td>32.204208</td>\n",
       "      <td>1.536476</td>\n",
       "    </tr>\n",
       "    <tr>\n",
       "      <th>std</th>\n",
       "      <td>257.353842</td>\n",
       "      <td>0.486592</td>\n",
       "      <td>0.836071</td>\n",
       "      <td>0.477990</td>\n",
       "      <td>13.019697</td>\n",
       "      <td>1.102743</td>\n",
       "      <td>0.806057</td>\n",
       "      <td>49.693429</td>\n",
       "      <td>0.791503</td>\n",
       "    </tr>\n",
       "    <tr>\n",
       "      <th>min</th>\n",
       "      <td>1.000000</td>\n",
       "      <td>0.000000</td>\n",
       "      <td>1.000000</td>\n",
       "      <td>0.000000</td>\n",
       "      <td>0.420000</td>\n",
       "      <td>0.000000</td>\n",
       "      <td>0.000000</td>\n",
       "      <td>0.000000</td>\n",
       "      <td>0.000000</td>\n",
       "    </tr>\n",
       "    <tr>\n",
       "      <th>25%</th>\n",
       "      <td>223.500000</td>\n",
       "      <td>0.000000</td>\n",
       "      <td>2.000000</td>\n",
       "      <td>0.000000</td>\n",
       "      <td>22.000000</td>\n",
       "      <td>0.000000</td>\n",
       "      <td>0.000000</td>\n",
       "      <td>7.910400</td>\n",
       "      <td>1.000000</td>\n",
       "    </tr>\n",
       "    <tr>\n",
       "      <th>50%</th>\n",
       "      <td>446.000000</td>\n",
       "      <td>0.000000</td>\n",
       "      <td>3.000000</td>\n",
       "      <td>1.000000</td>\n",
       "      <td>28.000000</td>\n",
       "      <td>0.000000</td>\n",
       "      <td>0.000000</td>\n",
       "      <td>14.454200</td>\n",
       "      <td>2.000000</td>\n",
       "    </tr>\n",
       "    <tr>\n",
       "      <th>75%</th>\n",
       "      <td>668.500000</td>\n",
       "      <td>1.000000</td>\n",
       "      <td>3.000000</td>\n",
       "      <td>1.000000</td>\n",
       "      <td>35.000000</td>\n",
       "      <td>1.000000</td>\n",
       "      <td>0.000000</td>\n",
       "      <td>31.000000</td>\n",
       "      <td>2.000000</td>\n",
       "    </tr>\n",
       "    <tr>\n",
       "      <th>max</th>\n",
       "      <td>891.000000</td>\n",
       "      <td>1.000000</td>\n",
       "      <td>3.000000</td>\n",
       "      <td>1.000000</td>\n",
       "      <td>80.000000</td>\n",
       "      <td>8.000000</td>\n",
       "      <td>6.000000</td>\n",
       "      <td>512.329200</td>\n",
       "      <td>2.000000</td>\n",
       "    </tr>\n",
       "  </tbody>\n",
       "</table>\n",
       "</div>"
      ],
      "text/plain": [
       "       PassengerId    Survived      Pclass         Sex         Age  \\\n",
       "count   891.000000  891.000000  891.000000  891.000000  891.000000   \n",
       "mean    446.000000    0.383838    2.308642    0.647587   29.361582   \n",
       "std     257.353842    0.486592    0.836071    0.477990   13.019697   \n",
       "min       1.000000    0.000000    1.000000    0.000000    0.420000   \n",
       "25%     223.500000    0.000000    2.000000    0.000000   22.000000   \n",
       "50%     446.000000    0.000000    3.000000    1.000000   28.000000   \n",
       "75%     668.500000    1.000000    3.000000    1.000000   35.000000   \n",
       "max     891.000000    1.000000    3.000000    1.000000   80.000000   \n",
       "\n",
       "            SibSp       Parch        Fare    Embarked  \n",
       "count  891.000000  891.000000  891.000000  891.000000  \n",
       "mean     0.523008    0.381594   32.204208    1.536476  \n",
       "std      1.102743    0.806057   49.693429    0.791503  \n",
       "min      0.000000    0.000000    0.000000    0.000000  \n",
       "25%      0.000000    0.000000    7.910400    1.000000  \n",
       "50%      0.000000    0.000000   14.454200    2.000000  \n",
       "75%      1.000000    0.000000   31.000000    2.000000  \n",
       "max      8.000000    6.000000  512.329200    2.000000  "
      ]
     },
     "execution_count": 287,
     "metadata": {},
     "output_type": "execute_result"
    }
   ],
   "source": [
    "df.describe()"
   ]
  },
  {
   "cell_type": "raw",
   "id": "042a1f16",
   "metadata": {},
   "source": [
    "From above we can conclude that:\n",
    "1.Mean is more than 50% of data...there can chances of data being skewed.\n",
    "2.Difference between the min and max value is high in some cases chances of outliers arise."
   ]
  },
  {
   "cell_type": "code",
   "execution_count": 288,
   "id": "95dde963",
   "metadata": {},
   "outputs": [
    {
     "data": {
      "text/plain": [
       "<AxesSubplot:>"
      ]
     },
     "execution_count": 288,
     "metadata": {},
     "output_type": "execute_result"
    },
    {
     "data": {
      "image/png": "[encoded data removed]",
      "text/plain": [
       "<Figure size 720x720 with 2 Axes>"
      ]
     },
     "metadata": {
      "needs_background": "light"
     },
     "output_type": "display_data"
    }
   ],
   "source": [
    "ply.figure(figsize=(10,10))\n",
    "sns.heatmap(df.corr(),annot=True)"
   ]
  },
  {
   "cell_type": "raw",
   "id": "1a08faeb",
   "metadata": {},
   "source": [
    "From above heatmap we can say that,\n",
    "SibSP and Parch are positivly corelated to each other.\n",
    "Sex contributing the least in determing the person survived or not.\n",
    "Parch and Fare are corelated.\n"
   ]
  },
  {
   "cell_type": "markdown",
   "id": "8b0235e4",
   "metadata": {},
   "source": [
    "## 4.Removing Outliers"
   ]
  },
  {
   "cell_type": "code",
   "execution_count": 289,
   "id": "5b65e4b4",
   "metadata": {},
   "outputs": [
    {
     "name": "stdout",
     "output_type": "stream",
     "text": [
      "(array([ 13,  16,  25,  27,  50,  59,  68,  71,  86,  88,  96, 116, 118,\n",
      "       119, 159, 164, 167, 171, 180, 182, 201, 233, 258, 261, 266, 278,\n",
      "       299, 311, 324, 341, 360, 377, 380, 386, 437, 438, 438, 480, 493,\n",
      "       527, 541, 542, 557, 567, 610, 630, 638, 672, 678, 679, 683, 686,\n",
      "       689, 700, 716, 730, 736, 737, 742, 745, 774, 779, 787, 792, 813,\n",
      "       824, 846, 850, 851, 858, 863, 885], dtype=int64), array([6, 5, 6, 7, 5, 5, 5, 5, 6, 7, 4, 4, 7, 5, 5, 5, 6, 5, 5, 5, 5, 5,\n",
      "       7, 5, 5, 5, 7, 7, 5, 7, 6, 7, 7, 5, 6, 6, 7, 5, 4, 7, 5, 5, 7, 6,\n",
      "       6, 4, 6, 4, 6, 7, 5, 5, 7, 7, 7, 7, 6, 7, 7, 4, 6, 7, 5, 5, 5, 5,\n",
      "       5, 5, 4, 6, 5, 6], dtype=int64))\n"
     ]
    }
   ],
   "source": [
    "zp=np.abs(zscore(df))   #removing outliers present the dataset\n",
    "zp\n",
    "threshold=3\n",
    "print(np.where(zp>3))"
   ]
  },
  {
   "cell_type": "code",
   "execution_count": 290,
   "id": "8ffd8c6a",
   "metadata": {},
   "outputs": [
    {
     "data": {
      "text/html": [
       "<div>\n",
       "<style scoped>\n",
       "    .dataframe tbody tr th:only-of-type {\n",
       "        vertical-align: middle;\n",
       "    }\n",
       "\n",
       "    .dataframe tbody tr th {\n",
       "        vertical-align: top;\n",
       "    }\n",
       "\n",
       "    .dataframe thead th {\n",
       "        text-align: right;\n",
       "    }\n",
       "</style>\n",
       "<table border=\"1\" class=\"dataframe\">\n",
       "  <thead>\n",
       "    <tr style=\"text-align: right;\">\n",
       "      <th></th>\n",
       "      <th>PassengerId</th>\n",
       "      <th>Survived</th>\n",
       "      <th>Pclass</th>\n",
       "      <th>Sex</th>\n",
       "      <th>Age</th>\n",
       "      <th>SibSp</th>\n",
       "      <th>Parch</th>\n",
       "      <th>Fare</th>\n",
       "      <th>Embarked</th>\n",
       "    </tr>\n",
       "  </thead>\n",
       "  <tbody>\n",
       "    <tr>\n",
       "      <th>0</th>\n",
       "      <td>1</td>\n",
       "      <td>0</td>\n",
       "      <td>3</td>\n",
       "      <td>1</td>\n",
       "      <td>22.0</td>\n",
       "      <td>1</td>\n",
       "      <td>0</td>\n",
       "      <td>7.2500</td>\n",
       "      <td>2</td>\n",
       "    </tr>\n",
       "    <tr>\n",
       "      <th>1</th>\n",
       "      <td>2</td>\n",
       "      <td>1</td>\n",
       "      <td>1</td>\n",
       "      <td>0</td>\n",
       "      <td>38.0</td>\n",
       "      <td>1</td>\n",
       "      <td>0</td>\n",
       "      <td>71.2833</td>\n",
       "      <td>0</td>\n",
       "    </tr>\n",
       "    <tr>\n",
       "      <th>2</th>\n",
       "      <td>3</td>\n",
       "      <td>1</td>\n",
       "      <td>3</td>\n",
       "      <td>0</td>\n",
       "      <td>26.0</td>\n",
       "      <td>0</td>\n",
       "      <td>0</td>\n",
       "      <td>7.9250</td>\n",
       "      <td>2</td>\n",
       "    </tr>\n",
       "    <tr>\n",
       "      <th>3</th>\n",
       "      <td>4</td>\n",
       "      <td>1</td>\n",
       "      <td>1</td>\n",
       "      <td>0</td>\n",
       "      <td>35.0</td>\n",
       "      <td>1</td>\n",
       "      <td>0</td>\n",
       "      <td>53.1000</td>\n",
       "      <td>2</td>\n",
       "    </tr>\n",
       "    <tr>\n",
       "      <th>4</th>\n",
       "      <td>5</td>\n",
       "      <td>0</td>\n",
       "      <td>3</td>\n",
       "      <td>1</td>\n",
       "      <td>35.0</td>\n",
       "      <td>0</td>\n",
       "      <td>0</td>\n",
       "      <td>8.0500</td>\n",
       "      <td>2</td>\n",
       "    </tr>\n",
       "    <tr>\n",
       "      <th>...</th>\n",
       "      <td>...</td>\n",
       "      <td>...</td>\n",
       "      <td>...</td>\n",
       "      <td>...</td>\n",
       "      <td>...</td>\n",
       "      <td>...</td>\n",
       "      <td>...</td>\n",
       "      <td>...</td>\n",
       "      <td>...</td>\n",
       "    </tr>\n",
       "    <tr>\n",
       "      <th>886</th>\n",
       "      <td>887</td>\n",
       "      <td>0</td>\n",
       "      <td>2</td>\n",
       "      <td>1</td>\n",
       "      <td>27.0</td>\n",
       "      <td>0</td>\n",
       "      <td>0</td>\n",
       "      <td>13.0000</td>\n",
       "      <td>2</td>\n",
       "    </tr>\n",
       "    <tr>\n",
       "      <th>887</th>\n",
       "      <td>888</td>\n",
       "      <td>1</td>\n",
       "      <td>1</td>\n",
       "      <td>0</td>\n",
       "      <td>19.0</td>\n",
       "      <td>0</td>\n",
       "      <td>0</td>\n",
       "      <td>30.0000</td>\n",
       "      <td>2</td>\n",
       "    </tr>\n",
       "    <tr>\n",
       "      <th>888</th>\n",
       "      <td>889</td>\n",
       "      <td>0</td>\n",
       "      <td>3</td>\n",
       "      <td>0</td>\n",
       "      <td>28.0</td>\n",
       "      <td>1</td>\n",
       "      <td>2</td>\n",
       "      <td>23.4500</td>\n",
       "      <td>2</td>\n",
       "    </tr>\n",
       "    <tr>\n",
       "      <th>889</th>\n",
       "      <td>890</td>\n",
       "      <td>1</td>\n",
       "      <td>1</td>\n",
       "      <td>1</td>\n",
       "      <td>26.0</td>\n",
       "      <td>0</td>\n",
       "      <td>0</td>\n",
       "      <td>30.0000</td>\n",
       "      <td>0</td>\n",
       "    </tr>\n",
       "    <tr>\n",
       "      <th>890</th>\n",
       "      <td>891</td>\n",
       "      <td>0</td>\n",
       "      <td>3</td>\n",
       "      <td>1</td>\n",
       "      <td>32.0</td>\n",
       "      <td>0</td>\n",
       "      <td>0</td>\n",
       "      <td>7.7500</td>\n",
       "      <td>1</td>\n",
       "    </tr>\n",
       "  </tbody>\n",
       "</table>\n",
       "<p>820 rows × 9 columns</p>\n",
       "</div>"
      ],
      "text/plain": [
       "     PassengerId  Survived  Pclass  Sex   Age  SibSp  Parch     Fare  Embarked\n",
       "0              1         0       3    1  22.0      1      0   7.2500         2\n",
       "1              2         1       1    0  38.0      1      0  71.2833         0\n",
       "2              3         1       3    0  26.0      0      0   7.9250         2\n",
       "3              4         1       1    0  35.0      1      0  53.1000         2\n",
       "4              5         0       3    1  35.0      0      0   8.0500         2\n",
       "..           ...       ...     ...  ...   ...    ...    ...      ...       ...\n",
       "886          887         0       2    1  27.0      0      0  13.0000         2\n",
       "887          888         1       1    0  19.0      0      0  30.0000         2\n",
       "888          889         0       3    0  28.0      1      2  23.4500         2\n",
       "889          890         1       1    1  26.0      0      0  30.0000         0\n",
       "890          891         0       3    1  32.0      0      0   7.7500         1\n",
       "\n",
       "[820 rows x 9 columns]"
      ]
     },
     "execution_count": 290,
     "metadata": {},
     "output_type": "execute_result"
    }
   ],
   "source": [
    "df_new=df[(zp<3).all(axis=1)]\n",
    "df_new"
   ]
  },
  {
   "cell_type": "markdown",
   "id": "8e9cbcce",
   "metadata": {},
   "source": [
    "Outliers are removed rows are reduced from 891 to 820."
   ]
  },
  {
   "cell_type": "code",
   "execution_count": 291,
   "id": "f07fe537",
   "metadata": {},
   "outputs": [
    {
     "data": {
      "text/plain": [
       "PassengerId    0.003454\n",
       "Survived       0.450825\n",
       "Pclass        -0.632242\n",
       "Sex           -0.664152\n",
       "Age            0.401952\n",
       "SibSp          1.979577\n",
       "Parch          2.122629\n",
       "Fare           2.318761\n",
       "Embarked      -1.277386\n",
       "dtype: float64"
      ]
     },
     "execution_count": 291,
     "metadata": {},
     "output_type": "execute_result"
    }
   ],
   "source": [
    "df_new.skew()"
   ]
  },
  {
   "cell_type": "markdown",
   "id": "234397ff",
   "metadata": {},
   "source": [
    "skewness is present in data we will using yeo-johnson to reduce the skewness."
   ]
  },
  {
   "cell_type": "markdown",
   "id": "ead31b03",
   "metadata": {},
   "source": [
    "# Dividing the columns in X and Y"
   ]
  },
  {
   "cell_type": "code",
   "execution_count": 292,
   "id": "bd823ed8",
   "metadata": {},
   "outputs": [
    {
     "data": {
      "text/html": [
       "<div>\n",
       "<style scoped>\n",
       "    .dataframe tbody tr th:only-of-type {\n",
       "        vertical-align: middle;\n",
       "    }\n",
       "\n",
       "    .dataframe tbody tr th {\n",
       "        vertical-align: top;\n",
       "    }\n",
       "\n",
       "    .dataframe thead th {\n",
       "        text-align: right;\n",
       "    }\n",
       "</style>\n",
       "<table border=\"1\" class=\"dataframe\">\n",
       "  <thead>\n",
       "    <tr style=\"text-align: right;\">\n",
       "      <th></th>\n",
       "      <th>PassengerId</th>\n",
       "      <th>Pclass</th>\n",
       "      <th>Sex</th>\n",
       "      <th>Age</th>\n",
       "      <th>SibSp</th>\n",
       "      <th>Parch</th>\n",
       "      <th>Fare</th>\n",
       "      <th>Embarked</th>\n",
       "    </tr>\n",
       "  </thead>\n",
       "  <tbody>\n",
       "    <tr>\n",
       "      <th>0</th>\n",
       "      <td>1</td>\n",
       "      <td>3</td>\n",
       "      <td>1</td>\n",
       "      <td>22.0</td>\n",
       "      <td>1</td>\n",
       "      <td>0</td>\n",
       "      <td>7.2500</td>\n",
       "      <td>2</td>\n",
       "    </tr>\n",
       "    <tr>\n",
       "      <th>1</th>\n",
       "      <td>2</td>\n",
       "      <td>1</td>\n",
       "      <td>0</td>\n",
       "      <td>38.0</td>\n",
       "      <td>1</td>\n",
       "      <td>0</td>\n",
       "      <td>71.2833</td>\n",
       "      <td>0</td>\n",
       "    </tr>\n",
       "    <tr>\n",
       "      <th>2</th>\n",
       "      <td>3</td>\n",
       "      <td>3</td>\n",
       "      <td>0</td>\n",
       "      <td>26.0</td>\n",
       "      <td>0</td>\n",
       "      <td>0</td>\n",
       "      <td>7.9250</td>\n",
       "      <td>2</td>\n",
       "    </tr>\n",
       "    <tr>\n",
       "      <th>3</th>\n",
       "      <td>4</td>\n",
       "      <td>1</td>\n",
       "      <td>0</td>\n",
       "      <td>35.0</td>\n",
       "      <td>1</td>\n",
       "      <td>0</td>\n",
       "      <td>53.1000</td>\n",
       "      <td>2</td>\n",
       "    </tr>\n",
       "    <tr>\n",
       "      <th>4</th>\n",
       "      <td>5</td>\n",
       "      <td>3</td>\n",
       "      <td>1</td>\n",
       "      <td>35.0</td>\n",
       "      <td>0</td>\n",
       "      <td>0</td>\n",
       "      <td>8.0500</td>\n",
       "      <td>2</td>\n",
       "    </tr>\n",
       "    <tr>\n",
       "      <th>...</th>\n",
       "      <td>...</td>\n",
       "      <td>...</td>\n",
       "      <td>...</td>\n",
       "      <td>...</td>\n",
       "      <td>...</td>\n",
       "      <td>...</td>\n",
       "      <td>...</td>\n",
       "      <td>...</td>\n",
       "    </tr>\n",
       "    <tr>\n",
       "      <th>886</th>\n",
       "      <td>887</td>\n",
       "      <td>2</td>\n",
       "      <td>1</td>\n",
       "      <td>27.0</td>\n",
       "      <td>0</td>\n",
       "      <td>0</td>\n",
       "      <td>13.0000</td>\n",
       "      <td>2</td>\n",
       "    </tr>\n",
       "    <tr>\n",
       "      <th>887</th>\n",
       "      <td>888</td>\n",
       "      <td>1</td>\n",
       "      <td>0</td>\n",
       "      <td>19.0</td>\n",
       "      <td>0</td>\n",
       "      <td>0</td>\n",
       "      <td>30.0000</td>\n",
       "      <td>2</td>\n",
       "    </tr>\n",
       "    <tr>\n",
       "      <th>888</th>\n",
       "      <td>889</td>\n",
       "      <td>3</td>\n",
       "      <td>0</td>\n",
       "      <td>28.0</td>\n",
       "      <td>1</td>\n",
       "      <td>2</td>\n",
       "      <td>23.4500</td>\n",
       "      <td>2</td>\n",
       "    </tr>\n",
       "    <tr>\n",
       "      <th>889</th>\n",
       "      <td>890</td>\n",
       "      <td>1</td>\n",
       "      <td>1</td>\n",
       "      <td>26.0</td>\n",
       "      <td>0</td>\n",
       "      <td>0</td>\n",
       "      <td>30.0000</td>\n",
       "      <td>0</td>\n",
       "    </tr>\n",
       "    <tr>\n",
       "      <th>890</th>\n",
       "      <td>891</td>\n",
       "      <td>3</td>\n",
       "      <td>1</td>\n",
       "      <td>32.0</td>\n",
       "      <td>0</td>\n",
       "      <td>0</td>\n",
       "      <td>7.7500</td>\n",
       "      <td>1</td>\n",
       "    </tr>\n",
       "  </tbody>\n",
       "</table>\n",
       "<p>820 rows × 8 columns</p>\n",
       "</div>"
      ],
      "text/plain": [
       "     PassengerId  Pclass  Sex   Age  SibSp  Parch     Fare  Embarked\n",
       "0              1       3    1  22.0      1      0   7.2500         2\n",
       "1              2       1    0  38.0      1      0  71.2833         0\n",
       "2              3       3    0  26.0      0      0   7.9250         2\n",
       "3              4       1    0  35.0      1      0  53.1000         2\n",
       "4              5       3    1  35.0      0      0   8.0500         2\n",
       "..           ...     ...  ...   ...    ...    ...      ...       ...\n",
       "886          887       2    1  27.0      0      0  13.0000         2\n",
       "887          888       1    0  19.0      0      0  30.0000         2\n",
       "888          889       3    0  28.0      1      2  23.4500         2\n",
       "889          890       1    1  26.0      0      0  30.0000         0\n",
       "890          891       3    1  32.0      0      0   7.7500         1\n",
       "\n",
       "[820 rows x 8 columns]"
      ]
     },
     "execution_count": 292,
     "metadata": {},
     "output_type": "execute_result"
    }
   ],
   "source": [
    "x=df_new.drop(\"Survived\",axis=1)   #input variables\n",
    "x"
   ]
  },
  {
   "cell_type": "code",
   "execution_count": 323,
   "id": "c87df3a8",
   "metadata": {},
   "outputs": [
    {
     "data": {
      "text/plain": [
       "0      0\n",
       "1      1\n",
       "2      1\n",
       "3      1\n",
       "4      0\n",
       "      ..\n",
       "886    0\n",
       "887    1\n",
       "888    0\n",
       "889    1\n",
       "890    0\n",
       "Name: Survived, Length: 820, dtype: int64"
      ]
     },
     "execution_count": 323,
     "metadata": {},
     "output_type": "execute_result"
    }
   ],
   "source": [
    "y=df_new['Survived']   #output variables\n",
    "y"
   ]
  },
  {
   "cell_type": "markdown",
   "id": "1d67a330",
   "metadata": {},
   "source": [
    "## 5. Performing yeo-johnson to remove skewness"
   ]
  },
  {
   "cell_type": "code",
   "execution_count": 294,
   "id": "b769f28e",
   "metadata": {},
   "outputs": [
    {
     "data": {
      "text/plain": [
       "array([[-2.15631324,  0.87283049,  0.72203588, ..., -0.48469263,\n",
       "        -0.83470177,  0.60778719],\n",
       "       [-2.14032052, -1.47067587, -1.38497273, ..., -0.48469263,\n",
       "         1.55364494, -1.78767552],\n",
       "       [-2.12579352,  0.87283049, -1.38497273, ..., -0.48469263,\n",
       "        -0.74331399,  0.60778719],\n",
       "       ...,\n",
       "       [ 1.56705476,  0.87283049, -1.38497273, ...,  2.08665417,\n",
       "         0.39490799,  0.60778719],\n",
       "       [ 1.57009584, -1.47067587,  0.72203588, ..., -0.48469263,\n",
       "         0.65432009, -1.78767552],\n",
       "       [ 1.57313595,  0.87283049,  0.72203588, ..., -0.48469263,\n",
       "        -0.76629016, -1.24967343]])"
      ]
     },
     "execution_count": 294,
     "metadata": {},
     "output_type": "execute_result"
    }
   ],
   "source": [
    "from sklearn.preprocessing import power_transform,MinMaxScaler\n",
    "x=power_transform(x,method='yeo-johnson')\n",
    "x\n"
   ]
  },
  {
   "cell_type": "markdown",
   "id": "21d8d850",
   "metadata": {},
   "source": [
    "## 6. Performing MinMaxScaling"
   ]
  },
  {
   "cell_type": "code",
   "execution_count": 295,
   "id": "78b5fc06",
   "metadata": {},
   "outputs": [
    {
     "data": {
      "text/plain": [
       "array([[0.        , 1.        , 1.        , ..., 0.        , 0.44566706,\n",
       "        1.        ],\n",
       "       [0.00428823, 0.        , 0.        , ..., 0.        , 0.85522966,\n",
       "        0.        ],\n",
       "       [0.00818344, 1.        , 0.        , ..., 0.        , 0.46133858,\n",
       "        1.        ],\n",
       "       ...,\n",
       "       [0.99836941, 1.        , 0.        , ..., 1.        , 0.65652513,\n",
       "        1.        ],\n",
       "       [0.99918484, 0.        , 1.        , ..., 0.        , 0.70101008,\n",
       "        0.        ],\n",
       "       [1.        , 1.        , 1.        , ..., 0.        , 0.45739854,\n",
       "        0.22459213]])"
      ]
     },
     "execution_count": 295,
     "metadata": {},
     "output_type": "execute_result"
    }
   ],
   "source": [
    "mn=MinMaxScaler()\n",
    "x=mn.fit_transform(x)\n",
    "x"
   ]
  },
  {
   "cell_type": "markdown",
   "id": "bbfa7bfc",
   "metadata": {},
   "source": [
    "Min MaxScaling is performed as could see the age and fare are scaled differently as compared to other paramenters bringing them on same scale perofrmed minmax scaling."
   ]
  },
  {
   "cell_type": "markdown",
   "id": "b678167c",
   "metadata": {},
   "source": [
    "## 7.SMOTE"
   ]
  },
  {
   "cell_type": "code",
   "execution_count": 296,
   "id": "6d54da40",
   "metadata": {},
   "outputs": [],
   "source": [
    "from imblearn.over_sampling import SMOTE\n",
    "smt=SMOTE()      #SMOTE to balance the target variable.\n",
    "x_res,y_res=smt.fit_resample(x,y)"
   ]
  },
  {
   "cell_type": "code",
   "execution_count": 297,
   "id": "8d72f0b1",
   "metadata": {},
   "outputs": [
    {
     "data": {
      "text/plain": [
       "0    500\n",
       "1    500\n",
       "Name: Survived, dtype: int64"
      ]
     },
     "execution_count": 297,
     "metadata": {},
     "output_type": "execute_result"
    }
   ],
   "source": [
    "y_res.value_counts()"
   ]
  },
  {
   "cell_type": "code",
   "execution_count": 298,
   "id": "fee5f7a2",
   "metadata": {},
   "outputs": [
    {
     "data": {
      "text/plain": [
       "(820,)"
      ]
     },
     "execution_count": 298,
     "metadata": {},
     "output_type": "execute_result"
    }
   ],
   "source": [
    "y.shape"
   ]
  },
  {
   "cell_type": "code",
   "execution_count": 299,
   "id": "3c65016f",
   "metadata": {},
   "outputs": [
    {
     "data": {
      "text/plain": [
       "(820, 8)"
      ]
     },
     "execution_count": 299,
     "metadata": {},
     "output_type": "execute_result"
    }
   ],
   "source": [
    "x.shape"
   ]
  },
  {
   "cell_type": "markdown",
   "id": "bc1ec6b6",
   "metadata": {},
   "source": [
    "As the output variable is highly imbalanced to balance it we performed Smote."
   ]
  },
  {
   "cell_type": "markdown",
   "id": "08f4a16b",
   "metadata": {},
   "source": [
    "## Performing Algorithms"
   ]
  },
  {
   "cell_type": "code",
   "execution_count": 300,
   "id": "4c127ad7",
   "metadata": {},
   "outputs": [
    {
     "name": "stdout",
     "output_type": "stream",
     "text": [
      "Best accuracy is 0.85 at random state 47\n"
     ]
    }
   ],
   "source": [
    "maxacc=0  #finding the best random state\n",
    "maxrs=0\n",
    "for i in range(1,100):\n",
    "    x_train,x_test,y_train,y_test=train_test_split(x_res,y_res,test_size=.30,random_state=i)\n",
    "    lm=LogisticRegression()\n",
    "    lm.fit(x_train,y_train)\n",
    "    pred=lm.predict(x_test)\n",
    "    accu=accuracy_score(y_test,pred)\n",
    "    if accu>maxacc:\n",
    "        maxacc=accu\n",
    "        maxrs=i\n",
    "print(\"Best accuracy is\",round(maxacc,2),\"at random state\",maxrs)"
   ]
  },
  {
   "cell_type": "code",
   "execution_count": 301,
   "id": "ea29b447",
   "metadata": {},
   "outputs": [],
   "source": [
    "x_train1,x_test1,y_train1,y_test1=train_test_split(x_res,y_res,test_size=.30,random_state=47)"
   ]
  },
  {
   "cell_type": "markdown",
   "id": "bb0b5a44",
   "metadata": {},
   "source": [
    "# 1.Logistic Regression"
   ]
  },
  {
   "cell_type": "code",
   "execution_count": 302,
   "id": "832df404",
   "metadata": {},
   "outputs": [
    {
     "name": "stdout",
     "output_type": "stream",
     "text": [
      "accuracy score 0.85\n",
      "              precision    recall  f1-score   support\n",
      "\n",
      "           0       0.85      0.85      0.85       148\n",
      "           1       0.85      0.85      0.85       152\n",
      "\n",
      "    accuracy                           0.85       300\n",
      "   macro avg       0.85      0.85      0.85       300\n",
      "weighted avg       0.85      0.85      0.85       300\n",
      "\n"
     ]
    }
   ],
   "source": [
    "lm.fit(x_train1,y_train1)\n",
    "pred=lm.predict(x_test1)\n",
    "ac=accuracy_score(y_test1,pred)\n",
    "print(\"accuracy score\",ac)\n",
    "clas=classification_report(y_test1,pred)\n",
    "print(clas)"
   ]
  },
  {
   "cell_type": "markdown",
   "id": "653c03c3",
   "metadata": {},
   "source": [
    "# 2.Decision Tree Classifier"
   ]
  },
  {
   "cell_type": "code",
   "execution_count": 303,
   "id": "09e8545e",
   "metadata": {},
   "outputs": [
    {
     "name": "stdout",
     "output_type": "stream",
     "text": [
      "accuracy score 0.7466666666666667\n",
      "              precision    recall  f1-score   support\n",
      "\n",
      "           0       0.74      0.74      0.74       148\n",
      "           1       0.75      0.75      0.75       152\n",
      "\n",
      "    accuracy                           0.75       300\n",
      "   macro avg       0.75      0.75      0.75       300\n",
      "weighted avg       0.75      0.75      0.75       300\n",
      "\n"
     ]
    }
   ],
   "source": [
    "dtc=DecisionTreeClassifier()\n",
    "dtc.fit(x_train1,y_train1)\n",
    "pred=dtc.predict(x_test1)\n",
    "az=accuracy_score(y_test1,pred)\n",
    "print(\"accuracy score\",az)\n",
    "cl=classification_report(y_test1,pred)\n",
    "print(cl)"
   ]
  },
  {
   "cell_type": "markdown",
   "id": "9ec9f78f",
   "metadata": {},
   "source": [
    "# 3.Support Vector Classifier"
   ]
  },
  {
   "cell_type": "code",
   "execution_count": 304,
   "id": "9a2222fd",
   "metadata": {},
   "outputs": [
    {
     "name": "stdout",
     "output_type": "stream",
     "text": [
      "rbf 0.8366666666666667\n",
      "rbf               precision    recall  f1-score   support\n",
      "\n",
      "           0       0.82      0.85      0.84       148\n",
      "           1       0.85      0.82      0.84       152\n",
      "\n",
      "    accuracy                           0.84       300\n",
      "   macro avg       0.84      0.84      0.84       300\n",
      "weighted avg       0.84      0.84      0.84       300\n",
      "\n",
      "poly 0.82\n",
      "poly               precision    recall  f1-score   support\n",
      "\n",
      "           0       0.79      0.86      0.82       148\n",
      "           1       0.85      0.78      0.82       152\n",
      "\n",
      "    accuracy                           0.82       300\n",
      "   macro avg       0.82      0.82      0.82       300\n",
      "weighted avg       0.82      0.82      0.82       300\n",
      "\n",
      "linear 0.8066666666666666\n",
      "linear               precision    recall  f1-score   support\n",
      "\n",
      "           0       0.75      0.91      0.82       148\n",
      "           1       0.89      0.70      0.79       152\n",
      "\n",
      "    accuracy                           0.81       300\n",
      "   macro avg       0.82      0.81      0.80       300\n",
      "weighted avg       0.82      0.81      0.80       300\n",
      "\n"
     ]
    }
   ],
   "source": [
    "ker=[\"rbf\",\"poly\",\"linear\"]\n",
    "for i in ker:\n",
    "    svc=SVC(kernel=i)\n",
    "    svc.fit(x_train1,y_train1)\n",
    "    pred=svc.predict(x_test1)\n",
    "    print(i,accuracy_score(y_test1,pred))\n",
    "    print(i,classification_report(y_test1,pred))"
   ]
  },
  {
   "cell_type": "code",
   "execution_count": 305,
   "id": "31097649",
   "metadata": {},
   "outputs": [
    {
     "name": "stdout",
     "output_type": "stream",
     "text": [
      "Accuracy score 0.82\n",
      "              precision    recall  f1-score   support\n",
      "\n",
      "           0       0.79      0.86      0.82       148\n",
      "           1       0.85      0.78      0.82       152\n",
      "\n",
      "    accuracy                           0.82       300\n",
      "   macro avg       0.82      0.82      0.82       300\n",
      "weighted avg       0.82      0.82      0.82       300\n",
      "\n"
     ]
    }
   ],
   "source": [
    "svc1=SVC(kernel=\"poly\",probability=True)\n",
    "svc1.fit(x_train1,y_train1)\n",
    "pred=svc1.predict(x_test1)\n",
    "print(\"Accuracy score\",accuracy_score(y_test1,pred))\n",
    "print(classification_report(y_test1,pred))"
   ]
  },
  {
   "cell_type": "markdown",
   "id": "331821e7",
   "metadata": {},
   "source": [
    "# 4. Multinomial Classifier"
   ]
  },
  {
   "cell_type": "code",
   "execution_count": 306,
   "id": "cbbf34a4",
   "metadata": {},
   "outputs": [
    {
     "name": "stdout",
     "output_type": "stream",
     "text": [
      "Accuracy score 0.7866666666666666\n",
      "              precision    recall  f1-score   support\n",
      "\n",
      "           0       0.76      0.83      0.79       148\n",
      "           1       0.82      0.74      0.78       152\n",
      "\n",
      "    accuracy                           0.79       300\n",
      "   macro avg       0.79      0.79      0.79       300\n",
      "weighted avg       0.79      0.79      0.79       300\n",
      "\n"
     ]
    }
   ],
   "source": [
    "mnb=MultinomialNB()\n",
    "mnb.fit(x_train1,y_train1)\n",
    "pred=mnb.predict(x_test1)\n",
    "print(\"Accuracy score\",accuracy_score(y_test1,pred))\n",
    "print(classification_report(y_test1,pred))"
   ]
  },
  {
   "cell_type": "markdown",
   "id": "024728cf",
   "metadata": {},
   "source": [
    "# 5. Random Forest Classifier"
   ]
  },
  {
   "cell_type": "code",
   "execution_count": 307,
   "id": "3f99f8e5",
   "metadata": {},
   "outputs": [
    {
     "name": "stdout",
     "output_type": "stream",
     "text": [
      "0.8333333333333334\n",
      "              precision    recall  f1-score   support\n",
      "\n",
      "           0       0.84      0.82      0.83       148\n",
      "           1       0.83      0.84      0.84       152\n",
      "\n",
      "    accuracy                           0.83       300\n",
      "   macro avg       0.83      0.83      0.83       300\n",
      "weighted avg       0.83      0.83      0.83       300\n",
      "\n"
     ]
    }
   ],
   "source": [
    "rf=RandomForestClassifier()\n",
    "rf.fit(x_train1,y_train1)\n",
    "pred=rf.predict(x_test1)\n",
    "print(accuracy_score(y_test1,pred))\n",
    "print(classification_report(y_test1,pred))"
   ]
  },
  {
   "cell_type": "markdown",
   "id": "8e83486b",
   "metadata": {},
   "source": [
    "# Cross Validation Score"
   ]
  },
  {
   "cell_type": "code",
   "execution_count": 308,
   "id": "fb943206",
   "metadata": {},
   "outputs": [
    {
     "name": "stdout",
     "output_type": "stream",
     "text": [
      "0.7914634146341464\n"
     ]
    }
   ],
   "source": [
    "from sklearn.model_selection import cross_val_score\n",
    "print(cross_val_score(lm,x,y,cv=5).mean())  #logistic regression"
   ]
  },
  {
   "cell_type": "code",
   "execution_count": 309,
   "id": "33d0d059",
   "metadata": {},
   "outputs": [
    {
     "name": "stdout",
     "output_type": "stream",
     "text": [
      "0.7024390243902439\n"
     ]
    }
   ],
   "source": [
    "print(cross_val_score(mnb,x,y,cv=5).mean()) #multinomial regression"
   ]
  },
  {
   "cell_type": "code",
   "execution_count": 324,
   "id": "e6d03b1e",
   "metadata": {},
   "outputs": [
    {
     "name": "stdout",
     "output_type": "stream",
     "text": [
      "0.7597560975609756\n"
     ]
    }
   ],
   "source": [
    "print(cross_val_score(dtc,x,y,cv=5).mean()) #decision tree classifier"
   ]
  },
  {
   "cell_type": "code",
   "execution_count": 311,
   "id": "60a43a2c",
   "metadata": {},
   "outputs": [
    {
     "name": "stdout",
     "output_type": "stream",
     "text": [
      "0.8109756097560977\n"
     ]
    }
   ],
   "source": [
    "print(cross_val_score(svc1,x,y,cv=5).mean()) #support vector classifier"
   ]
  },
  {
   "cell_type": "code",
   "execution_count": 312,
   "id": "7a1469cc",
   "metadata": {},
   "outputs": [
    {
     "name": "stdout",
     "output_type": "stream",
     "text": [
      "0.7963414634146341\n"
     ]
    }
   ],
   "source": [
    "print(cross_val_score(rf,x,y,cv=5).mean()) #random forest classifier"
   ]
  },
  {
   "cell_type": "markdown",
   "id": "c2c8cb88",
   "metadata": {},
   "source": [
    "model                 accuracy score            cv     diff\n",
    "LogisticRegression       85                     79      6\n",
    "MNB                      78                     70      8\n",
    "DTC                      74                     75      -1\n",
    "SVC                      82                     81      1\n",
    "Random                   82                     79      3\n",
    "Support Vector gives the best results "
   ]
  },
  {
   "cell_type": "markdown",
   "id": "4fd6fe58",
   "metadata": {},
   "source": [
    "# ROC_AUC CURVE"
   ]
  },
  {
   "cell_type": "code",
   "execution_count": 313,
   "id": "d2a2a6dd",
   "metadata": {},
   "outputs": [
    {
     "data": {
      "text/plain": [
       "array([0.80186371, 0.20818373, 0.18093489, 0.20794266, 0.20754656,\n",
       "       0.19991647, 0.21135268, 0.27356194, 0.78391062, 0.19326966,\n",
       "       0.21320947, 0.60597611, 0.80424563, 0.72824676, 0.45626125,\n",
       "       0.1964047 , 0.80244871, 0.73651436, 0.62778916, 0.16080166,\n",
       "       0.21014855, 0.21464099, 0.89994186, 0.75677978, 0.90591392,\n",
       "       0.66811034, 0.26175441, 0.80184597, 0.99207737, 0.92405846,\n",
       "       0.9579058 , 0.7617542 , 0.29471755, 0.21046407, 0.20150162,\n",
       "       0.21335724, 0.21217849, 0.15148178, 0.95324187, 0.8087589 ,\n",
       "       0.64403875, 0.80140506, 0.2112161 , 0.12812291, 0.19432973,\n",
       "       0.81007648, 0.21095251, 0.97521773, 0.20781216, 0.31575621,\n",
       "       0.4361547 , 0.97390523, 0.36398363, 0.91600775, 0.21220963,\n",
       "       0.20879653, 0.22408902, 0.98271035, 0.20429667, 0.55537084,\n",
       "       0.81585955, 0.20368223, 0.80384225, 0.80747227, 0.21137002,\n",
       "       0.8302661 , 0.78885378, 0.81577535, 0.81560525, 0.82542755,\n",
       "       0.05857383, 0.88396949, 0.19345942, 0.44189717, 0.33788936,\n",
       "       0.2027173 , 0.20494947, 0.80538243, 0.19988754, 0.80810401,\n",
       "       0.31793678, 0.19679881, 0.79689583, 0.17095327, 0.25515762,\n",
       "       0.87546042, 0.94335201, 0.5       , 0.84758703, 0.96485935,\n",
       "       0.98845836, 0.31614791, 0.21175887, 0.935338  , 0.81846363,\n",
       "       0.21046198, 0.91179183, 0.20549315, 0.21037992, 0.76973814,\n",
       "       0.81157546, 0.95758281, 0.80166282, 0.23466824, 0.34833529,\n",
       "       0.14700809, 0.78526292, 0.21340603, 0.20291067, 0.76256903,\n",
       "       0.80125234, 0.21052681, 0.79103011, 0.20371283, 0.76795614,\n",
       "       0.97909108, 0.36256554, 0.79241369, 0.21268713, 0.19076093,\n",
       "       0.21171307, 0.35709014, 0.80729575, 0.25425531, 0.70364227,\n",
       "       0.2105155 , 0.91414668, 0.91743246, 0.20890327, 0.82781514,\n",
       "       0.80987457, 0.83350855, 0.26432813, 0.12434032, 0.85444422,\n",
       "       0.86162949, 0.18772172, 0.19803863, 0.20850072, 0.9538083 ,\n",
       "       0.20574863, 0.19762438, 0.21311098, 0.80099121, 0.21077543,\n",
       "       0.35466182, 0.18885684, 0.19249037, 0.28815514, 0.81378726,\n",
       "       0.33440848, 0.19776956, 0.18696717, 0.88250194, 0.89993555,\n",
       "       0.85070948, 0.2090092 , 0.19678069, 0.98541524, 0.34111383,\n",
       "       0.22321042, 0.20065999, 0.20571534, 0.98517807, 0.50584491,\n",
       "       0.88547841, 0.9307339 , 0.29032244, 0.19362388, 0.21805466,\n",
       "       0.78512428, 0.81017576, 0.7263444 , 0.60118142, 0.9737772 ,\n",
       "       0.82970296, 0.20028294, 0.74329538, 0.21032041, 0.71872875,\n",
       "       0.78037742, 0.80610331, 0.19568881, 0.20349988, 0.80003891,\n",
       "       0.21044586, 0.19865837, 0.80574033, 0.22181116, 0.74737602,\n",
       "       0.79235348, 0.20590048, 0.79379137, 0.4139179 , 0.44936735,\n",
       "       0.74666022, 0.39214085, 0.23014058, 0.19946454, 0.87574683,\n",
       "       0.57734808, 0.19355191, 0.41296959, 0.93685419, 0.21119691,\n",
       "       0.83615004, 0.15363701, 0.9340564 , 0.695382  , 0.6977431 ,\n",
       "       0.67548986, 0.7959751 , 0.19042829, 0.14734225, 0.20904175,\n",
       "       0.92342544, 0.21285515, 0.98490452, 0.20940526, 0.83194372,\n",
       "       0.81621662, 0.78732875, 0.85908944, 0.20841465, 0.16675311,\n",
       "       0.80284881, 0.77516673, 0.7491676 , 0.66980759, 0.91401406,\n",
       "       0.81262829, 0.83030914, 0.91663488, 0.20938189, 0.35089616,\n",
       "       0.11477419, 0.62812673, 0.45200675, 0.20761228, 0.32746972,\n",
       "       0.15980953, 0.80672712, 0.16283005, 0.21705139, 0.21367091,\n",
       "       0.79800991, 0.21334562, 0.81159432, 0.80218274, 0.48591986,\n",
       "       0.20815359, 0.88327408, 0.88040098, 0.21109359, 0.19825448,\n",
       "       0.20263124, 0.90752387, 0.11358316, 0.21186473, 0.80988378,\n",
       "       0.20932011, 0.89340879, 0.20721975, 0.20929793, 0.85639967,\n",
       "       0.87447584, 0.20039354, 0.21248441, 0.81082798, 0.2020881 ,\n",
       "       0.21327848, 0.81078091, 0.29952023, 0.21044211, 0.21380262,\n",
       "       0.24652717, 0.21033106, 0.21182177, 0.24992616, 0.93898967,\n",
       "       0.31889025, 0.48474006, 0.8732845 , 0.19276672, 0.20237747,\n",
       "       0.87011644, 0.85714327, 0.2025657 , 0.21192827, 0.94983559,\n",
       "       0.21122004, 0.92655975, 0.8665979 , 0.86098528, 0.62236641,\n",
       "       0.97709359, 0.38784162, 0.2245526 , 0.17594876, 0.21377401])"
      ]
     },
     "execution_count": 313,
     "metadata": {},
     "output_type": "execute_result"
    }
   ],
   "source": [
    "y_pred_prob=svc1.predict_proba(x_test1)[:,1]\n",
    "y_pred_prob"
   ]
  },
  {
   "cell_type": "code",
   "execution_count": 314,
   "id": "ef2ec956",
   "metadata": {},
   "outputs": [],
   "source": [
    "fpr,tpr,thresholds=roc_curve(y_test1,y_pred_prob)"
   ]
  },
  {
   "cell_type": "code",
   "execution_count": 315,
   "id": "fd493b04",
   "metadata": {},
   "outputs": [
    {
     "data": {
      "image/png": "[encoded data removed]",
      "text/plain": [
       "<Figure size 432x288 with 1 Axes>"
      ]
     },
     "metadata": {
      "needs_background": "light"
     },
     "output_type": "display_data"
    }
   ],
   "source": [
    "ply.plot([0,1],[0,1],\"k--\")\n",
    "ply.plot(fpr,tpr,label=\"SupportVectorClassifier\")\n",
    "ply.xlabel(\"False Positive Rate\")\n",
    "ply.ylabel(\"True Positive Rate\")\n",
    "ply.title(\"Support Vector Classifier\")\n",
    "ply.show()"
   ]
  },
  {
   "cell_type": "code",
   "execution_count": 316,
   "id": "0d65a789",
   "metadata": {},
   "outputs": [
    {
     "data": {
      "text/plain": [
       "0.8205014224751067"
      ]
     },
     "execution_count": 316,
     "metadata": {},
     "output_type": "execute_result"
    }
   ],
   "source": [
    "auc_score=roc_auc_score(y_test1,svc1.predict(x_test1))\n",
    "auc_score"
   ]
  },
  {
   "cell_type": "markdown",
   "id": "bb9fa07a",
   "metadata": {},
   "source": [
    "The score is almost equal to accuracy score"
   ]
  },
  {
   "cell_type": "markdown",
   "id": "04a41848",
   "metadata": {},
   "source": [
    "# HyperParameter Tunning"
   ]
  },
  {
   "cell_type": "code",
   "execution_count": 317,
   "id": "8e4de1ab",
   "metadata": {},
   "outputs": [],
   "source": [
    "parameter={\"gamma\":['scale','auto'],\n",
    "          \"shrinking\":[True,False],\n",
    "          \"C\":np.arange(2,20),\n",
    "          \"degree\":np.arange(2,10)}"
   ]
  },
  {
   "cell_type": "code",
   "execution_count": 318,
   "id": "fa2491ed",
   "metadata": {},
   "outputs": [],
   "source": [
    "gcv=GridSearchCV(SVC(),parameter,cv=5)"
   ]
  },
  {
   "cell_type": "code",
   "execution_count": 319,
   "id": "07e656d9",
   "metadata": {},
   "outputs": [
    {
     "data": {
      "text/plain": [
       "GridSearchCV(cv=5, estimator=SVC(),\n",
       "             param_grid={'C': array([ 2,  3,  4,  5,  6,  7,  8,  9, 10, 11, 12, 13, 14, 15, 16, 17, 18,\n",
       "       19]),\n",
       "                         'degree': array([2, 3, 4, 5, 6, 7, 8, 9]),\n",
       "                         'gamma': ['scale', 'auto'],\n",
       "                         'shrinking': [True, False]})"
      ]
     },
     "execution_count": 319,
     "metadata": {},
     "output_type": "execute_result"
    }
   ],
   "source": [
    "gcv.fit(x_train1,y_train1)"
   ]
  },
  {
   "cell_type": "code",
   "execution_count": 320,
   "id": "6afba18c",
   "metadata": {},
   "outputs": [
    {
     "data": {
      "text/plain": [
       "{'C': 14, 'degree': 2, 'gamma': 'scale', 'shrinking': True}"
      ]
     },
     "execution_count": 320,
     "metadata": {},
     "output_type": "execute_result"
    }
   ],
   "source": [
    "gcv.best_params_   #best parameters"
   ]
  },
  {
   "cell_type": "markdown",
   "id": "55a1e72f",
   "metadata": {},
   "source": [
    "# Final Model"
   ]
  },
  {
   "cell_type": "code",
   "execution_count": 326,
   "id": "73cfafc2",
   "metadata": {},
   "outputs": [
    {
     "name": "stdout",
     "output_type": "stream",
     "text": [
      "Accuracy score 0.8233333333333334\n",
      "              precision    recall  f1-score   support\n",
      "\n",
      "           0       0.80      0.86      0.83       148\n",
      "           1       0.85      0.79      0.82       152\n",
      "\n",
      "    accuracy                           0.82       300\n",
      "   macro avg       0.82      0.82      0.82       300\n",
      "weighted avg       0.83      0.82      0.82       300\n",
      "\n"
     ]
    }
   ],
   "source": [
    "final=SVC(kernel=\"poly\",probability=True,C=14,gamma='scale',shrinking=True,degree=2)\n",
    "final.fit(x_train1,y_train1)\n",
    "pred=final.predict(x_test1)\n",
    "print(\"Accuracy score\",accuracy_score(y_test1,pred))\n",
    "print(classification_report(y_test1,pred))"
   ]
  },
  {
   "cell_type": "markdown",
   "id": "eb955f1e",
   "metadata": {},
   "source": [
    "# Saving the model"
   ]
  },
  {
   "cell_type": "code",
   "execution_count": 327,
   "id": "dc16f4b5",
   "metadata": {},
   "outputs": [
    {
     "data": {
      "text/plain": [
       "['finalmod6.pkl']"
      ]
     },
     "execution_count": 327,
     "metadata": {},
     "output_type": "execute_result"
    }
   ],
   "source": [
    "import joblib\n",
    "joblib.dump(final,\"finalmod6.pkl\")"
   ]
  },
  {
   "cell_type": "code",
   "execution_count": null,
   "id": "d2a28b0c",
   "metadata": {},
   "outputs": [],
   "source": []
  }
 ],
 "metadata": {
  "kernelspec": {
   "display_name": "Python 3",
   "language": "python",
   "name": "python3"
  },
  "language_info": {
   "codemirror_mode": {
    "name": "ipython",
    "version": 3
   },
   "file_extension": ".py",
   "mimetype": "text/x-python",
   "name": "python",
   "nbconvert_exporter": "python",
   "pygments_lexer": "ipython3",
   "version": "3.8.8"
  }
 },
 "nbformat": 4,
 "nbformat_minor": 5
}
