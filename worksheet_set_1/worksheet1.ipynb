{
 "cells": [
  {
   "cell_type": "raw",
   "id": "3770dc71",
   "metadata": {},
   "source": [
    "Ans:1--------(C) %\n",
    "Ans:2--------(B) 0\n",
    "Ans:3--------(C) 24\n",
    "Ans:4--------(A) 2\n",
    "Ans:5--------(D) 6\n",
    "Ans:6--------(C) finally block will be exected no matter if try block raises an error or not\n",
    "Ans:7--------(A) It is used to raise an error\n",
    "Ans:8--------(C) In defining a generator\n",
    "Ans:9--------(A,C) variable can contain alphabet,number,underscore but can start with aplhabet and underscore\n",
    "Ans:10-------(A,B) Raise and Yeild are keywords"
   ]
  },
  {
   "cell_type": "markdown",
   "id": "77a241b1",
   "metadata": {},
   "source": [
    "### Factorial"
   ]
  },
  {
   "cell_type": "code",
   "execution_count": 1,
   "id": "5a6c1639",
   "metadata": {},
   "outputs": [
    {
     "name": "stdout",
     "output_type": "stream",
     "text": [
      "Enter a number of your choice: 6\n",
      "Factorial of 6 is: 720\n"
     ]
    }
   ],
   "source": [
    "n=int(input(\"Enter a number of your choice: \"))\n",
    "n\n",
    "fact=1\n",
    "\n",
    "if n<0:\n",
    "    print(\"Please enter a valid number.\")\n",
    "    \n",
    "elif n==0:\n",
    "    print(\"Factorial of Zero is: 0\")\n",
    "    \n",
    "elif n==1:\n",
    "    print(\"Factorial of 1 is : 1\")\n",
    "    \n",
    "else:\n",
    "    for i in range(1,n+1):\n",
    "        fact=fact*i\n",
    "    print(\"Factorial of\",n,\"is:\",fact)\n",
    "    \n",
    "    "
   ]
  },
  {
   "cell_type": "markdown",
   "id": "76702db0",
   "metadata": {},
   "source": [
    "## Prime"
   ]
  },
  {
   "cell_type": "code",
   "execution_count": 122,
   "id": "5aabff93",
   "metadata": {},
   "outputs": [
    {
     "name": "stdout",
     "output_type": "stream",
     "text": [
      "Enter a NUMBER of your Choice: 5\n",
      "Its a PRIME NUMBER\n"
     ]
    }
   ],
   "source": [
    "n=int(input(\"Enter a NUMBER of your Choice: \"))\n",
    "flag=False\n",
    "\n",
    "if n<0:\n",
    "    print(\"Enter a WHOLE Number.\")\n",
    "    \n",
    "elif n==0:\n",
    "    print(\"Neither PRIME Nor COMPOSITE\")\n",
    "\n",
    "elif n>1:\n",
    "    for i in range(2,n):\n",
    "        if(n%i==0):\n",
    "            flag=True\n",
    "            break\n",
    "    \n",
    "    if flag==True:\n",
    "        print(\"Its a COMPOSITE NUMBER\")\n",
    "    else:\n",
    "        print(\"Its a PRIME NUMBER\")\n",
    "        \n",
    "else:\n",
    "    pass\n",
    "    "
   ]
  },
  {
   "cell_type": "markdown",
   "id": "13a4e987",
   "metadata": {},
   "source": [
    "### Right angled Triangle"
   ]
  },
  {
   "cell_type": "code",
   "execution_count": 83,
   "id": "ed609186",
   "metadata": {},
   "outputs": [],
   "source": [
    "import math\n",
    "def side(b,p):        #for calculating hypotenuse\n",
    "    a=b**2+p**2\n",
    "    h=math.sqrt(a)\n",
    "    return h\n",
    "\n",
    "def side2(y,u):       #for calculating base,perpendicular\n",
    "    v=y**2-u**2\n",
    "    t=math.sqrt(v)\n",
    "    return t"
   ]
  },
  {
   "cell_type": "code",
   "execution_count": 119,
   "id": "7508a200",
   "metadata": {},
   "outputs": [
    {
     "name": "stdout",
     "output_type": "stream",
     "text": [
      "Enter a number of your choice: 3\n",
      "Enter a number of your choice: 2\n",
      "Hypotenuse is:  3.61\n",
      "Base/Perpendicular is:  2.24\n"
     ]
    }
   ],
   "source": [
    "a=int(input(\"Enter a number of your choice: \"))\n",
    "b=int(input(\"Enter a number of your choice: \"))\n",
    "\n",
    "q=side(a,b)\n",
    "print(\"Hypotenuse is: \",round(q,2))\n",
    "\n",
    "w=side2(a,b)\n",
    "print(\"Base/Perpendicular is: \",round(w,2))"
   ]
  },
  {
   "cell_type": "markdown",
   "id": "91c10720",
   "metadata": {},
   "source": [
    "### Palindrome"
   ]
  },
  {
   "cell_type": "code",
   "execution_count": 120,
   "id": "f866928e",
   "metadata": {},
   "outputs": [
    {
     "name": "stdout",
     "output_type": "stream",
     "text": [
      "Enter a String: ram\n",
      "OOPS!! Not a palindrome\n"
     ]
    }
   ],
   "source": [
    "def funct(x):\n",
    "    return x[::-1]\n",
    "\n",
    "s=input(\"Enter a String: \")\n",
    "s=s.casefold()\n",
    "y=funct(s)\n",
    "\n",
    "if s==y:\n",
    "    print(\"Its a Palindrome\")\n",
    "else:\n",
    "    print(\"OOPS!! Not a palindrome\")\n"
   ]
  },
  {
   "cell_type": "markdown",
   "id": "ad37a406",
   "metadata": {},
   "source": [
    "### Frequency of chars in a string"
   ]
  },
  {
   "cell_type": "code",
   "execution_count": 5,
   "id": "85aea04b",
   "metadata": {},
   "outputs": [
    {
     "name": "stdout",
     "output_type": "stream",
     "text": [
      "Enter a String: ram\n",
      "r ----- 1\n",
      "a ----- 1\n",
      "m ----- 1\n"
     ]
    }
   ],
   "source": [
    "i=input(\"Enter a String: \")\n",
    "i=i.casefold()\n",
    "y=len(i)\n",
    "for k in range(y):\n",
    "    r=i.count(i[k])\n",
    "    print(i[k],\"-----\",r)"
   ]
  },
  {
   "cell_type": "code",
   "execution_count": null,
   "id": "35ae5bc3",
   "metadata": {},
   "outputs": [],
   "source": []
  }
 ],
 "metadata": {
  "kernelspec": {
   "display_name": "Python 3",
   "language": "python",
   "name": "python3"
  },
  "language_info": {
   "codemirror_mode": {
    "name": "ipython",
    "version": 3
   },
   "file_extension": ".py",
   "mimetype": "text/x-python",
   "name": "python",
   "nbconvert_exporter": "python",
   "pygments_lexer": "ipython3",
   "version": "3.8.8"
  }
 },
 "nbformat": 4,
 "nbformat_minor": 5
}
