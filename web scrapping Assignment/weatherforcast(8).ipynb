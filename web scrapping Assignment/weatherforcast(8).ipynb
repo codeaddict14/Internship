{
 "cells": [
  {
   "cell_type": "markdown",
   "id": "4efa30b4",
   "metadata": {},
   "source": [
    "### Write a python program to extract information about the local weather"
   ]
  },
  {
   "cell_type": "code",
   "execution_count": null,
   "id": "c2d17e6e",
   "metadata": {},
   "outputs": [],
   "source": [
    "import bs4\n",
    "import requests\n",
    "from bs4 import BeautifulSoup"
   ]
  },
  {
   "cell_type": "code",
   "execution_count": 34,
   "id": "bcbbc0a9",
   "metadata": {},
   "outputs": [
    {
     "data": {
      "text/plain": [
       "<Response [200]>"
      ]
     },
     "execution_count": 34,
     "metadata": {},
     "output_type": "execute_result"
    }
   ],
   "source": [
    "page=requests.get(\"https://forecast.weather.gov/MapClick.php?lat=37.777120000000025&lon=-122.41963999999996#.YUxpsLgzY2z\")\n",
    "page"
   ]
  },
  {
   "cell_type": "code",
   "execution_count": null,
   "id": "f2f87074",
   "metadata": {},
   "outputs": [],
   "source": [
    "page.content"
   ]
  },
  {
   "cell_type": "code",
   "execution_count": null,
   "id": "6b5db08a",
   "metadata": {},
   "outputs": [],
   "source": [
    "soup=BeautifulSoup(page.content)"
   ]
  },
  {
   "cell_type": "code",
   "execution_count": null,
   "id": "77dd8013",
   "metadata": {},
   "outputs": [],
   "source": [
    "soup"
   ]
  },
  {
   "cell_type": "code",
   "execution_count": null,
   "id": "9b791d08",
   "metadata": {},
   "outputs": [],
   "source": [
    "print(soup.prettify)"
   ]
  },
  {
   "cell_type": "code",
   "execution_count": null,
   "id": "86c04289",
   "metadata": {},
   "outputs": [],
   "source": [
    "period=soup.find_all(\"div\",class_=\"tombstone-container\")\n",
    "period"
   ]
  },
  {
   "cell_type": "code",
   "execution_count": null,
   "id": "d6ebfe97",
   "metadata": {},
   "outputs": [],
   "source": [
    "periodo=[]\n",
    "for i in period:\n",
    "    for j in i.find_all(\"p\",class_=\"period-name\"):\n",
    "        periodo.append(j.text)"
   ]
  },
  {
   "cell_type": "code",
   "execution_count": null,
   "id": "9723d327",
   "metadata": {},
   "outputs": [],
   "source": [
    "periodo"
   ]
  },
  {
   "cell_type": "code",
   "execution_count": null,
   "id": "8f8561cd",
   "metadata": {},
   "outputs": [],
   "source": [
    "short=[]\n",
    "for i in period:\n",
    "    for j in i.find_all(\"p\",class_=\"short-desc\"):\n",
    "        short.append(j.text)"
   ]
  },
  {
   "cell_type": "code",
   "execution_count": null,
   "id": "6ea5da52",
   "metadata": {},
   "outputs": [],
   "source": [
    "short"
   ]
  },
  {
   "cell_type": "code",
   "execution_count": null,
   "id": "ae969e7d",
   "metadata": {},
   "outputs": [],
   "source": [
    "temp=soup.find_all(\"div\",class_=\"tombstone-container\")\n",
    "temp"
   ]
  },
  {
   "cell_type": "code",
   "execution_count": null,
   "id": "0a2a2c43",
   "metadata": {},
   "outputs": [],
   "source": [
    "temp=[]\n",
    "for i in period:\n",
    "    for j in i.find_all(\"p\",class_=\"temp temp-high\"):\n",
    "        temp.append(j.text)"
   ]
  },
  {
   "cell_type": "code",
   "execution_count": null,
   "id": "9bf001bb",
   "metadata": {},
   "outputs": [],
   "source": [
    "temp"
   ]
  },
  {
   "cell_type": "code",
   "execution_count": null,
   "id": "3367980b",
   "metadata": {},
   "outputs": [],
   "source": [
    "temp2=[]\n",
    "for i in period:\n",
    "    for j in i.find_all(\"p\",class_=\"temp temp-low\"):\n",
    "        temp2.append(j.text)\n",
    "temp2"
   ]
  },
  {
   "cell_type": "code",
   "execution_count": null,
   "id": "7aaef7ee",
   "metadata": {},
   "outputs": [],
   "source": [
    "temp"
   ]
  },
  {
   "cell_type": "code",
   "execution_count": 36,
   "id": "a60953b9",
   "metadata": {},
   "outputs": [
    {
     "data": {
      "text/plain": [
       "['Low: 56 °F',\n",
       " 'High: 73 °F',\n",
       " 'Low: 56 °F',\n",
       " 'High: 68 °F',\n",
       " 'Low: 55 °F',\n",
       " 'High: 65 °F',\n",
       " 'Low: 55 °F',\n",
       " 'High: 67 °F',\n",
       " 'Low: 57 °F']"
      ]
     },
     "execution_count": 36,
     "metadata": {},
     "output_type": "execute_result"
    }
   ],
   "source": [
    "result=[None]*(len(temp)+len(temp2))\n",
    "result[1::2]=temp\n",
    "result[::2]=temp2\n",
    "result"
   ]
  },
  {
   "cell_type": "code",
   "execution_count": null,
   "id": "87e5582c",
   "metadata": {},
   "outputs": [],
   "source": [
    "detailforcast=soup.find_all(\"div\",class_=\"col-sm-10 forecast-text\")\n",
    "detailforcast"
   ]
  },
  {
   "cell_type": "code",
   "execution_count": null,
   "id": "7e412a61",
   "metadata": {},
   "outputs": [],
   "source": [
    "detail=[]\n",
    "for i in detailforcast:\n",
    "    detail.append(i.text)"
   ]
  },
  {
   "cell_type": "code",
   "execution_count": null,
   "id": "8843041f",
   "metadata": {},
   "outputs": [],
   "source": [
    "detail"
   ]
  },
  {
   "cell_type": "code",
   "execution_count": null,
   "id": "2f5f7be5",
   "metadata": {},
   "outputs": [],
   "source": [
    "detail=detail[0:9]"
   ]
  },
  {
   "cell_type": "code",
   "execution_count": null,
   "id": "6da7c0e8",
   "metadata": {},
   "outputs": [],
   "source": [
    "import pandas as pd\n",
    "jobs=pd.DataFrame({})\n",
    "jobs[\"Period\"]=periodo\n",
    "jobs[\"Short\"]=short\n",
    "jobs[\"Temperature\"]=result\n",
    "jobs[\"Descrpition\"]=detail\n"
   ]
  },
  {
   "cell_type": "code",
   "execution_count": 35,
   "id": "d8674a40",
   "metadata": {},
   "outputs": [
    {
     "data": {
      "text/html": [
       "<div>\n",
       "<style scoped>\n",
       "    .dataframe tbody tr th:only-of-type {\n",
       "        vertical-align: middle;\n",
       "    }\n",
       "\n",
       "    .dataframe tbody tr th {\n",
       "        vertical-align: top;\n",
       "    }\n",
       "\n",
       "    .dataframe thead th {\n",
       "        text-align: right;\n",
       "    }\n",
       "</style>\n",
       "<table border=\"1\" class=\"dataframe\">\n",
       "  <thead>\n",
       "    <tr style=\"text-align: right;\">\n",
       "      <th></th>\n",
       "      <th>Period</th>\n",
       "      <th>Short</th>\n",
       "      <th>Temperature</th>\n",
       "      <th>Descrpition</th>\n",
       "    </tr>\n",
       "  </thead>\n",
       "  <tbody>\n",
       "    <tr>\n",
       "      <th>0</th>\n",
       "      <td>Tonight</td>\n",
       "      <td>Partly Cloudy</td>\n",
       "      <td>Low: 56 °F</td>\n",
       "      <td>Partly cloudy, with a low around 56. West sout...</td>\n",
       "    </tr>\n",
       "    <tr>\n",
       "      <th>1</th>\n",
       "      <td>Friday</td>\n",
       "      <td>Mostly Sunnythen Sunnyand Breezy</td>\n",
       "      <td>High: 73 °F</td>\n",
       "      <td>Sunny, with a high near 73. Breezy, with a wes...</td>\n",
       "    </tr>\n",
       "    <tr>\n",
       "      <th>2</th>\n",
       "      <td>FridayNight</td>\n",
       "      <td>Mostly Clearand Breezythen PartlyCloudy</td>\n",
       "      <td>Low: 56 °F</td>\n",
       "      <td>Partly cloudy, with a low around 56. Breezy, w...</td>\n",
       "    </tr>\n",
       "    <tr>\n",
       "      <th>3</th>\n",
       "      <td>Saturday</td>\n",
       "      <td>Mostly Sunny</td>\n",
       "      <td>High: 68 °F</td>\n",
       "      <td>Mostly sunny, with a high near 68. West southw...</td>\n",
       "    </tr>\n",
       "    <tr>\n",
       "      <th>4</th>\n",
       "      <td>SaturdayNight</td>\n",
       "      <td>Partly Cloudy</td>\n",
       "      <td>Low: 55 °F</td>\n",
       "      <td>Partly cloudy, with a low around 55. West wind...</td>\n",
       "    </tr>\n",
       "    <tr>\n",
       "      <th>5</th>\n",
       "      <td>Sunday</td>\n",
       "      <td>Partly Sunny</td>\n",
       "      <td>High: 65 °F</td>\n",
       "      <td>Partly sunny, with a high near 65.</td>\n",
       "    </tr>\n",
       "    <tr>\n",
       "      <th>6</th>\n",
       "      <td>SundayNight</td>\n",
       "      <td>Partly Cloudy</td>\n",
       "      <td>Low: 55 °F</td>\n",
       "      <td>Partly cloudy, with a low around 55.</td>\n",
       "    </tr>\n",
       "    <tr>\n",
       "      <th>7</th>\n",
       "      <td>Monday</td>\n",
       "      <td>Partly Sunny</td>\n",
       "      <td>High: 67 °F</td>\n",
       "      <td>Partly sunny, with a high near 67.</td>\n",
       "    </tr>\n",
       "    <tr>\n",
       "      <th>8</th>\n",
       "      <td>MondayNight</td>\n",
       "      <td>Mostly Cloudythen SlightChance Rain</td>\n",
       "      <td>Low: 57 °F</td>\n",
       "      <td>A slight chance of rain after midnight.  Mostl...</td>\n",
       "    </tr>\n",
       "  </tbody>\n",
       "</table>\n",
       "</div>"
      ],
      "text/plain": [
       "          Period                                    Short  Temperature  \\\n",
       "0        Tonight                            Partly Cloudy   Low: 56 °F   \n",
       "1         Friday         Mostly Sunnythen Sunnyand Breezy  High: 73 °F   \n",
       "2    FridayNight  Mostly Clearand Breezythen PartlyCloudy   Low: 56 °F   \n",
       "3       Saturday                             Mostly Sunny  High: 68 °F   \n",
       "4  SaturdayNight                            Partly Cloudy   Low: 55 °F   \n",
       "5         Sunday                             Partly Sunny  High: 65 °F   \n",
       "6    SundayNight                            Partly Cloudy   Low: 55 °F   \n",
       "7         Monday                             Partly Sunny  High: 67 °F   \n",
       "8    MondayNight      Mostly Cloudythen SlightChance Rain   Low: 57 °F   \n",
       "\n",
       "                                         Descrpition  \n",
       "0  Partly cloudy, with a low around 56. West sout...  \n",
       "1  Sunny, with a high near 73. Breezy, with a wes...  \n",
       "2  Partly cloudy, with a low around 56. Breezy, w...  \n",
       "3  Mostly sunny, with a high near 68. West southw...  \n",
       "4  Partly cloudy, with a low around 55. West wind...  \n",
       "5                 Partly sunny, with a high near 65.  \n",
       "6               Partly cloudy, with a low around 55.  \n",
       "7                 Partly sunny, with a high near 67.  \n",
       "8  A slight chance of rain after midnight.  Mostl...  "
      ]
     },
     "execution_count": 35,
     "metadata": {},
     "output_type": "execute_result"
    }
   ],
   "source": [
    "jobs"
   ]
  },
  {
   "cell_type": "code",
   "execution_count": null,
   "id": "05816151",
   "metadata": {},
   "outputs": [],
   "source": []
  }
 ],
 "metadata": {
  "kernelspec": {
   "display_name": "Python 3",
   "language": "python",
   "name": "python3"
  },
  "language_info": {
   "codemirror_mode": {
    "name": "ipython",
    "version": 3
   },
   "file_extension": ".py",
   "mimetype": "text/x-python",
   "name": "python",
   "nbconvert_exporter": "python",
   "pygments_lexer": "ipython3",
   "version": "3.8.8"
  }
 },
 "nbformat": 4,
 "nbformat_minor": 5
}
