{
 "cells": [
  {
   "cell_type": "markdown",
   "id": "d13f4b44",
   "metadata": {},
   "source": [
    "### Top 10 ODI Batsmen in men along with the records of their team and rating."
   ]
  },
  {
   "cell_type": "code",
   "execution_count": null,
   "id": "1dea60e4",
   "metadata": {},
   "outputs": [],
   "source": [
    "import bs4"
   ]
  },
  {
   "cell_type": "code",
   "execution_count": null,
   "id": "a99163fc",
   "metadata": {},
   "outputs": [],
   "source": [
    "import requests"
   ]
  },
  {
   "cell_type": "code",
   "execution_count": null,
   "id": "51b9407d",
   "metadata": {},
   "outputs": [],
   "source": [
    "from bs4 import BeautifulSoup"
   ]
  },
  {
   "cell_type": "code",
   "execution_count": null,
   "id": "cefdffcd",
   "metadata": {},
   "outputs": [],
   "source": [
    "page=requests.get(\"https://www.icc-cricket.com/rankings/mens/player-rankings/odi/batting?at=2021-09-23\")\n",
    "page"
   ]
  },
  {
   "cell_type": "code",
   "execution_count": null,
   "id": "8a31b0eb",
   "metadata": {},
   "outputs": [],
   "source": [
    "soup=BeautifulSoup(page.content)"
   ]
  },
  {
   "cell_type": "code",
   "execution_count": null,
   "id": "2bff26bb",
   "metadata": {},
   "outputs": [],
   "source": [
    "soup"
   ]
  },
  {
   "cell_type": "code",
   "execution_count": null,
   "id": "86c64426",
   "metadata": {},
   "outputs": [],
   "source": [
    "print(soup.prettify())"
   ]
  },
  {
   "cell_type": "code",
   "execution_count": null,
   "id": "a3bbf691",
   "metadata": {},
   "outputs": [],
   "source": [
    "player=soup.find_all('div',class_=\"rankings-block__container full\")\n",
    "player"
   ]
  },
  {
   "cell_type": "code",
   "execution_count": null,
   "id": "27f8de10",
   "metadata": {},
   "outputs": [],
   "source": [
    "play=[]\n",
    "for i in player:\n",
    "        for k in i.find_all(\"a\"):\n",
    "            play.append(k.text.strip().replace(\"\\t\",\" \"))"
   ]
  },
  {
   "cell_type": "code",
   "execution_count": null,
   "id": "8a014aec",
   "metadata": {},
   "outputs": [],
   "source": [
    "play"
   ]
  },
  {
   "cell_type": "code",
   "execution_count": null,
   "id": "46dbf587",
   "metadata": {},
   "outputs": [],
   "source": [
    "play=play[1:11]\n",
    "play"
   ]
  },
  {
   "cell_type": "code",
   "execution_count": null,
   "id": "356a0d58",
   "metadata": {},
   "outputs": [],
   "source": [
    "t=soup.find_all(\"div\",class_=\"rankings-block__container full\")\n",
    "t"
   ]
  },
  {
   "cell_type": "code",
   "execution_count": null,
   "id": "1a2977df",
   "metadata": {},
   "outputs": [],
   "source": [
    "te=[]\n",
    "for i in t:\n",
    "    for j in i.find_all(\"div\",class_=\"rankings-block__banner--nationality\"):\n",
    "        te.append(j.text.strip().replace(\"\\n\",\" \"))\n",
    "        for k in i.find_all(\"span\",class_=\"table-body__logo-text\"):\n",
    "            te.append(k.text)\n",
    "te"
   ]
  },
  {
   "cell_type": "code",
   "execution_count": null,
   "id": "63afd968",
   "metadata": {},
   "outputs": [],
   "source": [
    "te=te[0:10]\n",
    "te"
   ]
  },
  {
   "cell_type": "code",
   "execution_count": null,
   "id": "bca8554e",
   "metadata": {},
   "outputs": [],
   "source": [
    "rati=soup.find_all(\"div\",class_=\"rankings-block__container full\")\n",
    "rati"
   ]
  },
  {
   "cell_type": "code",
   "execution_count": null,
   "id": "b53151ef",
   "metadata": {},
   "outputs": [],
   "source": [
    "ratw=[]\n",
    "for i in rati:\n",
    "    for j in i.find_all(\"div\",class_=\"rankings-block__banner--rating\"):\n",
    "        ratw.append(j.text)\n",
    "        for k in i.find_all(\"td\",class_=\"table-body__cell rating\"):\n",
    "            ratw.append(k.text)\n",
    "ratw"
   ]
  },
  {
   "cell_type": "code",
   "execution_count": null,
   "id": "dbb6d15c",
   "metadata": {},
   "outputs": [],
   "source": [
    "ratw=ratw[0:10]\n",
    "ratw"
   ]
  },
  {
   "cell_type": "code",
   "execution_count": 62,
   "id": "915f77b7",
   "metadata": {},
   "outputs": [
    {
     "data": {
      "text/html": [
       "<div>\n",
       "<style scoped>\n",
       "    .dataframe tbody tr th:only-of-type {\n",
       "        vertical-align: middle;\n",
       "    }\n",
       "\n",
       "    .dataframe tbody tr th {\n",
       "        vertical-align: top;\n",
       "    }\n",
       "\n",
       "    .dataframe thead th {\n",
       "        text-align: right;\n",
       "    }\n",
       "</style>\n",
       "<table border=\"1\" class=\"dataframe\">\n",
       "  <thead>\n",
       "    <tr style=\"text-align: right;\">\n",
       "      <th></th>\n",
       "      <th>Name</th>\n",
       "      <th>Team</th>\n",
       "      <th>Rating</th>\n",
       "    </tr>\n",
       "  </thead>\n",
       "  <tbody>\n",
       "    <tr>\n",
       "      <th>0</th>\n",
       "      <td>Babar Azam</td>\n",
       "      <td>PAK</td>\n",
       "      <td>873</td>\n",
       "    </tr>\n",
       "    <tr>\n",
       "      <th>1</th>\n",
       "      <td>Virat Kohli</td>\n",
       "      <td>IND</td>\n",
       "      <td>844</td>\n",
       "    </tr>\n",
       "    <tr>\n",
       "      <th>2</th>\n",
       "      <td>Rohit Sharma</td>\n",
       "      <td>IND</td>\n",
       "      <td>813</td>\n",
       "    </tr>\n",
       "    <tr>\n",
       "      <th>3</th>\n",
       "      <td>Ross Taylor</td>\n",
       "      <td>NZ</td>\n",
       "      <td>801</td>\n",
       "    </tr>\n",
       "    <tr>\n",
       "      <th>4</th>\n",
       "      <td>Aaron Finch</td>\n",
       "      <td>AUS</td>\n",
       "      <td>779</td>\n",
       "    </tr>\n",
       "    <tr>\n",
       "      <th>5</th>\n",
       "      <td>Jonny Bairstow</td>\n",
       "      <td>ENG</td>\n",
       "      <td>775</td>\n",
       "    </tr>\n",
       "    <tr>\n",
       "      <th>6</th>\n",
       "      <td>David Warner</td>\n",
       "      <td>AUS</td>\n",
       "      <td>762</td>\n",
       "    </tr>\n",
       "    <tr>\n",
       "      <th>7</th>\n",
       "      <td>Shai Hope</td>\n",
       "      <td>WI</td>\n",
       "      <td>758</td>\n",
       "    </tr>\n",
       "    <tr>\n",
       "      <th>8</th>\n",
       "      <td>Kane Williamson</td>\n",
       "      <td>NZ</td>\n",
       "      <td>754</td>\n",
       "    </tr>\n",
       "    <tr>\n",
       "      <th>9</th>\n",
       "      <td>Quinton de Kock</td>\n",
       "      <td>SA</td>\n",
       "      <td>747</td>\n",
       "    </tr>\n",
       "  </tbody>\n",
       "</table>\n",
       "</div>"
      ],
      "text/plain": [
       "              Name Team Rating\n",
       "0       Babar Azam  PAK    873\n",
       "1      Virat Kohli  IND    844\n",
       "2     Rohit Sharma  IND    813\n",
       "3      Ross Taylor   NZ    801\n",
       "4      Aaron Finch  AUS    779\n",
       "5   Jonny Bairstow  ENG    775\n",
       "6     David Warner  AUS    762\n",
       "7        Shai Hope   WI    758\n",
       "8  Kane Williamson   NZ    754\n",
       "9  Quinton de Kock   SA    747"
      ]
     },
     "execution_count": 62,
     "metadata": {},
     "output_type": "execute_result"
    }
   ],
   "source": [
    "import pandas as pd\n",
    "jobo=pd.DataFrame({})\n",
    "jobo[\"Name\"]=play\n",
    "jobo[\"Team\"]=te\n",
    "jobo[\"Rating\"]=ratw\n",
    "jobo"
   ]
  },
  {
   "cell_type": "markdown",
   "id": "2941a924",
   "metadata": {},
   "source": [
    "### Top 10 ODI bowlers along with the records of their team and rating"
   ]
  },
  {
   "cell_type": "code",
   "execution_count": null,
   "id": "ebeaf0eb",
   "metadata": {},
   "outputs": [],
   "source": [
    "page=requests.get(\"https://www.icc-cricket.com/rankings/mens/player-rankings/odi/bowling\")"
   ]
  },
  {
   "cell_type": "code",
   "execution_count": null,
   "id": "7caf3099",
   "metadata": {},
   "outputs": [],
   "source": [
    "page"
   ]
  },
  {
   "cell_type": "code",
   "execution_count": null,
   "id": "2a6f796a",
   "metadata": {},
   "outputs": [],
   "source": [
    "soup=BeautifulSoup(page.content)"
   ]
  },
  {
   "cell_type": "code",
   "execution_count": null,
   "id": "52e6ad11",
   "metadata": {},
   "outputs": [],
   "source": [
    "soup"
   ]
  },
  {
   "cell_type": "code",
   "execution_count": null,
   "id": "671ed6f3",
   "metadata": {},
   "outputs": [],
   "source": [
    "print(soup.prettify())"
   ]
  },
  {
   "cell_type": "code",
   "execution_count": null,
   "id": "eea6a72b",
   "metadata": {},
   "outputs": [],
   "source": [
    "player1=soup.find_all(\"div\",class_=\"rankings-block__container full\")\n",
    "player1"
   ]
  },
  {
   "cell_type": "code",
   "execution_count": null,
   "id": "fbe69b30",
   "metadata": {},
   "outputs": [],
   "source": [
    "player2=[]\n",
    "for i in player1:\n",
    "    for j in i.find_all(\"a\"):\n",
    "        player2.append(j.text.replace(\"\\n\",\" \"))"
   ]
  },
  {
   "cell_type": "code",
   "execution_count": null,
   "id": "4ea5f227",
   "metadata": {},
   "outputs": [],
   "source": [
    "player2"
   ]
  },
  {
   "cell_type": "code",
   "execution_count": null,
   "id": "4e2f6be4",
   "metadata": {},
   "outputs": [],
   "source": [
    "player2=player2[1:11]"
   ]
  },
  {
   "cell_type": "code",
   "execution_count": null,
   "id": "175c92ee",
   "metadata": {},
   "outputs": [],
   "source": [
    "len(player2)"
   ]
  },
  {
   "cell_type": "code",
   "execution_count": null,
   "id": "fc526de9",
   "metadata": {},
   "outputs": [],
   "source": [
    "team=soup.find_all(\"div\",class_=\"rankings-block__container full\")\n",
    "team"
   ]
  },
  {
   "cell_type": "code",
   "execution_count": null,
   "id": "24664a68",
   "metadata": {},
   "outputs": [],
   "source": [
    "team1=[]\n",
    "for i in team:\n",
    "    for j in i.find_all(\"div\",class_=\"rankings-block__banner--nationality\"):\n",
    "        team1.append(j.text.strip().replace(\"\\n\",\" \"))\n",
    "        for k in i.find_all(\"span\",class_=\"table-body__logo-text\"):\n",
    "            team1.append(k.text)"
   ]
  },
  {
   "cell_type": "code",
   "execution_count": null,
   "id": "337d4e7e",
   "metadata": {},
   "outputs": [],
   "source": [
    "team1"
   ]
  },
  {
   "cell_type": "code",
   "execution_count": null,
   "id": "ee3ba062",
   "metadata": {},
   "outputs": [],
   "source": [
    "team1=team1[0:10]"
   ]
  },
  {
   "cell_type": "code",
   "execution_count": null,
   "id": "8d76723f",
   "metadata": {},
   "outputs": [],
   "source": [
    "rating=soup.find_all(\"div\",class_=\"rankings-block__container full\")\n",
    "rating"
   ]
  },
  {
   "cell_type": "code",
   "execution_count": null,
   "id": "c649c4ea",
   "metadata": {},
   "outputs": [],
   "source": [
    "rating1=[]\n",
    "for i in rating:\n",
    "    for j in i.find_all(\"div\",class_=\"rankings-block__banner--rating\"):\n",
    "        rating1.append(j.text)\n",
    "        for k in i.find_all(\"td\",class_=\"table-body__cell rating\"):\n",
    "            rating1.append(k.text)\n",
    "rating1"
   ]
  },
  {
   "cell_type": "code",
   "execution_count": null,
   "id": "a0b8d039",
   "metadata": {},
   "outputs": [],
   "source": [
    "rating1=rating1[0:10]"
   ]
  },
  {
   "cell_type": "code",
   "execution_count": 63,
   "id": "b14ac54d",
   "metadata": {},
   "outputs": [
    {
     "data": {
      "text/html": [
       "<div>\n",
       "<style scoped>\n",
       "    .dataframe tbody tr th:only-of-type {\n",
       "        vertical-align: middle;\n",
       "    }\n",
       "\n",
       "    .dataframe tbody tr th {\n",
       "        vertical-align: top;\n",
       "    }\n",
       "\n",
       "    .dataframe thead th {\n",
       "        text-align: right;\n",
       "    }\n",
       "</style>\n",
       "<table border=\"1\" class=\"dataframe\">\n",
       "  <thead>\n",
       "    <tr style=\"text-align: right;\">\n",
       "      <th></th>\n",
       "      <th>Name</th>\n",
       "      <th>Team</th>\n",
       "      <th>Rating</th>\n",
       "    </tr>\n",
       "  </thead>\n",
       "  <tbody>\n",
       "    <tr>\n",
       "      <th>0</th>\n",
       "      <td>Trent Boult</td>\n",
       "      <td>NZ</td>\n",
       "      <td>737</td>\n",
       "    </tr>\n",
       "    <tr>\n",
       "      <th>1</th>\n",
       "      <td>Josh Hazlewood</td>\n",
       "      <td>AUS</td>\n",
       "      <td>709</td>\n",
       "    </tr>\n",
       "    <tr>\n",
       "      <th>2</th>\n",
       "      <td>Mujeeb Ur Rahman</td>\n",
       "      <td>AFG</td>\n",
       "      <td>708</td>\n",
       "    </tr>\n",
       "    <tr>\n",
       "      <th>3</th>\n",
       "      <td>Chris Woakes</td>\n",
       "      <td>ENG</td>\n",
       "      <td>700</td>\n",
       "    </tr>\n",
       "    <tr>\n",
       "      <th>4</th>\n",
       "      <td>Mehedi Hasan</td>\n",
       "      <td>BAN</td>\n",
       "      <td>692</td>\n",
       "    </tr>\n",
       "    <tr>\n",
       "      <th>5</th>\n",
       "      <td>Matt Henry</td>\n",
       "      <td>NZ</td>\n",
       "      <td>691</td>\n",
       "    </tr>\n",
       "    <tr>\n",
       "      <th>6</th>\n",
       "      <td>Jasprit Bumrah</td>\n",
       "      <td>IND</td>\n",
       "      <td>679</td>\n",
       "    </tr>\n",
       "    <tr>\n",
       "      <th>7</th>\n",
       "      <td>Mitchell Starc</td>\n",
       "      <td>AUS</td>\n",
       "      <td>652</td>\n",
       "    </tr>\n",
       "    <tr>\n",
       "      <th>8</th>\n",
       "      <td>Shakib Al Hasan</td>\n",
       "      <td>BAN</td>\n",
       "      <td>650</td>\n",
       "    </tr>\n",
       "    <tr>\n",
       "      <th>9</th>\n",
       "      <td>Kagiso Rabada</td>\n",
       "      <td>SA</td>\n",
       "      <td>646</td>\n",
       "    </tr>\n",
       "  </tbody>\n",
       "</table>\n",
       "</div>"
      ],
      "text/plain": [
       "               Name Team Rating\n",
       "0       Trent Boult   NZ    737\n",
       "1    Josh Hazlewood  AUS    709\n",
       "2  Mujeeb Ur Rahman  AFG    708\n",
       "3      Chris Woakes  ENG    700\n",
       "4      Mehedi Hasan  BAN    692\n",
       "5        Matt Henry   NZ    691\n",
       "6    Jasprit Bumrah  IND    679\n",
       "7    Mitchell Starc  AUS    652\n",
       "8   Shakib Al Hasan  BAN    650\n",
       "9     Kagiso Rabada   SA    646"
      ]
     },
     "execution_count": 63,
     "metadata": {},
     "output_type": "execute_result"
    }
   ],
   "source": [
    "jobb=pd.DataFrame({})\n",
    "jobb[\"Name\"]=player2\n",
    "jobb[\"Team\"]=team1\n",
    "jobb[\"Rating\"]=rating1\n",
    "jobb"
   ]
  },
  {
   "cell_type": "markdown",
   "id": "107f9791",
   "metadata": {},
   "source": [
    "### Top 10 ODI teams in men’s cricket along with the records for matches, points and rating"
   ]
  },
  {
   "cell_type": "code",
   "execution_count": null,
   "id": "8e4ad74a",
   "metadata": {},
   "outputs": [],
   "source": [
    "page=requests.get(\"https://www.icc-cricket.com/rankings/mens/team-rankings/odi\")"
   ]
  },
  {
   "cell_type": "code",
   "execution_count": null,
   "id": "552042e1",
   "metadata": {},
   "outputs": [],
   "source": [
    "page"
   ]
  },
  {
   "cell_type": "code",
   "execution_count": null,
   "id": "77702e1c",
   "metadata": {},
   "outputs": [],
   "source": [
    "page.content"
   ]
  },
  {
   "cell_type": "code",
   "execution_count": null,
   "id": "cc890aab",
   "metadata": {},
   "outputs": [],
   "source": [
    "soup=BeautifulSoup(page.content)"
   ]
  },
  {
   "cell_type": "code",
   "execution_count": null,
   "id": "d03b8719",
   "metadata": {},
   "outputs": [],
   "source": [
    "soup"
   ]
  },
  {
   "cell_type": "code",
   "execution_count": null,
   "id": "ac1379c2",
   "metadata": {},
   "outputs": [],
   "source": [
    "print(soup.prettify())"
   ]
  },
  {
   "cell_type": "code",
   "execution_count": null,
   "id": "99cdfc26",
   "metadata": {},
   "outputs": [],
   "source": [
    "team=soup.find_all(\"div\",class_=\"rankings-block__container full rankings-table\")\n",
    "team"
   ]
  },
  {
   "cell_type": "code",
   "execution_count": null,
   "id": "723bf7f8",
   "metadata": {},
   "outputs": [],
   "source": [
    "teams=[]\n",
    "for i in team:\n",
    "    for j in i.find_all(\"span\",class_=\"u-hide-phablet\"):\n",
    "        teams.append(j.text)\n",
    "    \n",
    "teams"
   ]
  },
  {
   "cell_type": "code",
   "execution_count": null,
   "id": "3c303882",
   "metadata": {},
   "outputs": [],
   "source": [
    "teams=teams[0:10]\n",
    "teams"
   ]
  },
  {
   "cell_type": "code",
   "execution_count": null,
   "id": "deb3b2ca",
   "metadata": {},
   "outputs": [],
   "source": [
    "matches=soup.find_all(\"div\",class_=\"rankings-block__container full rankings-table\")\n",
    "matches"
   ]
  },
  {
   "cell_type": "code",
   "execution_count": null,
   "id": "f83010c1",
   "metadata": {},
   "outputs": [],
   "source": [
    "matchs=[]\n",
    "li=[]\n",
    "for i in matches:\n",
    "    for j in i.find_all(\"td\",class_=\"rankings-block__banner--matches\"):\n",
    "        matchs.append(j.text)\n",
    "        for m in i.find_all(\"td\",class_=\"rankings-block__banner--points\"):\n",
    "            li.append(m.text)\n",
    "            for k in i.find_all(\"td\",class_=\"table-body__cell u-center-text\"):\n",
    "                li.append(k.text)\n",
    "            "
   ]
  },
  {
   "cell_type": "code",
   "execution_count": null,
   "id": "a93f82fe",
   "metadata": {},
   "outputs": [],
   "source": [
    "li"
   ]
  },
  {
   "cell_type": "code",
   "execution_count": null,
   "id": "be4faecf",
   "metadata": {},
   "outputs": [],
   "source": [
    "len(li)"
   ]
  },
  {
   "cell_type": "code",
   "execution_count": null,
   "id": "ccb9af36",
   "metadata": {},
   "outputs": [],
   "source": [
    "matchesf=li[1::2]\n",
    "matchesf\n"
   ]
  },
  {
   "cell_type": "code",
   "execution_count": null,
   "id": "2e5df4a1",
   "metadata": {},
   "outputs": [],
   "source": [
    "matchs.extend(matchesf)\n",
    "matchs"
   ]
  },
  {
   "cell_type": "code",
   "execution_count": null,
   "id": "1aa22e8d",
   "metadata": {},
   "outputs": [],
   "source": [
    "matchs=matchs[0:10]\n",
    "matchs"
   ]
  },
  {
   "cell_type": "code",
   "execution_count": null,
   "id": "4c5a5c72",
   "metadata": {},
   "outputs": [],
   "source": [
    "points=li[::2]\n",
    "points"
   ]
  },
  {
   "cell_type": "code",
   "execution_count": null,
   "id": "84af30e7",
   "metadata": {},
   "outputs": [],
   "source": [
    "points=points[0:10]\n",
    "points"
   ]
  },
  {
   "cell_type": "code",
   "execution_count": null,
   "id": "0b4ee947",
   "metadata": {},
   "outputs": [],
   "source": [
    "ratingnew=soup.find_all(\"div\",class_=\"rankings-block__container full rankings-table\")\n",
    "ratingnew"
   ]
  },
  {
   "cell_type": "code",
   "execution_count": null,
   "id": "e9516412",
   "metadata": {},
   "outputs": [],
   "source": [
    "rat=[]\n",
    "for i in ratingnew:\n",
    "    for j in i.find_all(\"td\",class_=\"rankings-block__banner--rating u-text-right\"):\n",
    "        rat.append(j.text.strip().replace(\"\\n\",\" \"))\n",
    "        for k in i.find_all(\"td\",class_=\"table-body__cell u-text-right rating\"):\n",
    "            rat.append(k.text)\n",
    "rat"
   ]
  },
  {
   "cell_type": "code",
   "execution_count": null,
   "id": "2fbe7604",
   "metadata": {},
   "outputs": [],
   "source": [
    "rat=rat[0:10]"
   ]
  },
  {
   "cell_type": "code",
   "execution_count": null,
   "id": "380b5531",
   "metadata": {},
   "outputs": [],
   "source": [
    "jobl=pd.DataFrame({})\n",
    "jobl[\"Team\"]=teams\n",
    "jobl[\"match\"]=matchs\n",
    "jobl[\"points\"]=points\n",
    "jobl[\"rating\"]=rat"
   ]
  },
  {
   "cell_type": "code",
   "execution_count": 64,
   "id": "aa45b8e2",
   "metadata": {},
   "outputs": [
    {
     "data": {
      "text/html": [
       "<div>\n",
       "<style scoped>\n",
       "    .dataframe tbody tr th:only-of-type {\n",
       "        vertical-align: middle;\n",
       "    }\n",
       "\n",
       "    .dataframe tbody tr th {\n",
       "        vertical-align: top;\n",
       "    }\n",
       "\n",
       "    .dataframe thead th {\n",
       "        text-align: right;\n",
       "    }\n",
       "</style>\n",
       "<table border=\"1\" class=\"dataframe\">\n",
       "  <thead>\n",
       "    <tr style=\"text-align: right;\">\n",
       "      <th></th>\n",
       "      <th>Team</th>\n",
       "      <th>match</th>\n",
       "      <th>points</th>\n",
       "      <th>rating</th>\n",
       "    </tr>\n",
       "  </thead>\n",
       "  <tbody>\n",
       "    <tr>\n",
       "      <th>0</th>\n",
       "      <td>New Zealand</td>\n",
       "      <td>17</td>\n",
       "      <td>2,054</td>\n",
       "      <td>121</td>\n",
       "    </tr>\n",
       "    <tr>\n",
       "      <th>1</th>\n",
       "      <td>England</td>\n",
       "      <td>32</td>\n",
       "      <td>3,793</td>\n",
       "      <td>119</td>\n",
       "    </tr>\n",
       "    <tr>\n",
       "      <th>2</th>\n",
       "      <td>Australia</td>\n",
       "      <td>28</td>\n",
       "      <td>3,244</td>\n",
       "      <td>116</td>\n",
       "    </tr>\n",
       "    <tr>\n",
       "      <th>3</th>\n",
       "      <td>India</td>\n",
       "      <td>32</td>\n",
       "      <td>3,624</td>\n",
       "      <td>113</td>\n",
       "    </tr>\n",
       "    <tr>\n",
       "      <th>4</th>\n",
       "      <td>South Africa</td>\n",
       "      <td>25</td>\n",
       "      <td>2,459</td>\n",
       "      <td>98</td>\n",
       "    </tr>\n",
       "    <tr>\n",
       "      <th>5</th>\n",
       "      <td>Pakistan</td>\n",
       "      <td>27</td>\n",
       "      <td>2,524</td>\n",
       "      <td>93</td>\n",
       "    </tr>\n",
       "    <tr>\n",
       "      <th>6</th>\n",
       "      <td>Bangladesh</td>\n",
       "      <td>30</td>\n",
       "      <td>2,740</td>\n",
       "      <td>91</td>\n",
       "    </tr>\n",
       "    <tr>\n",
       "      <th>7</th>\n",
       "      <td>West Indies</td>\n",
       "      <td>30</td>\n",
       "      <td>2,523</td>\n",
       "      <td>84</td>\n",
       "    </tr>\n",
       "    <tr>\n",
       "      <th>8</th>\n",
       "      <td>Sri Lanka</td>\n",
       "      <td>32</td>\n",
       "      <td>2,657</td>\n",
       "      <td>83</td>\n",
       "    </tr>\n",
       "    <tr>\n",
       "      <th>9</th>\n",
       "      <td>Afghanistan</td>\n",
       "      <td>17</td>\n",
       "      <td>1,054</td>\n",
       "      <td>62</td>\n",
       "    </tr>\n",
       "  </tbody>\n",
       "</table>\n",
       "</div>"
      ],
      "text/plain": [
       "           Team match points rating\n",
       "0   New Zealand    17  2,054    121\n",
       "1       England    32  3,793    119\n",
       "2     Australia    28  3,244    116\n",
       "3         India    32  3,624    113\n",
       "4  South Africa    25  2,459     98\n",
       "5      Pakistan    27  2,524     93\n",
       "6    Bangladesh    30  2,740     91\n",
       "7   West Indies    30  2,523     84\n",
       "8     Sri Lanka    32  2,657     83\n",
       "9   Afghanistan    17  1,054     62"
      ]
     },
     "execution_count": 64,
     "metadata": {},
     "output_type": "execute_result"
    }
   ],
   "source": [
    "jobl"
   ]
  },
  {
   "cell_type": "code",
   "execution_count": null,
   "id": "4e9cb5b8",
   "metadata": {},
   "outputs": [],
   "source": []
  }
 ],
 "metadata": {
  "kernelspec": {
   "display_name": "Python 3",
   "language": "python",
   "name": "python3"
  },
  "language_info": {
   "codemirror_mode": {
    "name": "ipython",
    "version": 3
   },
   "file_extension": ".py",
   "mimetype": "text/x-python",
   "name": "python",
   "nbconvert_exporter": "python",
   "pygments_lexer": "ipython3",
   "version": "3.8.8"
  }
 },
 "nbformat": 4,
 "nbformat_minor": 5
}
