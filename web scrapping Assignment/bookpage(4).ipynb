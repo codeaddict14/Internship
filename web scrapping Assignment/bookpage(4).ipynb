{
 "cells": [
  {
   "cell_type": "markdown",
   "id": "947e0f1d",
   "metadata": {},
   "source": [
    "### Write a python program to scrap book name, author name, genre and book review of any 5 books from\n",
    "‘www.bookpage.com’\n"
   ]
  },
  {
   "cell_type": "markdown",
   "id": "e50ab947",
   "metadata": {},
   "source": [
    "# BOOK:-1"
   ]
  },
  {
   "cell_type": "code",
   "execution_count": null,
   "id": "20e196d6",
   "metadata": {},
   "outputs": [],
   "source": [
    "import bs4\n",
    "import requests\n",
    "from bs4 import BeautifulSoup\n",
    "import warnings\n",
    "warnings.filterwarnings(\"ignore\")"
   ]
  },
  {
   "cell_type": "code",
   "execution_count": null,
   "id": "9780468a",
   "metadata": {},
   "outputs": [],
   "source": [
    "page=requests.get(\"https://bookpage.com/reviews/26715-craig-johnson-daughter-morning-star-mystery-suspense#.YU2FPrgzY2w\")\n",
    "page"
   ]
  },
  {
   "cell_type": "code",
   "execution_count": null,
   "id": "a08c4449",
   "metadata": {},
   "outputs": [],
   "source": [
    "page.content"
   ]
  },
  {
   "cell_type": "code",
   "execution_count": null,
   "id": "061b989e",
   "metadata": {},
   "outputs": [],
   "source": [
    "soup=BeautifulSoup(page.content)\n",
    "soup"
   ]
  },
  {
   "cell_type": "code",
   "execution_count": null,
   "id": "c75fc3f6",
   "metadata": {},
   "outputs": [],
   "source": [
    "print(soup.prettify())"
   ]
  },
  {
   "cell_type": "code",
   "execution_count": null,
   "id": "7f854d5e",
   "metadata": {},
   "outputs": [],
   "source": [
    "name1=soup.find_all(\"div\",class_=\"span5 book-data\")\n",
    "name1"
   ]
  },
  {
   "cell_type": "code",
   "execution_count": null,
   "id": "5f5f1595",
   "metadata": {},
   "outputs": [],
   "source": [
    "namef=[]\n",
    "for i in name1:\n",
    "    for j in i.find_all(\"h1\",class_=\"italic\"):\n",
    "        namef.append(j.text.strip().replace(\"\\n\",\" \"))"
   ]
  },
  {
   "cell_type": "code",
   "execution_count": 164,
   "id": "edc043de",
   "metadata": {},
   "outputs": [
    {
     "data": {
      "text/plain": [
       "['Daughter of the Morning Star']"
      ]
     },
     "execution_count": 164,
     "metadata": {},
     "output_type": "execute_result"
    }
   ],
   "source": [
    "namef"
   ]
  },
  {
   "cell_type": "code",
   "execution_count": null,
   "id": "bf620740",
   "metadata": {},
   "outputs": [],
   "source": [
    "author=[]\n",
    "for i in name1:\n",
    "    for j in i.find_all(\"h4\",class_=\"sans\"):\n",
    "        author.append(j.text.strip().replace(\"\\n\",\" \"))"
   ]
  },
  {
   "cell_type": "code",
   "execution_count": 165,
   "id": "feac7f96",
   "metadata": {},
   "outputs": [
    {
     "data": {
      "text/plain": [
       "['Craig Johnson']"
      ]
     },
     "execution_count": 165,
     "metadata": {},
     "output_type": "execute_result"
    }
   ],
   "source": [
    "author"
   ]
  },
  {
   "cell_type": "code",
   "execution_count": null,
   "id": "4ad0bfca",
   "metadata": {},
   "outputs": [],
   "source": [
    "genre=soup.find_all(\"p\",class_=\"genre-links\")\n",
    "genre"
   ]
  },
  {
   "cell_type": "code",
   "execution_count": null,
   "id": "201cb8bc",
   "metadata": {},
   "outputs": [],
   "source": [
    "genref=[]\n",
    "for i in genre:\n",
    "    for j in i.find_all(\"a\"):\n",
    "        genref.append(j.text)"
   ]
  },
  {
   "cell_type": "code",
   "execution_count": 166,
   "id": "ca188a93",
   "metadata": {},
   "outputs": [
    {
     "data": {
      "text/plain": [
       "['Mystery & Suspense', 'Mystery']"
      ]
     },
     "execution_count": 166,
     "metadata": {},
     "output_type": "execute_result"
    }
   ],
   "source": [
    "genref"
   ]
  },
  {
   "cell_type": "code",
   "execution_count": 167,
   "id": "4659a219",
   "metadata": {},
   "outputs": [
    {
     "data": {
      "text/plain": [
       "'Mystery & Suspense'"
      ]
     },
     "execution_count": 167,
     "metadata": {},
     "output_type": "execute_result"
    }
   ],
   "source": [
    "genrew=genref[0]\n",
    "genrew"
   ]
  },
  {
   "cell_type": "code",
   "execution_count": null,
   "id": "6357035b",
   "metadata": {},
   "outputs": [],
   "source": [
    "review=soup.find_all(\"div\",class_=\"article-body\")\n",
    "review"
   ]
  },
  {
   "cell_type": "code",
   "execution_count": null,
   "id": "04a3c5e2",
   "metadata": {},
   "outputs": [],
   "source": [
    "reviewf=[]\n",
    "for i in review:\n",
    "    reviewf.append(i.text.strip().replace(\"\\n\",\" \"))"
   ]
  },
  {
   "cell_type": "code",
   "execution_count": 168,
   "id": "bd8d0a93",
   "metadata": {},
   "outputs": [
    {
     "data": {
      "text/plain": [
       "['Daughter of the Morning Star, the 17th book in Craig Johnson’s riveting mystery series, proves that Sheriff Walt Longmire does his best work on the page, even compared to the acclaimed Netflix adaptation of the series, “Longmire.” Longmire walks a fine line, serving the predominantly white populace of Absaroka County, Wyoming, as well as the members of the Cheyenne Indian Nation who live on the local reservation. When Chief Lolo Long of the Cheyenne Tribal Police asks for\\xa0his\\xa0assistance in investigating death threats against her niece, Jaya Long, the standout star of the Lame Deer Lady Stars high school basketball team, Longmire’s penchant for justice makes it easy to say yes. With the help of his best friend, Henry Standing Bear, Longmire begins an intensive investigation that he believes is tied into the disappearance of Jaya’s older sister, Jeanie, a year ago. Jeanie was with friends on her way back from a party in Billings, Montana, when their van broke down. While repairs were being made, she wandered off, never to be seen again. Longmire and Bear take the usual route of interviewing all of Jeanie’s contacts, hoping to find something the police or FBI missed. Some of the witnesses are helpful enough;\\xa0some, not so much. A farmer, Lyndon Iron Bull, claims to have seen her singing in a snowstorm and warns of an ancient Cheyenne legend known as Wandering Without, “a spiritual hole that devours souls.” Writing from Longmire’s point of view for the entirety of this fast-paced mystery,\\xa0Johnson uses\\xa0crisp prose and sharp dialogue to create a sense of immediacy as the investigation moves toward its inevitable, thrilling conclusion. The case also allows Johnson to incorporate horrifying statistics about how young Native American women are substantially more likely to be murdered, to be\\xa0sexually assaulted or to commit suicide than the national average. Longmire knows that what happened to Jeanie and what’s threatening Jaya lie anywhere along that spectrum, and that’s what scares him. As readers, you’ll be scared too.']"
      ]
     },
     "execution_count": 168,
     "metadata": {},
     "output_type": "execute_result"
    }
   ],
   "source": [
    "reviewf"
   ]
  },
  {
   "cell_type": "code",
   "execution_count": null,
   "id": "51670dba",
   "metadata": {},
   "outputs": [],
   "source": [
    "import pandas as pd\n",
    "book1=pd.DataFrame({})\n",
    "book1[\"Name\"]=namef\n",
    "book1[\"Author\"]=author\n",
    "book1[\"Genre\"]=genrew\n",
    "book1[\"Review\"]=reviewf"
   ]
  },
  {
   "cell_type": "code",
   "execution_count": 169,
   "id": "992cd99a",
   "metadata": {},
   "outputs": [
    {
     "data": {
      "text/html": [
       "<div>\n",
       "<style scoped>\n",
       "    .dataframe tbody tr th:only-of-type {\n",
       "        vertical-align: middle;\n",
       "    }\n",
       "\n",
       "    .dataframe tbody tr th {\n",
       "        vertical-align: top;\n",
       "    }\n",
       "\n",
       "    .dataframe thead th {\n",
       "        text-align: right;\n",
       "    }\n",
       "</style>\n",
       "<table border=\"1\" class=\"dataframe\">\n",
       "  <thead>\n",
       "    <tr style=\"text-align: right;\">\n",
       "      <th></th>\n",
       "      <th>Name</th>\n",
       "      <th>Author</th>\n",
       "      <th>Genre</th>\n",
       "      <th>Review</th>\n",
       "    </tr>\n",
       "  </thead>\n",
       "  <tbody>\n",
       "    <tr>\n",
       "      <th>0</th>\n",
       "      <td>Daughter of the Morning Star</td>\n",
       "      <td>Craig Johnson</td>\n",
       "      <td>Mystery &amp; Suspense</td>\n",
       "      <td>Daughter of the Morning Star, the 17th book in...</td>\n",
       "    </tr>\n",
       "  </tbody>\n",
       "</table>\n",
       "</div>"
      ],
      "text/plain": [
       "                           Name         Author               Genre  \\\n",
       "0  Daughter of the Morning Star  Craig Johnson  Mystery & Suspense   \n",
       "\n",
       "                                              Review  \n",
       "0  Daughter of the Morning Star, the 17th book in...  "
      ]
     },
     "execution_count": 169,
     "metadata": {},
     "output_type": "execute_result"
    }
   ],
   "source": [
    "book1"
   ]
  },
  {
   "cell_type": "markdown",
   "id": "30ef2014",
   "metadata": {},
   "source": [
    "# BOOK:2"
   ]
  },
  {
   "cell_type": "code",
   "execution_count": null,
   "id": "ae2463d5",
   "metadata": {},
   "outputs": [],
   "source": [
    "page1=requests.get(\"https://bookpage.com/reviews/26618-joanna-schaffhausen-gone-good-mystery-suspense#.YU2MFLgzY2w\")\n",
    "page1"
   ]
  },
  {
   "cell_type": "code",
   "execution_count": null,
   "id": "67b7d3fa",
   "metadata": {},
   "outputs": [],
   "source": [
    "soup=BeautifulSoup(page1.content)\n",
    "soup"
   ]
  },
  {
   "cell_type": "code",
   "execution_count": null,
   "id": "dd8f1a42",
   "metadata": {},
   "outputs": [],
   "source": [
    "print(soup.prettify())"
   ]
  },
  {
   "cell_type": "code",
   "execution_count": null,
   "id": "d0804ed5",
   "metadata": {},
   "outputs": [],
   "source": [
    "name2=soup.find_all(\"div\",class_=\"span5 book-data\")\n",
    "name2"
   ]
  },
  {
   "cell_type": "code",
   "execution_count": 170,
   "id": "09a61db6",
   "metadata": {},
   "outputs": [
    {
     "data": {
      "text/plain": [
       "['Gone for Good']"
      ]
     },
     "execution_count": 170,
     "metadata": {},
     "output_type": "execute_result"
    }
   ],
   "source": [
    "nameg=[]\n",
    "for i in name2:\n",
    "    for j in i.find_all(\"h1\",class_=\"italic\"):\n",
    "        nameg.append(j.text.strip().replace(\"\\n\",\" \"))\n",
    "nameg"
   ]
  },
  {
   "cell_type": "code",
   "execution_count": 171,
   "id": "e35867cd",
   "metadata": {},
   "outputs": [
    {
     "data": {
      "text/plain": [
       "['Joanna Schaffhausen']"
      ]
     },
     "execution_count": 171,
     "metadata": {},
     "output_type": "execute_result"
    }
   ],
   "source": [
    "author2=[]\n",
    "for i in name2:\n",
    "    for j in i.find_all(\"h4\",class_=\"sans\"):\n",
    "        author2.append(j.text.strip().replace(\"\\n\",\" \"))\n",
    "author2"
   ]
  },
  {
   "cell_type": "code",
   "execution_count": null,
   "id": "20cd4c40",
   "metadata": {},
   "outputs": [],
   "source": [
    "genre2=soup.find_all(\"p\",class_=\"genre-links\")\n",
    "genre2"
   ]
  },
  {
   "cell_type": "code",
   "execution_count": 172,
   "id": "2890d098",
   "metadata": {},
   "outputs": [],
   "source": [
    "genre3=[]\n",
    "for i in genre2:\n",
    "    genre3.append(i.text.strip().replace(\"\\n\",\"\"))"
   ]
  },
  {
   "cell_type": "code",
   "execution_count": 173,
   "id": "1bd2096e",
   "metadata": {},
   "outputs": [
    {
     "data": {
      "text/plain": [
       "['Mystery & Suspense / Mystery']"
      ]
     },
     "execution_count": 173,
     "metadata": {},
     "output_type": "execute_result"
    }
   ],
   "source": [
    "genre3"
   ]
  },
  {
   "cell_type": "code",
   "execution_count": null,
   "id": "5f9ad4cf",
   "metadata": {},
   "outputs": [],
   "source": [
    "review2=soup.find_all(\"div\",class_=\"article-body\")\n",
    "review2"
   ]
  },
  {
   "cell_type": "code",
   "execution_count": null,
   "id": "aab5c620",
   "metadata": {},
   "outputs": [],
   "source": [
    "review3=[]\n",
    "for i in review2:\n",
    "    review3.append(i.text.strip().replace(\"\\n\",\" \"))"
   ]
  },
  {
   "cell_type": "code",
   "execution_count": 174,
   "id": "e61d8ca7",
   "metadata": {},
   "outputs": [
    {
     "data": {
      "text/plain": [
       "[\"Annalisa Vega probably shouldn’t be investigating the latest murder linked to a serial killer, dubbed by the press as the Lovelorn Killer, who last struck in her Chicago suburb 20 years ago. Her father was the original investigator in the case and her boyfriend during her teenage years, Colin, was the son of the seventh murder victim. But Annalisa’s a detective herself now, and, perhaps seeing this as a way to help her dad exorcise his demons from never having solved the case, she dives headlong into Joanna Schaffhausen’s multilayered mystery, Gone for Good. Annalisa quickly learns the latest victim, local grocery store manager Grace Harper, was investigating the original spate of killings with an amateur sleuth club called the Grave Diggers. The similarities between her death and those of the earlier victims—all were found bound and gagged, dead on the floor of their homes—convinces Vega that Grace was closer to solving the case than even she might have thought, which prompted the killer to come out of hiding. Schaffhausen, who has a doctorate in psychology and previously worked in broadcast journalism, uses her expertise to delve into the minds of her characters, extracting their hopes, desires and fears in equal measure. The author brilliantly explores Annalisa’s emotional connections with the characters around her. She’s not only been reunited with Colin for the first time in years, but her partner on the case is her ex-husband, Nick, who is also a detective. Both situations prompt a flood of emotions that threaten to cloud Annalisa's judgment. Chapters told from Grace’s perspective are cunningly interspersed with Annalisa’s traditional gumshoe detective work, yielding additional insights along the way. While Schaffhausen throws in a few red herrings, all the clues are there for readers if they pay keen attention. And even if readers should figure things out ahead of Annalisa, the action-packed ending and final twist are more than worth seeing Gone for Good to its finish.\"]"
      ]
     },
     "execution_count": 174,
     "metadata": {},
     "output_type": "execute_result"
    }
   ],
   "source": [
    "review3"
   ]
  },
  {
   "cell_type": "code",
   "execution_count": null,
   "id": "f5fca4de",
   "metadata": {},
   "outputs": [],
   "source": [
    "book2=pd.DataFrame({})\n",
    "book2[\"Name\"]=nameg\n",
    "book2[\"Author\"]=author2\n",
    "book2[\"Genre\"]=genre3\n",
    "book2[\"Review\"]=review3"
   ]
  },
  {
   "cell_type": "code",
   "execution_count": 175,
   "id": "342e53ef",
   "metadata": {},
   "outputs": [
    {
     "data": {
      "text/html": [
       "<div>\n",
       "<style scoped>\n",
       "    .dataframe tbody tr th:only-of-type {\n",
       "        vertical-align: middle;\n",
       "    }\n",
       "\n",
       "    .dataframe tbody tr th {\n",
       "        vertical-align: top;\n",
       "    }\n",
       "\n",
       "    .dataframe thead th {\n",
       "        text-align: right;\n",
       "    }\n",
       "</style>\n",
       "<table border=\"1\" class=\"dataframe\">\n",
       "  <thead>\n",
       "    <tr style=\"text-align: right;\">\n",
       "      <th></th>\n",
       "      <th>Name</th>\n",
       "      <th>Author</th>\n",
       "      <th>Genre</th>\n",
       "      <th>Review</th>\n",
       "    </tr>\n",
       "  </thead>\n",
       "  <tbody>\n",
       "    <tr>\n",
       "      <th>0</th>\n",
       "      <td>Gone for Good</td>\n",
       "      <td>Joanna Schaffhausen</td>\n",
       "      <td>Mystery &amp; Suspense / Mystery</td>\n",
       "      <td>Annalisa Vega probably shouldn’t be investigat...</td>\n",
       "    </tr>\n",
       "  </tbody>\n",
       "</table>\n",
       "</div>"
      ],
      "text/plain": [
       "            Name               Author                         Genre  \\\n",
       "0  Gone for Good  Joanna Schaffhausen  Mystery & Suspense / Mystery   \n",
       "\n",
       "                                              Review  \n",
       "0  Annalisa Vega probably shouldn’t be investigat...  "
      ]
     },
     "execution_count": 175,
     "metadata": {},
     "output_type": "execute_result"
    }
   ],
   "source": [
    "book2"
   ]
  },
  {
   "cell_type": "markdown",
   "id": "d9c4558b",
   "metadata": {},
   "source": [
    "# BOOK:3"
   ]
  },
  {
   "cell_type": "code",
   "execution_count": null,
   "id": "4caea525",
   "metadata": {},
   "outputs": [],
   "source": [
    "page3=requests.get(\"https://bookpage.com/reviews/26489-naomi-hirahara-clark-division-mystery-suspense#.YU2PWbgzY2w\")\n",
    "page3"
   ]
  },
  {
   "cell_type": "code",
   "execution_count": null,
   "id": "3cec9460",
   "metadata": {},
   "outputs": [],
   "source": [
    "soup=BeautifulSoup(page3.content)\n",
    "soup"
   ]
  },
  {
   "cell_type": "code",
   "execution_count": null,
   "id": "364900a5",
   "metadata": {},
   "outputs": [],
   "source": [
    "print(soup.prettify())"
   ]
  },
  {
   "cell_type": "code",
   "execution_count": null,
   "id": "55094ee1",
   "metadata": {},
   "outputs": [],
   "source": [
    "name0=soup.find_all(\"div\",class_=\"span5 book-data\")\n",
    "name0"
   ]
  },
  {
   "cell_type": "code",
   "execution_count": 176,
   "id": "205c0421",
   "metadata": {},
   "outputs": [],
   "source": [
    "name3=[]\n",
    "author3=[]\n",
    "for i in name0:\n",
    "    for j in i.find_all(\"h1\",class_=\"italic\"):\n",
    "        name3.append(j.text.strip().replace(\"\\n\",\" \"))\n",
    "        for k in i.find_all(\"h4\",class_=\"sans\"):\n",
    "            author3.append(k.text.strip().replace(\"\\n\",\" \"))\n",
    "            "
   ]
  },
  {
   "cell_type": "code",
   "execution_count": 177,
   "id": "7a012677",
   "metadata": {},
   "outputs": [
    {
     "data": {
      "text/plain": [
       "['★ Clark and Division']"
      ]
     },
     "execution_count": 177,
     "metadata": {},
     "output_type": "execute_result"
    }
   ],
   "source": [
    "name3"
   ]
  },
  {
   "cell_type": "code",
   "execution_count": 178,
   "id": "e54aafcf",
   "metadata": {},
   "outputs": [
    {
     "data": {
      "text/plain": [
       "['Naomi Hirahara']"
      ]
     },
     "execution_count": 178,
     "metadata": {},
     "output_type": "execute_result"
    }
   ],
   "source": [
    "author3"
   ]
  },
  {
   "cell_type": "code",
   "execution_count": null,
   "id": "5cede29b",
   "metadata": {},
   "outputs": [],
   "source": [
    "genre4=soup.find_all(\"p\",class_=\"genre-links\")\n",
    "genre4"
   ]
  },
  {
   "cell_type": "code",
   "execution_count": 179,
   "id": "922da153",
   "metadata": {},
   "outputs": [
    {
     "data": {
      "text/plain": [
       "['Mystery & Suspense  /  Mystery  /  Historical Mystery']"
      ]
     },
     "execution_count": 179,
     "metadata": {},
     "output_type": "execute_result"
    }
   ],
   "source": [
    "genrey=[]\n",
    "for i in genre4:\n",
    "    genrey.append(i.text.strip().replace(\"\\n\",\" \"))\n",
    "genrey"
   ]
  },
  {
   "cell_type": "code",
   "execution_count": null,
   "id": "9e68cfd0",
   "metadata": {},
   "outputs": [],
   "source": [
    "rev=soup.find_all(\"div\",class_=\"article-body\")\n",
    "rev"
   ]
  },
  {
   "cell_type": "code",
   "execution_count": null,
   "id": "707e8c36",
   "metadata": {},
   "outputs": [],
   "source": [
    "review4=[]\n",
    "for i in rev:\n",
    "    review4.append(i.text.strip().replace(\"\\n\",\" \"))"
   ]
  },
  {
   "cell_type": "code",
   "execution_count": 180,
   "id": "cee0968b",
   "metadata": {},
   "outputs": [
    {
     "data": {
      "text/plain": [
       "['Set amid the incarceration and subsequent displacement of Japanese Americans during World War II, Clark and Division is as much about communal trauma as it is about the anguish of the Ito family, who are at the story’s center. The grief of the Japanese community in Chicago infuses the atmosphere of this novel, offering a compelling, nuanced tale of loss. Aki Ito and her family have been in a Japanese incarceration camp in California since shortly after Pearl Harbor was bombed. When the Itos are forced to resettle in Chicago in 1944, Aki’s outgoing, dynamic sister, Rose, is sent to the city a few months before the rest of the family arrives. The unfailingly resilient Rose has endured incarceration with the least visible distress, so Aki is shocked when they arrive in Chicago and find that Rose took her own life two days prior.\\xa0 Aki refuses to believe her sister would kill herself, and in between a bleak job search and caring for her now frail parents, she seeks out answers about her sister’s death. Amateur sleuth Aki must navigate her insular community, which is insulated for depressingly good reasons, as well as overt racism from the wider world as she learns that some people would prefer she let the matter rest.\\xa0  ALSO IN BOOKPAGE: How Naomi Hirahara used a crime novel to \"cut through to the truth.\"  Edgar Award-winning author Naomi Hirahara explores trauma on multiple scales in this mystery. On a micro level, Aki struggles to accept the loss of her vibrant sister and watches her father, once a successful businessman, decline into alcoholism. Her family’s home and business back in California have been stolen from them, forcing her parents, deeply proud immigrants, to take whatever jobs they can find.\\xa0 On a macro level, everyone in the predominantly Japanese American neighborhood of Clark and Division (named for two nearby streets) is struggling to find their place in a world where they are unfairly seen as the enemy. Some members of the community enlist in the military in order to prove their loyalty to the United States, some turn to crime to earn a living and some are so boxed in by deeply racist socioeconomic structures that they give up entirely. Yet for Aki, hope is still present, if tarnished. Her journey to make peace with Rose’s death is also a journey to reconcile herself to her new life, while still refusing to forget Rose or their family’s history.']"
      ]
     },
     "execution_count": 180,
     "metadata": {},
     "output_type": "execute_result"
    }
   ],
   "source": [
    "review4"
   ]
  },
  {
   "cell_type": "code",
   "execution_count": null,
   "id": "28f49b1c",
   "metadata": {},
   "outputs": [],
   "source": [
    "book3=pd.DataFrame({})\n",
    "book3[\"Name\"]=name3\n",
    "book3[\"Author\"]=author3\n",
    "book3[\"Genre\"]=genrey\n",
    "book3[\"Review\"]=review4"
   ]
  },
  {
   "cell_type": "code",
   "execution_count": 181,
   "id": "5f520441",
   "metadata": {},
   "outputs": [
    {
     "data": {
      "text/html": [
       "<div>\n",
       "<style scoped>\n",
       "    .dataframe tbody tr th:only-of-type {\n",
       "        vertical-align: middle;\n",
       "    }\n",
       "\n",
       "    .dataframe tbody tr th {\n",
       "        vertical-align: top;\n",
       "    }\n",
       "\n",
       "    .dataframe thead th {\n",
       "        text-align: right;\n",
       "    }\n",
       "</style>\n",
       "<table border=\"1\" class=\"dataframe\">\n",
       "  <thead>\n",
       "    <tr style=\"text-align: right;\">\n",
       "      <th></th>\n",
       "      <th>Name</th>\n",
       "      <th>Author</th>\n",
       "      <th>Genre</th>\n",
       "      <th>Review</th>\n",
       "    </tr>\n",
       "  </thead>\n",
       "  <tbody>\n",
       "    <tr>\n",
       "      <th>0</th>\n",
       "      <td>★ Clark and Division</td>\n",
       "      <td>Naomi Hirahara</td>\n",
       "      <td>Mystery &amp; Suspense  /  Mystery  /  Historical ...</td>\n",
       "      <td>Set amid the incarceration and subsequent disp...</td>\n",
       "    </tr>\n",
       "  </tbody>\n",
       "</table>\n",
       "</div>"
      ],
      "text/plain": [
       "                   Name          Author  \\\n",
       "0  ★ Clark and Division  Naomi Hirahara   \n",
       "\n",
       "                                               Genre  \\\n",
       "0  Mystery & Suspense  /  Mystery  /  Historical ...   \n",
       "\n",
       "                                              Review  \n",
       "0  Set amid the incarceration and subsequent disp...  "
      ]
     },
     "execution_count": 181,
     "metadata": {},
     "output_type": "execute_result"
    }
   ],
   "source": [
    "book3"
   ]
  },
  {
   "cell_type": "markdown",
   "id": "69e08787",
   "metadata": {},
   "source": [
    "# BOOK:4"
   ]
  },
  {
   "cell_type": "code",
   "execution_count": null,
   "id": "21183c24",
   "metadata": {},
   "outputs": [],
   "source": [
    "page4=requests.get(\"https://bookpage.com/reviews/26524-carrie-doyle-it-takes-two-to-mango-mystery-suspense#.YU2TFLgzY2w\")\n",
    "page4"
   ]
  },
  {
   "cell_type": "code",
   "execution_count": null,
   "id": "1c29eee5",
   "metadata": {},
   "outputs": [],
   "source": [
    "soup=BeautifulSoup(page4.content)\n",
    "soup"
   ]
  },
  {
   "cell_type": "code",
   "execution_count": null,
   "id": "d7fb97f2",
   "metadata": {},
   "outputs": [],
   "source": [
    "print(soup.prettify())"
   ]
  },
  {
   "cell_type": "code",
   "execution_count": null,
   "id": "ebde03f7",
   "metadata": {},
   "outputs": [],
   "source": [
    "nameq=soup.find_all(\"div\",class_=\"span5 book-data\")\n",
    "nameq"
   ]
  },
  {
   "cell_type": "code",
   "execution_count": 182,
   "id": "0d252ed0",
   "metadata": {},
   "outputs": [],
   "source": [
    "name4=[]\n",
    "author4=[]\n",
    "for i in nameq:\n",
    "    for j in i.find_all(\"h1\",class_=\"italic\"):\n",
    "        name4.append(j.text.strip().replace(\"\\n\",\" \"))\n",
    "        for k in i.find_all(\"h4\",class_=\"sans\"):\n",
    "            author4.append(k.text.strip().replace(\"\\n\",\" \"))\n",
    "            "
   ]
  },
  {
   "cell_type": "code",
   "execution_count": 183,
   "id": "bbca6e94",
   "metadata": {},
   "outputs": [
    {
     "data": {
      "text/plain": [
       "['It Takes Two to Mango']"
      ]
     },
     "execution_count": 183,
     "metadata": {},
     "output_type": "execute_result"
    }
   ],
   "source": [
    "name4"
   ]
  },
  {
   "cell_type": "code",
   "execution_count": 184,
   "id": "1b5d78e0",
   "metadata": {},
   "outputs": [
    {
     "data": {
      "text/plain": [
       "['Carrie Doyle']"
      ]
     },
     "execution_count": 184,
     "metadata": {},
     "output_type": "execute_result"
    }
   ],
   "source": [
    "author4"
   ]
  },
  {
   "cell_type": "code",
   "execution_count": null,
   "id": "0771072c",
   "metadata": {},
   "outputs": [],
   "source": [
    "genret=soup.find_all(\"p\",class_=\"genre-links\")\n",
    "genret"
   ]
  },
  {
   "cell_type": "code",
   "execution_count": 186,
   "id": "e780b7d1",
   "metadata": {},
   "outputs": [
    {
     "data": {
      "text/plain": [
       "['Mystery & Suspense  /  Mystery  /  Cozy Mystery']"
      ]
     },
     "execution_count": 186,
     "metadata": {},
     "output_type": "execute_result"
    }
   ],
   "source": [
    "genre5=[]\n",
    "for i in genret:\n",
    "    genre5.append(i.text.strip().replace(\"\\n\",\" \"))\n",
    "genre5"
   ]
  },
  {
   "cell_type": "code",
   "execution_count": null,
   "id": "7995c916",
   "metadata": {},
   "outputs": [],
   "source": [
    "review9=soup.find_all(\"div\",class_=\"article-body\")\n",
    "review9"
   ]
  },
  {
   "cell_type": "code",
   "execution_count": null,
   "id": "79e69fba",
   "metadata": {},
   "outputs": [],
   "source": [
    "review5=[]\n",
    "for i in review9:\n",
    "    review5.append(i.text.strip().replace(\"\\n\",\" \"))"
   ]
  },
  {
   "cell_type": "code",
   "execution_count": 187,
   "id": "4d0f8765",
   "metadata": {},
   "outputs": [
    {
     "data": {
      "text/plain": [
       "['Carrie Doyle’s It Takes Two to Mango treats readers to a tropical mystery full of twists and turns. When high-powered editor Plum Lockhart is suddenly terminated from her job at a luxury travel magazine, she spirals. She has no future employment prospects, her self-worth is at an all-time low\\xa0and the bitter New York City winters are certainly not helping. When an unexpected job as a villa broker at a resort comes her way, she packs her Prada and flies down to Paraiso, a small fictional island in the Caribbean that I dearly wish I could visit. Plum is used to the fast-paced city life and harsh deadlines, not Paraiso’s relaxed saunter. With humidity messing with her hair and an office rival messing with her bookings, she becomes desperate to regain control and score a win at work. So she rents her assigned villa, the dingy and dismal Casa Mango, to a bachelor party, despite her boss’s wishes. All seems to be going according to plan, and Plum’s ego is restored—until the best man turns up murdered. Frustrated with the shoddy police work and eager to solve the crime, Plum partners up with the resort’s dashing head of security and takes matters into her own hands. Together they navigate Paraiso’s multitude of mysteries while a possible romance between them blooms. The paradise of Paraiso is the perfect setting for a cozy mystery, and\\xa0the resort features an outrageously entertaining cast of colorful characters. In her trusty golf cart, Plum meets uber-wealthy villa renters, social media influencers, yoga die-hards and eccentric staffers. The heart of this story, however, is Plum’s own self-discovery as\\xa0she transitions from cruel and untethered to confident and kind. But she never loses that spark, that drive, that makes her who she is. It Takes Two to Mango is a fantastic start to a new series, and readers will be eager to return to Paraiso for Plum’s next adventure.']"
      ]
     },
     "execution_count": 187,
     "metadata": {},
     "output_type": "execute_result"
    }
   ],
   "source": [
    "review5"
   ]
  },
  {
   "cell_type": "code",
   "execution_count": null,
   "id": "bc2dad49",
   "metadata": {},
   "outputs": [],
   "source": [
    "book4=pd.DataFrame({})\n",
    "book4[\"Name\"]=name4\n",
    "book4[\"Author\"]=author4\n",
    "book4[\"Genre\"]=genre5\n",
    "book4[\"Review\"]=review5"
   ]
  },
  {
   "cell_type": "code",
   "execution_count": 188,
   "id": "38187d72",
   "metadata": {},
   "outputs": [
    {
     "data": {
      "text/html": [
       "<div>\n",
       "<style scoped>\n",
       "    .dataframe tbody tr th:only-of-type {\n",
       "        vertical-align: middle;\n",
       "    }\n",
       "\n",
       "    .dataframe tbody tr th {\n",
       "        vertical-align: top;\n",
       "    }\n",
       "\n",
       "    .dataframe thead th {\n",
       "        text-align: right;\n",
       "    }\n",
       "</style>\n",
       "<table border=\"1\" class=\"dataframe\">\n",
       "  <thead>\n",
       "    <tr style=\"text-align: right;\">\n",
       "      <th></th>\n",
       "      <th>Name</th>\n",
       "      <th>Author</th>\n",
       "      <th>Genre</th>\n",
       "      <th>Review</th>\n",
       "    </tr>\n",
       "  </thead>\n",
       "  <tbody>\n",
       "    <tr>\n",
       "      <th>0</th>\n",
       "      <td>It Takes Two to Mango</td>\n",
       "      <td>Carrie Doyle</td>\n",
       "      <td>Mystery &amp; Suspense  /  Mystery  /  Cozy Mystery</td>\n",
       "      <td>Carrie Doyle’s It Takes Two to Mango treats re...</td>\n",
       "    </tr>\n",
       "  </tbody>\n",
       "</table>\n",
       "</div>"
      ],
      "text/plain": [
       "                    Name        Author  \\\n",
       "0  It Takes Two to Mango  Carrie Doyle   \n",
       "\n",
       "                                             Genre  \\\n",
       "0  Mystery & Suspense  /  Mystery  /  Cozy Mystery   \n",
       "\n",
       "                                              Review  \n",
       "0  Carrie Doyle’s It Takes Two to Mango treats re...  "
      ]
     },
     "execution_count": 188,
     "metadata": {},
     "output_type": "execute_result"
    }
   ],
   "source": [
    "book4"
   ]
  },
  {
   "cell_type": "markdown",
   "id": "b88a764f",
   "metadata": {},
   "source": [
    "# BOOK:5"
   ]
  },
  {
   "cell_type": "code",
   "execution_count": null,
   "id": "1546ee13",
   "metadata": {},
   "outputs": [],
   "source": [
    "page5=requests.get(\"https://bookpage.com/reviews/26329-ragnar-jonasson-girl-who-died-mystery-suspense#.YU2WDrgzY2w\")\n",
    "page5"
   ]
  },
  {
   "cell_type": "code",
   "execution_count": null,
   "id": "ef224f48",
   "metadata": {},
   "outputs": [],
   "source": [
    "soup=BeautifulSoup(page5.content)\n",
    "soup"
   ]
  },
  {
   "cell_type": "code",
   "execution_count": null,
   "id": "2e12ed71",
   "metadata": {},
   "outputs": [],
   "source": [
    "print(soup.prettify())"
   ]
  },
  {
   "cell_type": "code",
   "execution_count": null,
   "id": "0f233494",
   "metadata": {},
   "outputs": [],
   "source": [
    "namej=soup.find_all(\"div\",class_=\"span5 book-data\")\n",
    "namej"
   ]
  },
  {
   "cell_type": "code",
   "execution_count": null,
   "id": "23c4b194",
   "metadata": {},
   "outputs": [],
   "source": [
    "name5=[]\n",
    "author5=[]\n",
    "for i in namej:\n",
    "    for j in i.find_all(\"h1\",class_=\"italic\"):\n",
    "        name5.append(j.text.strip().replace(\"\\n\",\" \"))\n",
    "        for k in i.find_all(\"h4\",class_=\"sans\"):\n",
    "            author5.append(k.text.strip().replace(\"\\n\",\" \"))"
   ]
  },
  {
   "cell_type": "code",
   "execution_count": 189,
   "id": "fa537c9d",
   "metadata": {},
   "outputs": [
    {
     "data": {
      "text/plain": [
       "['The Girl Who Died']"
      ]
     },
     "execution_count": 189,
     "metadata": {},
     "output_type": "execute_result"
    }
   ],
   "source": [
    "name5"
   ]
  },
  {
   "cell_type": "code",
   "execution_count": 190,
   "id": "141fcd42",
   "metadata": {},
   "outputs": [
    {
     "data": {
      "text/plain": [
       "['Ragnar Jónasson']"
      ]
     },
     "execution_count": 190,
     "metadata": {},
     "output_type": "execute_result"
    }
   ],
   "source": [
    "author5"
   ]
  },
  {
   "cell_type": "code",
   "execution_count": null,
   "id": "da4ed534",
   "metadata": {},
   "outputs": [],
   "source": [
    "genreo=soup.find_all(\"p\",class_=\"genre-links\")\n",
    "genreo"
   ]
  },
  {
   "cell_type": "code",
   "execution_count": 191,
   "id": "404f008f",
   "metadata": {},
   "outputs": [
    {
     "data": {
      "text/plain": [
       "['Mystery & Suspense  /  Mystery']"
      ]
     },
     "execution_count": 191,
     "metadata": {},
     "output_type": "execute_result"
    }
   ],
   "source": [
    "genre6=[]\n",
    "for i in genreo:\n",
    "    genre6.append(i.text.strip().replace(\"\\n\",\" \"))\n",
    "genre6"
   ]
  },
  {
   "cell_type": "code",
   "execution_count": null,
   "id": "20de714e",
   "metadata": {},
   "outputs": [],
   "source": [
    "reviewd=soup.find_all(\"div\",class_=\"article-body\")\n",
    "reviewd"
   ]
  },
  {
   "cell_type": "code",
   "execution_count": null,
   "id": "30e39f71",
   "metadata": {},
   "outputs": [],
   "source": [
    "review6=[]\n",
    "for i in reviewd:\n",
    "    review6.append(i.text.strip().replace(\"\\n\",\" \"))"
   ]
  },
  {
   "cell_type": "code",
   "execution_count": 192,
   "id": "4bfc97f5",
   "metadata": {},
   "outputs": [
    {
     "data": {
      "text/plain": [
       "['The advertisement is simple and honest: “Teacher wanted at the edge of the world.” And for Una, the main character of Ragnar Jonasson’s The Girl Who Died, it is the perfect enticement to leave her drab life behind and start a new chapter. The “edge of the world” is actually the isolated fishing village of Skálar, located on the northeastern tip of Iceland. But with her father recently passed away, no job and no love interest to keep her in the larger city of Reykjavík, a season away is just the thing Una needs for a complete reset. At first, the idyllic community of just 10 people, including two young girls whom Una is hired to tutor for the year, seems like something out of a storybook. It’s not long, however, before the remoteness of the community and the tight-lipped nature of its residents begin to weigh on her, forcing her to question if she’s made a serious mistake. When she begins to see a young girl’s visage in the residence where she’s staying and hears the ghost girl singing an old lullaby, things take on an even more ominous tone. The mystery of what exactly is going on in Skálar will hook Jonasson’s readers as much as it does Una, and the author expertly builds intrigue and suspense with each passing page. The sudden death of one of Una’s students during a Christmas musical and the disappearance of a mysterious stranger in town further complicates things. And when Una begins asking too many questions, the locals turn the tables and leave her to wonder if her alcoholism has her jumping at shadows. Known for his grittier Dark Iceland series of crime thrillers, Jonasson opts for a more moody, surreal tone in The Girl Who Died. While the novel, translated from Icelandic by Victoria Cribb, lacks his usual pileup of bodies and violence, the slow-building sense of dread and unease Jonasson creates more than compensates.']"
      ]
     },
     "execution_count": 192,
     "metadata": {},
     "output_type": "execute_result"
    }
   ],
   "source": [
    "review6"
   ]
  },
  {
   "cell_type": "code",
   "execution_count": null,
   "id": "2ae1aa17",
   "metadata": {},
   "outputs": [],
   "source": [
    "book5=pd.DataFrame({})\n",
    "book5[\"Name\"]=name5\n",
    "book5[\"Author\"]=author5\n",
    "book5[\"Genre\"]=genre6\n",
    "book5[\"Review\"]=review6"
   ]
  },
  {
   "cell_type": "code",
   "execution_count": 193,
   "id": "b38a020a",
   "metadata": {},
   "outputs": [
    {
     "data": {
      "text/html": [
       "<div>\n",
       "<style scoped>\n",
       "    .dataframe tbody tr th:only-of-type {\n",
       "        vertical-align: middle;\n",
       "    }\n",
       "\n",
       "    .dataframe tbody tr th {\n",
       "        vertical-align: top;\n",
       "    }\n",
       "\n",
       "    .dataframe thead th {\n",
       "        text-align: right;\n",
       "    }\n",
       "</style>\n",
       "<table border=\"1\" class=\"dataframe\">\n",
       "  <thead>\n",
       "    <tr style=\"text-align: right;\">\n",
       "      <th></th>\n",
       "      <th>Name</th>\n",
       "      <th>Author</th>\n",
       "      <th>Genre</th>\n",
       "      <th>Review</th>\n",
       "    </tr>\n",
       "  </thead>\n",
       "  <tbody>\n",
       "    <tr>\n",
       "      <th>0</th>\n",
       "      <td>The Girl Who Died</td>\n",
       "      <td>Ragnar Jónasson</td>\n",
       "      <td>Mystery &amp; Suspense  /  Mystery</td>\n",
       "      <td>The advertisement is simple and honest: “Teach...</td>\n",
       "    </tr>\n",
       "  </tbody>\n",
       "</table>\n",
       "</div>"
      ],
      "text/plain": [
       "                Name           Author                           Genre  \\\n",
       "0  The Girl Who Died  Ragnar Jónasson  Mystery & Suspense  /  Mystery   \n",
       "\n",
       "                                              Review  \n",
       "0  The advertisement is simple and honest: “Teach...  "
      ]
     },
     "execution_count": 193,
     "metadata": {},
     "output_type": "execute_result"
    }
   ],
   "source": [
    "book5"
   ]
  },
  {
   "cell_type": "code",
   "execution_count": null,
   "id": "443d4ab8",
   "metadata": {},
   "outputs": [],
   "source": [
    "frames=[book1,book2,book3,book4,book5]"
   ]
  },
  {
   "cell_type": "code",
   "execution_count": null,
   "id": "8f52da5b",
   "metadata": {},
   "outputs": [],
   "source": [
    "result=pd.concat(frames)"
   ]
  },
  {
   "cell_type": "code",
   "execution_count": 194,
   "id": "a3e94ec2",
   "metadata": {},
   "outputs": [
    {
     "data": {
      "text/html": [
       "<div>\n",
       "<style scoped>\n",
       "    .dataframe tbody tr th:only-of-type {\n",
       "        vertical-align: middle;\n",
       "    }\n",
       "\n",
       "    .dataframe tbody tr th {\n",
       "        vertical-align: top;\n",
       "    }\n",
       "\n",
       "    .dataframe thead th {\n",
       "        text-align: right;\n",
       "    }\n",
       "</style>\n",
       "<table border=\"1\" class=\"dataframe\">\n",
       "  <thead>\n",
       "    <tr style=\"text-align: right;\">\n",
       "      <th></th>\n",
       "      <th>Name</th>\n",
       "      <th>Author</th>\n",
       "      <th>Genre</th>\n",
       "      <th>Review</th>\n",
       "    </tr>\n",
       "  </thead>\n",
       "  <tbody>\n",
       "    <tr>\n",
       "      <th>0</th>\n",
       "      <td>Daughter of the Morning Star</td>\n",
       "      <td>Craig Johnson</td>\n",
       "      <td>Mystery &amp; Suspense</td>\n",
       "      <td>Daughter of the Morning Star, the 17th book in...</td>\n",
       "    </tr>\n",
       "    <tr>\n",
       "      <th>0</th>\n",
       "      <td>Gone for Good</td>\n",
       "      <td>Joanna Schaffhausen</td>\n",
       "      <td>Mystery &amp; Suspense / Mystery</td>\n",
       "      <td>Annalisa Vega probably shouldn’t be investigat...</td>\n",
       "    </tr>\n",
       "    <tr>\n",
       "      <th>0</th>\n",
       "      <td>★ Clark and Division</td>\n",
       "      <td>Naomi Hirahara</td>\n",
       "      <td>Mystery &amp; Suspense  /  Mystery  /  Historical ...</td>\n",
       "      <td>Set amid the incarceration and subsequent disp...</td>\n",
       "    </tr>\n",
       "    <tr>\n",
       "      <th>0</th>\n",
       "      <td>It Takes Two to Mango</td>\n",
       "      <td>Carrie Doyle</td>\n",
       "      <td>Mystery &amp; Suspense  /  Mystery  /  Cozy Mystery</td>\n",
       "      <td>Carrie Doyle’s It Takes Two to Mango treats re...</td>\n",
       "    </tr>\n",
       "    <tr>\n",
       "      <th>0</th>\n",
       "      <td>The Girl Who Died</td>\n",
       "      <td>Ragnar Jónasson</td>\n",
       "      <td>Mystery &amp; Suspense  /  Mystery</td>\n",
       "      <td>The advertisement is simple and honest: “Teach...</td>\n",
       "    </tr>\n",
       "  </tbody>\n",
       "</table>\n",
       "</div>"
      ],
      "text/plain": [
       "                           Name               Author  \\\n",
       "0  Daughter of the Morning Star        Craig Johnson   \n",
       "0                 Gone for Good  Joanna Schaffhausen   \n",
       "0          ★ Clark and Division       Naomi Hirahara   \n",
       "0         It Takes Two to Mango         Carrie Doyle   \n",
       "0             The Girl Who Died      Ragnar Jónasson   \n",
       "\n",
       "                                               Genre  \\\n",
       "0                                 Mystery & Suspense   \n",
       "0                       Mystery & Suspense / Mystery   \n",
       "0  Mystery & Suspense  /  Mystery  /  Historical ...   \n",
       "0    Mystery & Suspense  /  Mystery  /  Cozy Mystery   \n",
       "0                     Mystery & Suspense  /  Mystery   \n",
       "\n",
       "                                              Review  \n",
       "0  Daughter of the Morning Star, the 17th book in...  \n",
       "0  Annalisa Vega probably shouldn’t be investigat...  \n",
       "0  Set amid the incarceration and subsequent disp...  \n",
       "0  Carrie Doyle’s It Takes Two to Mango treats re...  \n",
       "0  The advertisement is simple and honest: “Teach...  "
      ]
     },
     "execution_count": 194,
     "metadata": {},
     "output_type": "execute_result"
    }
   ],
   "source": [
    "result"
   ]
  },
  {
   "cell_type": "code",
   "execution_count": null,
   "id": "6bdb7f71",
   "metadata": {},
   "outputs": [],
   "source": []
  }
 ],
 "metadata": {
  "kernelspec": {
   "display_name": "Python 3",
   "language": "python",
   "name": "python3"
  },
  "language_info": {
   "codemirror_mode": {
    "name": "ipython",
    "version": 3
   },
   "file_extension": ".py",
   "mimetype": "text/x-python",
   "name": "python",
   "nbconvert_exporter": "python",
   "pygments_lexer": "ipython3",
   "version": "3.8.8"
  }
 },
 "nbformat": 4,
 "nbformat_minor": 5
}
