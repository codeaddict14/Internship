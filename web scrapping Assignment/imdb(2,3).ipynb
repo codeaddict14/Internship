{
 "cells": [
  {
   "cell_type": "markdown",
   "id": "450a23be",
   "metadata": {},
   "source": [
    "### Write a python program to display IMDB’s Top rated 100 movies’ data (i.e. Name,rating, Year)."
   ]
  },
  {
   "cell_type": "code",
   "execution_count": null,
   "id": "728017a1",
   "metadata": {},
   "outputs": [],
   "source": [
    "from bs4 import BeautifulSoup"
   ]
  },
  {
   "cell_type": "code",
   "execution_count": null,
   "id": "34254a12",
   "metadata": {},
   "outputs": [],
   "source": [
    "import requests"
   ]
  },
  {
   "cell_type": "code",
   "execution_count": null,
   "id": "4caa02c9",
   "metadata": {},
   "outputs": [],
   "source": [
    "page=requests.get(\"https://www.imdb.com/chart/top/\")"
   ]
  },
  {
   "cell_type": "code",
   "execution_count": null,
   "id": "f2c9fe86",
   "metadata": {},
   "outputs": [],
   "source": [
    "page"
   ]
  },
  {
   "cell_type": "code",
   "execution_count": null,
   "id": "b5245b87",
   "metadata": {},
   "outputs": [],
   "source": [
    "page.content"
   ]
  },
  {
   "cell_type": "code",
   "execution_count": null,
   "id": "0301f003",
   "metadata": {},
   "outputs": [],
   "source": [
    "soup=BeautifulSoup(page.content)"
   ]
  },
  {
   "cell_type": "code",
   "execution_count": null,
   "id": "951cd4fc",
   "metadata": {},
   "outputs": [],
   "source": [
    "soup"
   ]
  },
  {
   "cell_type": "code",
   "execution_count": null,
   "id": "535e1ab1",
   "metadata": {},
   "outputs": [],
   "source": [
    "print(soup.prettify())"
   ]
  },
  {
   "cell_type": "code",
   "execution_count": null,
   "id": "52bce125",
   "metadata": {},
   "outputs": [],
   "source": [
    "rating=soup.find_all('td',class_=\"ratingColumn imdbRating\")\n",
    "rating"
   ]
  },
  {
   "cell_type": "code",
   "execution_count": null,
   "id": "839d2013",
   "metadata": {},
   "outputs": [],
   "source": [
    "ratings=[]\n",
    "for i in rating:\n",
    "        ratings.append(i.text.replace(\"\\n\",\" \"))\n",
    "        \n",
    "ratings"
   ]
  },
  {
   "cell_type": "code",
   "execution_count": null,
   "id": "00c551b2",
   "metadata": {},
   "outputs": [],
   "source": [
    "ratings=ratings[0:100]"
   ]
  },
  {
   "cell_type": "code",
   "execution_count": null,
   "id": "2869cb5d",
   "metadata": {},
   "outputs": [],
   "source": [
    "len(ratings)"
   ]
  },
  {
   "cell_type": "code",
   "execution_count": null,
   "id": "ec1da96d",
   "metadata": {},
   "outputs": [],
   "source": [
    "year=soup.find_all('span',class_=\"secondaryInfo\")\n",
    "year"
   ]
  },
  {
   "cell_type": "code",
   "execution_count": null,
   "id": "1282d5d8",
   "metadata": {},
   "outputs": [],
   "source": [
    "years=[]\n",
    "for i in year:\n",
    "    years.append(i.text)\n",
    "years"
   ]
  },
  {
   "cell_type": "code",
   "execution_count": null,
   "id": "312df101",
   "metadata": {},
   "outputs": [],
   "source": [
    "years=years[0:100]"
   ]
  },
  {
   "cell_type": "code",
   "execution_count": null,
   "id": "1b1f84ca",
   "metadata": {},
   "outputs": [],
   "source": [
    "len(years)"
   ]
  },
  {
   "cell_type": "code",
   "execution_count": null,
   "id": "cdd81793",
   "metadata": {},
   "outputs": [],
   "source": [
    "head=soup.find_all('td',class_=\"titleColumn\")\n",
    "head"
   ]
  },
  {
   "cell_type": "code",
   "execution_count": null,
   "id": "1e66a91b",
   "metadata": {},
   "outputs": [],
   "source": [
    "heads=[]\n",
    "for i in head:\n",
    "    for j in i.find_all(\"a\"):\n",
    "        heads.append(j.text)"
   ]
  },
  {
   "cell_type": "code",
   "execution_count": null,
   "id": "26d8e29b",
   "metadata": {},
   "outputs": [],
   "source": [
    "heads"
   ]
  },
  {
   "cell_type": "code",
   "execution_count": null,
   "id": "c56dcf4c",
   "metadata": {},
   "outputs": [],
   "source": [
    "heads=heads[0:100]"
   ]
  },
  {
   "cell_type": "code",
   "execution_count": null,
   "id": "d5f1eb63",
   "metadata": {},
   "outputs": [],
   "source": [
    "len(heads)"
   ]
  },
  {
   "cell_type": "code",
   "execution_count": null,
   "id": "e80864f1",
   "metadata": {},
   "outputs": [],
   "source": [
    "import pandas as pd\n",
    "job=pd.DataFrame({})\n",
    "job[\"Name\"]=heads\n",
    "job[\"IMDB_rating\"]=ratings\n",
    "job[\"Year of Release\"]=years"
   ]
  },
  {
   "cell_type": "code",
   "execution_count": 84,
   "id": "dc48a50c",
   "metadata": {},
   "outputs": [
    {
     "data": {
      "text/html": [
       "<div>\n",
       "<style scoped>\n",
       "    .dataframe tbody tr th:only-of-type {\n",
       "        vertical-align: middle;\n",
       "    }\n",
       "\n",
       "    .dataframe tbody tr th {\n",
       "        vertical-align: top;\n",
       "    }\n",
       "\n",
       "    .dataframe thead th {\n",
       "        text-align: right;\n",
       "    }\n",
       "</style>\n",
       "<table border=\"1\" class=\"dataframe\">\n",
       "  <thead>\n",
       "    <tr style=\"text-align: right;\">\n",
       "      <th></th>\n",
       "      <th>Name</th>\n",
       "      <th>IMDB_rating</th>\n",
       "      <th>Year of Release</th>\n",
       "    </tr>\n",
       "  </thead>\n",
       "  <tbody>\n",
       "    <tr>\n",
       "      <th>0</th>\n",
       "      <td>The Shawshank Redemption</td>\n",
       "      <td>9.2</td>\n",
       "      <td>(1994)</td>\n",
       "    </tr>\n",
       "    <tr>\n",
       "      <th>1</th>\n",
       "      <td>The Godfather</td>\n",
       "      <td>9.1</td>\n",
       "      <td>(1972)</td>\n",
       "    </tr>\n",
       "    <tr>\n",
       "      <th>2</th>\n",
       "      <td>The Godfather: Part II</td>\n",
       "      <td>9.0</td>\n",
       "      <td>(1974)</td>\n",
       "    </tr>\n",
       "    <tr>\n",
       "      <th>3</th>\n",
       "      <td>The Dark Knight</td>\n",
       "      <td>9.0</td>\n",
       "      <td>(2008)</td>\n",
       "    </tr>\n",
       "    <tr>\n",
       "      <th>4</th>\n",
       "      <td>12 Angry Men</td>\n",
       "      <td>8.9</td>\n",
       "      <td>(1957)</td>\n",
       "    </tr>\n",
       "    <tr>\n",
       "      <th>...</th>\n",
       "      <td>...</td>\n",
       "      <td>...</td>\n",
       "      <td>...</td>\n",
       "    </tr>\n",
       "    <tr>\n",
       "      <th>95</th>\n",
       "      <td>Dune</td>\n",
       "      <td>8.3</td>\n",
       "      <td>(2021)</td>\n",
       "    </tr>\n",
       "    <tr>\n",
       "      <th>96</th>\n",
       "      <td>Requiem for a Dream</td>\n",
       "      <td>8.3</td>\n",
       "      <td>(2000)</td>\n",
       "    </tr>\n",
       "    <tr>\n",
       "      <th>97</th>\n",
       "      <td>Singin' in the Rain</td>\n",
       "      <td>8.3</td>\n",
       "      <td>(1952)</td>\n",
       "    </tr>\n",
       "    <tr>\n",
       "      <th>98</th>\n",
       "      <td>North by Northwest</td>\n",
       "      <td>8.3</td>\n",
       "      <td>(1959)</td>\n",
       "    </tr>\n",
       "    <tr>\n",
       "      <th>99</th>\n",
       "      <td>Pather Panchali</td>\n",
       "      <td>8.3</td>\n",
       "      <td>(1955)</td>\n",
       "    </tr>\n",
       "  </tbody>\n",
       "</table>\n",
       "<p>100 rows × 3 columns</p>\n",
       "</div>"
      ],
      "text/plain": [
       "                        Name IMDB_rating Year of Release\n",
       "0   The Shawshank Redemption        9.2           (1994)\n",
       "1              The Godfather        9.1           (1972)\n",
       "2     The Godfather: Part II        9.0           (1974)\n",
       "3            The Dark Knight        9.0           (2008)\n",
       "4               12 Angry Men        8.9           (1957)\n",
       "..                       ...         ...             ...\n",
       "95                      Dune        8.3           (2021)\n",
       "96       Requiem for a Dream        8.3           (2000)\n",
       "97       Singin' in the Rain        8.3           (1952)\n",
       "98        North by Northwest        8.3           (1959)\n",
       "99           Pather Panchali        8.3           (1955)\n",
       "\n",
       "[100 rows x 3 columns]"
      ]
     },
     "execution_count": 84,
     "metadata": {},
     "output_type": "execute_result"
    }
   ],
   "source": [
    "job"
   ]
  },
  {
   "cell_type": "markdown",
   "id": "2db8d1a3",
   "metadata": {},
   "source": [
    "### Write a python program to display IMDB’s Top rated 100 Indian movies’ data (i.e. Name,rating,Year)."
   ]
  },
  {
   "cell_type": "code",
   "execution_count": null,
   "id": "4d62bdce",
   "metadata": {},
   "outputs": [],
   "source": [
    "page=requests.get(\"https://www.imdb.com/india/top-rated-indian-movies/\")"
   ]
  },
  {
   "cell_type": "code",
   "execution_count": null,
   "id": "e3cada6e",
   "metadata": {},
   "outputs": [],
   "source": [
    "page"
   ]
  },
  {
   "cell_type": "code",
   "execution_count": null,
   "id": "68f72e89",
   "metadata": {},
   "outputs": [],
   "source": [
    "page.content"
   ]
  },
  {
   "cell_type": "code",
   "execution_count": null,
   "id": "98b43cb7",
   "metadata": {},
   "outputs": [],
   "source": [
    "soup=BeautifulSoup(page.content)\n",
    "soup"
   ]
  },
  {
   "cell_type": "code",
   "execution_count": null,
   "id": "f4b87554",
   "metadata": {},
   "outputs": [],
   "source": [
    "print(soup.prettify())"
   ]
  },
  {
   "cell_type": "code",
   "execution_count": null,
   "id": "2ddab197",
   "metadata": {},
   "outputs": [],
   "source": [
    "rate=soup.find_all('td',class_=\"ratingColumn imdbRating\")\n",
    "rate"
   ]
  },
  {
   "cell_type": "code",
   "execution_count": null,
   "id": "87f2232f",
   "metadata": {},
   "outputs": [],
   "source": [
    "rates=[]\n",
    "for i in rate:\n",
    "    rates.append(i.text.replace(\"\\n\",\" \"))\n",
    "rates"
   ]
  },
  {
   "cell_type": "code",
   "execution_count": null,
   "id": "fc5859bc",
   "metadata": {},
   "outputs": [],
   "source": [
    "rates=rates[0:100]\n",
    "len(rates)"
   ]
  },
  {
   "cell_type": "code",
   "execution_count": null,
   "id": "033cfdfd",
   "metadata": {},
   "outputs": [],
   "source": [
    "yearn=soup.find_all('span',class_=\"secondaryInfo\")\n",
    "yearn"
   ]
  },
  {
   "cell_type": "code",
   "execution_count": null,
   "id": "b3a106cf",
   "metadata": {},
   "outputs": [],
   "source": [
    "yearns=[]\n",
    "for i in yearn:\n",
    "    yearns.append(i.text)\n",
    "yearns"
   ]
  },
  {
   "cell_type": "code",
   "execution_count": null,
   "id": "18ffd509",
   "metadata": {},
   "outputs": [],
   "source": [
    "yearns=yearns[0:100]\n",
    "len(yearns)"
   ]
  },
  {
   "cell_type": "code",
   "execution_count": null,
   "id": "87873447",
   "metadata": {},
   "outputs": [],
   "source": [
    "name=soup.find_all('td',class_=\"titleColumn\")\n",
    "name"
   ]
  },
  {
   "cell_type": "code",
   "execution_count": null,
   "id": "8b56b961",
   "metadata": {},
   "outputs": [],
   "source": [
    "names=[]\n",
    "for i in name:\n",
    "    for j in i.find_all(\"a\"):\n",
    "        names.append(j.text)\n",
    "names"
   ]
  },
  {
   "cell_type": "code",
   "execution_count": null,
   "id": "5244341f",
   "metadata": {},
   "outputs": [],
   "source": [
    "names=names[0:100]\n",
    "len(names)"
   ]
  },
  {
   "cell_type": "code",
   "execution_count": null,
   "id": "c3f20c9d",
   "metadata": {},
   "outputs": [],
   "source": [
    "newjob=pd.DataFrame({})\n",
    "newjob[\"Name\"]=names\n",
    "newjob[\"year\"]=yearns\n",
    "newjob[\"Rating\"]=rates"
   ]
  },
  {
   "cell_type": "code",
   "execution_count": 85,
   "id": "bb0f2e32",
   "metadata": {},
   "outputs": [
    {
     "data": {
      "text/html": [
       "<div>\n",
       "<style scoped>\n",
       "    .dataframe tbody tr th:only-of-type {\n",
       "        vertical-align: middle;\n",
       "    }\n",
       "\n",
       "    .dataframe tbody tr th {\n",
       "        vertical-align: top;\n",
       "    }\n",
       "\n",
       "    .dataframe thead th {\n",
       "        text-align: right;\n",
       "    }\n",
       "</style>\n",
       "<table border=\"1\" class=\"dataframe\">\n",
       "  <thead>\n",
       "    <tr style=\"text-align: right;\">\n",
       "      <th></th>\n",
       "      <th>Name</th>\n",
       "      <th>year</th>\n",
       "      <th>Rating</th>\n",
       "    </tr>\n",
       "  </thead>\n",
       "  <tbody>\n",
       "    <tr>\n",
       "      <th>0</th>\n",
       "      <td>Nayakan</td>\n",
       "      <td>(1987)</td>\n",
       "      <td>8.5</td>\n",
       "    </tr>\n",
       "    <tr>\n",
       "      <th>1</th>\n",
       "      <td>Anbe Sivam</td>\n",
       "      <td>(2003)</td>\n",
       "      <td>8.5</td>\n",
       "    </tr>\n",
       "    <tr>\n",
       "      <th>2</th>\n",
       "      <td>Pariyerum Perumal</td>\n",
       "      <td>(2018)</td>\n",
       "      <td>8.5</td>\n",
       "    </tr>\n",
       "    <tr>\n",
       "      <th>3</th>\n",
       "      <td>C/o Kancharapalem</td>\n",
       "      <td>(2018)</td>\n",
       "      <td>8.5</td>\n",
       "    </tr>\n",
       "    <tr>\n",
       "      <th>4</th>\n",
       "      <td>Golmaal</td>\n",
       "      <td>(1979)</td>\n",
       "      <td>8.5</td>\n",
       "    </tr>\n",
       "    <tr>\n",
       "      <th>...</th>\n",
       "      <td>...</td>\n",
       "      <td>...</td>\n",
       "      <td>...</td>\n",
       "    </tr>\n",
       "    <tr>\n",
       "      <th>95</th>\n",
       "      <td>Rang De Basanti</td>\n",
       "      <td>(2006)</td>\n",
       "      <td>8.1</td>\n",
       "    </tr>\n",
       "    <tr>\n",
       "      <th>96</th>\n",
       "      <td>OMG: Oh My God!</td>\n",
       "      <td>(2012)</td>\n",
       "      <td>8.1</td>\n",
       "    </tr>\n",
       "    <tr>\n",
       "      <th>97</th>\n",
       "      <td>Roja</td>\n",
       "      <td>(1992)</td>\n",
       "      <td>8.1</td>\n",
       "    </tr>\n",
       "    <tr>\n",
       "      <th>98</th>\n",
       "      <td>Uri: The Surgical Strike</td>\n",
       "      <td>(2019)</td>\n",
       "      <td>8.1</td>\n",
       "    </tr>\n",
       "    <tr>\n",
       "      <th>99</th>\n",
       "      <td>Lagaan: Once Upon a Time in India</td>\n",
       "      <td>(2001)</td>\n",
       "      <td>8.1</td>\n",
       "    </tr>\n",
       "  </tbody>\n",
       "</table>\n",
       "<p>100 rows × 3 columns</p>\n",
       "</div>"
      ],
      "text/plain": [
       "                                 Name    year Rating\n",
       "0                             Nayakan  (1987)   8.5 \n",
       "1                          Anbe Sivam  (2003)   8.5 \n",
       "2                   Pariyerum Perumal  (2018)   8.5 \n",
       "3                   C/o Kancharapalem  (2018)   8.5 \n",
       "4                             Golmaal  (1979)   8.5 \n",
       "..                                ...     ...    ...\n",
       "95                    Rang De Basanti  (2006)   8.1 \n",
       "96                    OMG: Oh My God!  (2012)   8.1 \n",
       "97                               Roja  (1992)   8.1 \n",
       "98           Uri: The Surgical Strike  (2019)   8.1 \n",
       "99  Lagaan: Once Upon a Time in India  (2001)   8.1 \n",
       "\n",
       "[100 rows x 3 columns]"
      ]
     },
     "execution_count": 85,
     "metadata": {},
     "output_type": "execute_result"
    }
   ],
   "source": [
    "newjob"
   ]
  },
  {
   "cell_type": "code",
   "execution_count": null,
   "id": "f4a75cd4",
   "metadata": {},
   "outputs": [],
   "source": [
    "newjob.shape"
   ]
  }
 ],
 "metadata": {
  "kernelspec": {
   "display_name": "Python 3",
   "language": "python",
   "name": "python3"
  },
  "language_info": {
   "codemirror_mode": {
    "name": "ipython",
    "version": 3
   },
   "file_extension": ".py",
   "mimetype": "text/x-python",
   "name": "python",
   "nbconvert_exporter": "python",
   "pygments_lexer": "ipython3",
   "version": "3.8.8"
  }
 },
 "nbformat": 4,
 "nbformat_minor": 5
}
