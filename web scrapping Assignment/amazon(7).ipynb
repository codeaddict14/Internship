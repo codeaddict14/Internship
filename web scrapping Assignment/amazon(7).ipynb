{
 "cells": [
  {
   "cell_type": "markdown",
   "id": "8a16947a",
   "metadata": {},
   "source": [
    "### Write a python program to scrape details of all the mobile phones under Rs. 20,000 listed on Amazon.in. \n",
    "The scraped data should include Product Name, Price, Image URL and Average Rating"
   ]
  },
  {
   "cell_type": "code",
   "execution_count": 78,
   "id": "e457f882",
   "metadata": {},
   "outputs": [],
   "source": [
    "import bs4\n",
    "import requests \n",
    "from bs4 import BeautifulSoup"
   ]
  },
  {
   "cell_type": "code",
   "execution_count": 79,
   "id": "4aff99f4",
   "metadata": {},
   "outputs": [],
   "source": [
    "page=requests.get(\"https://www.amazon.in/s?k=mobiles+under+20000rs&crid=1HC4EX67HNKEK&sprefix=mobiles+under+20000%2Caps%2C356&ref=nb_sb_ss_ts-doa-p_1_19\")"
   ]
  },
  {
   "cell_type": "code",
   "execution_count": 80,
   "id": "66dec028",
   "metadata": {},
   "outputs": [
    {
     "data": {
      "text/plain": [
       "<Response [503]>"
      ]
     },
     "execution_count": 80,
     "metadata": {},
     "output_type": "execute_result"
    }
   ],
   "source": [
    "page"
   ]
  },
  {
   "cell_type": "code",
   "execution_count": null,
   "id": "1cd28587",
   "metadata": {},
   "outputs": [],
   "source": [
    "### user agent switching to change the response"
   ]
  },
  {
   "cell_type": "code",
   "execution_count": 81,
   "id": "c33c8d93",
   "metadata": {},
   "outputs": [],
   "source": [
    "header={\"User-Agent\":\"Mozilla/5.0 (Windows NT 10.0; Win64; x64) AppleWebKit/537.36 (KHTML, like Gecko) Chrome/93.0.4577.82 Safari/537.36\"}"
   ]
  },
  {
   "cell_type": "code",
   "execution_count": 82,
   "id": "150f91f9",
   "metadata": {},
   "outputs": [],
   "source": [
    "page=requests.get(\"https://www.amazon.in/s?k=mobiles+under+20000rs&crid=1HC4EX67HNKEK&sprefix=mobiles+under+20000%2Caps%2C356&ref=nb_sb_ss_ts-doa-p_1_19\",headers=header)"
   ]
  },
  {
   "cell_type": "code",
   "execution_count": 83,
   "id": "bd9e5aab",
   "metadata": {},
   "outputs": [
    {
     "data": {
      "text/plain": [
       "<Response [200]>"
      ]
     },
     "execution_count": 83,
     "metadata": {},
     "output_type": "execute_result"
    }
   ],
   "source": [
    "page"
   ]
  },
  {
   "cell_type": "code",
   "execution_count": null,
   "id": "cbf1a65f",
   "metadata": {},
   "outputs": [],
   "source": [
    "page.content"
   ]
  },
  {
   "cell_type": "code",
   "execution_count": null,
   "id": "89566471",
   "metadata": {},
   "outputs": [],
   "source": [
    "soup=BeautifulSoup(page.content)"
   ]
  },
  {
   "cell_type": "code",
   "execution_count": null,
   "id": "dc1e13a0",
   "metadata": {},
   "outputs": [],
   "source": [
    "soup"
   ]
  },
  {
   "cell_type": "code",
   "execution_count": null,
   "id": "41acf019",
   "metadata": {},
   "outputs": [],
   "source": [
    "print(soup.prettify())"
   ]
  },
  {
   "cell_type": "code",
   "execution_count": null,
   "id": "79caf5f2",
   "metadata": {},
   "outputs": [],
   "source": [
    "name=soup.find_all(\"span\",class_=\"a-size-medium a-color-base a-text-normal\")\n",
    "name"
   ]
  },
  {
   "cell_type": "code",
   "execution_count": null,
   "id": "5a6b7916",
   "metadata": {},
   "outputs": [],
   "source": [
    "names=[]\n",
    "for i in name:\n",
    "    names.append(i.text)"
   ]
  },
  {
   "cell_type": "code",
   "execution_count": null,
   "id": "596f96e5",
   "metadata": {},
   "outputs": [],
   "source": [
    "names"
   ]
  },
  {
   "cell_type": "code",
   "execution_count": null,
   "id": "5e4a87f6",
   "metadata": {},
   "outputs": [],
   "source": [
    "len(names)"
   ]
  },
  {
   "cell_type": "code",
   "execution_count": null,
   "id": "d51d77fd",
   "metadata": {},
   "outputs": [],
   "source": [
    "price=soup.find_all(\"span\",class_=\"a-price-whole\")\n",
    "price"
   ]
  },
  {
   "cell_type": "code",
   "execution_count": null,
   "id": "71de5878",
   "metadata": {},
   "outputs": [],
   "source": [
    "prices=[]\n",
    "for i in price:\n",
    "    prices.append(i.text)"
   ]
  },
  {
   "cell_type": "code",
   "execution_count": null,
   "id": "deb080a3",
   "metadata": {},
   "outputs": [],
   "source": [
    "prices"
   ]
  },
  {
   "cell_type": "code",
   "execution_count": null,
   "id": "45348f95",
   "metadata": {},
   "outputs": [],
   "source": [
    "prices=prices[3:]"
   ]
  },
  {
   "cell_type": "code",
   "execution_count": null,
   "id": "ada8f572",
   "metadata": {},
   "outputs": [],
   "source": [
    "len(prices)"
   ]
  },
  {
   "cell_type": "code",
   "execution_count": null,
   "id": "433eae32",
   "metadata": {},
   "outputs": [],
   "source": [
    "avgrat=soup.find_all(\"span\",class_=\"a-icon-alt\")\n",
    "avgrat"
   ]
  },
  {
   "cell_type": "code",
   "execution_count": null,
   "id": "5f22620d",
   "metadata": {},
   "outputs": [],
   "source": [
    "rating=[]\n",
    "for i in avgrat:\n",
    "    rating.append(i.text)"
   ]
  },
  {
   "cell_type": "code",
   "execution_count": null,
   "id": "54598768",
   "metadata": {},
   "outputs": [],
   "source": [
    "rating"
   ]
  },
  {
   "cell_type": "code",
   "execution_count": null,
   "id": "386ad7e8",
   "metadata": {},
   "outputs": [],
   "source": [
    "len(rating)"
   ]
  },
  {
   "cell_type": "code",
   "execution_count": null,
   "id": "5c25fa11",
   "metadata": {},
   "outputs": [],
   "source": [
    "rating=rating[0:19]"
   ]
  },
  {
   "cell_type": "code",
   "execution_count": null,
   "id": "4bef47cb",
   "metadata": {},
   "outputs": [],
   "source": [
    "len(rating)"
   ]
  },
  {
   "cell_type": "code",
   "execution_count": null,
   "id": "c5d97c46",
   "metadata": {},
   "outputs": [],
   "source": [
    "url=soup.find_all(\"div\",class_=\"a-section aok-relative s-image-fixed-height\")\n",
    "url"
   ]
  },
  {
   "cell_type": "code",
   "execution_count": null,
   "id": "ae38f63b",
   "metadata": {},
   "outputs": [],
   "source": [
    "urls=[]\n",
    "for i in url:\n",
    "    for j in i.find_all(\"img\",src=True):\n",
    "        urls.append(j[\"src\"])"
   ]
  },
  {
   "cell_type": "code",
   "execution_count": null,
   "id": "67be7eaf",
   "metadata": {},
   "outputs": [],
   "source": [
    "urls"
   ]
  },
  {
   "cell_type": "code",
   "execution_count": null,
   "id": "10143ef8",
   "metadata": {},
   "outputs": [],
   "source": [
    "len(urls)"
   ]
  },
  {
   "cell_type": "code",
   "execution_count": null,
   "id": "523da45d",
   "metadata": {},
   "outputs": [],
   "source": [
    "import pandas as pd\n",
    "job=pd.DataFrame({})\n",
    "job[\"Product Name\"]=names\n",
    "job[\"Price\"]=prices\n",
    "job[\"Image url\"]=urls\n",
    "job[\"Rating\"]=rating"
   ]
  },
  {
   "cell_type": "code",
   "execution_count": 84,
   "id": "00a76c65",
   "metadata": {},
   "outputs": [
    {
     "data": {
      "text/html": [
       "<div>\n",
       "<style scoped>\n",
       "    .dataframe tbody tr th:only-of-type {\n",
       "        vertical-align: middle;\n",
       "    }\n",
       "\n",
       "    .dataframe tbody tr th {\n",
       "        vertical-align: top;\n",
       "    }\n",
       "\n",
       "    .dataframe thead th {\n",
       "        text-align: right;\n",
       "    }\n",
       "</style>\n",
       "<table border=\"1\" class=\"dataframe\">\n",
       "  <thead>\n",
       "    <tr style=\"text-align: right;\">\n",
       "      <th></th>\n",
       "      <th>Product Name</th>\n",
       "      <th>Price</th>\n",
       "      <th>Image url</th>\n",
       "      <th>Rating</th>\n",
       "    </tr>\n",
       "  </thead>\n",
       "  <tbody>\n",
       "    <tr>\n",
       "      <th>0</th>\n",
       "      <td>iQOO Z3 5G (Ace Black, 6GB RAM, 128GB Storage)...</td>\n",
       "      <td>19,990</td>\n",
       "      <td>https://m.media-amazon.com/images/I/61uIgwiP90...</td>\n",
       "      <td>4.3 out of 5 stars</td>\n",
       "    </tr>\n",
       "    <tr>\n",
       "      <th>1</th>\n",
       "      <td>Redmi 9A (Nature Green, 2GB RAM, 32GB Storage)...</td>\n",
       "      <td>6,999</td>\n",
       "      <td>https://m.media-amazon.com/images/I/71sxlhYhKW...</td>\n",
       "      <td>4.2 out of 5 stars</td>\n",
       "    </tr>\n",
       "    <tr>\n",
       "      <th>2</th>\n",
       "      <td>Redmi 9 Power (Mighty Black, 6GB RAM, 128GB St...</td>\n",
       "      <td>13,499</td>\n",
       "      <td>https://m.media-amazon.com/images/I/61LHaUOheh...</td>\n",
       "      <td>4.2 out of 5 stars</td>\n",
       "    </tr>\n",
       "    <tr>\n",
       "      <th>3</th>\n",
       "      <td>Redmi 9 (Sky Blue, 4GB RAM, 64GB Storage) | 2....</td>\n",
       "      <td>9,499</td>\n",
       "      <td>https://m.media-amazon.com/images/I/71A9Vo1Bat...</td>\n",
       "      <td>4.2 out of 5 stars</td>\n",
       "    </tr>\n",
       "    <tr>\n",
       "      <th>4</th>\n",
       "      <td>Samsung Galaxy M31 (Ocean Blue, 8GB RAM, 128GB...</td>\n",
       "      <td>16,999</td>\n",
       "      <td>https://m.media-amazon.com/images/I/71-Su4Wr0H...</td>\n",
       "      <td>4.2 out of 5 stars</td>\n",
       "    </tr>\n",
       "    <tr>\n",
       "      <th>5</th>\n",
       "      <td>OPPO A74 5G (Fantastic Purple,6GB RAM,128GB St...</td>\n",
       "      <td>17,990</td>\n",
       "      <td>https://m.media-amazon.com/images/I/71geVdy6-O...</td>\n",
       "      <td>4.2 out of 5 stars</td>\n",
       "    </tr>\n",
       "    <tr>\n",
       "      <th>6</th>\n",
       "      <td>OPPO A31 (Fantasy White, 6GB RAM, 128GB Storag...</td>\n",
       "      <td>12,990</td>\n",
       "      <td>https://m.media-amazon.com/images/I/61CnyJ-IbM...</td>\n",
       "      <td>4.2 out of 5 stars</td>\n",
       "    </tr>\n",
       "    <tr>\n",
       "      <th>7</th>\n",
       "      <td>Redmi 9A (Midnight Black, 2GB RAM, 32GB Storag...</td>\n",
       "      <td>6,999</td>\n",
       "      <td>https://m.media-amazon.com/images/I/71sxlhYhKW...</td>\n",
       "      <td>4.3 out of 5 stars</td>\n",
       "    </tr>\n",
       "    <tr>\n",
       "      <th>8</th>\n",
       "      <td>Redmi 9 (Carbon Black, 4GB RAM, 64GB Storage) ...</td>\n",
       "      <td>9,499</td>\n",
       "      <td>https://m.media-amazon.com/images/I/716nHhG9SW...</td>\n",
       "      <td>4.2 out of 5 stars</td>\n",
       "    </tr>\n",
       "    <tr>\n",
       "      <th>9</th>\n",
       "      <td>OPPO A74 5G (Fantastic Purple,6GB RAM,128GB St...</td>\n",
       "      <td>17,990</td>\n",
       "      <td>https://m.media-amazon.com/images/I/71geVdy6-O...</td>\n",
       "      <td>4.2 out of 5 stars</td>\n",
       "    </tr>\n",
       "    <tr>\n",
       "      <th>10</th>\n",
       "      <td>Redmi 9 Prime (Matte Black, 4GB RAM, 64GB Stor...</td>\n",
       "      <td>10,499</td>\n",
       "      <td>https://m.media-amazon.com/images/I/71U2SiHgbi...</td>\n",
       "      <td>4.3 out of 5 stars</td>\n",
       "    </tr>\n",
       "    <tr>\n",
       "      <th>11</th>\n",
       "      <td>Redmi 9A (Sea Blue 2GB RAM 32GB Storage) | 2GH...</td>\n",
       "      <td>6,999</td>\n",
       "      <td>https://m.media-amazon.com/images/I/71sxlhYhKW...</td>\n",
       "      <td>4.2 out of 5 stars</td>\n",
       "    </tr>\n",
       "    <tr>\n",
       "      <th>12</th>\n",
       "      <td>Redmi Note 10 Pro (Vintage Bronze, 6GB RAM, 12...</td>\n",
       "      <td>17,999</td>\n",
       "      <td>https://m.media-amazon.com/images/I/81aQWPoGdO...</td>\n",
       "      <td>4.2 out of 5 stars</td>\n",
       "    </tr>\n",
       "    <tr>\n",
       "      <th>13</th>\n",
       "      <td>OPPO A31 (Fantasy White, 4GB RAM, 64GB Storage...</td>\n",
       "      <td>11,490</td>\n",
       "      <td>https://m.media-amazon.com/images/I/61CnyJ-IbM...</td>\n",
       "      <td>4.2 out of 5 stars</td>\n",
       "    </tr>\n",
       "    <tr>\n",
       "      <th>14</th>\n",
       "      <td>Samsung Galaxy M32 (Light Blue, 6GB RAM, 128GB...</td>\n",
       "      <td>16,999</td>\n",
       "      <td>https://m.media-amazon.com/images/I/71F4jU7MRU...</td>\n",
       "      <td>4.2 out of 5 stars</td>\n",
       "    </tr>\n",
       "    <tr>\n",
       "      <th>15</th>\n",
       "      <td>Tecno Spark 7T(Jewel Blue, 4GB RAM, 64GB Stora...</td>\n",
       "      <td>9,499</td>\n",
       "      <td>https://m.media-amazon.com/images/I/81aWyRY67S...</td>\n",
       "      <td>4.0 out of 5 stars</td>\n",
       "    </tr>\n",
       "    <tr>\n",
       "      <th>16</th>\n",
       "      <td>OPPO A31 (Mystery Black, 6GB RAM, 128GB Storag...</td>\n",
       "      <td>12,990</td>\n",
       "      <td>https://m.media-amazon.com/images/I/71KCwNV6Mu...</td>\n",
       "      <td>4.2 out of 5 stars</td>\n",
       "    </tr>\n",
       "    <tr>\n",
       "      <th>17</th>\n",
       "      <td>realme C11 (2021) (Cool Grey, 2GB RAM, 32GB St...</td>\n",
       "      <td>7,299</td>\n",
       "      <td>https://m.media-amazon.com/images/I/618UBhFmaQ...</td>\n",
       "      <td>4.1 out of 5 stars</td>\n",
       "    </tr>\n",
       "    <tr>\n",
       "      <th>18</th>\n",
       "      <td>Samsung Galaxy M21 2021 Edition (Charcoal blac...</td>\n",
       "      <td>14,999</td>\n",
       "      <td>https://m.media-amazon.com/images/I/712+A5mH44...</td>\n",
       "      <td>4.2 out of 5 stars</td>\n",
       "    </tr>\n",
       "  </tbody>\n",
       "</table>\n",
       "</div>"
      ],
      "text/plain": [
       "                                         Product Name   Price  \\\n",
       "0   iQOO Z3 5G (Ace Black, 6GB RAM, 128GB Storage)...  19,990   \n",
       "1   Redmi 9A (Nature Green, 2GB RAM, 32GB Storage)...   6,999   \n",
       "2   Redmi 9 Power (Mighty Black, 6GB RAM, 128GB St...  13,499   \n",
       "3   Redmi 9 (Sky Blue, 4GB RAM, 64GB Storage) | 2....   9,499   \n",
       "4   Samsung Galaxy M31 (Ocean Blue, 8GB RAM, 128GB...  16,999   \n",
       "5   OPPO A74 5G (Fantastic Purple,6GB RAM,128GB St...  17,990   \n",
       "6   OPPO A31 (Fantasy White, 6GB RAM, 128GB Storag...  12,990   \n",
       "7   Redmi 9A (Midnight Black, 2GB RAM, 32GB Storag...   6,999   \n",
       "8   Redmi 9 (Carbon Black, 4GB RAM, 64GB Storage) ...   9,499   \n",
       "9   OPPO A74 5G (Fantastic Purple,6GB RAM,128GB St...  17,990   \n",
       "10  Redmi 9 Prime (Matte Black, 4GB RAM, 64GB Stor...  10,499   \n",
       "11  Redmi 9A (Sea Blue 2GB RAM 32GB Storage) | 2GH...   6,999   \n",
       "12  Redmi Note 10 Pro (Vintage Bronze, 6GB RAM, 12...  17,999   \n",
       "13  OPPO A31 (Fantasy White, 4GB RAM, 64GB Storage...  11,490   \n",
       "14  Samsung Galaxy M32 (Light Blue, 6GB RAM, 128GB...  16,999   \n",
       "15  Tecno Spark 7T(Jewel Blue, 4GB RAM, 64GB Stora...   9,499   \n",
       "16  OPPO A31 (Mystery Black, 6GB RAM, 128GB Storag...  12,990   \n",
       "17  realme C11 (2021) (Cool Grey, 2GB RAM, 32GB St...   7,299   \n",
       "18  Samsung Galaxy M21 2021 Edition (Charcoal blac...  14,999   \n",
       "\n",
       "                                            Image url              Rating  \n",
       "0   https://m.media-amazon.com/images/I/61uIgwiP90...  4.3 out of 5 stars  \n",
       "1   https://m.media-amazon.com/images/I/71sxlhYhKW...  4.2 out of 5 stars  \n",
       "2   https://m.media-amazon.com/images/I/61LHaUOheh...  4.2 out of 5 stars  \n",
       "3   https://m.media-amazon.com/images/I/71A9Vo1Bat...  4.2 out of 5 stars  \n",
       "4   https://m.media-amazon.com/images/I/71-Su4Wr0H...  4.2 out of 5 stars  \n",
       "5   https://m.media-amazon.com/images/I/71geVdy6-O...  4.2 out of 5 stars  \n",
       "6   https://m.media-amazon.com/images/I/61CnyJ-IbM...  4.2 out of 5 stars  \n",
       "7   https://m.media-amazon.com/images/I/71sxlhYhKW...  4.3 out of 5 stars  \n",
       "8   https://m.media-amazon.com/images/I/716nHhG9SW...  4.2 out of 5 stars  \n",
       "9   https://m.media-amazon.com/images/I/71geVdy6-O...  4.2 out of 5 stars  \n",
       "10  https://m.media-amazon.com/images/I/71U2SiHgbi...  4.3 out of 5 stars  \n",
       "11  https://m.media-amazon.com/images/I/71sxlhYhKW...  4.2 out of 5 stars  \n",
       "12  https://m.media-amazon.com/images/I/81aQWPoGdO...  4.2 out of 5 stars  \n",
       "13  https://m.media-amazon.com/images/I/61CnyJ-IbM...  4.2 out of 5 stars  \n",
       "14  https://m.media-amazon.com/images/I/71F4jU7MRU...  4.2 out of 5 stars  \n",
       "15  https://m.media-amazon.com/images/I/81aWyRY67S...  4.0 out of 5 stars  \n",
       "16  https://m.media-amazon.com/images/I/71KCwNV6Mu...  4.2 out of 5 stars  \n",
       "17  https://m.media-amazon.com/images/I/618UBhFmaQ...  4.1 out of 5 stars  \n",
       "18  https://m.media-amazon.com/images/I/712+A5mH44...  4.2 out of 5 stars  "
      ]
     },
     "execution_count": 84,
     "metadata": {},
     "output_type": "execute_result"
    }
   ],
   "source": [
    "job"
   ]
  },
  {
   "cell_type": "code",
   "execution_count": null,
   "id": "8436c9cd",
   "metadata": {},
   "outputs": [],
   "source": []
  }
 ],
 "metadata": {
  "kernelspec": {
   "display_name": "Python 3",
   "language": "python",
   "name": "python3"
  },
  "language_info": {
   "codemirror_mode": {
    "name": "ipython",
    "version": 3
   },
   "file_extension": ".py",
   "mimetype": "text/x-python",
   "name": "python",
   "nbconvert_exporter": "python",
   "pygments_lexer": "ipython3",
   "version": "3.8.8"
  }
 },
 "nbformat": 4,
 "nbformat_minor": 5
}
