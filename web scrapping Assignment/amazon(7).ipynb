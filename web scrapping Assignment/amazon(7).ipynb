{
 "cells": [
  {
   "cell_type": "markdown",
   "id": "8a16947a",
   "metadata": {},
   "source": [
    "### Write a python program to scrape details of all the mobile phones under Rs. 20,000 listed on Amazon.in. \n",
    "The scraped data should include Product Name, Price, Image URL and Average Rating"
   ]
  },
  {
   "cell_type": "code",
   "execution_count": 55,
   "id": "e457f882",
   "metadata": {},
   "outputs": [],
   "source": [
    "import bs4\n",
    "import requests \n",
    "from bs4 import BeautifulSoup"
   ]
  },
  {
   "cell_type": "code",
   "execution_count": 56,
   "id": "4aff99f4",
   "metadata": {},
   "outputs": [],
   "source": [
    "page=requests.get(\"https://www.amazon.in/s?k=mobiles+under+20000rs&crid=1HC4EX67HNKEK&sprefix=mobiles+under+20000%2Caps%2C356&ref=nb_sb_ss_ts-doa-p_1_19\")"
   ]
  },
  {
   "cell_type": "code",
   "execution_count": 57,
   "id": "66dec028",
   "metadata": {},
   "outputs": [
    {
     "data": {
      "text/plain": [
       "<Response [503]>"
      ]
     },
     "execution_count": 57,
     "metadata": {},
     "output_type": "execute_result"
    }
   ],
   "source": [
    "page"
   ]
  },
  {
   "cell_type": "code",
   "execution_count": 58,
   "id": "1cd28587",
   "metadata": {},
   "outputs": [],
   "source": [
    "### user agent switching to change the response"
   ]
  },
  {
   "cell_type": "code",
   "execution_count": 59,
   "id": "c33c8d93",
   "metadata": {},
   "outputs": [],
   "source": [
    "header={\"User-Agent\":\"Mozilla/5.0 (Windows NT 10.0; Win64; x64) AppleWebKit/537.36 (KHTML, like Gecko) Chrome/93.0.4577.82 Safari/537.36\"}"
   ]
  },
  {
   "cell_type": "code",
   "execution_count": 60,
   "id": "150f91f9",
   "metadata": {},
   "outputs": [],
   "source": [
    "page=requests.get(\"https://www.amazon.in/s?k=mobiles+under+20000rs&crid=1HC4EX67HNKEK&sprefix=mobiles+under+20000%2Caps%2C356&ref=nb_sb_ss_ts-doa-p_1_19\",headers=header)"
   ]
  },
  {
   "cell_type": "code",
   "execution_count": 61,
   "id": "bd9e5aab",
   "metadata": {},
   "outputs": [
    {
     "data": {
      "text/plain": [
       "<Response [200]>"
      ]
     },
     "execution_count": 61,
     "metadata": {},
     "output_type": "execute_result"
    }
   ],
   "source": [
    "page"
   ]
  },
  {
   "cell_type": "code",
   "execution_count": null,
   "id": "cbf1a65f",
   "metadata": {},
   "outputs": [],
   "source": [
    "page.content"
   ]
  },
  {
   "cell_type": "code",
   "execution_count": null,
   "id": "89566471",
   "metadata": {},
   "outputs": [],
   "source": [
    "soup=BeautifulSoup(page.content)"
   ]
  },
  {
   "cell_type": "code",
   "execution_count": null,
   "id": "dc1e13a0",
   "metadata": {},
   "outputs": [],
   "source": [
    "soup"
   ]
  },
  {
   "cell_type": "code",
   "execution_count": null,
   "id": "41acf019",
   "metadata": {},
   "outputs": [],
   "source": [
    "print(soup.prettify())"
   ]
  },
  {
   "cell_type": "code",
   "execution_count": null,
   "id": "79caf5f2",
   "metadata": {},
   "outputs": [],
   "source": [
    "name=soup.find_all(\"span\",class_=\"a-size-medium a-color-base a-text-normal\")\n",
    "name"
   ]
  },
  {
   "cell_type": "code",
   "execution_count": null,
   "id": "5a6b7916",
   "metadata": {},
   "outputs": [],
   "source": [
    "names=[]\n",
    "for i in name:\n",
    "    names.append(i.text)"
   ]
  },
  {
   "cell_type": "code",
   "execution_count": null,
   "id": "596f96e5",
   "metadata": {},
   "outputs": [],
   "source": [
    "names"
   ]
  },
  {
   "cell_type": "code",
   "execution_count": null,
   "id": "5e4a87f6",
   "metadata": {},
   "outputs": [],
   "source": [
    "len(names)"
   ]
  },
  {
   "cell_type": "code",
   "execution_count": null,
   "id": "d51d77fd",
   "metadata": {},
   "outputs": [],
   "source": [
    "price=soup.find_all(\"span\",class_=\"a-price-whole\")\n",
    "price"
   ]
  },
  {
   "cell_type": "code",
   "execution_count": null,
   "id": "71de5878",
   "metadata": {},
   "outputs": [],
   "source": [
    "prices=[]\n",
    "for i in price:\n",
    "    prices.append(i.text)"
   ]
  },
  {
   "cell_type": "code",
   "execution_count": null,
   "id": "deb080a3",
   "metadata": {},
   "outputs": [],
   "source": [
    "prices"
   ]
  },
  {
   "cell_type": "code",
   "execution_count": null,
   "id": "ada8f572",
   "metadata": {},
   "outputs": [],
   "source": [
    "len(prices)"
   ]
  },
  {
   "cell_type": "code",
   "execution_count": null,
   "id": "433eae32",
   "metadata": {},
   "outputs": [],
   "source": [
    "avgrat=soup.find_all(\"span\",class_=\"a-icon-alt\")\n",
    "avgrat"
   ]
  },
  {
   "cell_type": "code",
   "execution_count": null,
   "id": "5f22620d",
   "metadata": {},
   "outputs": [],
   "source": [
    "rating=[]\n",
    "for i in avgrat:\n",
    "    rating.append(i.text)"
   ]
  },
  {
   "cell_type": "code",
   "execution_count": null,
   "id": "54598768",
   "metadata": {},
   "outputs": [],
   "source": [
    "rating"
   ]
  },
  {
   "cell_type": "code",
   "execution_count": null,
   "id": "386ad7e8",
   "metadata": {},
   "outputs": [],
   "source": [
    "len(rating)"
   ]
  },
  {
   "cell_type": "code",
   "execution_count": null,
   "id": "5c25fa11",
   "metadata": {},
   "outputs": [],
   "source": [
    "rating=rating[0:-4]"
   ]
  },
  {
   "cell_type": "code",
   "execution_count": null,
   "id": "4bef47cb",
   "metadata": {},
   "outputs": [],
   "source": [
    "len(rating)"
   ]
  },
  {
   "cell_type": "code",
   "execution_count": null,
   "id": "c5d97c46",
   "metadata": {},
   "outputs": [],
   "source": [
    "url=soup.find_all(\"div\",class_=\"a-section aok-relative s-image-fixed-height\")\n",
    "url"
   ]
  },
  {
   "cell_type": "code",
   "execution_count": null,
   "id": "ae38f63b",
   "metadata": {},
   "outputs": [],
   "source": [
    "urls=[]\n",
    "for i in url:\n",
    "    for j in i.find_all(\"img\",src=True):\n",
    "        urls.append(j[\"src\"])"
   ]
  },
  {
   "cell_type": "code",
   "execution_count": null,
   "id": "67be7eaf",
   "metadata": {},
   "outputs": [],
   "source": [
    "urls"
   ]
  },
  {
   "cell_type": "code",
   "execution_count": null,
   "id": "10143ef8",
   "metadata": {},
   "outputs": [],
   "source": [
    "len(urls)"
   ]
  },
  {
   "cell_type": "code",
   "execution_count": null,
   "id": "523da45d",
   "metadata": {},
   "outputs": [],
   "source": [
    "import pandas as pd\n",
    "job=pd.DataFrame({})\n",
    "job[\"Product Name\"]=names\n",
    "job[\"Price\"]=prices\n",
    "job[\"Image url\"]=urls\n",
    "job[\"Rating\"]=rating"
   ]
  },
  {
   "cell_type": "code",
   "execution_count": null,
   "id": "00a76c65",
   "metadata": {},
   "outputs": [],
   "source": [
    "job"
   ]
  },
  {
   "cell_type": "code",
   "execution_count": null,
   "id": "8436c9cd",
   "metadata": {},
   "outputs": [],
   "source": []
  }
 ],
 "metadata": {
  "kernelspec": {
   "display_name": "Python 3",
   "language": "python",
   "name": "python3"
  },
  "language_info": {
   "codemirror_mode": {
    "name": "ipython",
    "version": 3
   },
   "file_extension": ".py",
   "mimetype": "text/x-python",
   "name": "python",
   "nbconvert_exporter": "python",
   "pygments_lexer": "ipython3",
   "version": "3.8.8"
  }
 },
 "nbformat": 4,
 "nbformat_minor": 5
}
