{
 "cells": [
  {
   "cell_type": "markdown",
   "id": "c9db12f1",
   "metadata": {},
   "source": [
    "### Write a python program to scrape house details from https://www.nobroker.in/ for any location. \n",
    "It should include house title, location, area, emi and price"
   ]
  },
  {
   "cell_type": "code",
   "execution_count": null,
   "id": "7587c9a4",
   "metadata": {},
   "outputs": [],
   "source": [
    "import bs4\n",
    "import requests\n",
    "from bs4 import BeautifulSoup"
   ]
  },
  {
   "cell_type": "code",
   "execution_count": null,
   "id": "d5583cc9",
   "metadata": {},
   "outputs": [],
   "source": [
    "page=requests.get(\"https://www.nobroker.in/property/sale/pune/multiple?searchParam=W3sibGF0IjoxOC41ODA3NzE5LCJsb24iOjczLjk3ODcwNjMsInBsYWNlSWQiOiJDaElKZF9qZW40SER3anNSNEVzMVg1Zy1HZFEiLCJwbGFjZU5hbWUiOiJXYWdob2xpIn0seyJsYXQiOjE4LjU1MzgyNDEsImxvbiI6NzMuOTQ3NjY4OSwicGxhY2VJZCI6IkNoSUpsYVNMS01QRHdqc1JTZ0JqT21FejZEZyIsInBsYWNlTmFtZSI6IktoYXJhZGkifSx7ImxhdCI6MTguNTE1ODA1NywibG9uIjo3My45MjcxNjQ0LCJwbGFjZUlkIjoiQ2hJSlRVWFRQNDNCd2pzUnhOQ2dDQkJycmpnIiwicGxhY2VOYW1lIjoiTWFnYXJwYXR0YSJ9XQ==&radius=2.0&type=BHK2&propertyAge=0\")"
   ]
  },
  {
   "cell_type": "code",
   "execution_count": null,
   "id": "066136a4",
   "metadata": {},
   "outputs": [],
   "source": [
    "page"
   ]
  },
  {
   "cell_type": "code",
   "execution_count": null,
   "id": "4a151ea8",
   "metadata": {},
   "outputs": [],
   "source": [
    "page.content"
   ]
  },
  {
   "cell_type": "code",
   "execution_count": null,
   "id": "3e45e53b",
   "metadata": {},
   "outputs": [],
   "source": [
    "soup=BeautifulSoup(page.content)\n",
    "soup"
   ]
  },
  {
   "cell_type": "code",
   "execution_count": null,
   "id": "f90e3837",
   "metadata": {},
   "outputs": [],
   "source": [
    "print(soup.prettify())"
   ]
  },
  {
   "cell_type": "code",
   "execution_count": null,
   "id": "95394a83",
   "metadata": {},
   "outputs": [],
   "source": [
    "title=soup.find_all(\"a\",class_=\"nb__3CnI6\")\n",
    "title"
   ]
  },
  {
   "cell_type": "code",
   "execution_count": null,
   "id": "afa878ea",
   "metadata": {},
   "outputs": [],
   "source": [
    "titles=[]\n",
    "for i in title:\n",
    "    titles.append(i.text)\n",
    "titles"
   ]
  },
  {
   "cell_type": "code",
   "execution_count": null,
   "id": "6be9723c",
   "metadata": {},
   "outputs": [],
   "source": [
    "location=soup.find_all(\"div\",class_=\"nb__2CMjv\")\n",
    "location"
   ]
  },
  {
   "cell_type": "code",
   "execution_count": null,
   "id": "348f3bac",
   "metadata": {},
   "outputs": [],
   "source": [
    "locationq=[]\n",
    "for i in location:\n",
    "    locationq.append(i.text)"
   ]
  },
  {
   "cell_type": "code",
   "execution_count": null,
   "id": "bddb1a3b",
   "metadata": {},
   "outputs": [],
   "source": [
    "locationq"
   ]
  },
  {
   "cell_type": "code",
   "execution_count": null,
   "id": "86c6aee0",
   "metadata": {},
   "outputs": [],
   "source": [
    "area=soup.find_all(\"div\",class_=\"nb__3oNyC\")\n",
    "area"
   ]
  },
  {
   "cell_type": "code",
   "execution_count": null,
   "id": "7c2e5b03",
   "metadata": {},
   "outputs": [],
   "source": [
    "areaf=[]\n",
    "for i in area:\n",
    "    areaf.append(i.text)"
   ]
  },
  {
   "cell_type": "code",
   "execution_count": null,
   "id": "03deb6d4",
   "metadata": {},
   "outputs": [],
   "source": [
    "areaf"
   ]
  },
  {
   "cell_type": "code",
   "execution_count": null,
   "id": "91f8b52c",
   "metadata": {},
   "outputs": [],
   "source": [
    "price=soup.find_all(\"div\",class_=\"nb__2NPHR\")\n"
   ]
  },
  {
   "cell_type": "code",
   "execution_count": null,
   "id": "f0feed3d",
   "metadata": {},
   "outputs": [],
   "source": [
    "price"
   ]
  },
  {
   "cell_type": "code",
   "execution_count": null,
   "id": "2032d831",
   "metadata": {},
   "outputs": [],
   "source": [
    "prices=[]\n",
    "for i in price:\n",
    "    prices.append(i.text)"
   ]
  },
  {
   "cell_type": "code",
   "execution_count": null,
   "id": "a4bf06d6",
   "metadata": {},
   "outputs": [],
   "source": [
    "prices"
   ]
  },
  {
   "cell_type": "code",
   "execution_count": null,
   "id": "66c7216a",
   "metadata": {},
   "outputs": [],
   "source": [
    "pricesd=prices[3::4]\n",
    "pricesd"
   ]
  },
  {
   "cell_type": "code",
   "execution_count": null,
   "id": "f77a1cdc",
   "metadata": {},
   "outputs": [],
   "source": [
    "emi=prices[2::4]\n",
    "emi"
   ]
  },
  {
   "cell_type": "code",
   "execution_count": null,
   "id": "93c12517",
   "metadata": {},
   "outputs": [],
   "source": [
    "import pandas as pd\n",
    "jobg=pd.DataFrame({})\n",
    "jobg[\"House Title\"]=titles\n",
    "jobg[\"Location\"]=locationq\n",
    "jobg[\"Area\"]=areaf\n",
    "jobg[\"Price\"]=pricesd\n",
    "jobg[\"Emi/month\"]=emi"
   ]
  },
  {
   "cell_type": "code",
   "execution_count": 67,
   "id": "3e825b35",
   "metadata": {},
   "outputs": [
    {
     "data": {
      "text/html": [
       "<div>\n",
       "<style scoped>\n",
       "    .dataframe tbody tr th:only-of-type {\n",
       "        vertical-align: middle;\n",
       "    }\n",
       "\n",
       "    .dataframe tbody tr th {\n",
       "        vertical-align: top;\n",
       "    }\n",
       "\n",
       "    .dataframe thead th {\n",
       "        text-align: right;\n",
       "    }\n",
       "</style>\n",
       "<table border=\"1\" class=\"dataframe\">\n",
       "  <thead>\n",
       "    <tr style=\"text-align: right;\">\n",
       "      <th></th>\n",
       "      <th>House Title</th>\n",
       "      <th>Location</th>\n",
       "      <th>Area</th>\n",
       "      <th>Price</th>\n",
       "      <th>Emi/month</th>\n",
       "    </tr>\n",
       "  </thead>\n",
       "  <tbody>\n",
       "    <tr>\n",
       "      <th>0</th>\n",
       "      <td>2 BHK Flat  For Sale  In Gagan Micasaa In Wagh...</td>\n",
       "      <td>Opp. Ayurvedic College, Kesnand Road, Wagholi...</td>\n",
       "      <td>820 sqft</td>\n",
       "      <td>₹56 Lacs₹6,829 per sq.ft.</td>\n",
       "      <td>₹32,096/MonthEstimated EMI</td>\n",
       "    </tr>\n",
       "    <tr>\n",
       "      <th>1</th>\n",
       "      <td>2 BHK Apartment  For Sale  In Magarpatta Jasmi...</td>\n",
       "      <td>Magarpatta Jasminium  Magarpatta City, Hadapsa...</td>\n",
       "      <td>1,170 sqft</td>\n",
       "      <td>₹90 Lacs₹7,692 per sq.ft.</td>\n",
       "      <td>₹51,583/MonthEstimated EMI</td>\n",
       "    </tr>\n",
       "    <tr>\n",
       "      <th>2</th>\n",
       "      <td>2 BHK Flat  For Sale  In Bora Ville In Kharadi</td>\n",
       "      <td>Near Bypass, Chandan Nagar, Kharadi, Pune, Mah...</td>\n",
       "      <td>970 sqft</td>\n",
       "      <td>₹65 Lacs₹6,701 per sq.ft.</td>\n",
       "      <td>₹37,254/MonthEstimated EMI</td>\n",
       "    </tr>\n",
       "    <tr>\n",
       "      <th>3</th>\n",
       "      <td>2 BHK Apartment  For Sale  In Majestique City,...</td>\n",
       "      <td>Majestique City, Wagholi  Opposite Lexicon Sch...</td>\n",
       "      <td>916 sqft</td>\n",
       "      <td>₹46 Lacs₹5,022 per sq.ft.</td>\n",
       "      <td>₹26,364/MonthEstimated EMI</td>\n",
       "    </tr>\n",
       "    <tr>\n",
       "      <th>4</th>\n",
       "      <td>2 BHK Flat  For Sale  In Marvel Fria In Wagholi</td>\n",
       "      <td>Marvel Fria Rd, Wagholi, Pune, Maharashtra</td>\n",
       "      <td>1,255 sqft</td>\n",
       "      <td>₹70 Lacs₹5,578 per sq.ft.</td>\n",
       "      <td>₹40,120/MonthEstimated EMI</td>\n",
       "    </tr>\n",
       "    <tr>\n",
       "      <th>5</th>\n",
       "      <td>2 BHK Apartment  For Sale  In Kolte Patil Down...</td>\n",
       "      <td>Kolte Patil Downtown Langston  Kharadi, Pune, ...</td>\n",
       "      <td>1,176 sqft</td>\n",
       "      <td>₹85 Lacs₹7,228 per sq.ft.</td>\n",
       "      <td>₹48,717/MonthEstimated EMI</td>\n",
       "    </tr>\n",
       "    <tr>\n",
       "      <th>6</th>\n",
       "      <td>2 BHK Flat  For Sale  In Gulmohar Symphony In ...</td>\n",
       "      <td>Kharadi, Pune-411014, Maharashtra, INDIA.</td>\n",
       "      <td>1,018 sqft</td>\n",
       "      <td>₹72 Lacs₹7,073 per sq.ft.</td>\n",
       "      <td>₹41,266/MonthEstimated EMI</td>\n",
       "    </tr>\n",
       "    <tr>\n",
       "      <th>7</th>\n",
       "      <td>2 BHK Flat  For Sale  In Umang Primo In Wagholi</td>\n",
       "      <td>Umang Primo, IVY estate township, Ivy estate ...</td>\n",
       "      <td>990 sqft</td>\n",
       "      <td>₹52 Lacs₹5,253 per sq.ft.</td>\n",
       "      <td>₹29,803/MonthEstimated EMI</td>\n",
       "    </tr>\n",
       "    <tr>\n",
       "      <th>8</th>\n",
       "      <td>2 BHK Flat  For Sale  In Maple Woodz In Wagholi</td>\n",
       "      <td>Lexicon international school wagholi parking, ...</td>\n",
       "      <td>860 sqft</td>\n",
       "      <td>₹34 Lacs₹3,953 per sq.ft.</td>\n",
       "      <td>₹19,486/MonthEstimated EMI</td>\n",
       "    </tr>\n",
       "    <tr>\n",
       "      <th>9</th>\n",
       "      <td>2 BHK Apartment  For Sale  In Gulmohar City In...</td>\n",
       "      <td>Gulmohar City  Rakshak Nagar, Kharadi, Pune, M...</td>\n",
       "      <td>878 sqft</td>\n",
       "      <td>₹61 Lacs₹6,948 per sq.ft.</td>\n",
       "      <td>₹34,961/MonthEstimated EMI</td>\n",
       "    </tr>\n",
       "  </tbody>\n",
       "</table>\n",
       "</div>"
      ],
      "text/plain": [
       "                                         House Title  \\\n",
       "0  2 BHK Flat  For Sale  In Gagan Micasaa In Wagh...   \n",
       "1  2 BHK Apartment  For Sale  In Magarpatta Jasmi...   \n",
       "2    2 BHK Flat  For Sale  In Bora Ville In Kharadi    \n",
       "3  2 BHK Apartment  For Sale  In Majestique City,...   \n",
       "4   2 BHK Flat  For Sale  In Marvel Fria In Wagholi    \n",
       "5  2 BHK Apartment  For Sale  In Kolte Patil Down...   \n",
       "6  2 BHK Flat  For Sale  In Gulmohar Symphony In ...   \n",
       "7   2 BHK Flat  For Sale  In Umang Primo In Wagholi    \n",
       "8   2 BHK Flat  For Sale  In Maple Woodz In Wagholi    \n",
       "9  2 BHK Apartment  For Sale  In Gulmohar City In...   \n",
       "\n",
       "                                            Location        Area  \\\n",
       "0   Opp. Ayurvedic College, Kesnand Road, Wagholi...    820 sqft   \n",
       "1  Magarpatta Jasminium  Magarpatta City, Hadapsa...  1,170 sqft   \n",
       "2  Near Bypass, Chandan Nagar, Kharadi, Pune, Mah...    970 sqft   \n",
       "3  Majestique City, Wagholi  Opposite Lexicon Sch...    916 sqft   \n",
       "4         Marvel Fria Rd, Wagholi, Pune, Maharashtra  1,255 sqft   \n",
       "5  Kolte Patil Downtown Langston  Kharadi, Pune, ...  1,176 sqft   \n",
       "6       Kharadi, Pune-411014, Maharashtra, INDIA.     1,018 sqft   \n",
       "7   Umang Primo, IVY estate township, Ivy estate ...    990 sqft   \n",
       "8  Lexicon international school wagholi parking, ...    860 sqft   \n",
       "9  Gulmohar City  Rakshak Nagar, Kharadi, Pune, M...    878 sqft   \n",
       "\n",
       "                       Price                   Emi/month  \n",
       "0  ₹56 Lacs₹6,829 per sq.ft.  ₹32,096/MonthEstimated EMI  \n",
       "1  ₹90 Lacs₹7,692 per sq.ft.  ₹51,583/MonthEstimated EMI  \n",
       "2  ₹65 Lacs₹6,701 per sq.ft.  ₹37,254/MonthEstimated EMI  \n",
       "3  ₹46 Lacs₹5,022 per sq.ft.  ₹26,364/MonthEstimated EMI  \n",
       "4  ₹70 Lacs₹5,578 per sq.ft.  ₹40,120/MonthEstimated EMI  \n",
       "5  ₹85 Lacs₹7,228 per sq.ft.  ₹48,717/MonthEstimated EMI  \n",
       "6  ₹72 Lacs₹7,073 per sq.ft.  ₹41,266/MonthEstimated EMI  \n",
       "7  ₹52 Lacs₹5,253 per sq.ft.  ₹29,803/MonthEstimated EMI  \n",
       "8  ₹34 Lacs₹3,953 per sq.ft.  ₹19,486/MonthEstimated EMI  \n",
       "9  ₹61 Lacs₹6,948 per sq.ft.  ₹34,961/MonthEstimated EMI  "
      ]
     },
     "execution_count": 67,
     "metadata": {},
     "output_type": "execute_result"
    }
   ],
   "source": [
    "jobg"
   ]
  },
  {
   "cell_type": "code",
   "execution_count": null,
   "id": "29e9bd54",
   "metadata": {},
   "outputs": [],
   "source": []
  }
 ],
 "metadata": {
  "kernelspec": {
   "display_name": "Python 3",
   "language": "python",
   "name": "python3"
  },
  "language_info": {
   "codemirror_mode": {
    "name": "ipython",
    "version": 3
   },
   "file_extension": ".py",
   "mimetype": "text/x-python",
   "name": "python",
   "nbconvert_exporter": "python",
   "pygments_lexer": "ipython3",
   "version": "3.8.8"
  }
 },
 "nbformat": 4,
 "nbformat_minor": 5
}
