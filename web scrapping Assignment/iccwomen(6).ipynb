{
 "cells": [
  {
   "cell_type": "markdown",
   "id": "d2db46a7",
   "metadata": {},
   "source": [
    "### Top 10 women’s ODI all-rounder along with the records of their team and rating"
   ]
  },
  {
   "cell_type": "code",
   "execution_count": null,
   "id": "595b07b5",
   "metadata": {},
   "outputs": [],
   "source": [
    "import bs4\n",
    "from bs4 import BeautifulSoup\n",
    "import requests"
   ]
  },
  {
   "cell_type": "code",
   "execution_count": null,
   "id": "57cc8014",
   "metadata": {},
   "outputs": [],
   "source": [
    "page=requests.get(\"https://www.icc-cricket.com/rankings/womens/player-rankings/odi/all-rounder\")\n",
    "page"
   ]
  },
  {
   "cell_type": "code",
   "execution_count": null,
   "id": "506eedf9",
   "metadata": {},
   "outputs": [],
   "source": [
    "page.content"
   ]
  },
  {
   "cell_type": "code",
   "execution_count": null,
   "id": "44c74d72",
   "metadata": {},
   "outputs": [],
   "source": [
    "soup=BeautifulSoup(page.content)"
   ]
  },
  {
   "cell_type": "code",
   "execution_count": null,
   "id": "ef61a276",
   "metadata": {},
   "outputs": [],
   "source": [
    "soup"
   ]
  },
  {
   "cell_type": "code",
   "execution_count": null,
   "id": "ed00fc8d",
   "metadata": {},
   "outputs": [],
   "source": [
    "print(soup.prettify())"
   ]
  },
  {
   "cell_type": "code",
   "execution_count": null,
   "id": "45d7ee26",
   "metadata": {},
   "outputs": [],
   "source": [
    "new=soup.find_all(\"div\",class_=\"rankings-block__container full\")"
   ]
  },
  {
   "cell_type": "code",
   "execution_count": null,
   "id": "fc0c2cbb",
   "metadata": {},
   "outputs": [],
   "source": [
    "new"
   ]
  },
  {
   "cell_type": "code",
   "execution_count": null,
   "id": "584f4b80",
   "metadata": {},
   "outputs": [],
   "source": [
    "name=[]\n",
    "for i in new:\n",
    "    for j in i.find_all(\"a\"):\n",
    "        name.append(j.text.replace(\"\\n\",\" \"))"
   ]
  },
  {
   "cell_type": "code",
   "execution_count": null,
   "id": "de68ea12",
   "metadata": {},
   "outputs": [],
   "source": [
    "name"
   ]
  },
  {
   "cell_type": "code",
   "execution_count": null,
   "id": "7bddf1e7",
   "metadata": {},
   "outputs": [],
   "source": [
    "name=name[1:11]\n",
    "name"
   ]
  },
  {
   "cell_type": "code",
   "execution_count": null,
   "id": "2cd6ea7c",
   "metadata": {},
   "outputs": [],
   "source": [
    "team=soup.find_all(\"div\",class_=\"rankings-block__container full\")\n",
    "team"
   ]
  },
  {
   "cell_type": "code",
   "execution_count": null,
   "id": "b2e7e34e",
   "metadata": {},
   "outputs": [],
   "source": [
    "teams=[]\n",
    "for i in team:\n",
    "    for j in i.find_all(\"div\",class_=\"rankings-block__banner--nationality\"):\n",
    "        teams.append(j.text.strip().replace(\"\\n\",\" \"))\n",
    "        for k in i.find_all(\"span\",class_=\"table-body__logo-text\"):\n",
    "            teams.append(k.text)"
   ]
  },
  {
   "cell_type": "code",
   "execution_count": null,
   "id": "106c68ee",
   "metadata": {},
   "outputs": [],
   "source": [
    "teams"
   ]
  },
  {
   "cell_type": "code",
   "execution_count": null,
   "id": "93e760da",
   "metadata": {},
   "outputs": [],
   "source": [
    "teams=teams[0:10]\n",
    "teams"
   ]
  },
  {
   "cell_type": "code",
   "execution_count": null,
   "id": "cd426f9d",
   "metadata": {},
   "outputs": [],
   "source": [
    "rank=soup.find_all(\"div\",class_=\"rankings-block__container full\")\n",
    "rank"
   ]
  },
  {
   "cell_type": "code",
   "execution_count": null,
   "id": "eebbb24f",
   "metadata": {},
   "outputs": [],
   "source": [
    "ranking=[]\n",
    "for i in rank:\n",
    "    for j in i.find_all(\"div\",class_=\"rankings-block__banner--rating\"):\n",
    "        ranking.append(j.text)\n",
    "        for k in i.find_all(\"td\",class_=\"table-body__cell rating\"):\n",
    "            ranking.append(k.text)"
   ]
  },
  {
   "cell_type": "code",
   "execution_count": null,
   "id": "051bc555",
   "metadata": {},
   "outputs": [],
   "source": [
    "ranking"
   ]
  },
  {
   "cell_type": "code",
   "execution_count": null,
   "id": "05fbf54c",
   "metadata": {},
   "outputs": [],
   "source": [
    "ranking=ranking[0:10]\n",
    "ranking"
   ]
  },
  {
   "cell_type": "code",
   "execution_count": null,
   "id": "2b614750",
   "metadata": {},
   "outputs": [],
   "source": [
    "import pandas as pd\n",
    "job=pd.DataFrame({})\n",
    "job[\"Name\"]=name\n",
    "job[\"Team\"]=teams\n",
    "job[\"Rank\"]=ranking"
   ]
  },
  {
   "cell_type": "code",
   "execution_count": 65,
   "id": "e931a5ba",
   "metadata": {},
   "outputs": [
    {
     "data": {
      "text/html": [
       "<div>\n",
       "<style scoped>\n",
       "    .dataframe tbody tr th:only-of-type {\n",
       "        vertical-align: middle;\n",
       "    }\n",
       "\n",
       "    .dataframe tbody tr th {\n",
       "        vertical-align: top;\n",
       "    }\n",
       "\n",
       "    .dataframe thead th {\n",
       "        text-align: right;\n",
       "    }\n",
       "</style>\n",
       "<table border=\"1\" class=\"dataframe\">\n",
       "  <thead>\n",
       "    <tr style=\"text-align: right;\">\n",
       "      <th></th>\n",
       "      <th>Name</th>\n",
       "      <th>Team</th>\n",
       "      <th>Rank</th>\n",
       "    </tr>\n",
       "  </thead>\n",
       "  <tbody>\n",
       "    <tr>\n",
       "      <th>0</th>\n",
       "      <td>Ellyse Perry</td>\n",
       "      <td>AUS</td>\n",
       "      <td>418</td>\n",
       "    </tr>\n",
       "    <tr>\n",
       "      <th>1</th>\n",
       "      <td>Marizanne Kapp</td>\n",
       "      <td>SA</td>\n",
       "      <td>384</td>\n",
       "    </tr>\n",
       "    <tr>\n",
       "      <th>2</th>\n",
       "      <td>Natalie Sciver</td>\n",
       "      <td>ENG</td>\n",
       "      <td>380</td>\n",
       "    </tr>\n",
       "    <tr>\n",
       "      <th>3</th>\n",
       "      <td>Deepti Sharma</td>\n",
       "      <td>IND</td>\n",
       "      <td>331</td>\n",
       "    </tr>\n",
       "    <tr>\n",
       "      <th>4</th>\n",
       "      <td>Stafanie Taylor</td>\n",
       "      <td>WI</td>\n",
       "      <td>322</td>\n",
       "    </tr>\n",
       "    <tr>\n",
       "      <th>5</th>\n",
       "      <td>Jess Jonassen</td>\n",
       "      <td>AUS</td>\n",
       "      <td>307</td>\n",
       "    </tr>\n",
       "    <tr>\n",
       "      <th>6</th>\n",
       "      <td>Dane van Niekerk</td>\n",
       "      <td>SA</td>\n",
       "      <td>274</td>\n",
       "    </tr>\n",
       "    <tr>\n",
       "      <th>7</th>\n",
       "      <td>Sophie Devine</td>\n",
       "      <td>NZ</td>\n",
       "      <td>254</td>\n",
       "    </tr>\n",
       "    <tr>\n",
       "      <th>8</th>\n",
       "      <td>Katherine Brunt</td>\n",
       "      <td>ENG</td>\n",
       "      <td>254</td>\n",
       "    </tr>\n",
       "    <tr>\n",
       "      <th>9</th>\n",
       "      <td>Ashleigh Gardner</td>\n",
       "      <td>AUS</td>\n",
       "      <td>252</td>\n",
       "    </tr>\n",
       "  </tbody>\n",
       "</table>\n",
       "</div>"
      ],
      "text/plain": [
       "               Name Team Rank\n",
       "0      Ellyse Perry  AUS  418\n",
       "1    Marizanne Kapp   SA  384\n",
       "2    Natalie Sciver  ENG  380\n",
       "3     Deepti Sharma  IND  331\n",
       "4   Stafanie Taylor   WI  322\n",
       "5     Jess Jonassen  AUS  307\n",
       "6  Dane van Niekerk   SA  274\n",
       "7     Sophie Devine   NZ  254\n",
       "8   Katherine Brunt  ENG  254\n",
       "9  Ashleigh Gardner  AUS  252"
      ]
     },
     "execution_count": 65,
     "metadata": {},
     "output_type": "execute_result"
    }
   ],
   "source": [
    "job"
   ]
  },
  {
   "cell_type": "markdown",
   "id": "1c8c6973",
   "metadata": {},
   "source": [
    "### Top 10 ODI teams in women’s cricket along with the records for matches, points and rating"
   ]
  },
  {
   "cell_type": "code",
   "execution_count": null,
   "id": "9ebdc939",
   "metadata": {},
   "outputs": [],
   "source": [
    "page=requests.get(\"https://www.icc-cricket.com/rankings/womens/team-rankings/odi\")\n",
    "page"
   ]
  },
  {
   "cell_type": "code",
   "execution_count": null,
   "id": "95f1f8be",
   "metadata": {},
   "outputs": [],
   "source": [
    "page.content"
   ]
  },
  {
   "cell_type": "code",
   "execution_count": null,
   "id": "b82e0efb",
   "metadata": {},
   "outputs": [],
   "source": [
    "soup=BeautifulSoup(page.content)"
   ]
  },
  {
   "cell_type": "code",
   "execution_count": null,
   "id": "22c32ffe",
   "metadata": {},
   "outputs": [],
   "source": [
    "soup"
   ]
  },
  {
   "cell_type": "code",
   "execution_count": null,
   "id": "b309d867",
   "metadata": {},
   "outputs": [],
   "source": [
    "print(soup.prettify())"
   ]
  },
  {
   "cell_type": "code",
   "execution_count": null,
   "id": "dfe2e980",
   "metadata": {},
   "outputs": [],
   "source": [
    "names1=soup.find_all(\"div\",class_=\"rankings-block__container full rankings-table\")\n",
    "names1"
   ]
  },
  {
   "cell_type": "code",
   "execution_count": null,
   "id": "a960aaff",
   "metadata": {},
   "outputs": [],
   "source": [
    "names2=[]\n",
    "for i in names1:\n",
    "    for j in i.find_all(\"span\",class_=\"u-hide-phablet\"):\n",
    "        names2.append(j.text)"
   ]
  },
  {
   "cell_type": "code",
   "execution_count": null,
   "id": "becf5d1d",
   "metadata": {},
   "outputs": [],
   "source": [
    "names2"
   ]
  },
  {
   "cell_type": "code",
   "execution_count": null,
   "id": "df3e4feb",
   "metadata": {},
   "outputs": [],
   "source": [
    "match=soup.find_all(\"div\",class_=\"rankings-block__container full rankings-table\")\n",
    "match"
   ]
  },
  {
   "cell_type": "code",
   "execution_count": null,
   "id": "98803ef6",
   "metadata": {},
   "outputs": [],
   "source": [
    "matches=[]\n",
    "li=[]\n",
    "\n",
    "for i in match:\n",
    "    for j in i.find_all(\"td\",class_=\"rankings-block__banner--matches\"):\n",
    "        matches.append(j.text)\n",
    "        for m in i.find_all(\"td\",class_=\"rankings-block__banner--points\"):\n",
    "            li.append(m.text)\n",
    "            for k in i.find_all(\"td\",class_=\"table-body__cell u-center-text\"):\n",
    "                li.append(k.text)"
   ]
  },
  {
   "cell_type": "code",
   "execution_count": null,
   "id": "41496480",
   "metadata": {},
   "outputs": [],
   "source": [
    "li"
   ]
  },
  {
   "cell_type": "code",
   "execution_count": null,
   "id": "85419e38",
   "metadata": {},
   "outputs": [],
   "source": [
    "matches1=li[1::2]\n",
    "matches1"
   ]
  },
  {
   "cell_type": "code",
   "execution_count": null,
   "id": "5846ca54",
   "metadata": {},
   "outputs": [],
   "source": [
    "matches.extend(matches1)"
   ]
  },
  {
   "cell_type": "code",
   "execution_count": null,
   "id": "0f91af95",
   "metadata": {},
   "outputs": [],
   "source": [
    "matches"
   ]
  },
  {
   "cell_type": "code",
   "execution_count": null,
   "id": "bdcbc5b0",
   "metadata": {},
   "outputs": [],
   "source": [
    "points=li[::2]"
   ]
  },
  {
   "cell_type": "code",
   "execution_count": null,
   "id": "6dccf530",
   "metadata": {},
   "outputs": [],
   "source": [
    "points"
   ]
  },
  {
   "cell_type": "code",
   "execution_count": null,
   "id": "19d98f3d",
   "metadata": {},
   "outputs": [],
   "source": [
    "rate=soup.find_all(\"div\",class_=\"rankings-block__container full rankings-table\")\n",
    "rate"
   ]
  },
  {
   "cell_type": "code",
   "execution_count": null,
   "id": "4a36b774",
   "metadata": {},
   "outputs": [],
   "source": [
    "rate1=[]\n",
    "for i in rate:\n",
    "    for j in i.find_all(\"td\",class_=\"rankings-block__banner--rating u-text-right\"):\n",
    "        rate1.append(j.text.strip().replace(\"\\n\",\" \"))\n",
    "        for k in i.find_all(\"td\",class_=\"table-body__cell u-text-right rating\"):\n",
    "            rate1.append(k.text)"
   ]
  },
  {
   "cell_type": "code",
   "execution_count": null,
   "id": "590a8a5b",
   "metadata": {},
   "outputs": [],
   "source": [
    "rate1"
   ]
  },
  {
   "cell_type": "code",
   "execution_count": null,
   "id": "f5d7fd54",
   "metadata": {},
   "outputs": [],
   "source": [
    "jobf=pd.DataFrame({})\n",
    "jobf[\"Name\"]=names2\n",
    "jobf[\"Match\"]=matches\n",
    "jobf[\"Points\"]=points\n",
    "jobf[\"Rating\"]=rate1"
   ]
  },
  {
   "cell_type": "code",
   "execution_count": 66,
   "id": "3144007d",
   "metadata": {},
   "outputs": [
    {
     "data": {
      "text/html": [
       "<div>\n",
       "<style scoped>\n",
       "    .dataframe tbody tr th:only-of-type {\n",
       "        vertical-align: middle;\n",
       "    }\n",
       "\n",
       "    .dataframe tbody tr th {\n",
       "        vertical-align: top;\n",
       "    }\n",
       "\n",
       "    .dataframe thead th {\n",
       "        text-align: right;\n",
       "    }\n",
       "</style>\n",
       "<table border=\"1\" class=\"dataframe\">\n",
       "  <thead>\n",
       "    <tr style=\"text-align: right;\">\n",
       "      <th></th>\n",
       "      <th>Name</th>\n",
       "      <th>Match</th>\n",
       "      <th>Points</th>\n",
       "      <th>Rating</th>\n",
       "    </tr>\n",
       "  </thead>\n",
       "  <tbody>\n",
       "    <tr>\n",
       "      <th>0</th>\n",
       "      <td>Australia</td>\n",
       "      <td>19</td>\n",
       "      <td>3,129</td>\n",
       "      <td>165</td>\n",
       "    </tr>\n",
       "    <tr>\n",
       "      <th>1</th>\n",
       "      <td>England</td>\n",
       "      <td>24</td>\n",
       "      <td>2,840</td>\n",
       "      <td>118</td>\n",
       "    </tr>\n",
       "    <tr>\n",
       "      <th>2</th>\n",
       "      <td>South Africa</td>\n",
       "      <td>29</td>\n",
       "      <td>3,390</td>\n",
       "      <td>117</td>\n",
       "    </tr>\n",
       "    <tr>\n",
       "      <th>3</th>\n",
       "      <td>India</td>\n",
       "      <td>24</td>\n",
       "      <td>2,635</td>\n",
       "      <td>110</td>\n",
       "    </tr>\n",
       "    <tr>\n",
       "      <th>4</th>\n",
       "      <td>New Zealand</td>\n",
       "      <td>25</td>\n",
       "      <td>2,324</td>\n",
       "      <td>93</td>\n",
       "    </tr>\n",
       "    <tr>\n",
       "      <th>5</th>\n",
       "      <td>West Indies</td>\n",
       "      <td>22</td>\n",
       "      <td>1,872</td>\n",
       "      <td>85</td>\n",
       "    </tr>\n",
       "    <tr>\n",
       "      <th>6</th>\n",
       "      <td>Pakistan</td>\n",
       "      <td>20</td>\n",
       "      <td>1,496</td>\n",
       "      <td>75</td>\n",
       "    </tr>\n",
       "    <tr>\n",
       "      <th>7</th>\n",
       "      <td>Bangladesh</td>\n",
       "      <td>5</td>\n",
       "      <td>306</td>\n",
       "      <td>61</td>\n",
       "    </tr>\n",
       "    <tr>\n",
       "      <th>8</th>\n",
       "      <td>Sri Lanka</td>\n",
       "      <td>11</td>\n",
       "      <td>519</td>\n",
       "      <td>47</td>\n",
       "    </tr>\n",
       "    <tr>\n",
       "      <th>9</th>\n",
       "      <td>Ireland</td>\n",
       "      <td>2</td>\n",
       "      <td>25</td>\n",
       "      <td>13</td>\n",
       "    </tr>\n",
       "  </tbody>\n",
       "</table>\n",
       "</div>"
      ],
      "text/plain": [
       "           Name Match Points Rating\n",
       "0     Australia    19  3,129    165\n",
       "1       England    24  2,840    118\n",
       "2  South Africa    29  3,390    117\n",
       "3         India    24  2,635    110\n",
       "4   New Zealand    25  2,324     93\n",
       "5   West Indies    22  1,872     85\n",
       "6      Pakistan    20  1,496     75\n",
       "7    Bangladesh     5    306     61\n",
       "8     Sri Lanka    11    519     47\n",
       "9       Ireland     2     25     13"
      ]
     },
     "execution_count": 66,
     "metadata": {},
     "output_type": "execute_result"
    }
   ],
   "source": [
    "jobf"
   ]
  },
  {
   "cell_type": "markdown",
   "id": "764c6494",
   "metadata": {},
   "source": [
    "### Top 10 women’s ODI players along with the records of their team and rating."
   ]
  },
  {
   "cell_type": "code",
   "execution_count": null,
   "id": "ef5d1168",
   "metadata": {},
   "outputs": [],
   "source": [
    "page=requests.get(\"https://www.icc-cricket.com/rankings/womens/player-rankings/odi/batting\")\n",
    "page"
   ]
  },
  {
   "cell_type": "code",
   "execution_count": null,
   "id": "2177b477",
   "metadata": {},
   "outputs": [],
   "source": [
    "page.content"
   ]
  },
  {
   "cell_type": "code",
   "execution_count": null,
   "id": "3055991f",
   "metadata": {},
   "outputs": [],
   "source": [
    "soup=BeautifulSoup(page.content)"
   ]
  },
  {
   "cell_type": "code",
   "execution_count": null,
   "id": "826c1f37",
   "metadata": {},
   "outputs": [],
   "source": [
    "soup"
   ]
  },
  {
   "cell_type": "code",
   "execution_count": null,
   "id": "07bb501d",
   "metadata": {},
   "outputs": [],
   "source": [
    "print(soup.prettify())"
   ]
  },
  {
   "cell_type": "code",
   "execution_count": null,
   "id": "4b497686",
   "metadata": {},
   "outputs": [],
   "source": [
    "name3=soup.find_all(\"div\",class_=\"rankings-block__container full\")\n",
    "name3"
   ]
  },
  {
   "cell_type": "code",
   "execution_count": null,
   "id": "5610d7d4",
   "metadata": {},
   "outputs": [],
   "source": [
    "name4=[]\n",
    "for i in name3:\n",
    "    for j in i.find_all(\"a\"):\n",
    "        name4.append(j.text.replace(\"\\n\",\" \"))"
   ]
  },
  {
   "cell_type": "code",
   "execution_count": null,
   "id": "0b80bef3",
   "metadata": {},
   "outputs": [],
   "source": [
    "name4"
   ]
  },
  {
   "cell_type": "code",
   "execution_count": null,
   "id": "7763f8e0",
   "metadata": {},
   "outputs": [],
   "source": [
    "namef=name4[1:11]"
   ]
  },
  {
   "cell_type": "code",
   "execution_count": null,
   "id": "206c82d3",
   "metadata": {},
   "outputs": [],
   "source": [
    "namef"
   ]
  },
  {
   "cell_type": "code",
   "execution_count": null,
   "id": "acc33e47",
   "metadata": {},
   "outputs": [],
   "source": [
    "team5=soup.find_all(\"div\",class_=\"rankings-block__container full\")\n",
    "team5"
   ]
  },
  {
   "cell_type": "code",
   "execution_count": null,
   "id": "9e54309a",
   "metadata": {},
   "outputs": [],
   "source": [
    "teamsf=[]\n",
    "for i in team5:\n",
    "    for j in i.find_all(\"div\",class_=\"rankings-block__banner--nationality\"):\n",
    "        teamsf.append(j.text.strip().replace(\"\\n\",\" \"))\n",
    "        for k in i.find_all(\"span\",class_=\"table-body__logo-text\"):\n",
    "            teamsf.append(k.text)"
   ]
  },
  {
   "cell_type": "code",
   "execution_count": null,
   "id": "6608f1eb",
   "metadata": {},
   "outputs": [],
   "source": [
    "teamsf"
   ]
  },
  {
   "cell_type": "code",
   "execution_count": null,
   "id": "c8413be5",
   "metadata": {},
   "outputs": [],
   "source": [
    "teamsf=teamsf[0:10]"
   ]
  },
  {
   "cell_type": "code",
   "execution_count": null,
   "id": "0ff2811b",
   "metadata": {},
   "outputs": [],
   "source": [
    "teamsf"
   ]
  },
  {
   "cell_type": "code",
   "execution_count": null,
   "id": "f0d93596",
   "metadata": {},
   "outputs": [],
   "source": [
    "ratq=soup.find_all(\"div\",class_=\"rankings-block__container full\")\n",
    "ratq"
   ]
  },
  {
   "cell_type": "code",
   "execution_count": null,
   "id": "29da3a19",
   "metadata": {},
   "outputs": [],
   "source": [
    "ratew=[]\n",
    "for i in ratq:\n",
    "    for j in i.find_all(\"div\",class_=\"rankings-block__banner--rating\"):\n",
    "        ratew.append(j.text)\n",
    "        for k in i.find_all(\"td\",class_=\"table-body__cell rating\"):\n",
    "            ratew.append(k.text)"
   ]
  },
  {
   "cell_type": "code",
   "execution_count": null,
   "id": "1f1d59d5",
   "metadata": {},
   "outputs": [],
   "source": [
    "ratew"
   ]
  },
  {
   "cell_type": "code",
   "execution_count": null,
   "id": "ad50089f",
   "metadata": {},
   "outputs": [],
   "source": [
    "ratew=ratew[0:10]"
   ]
  },
  {
   "cell_type": "code",
   "execution_count": null,
   "id": "8e8305c3",
   "metadata": {},
   "outputs": [],
   "source": [
    "ratew"
   ]
  },
  {
   "cell_type": "code",
   "execution_count": null,
   "id": "3da66b87",
   "metadata": {},
   "outputs": [],
   "source": [
    "jobbh=pd.DataFrame({})\n",
    "jobbh[\"Name\"]=namef\n",
    "jobbh[\"Team\"]=teamsf\n",
    "jobbh[\"Rating\"]=ratew"
   ]
  },
  {
   "cell_type": "code",
   "execution_count": 67,
   "id": "9f0f038b",
   "metadata": {},
   "outputs": [
    {
     "data": {
      "text/html": [
       "<div>\n",
       "<style scoped>\n",
       "    .dataframe tbody tr th:only-of-type {\n",
       "        vertical-align: middle;\n",
       "    }\n",
       "\n",
       "    .dataframe tbody tr th {\n",
       "        vertical-align: top;\n",
       "    }\n",
       "\n",
       "    .dataframe thead th {\n",
       "        text-align: right;\n",
       "    }\n",
       "</style>\n",
       "<table border=\"1\" class=\"dataframe\">\n",
       "  <thead>\n",
       "    <tr style=\"text-align: right;\">\n",
       "      <th></th>\n",
       "      <th>Name</th>\n",
       "      <th>Team</th>\n",
       "      <th>Rating</th>\n",
       "    </tr>\n",
       "  </thead>\n",
       "  <tbody>\n",
       "    <tr>\n",
       "      <th>0</th>\n",
       "      <td>Mithali Raj</td>\n",
       "      <td>IND</td>\n",
       "      <td>762</td>\n",
       "    </tr>\n",
       "    <tr>\n",
       "      <th>1</th>\n",
       "      <td>Lizelle Lee</td>\n",
       "      <td>SA</td>\n",
       "      <td>761</td>\n",
       "    </tr>\n",
       "    <tr>\n",
       "      <th>2</th>\n",
       "      <td>Alyssa Healy</td>\n",
       "      <td>AUS</td>\n",
       "      <td>756</td>\n",
       "    </tr>\n",
       "    <tr>\n",
       "      <th>3</th>\n",
       "      <td>Tammy Beaumont</td>\n",
       "      <td>ENG</td>\n",
       "      <td>740</td>\n",
       "    </tr>\n",
       "    <tr>\n",
       "      <th>4</th>\n",
       "      <td>Amy Satterthwaite</td>\n",
       "      <td>NZ</td>\n",
       "      <td>726</td>\n",
       "    </tr>\n",
       "    <tr>\n",
       "      <th>5</th>\n",
       "      <td>Meg Lanning</td>\n",
       "      <td>AUS</td>\n",
       "      <td>723</td>\n",
       "    </tr>\n",
       "    <tr>\n",
       "      <th>6</th>\n",
       "      <td>Smriti Mandhana</td>\n",
       "      <td>IND</td>\n",
       "      <td>701</td>\n",
       "    </tr>\n",
       "    <tr>\n",
       "      <th>7</th>\n",
       "      <td>Ellyse Perry</td>\n",
       "      <td>AUS</td>\n",
       "      <td>679</td>\n",
       "    </tr>\n",
       "    <tr>\n",
       "      <th>8</th>\n",
       "      <td>Laura Wolvaardt</td>\n",
       "      <td>SA</td>\n",
       "      <td>672</td>\n",
       "    </tr>\n",
       "    <tr>\n",
       "      <th>9</th>\n",
       "      <td>Natalie Sciver</td>\n",
       "      <td>ENG</td>\n",
       "      <td>672</td>\n",
       "    </tr>\n",
       "  </tbody>\n",
       "</table>\n",
       "</div>"
      ],
      "text/plain": [
       "                Name Team Rating\n",
       "0        Mithali Raj  IND    762\n",
       "1        Lizelle Lee   SA    761\n",
       "2       Alyssa Healy  AUS    756\n",
       "3     Tammy Beaumont  ENG    740\n",
       "4  Amy Satterthwaite   NZ    726\n",
       "5        Meg Lanning  AUS    723\n",
       "6    Smriti Mandhana  IND    701\n",
       "7       Ellyse Perry  AUS    679\n",
       "8    Laura Wolvaardt   SA    672\n",
       "9     Natalie Sciver  ENG    672"
      ]
     },
     "execution_count": 67,
     "metadata": {},
     "output_type": "execute_result"
    }
   ],
   "source": [
    "jobbh"
   ]
  },
  {
   "cell_type": "code",
   "execution_count": null,
   "id": "e744d498",
   "metadata": {},
   "outputs": [],
   "source": []
  }
 ],
 "metadata": {
  "kernelspec": {
   "display_name": "Python 3",
   "language": "python",
   "name": "python3"
  },
  "language_info": {
   "codemirror_mode": {
    "name": "ipython",
    "version": 3
   },
   "file_extension": ".py",
   "mimetype": "text/x-python",
   "name": "python",
   "nbconvert_exporter": "python",
   "pygments_lexer": "ipython3",
   "version": "3.8.8"
  }
 },
 "nbformat": 4,
 "nbformat_minor": 5
}
